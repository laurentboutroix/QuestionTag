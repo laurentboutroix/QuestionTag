{
 "cells": [
  {
   "cell_type": "markdown",
   "id": "d1762f2a-af12-4a68-981b-cec56b029565",
   "metadata": {},
   "source": [
    "# Projet 5 : Catégorisez automatiquement des questions\n",
    "Étudiant BOUTROIX Laurent parcours Ingénieur Machine Learning"
   ]
  },
  {
   "cell_type": "markdown",
   "id": "85831ab5-c7f5-4de7-a1f9-573bba03ede7",
   "metadata": {},
   "source": [
    "## Un Énoncé :\n",
    "Amateur de Stack Overflow, qui vous a souvent sauvé la mise, vous décidez d'aider la communauté en retour. Pour cela, vous développez un système de suggestion de tag pour le site. Celui-ci prendra la forme d’un algorithme de machine learning qui assigne automatiquement plusieurs tags pertinents à une question.\n",
    "\n",
    "## Des Contraintes :\n",
    "Mettre en œuvre une approche non supervisée.\n",
    "Utiliser une approche supervisée ou non pour extraire des tags à partir des résultats précédents.\n",
    "Comparer ses résultats à une approche purement supervisée, après avoir appliqué des méthodes d’extraction de features spécifiques des données textuelles.\n",
    "Mettre en place une méthode d’évaluation propre, avec une séparation du jeu de données pour l’évaluation.\n",
    "Pour suivre les modifications du code final à déployer, utiliser un logiciel de gestion de versions, par exemple Git.\n",
    "\n",
    "## Une Problématique :\n",
    "Mettre en place un algorithme de machine learning qui assigne automatiquement plusieurs tags pertinents à une question.\n",
    "\n",
    "## Hypothèse Générale :\n",
    "Pouvons-nous mettre en place un algorithme de machine learning qui assigne automatiquement plusieurs tags pertinents à une question ?\n",
    "\n",
    "## Hypothèses Secondaires :\n",
    "Pouvons-nous mettre en place une méthode d’évaluation propre, avec une séparation du jeu de données pour l’évaluation ?\n",
    "\n",
    "Pouvons-nous déployer le code final pour le mettre à la dispostion de la communauté ?\n"
   ]
  },
  {
   "cell_type": "markdown",
   "id": "c4457487-ae5d-4eea-bab6-d8c2d94eb508",
   "metadata": {},
   "source": [
    "## Partie 2 : Tests des différents modèles."
   ]
  },
  {
   "cell_type": "markdown",
   "id": "9952c9d1-5841-46b5-b40c-567454d1e089",
   "metadata": {},
   "source": [
    "### Installation des dépendances :"
   ]
  },
  {
   "cell_type": "code",
   "execution_count": 1,
   "id": "1aa3160a-f0a0-47dc-8f52-93810139f62e",
   "metadata": {},
   "outputs": [],
   "source": [
    "# pip install pyldavis"
   ]
  },
  {
   "cell_type": "markdown",
   "id": "03e1f51c-5c65-4a5b-9dae-4da81328f89d",
   "metadata": {},
   "source": [
    "### Importation des dépendances :"
   ]
  },
  {
   "cell_type": "code",
   "execution_count": 2,
   "id": "1619d270-e443-46fb-9721-093552463c43",
   "metadata": {},
   "outputs": [
    {
     "name": "stderr",
     "output_type": "stream",
     "text": [
      "C:\\Users\\laure\\anaconda3\\lib\\site-packages\\scipy\\sparse\\sparsetools.py:21: DeprecationWarning: `scipy.sparse.sparsetools` is deprecated!\n",
      "scipy.sparse.sparsetools is a private module for scipy.sparse, and should not be used.\n",
      "  _deprecated()\n"
     ]
    }
   ],
   "source": [
    "import pandas as pd\n",
    "import numpy as np\n",
    "import matplotlib.pyplot as plt\n",
    "%matplotlib inline\n",
    "import seaborn as sns\n",
    "from math import ceil,sqrt,floor\n",
    "from pprint import pprint\n",
    "\n",
    "import random\n",
    "\n",
    "import joblib\n",
    "\n",
    "from ast import literal_eval\n",
    "\n",
    "from PIL import Image\n",
    "import dataframe_image as dfi\n",
    "\n",
    "import datetime as dt\n",
    "from datetime import date,timedelta\n",
    "import time\n",
    "\n",
    "#Preprocessing\n",
    "from sklearn.feature_extraction.text import TfidfVectorizer\n",
    "from sklearn.preprocessing import MultiLabelBinarizer\n",
    "from sklearn.model_selection import train_test_split\n",
    "\n",
    "#LDA\n",
    "from sklearn.decomposition import LatentDirichletAllocation as LDA\n",
    "\n",
    "#Dimension reduction\n",
    "from sklearn.decomposition import PCA\n",
    "from sklearn import decomposition\n",
    "import matplotlib.cm as cm\n",
    "\n",
    "#pyLDAvis\n",
    "import pyLDAvis\n",
    "import pyLDAvis.gensim_models\n",
    "import pyLDAvis.sklearn\n",
    "pyLDAvis.enable_notebook()\n",
    "\n",
    "#gensim\n",
    "import gensim\n",
    "import gensim.corpora as corpora\n",
    "from gensim.models import CoherenceModel\n",
    "from gensim.utils import simple_preprocess\n",
    "\n",
    "# Enable logging for gensim - optional\n",
    "import logging\n",
    "logging.basicConfig(format='%(asctime)s : %(levelname)s : %(message)s', level=logging.ERROR)\n",
    "\n",
    "\n",
    "#Supervisée\n",
    "from sklearn.datasets import make_multilabel_classification\n",
    "from sklearn.multioutput import MultiOutputClassifier\n",
    "from sklearn.neighbors import KNeighborsClassifier\n",
    "from sklearn.multiclass import OneVsRestClassifier\n",
    "from sklearn.multioutput import ClassifierChain\n",
    "\n",
    "#models\n",
    "from sklearn.svm import LinearSVC\n",
    "from sklearn.ensemble import RandomForestClassifier, GradientBoostingClassifier\n",
    "from sklearn.linear_model import Perceptron, LogisticRegression, SGDClassifier\n",
    "from sklearn.naive_bayes import MultinomialNB, ComplementNB\n",
    "\n",
    "#metrics\n",
    "#from sklearn.metrics import metrics\n",
    "import sklearn.metrics as metrics\n",
    "\n",
    "#GridSearchCV\n",
    "from sklearn.pipeline import Pipeline\n",
    "from sklearn.model_selection import GridSearchCV\n",
    "from sklearn import model_selection\n",
    "from sklearn.metrics import make_scorer\n",
    "\n",
    "import warnings\n",
    "warnings.filterwarnings(\"ignore\",category=DeprecationWarning)\n",
    "warnings.filterwarnings(\"ignore\")"
   ]
  },
  {
   "cell_type": "code",
   "execution_count": 3,
   "id": "ec987130",
   "metadata": {},
   "outputs": [],
   "source": [
    "random.seed(5)"
   ]
  },
  {
   "cell_type": "code",
   "execution_count": 4,
   "id": "a56abe1b",
   "metadata": {},
   "outputs": [],
   "source": [
    "start_dr1 = time.process_time()"
   ]
  },
  {
   "cell_type": "markdown",
   "id": "c9905db9-6791-4ea1-8d9e-165ac90aca7d",
   "metadata": {},
   "source": [
    "### Importation de la base de données résultantes de la première partie :"
   ]
  },
  {
   "cell_type": "code",
   "execution_count": 5,
   "id": "776b6131-eac0-4f2b-9dea-7054316c13ac",
   "metadata": {},
   "outputs": [],
   "source": [
    "df = pd.read_csv(\"./dfP05modelisation.csv\", converters={\"tag_tok\": literal_eval, \"question_lemtokcl\": literal_eval})\n",
    "df = df.drop(df.columns[[0]], axis=1)"
   ]
  },
  {
   "cell_type": "markdown",
   "id": "caf1c4f7-6424-40d0-86f4-01a28915436a",
   "metadata": {},
   "source": [
    "### Définition des fonctions :"
   ]
  },
  {
   "cell_type": "markdown",
   "id": "9fae3f9f",
   "metadata": {},
   "source": [
    "##### Définition d'une fonction `display_scree_plot()` qui trace l'éboulis des valeurs propres d'une réduction de dimension PCA."
   ]
  },
  {
   "cell_type": "code",
   "execution_count": 6,
   "id": "3a3dd162",
   "metadata": {},
   "outputs": [],
   "source": [
    "def display_scree_plot(PcA):\n",
    "    scree = PcA.explained_variance_ratio_*100\n",
    "    plt.bar(np.arange(len(scree))+1, scree)\n",
    "    plt.plot(np.arange(len(scree))+1, scree.cumsum(),c=\"red\",marker='o')\n",
    "    plt.axhline(y=95,color='green',linestyle='--', label = 'Inertie = 95%')\n",
    "    plt.axhline(y=80,color='green',linestyle='--', label = 'Inertie = 80%')\n",
    "    plt.xlabel(\"rang de l'axe d'inertie\")\n",
    "    plt.ylabel(\"pourcentage d'inertie\")\n",
    "    plt.title(\"Eboulis des valeurs propres\")\n",
    "    plt.legend()\n",
    "    plt.show(block=False)"
   ]
  },
  {
   "cell_type": "markdown",
   "id": "61d96f8a",
   "metadata": {},
   "source": [
    "##### Définition d'une fonction `print_topics()` qui affiche les topics déterminés par le modèle choisi."
   ]
  },
  {
   "cell_type": "code",
   "execution_count": 7,
   "id": "d20ec96e",
   "metadata": {},
   "outputs": [],
   "source": [
    "def print_topics(model, count_vectorizer, n_top_words):\n",
    "    words = count_vectorizer.get_feature_names()\n",
    "    for topic_idx, topic in enumerate(model.components_):\n",
    "        print(\"\\nTopic #%d:\" % topic_idx)\n",
    "        print(\" \".join([words[i] for i in topic.argsort()[:-n_top_words - 1:-1]]))"
   ]
  },
  {
   "cell_type": "markdown",
   "id": "1aab6376",
   "metadata": {},
   "source": [
    "##### Définition d'une fonction `metrics_model()` qui affiche dans un tableau différentes métriques d'un modèle de prédiction."
   ]
  },
  {
   "cell_type": "code",
   "execution_count": 8,
   "id": "16eda081",
   "metadata": {},
   "outputs": [],
   "source": [
    "def metric_model(model_name, y_test, y_pred, time):   \n",
    "    \n",
    "    accuracy = metrics.accuracy_score(y_test, y_pred)\n",
    "    score = metrics.f1_score(y_pred, y_test, average='weighted')\n",
    "    jaccard = metrics.jaccard_score(y_test, y_pred, average='weighted')\n",
    "    recall = metrics.recall_score(y_test, y_pred, average='weighted')\n",
    "    precision = metrics.precision_score(y_test, y_pred, average='weighted')\n",
    "\n",
    "    tab = pd.DataFrame({\"Accuracy\": [accuracy],\"F1\": [score],\"Jaccard\": [jaccard],\"Recall\": [recall],\"Precision\": [precision],\"Run Time\": [time]}, index=[model_name])\n",
    "    tab.style.set_properties()\n",
    "         \n",
    "    return(tab)"
   ]
  },
  {
   "cell_type": "markdown",
   "id": "3ac60d42-44c3-4911-9db3-402006e4b79b",
   "metadata": {},
   "source": [
    "### Inspection de df :"
   ]
  },
  {
   "cell_type": "code",
   "execution_count": 9,
   "id": "9bc0e91e-b742-4726-8416-2fdd6f2a6199",
   "metadata": {},
   "outputs": [
    {
     "data": {
      "text/html": [
       "<div>\n",
       "<style scoped>\n",
       "    .dataframe tbody tr th:only-of-type {\n",
       "        vertical-align: middle;\n",
       "    }\n",
       "\n",
       "    .dataframe tbody tr th {\n",
       "        vertical-align: top;\n",
       "    }\n",
       "\n",
       "    .dataframe thead th {\n",
       "        text-align: right;\n",
       "    }\n",
       "</style>\n",
       "<table border=\"1\" class=\"dataframe\">\n",
       "  <thead>\n",
       "    <tr style=\"text-align: right;\">\n",
       "      <th></th>\n",
       "      <th>Id</th>\n",
       "      <th>CreationDate</th>\n",
       "      <th>Tags</th>\n",
       "      <th>tag</th>\n",
       "      <th>tag_tok</th>\n",
       "      <th>question</th>\n",
       "      <th>question_lemtokcl</th>\n",
       "      <th>nb_w_title</th>\n",
       "      <th>nb_w_body</th>\n",
       "      <th>nb_w_quest</th>\n",
       "      <th>nb_tag</th>\n",
       "      <th>ViewCount</th>\n",
       "      <th>AnswerCount</th>\n",
       "      <th>Score</th>\n",
       "    </tr>\n",
       "  </thead>\n",
       "  <tbody>\n",
       "    <tr>\n",
       "      <th>0</th>\n",
       "      <td>9</td>\n",
       "      <td>2008-07-31 23:40:59</td>\n",
       "      <td>&lt;c#&gt;&lt;.net&gt;&lt;datetime&gt;</td>\n",
       "      <td>csharp  dotnet  datetime</td>\n",
       "      <td>[csharp, dotnet, datetime]</td>\n",
       "      <td>how do i calculate someone's age based on a da...</td>\n",
       "      <td>[calculate, age, base, datetime, type, birthda...</td>\n",
       "      <td>12</td>\n",
       "      <td>15</td>\n",
       "      <td>27</td>\n",
       "      <td>3</td>\n",
       "      <td>716062</td>\n",
       "      <td>69</td>\n",
       "      <td>2081</td>\n",
       "    </tr>\n",
       "    <tr>\n",
       "      <th>1</th>\n",
       "      <td>59</td>\n",
       "      <td>2008-08-01 13:14:33</td>\n",
       "      <td>&lt;c#&gt;&lt;linq&gt;&lt;.net-3.5&gt;</td>\n",
       "      <td>csharp  linq  dotnet 3.5</td>\n",
       "      <td>[csharp, linq, dotnet]</td>\n",
       "      <td>how do i get a distinct, ordered list of names...</td>\n",
       "      <td>[get, distinct, order, list, name, datatable, ...</td>\n",
       "      <td>15</td>\n",
       "      <td>47</td>\n",
       "      <td>62</td>\n",
       "      <td>4</td>\n",
       "      <td>26384</td>\n",
       "      <td>7</td>\n",
       "      <td>112</td>\n",
       "    </tr>\n",
       "    <tr>\n",
       "      <th>2</th>\n",
       "      <td>61</td>\n",
       "      <td>2008-08-01 13:17:20</td>\n",
       "      <td>&lt;mime&gt;&lt;file-type&gt;&lt;office-2007&gt;</td>\n",
       "      <td>mime  file type  office 2007</td>\n",
       "      <td>[mime, file, type, office]</td>\n",
       "      <td>microsoft office 2007 file type, mime types an...</td>\n",
       "      <td>[microsoft, office, file, type, mime, type, id...</td>\n",
       "      <td>10</td>\n",
       "      <td>51</td>\n",
       "      <td>61</td>\n",
       "      <td>5</td>\n",
       "      <td>3892</td>\n",
       "      <td>1</td>\n",
       "      <td>50</td>\n",
       "    </tr>\n",
       "    <tr>\n",
       "      <th>3</th>\n",
       "      <td>126</td>\n",
       "      <td>2008-08-01 16:10:30</td>\n",
       "      <td>&lt;java&gt;&lt;php&gt;&lt;oop&gt;&lt;theory&gt;</td>\n",
       "      <td>java  php  oop  theory</td>\n",
       "      <td>[java, php, oop, theory]</td>\n",
       "      <td>how would you access object properties from wi...</td>\n",
       "      <td>[access, object, property, within, object, met...</td>\n",
       "      <td>11</td>\n",
       "      <td>200</td>\n",
       "      <td>211</td>\n",
       "      <td>4</td>\n",
       "      <td>19903</td>\n",
       "      <td>18</td>\n",
       "      <td>104</td>\n",
       "    </tr>\n",
       "    <tr>\n",
       "      <th>4</th>\n",
       "      <td>263</td>\n",
       "      <td>2008-08-01 23:27:24</td>\n",
       "      <td>&lt;c&gt;&lt;linux&gt;&lt;gtk&gt;&lt;x11&gt;</td>\n",
       "      <td>c  linux  gtk  xeleven</td>\n",
       "      <td>[c, linux, gtk, xeleven]</td>\n",
       "      <td>gtk implementation of messagebox i have been t...</td>\n",
       "      <td>[gtk, implementation, messagebox, try, impleme...</td>\n",
       "      <td>4</td>\n",
       "      <td>174</td>\n",
       "      <td>178</td>\n",
       "      <td>4</td>\n",
       "      <td>10547</td>\n",
       "      <td>3</td>\n",
       "      <td>39</td>\n",
       "    </tr>\n",
       "    <tr>\n",
       "      <th>...</th>\n",
       "      <td>...</td>\n",
       "      <td>...</td>\n",
       "      <td>...</td>\n",
       "      <td>...</td>\n",
       "      <td>...</td>\n",
       "      <td>...</td>\n",
       "      <td>...</td>\n",
       "      <td>...</td>\n",
       "      <td>...</td>\n",
       "      <td>...</td>\n",
       "      <td>...</td>\n",
       "      <td>...</td>\n",
       "      <td>...</td>\n",
       "      <td>...</td>\n",
       "    </tr>\n",
       "    <tr>\n",
       "      <th>35804</th>\n",
       "      <td>70724561</td>\n",
       "      <td>2022-01-15 19:09:20</td>\n",
       "      <td>&lt;python&gt;&lt;numpy&gt;&lt;matrix&gt;</td>\n",
       "      <td>python  numpy  matrix</td>\n",
       "      <td>[python, numpy, matrix]</td>\n",
       "      <td>in a matrix for a given index, how do i check ...</td>\n",
       "      <td>[matrix, give, index, check, neighboring, valu...</td>\n",
       "      <td>20</td>\n",
       "      <td>257</td>\n",
       "      <td>277</td>\n",
       "      <td>3</td>\n",
       "      <td>43</td>\n",
       "      <td>2</td>\n",
       "      <td>3</td>\n",
       "    </tr>\n",
       "    <tr>\n",
       "      <th>35805</th>\n",
       "      <td>70724782</td>\n",
       "      <td>2022-01-15 19:37:46</td>\n",
       "      <td>&lt;javascript&gt;&lt;html&gt;&lt;css&gt;&lt;image&gt;&lt;next.js&gt;</td>\n",
       "      <td>javascript  html  css  image  nextdotjs</td>\n",
       "      <td>[javascript, html, css, image, nextdotjs]</td>\n",
       "      <td>if image is not wide enough, how to make it st...</td>\n",
       "      <td>[image, wide, enough, make, stretch, width, wi...</td>\n",
       "      <td>17</td>\n",
       "      <td>124</td>\n",
       "      <td>141</td>\n",
       "      <td>5</td>\n",
       "      <td>38</td>\n",
       "      <td>1</td>\n",
       "      <td>0</td>\n",
       "    </tr>\n",
       "    <tr>\n",
       "      <th>35806</th>\n",
       "      <td>70725005</td>\n",
       "      <td>2022-01-15 20:05:04</td>\n",
       "      <td>&lt;c++&gt;&lt;stringstream&gt;</td>\n",
       "      <td>c++  stringstream</td>\n",
       "      <td>[c++, stringstream]</td>\n",
       "      <td>declaring stringstream crashes the app in c++ ...</td>\n",
       "      <td>[declare, stringstream, crash, app, c++, proje...</td>\n",
       "      <td>7</td>\n",
       "      <td>133</td>\n",
       "      <td>140</td>\n",
       "      <td>2</td>\n",
       "      <td>40</td>\n",
       "      <td>1</td>\n",
       "      <td>0</td>\n",
       "    </tr>\n",
       "    <tr>\n",
       "      <th>35807</th>\n",
       "      <td>70725976</td>\n",
       "      <td>2022-01-15 22:33:40</td>\n",
       "      <td>&lt;java&gt;&lt;generics&gt;</td>\n",
       "      <td>java  generics</td>\n",
       "      <td>[java, generics]</td>\n",
       "      <td>how to make a reference to a concrete subtype ...</td>\n",
       "      <td>[make, reference, concrete, subtype, abstract,...</td>\n",
       "      <td>14</td>\n",
       "      <td>78</td>\n",
       "      <td>92</td>\n",
       "      <td>2</td>\n",
       "      <td>41</td>\n",
       "      <td>1</td>\n",
       "      <td>0</td>\n",
       "    </tr>\n",
       "    <tr>\n",
       "      <th>35808</th>\n",
       "      <td>70727243</td>\n",
       "      <td>2022-01-16 03:52:02</td>\n",
       "      <td>&lt;javascript&gt;&lt;arrays&gt;&lt;reactjs&gt;</td>\n",
       "      <td>javascript  arrays  reactjs</td>\n",
       "      <td>[javascript, arrays, reactjs]</td>\n",
       "      <td>how to initialize to an empty array if my 'stu...</td>\n",
       "      <td>[initialize, empty, array, student, parameter,...</td>\n",
       "      <td>14</td>\n",
       "      <td>109</td>\n",
       "      <td>123</td>\n",
       "      <td>3</td>\n",
       "      <td>37</td>\n",
       "      <td>2</td>\n",
       "      <td>0</td>\n",
       "    </tr>\n",
       "  </tbody>\n",
       "</table>\n",
       "<p>35809 rows × 14 columns</p>\n",
       "</div>"
      ],
      "text/plain": [
       "             Id         CreationDate                                     Tags  \\\n",
       "0             9  2008-07-31 23:40:59                     <c#><.net><datetime>   \n",
       "1            59  2008-08-01 13:14:33                     <c#><linq><.net-3.5>   \n",
       "2            61  2008-08-01 13:17:20           <mime><file-type><office-2007>   \n",
       "3           126  2008-08-01 16:10:30                 <java><php><oop><theory>   \n",
       "4           263  2008-08-01 23:27:24                     <c><linux><gtk><x11>   \n",
       "...         ...                  ...                                      ...   \n",
       "35804  70724561  2022-01-15 19:09:20                  <python><numpy><matrix>   \n",
       "35805  70724782  2022-01-15 19:37:46  <javascript><html><css><image><next.js>   \n",
       "35806  70725005  2022-01-15 20:05:04                      <c++><stringstream>   \n",
       "35807  70725976  2022-01-15 22:33:40                         <java><generics>   \n",
       "35808  70727243  2022-01-16 03:52:02            <javascript><arrays><reactjs>   \n",
       "\n",
       "                                             tag  \\\n",
       "0                      csharp  dotnet  datetime    \n",
       "1                      csharp  linq  dotnet 3.5    \n",
       "2                  mime  file type  office 2007    \n",
       "3                        java  php  oop  theory    \n",
       "4                        c  linux  gtk  xeleven    \n",
       "...                                          ...   \n",
       "35804                     python  numpy  matrix    \n",
       "35805   javascript  html  css  image  nextdotjs    \n",
       "35806                         c++  stringstream    \n",
       "35807                            java  generics    \n",
       "35808               javascript  arrays  reactjs    \n",
       "\n",
       "                                         tag_tok  \\\n",
       "0                     [csharp, dotnet, datetime]   \n",
       "1                         [csharp, linq, dotnet]   \n",
       "2                     [mime, file, type, office]   \n",
       "3                       [java, php, oop, theory]   \n",
       "4                       [c, linux, gtk, xeleven]   \n",
       "...                                          ...   \n",
       "35804                    [python, numpy, matrix]   \n",
       "35805  [javascript, html, css, image, nextdotjs]   \n",
       "35806                        [c++, stringstream]   \n",
       "35807                           [java, generics]   \n",
       "35808              [javascript, arrays, reactjs]   \n",
       "\n",
       "                                                question  \\\n",
       "0      how do i calculate someone's age based on a da...   \n",
       "1      how do i get a distinct, ordered list of names...   \n",
       "2      microsoft office 2007 file type, mime types an...   \n",
       "3      how would you access object properties from wi...   \n",
       "4      gtk implementation of messagebox i have been t...   \n",
       "...                                                  ...   \n",
       "35804  in a matrix for a given index, how do i check ...   \n",
       "35805  if image is not wide enough, how to make it st...   \n",
       "35806  declaring stringstream crashes the app in c++ ...   \n",
       "35807  how to make a reference to a concrete subtype ...   \n",
       "35808  how to initialize to an empty array if my 'stu...   \n",
       "\n",
       "                                       question_lemtokcl  nb_w_title  \\\n",
       "0      [calculate, age, base, datetime, type, birthda...          12   \n",
       "1      [get, distinct, order, list, name, datatable, ...          15   \n",
       "2      [microsoft, office, file, type, mime, type, id...          10   \n",
       "3      [access, object, property, within, object, met...          11   \n",
       "4      [gtk, implementation, messagebox, try, impleme...           4   \n",
       "...                                                  ...         ...   \n",
       "35804  [matrix, give, index, check, neighboring, valu...          20   \n",
       "35805  [image, wide, enough, make, stretch, width, wi...          17   \n",
       "35806  [declare, stringstream, crash, app, c++, proje...           7   \n",
       "35807  [make, reference, concrete, subtype, abstract,...          14   \n",
       "35808  [initialize, empty, array, student, parameter,...          14   \n",
       "\n",
       "       nb_w_body  nb_w_quest  nb_tag  ViewCount  AnswerCount  Score  \n",
       "0             15          27       3     716062           69   2081  \n",
       "1             47          62       4      26384            7    112  \n",
       "2             51          61       5       3892            1     50  \n",
       "3            200         211       4      19903           18    104  \n",
       "4            174         178       4      10547            3     39  \n",
       "...          ...         ...     ...        ...          ...    ...  \n",
       "35804        257         277       3         43            2      3  \n",
       "35805        124         141       5         38            1      0  \n",
       "35806        133         140       2         40            1      0  \n",
       "35807         78          92       2         41            1      0  \n",
       "35808        109         123       3         37            2      0  \n",
       "\n",
       "[35809 rows x 14 columns]"
      ]
     },
     "execution_count": 9,
     "metadata": {},
     "output_type": "execute_result"
    }
   ],
   "source": [
    "df"
   ]
  },
  {
   "cell_type": "code",
   "execution_count": 10,
   "id": "c34a6de2-f82e-4c1e-98a3-a4769d03890f",
   "metadata": {},
   "outputs": [
    {
     "name": "stdout",
     "output_type": "stream",
     "text": [
      "<class 'pandas.core.frame.DataFrame'>\n",
      "RangeIndex: 35809 entries, 0 to 35808\n",
      "Data columns (total 14 columns):\n",
      " #   Column             Non-Null Count  Dtype \n",
      "---  ------             --------------  ----- \n",
      " 0   Id                 35809 non-null  int64 \n",
      " 1   CreationDate       35809 non-null  object\n",
      " 2   Tags               35809 non-null  object\n",
      " 3   tag                35809 non-null  object\n",
      " 4   tag_tok            35809 non-null  object\n",
      " 5   question           35809 non-null  object\n",
      " 6   question_lemtokcl  35809 non-null  object\n",
      " 7   nb_w_title         35809 non-null  int64 \n",
      " 8   nb_w_body          35809 non-null  int64 \n",
      " 9   nb_w_quest         35809 non-null  int64 \n",
      " 10  nb_tag             35809 non-null  int64 \n",
      " 11  ViewCount          35809 non-null  int64 \n",
      " 12  AnswerCount        35809 non-null  int64 \n",
      " 13  Score              35809 non-null  int64 \n",
      "dtypes: int64(8), object(6)\n",
      "memory usage: 3.8+ MB\n"
     ]
    }
   ],
   "source": [
    "df.info(verbose=True)"
   ]
  },
  {
   "cell_type": "markdown",
   "id": "642275c3-21d8-4494-afc7-5ff47e9d528a",
   "metadata": {},
   "source": [
    "##### Valeurs manquantes de `df` :"
   ]
  },
  {
   "cell_type": "code",
   "execution_count": 11,
   "id": "a3efefd9-48f6-4ed0-bb7a-229eca280042",
   "metadata": {},
   "outputs": [
    {
     "name": "stdout",
     "output_type": "stream",
     "text": [
      "Nb de valeurs manquantes par variables :\n",
      " Id                   0\n",
      "CreationDate         0\n",
      "Tags                 0\n",
      "tag                  0\n",
      "tag_tok              0\n",
      "question             0\n",
      "question_lemtokcl    0\n",
      "nb_w_title           0\n",
      "nb_w_body            0\n",
      "nb_w_quest           0\n",
      "nb_tag               0\n",
      "ViewCount            0\n",
      "AnswerCount          0\n",
      "Score                0\n",
      "dtype: int64 \n",
      "\n"
     ]
    }
   ],
   "source": [
    "print('Nb de valeurs manquantes par variables :\\n' , df.isna().sum(),'\\n')"
   ]
  },
  {
   "cell_type": "markdown",
   "id": "e32355ab",
   "metadata": {},
   "source": [
    "##### Preprocessing: \n",
    "- notre variable explicative `question_lemtokcl` et notre variable cible `tag_tok` ont déjà été néttoyés des caractères spéciaux, tokenisées, lemmatisées et leurs stoppwords ont été rétirés dans la partie 1.\n",
    "\n",
    "###### Variable explicative `question_lemtokcl`, extraction de features avec le modèle Bag-of-Words :\n",
    "- utilisation du module TfidfVectorizer de la librairie Scikit-Learn pour combiner le CountVectorizer et TfidfTransformer afin minimiser la redondance de certains mots en appliquant le modèle du Bag-of-Words tout en créant des n-grams de type (1,2).  \n",
    "\n",
    "###### Variable cible `tag_tok`: \n",
    "-  utilisation de MultiLabelBinarizer de Scikit-Learn pour encoder nos multiples Tags par individus.\n",
    "\n",
    "###### Création des jeux de dataset `train` et `test` pour la variable explicative et la variable cible.\n",
    "\n",
    "\n"
   ]
  },
  {
   "cell_type": "markdown",
   "id": "63564ea4",
   "metadata": {},
   "source": [
    "##### Création des Bags-of-Words de la variable explicative question_lemtokcl`, extraction de features avec le modèle Bag-of-Words :"
   ]
  },
  {
   "cell_type": "code",
   "execution_count": 12,
   "id": "3c184572-3302-4afe-9223-2d38ee9a139a",
   "metadata": {},
   "outputs": [],
   "source": [
    "vectorizer = TfidfVectorizer(\n",
    "    analyzer=\"word\",\n",
    "    max_df=0.75, #ignore terms that have a document frequency strictly higher than 75 %\n",
    "    min_df=0.0058, #ignore terms that have a document frequency strictly lower than 0,58 %\n",
    "    tokenizer=None, #neutralize tokenization of words because is already done in the 1st part\n",
    "    preprocessor=' '.join,\n",
    "    stop_words=None, #neutralize remove of stop_words because is already done in the 1st part\n",
    "    lowercase=False, #neutralize conversion in lowercase because is already done in the 1st part\n",
    "    ngram_range = (1,2) #extract unigrams and bigrams\n",
    ")\n",
    "Xinit = vectorizer.fit_transform(df.question_lemtokcl) #tfidf"
   ]
  },
  {
   "cell_type": "code",
   "execution_count": 13,
   "id": "3d6fe712",
   "metadata": {},
   "outputs": [
    {
     "data": {
      "text/plain": [
       "['abc',\n",
       " 'able',\n",
       " 'absolute',\n",
       " 'accept',\n",
       " 'access',\n",
       " 'accomplish',\n",
       " 'accord',\n",
       " 'account',\n",
       " 'achieve',\n",
       " 'across',\n",
       " 'action',\n",
       " 'active',\n",
       " 'activity',\n",
       " 'actual',\n",
       " 'actually',\n",
       " 'add',\n",
       " 'add new',\n",
       " 'additional',\n",
       " 'address',\n",
       " 'admin',\n",
       " 'advance',\n",
       " 'advice',\n",
       " 'affect',\n",
       " 'age',\n",
       " 'ajax',\n",
       " 'alert',\n",
       " 'algorithm',\n",
       " 'align',\n",
       " 'alloc',\n",
       " 'allow',\n",
       " 'almost',\n",
       " 'along',\n",
       " 'already',\n",
       " 'also',\n",
       " 'also try',\n",
       " 'alt',\n",
       " 'alternative',\n",
       " 'always',\n",
       " 'amount',\n",
       " 'android',\n",
       " 'angular',\n",
       " 'animate',\n",
       " 'animation',\n",
       " 'annotation',\n",
       " 'answer',\n",
       " 'anyway',\n",
       " 'anywhere',\n",
       " 'apache',\n",
       " 'api',\n",
       " 'app',\n",
       " 'app use',\n",
       " 'appear',\n",
       " 'append',\n",
       " 'apple',\n",
       " 'application',\n",
       " 'application use',\n",
       " 'apply',\n",
       " 'appreciate',\n",
       " 'appreciate thank',\n",
       " 'approach',\n",
       " 'appropriate',\n",
       " 'area',\n",
       " 'args',\n",
       " 'argument',\n",
       " 'around',\n",
       " 'array',\n",
       " 'array array',\n",
       " 'arraylist',\n",
       " 'article',\n",
       " 'ask',\n",
       " 'asp',\n",
       " 'aspdotnet',\n",
       " 'aspdotnet mvc',\n",
       " 'aspx',\n",
       " 'assembly',\n",
       " 'asset',\n",
       " 'assign',\n",
       " 'associate',\n",
       " 'assume',\n",
       " 'async',\n",
       " 'attach',\n",
       " 'attempt',\n",
       " 'attr',\n",
       " 'attribute',\n",
       " 'auth',\n",
       " 'authentication',\n",
       " 'author',\n",
       " 'auto',\n",
       " 'automatically',\n",
       " 'available',\n",
       " 'avoid',\n",
       " 'await',\n",
       " 'aware',\n",
       " 'away',\n",
       " 'axis',\n",
       " 'back',\n",
       " 'backend',\n",
       " 'background',\n",
       " 'background color',\n",
       " 'bad',\n",
       " 'bar',\n",
       " 'base',\n",
       " 'bash',\n",
       " 'basic',\n",
       " 'basically',\n",
       " 'batch',\n",
       " 'become',\n",
       " 'begin',\n",
       " 'beginning',\n",
       " 'behavior',\n",
       " 'behaviour',\n",
       " 'behind',\n",
       " 'believe',\n",
       " 'big',\n",
       " 'bin',\n",
       " 'binary',\n",
       " 'bind',\n",
       " 'bit',\n",
       " 'black',\n",
       " 'blank',\n",
       " 'block',\n",
       " 'blog',\n",
       " 'blue',\n",
       " 'body',\n",
       " 'body html',\n",
       " 'book',\n",
       " 'bool',\n",
       " 'boolean',\n",
       " 'bootstrap',\n",
       " 'border',\n",
       " 'bottom',\n",
       " 'box',\n",
       " 'branch',\n",
       " 'break',\n",
       " 'browser',\n",
       " 'btn',\n",
       " 'buffer',\n",
       " 'bug',\n",
       " 'build',\n",
       " 'builder',\n",
       " 'bunch',\n",
       " 'bundle',\n",
       " 'business',\n",
       " 'button',\n",
       " 'button click',\n",
       " 'byte',\n",
       " 'cache',\n",
       " 'calculate',\n",
       " 'call',\n",
       " 'call function',\n",
       " 'call method',\n",
       " 'callback',\n",
       " 'cancel',\n",
       " 'capture',\n",
       " 'card',\n",
       " 'case',\n",
       " 'cast',\n",
       " 'cat',\n",
       " 'catch',\n",
       " 'catch exception',\n",
       " 'category',\n",
       " 'cause',\n",
       " 'cell',\n",
       " 'center',\n",
       " 'certain',\n",
       " 'change',\n",
       " 'channel',\n",
       " 'char',\n",
       " 'character',\n",
       " 'charset',\n",
       " 'charset utf',\n",
       " 'chart',\n",
       " 'check',\n",
       " 'checkbox',\n",
       " 'child',\n",
       " 'choice',\n",
       " 'choose',\n",
       " 'chrome',\n",
       " 'city',\n",
       " 'class',\n",
       " 'class class',\n",
       " 'class public',\n",
       " 'classname',\n",
       " 'clean',\n",
       " 'clear',\n",
       " 'click',\n",
       " 'click button',\n",
       " 'click function',\n",
       " 'client',\n",
       " 'close',\n",
       " 'cmd',\n",
       " 'code',\n",
       " 'code get',\n",
       " 'code import',\n",
       " 'code like',\n",
       " 'code try',\n",
       " 'code use',\n",
       " 'code work',\n",
       " 'col',\n",
       " 'collection',\n",
       " 'color',\n",
       " 'column',\n",
       " 'column name',\n",
       " 'com',\n",
       " 'combination',\n",
       " 'combine',\n",
       " 'come',\n",
       " 'command',\n",
       " 'command line',\n",
       " 'comment',\n",
       " 'commit',\n",
       " 'common',\n",
       " 'company',\n",
       " 'compare',\n",
       " 'compile',\n",
       " 'compiler',\n",
       " 'complete',\n",
       " 'completely',\n",
       " 'complex',\n",
       " 'component',\n",
       " 'computer',\n",
       " 'condition',\n",
       " 'config',\n",
       " 'configuration',\n",
       " 'configure',\n",
       " 'confused',\n",
       " 'connect',\n",
       " 'connection',\n",
       " 'consider',\n",
       " 'console',\n",
       " 'console log',\n",
       " 'const',\n",
       " 'constant',\n",
       " 'constraint',\n",
       " 'construct',\n",
       " 'constructor',\n",
       " 'contact',\n",
       " 'contain',\n",
       " 'container',\n",
       " 'content',\n",
       " 'content type',\n",
       " 'context',\n",
       " 'continue',\n",
       " 'control',\n",
       " 'controller',\n",
       " 'conversion',\n",
       " 'convert',\n",
       " 'coordinate',\n",
       " 'copy',\n",
       " 'core',\n",
       " 'correct',\n",
       " 'correctly',\n",
       " 'correspond',\n",
       " 'count',\n",
       " 'counter',\n",
       " 'country',\n",
       " 'couple',\n",
       " 'course',\n",
       " 'cout',\n",
       " 'crash',\n",
       " 'create',\n",
       " 'create new',\n",
       " 'create table',\n",
       " 'creation',\n",
       " 'cross',\n",
       " 'csharp',\n",
       " 'css',\n",
       " 'csv',\n",
       " 'csv file',\n",
       " 'current',\n",
       " 'currently',\n",
       " 'currently use',\n",
       " 'cursor',\n",
       " 'custom',\n",
       " 'customer',\n",
       " 'data',\n",
       " 'database',\n",
       " 'dataframe',\n",
       " 'dataset',\n",
       " 'date',\n",
       " 'datetime',\n",
       " 'datum',\n",
       " 'datum datum',\n",
       " 'datum frame',\n",
       " 'datum use',\n",
       " 'day',\n",
       " 'db',\n",
       " 'deal',\n",
       " 'debug',\n",
       " 'decide',\n",
       " 'declaration',\n",
       " 'declare',\n",
       " 'def',\n",
       " 'default',\n",
       " 'define',\n",
       " 'definition',\n",
       " 'delegate',\n",
       " 'delete',\n",
       " 'demo',\n",
       " 'depend',\n",
       " 'dependency',\n",
       " 'deploy',\n",
       " 'desc',\n",
       " 'describe',\n",
       " 'description',\n",
       " 'design',\n",
       " 'desire',\n",
       " 'desktop',\n",
       " 'detail',\n",
       " 'detect',\n",
       " 'determine',\n",
       " 'dev',\n",
       " 'develop',\n",
       " 'developer',\n",
       " 'development',\n",
       " 'device',\n",
       " 'dialog',\n",
       " 'dictionary',\n",
       " 'difference',\n",
       " 'different',\n",
       " 'dim',\n",
       " 'dir',\n",
       " 'direct',\n",
       " 'direction',\n",
       " 'directly',\n",
       " 'directory',\n",
       " 'disable',\n",
       " 'display',\n",
       " 'div',\n",
       " 'div class',\n",
       " 'div div',\n",
       " 'django',\n",
       " 'dll',\n",
       " 'doc',\n",
       " 'doctype',\n",
       " 'doctype html',\n",
       " 'document',\n",
       " 'document getelementbyid',\n",
       " 'document ready',\n",
       " 'documentation',\n",
       " 'dom',\n",
       " 'domain',\n",
       " 'dotnet',\n",
       " 'double',\n",
       " 'download',\n",
       " 'draw',\n",
       " 'drive',\n",
       " 'driver',\n",
       " 'drop',\n",
       " 'dropdown',\n",
       " 'due',\n",
       " 'dump',\n",
       " 'duplicate',\n",
       " 'dynamic',\n",
       " 'dynamically',\n",
       " 'early',\n",
       " 'easily',\n",
       " 'easy',\n",
       " 'easy way',\n",
       " 'echo',\n",
       " 'eclipse',\n",
       " 'edit',\n",
       " 'editor',\n",
       " 'effect',\n",
       " 'efficient',\n",
       " 'element',\n",
       " 'else',\n",
       " 'else return',\n",
       " 'email',\n",
       " 'embed',\n",
       " 'empty',\n",
       " 'enable',\n",
       " 'encode',\n",
       " 'encode utf',\n",
       " 'encounter',\n",
       " 'end',\n",
       " 'end end',\n",
       " 'end sub',\n",
       " 'engine',\n",
       " 'english',\n",
       " 'enough',\n",
       " 'ensure',\n",
       " 'enter',\n",
       " 'entire',\n",
       " 'entity',\n",
       " 'entry',\n",
       " 'env',\n",
       " 'environment',\n",
       " 'equal',\n",
       " 'equivalent',\n",
       " 'err',\n",
       " 'error',\n",
       " 'error code',\n",
       " 'error error',\n",
       " 'error message',\n",
       " 'error occur',\n",
       " 'error try',\n",
       " 'etc',\n",
       " 'even',\n",
       " 'event',\n",
       " 'ever',\n",
       " 'exact',\n",
       " 'exactly',\n",
       " 'example',\n",
       " 'excel',\n",
       " 'exception',\n",
       " 'exe',\n",
       " 'exec',\n",
       " 'execute',\n",
       " 'execution',\n",
       " 'exist',\n",
       " 'exit',\n",
       " 'expand',\n",
       " 'expect',\n",
       " 'experience',\n",
       " 'explain',\n",
       " 'explanation',\n",
       " 'export',\n",
       " 'export default',\n",
       " 'express',\n",
       " 'expression',\n",
       " 'extend',\n",
       " 'extension',\n",
       " 'external',\n",
       " 'extra',\n",
       " 'extract',\n",
       " 'face',\n",
       " 'facebook',\n",
       " 'fact',\n",
       " 'fail',\n",
       " 'failure',\n",
       " 'fairly',\n",
       " 'false',\n",
       " 'family',\n",
       " 'far',\n",
       " 'fast',\n",
       " 'feature',\n",
       " 'feel',\n",
       " 'fetch',\n",
       " 'field',\n",
       " 'figure',\n",
       " 'file',\n",
       " 'file directory',\n",
       " 'file file',\n",
       " 'file name',\n",
       " 'file use',\n",
       " 'filename',\n",
       " 'fill',\n",
       " 'filter',\n",
       " 'final',\n",
       " 'finally',\n",
       " 'find',\n",
       " 'find solution',\n",
       " 'find way',\n",
       " 'fine',\n",
       " 'finish',\n",
       " 'fire',\n",
       " 'firefox',\n",
       " 'first',\n",
       " 'first time',\n",
       " 'fit',\n",
       " 'fix',\n",
       " 'flag',\n",
       " 'flash',\n",
       " 'flex',\n",
       " 'float',\n",
       " 'focus',\n",
       " 'folder',\n",
       " 'follow',\n",
       " 'follow code',\n",
       " 'follow error',\n",
       " 'following',\n",
       " 'font',\n",
       " 'font size',\n",
       " 'foo',\n",
       " 'force',\n",
       " 'foreach',\n",
       " 'form',\n",
       " 'format',\n",
       " 'formicrosoft',\n",
       " 'forward',\n",
       " 'frame',\n",
       " 'framework',\n",
       " 'free',\n",
       " 'front',\n",
       " 'full',\n",
       " 'func',\n",
       " 'function',\n",
       " 'function call',\n",
       " 'function return',\n",
       " 'function var',\n",
       " 'functionality',\n",
       " 'future',\n",
       " 'game',\n",
       " 'general',\n",
       " 'generate',\n",
       " 'generic',\n",
       " 'get',\n",
       " 'get datum',\n",
       " 'get error',\n",
       " 'get follow',\n",
       " 'get result',\n",
       " 'get set',\n",
       " 'get value',\n",
       " 'get work',\n",
       " 'getelementbyid',\n",
       " 'git',\n",
       " 'github',\n",
       " 'github com',\n",
       " 'give',\n",
       " 'give error',\n",
       " 'global',\n",
       " 'go',\n",
       " 'go wrong',\n",
       " 'goal',\n",
       " 'good',\n",
       " 'good practice',\n",
       " 'good way',\n",
       " 'google',\n",
       " 'google com',\n",
       " 'graph',\n",
       " 'great',\n",
       " 'greatly',\n",
       " 'greatly appreciate',\n",
       " 'green',\n",
       " 'grid',\n",
       " 'group',\n",
       " 'guess',\n",
       " 'gui',\n",
       " 'guide',\n",
       " 'guy',\n",
       " 'hand',\n",
       " 'handle',\n",
       " 'handler',\n",
       " 'happen',\n",
       " 'hard',\n",
       " 'hash',\n",
       " 'head',\n",
       " 'head body',\n",
       " 'header',\n",
       " 'hear',\n",
       " 'height',\n",
       " 'height width',\n",
       " 'help',\n",
       " 'help appreciate',\n",
       " 'help thank',\n",
       " 'helper',\n",
       " 'helpful',\n",
       " 'hide',\n",
       " 'high',\n",
       " 'hint',\n",
       " 'hit',\n",
       " 'hold',\n",
       " 'home',\n",
       " 'hope',\n",
       " 'host',\n",
       " 'hour',\n",
       " 'hover',\n",
       " 'however',\n",
       " 'href',\n",
       " 'html',\n",
       " 'html head',\n",
       " 'html html',\n",
       " 'http',\n",
       " 'http localhost',\n",
       " 'http www',\n",
       " 'https',\n",
       " 'https github',\n",
       " 'https www',\n",
       " 'icon',\n",
       " 'ide',\n",
       " 'idea',\n",
       " 'ideally',\n",
       " 'identify',\n",
       " 'ignore',\n",
       " 'image',\n",
       " 'imagine',\n",
       " 'img',\n",
       " 'img src',\n",
       " 'implement',\n",
       " 'implementation',\n",
       " 'import',\n",
       " 'important',\n",
       " 'improve',\n",
       " 'include',\n",
       " 'incorrect',\n",
       " 'increase',\n",
       " 'index',\n",
       " 'indicate',\n",
       " 'individual',\n",
       " 'info',\n",
       " 'information',\n",
       " 'inherit',\n",
       " 'init',\n",
       " 'init self',\n",
       " 'initial',\n",
       " 'initialize',\n",
       " 'inline',\n",
       " 'inner',\n",
       " 'input',\n",
       " 'input type',\n",
       " 'insert',\n",
       " 'inside',\n",
       " 'instal',\n",
       " 'install',\n",
       " 'installation',\n",
       " 'instance',\n",
       " 'instead',\n",
       " 'instruction',\n",
       " 'int',\n",
       " 'int int',\n",
       " 'int main',\n",
       " 'integer',\n",
       " 'integrate',\n",
       " 'intent',\n",
       " 'interested',\n",
       " 'interface',\n",
       " 'internal',\n",
       " 'internet',\n",
       " 'interval',\n",
       " 'invalid',\n",
       " 'invoke',\n",
       " 'involve',\n",
       " 'io',\n",
       " 'ip',\n",
       " 'iphone',\n",
       " 'issue',\n",
       " 'item',\n",
       " 'itemicrosoft',\n",
       " 'iterate',\n",
       " 'jar',\n",
       " 'java',\n",
       " 'java lang',\n",
       " 'javascript',\n",
       " 'javascript function',\n",
       " 'job',\n",
       " 'join',\n",
       " 'jpg',\n",
       " 'jquery',\n",
       " 'js',\n",
       " 'json',\n",
       " 'keep',\n",
       " 'key',\n",
       " 'key value',\n",
       " 'keyword',\n",
       " 'kind',\n",
       " 'know',\n",
       " 'know use',\n",
       " 'label',\n",
       " 'lambda',\n",
       " 'lang',\n",
       " 'language',\n",
       " 'laravel',\n",
       " 'large',\n",
       " 'last',\n",
       " 'late',\n",
       " 'later',\n",
       " 'launch',\n",
       " 'layer',\n",
       " 'layout',\n",
       " 'lead',\n",
       " 'learn',\n",
       " 'least',\n",
       " 'leave',\n",
       " 'left',\n",
       " 'len',\n",
       " 'length',\n",
       " 'less',\n",
       " 'let',\n",
       " 'let know',\n",
       " 'let say',\n",
       " 'letter',\n",
       " 'level',\n",
       " 'lib',\n",
       " 'library',\n",
       " 'light',\n",
       " 'like',\n",
       " 'like able',\n",
       " 'like know',\n",
       " 'like use',\n",
       " 'limit',\n",
       " 'line',\n",
       " 'line code',\n",
       " 'link',\n",
       " 'linq',\n",
       " 'linux',\n",
       " 'list',\n",
       " 'listen',\n",
       " 'little',\n",
       " 'live',\n",
       " 'load',\n",
       " 'loading',\n",
       " 'local',\n",
       " 'localhost',\n",
       " 'locate',\n",
       " 'location',\n",
       " 'lock',\n",
       " 'log',\n",
       " 'logic',\n",
       " 'login',\n",
       " 'long',\n",
       " 'look',\n",
       " 'look like',\n",
       " 'loop',\n",
       " 'lose',\n",
       " 'lot',\n",
       " 'low',\n",
       " 'luck',\n",
       " 'mac',\n",
       " 'machine',\n",
       " 'macro',\n",
       " 'mail',\n",
       " 'main',\n",
       " 'main string',\n",
       " 'maintain',\n",
       " 'make',\n",
       " 'make sense',\n",
       " 'make sure',\n",
       " 'make work',\n",
       " 'manage',\n",
       " 'management',\n",
       " 'manager',\n",
       " 'manually',\n",
       " 'many',\n",
       " 'map',\n",
       " 'mapping',\n",
       " 'margin',\n",
       " 'mark',\n",
       " 'master',\n",
       " 'match',\n",
       " 'math',\n",
       " 'matrix',\n",
       " 'matter',\n",
       " 'max',\n",
       " 'maximum',\n",
       " 'maybe',\n",
       " 'mean',\n",
       " 'medium',\n",
       " 'member',\n",
       " 'memory',\n",
       " 'mention',\n",
       " 'menu',\n",
       " 'merge',\n",
       " 'message',\n",
       " 'meta',\n",
       " 'method',\n",
       " 'method call',\n",
       " 'method post',\n",
       " 'microsoft',\n",
       " 'microsoftg',\n",
       " 'middle',\n",
       " 'min',\n",
       " 'mind',\n",
       " 'minute',\n",
       " 'miss',\n",
       " 'mobile',\n",
       " 'mode',\n",
       " 'model',\n",
       " 'modify',\n",
       " 'module',\n",
       " 'moment',\n",
       " 'month',\n",
       " 'mouse',\n",
       " 'move',\n",
       " 'much',\n",
       " 'multi',\n",
       " 'multiple',\n",
       " 'mvc',\n",
       " 'mysql',\n",
       " 'name',\n",
       " 'name name',\n",
       " 'namespace',\n",
       " 'native',\n",
       " 'navigation',\n",
       " 'necessary',\n",
       " 'need',\n",
       " 'need get',\n",
       " 'need help',\n",
       " 'need use',\n",
       " 'nest',\n",
       " 'net',\n",
       " 'network',\n",
       " 'never',\n",
       " 'new',\n",
       " 'next',\n",
       " 'nice',\n",
       " 'nil',\n",
       " 'node',\n",
       " 'non',\n",
       " 'none',\n",
       " 'normal',\n",
       " 'normally',\n",
       " 'note',\n",
       " 'notice',\n",
       " 'notification',\n",
       " 'np',\n",
       " 'null',\n",
       " 'num',\n",
       " 'number',\n",
       " 'numpy',\n",
       " 'obj',\n",
       " 'object',\n",
       " 'object sender',\n",
       " 'obtain',\n",
       " 'obvious',\n",
       " 'obviously',\n",
       " 'occur',\n",
       " 'offset',\n",
       " 'often',\n",
       " 'old',\n",
       " 'onclick',\n",
       " 'one',\n",
       " 'online',\n",
       " 'open',\n",
       " 'operation',\n",
       " 'operator',\n",
       " 'option',\n",
       " 'oracle',\n",
       " 'order',\n",
       " 'org',\n",
       " 'origin',\n",
       " 'original',\n",
       " 'os',\n",
       " 'otherwise',\n",
       " 'output',\n",
       " 'outside',\n",
       " 'overflow',\n",
       " 'override',\n",
       " 'override public',\n",
       " 'package',\n",
       " 'padding',\n",
       " 'page',\n",
       " 'page load',\n",
       " 'pair',\n",
       " 'panda',\n",
       " 'panel',\n",
       " 'param',\n",
       " 'parameter',\n",
       " 'paramicrosoft',\n",
       " 'parent',\n",
       " 'parse',\n",
       " 'parser',\n",
       " 'part',\n",
       " 'partial',\n",
       " 'particular',\n",
       " 'party',\n",
       " 'pass',\n",
       " 'password',\n",
       " 'past',\n",
       " 'paste',\n",
       " 'path',\n",
       " 'pattern',\n",
       " 'pd',\n",
       " 'pdf',\n",
       " 'people',\n",
       " 'per',\n",
       " 'perfectly',\n",
       " 'perform',\n",
       " 'performance',\n",
       " 'perhaps',\n",
       " 'perl',\n",
       " 'permission',\n",
       " 'person',\n",
       " 'phone',\n",
       " 'php',\n",
       " 'pick',\n",
       " 'picture',\n",
       " 'piece',\n",
       " 'place',\n",
       " 'placeholder',\n",
       " 'plain',\n",
       " 'plan',\n",
       " 'platform',\n",
       " 'play',\n",
       " 'player',\n",
       " 'plot',\n",
       " 'plugin',\n",
       " 'png',\n",
       " 'point',\n",
       " 'pointer',\n",
       " 'pop',\n",
       " 'populate',\n",
       " 'port',\n",
       " 'position',\n",
       " 'possible',\n",
       " 'post',\n",
       " 'practice',\n",
       " 'pre',\n",
       " 'prefer',\n",
       " 'prefix',\n",
       " 'present',\n",
       " 'press',\n",
       " 'pretty',\n",
       " 'prevent',\n",
       " 'previous',\n",
       " 'price',\n",
       " 'primary',\n",
       " 'primary key',\n",
       " 'print',\n",
       " 'printf',\n",
       " 'println',\n",
       " 'private',\n",
       " 'private void',\n",
       " 'probably',\n",
       " 'problem',\n",
       " 'problemicrosoft',\n",
       " 'procedure',\n",
       " 'process',\n",
       " 'processing',\n",
       " 'produce',\n",
       " 'product',\n",
       " 'production',\n",
       " 'profile',\n",
       " 'program',\n",
       " 'programmatically',\n",
       " 'programming',\n",
       " 'progress',\n",
       " 'project',\n",
       " 'project use',\n",
       " 'prompt',\n",
       " 'prop',\n",
       " 'proper',\n",
       " 'properly',\n",
       " 'property',\n",
       " 'protect',\n",
       " 'protect void',\n",
       " 'protocol',\n",
       " 'provide',\n",
       " 'provider',\n",
       " 'proxy',\n",
       " 'public',\n",
       " 'public class',\n",
       " 'public function',\n",
       " 'public int',\n",
       " 'public static',\n",
       " 'public string',\n",
       " 'public void',\n",
       " 'publish',\n",
       " 'pull',\n",
       " 'purpose',\n",
       " 'push',\n",
       " 'put',\n",
       " 'py',\n",
       " 'python',\n",
       " 'query',\n",
       " 'query select',\n",
       " 'question',\n",
       " 'queue',\n",
       " 'quick',\n",
       " 'quite',\n",
       " 'rail',\n",
       " 'raise',\n",
       " 'random',\n",
       " 'range',\n",
       " 'rate',\n",
       " 'rather',\n",
       " 'raw',\n",
       " 'reach',\n",
       " 'react',\n",
       " 'read',\n",
       " 'reader',\n",
       " 'ready',\n",
       " 'ready function',\n",
       " 'real',\n",
       " 'realize',\n",
       " 'really',\n",
       " 'reason',\n",
       " 'receive',\n",
       " 'recent',\n",
       " 'recently',\n",
       " 'recognize',\n",
       " 'recommend',\n",
       " 'record',\n",
       " 'red',\n",
       " 'redirect',\n",
       " 'reduce',\n",
       " 'ref',\n",
       " 'refer',\n",
       " 'reference',\n",
       " 'refresh',\n",
       " 'regard',\n",
       " 'regex',\n",
       " 'register',\n",
       " 'regular',\n",
       " 'rel',\n",
       " 'relate',\n",
       " 'related',\n",
       " 'relationship',\n",
       " 'relative',\n",
       " 'release',\n",
       " 'relevant',\n",
       " 'reload',\n",
       " 'remain',\n",
       " 'remote',\n",
       " 'remove',\n",
       " 'render',\n",
       " 'repeat',\n",
       " 'replace',\n",
       " 'report',\n",
       " 'repository',\n",
       " ...]"
      ]
     },
     "execution_count": 13,
     "metadata": {},
     "output_type": "execute_result"
    }
   ],
   "source": [
    "vectorizer.get_feature_names() #visualisation des Bags-of-Words\n"
   ]
  },
  {
   "cell_type": "code",
   "execution_count": 14,
   "id": "d0ae61c3",
   "metadata": {},
   "outputs": [
    {
     "name": "stdout",
     "output_type": "stream",
     "text": [
      "Shape of Xinit : (35809, 1390)\n"
     ]
    }
   ],
   "source": [
    "print(\"Shape of Xinit : {}\".format(Xinit.shape)) #print the shape of X"
   ]
  },
  {
   "cell_type": "code",
   "execution_count": 15,
   "id": "38c53442",
   "metadata": {},
   "outputs": [
    {
     "name": "stdout",
     "output_type": "stream",
     "text": [
      "Sparsicity:  2.630288073152302 %\n"
     ]
    }
   ],
   "source": [
    "# Materialize the sparse data\n",
    "data_dense = Xinit.todense()\n",
    "\n",
    "# Compute Sparsicity = Percentage of Non-Zero cells\n",
    "print(\"Sparsicity: \", ((data_dense > 0).sum()/data_dense.size)*100, \"%\")"
   ]
  },
  {
   "cell_type": "markdown",
   "id": "8028b167",
   "metadata": {},
   "source": [
    "###### Nous réglons le TfidfVectorizer() avec un min_df = 0,58 % de manière à obtenir en output des Bag-of-Words qui ne comporte que des mots composés de plus de 2 lettres. Nous obtenons ainsi une variable explcative de dimension 35 815 lignes par 1 411 features. Nous devons envisager une réduction de dimension de cette variable."
   ]
  },
  {
   "cell_type": "markdown",
   "id": "e524b9f5",
   "metadata": {},
   "source": [
    "#### Réduction de dimension par Principal Component Analysis :"
   ]
  },
  {
   "cell_type": "code",
   "execution_count": 16,
   "id": "8a5e0760",
   "metadata": {},
   "outputs": [
    {
     "data": {
      "text/plain": [
       "array([[ 2.13341767e-02, -3.72043766e-02, -3.29021545e-02, ...,\n",
       "         2.70051477e-04,  1.23467177e-04,  1.18132973e-04],\n",
       "       [ 1.54178722e-01, -2.04798222e-01, -9.26368899e-02, ...,\n",
       "         7.14796911e-05,  4.84074410e-04, -1.22337755e-03],\n",
       "       [-5.44837020e-02,  2.03798054e-02,  4.96944179e-03, ...,\n",
       "        -6.16458223e-04,  7.59612926e-05, -1.67753251e-05],\n",
       "       ...,\n",
       "       [-6.67967400e-02, -5.97566391e-02,  1.01409517e-01, ...,\n",
       "        -2.64949844e-04,  2.62090897e-04, -8.05236983e-04],\n",
       "       [ 1.28172676e-01, -1.09348277e-01,  2.25985071e-01, ...,\n",
       "         9.86161805e-05,  5.45940144e-05, -8.18478162e-04],\n",
       "       [ 1.04342842e-01, -5.15185934e-02,  8.30564092e-02, ...,\n",
       "         1.34554033e-04,  2.02729860e-04, -6.55660302e-05]])"
      ]
     },
     "execution_count": 16,
     "metadata": {},
     "output_type": "execute_result"
    }
   ],
   "source": [
    "from sklearn import decomposition\n",
    "pca = decomposition.PCA()\n",
    "pca.fit_transform(Xinit.todense())"
   ]
  },
  {
   "cell_type": "code",
   "execution_count": 17,
   "id": "cd77294a",
   "metadata": {},
   "outputs": [
    {
     "data": {
      "image/png": "[encoded data removed]",
      "text/plain": [
       "<Figure size 432x288 with 1 Axes>"
      ]
     },
     "metadata": {
      "needs_background": "light"
     },
     "output_type": "display_data"
    }
   ],
   "source": [
    "display_scree_plot(pca)"
   ]
  },
  {
   "cell_type": "markdown",
   "id": "6484219f",
   "metadata": {},
   "source": [
    "##### A lecture du graphique de l'éboulis des valeurs propres de notre jeu de données X, nous devons réduire le nombre des features à environ 950 features au lieu des 1 411 features obtenues après la première création des Bag-of-Words :"
   ]
  },
  {
   "cell_type": "markdown",
   "id": "c71c98e6",
   "metadata": {},
   "source": [
    "###### Variable explicative `question_lemtokcl`, extraction de features avec le modèle Bag-of-Words :\n",
    "- utilisation du module TfidfVectorizer de la librairie Scikit-Learn pour combiner le CountVectorizer et TfidfTransformer afin minimiser la redondance de certains mots en appliquant le modèle du Bag-of-Words tout en créant des n-grams de type (1,2) en réglant max_features à 950 features.  "
   ]
  },
  {
   "cell_type": "code",
   "execution_count": 18,
   "id": "26df027d",
   "metadata": {},
   "outputs": [],
   "source": [
    "vectorizer = TfidfVectorizer(\n",
    "    analyzer=\"word\",\n",
    "    max_df=0.75, #ignore terms that have a document frequency strictly higher than 75 %\n",
    "    min_df=0.0058, #ignore terms that have a document frequency strictly lower than 0,58 %\n",
    "    tokenizer=None, #neutralize tokenization of words because is already done in the 1st part\n",
    "    preprocessor=' '.join,\n",
    "    stop_words=None, #neutralize remove of stop_words because is already done in the 1st part\n",
    "    lowercase=False, #neutralize conversion in lowercase because is already done in the 1st part\n",
    "    ngram_range = (1,2), #extract unigrams and bigrams\n",
    "    max_features = 950\n",
    ")\n",
    "X = vectorizer.fit_transform(df.question_lemtokcl) #tfidf"
   ]
  },
  {
   "cell_type": "code",
   "execution_count": 19,
   "id": "7b1e65ed",
   "metadata": {},
   "outputs": [
    {
     "data": {
      "text/plain": [
       "['able',\n",
       " 'accept',\n",
       " 'access',\n",
       " 'account',\n",
       " 'achieve',\n",
       " 'across',\n",
       " 'action',\n",
       " 'active',\n",
       " 'activity',\n",
       " 'actual',\n",
       " 'actually',\n",
       " 'add',\n",
       " 'add new',\n",
       " 'address',\n",
       " 'admin',\n",
       " 'advance',\n",
       " 'age',\n",
       " 'ajax',\n",
       " 'alert',\n",
       " 'algorithm',\n",
       " 'align',\n",
       " 'alloc',\n",
       " 'allow',\n",
       " 'already',\n",
       " 'also',\n",
       " 'also try',\n",
       " 'always',\n",
       " 'amount',\n",
       " 'android',\n",
       " 'angular',\n",
       " 'animation',\n",
       " 'answer',\n",
       " 'apache',\n",
       " 'api',\n",
       " 'app',\n",
       " 'appear',\n",
       " 'append',\n",
       " 'application',\n",
       " 'apply',\n",
       " 'appreciate',\n",
       " 'approach',\n",
       " 'area',\n",
       " 'args',\n",
       " 'argument',\n",
       " 'around',\n",
       " 'array',\n",
       " 'arraylist',\n",
       " 'article',\n",
       " 'ask',\n",
       " 'asp',\n",
       " 'aspdotnet',\n",
       " 'aspx',\n",
       " 'assembly',\n",
       " 'asset',\n",
       " 'assign',\n",
       " 'assume',\n",
       " 'async',\n",
       " 'attempt',\n",
       " 'attr',\n",
       " 'attribute',\n",
       " 'auth',\n",
       " 'authentication',\n",
       " 'author',\n",
       " 'auto',\n",
       " 'automatically',\n",
       " 'available',\n",
       " 'avoid',\n",
       " 'await',\n",
       " 'axis',\n",
       " 'back',\n",
       " 'background',\n",
       " 'background color',\n",
       " 'bad',\n",
       " 'bar',\n",
       " 'base',\n",
       " 'bash',\n",
       " 'basic',\n",
       " 'basically',\n",
       " 'batch',\n",
       " 'become',\n",
       " 'begin',\n",
       " 'behavior',\n",
       " 'big',\n",
       " 'bin',\n",
       " 'binary',\n",
       " 'bind',\n",
       " 'bit',\n",
       " 'black',\n",
       " 'blank',\n",
       " 'block',\n",
       " 'blog',\n",
       " 'blue',\n",
       " 'body',\n",
       " 'book',\n",
       " 'bool',\n",
       " 'boolean',\n",
       " 'bootstrap',\n",
       " 'border',\n",
       " 'bottom',\n",
       " 'box',\n",
       " 'branch',\n",
       " 'break',\n",
       " 'browser',\n",
       " 'btn',\n",
       " 'buffer',\n",
       " 'bug',\n",
       " 'build',\n",
       " 'builder',\n",
       " 'bundle',\n",
       " 'button',\n",
       " 'byte',\n",
       " 'cache',\n",
       " 'calculate',\n",
       " 'call',\n",
       " 'callback',\n",
       " 'card',\n",
       " 'case',\n",
       " 'cast',\n",
       " 'cat',\n",
       " 'catch',\n",
       " 'category',\n",
       " 'cause',\n",
       " 'cell',\n",
       " 'center',\n",
       " 'certain',\n",
       " 'change',\n",
       " 'channel',\n",
       " 'char',\n",
       " 'character',\n",
       " 'chart',\n",
       " 'check',\n",
       " 'checkbox',\n",
       " 'child',\n",
       " 'choose',\n",
       " 'chrome',\n",
       " 'city',\n",
       " 'class',\n",
       " 'classname',\n",
       " 'clean',\n",
       " 'clear',\n",
       " 'click',\n",
       " 'client',\n",
       " 'close',\n",
       " 'cmd',\n",
       " 'code',\n",
       " 'code use',\n",
       " 'code work',\n",
       " 'col',\n",
       " 'collection',\n",
       " 'color',\n",
       " 'column',\n",
       " 'com',\n",
       " 'come',\n",
       " 'command',\n",
       " 'comment',\n",
       " 'commit',\n",
       " 'common',\n",
       " 'company',\n",
       " 'compare',\n",
       " 'compile',\n",
       " 'compiler',\n",
       " 'complete',\n",
       " 'component',\n",
       " 'computer',\n",
       " 'condition',\n",
       " 'config',\n",
       " 'configuration',\n",
       " 'configure',\n",
       " 'connect',\n",
       " 'connection',\n",
       " 'consider',\n",
       " 'console',\n",
       " 'console log',\n",
       " 'const',\n",
       " 'constructor',\n",
       " 'contact',\n",
       " 'contain',\n",
       " 'container',\n",
       " 'content',\n",
       " 'context',\n",
       " 'continue',\n",
       " 'control',\n",
       " 'controller',\n",
       " 'convert',\n",
       " 'copy',\n",
       " 'core',\n",
       " 'correct',\n",
       " 'correctly',\n",
       " 'count',\n",
       " 'counter',\n",
       " 'country',\n",
       " 'course',\n",
       " 'cout',\n",
       " 'crash',\n",
       " 'create',\n",
       " 'create new',\n",
       " 'csharp',\n",
       " 'css',\n",
       " 'csv',\n",
       " 'current',\n",
       " 'currently',\n",
       " 'cursor',\n",
       " 'custom',\n",
       " 'customer',\n",
       " 'data',\n",
       " 'database',\n",
       " 'dataframe',\n",
       " 'dataset',\n",
       " 'date',\n",
       " 'datetime',\n",
       " 'datum',\n",
       " 'day',\n",
       " 'db',\n",
       " 'debug',\n",
       " 'declare',\n",
       " 'def',\n",
       " 'default',\n",
       " 'define',\n",
       " 'definition',\n",
       " 'delete',\n",
       " 'depend',\n",
       " 'dependency',\n",
       " 'deploy',\n",
       " 'description',\n",
       " 'design',\n",
       " 'desktop',\n",
       " 'detail',\n",
       " 'detect',\n",
       " 'determine',\n",
       " 'dev',\n",
       " 'develop',\n",
       " 'developer',\n",
       " 'development',\n",
       " 'device',\n",
       " 'dialog',\n",
       " 'dictionary',\n",
       " 'difference',\n",
       " 'different',\n",
       " 'dim',\n",
       " 'dir',\n",
       " 'direction',\n",
       " 'directly',\n",
       " 'directory',\n",
       " 'disable',\n",
       " 'display',\n",
       " 'div',\n",
       " 'div class',\n",
       " 'div div',\n",
       " 'django',\n",
       " 'dll',\n",
       " 'doc',\n",
       " 'document',\n",
       " 'document getelementbyid',\n",
       " 'documentation',\n",
       " 'domain',\n",
       " 'dotnet',\n",
       " 'double',\n",
       " 'download',\n",
       " 'draw',\n",
       " 'driver',\n",
       " 'drop',\n",
       " 'dropdown',\n",
       " 'due',\n",
       " 'duplicate',\n",
       " 'dynamic',\n",
       " 'dynamically',\n",
       " 'easy',\n",
       " 'echo',\n",
       " 'eclipse',\n",
       " 'edit',\n",
       " 'editor',\n",
       " 'effect',\n",
       " 'element',\n",
       " 'else',\n",
       " 'email',\n",
       " 'embed',\n",
       " 'empty',\n",
       " 'enable',\n",
       " 'encode',\n",
       " 'end',\n",
       " 'end end',\n",
       " 'engine',\n",
       " 'enough',\n",
       " 'enter',\n",
       " 'entire',\n",
       " 'entity',\n",
       " 'entry',\n",
       " 'env',\n",
       " 'environment',\n",
       " 'equal',\n",
       " 'err',\n",
       " 'error',\n",
       " 'error error',\n",
       " 'error message',\n",
       " 'etc',\n",
       " 'even',\n",
       " 'event',\n",
       " 'exactly',\n",
       " 'example',\n",
       " 'excel',\n",
       " 'exception',\n",
       " 'exe',\n",
       " 'execute',\n",
       " 'execution',\n",
       " 'exist',\n",
       " 'exit',\n",
       " 'expect',\n",
       " 'experience',\n",
       " 'explain',\n",
       " 'export',\n",
       " 'express',\n",
       " 'expression',\n",
       " 'extend',\n",
       " 'extension',\n",
       " 'external',\n",
       " 'extra',\n",
       " 'extract',\n",
       " 'facebook',\n",
       " 'fail',\n",
       " 'false',\n",
       " 'far',\n",
       " 'fast',\n",
       " 'feature',\n",
       " 'fetch',\n",
       " 'field',\n",
       " 'figure',\n",
       " 'file',\n",
       " 'file file',\n",
       " 'filename',\n",
       " 'fill',\n",
       " 'filter',\n",
       " 'final',\n",
       " 'find',\n",
       " 'fine',\n",
       " 'finish',\n",
       " 'fire',\n",
       " 'firefox',\n",
       " 'first',\n",
       " 'fit',\n",
       " 'fix',\n",
       " 'flag',\n",
       " 'flash',\n",
       " 'float',\n",
       " 'folder',\n",
       " 'follow',\n",
       " 'follow code',\n",
       " 'follow error',\n",
       " 'following',\n",
       " 'font',\n",
       " 'foo',\n",
       " 'force',\n",
       " 'foreach',\n",
       " 'form',\n",
       " 'format',\n",
       " 'formicrosoft',\n",
       " 'frame',\n",
       " 'framework',\n",
       " 'free',\n",
       " 'full',\n",
       " 'func',\n",
       " 'function',\n",
       " 'functionality',\n",
       " 'game',\n",
       " 'general',\n",
       " 'generate',\n",
       " 'generic',\n",
       " 'get',\n",
       " 'get error',\n",
       " 'get follow',\n",
       " 'get set',\n",
       " 'getelementbyid',\n",
       " 'git',\n",
       " 'github',\n",
       " 'give',\n",
       " 'global',\n",
       " 'go',\n",
       " 'goal',\n",
       " 'good',\n",
       " 'good way',\n",
       " 'google',\n",
       " 'graph',\n",
       " 'great',\n",
       " 'green',\n",
       " 'grid',\n",
       " 'group',\n",
       " 'guess',\n",
       " 'handle',\n",
       " 'handler',\n",
       " 'happen',\n",
       " 'hash',\n",
       " 'head',\n",
       " 'header',\n",
       " 'height',\n",
       " 'help',\n",
       " 'hide',\n",
       " 'high',\n",
       " 'hit',\n",
       " 'home',\n",
       " 'hope',\n",
       " 'host',\n",
       " 'hour',\n",
       " 'however',\n",
       " 'href',\n",
       " 'html',\n",
       " 'http',\n",
       " 'http www',\n",
       " 'https',\n",
       " 'icon',\n",
       " 'idea',\n",
       " 'ignore',\n",
       " 'image',\n",
       " 'img',\n",
       " 'img src',\n",
       " 'implement',\n",
       " 'implementation',\n",
       " 'import',\n",
       " 'include',\n",
       " 'index',\n",
       " 'info',\n",
       " 'information',\n",
       " 'init',\n",
       " 'initial',\n",
       " 'initialize',\n",
       " 'inner',\n",
       " 'input',\n",
       " 'input type',\n",
       " 'insert',\n",
       " 'inside',\n",
       " 'instal',\n",
       " 'install',\n",
       " 'instance',\n",
       " 'instead',\n",
       " 'int',\n",
       " 'int int',\n",
       " 'integer',\n",
       " 'intent',\n",
       " 'interface',\n",
       " 'internal',\n",
       " 'internet',\n",
       " 'invalid',\n",
       " 'invoke',\n",
       " 'io',\n",
       " 'ip',\n",
       " 'iphone',\n",
       " 'issue',\n",
       " 'item',\n",
       " 'itemicrosoft',\n",
       " 'jar',\n",
       " 'java',\n",
       " 'java lang',\n",
       " 'javascript',\n",
       " 'job',\n",
       " 'join',\n",
       " 'jpg',\n",
       " 'jquery',\n",
       " 'js',\n",
       " 'json',\n",
       " 'keep',\n",
       " 'key',\n",
       " 'kind',\n",
       " 'know',\n",
       " 'label',\n",
       " 'lang',\n",
       " 'language',\n",
       " 'large',\n",
       " 'last',\n",
       " 'late',\n",
       " 'later',\n",
       " 'layer',\n",
       " 'layout',\n",
       " 'learn',\n",
       " 'least',\n",
       " 'leave',\n",
       " 'left',\n",
       " 'len',\n",
       " 'length',\n",
       " 'less',\n",
       " 'let',\n",
       " 'let say',\n",
       " 'letter',\n",
       " 'level',\n",
       " 'lib',\n",
       " 'library',\n",
       " 'like',\n",
       " 'limit',\n",
       " 'line',\n",
       " 'link',\n",
       " 'linq',\n",
       " 'linux',\n",
       " 'list',\n",
       " 'little',\n",
       " 'load',\n",
       " 'local',\n",
       " 'localhost',\n",
       " 'location',\n",
       " 'lock',\n",
       " 'log',\n",
       " 'logic',\n",
       " 'login',\n",
       " 'long',\n",
       " 'look',\n",
       " 'look like',\n",
       " 'loop',\n",
       " 'lot',\n",
       " 'low',\n",
       " 'mac',\n",
       " 'machine',\n",
       " 'mail',\n",
       " 'main',\n",
       " 'make',\n",
       " 'manage',\n",
       " 'manager',\n",
       " 'manually',\n",
       " 'many',\n",
       " 'map',\n",
       " 'margin',\n",
       " 'master',\n",
       " 'match',\n",
       " 'math',\n",
       " 'matrix',\n",
       " 'max',\n",
       " 'maybe',\n",
       " 'mean',\n",
       " 'medium',\n",
       " 'member',\n",
       " 'memory',\n",
       " 'mention',\n",
       " 'menu',\n",
       " 'merge',\n",
       " 'message',\n",
       " 'meta',\n",
       " 'method',\n",
       " 'microsoft',\n",
       " 'microsoftg',\n",
       " 'min',\n",
       " 'minute',\n",
       " 'miss',\n",
       " 'mobile',\n",
       " 'mode',\n",
       " 'model',\n",
       " 'modify',\n",
       " 'module',\n",
       " 'month',\n",
       " 'move',\n",
       " 'much',\n",
       " 'multiple',\n",
       " 'mvc',\n",
       " 'mysql',\n",
       " 'name',\n",
       " 'name name',\n",
       " 'namespace',\n",
       " 'native',\n",
       " 'need',\n",
       " 'nest',\n",
       " 'network',\n",
       " 'never',\n",
       " 'new',\n",
       " 'next',\n",
       " 'nil',\n",
       " 'node',\n",
       " 'non',\n",
       " 'none',\n",
       " 'normal',\n",
       " 'note',\n",
       " 'notice',\n",
       " 'np',\n",
       " 'null',\n",
       " 'num',\n",
       " 'number',\n",
       " 'numpy',\n",
       " 'obj',\n",
       " 'object',\n",
       " 'occur',\n",
       " 'offset',\n",
       " 'old',\n",
       " 'onclick',\n",
       " 'one',\n",
       " 'open',\n",
       " 'operation',\n",
       " 'operator',\n",
       " 'option',\n",
       " 'oracle',\n",
       " 'order',\n",
       " 'org',\n",
       " 'original',\n",
       " 'os',\n",
       " 'output',\n",
       " 'override',\n",
       " 'override public',\n",
       " 'package',\n",
       " 'padding',\n",
       " 'page',\n",
       " 'panel',\n",
       " 'param',\n",
       " 'parameter',\n",
       " 'paramicrosoft',\n",
       " 'parent',\n",
       " 'parse',\n",
       " 'part',\n",
       " 'particular',\n",
       " 'pass',\n",
       " 'password',\n",
       " 'paste',\n",
       " 'path',\n",
       " 'pattern',\n",
       " 'pd',\n",
       " 'pdf',\n",
       " 'people',\n",
       " 'per',\n",
       " 'perform',\n",
       " 'performance',\n",
       " 'perl',\n",
       " 'permission',\n",
       " 'person',\n",
       " 'phone',\n",
       " 'php',\n",
       " 'picture',\n",
       " 'place',\n",
       " 'platform',\n",
       " 'play',\n",
       " 'player',\n",
       " 'plot',\n",
       " 'plugin',\n",
       " 'png',\n",
       " 'point',\n",
       " 'pointer',\n",
       " 'populate',\n",
       " 'port',\n",
       " 'position',\n",
       " 'possible',\n",
       " 'post',\n",
       " 'practice',\n",
       " 'present',\n",
       " 'press',\n",
       " 'pretty',\n",
       " 'prevent',\n",
       " 'previous',\n",
       " 'price',\n",
       " 'primary',\n",
       " 'print',\n",
       " 'printf',\n",
       " 'println',\n",
       " 'private',\n",
       " 'probably',\n",
       " 'problem',\n",
       " 'problemicrosoft',\n",
       " 'procedure',\n",
       " 'process',\n",
       " 'produce',\n",
       " 'product',\n",
       " 'profile',\n",
       " 'program',\n",
       " 'project',\n",
       " 'prop',\n",
       " 'properly',\n",
       " 'property',\n",
       " 'protect',\n",
       " 'provide',\n",
       " 'provider',\n",
       " 'proxy',\n",
       " 'public',\n",
       " 'public class',\n",
       " 'public function',\n",
       " 'public static',\n",
       " 'public string',\n",
       " 'public void',\n",
       " 'pull',\n",
       " 'push',\n",
       " 'put',\n",
       " 'py',\n",
       " 'python',\n",
       " 'query',\n",
       " 'question',\n",
       " 'queue',\n",
       " 'quite',\n",
       " 'rail',\n",
       " 'random',\n",
       " 'range',\n",
       " 'rate',\n",
       " 'rather',\n",
       " 'react',\n",
       " 'read',\n",
       " 'reader',\n",
       " 'ready',\n",
       " 'real',\n",
       " 'really',\n",
       " 'reason',\n",
       " 'receive',\n",
       " 'record',\n",
       " 'red',\n",
       " 'redirect',\n",
       " 'ref',\n",
       " 'reference',\n",
       " 'refresh',\n",
       " 'regard',\n",
       " 'regex',\n",
       " 'register',\n",
       " 'relate',\n",
       " 'release',\n",
       " 'remote',\n",
       " 'remove',\n",
       " 'render',\n",
       " 'repeat',\n",
       " 'replace',\n",
       " 'report',\n",
       " 'repository',\n",
       " 'request',\n",
       " 'require',\n",
       " 'resolve',\n",
       " 'resource',\n",
       " 'response',\n",
       " 'rest',\n",
       " 'result',\n",
       " 'retrieve',\n",
       " 'return',\n",
       " 'return false',\n",
       " 'right',\n",
       " 'role',\n",
       " 'root',\n",
       " 'route',\n",
       " 'router',\n",
       " 'row',\n",
       " 'ruby',\n",
       " 'rule',\n",
       " 'run',\n",
       " 'runtime',\n",
       " 'sample',\n",
       " 'save',\n",
       " 'say',\n",
       " 'scale',\n",
       " 'schema',\n",
       " 'scope',\n",
       " 'screen',\n",
       " 'script',\n",
       " 'scroll',\n",
       " 'search',\n",
       " 'second',\n",
       " 'section',\n",
       " 'security',\n",
       " 'see',\n",
       " 'seem',\n",
       " 'seemicrosoft',\n",
       " 'select',\n",
       " 'selection',\n",
       " 'selector',\n",
       " 'self',\n",
       " 'send',\n",
       " 'sender',\n",
       " 'separate',\n",
       " 'sequence',\n",
       " 'server',\n",
       " 'service',\n",
       " 'session',\n",
       " 'set',\n",
       " 'setting',\n",
       " 'setup',\n",
       " 'several',\n",
       " 'shape',\n",
       " 'share',\n",
       " 'sheet',\n",
       " 'shell',\n",
       " 'short',\n",
       " 'show',\n",
       " 'side',\n",
       " 'sign',\n",
       " 'similar',\n",
       " 'simple',\n",
       " 'simply',\n",
       " 'single',\n",
       " 'site',\n",
       " 'size',\n",
       " 'sleep',\n",
       " 'slow',\n",
       " 'small',\n",
       " 'socket',\n",
       " 'software',\n",
       " 'solution',\n",
       " 'solve',\n",
       " 'sometimes',\n",
       " 'sort',\n",
       " 'source',\n",
       " 'space',\n",
       " 'span',\n",
       " 'specific',\n",
       " 'specify',\n",
       " 'split',\n",
       " 'spring',\n",
       " 'sql',\n",
       " 'sql server',\n",
       " 'src',\n",
       " 'st',\n",
       " 'stack',\n",
       " 'standard',\n",
       " 'start',\n",
       " 'state',\n",
       " 'statement',\n",
       " 'static',\n",
       " 'static void',\n",
       " 'status',\n",
       " 'std',\n",
       " 'step',\n",
       " 'still',\n",
       " 'stop',\n",
       " 'storage',\n",
       " 'store',\n",
       " 'str',\n",
       " 'stream',\n",
       " 'string',\n",
       " 'struct',\n",
       " 'structure',\n",
       " 'studio',\n",
       " 'stuff',\n",
       " 'style',\n",
       " 'sub',\n",
       " 'subject',\n",
       " 'submit',\n",
       " 'success',\n",
       " 'successfully',\n",
       " 'suggest',\n",
       " 'suggestion',\n",
       " 'sum',\n",
       " 'super',\n",
       " 'support',\n",
       " 'suppose',\n",
       " 'sure',\n",
       " 'switch',\n",
       " 'symbol',\n",
       " 'syntax',\n",
       " 'system',\n",
       " 'system println',\n",
       " 'tab',\n",
       " 'table',\n",
       " 'tag',\n",
       " 'take',\n",
       " 'target',\n",
       " 'task',\n",
       " 'team',\n",
       " 'tell',\n",
       " 'temp',\n",
       " 'template',\n",
       " 'test',\n",
       " 'text',\n",
       " 'text javascript',\n",
       " 'textbox',\n",
       " 'th',\n",
       " 'thank',\n",
       " 'thank advance',\n",
       " 'theme',\n",
       " 'thing',\n",
       " 'think',\n",
       " 'third',\n",
       " 'thread',\n",
       " 'throw',\n",
       " 'time',\n",
       " 'timeout',\n",
       " 'timestamp',\n",
       " 'title',\n",
       " 'tmp',\n",
       " 'token',\n",
       " 'tool',\n",
       " 'top',\n",
       " 'tostre',\n",
       " 'total',\n",
       " 'tr',\n",
       " 'track',\n",
       " 'transaction',\n",
       " 'transform',\n",
       " 'tree',\n",
       " 'trigger',\n",
       " 'trouble',\n",
       " 'true',\n",
       " 'try',\n",
       " 'try create',\n",
       " 'try get',\n",
       " 'try use',\n",
       " 'ts',\n",
       " 'turn',\n",
       " 'tutorial',\n",
       " 'txt',\n",
       " 'type',\n",
       " 'type text',\n",
       " 'ui',\n",
       " 'unable',\n",
       " 'undefined',\n",
       " 'understand',\n",
       " 'unique',\n",
       " 'unit',\n",
       " 'unknown',\n",
       " 'update',\n",
       " 'upload',\n",
       " 'uri',\n",
       " 'url',\n",
       " 'use',\n",
       " 'user',\n",
       " 'user user',\n",
       " 'username',\n",
       " 'usr',\n",
       " 'utf',\n",
       " 'util',\n",
       " 'val',\n",
       " 'valid',\n",
       " 'validate',\n",
       " 'validation',\n",
       " 'value',\n",
       " 'var',\n",
       " 'varchar',\n",
       " 'variable',\n",
       " 'vector',\n",
       " 'version',\n",
       " 'via',\n",
       " 'video',\n",
       " 'view',\n",
       " 'virtual',\n",
       " 'visible',\n",
       " 'visual',\n",
       " 'visual studio',\n",
       " 'void',\n",
       " 'vs',\n",
       " 'wait',\n",
       " 'want',\n",
       " 'want use',\n",
       " 'warn',\n",
       " 'way',\n",
       " 'web',\n",
       " 'website',\n",
       " 'weight',\n",
       " 'well',\n",
       " 'white',\n",
       " 'whole',\n",
       " 'widget',\n",
       " 'width',\n",
       " 'width height',\n",
       " 'win',\n",
       " 'window',\n",
       " 'within',\n",
       " 'without',\n",
       " 'wonder',\n",
       " 'word',\n",
       " 'work',\n",
       " 'work fine',\n",
       " 'world',\n",
       " 'wrap',\n",
       " 'wrapper',\n",
       " 'write',\n",
       " 'wrong',\n",
       " 'www',\n",
       " 'xml',\n",
       " 'xmlns',\n",
       " 'year',\n",
       " 'yet']"
      ]
     },
     "execution_count": 19,
     "metadata": {},
     "output_type": "execute_result"
    }
   ],
   "source": [
    "vectorizer.get_feature_names() #visualisation des Bags-of-Words"
   ]
  },
  {
   "cell_type": "code",
   "execution_count": 20,
   "id": "e2d37fde",
   "metadata": {},
   "outputs": [
    {
     "name": "stdout",
     "output_type": "stream",
     "text": [
      "Shape of X : (35809, 950)\n"
     ]
    }
   ],
   "source": [
    "print(\"Shape of X : {}\".format(X.shape)) #print the shape of X"
   ]
  },
  {
   "cell_type": "code",
   "execution_count": 21,
   "id": "eb3917e5",
   "metadata": {},
   "outputs": [
    {
     "name": "stdout",
     "output_type": "stream",
     "text": [
      "Sparsicity:  3.4771235105552702 %\n"
     ]
    }
   ],
   "source": [
    "# Materialize the sparse data\n",
    "data_dense = X.todense()\n",
    "\n",
    "# Compute Sparsicity = Percentage of Non-Zero cells\n",
    "print(\"Sparsicity: \", ((data_dense > 0).sum()/data_dense.size)*100, \"%\")"
   ]
  },
  {
   "cell_type": "markdown",
   "id": "9c620b38",
   "metadata": {},
   "source": [
    "###### Encodage des  valeurs de la variable cible `tag_tok` : "
   ]
  },
  {
   "cell_type": "code",
   "execution_count": 22,
   "id": "1c698cec",
   "metadata": {},
   "outputs": [],
   "source": [
    "mlb = MultiLabelBinarizer()\n",
    "y = mlb.fit_transform(df.tag_tok)"
   ]
  },
  {
   "cell_type": "code",
   "execution_count": 23,
   "id": "0833cf2e",
   "metadata": {},
   "outputs": [
    {
     "name": "stdout",
     "output_type": "stream",
     "text": [
      "Shape of y: (35809, 8519)\n"
     ]
    }
   ],
   "source": [
    "print(\"Shape of y: {}\".format(y.shape))"
   ]
  },
  {
   "cell_type": "markdown",
   "id": "29436775",
   "metadata": {},
   "source": [
    "###### Création des jeux de dataset `train` et `test` pour la variable explicative et la variable cible :"
   ]
  },
  {
   "cell_type": "code",
   "execution_count": 24,
   "id": "83abb030",
   "metadata": {},
   "outputs": [
    {
     "name": "stdout",
     "output_type": "stream",
     "text": [
      "X_train shape : (25066, 950)\n",
      "X_test shape : (10743, 950)\n",
      "y_train shape : (25066, 8519)\n",
      "y_test shape : (10743, 8519)\n"
     ]
    }
   ],
   "source": [
    "X_train, X_test, y_train, y_test = train_test_split(X, y,\n",
    "                                                    test_size=0.3, random_state=42)\n",
    "print(\"X_train shape : {}\".format(X_train.shape))\n",
    "print(\"X_test shape : {}\".format(X_test.shape))\n",
    "print(\"y_train shape : {}\".format(y_train.shape))\n",
    "print(\"y_test shape : {}\".format(y_test.shape))"
   ]
  },
  {
   "cell_type": "code",
   "execution_count": 25,
   "id": "f33b65fc",
   "metadata": {},
   "outputs": [
    {
     "data": {
      "text/plain": [
       "array([[0, 0, 0, ..., 0, 0, 0],\n",
       "       [0, 0, 0, ..., 0, 0, 0],\n",
       "       [0, 0, 0, ..., 0, 0, 0],\n",
       "       ...,\n",
       "       [0, 0, 0, ..., 0, 0, 0],\n",
       "       [0, 0, 0, ..., 0, 0, 0],\n",
       "       [0, 0, 0, ..., 0, 0, 0]])"
      ]
     },
     "execution_count": 25,
     "metadata": {},
     "output_type": "execute_result"
    }
   ],
   "source": [
    "y_test"
   ]
  },
  {
   "cell_type": "code",
   "execution_count": 26,
   "id": "367a81e3",
   "metadata": {},
   "outputs": [
    {
     "data": {
      "text/plain": [
       "<10743x950 sparse matrix of type '<class 'numpy.float64'>'\n",
       "\twith 358382 stored elements in Compressed Sparse Row format>"
      ]
     },
     "execution_count": 26,
     "metadata": {},
     "output_type": "execute_result"
    }
   ],
   "source": [
    "X_test"
   ]
  },
  {
   "cell_type": "markdown",
   "id": "bdfa771d",
   "metadata": {},
   "source": [
    "### Méthode du LDA :\n",
    "Dans le domaine du traitement automatique des langues, l’allocation de Dirichlet latente (de l’anglais Latent Dirichlet Allocation) ou LDA est un modèle génératif probabiliste permettant d’expliquer des ensembles d’observations, par le moyen de groupes non observés, eux-mêmes définis par des similarités de données.\n",
    "Pour chaque mot `w` de chaque document `d`, on calcule deux quantités pour chaque thème `t` : \n",
    "\n",
    "`p(t|d)` : la probabilité que le document `d` soit assigné au thème `t`.\n",
    "`p(w|d)` : la probabilité que le thème `t` dans le corpus soit assigné au mot `w`.\n",
    "On choisit alors le nouveau thème t avec la probabilité `p(t|d)` X `p(w|d)`. Ceci correspond à la probabilité que le thème `t` génère le mot `w` dans le document `d`.\n",
    "\n",
    "En répétant les étapes précédentes un grand nombre de fois, les assignations se stabilisent. On obtient le mélange de thème présent dans chaque document en comptant chaque représentation d’un thème (assigné aux mots du document). On obtient les mots associés à chaque thème en comptant les mots qui y sont associés dans le corpus."
   ]
  },
  {
   "cell_type": "code",
   "execution_count": 31,
   "id": "a558ae83-c329-4b01-ae02-e30cc23864b7",
   "metadata": {},
   "outputs": [],
   "source": [
    "dict={}\n",
    "for i in [2,6,10,14]:    \n",
    "    lda =  LDA(n_components = i).fit(X)\n",
    "    perp=lda.perplexity(X)\n",
    "    dict[i]=perp"
   ]
  },
  {
   "cell_type": "code",
   "execution_count": 32,
   "id": "a5b2d7a0-f9e1-4d41-8d50-162deaeb8269",
   "metadata": {},
   "outputs": [
    {
     "data": {
      "text/plain": [
       "{2: 843.475772679589,\n",
       " 6: 1155.561025454891,\n",
       " 10: 1347.71894132418,\n",
       " 14: 1532.3964163310482}"
      ]
     },
     "execution_count": 32,
     "metadata": {},
     "output_type": "execute_result"
    }
   ],
   "source": [
    "dict"
   ]
  },
  {
   "cell_type": "code",
   "execution_count": 33,
   "id": "fdf731bb",
   "metadata": {},
   "outputs": [],
   "source": [
    "dict2={}\n",
    "for i in [2,6,10,14]:    \n",
    "    lda =  LDA(n_components = i).fit(X)\n",
    "    scor=lda.score(X)\n",
    "    dict2[i]=scor"
   ]
  },
  {
   "cell_type": "code",
   "execution_count": 34,
   "id": "c92639fa",
   "metadata": {},
   "outputs": [
    {
     "data": {
      "text/plain": [
       "{2: -1024422.94035151,\n",
       " 6: -1075730.2022611343,\n",
       " 10: -1100615.2209509145,\n",
       " 14: -1119093.7874411915}"
      ]
     },
     "execution_count": 34,
     "metadata": {},
     "output_type": "execute_result"
    }
   ],
   "source": [
    "dict2"
   ]
  },
  {
   "cell_type": "code",
   "execution_count": 35,
   "id": "074371b9-e52e-4f4d-a25e-de3ff005b9de",
   "metadata": {},
   "outputs": [],
   "source": [
    "lda =  LDA(n_components = 10) #model construction with 10 topics wanted"
   ]
  },
  {
   "cell_type": "code",
   "execution_count": 36,
   "id": "2fdece8c-2681-43ba-acaf-da3b0582627f",
   "metadata": {},
   "outputs": [
    {
     "data": {
      "text/plain": [
       "LatentDirichletAllocation()"
      ]
     },
     "execution_count": 36,
     "metadata": {},
     "output_type": "execute_result"
    }
   ],
   "source": [
    "lda.fit(X) #model compilation"
   ]
  },
  {
   "cell_type": "code",
   "execution_count": 37,
   "id": "fcb6b1a7-c9f9-4c3e-928a-9a2ef462f53e",
   "metadata": {},
   "outputs": [
    {
     "data": {
      "text/plain": [
       "1347.2571308582644"
      ]
     },
     "execution_count": 37,
     "metadata": {},
     "output_type": "execute_result"
    }
   ],
   "source": [
    "lda.perplexity(X) #calculate of the model's perplexity"
   ]
  },
  {
   "cell_type": "code",
   "execution_count": 38,
   "id": "306ccc28",
   "metadata": {},
   "outputs": [
    {
     "data": {
      "text/plain": [
       "-1098572.7688312598"
      ]
     },
     "execution_count": 38,
     "metadata": {},
     "output_type": "execute_result"
    }
   ],
   "source": [
    "lda.score(X) #calculate of the model's score"
   ]
  },
  {
   "cell_type": "code",
   "execution_count": 39,
   "id": "84e1f147-594c-41b5-a0d4-d12d7567da5c",
   "metadata": {},
   "outputs": [
    {
     "data": {
      "text/html": [
       "\n",
       "<link rel=\"stylesheet\" type=\"text/css\" href=\"https://cdn.jsdelivr.net/gh/bmabey/pyLDAvis@3.3.1/pyLDAvis/js/ldavis.v1.0.0.css\">\n",
       "\n",
       "\n",
       "<div id=\"ldavis_el431220554119933926229016948\"></div>\n",
       "<script type=\"text/javascript\">\n",
       "\n",
       "var ldavis_el431220554119933926229016948_data = {\"mdsDat\": {\"x\": [0.032568743192577895, 0.057248504028091764, 0.10030275616713943, 0.02984093807013666, -0.08981531322716106, 0.06331835315131829, -0.04404354647585141, -0.2103258150306896, 0.0656247041955394, -0.004719324071101688], \"y\": [-0.04972870669859228, 0.09749958367786694, -0.10569472283828743, 0.10751671843339193, -0.03761112619897133, -0.06165834055997821, 0.11500739818645986, -0.046113164340973616, -0.010905424773431508, -0.008312214887484348], \"topics\": [1, 2, 3, 4, 5, 6, 7, 8, 9, 10], \"cluster\": [1, 1, 1, 1, 1, 1, 1, 1, 1, 1], \"Freq\": [14.327042648564392, 12.019907303812841, 11.502391985025657, 11.07918010319416, 9.419279912332131, 9.281459995143504, 8.750437219157165, 8.140896635811547, 8.042800639210027, 7.436603557748571]}, \"tinfo\": {\"Term\": [\"div\", \"file\", \"table\", \"public\", \"int\", \"android\", \"form\", \"image\", \"column\", \"sql\", \"width\", \"date\", \"query\", \"string\", \"color\", \"row\", \"height\", \"self\", \"button\", \"css\", \"cell\", \"style\", \"jquery\", \"class\", \"select\", \"font\", \"html\", \"request\", \"page\", \"void\", \"visual studio\", \"visual\", \"studio\", \"experience\", \"dotnet\", \"software\", \"flash\", \"iphone\", \"performance\", \"design\", \"develop\", \"language\", \"people\", \"aspdotnet\", \"practice\", \"development\", \"mvc\", \"good\", \"vs\", \"game\", \"video\", \"tool\", \"functionality\", \"good way\", \"team\", \"developer\", \"framework\", \"editor\", \"mobile\", \"engine\", \"free\", \"feature\", \"web\", \"application\", \"control\", \"csharp\", \"really\", \"use\", \"know\", \"way\", \"well\", \"think\", \"window\", \"app\", \"project\", \"look\", \"need\", \"like\", \"question\", \"library\", \"user\", \"code\", \"find\", \"make\", \"want\", \"work\", \"page\", \"create\", \"time\", \"file\", \"cout\", \"std\", \"int int\", \"printf\", \"static void\", \"system println\", \"struct\", \"public static\", \"char\", \"println\", \"int\", \"operator\", \"foo\", \"double\", \"bool\", \"arraylist\", \"get set\", \"generic\", \"pointer\", \"static\", \"cast\", \"obj\", \"byte\", \"public string\", \"integer\", \"constructor\", \"public class\", \"buffer\", \"args\", \"void\", \"public\", \"thread\", \"string\", \"vector\", \"class\", \"method\", \"return\", \"object\", \"private\", \"array\", \"type\", \"function\", \"system\", \"new\", \"value\", \"list\", \"java\", \"main\", \"code\", \"use\", \"number\", \"call\", \"get\", \"test\", \"like\", \"git\", \"jar\", \"install\", \"lib\", \"usr\", \"instal\", \"repository\", \"eclipse\", \"deploy\", \"apache\", \"branch\", \"py\", \"env\", \"dependency\", \"github\", \"package\", \"commit\", \"dll\", \"mac\", \"configuration\", \"ip\", \"dev\", \"machine\", \"module\", \"configure\", \"driver\", \"config\", \"remote\", \"bin\", \"local\", \"version\", \"plugin\", \"project\", \"build\", \"run\", \"error\", \"java\", \"directory\", \"file\", \"app\", \"org\", \"server\", \"python\", \"use\", \"path\", \"com\", \"library\", \"test\", \"command\", \"get\", \"try\", \"work\", \"application\", \"find\", \"window\", \"varchar\", \"sql server\", \"sql\", \"month\", \"datetime\", \"timestamp\", \"procedure\", \"linq\", \"date\", \"query\", \"table\", \"oracle\", \"join\", \"transaction\", \"mysql\", \"record\", \"price\", \"country\", \"city\", \"year\", \"day\", \"primary\", \"insert\", \"column\", \"hour\", \"product\", \"customer\", \"unique\", \"select\", \"age\", \"database\", \"group\", \"row\", \"db\", \"order\", \"count\", \"field\", \"name\", \"value\", \"datum\", \"result\", \"time\", \"store\", \"user\", \"null\", \"use\", \"like\", \"get\", \"number\", \"create\", \"want\", \"input type\", \"text javascript\", \"textbox\", \"submit\", \"checkbox\", \"type text\", \"getelementbyid\", \"document getelementbyid\", \"ajax\", \"alert\", \"asp\", \"form\", \"jquery\", \"tr\", \"btn\", \"attr\", \"dropdown\", \"onclick\", \"validation\", \"javascript\", \"aspx\", \"ready\", \"refresh\", \"validate\", \"click\", \"button\", \"th\", \"input\", \"fire\", \"formicrosoft\", \"page\", \"post\", \"html\", \"label\", \"option\", \"script\", \"event\", \"php\", \"function\", \"text\", \"var\", \"document\", \"value\", \"type\", \"div\", \"name\", \"select\", \"datum\", \"field\", \"user\", \"use\", \"class\", \"code\", \"socket\", \"router\", \"await\", \"channel\", \"async\", \"err\", \"prop\", \"console log\", \"token\", \"react\", \"mail\", \"auth\", \"ts\", \"response\", \"microsoftg\", \"timeout\", \"express\", \"queue\", \"proxy\", \"route\", \"callback\", \"send\", \"const\", \"client\", \"request\", \"console\", \"message\", \"authentication\", \"port\", \"email\", \"log\", \"api\", \"component\", \"json\", \"service\", \"connection\", \"error\", \"server\", \"url\", \"header\", \"http\", \"user\", \"function\", \"return\", \"get\", \"datum\", \"import\", \"use\", \"app\", \"var\", \"plot\", \"np\", \"numpy\", \"axis\", \"matrix\", \"shape\", \"alloc\", \"cell\", \"dataframe\", \"sheet\", \"pd\", \"frame\", \"range\", \"chart\", \"self\", \"graph\", \"nil\", \"draw\", \"len\", \"col\", \"fit\", \"scale\", \"weight\", \"dataset\", \"calculate\", \"algorithm\", \"random\", \"green\", \"vector\", \"dim\", \"def\", \"row\", \"point\", \"array\", \"column\", \"list\", \"value\", \"print\", \"datum\", \"index\", \"number\", \"import\", \"python\", \"want\", \"loop\", \"image\", \"use\", \"code\", \"like\", \"set\", \"function\", \"get\", \"return\", \"background color\", \"margin\", \"padding\", \"width height\", \"border\", \"font\", \"img src\", \"div div\", \"align\", \"height\", \"scroll\", \"img\", \"div class\", \"width\", \"css\", \"span\", \"bottom\", \"center\", \"div\", \"icon\", \"style\", \"white\", \"color\", \"background\", \"black\", \"bootstrap\", \"grid\", \"left\", \"panel\", \"animation\", \"top\", \"href\", \"image\", \"position\", \"leave\", \"text\", \"button\", \"class\", \"html\", \"element\", \"display\", \"content\", \"size\", \"bash\", \"perl\", \"pdf\", \"file file\", \"regex\", \"cmd\", \"filename\", \"txt\", \"shell\", \"batch\", \"csv\", \"upload\", \"dir\", \"reader\", \"directory\", \"folder\", \"excel\", \"file\", \"command\", \"job\", \"exe\", \"character\", \"download\", \"extract\", \"echo\", \"word\", \"tmp\", \"jpg\", \"match\", \"paste\", \"replace\", \"process\", \"open\", \"line\", \"script\", \"path\", \"save\", \"read\", \"output\", \"use\", \"image\", \"write\", \"string\", \"run\", \"text\", \"like\", \"try\", \"get\", \"want\", \"way\", \"work\", \"intent\", \"activity\", \"override public\", \"xmlns\", \"override\", \"layout\", \"android\", \"public void\", \"facebook\", \"bundle\", \"param\", \"public function\", \"builder\", \"card\", \"paramicrosoft\", \"super\", \"author\", \"player\", \"xml\", \"uri\", \"parent\", \"protect\", \"public class\", \"http www\", \"widget\", \"schema\", \"context\", \"public string\", \"extend\", \"controller\", \"public\", \"view\", \"item\", \"model\", \"private\", \"node\", \"void\", \"url\", \"child\", \"name\", \"string\", \"new\", \"class\", \"com\", \"json\", \"http\", \"object\", \"property\", \"user\", \"get\", \"return\", \"value\", \"use\", \"list\"], \"Freq\": [533.0, 1133.0, 573.0, 501.0, 499.0, 375.0, 399.0, 558.0, 435.0, 310.0, 255.0, 421.0, 392.0, 801.0, 255.0, 426.0, 208.0, 318.0, 414.0, 208.0, 208.0, 229.0, 236.0, 833.0, 444.0, 150.0, 411.0, 356.0, 525.0, 294.0, 89.22156578728521, 104.650401106167, 98.16175360964105, 52.4591185242476, 121.79649838572396, 50.071579317920495, 44.78190811524919, 66.77430348344173, 61.40255734887413, 65.24064172375769, 62.42012134118027, 90.74309667304135, 54.81846367889971, 102.03762003957344, 41.87125349772117, 52.16390476455498, 58.365964329742454, 199.4307050589745, 59.685821342826415, 53.75021958699276, 71.58332449476494, 82.17754083610431, 38.21907371278402, 71.7500705679632, 26.707428509276006, 41.85769985673941, 77.8829951413817, 37.27973631708603, 40.58177617384304, 30.89649985684708, 36.97879464842632, 63.201683057045386, 150.6751882852585, 220.94854699737746, 121.655901245587, 93.09119686807172, 73.33673662721436, 302.94928140530357, 148.46595442606278, 175.34791891164346, 98.07661170459791, 94.39767945563824, 130.09663555084296, 143.65886815601462, 112.27362333497442, 111.71133992996043, 135.9538737832518, 154.92221466621984, 101.76200804554571, 92.21355849100912, 134.65776948114745, 136.56126556111795, 118.03792257251673, 112.0519093299534, 121.75573284928431, 120.70555229523691, 107.63191919788667, 106.70649826491622, 103.36012393325154, 104.80129505937929, 58.27734007954919, 133.67450605663106, 57.312480616250845, 67.77413186616045, 42.44734447812185, 58.86905066140567, 79.26293784092839, 59.45469648903801, 128.51827230400957, 71.47051757812943, 368.8353068297664, 52.90663461925258, 129.26206200624972, 91.80608837572288, 49.893392226031246, 35.22227807876042, 42.75620413454188, 46.2458100741071, 62.2531026066329, 122.44109485578623, 36.94568854390922, 48.02966629599633, 86.80040270303326, 31.621438979842214, 77.38797102962447, 48.43224272456966, 60.43100986121484, 47.66282968413908, 47.987559044306856, 159.06711161139359, 255.7073455669108, 114.30412272095565, 345.7106659779752, 58.961126847667956, 259.3544088842783, 163.29241560737674, 190.1742738980701, 165.73623166288436, 88.9113373315852, 148.3246565437485, 155.75070635951008, 161.8099292213346, 107.18900294659089, 152.31746715703514, 156.6403701718526, 132.09934179005137, 113.4295582844631, 91.93944994682707, 131.8014844921715, 144.30101837395316, 103.44186939268101, 103.19739902455639, 110.72411625198359, 94.59896439651604, 93.24542940326822, 94.48511767531475, 73.02268139076493, 131.95846718157404, 90.10437440720646, 49.92999887054437, 99.35019367545641, 61.82257494290701, 74.34544069029488, 49.35357070333311, 75.92115207843104, 50.14889676459528, 61.06097002645697, 37.65159628772971, 53.27487268062068, 48.2364425257098, 116.30329249033564, 42.38648647033025, 66.56230691681345, 45.76004745791536, 67.89164504677808, 53.296948488960346, 43.14424324932283, 68.27834583779234, 130.5779097349602, 49.02418319690961, 42.907287899119154, 79.16470617623703, 43.122620618576256, 50.474279776731315, 85.348183185998, 153.2036483400793, 78.57903973548866, 178.99192295769885, 143.17890605614124, 191.9814057866828, 205.1760493477043, 153.6925917289646, 87.19981969052199, 247.88448993654114, 154.69831307250874, 80.73074902508392, 135.82640712400334, 105.05040267081192, 178.07505092194842, 93.8536304619439, 105.337412550613, 88.02498921256007, 102.36661832500185, 87.03164280250141, 116.58581190646287, 109.18877432320589, 106.41018434791901, 97.9545626503913, 93.59242914850233, 90.08419641263067, 54.24092794629479, 93.64347906752278, 257.58306108021225, 86.61453160296563, 89.46909894637915, 65.82845845958242, 58.485464124503665, 48.858831634880985, 312.20970225959377, 289.60223606928145, 419.492316127445, 57.144319349361666, 87.75836207169391, 50.07221782229457, 147.6310166749302, 116.1922220102171, 58.81336987461685, 46.97817549751622, 39.41090976517682, 84.18694001046917, 95.08466838598655, 34.37658568607312, 114.77224030728422, 248.34070456622607, 46.57914151228342, 94.56608720270417, 50.256111907142476, 41.20655594872146, 231.5560873912697, 36.215556031786, 191.15998588109235, 107.91606761746192, 197.1579809925881, 90.90485938129689, 113.36910287445679, 103.3982017295087, 130.77521742300192, 187.75585435363607, 180.84167900489442, 158.0649152319618, 113.75651687528936, 115.86012785417294, 89.16381144926832, 124.76544951986516, 95.58140799907409, 130.40339908278256, 114.52583519369794, 111.58715167688364, 97.93211542713254, 98.1909665749388, 97.90780913755663, 81.9838722294054, 35.745841176730515, 70.30410944982671, 105.96993294192939, 53.27067649352772, 74.38691858105021, 47.89018565188486, 46.28052305419052, 111.24985793273639, 76.11286787609488, 60.79885242402326, 279.33610953262377, 153.00856385156737, 73.7280491053817, 32.58815802146981, 32.67628655567388, 30.657521016735082, 35.96150313783623, 43.50337963373466, 139.95780761716, 30.077473461866433, 25.908750315994343, 29.968240295183048, 34.1049832147906, 142.13036848057942, 185.3280291312162, 35.0383612567818, 171.82233567886533, 25.136388781811306, 35.07350668714535, 203.32695743207907, 124.1116905163346, 156.24412520357828, 82.0801758729449, 106.86985897143039, 133.16763497119027, 107.76936183877686, 141.43971229018663, 195.76665907251572, 154.5193026851502, 125.94866697365896, 90.8835303377738, 162.0425228158365, 130.35208677240655, 121.32467681592587, 122.0630453369061, 97.90329658384202, 105.55050841679855, 89.55262898479825, 94.88586141134753, 88.48394209836641, 83.74917319671496, 83.04848485986857, 101.1766450299807, 47.20953680658156, 55.36284443773729, 58.90662095746081, 60.89941671907601, 70.41975325303243, 59.40637948022695, 98.35392909378965, 95.26569524687235, 95.0100183441837, 54.57591812735024, 38.94199623514702, 31.03155533750698, 146.3619293249263, 37.71159124199956, 32.53927103374251, 34.06358194523002, 47.38796182626209, 39.63349686727606, 63.126370646536415, 44.568471832106354, 147.7480167841235, 117.12239020630327, 146.31734777617822, 187.47335548035895, 121.8103787832918, 170.27520601388252, 35.4333697800431, 58.627731973869096, 95.36598093818728, 164.99438169044865, 120.95418991929388, 92.40158237419018, 97.12348650973344, 108.61286846194345, 80.01925021416334, 173.43671420864953, 123.14705972958437, 100.88856419979675, 72.45898342833232, 99.20931661507986, 120.96890412099319, 117.38830381849465, 108.61674421306606, 116.60297170636078, 108.83759408734039, 89.51193300746334, 106.53060883184821, 87.33290070774069, 80.42708801849344, 111.99482315852387, 76.24940768906345, 57.066290816897656, 62.34879941411092, 75.76064027234357, 60.374777045192964, 45.43326195953043, 166.7804615512703, 83.93675078546414, 65.41620868651407, 40.19513215666029, 114.25789530065761, 114.55717772912712, 59.112574381760254, 211.2634245525691, 50.010660413699334, 51.071265195623475, 68.1311158509034, 32.988548446880564, 70.34796069309253, 29.950879044365962, 37.06785206139524, 26.502356199029826, 39.924139590316166, 42.38275566289656, 32.656924560429, 50.169298440299954, 23.362170735175, 47.8590555678305, 40.156609040714265, 61.40966090036146, 136.00691629675046, 87.58531850139394, 149.21973393233708, 124.09746533043834, 131.49745135861292, 153.69930095214954, 87.61231336793774, 129.84636185876016, 77.13323637645851, 89.91456156850235, 80.24841392482456, 71.73342123942828, 83.58460618295298, 62.5121656077141, 77.84780023127082, 91.08541605840263, 83.08189578608723, 80.08676836252324, 76.84429031747895, 75.8744384171815, 74.07166237895605, 71.03687081673654, 50.80497249736301, 83.24486778695982, 52.61631779659919, 67.34470778181999, 90.78304074651265, 133.14307173830525, 35.32511393940297, 106.86185377422393, 59.38371247844927, 172.2445089321562, 86.40087340495272, 93.02630631488216, 107.68667593693863, 203.21434601126168, 164.01148921452625, 104.88339510827694, 62.22767925424165, 76.10394407838531, 396.6081969173254, 80.68429439991081, 166.3396084880488, 45.10483001196866, 179.02629439409432, 132.30892643708697, 38.5949102189541, 35.29501317789026, 80.91911736711502, 35.7916253347654, 39.296768331981575, 41.83414267559411, 89.18682592925191, 77.53157029848767, 249.19160386804532, 85.91409333976621, 81.36735863509965, 152.5305456115218, 116.84547829173526, 152.45884165428595, 113.54346430868416, 94.33559432110481, 93.3514545556338, 87.26196005608364, 83.59822497603075, 56.785383266299064, 58.39794229374407, 73.17990291613305, 37.44408982905492, 93.67333799257766, 52.372874456674566, 80.7772629925767, 62.54659242142844, 54.69434425111562, 44.80367693326041, 62.2968395098973, 81.7601699010436, 40.47457371938859, 26.7617139630561, 95.96999654170821, 93.3868598906047, 59.43987319019076, 525.2565520562617, 123.39290948449215, 40.876295813304935, 34.51815974884001, 74.7553187785026, 53.73528095206644, 34.65163710815819, 62.01135358656347, 68.67284150085572, 18.484920943167698, 30.628528991061188, 74.80318164838513, 21.05379768553498, 60.54696682394642, 89.52513285507314, 93.62126209916696, 133.0875195863506, 112.40203666363905, 85.59546084533959, 61.850234589382204, 81.55509688595053, 77.23747881344615, 125.265552033011, 88.13789080498465, 76.41872167854413, 84.11239400917232, 74.06374100481958, 75.11698116147552, 74.26901971907634, 73.52072388956282, 71.44079088502426, 69.38727512566555, 68.43433397953228, 68.5552664831024, 68.94615015037904, 91.40366819310587, 45.54959512063004, 33.1613351488445, 78.30088595681973, 85.19474824152891, 215.36263339342085, 63.59021425064517, 36.844757437878705, 30.34228142791205, 35.25728757815136, 20.522283092471884, 26.05910129697818, 33.77352284937014, 32.61184189956523, 32.74516181734878, 23.95542664393249, 42.17325725892913, 121.1711449497094, 24.681912873693832, 62.702508206835475, 28.06268255388628, 43.593873174814156, 41.32829887049977, 31.756759855638368, 36.31852737756793, 64.6533948054041, 20.049442506895495, 40.39184373191731, 63.106439984519206, 169.32312443425573, 119.31855353264409, 92.10329953495433, 94.81280337019163, 70.46716052437333, 75.9073261789792, 82.0652726549559, 94.0861248330736, 53.841788151168195, 135.25840866483412, 132.59720338780377, 123.54943996184079, 126.29144807393469, 85.58150414017052, 62.982814773333835, 75.49931587609082, 80.16100422606361, 63.78175969760471, 82.4990179069754, 80.07041189413943, 73.07796789922216, 73.04736524521773, 70.08577435503234, 64.71819347765326], \"Total\": [533.0, 1133.0, 573.0, 501.0, 499.0, 375.0, 399.0, 558.0, 435.0, 310.0, 255.0, 421.0, 392.0, 801.0, 255.0, 426.0, 208.0, 318.0, 414.0, 208.0, 208.0, 229.0, 236.0, 833.0, 444.0, 150.0, 411.0, 356.0, 525.0, 294.0, 104.36999196191974, 129.39320372267713, 128.24565564810692, 73.97106329819084, 184.6096349672435, 76.90180669385764, 71.63533063561744, 107.30808768347387, 99.03820461095724, 106.53398451993652, 102.83442117529873, 153.3721357843743, 93.6856444808539, 174.62997269118097, 71.87344438239452, 90.5045649602599, 101.67551895974262, 350.764415917846, 106.3063491240262, 96.12591887127857, 128.76907117027127, 151.5785357373956, 71.01943420154109, 134.93343928453706, 50.643525893812985, 80.31996688950795, 150.95865374166192, 72.6286339165369, 80.94096214835236, 61.821195635788925, 74.16962071299993, 128.8049974421568, 325.3998107121722, 500.4166529633103, 280.0745442400312, 235.41313125275443, 173.68987712290735, 1304.4199792532781, 485.46878662691785, 630.3435111584866, 263.60686046178023, 247.8794812312756, 430.8398113504842, 524.2440976808117, 381.6760219878777, 381.40513945513226, 569.4801893618358, 761.194696902057, 327.01086217099555, 267.4874280782714, 750.2957217376473, 799.189151060965, 542.8881485638453, 476.8126231859152, 698.6428587544901, 718.3205934112578, 525.0870522654286, 595.0819101293774, 507.4702537689167, 1133.7117192708492, 59.35504187602767, 138.61140577590422, 62.78959958740497, 75.5024939041914, 48.21335683558987, 67.17651646769461, 93.38877107538727, 70.82978208229557, 154.43241053252692, 88.28094164714133, 499.5986883587176, 71.80386918428918, 187.34571840933154, 133.12201247703945, 73.1415165264938, 52.116544087280715, 65.33107428179298, 72.97423070166536, 98.4590523333968, 196.30773334276532, 59.864642074656224, 79.49935623724882, 146.31621408205604, 54.3574747766704, 135.44432639429291, 86.51704479555588, 108.59573057670161, 86.1062072784817, 87.7001226596267, 294.1666116158939, 501.9199018483156, 225.0975901963549, 801.468754086727, 111.7393122049634, 833.0615941833523, 480.17030720292047, 640.827362938846, 548.0365892392999, 212.72617586697135, 513.1568421490381, 608.5982050259485, 775.7729977739519, 339.4674874079257, 717.431161877459, 855.137071185855, 582.1099034535871, 473.0512295237112, 252.64443316478688, 799.189151060965, 1304.4199792532781, 420.12389039611537, 485.87499802173005, 883.6564840093358, 498.98171808583993, 761.194696902057, 97.73511071878146, 77.96200018062449, 150.94196461919893, 113.55098340476385, 63.60491505131149, 128.93269028776788, 82.27364282957055, 102.40868231116625, 69.50018507757736, 108.58193509670328, 71.85247806436276, 89.24877258453598, 55.597478094371986, 79.81093112254625, 72.50438516729632, 177.89921933920056, 64.92103873587034, 102.15150494720791, 74.58799554126543, 111.14083581747644, 88.73696904331602, 72.26687430061409, 115.27117074434652, 222.84227455612617, 84.33255624706096, 73.98062463829072, 139.9489262318969, 77.88640586653949, 91.3626864957126, 155.5785560232906, 294.48750255957833, 146.8514111722371, 381.6760219878777, 297.08351501347016, 532.486381928823, 711.1461430707188, 473.0512295237112, 200.2876477383224, 1133.7117192708492, 524.2440976808117, 182.32241896028916, 516.4547069060787, 335.7546170617607, 1304.4199792532781, 295.9190155492625, 411.8374424260397, 267.4874280782714, 498.98171808583993, 284.5294098830374, 883.6564840093358, 702.1367152886961, 718.3205934112578, 500.4166529633103, 542.8881485638453, 430.8398113504842, 55.38153079525375, 109.08547435952492, 310.7817391249058, 106.38565476254561, 111.07851400611128, 82.66851086064145, 77.27491814199988, 64.95324938337238, 421.305495200059, 392.8269806511025, 573.4971858070551, 78.6740425496435, 122.5049167046909, 70.750965466063, 212.21793278740674, 169.8786896469016, 86.1210442626025, 69.71949878075957, 60.979303917550475, 130.84034588656638, 151.6989410864748, 56.70840880730736, 191.55442986523323, 435.77521622724845, 83.01628757053838, 171.29581546412078, 93.09160065148913, 77.68106214715804, 444.81860225436753, 70.05642518715989, 377.8437285641462, 218.2468588871966, 426.902445128146, 181.76668777639904, 241.8830612001531, 232.36648737097372, 330.69259024284753, 820.6817306827218, 855.137071185855, 769.1025026028939, 415.7006367442766, 507.4702537689167, 259.6351585252355, 750.2957217376473, 326.79537576943824, 1304.4199792532781, 761.194696902057, 883.6564840093358, 420.12389039611537, 595.0819101293774, 698.6428587544901, 91.66430740214251, 42.151450176581825, 85.69846264180896, 130.60861910158204, 66.69564168875975, 95.62559001116996, 61.91568739517414, 60.16766241484215, 146.9706571208194, 106.34374703414578, 85.91241780315023, 399.5134528728096, 236.8592032178448, 115.11442117285543, 57.43509064947456, 57.5983966934246, 54.465155490466714, 64.44471473783344, 78.11553562312706, 279.5037663578639, 60.770254653987564, 53.198511312231446, 61.973317898207206, 72.21581158478153, 310.9016556350293, 414.87162453451873, 79.89989145290117, 393.01907927308264, 58.94332809605237, 83.78459962415454, 525.0870522654286, 314.6472964297924, 411.92396461812, 213.13744742490493, 303.6845030515032, 409.04026484757645, 314.2096353178963, 452.3191061914652, 775.7729977739519, 596.7794802451625, 449.19341464258474, 273.05691277588215, 855.137071185855, 608.5982050259485, 533.7825859098562, 820.6817306827218, 444.81860225436753, 769.1025026028939, 330.69259024284753, 750.2957217376473, 1304.4199792532781, 833.0615941833523, 799.189151060965, 112.71588654077925, 54.795683785440836, 65.26982059462034, 71.31825774160731, 75.65536728897507, 93.73357543550127, 79.12143921569175, 132.21059050834737, 129.42281418738364, 137.1319012427159, 80.16052633542755, 58.54883712693004, 49.09809380442981, 237.03666638669281, 62.53711497185762, 54.71093138558021, 57.5698184832827, 80.39600356876119, 67.57721831166336, 109.9799336473295, 78.39867903386684, 270.7650480756929, 220.69496049148376, 276.98771170042687, 356.062829785672, 232.21292352899272, 345.04978037611136, 74.96886357099235, 125.6155829300538, 206.4166295521186, 380.0194738158907, 281.6179392566521, 224.8369290046379, 250.55467960887185, 305.11751935114216, 198.7239072776308, 711.1461430707188, 516.4547069060787, 385.58988300058087, 195.3859839086339, 388.5993121844062, 750.2957217376473, 775.7729977739519, 640.827362938846, 883.6564840093358, 769.1025026028939, 369.82794779747246, 1304.4199792532781, 524.2440976808117, 449.19341464258474, 113.63367197982613, 77.50406894286438, 62.331459000194165, 68.66036412773988, 84.17896181223428, 69.58362435508438, 55.75835288494687, 208.2309537389156, 113.45787761428848, 88.64455173015332, 55.39021439176508, 162.86386981861594, 163.5023137374798, 88.49512530451304, 318.6394333245222, 77.45466605674383, 79.90739208274283, 108.4900543073575, 58.37565825277103, 129.2666888382233, 55.3347562018815, 69.6490488095983, 50.59466606212017, 82.53814059872593, 87.82676627491469, 68.34266325746891, 111.32549650375753, 52.613905737277065, 111.7393122049634, 95.41203899570591, 155.62623502044488, 426.902445128146, 248.31791689287553, 513.1568421490381, 435.77521622724845, 582.1099034535871, 855.137071185855, 333.60395524861946, 769.1025026028939, 293.57918046759664, 420.12389039611537, 369.82794779747246, 335.7546170617607, 698.6428587544901, 199.5985523256036, 558.4878845906198, 1304.4199792532781, 799.189151060965, 761.194696902057, 557.8707244961873, 775.7729977739519, 883.6564840093358, 640.827362938846, 53.17556747317659, 87.19926533903622, 58.35282327486163, 75.04105710417062, 101.26806155391765, 150.009295353641, 39.99234762116473, 124.82375213022793, 70.3328449718385, 208.96347877522473, 105.65902205992869, 115.68432938881078, 134.1456375419912, 255.59163322296908, 208.85864498265383, 136.89979092936974, 81.91758098923252, 100.97315621671012, 533.7825859098562, 110.4694690557065, 229.2628534574127, 62.51301683697545, 255.11778025414162, 189.67799849253652, 56.47315065153297, 54.94904518384422, 126.8385907180585, 58.86541023455842, 66.65554898949497, 72.4600255835187, 157.60049017629728, 139.6769266970597, 558.4878845906198, 177.46068038601342, 165.99219159053462, 596.7794802451625, 414.87162453451873, 833.0615941833523, 411.92396461812, 327.9667513684621, 322.0713122672912, 321.6830434813795, 293.0215394188218, 69.0226188326545, 72.06759967976038, 91.99137366957675, 47.884448330584725, 120.25547369323137, 70.91673851571372, 115.23747885057509, 89.57461898872737, 78.43974230399937, 65.04050096504527, 103.31740369107527, 143.9515883227191, 73.61148113655955, 55.65612611682289, 200.2876477383224, 194.90842658550585, 124.17285747541519, 1133.7117192708492, 284.5294098830374, 97.2348166787151, 82.74505961145596, 188.56955934035557, 136.4800458085895, 89.78432155073165, 163.74216062538503, 181.79648305069048, 50.787547453731634, 85.50233028498062, 211.2725295665639, 59.503333822173055, 171.31775967225013, 255.63123091891842, 289.07167798396927, 455.05062886412094, 409.04026484757645, 295.9190155492625, 202.04377012154103, 335.76942568698104, 315.9756408802366, 1304.4199792532781, 558.4878845906198, 380.97488087454116, 801.468754086727, 532.486381928823, 596.7794802451625, 761.194696902057, 702.1367152886961, 883.6564840093358, 698.6428587544901, 630.3435111584866, 718.3205934112578, 73.68481937433069, 110.99359724940105, 56.25561766185035, 47.18124717157713, 133.41618441009427, 145.70525522650217, 375.1496146848203, 119.88620082260272, 73.9084518042245, 61.35859198341146, 71.7517409783996, 42.28521797865805, 55.15119077592696, 71.98905065461763, 69.6635680597885, 69.95638517037435, 52.42956622298719, 93.81874190550131, 273.79813427257426, 57.369345330231475, 151.5265140059346, 68.60110110082016, 108.59573057670161, 103.69896629072858, 80.99087815502962, 93.25233940188278, 169.2327121125637, 54.3574747766704, 109.8919232935084, 177.14059315523156, 501.9199018483156, 394.25877658010563, 294.2078631987545, 304.8282595760645, 212.72617586697135, 238.3125914573402, 294.1666116158939, 385.58988300058087, 169.2205081890554, 820.6817306827218, 801.468754086727, 717.431161877459, 833.0615941833523, 411.8374424260397, 250.55467960887185, 388.5993121844062, 548.0365892392999, 303.06765886633303, 750.2957217376473, 883.6564840093358, 640.827362938846, 855.137071185855, 1304.4199792532781, 582.1099034535871], \"Category\": [\"Default\", \"Default\", \"Default\", \"Default\", \"Default\", \"Default\", \"Default\", \"Default\", \"Default\", \"Default\", \"Default\", \"Default\", \"Default\", \"Default\", \"Default\", \"Default\", \"Default\", \"Default\", \"Default\", \"Default\", \"Default\", \"Default\", \"Default\", \"Default\", \"Default\", \"Default\", \"Default\", \"Default\", \"Default\", \"Default\", \"Topic1\", \"Topic1\", \"Topic1\", \"Topic1\", \"Topic1\", \"Topic1\", \"Topic1\", \"Topic1\", \"Topic1\", \"Topic1\", \"Topic1\", \"Topic1\", \"Topic1\", \"Topic1\", \"Topic1\", \"Topic1\", \"Topic1\", \"Topic1\", \"Topic1\", \"Topic1\", \"Topic1\", \"Topic1\", \"Topic1\", \"Topic1\", \"Topic1\", \"Topic1\", \"Topic1\", \"Topic1\", \"Topic1\", \"Topic1\", \"Topic1\", \"Topic1\", \"Topic1\", \"Topic1\", \"Topic1\", \"Topic1\", \"Topic1\", \"Topic1\", \"Topic1\", \"Topic1\", \"Topic1\", \"Topic1\", \"Topic1\", \"Topic1\", \"Topic1\", \"Topic1\", \"Topic1\", \"Topic1\", \"Topic1\", \"Topic1\", \"Topic1\", \"Topic1\", \"Topic1\", \"Topic1\", \"Topic1\", \"Topic1\", \"Topic1\", \"Topic1\", \"Topic1\", \"Topic1\", \"Topic2\", \"Topic2\", \"Topic2\", \"Topic2\", \"Topic2\", \"Topic2\", \"Topic2\", \"Topic2\", \"Topic2\", \"Topic2\", \"Topic2\", \"Topic2\", \"Topic2\", \"Topic2\", \"Topic2\", \"Topic2\", \"Topic2\", \"Topic2\", \"Topic2\", \"Topic2\", \"Topic2\", \"Topic2\", \"Topic2\", \"Topic2\", \"Topic2\", \"Topic2\", \"Topic2\", \"Topic2\", \"Topic2\", \"Topic2\", \"Topic2\", \"Topic2\", \"Topic2\", \"Topic2\", \"Topic2\", \"Topic2\", \"Topic2\", \"Topic2\", \"Topic2\", \"Topic2\", \"Topic2\", \"Topic2\", \"Topic2\", \"Topic2\", \"Topic2\", \"Topic2\", \"Topic2\", \"Topic2\", \"Topic2\", \"Topic2\", \"Topic2\", \"Topic2\", \"Topic2\", \"Topic2\", \"Topic2\", \"Topic3\", \"Topic3\", \"Topic3\", \"Topic3\", \"Topic3\", \"Topic3\", \"Topic3\", \"Topic3\", \"Topic3\", \"Topic3\", \"Topic3\", \"Topic3\", \"Topic3\", \"Topic3\", \"Topic3\", \"Topic3\", \"Topic3\", \"Topic3\", \"Topic3\", \"Topic3\", \"Topic3\", \"Topic3\", \"Topic3\", \"Topic3\", \"Topic3\", \"Topic3\", \"Topic3\", \"Topic3\", \"Topic3\", \"Topic3\", \"Topic3\", \"Topic3\", \"Topic3\", \"Topic3\", \"Topic3\", \"Topic3\", \"Topic3\", \"Topic3\", \"Topic3\", \"Topic3\", \"Topic3\", \"Topic3\", \"Topic3\", \"Topic3\", \"Topic3\", \"Topic3\", \"Topic3\", \"Topic3\", \"Topic3\", \"Topic3\", \"Topic3\", \"Topic3\", \"Topic3\", \"Topic3\", \"Topic3\", \"Topic4\", \"Topic4\", \"Topic4\", \"Topic4\", \"Topic4\", \"Topic4\", \"Topic4\", \"Topic4\", \"Topic4\", \"Topic4\", \"Topic4\", \"Topic4\", \"Topic4\", \"Topic4\", \"Topic4\", \"Topic4\", \"Topic4\", \"Topic4\", \"Topic4\", \"Topic4\", \"Topic4\", \"Topic4\", \"Topic4\", \"Topic4\", \"Topic4\", \"Topic4\", \"Topic4\", \"Topic4\", \"Topic4\", \"Topic4\", \"Topic4\", \"Topic4\", \"Topic4\", \"Topic4\", \"Topic4\", \"Topic4\", \"Topic4\", \"Topic4\", \"Topic4\", \"Topic4\", \"Topic4\", \"Topic4\", \"Topic4\", \"Topic4\", \"Topic4\", \"Topic4\", \"Topic4\", \"Topic4\", \"Topic4\", \"Topic4\", \"Topic4\", \"Topic5\", \"Topic5\", \"Topic5\", \"Topic5\", \"Topic5\", \"Topic5\", \"Topic5\", \"Topic5\", \"Topic5\", \"Topic5\", \"Topic5\", \"Topic5\", \"Topic5\", \"Topic5\", \"Topic5\", \"Topic5\", \"Topic5\", \"Topic5\", \"Topic5\", \"Topic5\", \"Topic5\", \"Topic5\", \"Topic5\", \"Topic5\", \"Topic5\", \"Topic5\", \"Topic5\", \"Topic5\", \"Topic5\", \"Topic5\", \"Topic5\", \"Topic5\", \"Topic5\", \"Topic5\", \"Topic5\", \"Topic5\", \"Topic5\", \"Topic5\", \"Topic5\", \"Topic5\", \"Topic5\", \"Topic5\", \"Topic5\", \"Topic5\", \"Topic5\", \"Topic5\", \"Topic5\", \"Topic5\", \"Topic5\", \"Topic5\", \"Topic5\", \"Topic5\", \"Topic5\", \"Topic6\", \"Topic6\", \"Topic6\", \"Topic6\", \"Topic6\", \"Topic6\", \"Topic6\", \"Topic6\", \"Topic6\", \"Topic6\", \"Topic6\", \"Topic6\", \"Topic6\", \"Topic6\", \"Topic6\", \"Topic6\", \"Topic6\", \"Topic6\", \"Topic6\", \"Topic6\", \"Topic6\", \"Topic6\", \"Topic6\", \"Topic6\", \"Topic6\", \"Topic6\", \"Topic6\", \"Topic6\", \"Topic6\", \"Topic6\", \"Topic6\", \"Topic6\", \"Topic6\", \"Topic6\", \"Topic6\", \"Topic6\", \"Topic6\", \"Topic6\", \"Topic6\", \"Topic6\", \"Topic6\", \"Topic6\", \"Topic6\", \"Topic6\", \"Topic6\", \"Topic6\", \"Topic6\", \"Topic6\", \"Topic6\", \"Topic6\", \"Topic7\", \"Topic7\", \"Topic7\", \"Topic7\", \"Topic7\", \"Topic7\", \"Topic7\", \"Topic7\", \"Topic7\", \"Topic7\", \"Topic7\", \"Topic7\", \"Topic7\", \"Topic7\", \"Topic7\", \"Topic7\", \"Topic7\", \"Topic7\", \"Topic7\", \"Topic7\", \"Topic7\", \"Topic7\", \"Topic7\", \"Topic7\", \"Topic7\", \"Topic7\", \"Topic7\", \"Topic7\", \"Topic7\", \"Topic7\", \"Topic7\", \"Topic7\", \"Topic7\", \"Topic7\", \"Topic7\", \"Topic7\", \"Topic7\", \"Topic7\", \"Topic7\", \"Topic7\", \"Topic7\", \"Topic7\", \"Topic7\", \"Topic7\", \"Topic7\", \"Topic7\", \"Topic7\", \"Topic7\", \"Topic7\", \"Topic7\", \"Topic7\", \"Topic7\", \"Topic7\", \"Topic8\", \"Topic8\", \"Topic8\", \"Topic8\", \"Topic8\", \"Topic8\", \"Topic8\", \"Topic8\", \"Topic8\", \"Topic8\", \"Topic8\", \"Topic8\", \"Topic8\", \"Topic8\", \"Topic8\", \"Topic8\", \"Topic8\", \"Topic8\", \"Topic8\", \"Topic8\", \"Topic8\", \"Topic8\", \"Topic8\", \"Topic8\", \"Topic8\", \"Topic8\", \"Topic8\", \"Topic8\", \"Topic8\", \"Topic8\", \"Topic8\", \"Topic8\", \"Topic8\", \"Topic8\", \"Topic8\", \"Topic8\", \"Topic8\", \"Topic8\", \"Topic8\", \"Topic8\", \"Topic8\", \"Topic8\", \"Topic8\", \"Topic9\", \"Topic9\", \"Topic9\", \"Topic9\", \"Topic9\", \"Topic9\", \"Topic9\", \"Topic9\", \"Topic9\", \"Topic9\", \"Topic9\", \"Topic9\", \"Topic9\", \"Topic9\", \"Topic9\", \"Topic9\", \"Topic9\", \"Topic9\", \"Topic9\", \"Topic9\", \"Topic9\", \"Topic9\", \"Topic9\", \"Topic9\", \"Topic9\", \"Topic9\", \"Topic9\", \"Topic9\", \"Topic9\", \"Topic9\", \"Topic9\", \"Topic9\", \"Topic9\", \"Topic9\", \"Topic9\", \"Topic9\", \"Topic9\", \"Topic9\", \"Topic9\", \"Topic9\", \"Topic9\", \"Topic9\", \"Topic9\", \"Topic9\", \"Topic9\", \"Topic9\", \"Topic9\", \"Topic9\", \"Topic9\", \"Topic9\", \"Topic9\", \"Topic10\", \"Topic10\", \"Topic10\", \"Topic10\", \"Topic10\", \"Topic10\", \"Topic10\", \"Topic10\", \"Topic10\", \"Topic10\", \"Topic10\", \"Topic10\", \"Topic10\", \"Topic10\", \"Topic10\", \"Topic10\", \"Topic10\", \"Topic10\", \"Topic10\", \"Topic10\", \"Topic10\", \"Topic10\", \"Topic10\", \"Topic10\", \"Topic10\", \"Topic10\", \"Topic10\", \"Topic10\", \"Topic10\", \"Topic10\", \"Topic10\", \"Topic10\", \"Topic10\", \"Topic10\", \"Topic10\", \"Topic10\", \"Topic10\", \"Topic10\", \"Topic10\", \"Topic10\", \"Topic10\", \"Topic10\", \"Topic10\", \"Topic10\", \"Topic10\", \"Topic10\", \"Topic10\", \"Topic10\", \"Topic10\", \"Topic10\", \"Topic10\", \"Topic10\", \"Topic10\", \"Topic10\"], \"logprob\": [30.0, 29.0, 28.0, 27.0, 26.0, 25.0, 24.0, 23.0, 22.0, 21.0, 20.0, 19.0, 18.0, 17.0, 16.0, 15.0, 14.0, 13.0, 12.0, 11.0, 10.0, 9.0, 8.0, 7.0, 6.0, 5.0, 4.0, 3.0, 2.0, 1.0, -5.5005, -5.341, -5.405, -6.0316, -5.1893, -6.0782, -6.1898, -5.7903, -5.8742, -5.8135, -5.8577, -5.4836, -5.9876, -5.3663, -6.257, -6.0372, -5.9249, -4.6961, -5.9025, -6.0073, -5.7207, -5.5827, -6.3483, -5.7184, -6.7067, -6.2573, -5.6364, -6.3732, -6.2883, -6.561, -6.3813, -5.8453, -4.9765, -4.5937, -5.1904, -5.458, -5.6965, -4.278, -4.9913, -4.8248, -5.4059, -5.4441, -5.1233, -5.0242, -5.2707, -5.2757, -5.0793, -4.9487, -5.369, -5.4675, -5.0889, -5.0748, -5.2206, -5.2726, -5.1896, -5.1983, -5.3129, -5.3215, -5.3534, -5.3395, -5.7508, -4.9206, -5.7675, -5.5998, -6.0678, -5.7407, -5.4433, -5.7308, -4.96, -5.5467, -3.9057, -5.8475, -4.9542, -5.2963, -5.9061, -6.2543, -6.0605, -5.9821, -5.6848, -5.0084, -6.2066, -5.9442, -5.3524, -6.3622, -5.4672, -5.9359, -5.7145, -5.9519, -5.9451, -4.7467, -4.272, -5.0772, -3.9704, -5.7391, -4.2578, -4.7205, -4.5681, -4.7056, -5.3284, -4.8166, -4.7678, -4.7296, -5.1414, -4.7901, -4.7621, -4.9325, -5.0848, -5.2949, -4.9347, -4.8441, -5.177, -5.1794, -5.109, -5.2664, -5.2808, -5.2236, -5.4812, -4.8895, -5.271, -5.8614, -5.1734, -5.6477, -5.4633, -5.873, -5.4423, -5.857, -5.6601, -6.1436, -5.7966, -5.8959, -5.0158, -6.0252, -5.5739, -5.9486, -5.5541, -5.7961, -6.0075, -5.5484, -4.9, -5.8797, -6.013, -5.4005, -6.008, -5.8506, -5.3253, -4.7402, -5.4079, -4.5847, -4.8079, -4.5146, -4.4481, -4.7371, -5.3038, -4.2591, -4.7305, -5.3809, -4.8606, -5.1176, -4.5898, -5.2303, -5.1148, -5.2944, -5.1435, -5.3057, -5.0134, -5.0789, -5.1047, -5.1875, -5.2331, -5.2713, -5.7411, -5.195, -4.1832, -5.2731, -5.2406, -5.5475, -5.6658, -5.8456, -3.9909, -4.066, -3.6955, -5.689, -5.2599, -5.8211, -4.7398, -4.9793, -5.6602, -5.8848, -6.0605, -5.3015, -5.1798, -6.1972, -4.9916, -4.2197, -5.8934, -5.1852, -5.8174, -6.0159, -4.2897, -6.145, -4.4814, -5.0532, -4.4505, -5.2247, -5.0039, -5.0959, -4.8611, -4.4994, -4.5369, -4.6715, -5.0005, -4.9821, -5.2441, -4.9081, -5.1746, -4.8639, -4.9937, -5.0197, -5.1503, -5.1476, -5.1505, -5.1657, -5.9958, -5.3194, -4.9091, -5.5968, -5.2629, -5.7033, -5.7375, -4.8604, -5.24, -5.4647, -3.9398, -4.5417, -5.2718, -6.0883, -6.0856, -6.1493, -5.9898, -5.7994, -4.6309, -6.1684, -6.3176, -6.1721, -6.0428, -4.6155, -4.3501, -6.0158, -4.4258, -6.3479, -6.0148, -4.2574, -4.751, -4.5208, -5.1645, -4.9006, -4.6806, -4.8922, -4.6203, -4.2953, -4.5319, -4.7363, -5.0626, -4.4844, -4.702, -4.7738, -4.7677, -4.9882, -4.913, -5.0774, -5.0195, -5.0894, -5.1444, -5.1528, -4.9406, -5.7029, -5.5436, -5.4815, -5.4483, -5.303, -5.4731, -4.9689, -5.0008, -5.0035, -5.5579, -5.8954, -6.1225, -4.5714, -5.9275, -6.075, -6.0293, -5.6991, -5.8778, -5.4123, -5.7605, -4.562, -4.7943, -4.5717, -4.3238, -4.755, -4.4201, -5.9898, -5.4863, -4.9998, -4.4516, -4.7621, -5.0313, -4.9815, -4.8697, -5.1752, -4.4017, -4.7441, -4.9435, -5.2745, -4.9602, -4.7619, -4.792, -4.8697, -4.7987, -4.8676, -5.0631, -4.889, -5.0878, -5.1701, -4.7801, -5.1646, -5.4544, -5.3658, -5.171, -5.398, -5.6823, -4.3819, -5.0685, -5.3178, -5.8048, -4.7601, -4.7575, -5.4191, -4.1455, -5.5863, -5.5653, -5.2771, -6.0024, -5.2451, -6.099, -5.8858, -6.2213, -5.8116, -5.7518, -6.0125, -5.5832, -6.3474, -5.6303, -5.8058, -5.381, -4.5859, -5.026, -4.4931, -4.6775, -4.6196, -4.4636, -5.0256, -4.6322, -5.153, -4.9997, -5.1134, -5.2256, -5.0727, -5.3632, -5.1438, -4.9868, -5.0787, -5.1155, -5.1568, -5.1695, -5.1935, -5.2354, -5.4984, -5.0046, -5.4633, -5.2165, -4.9179, -4.5349, -5.8618, -4.7548, -5.3423, -4.2774, -4.9674, -4.8935, -4.7471, -4.1121, -4.3264, -4.7735, -5.2956, -5.0943, -3.4434, -5.0358, -4.3123, -5.6174, -4.2388, -4.5412, -5.7732, -5.8626, -5.0329, -5.8486, -5.7552, -5.6926, -4.9356, -5.0757, -3.9081, -4.973, -5.0274, -4.399, -4.6655, -4.3995, -4.6942, -4.8795, -4.89, -4.9574, -5.0003, -5.375, -5.347, -5.1213, -5.7914, -4.8744, -5.4559, -5.0225, -5.2783, -5.4125, -5.6119, -5.2823, -5.0104, -5.7136, -6.1273, -4.8502, -4.8775, -5.3293, -3.1504, -4.5989, -5.7037, -5.8728, -5.1, -5.4302, -5.8689, -5.2869, -5.1849, -6.4973, -5.9923, -5.0994, -6.3672, -5.3108, -4.9197, -4.875, -4.5232, -4.6922, -4.9646, -5.2895, -5.013, -5.0674, -4.5838, -4.9353, -5.078, -4.9821, -5.1093, -5.0952, -5.1065, -5.1167, -5.1454, -5.1745, -5.1884, -5.1866, -5.1026, -4.8206, -5.5171, -5.8345, -4.9753, -4.8909, -3.9636, -5.1834, -5.7292, -5.9233, -5.7732, -6.3144, -6.0755, -5.8162, -5.8512, -5.8471, -6.1597, -5.5941, -4.5387, -6.1298, -5.1975, -6.0014, -5.561, -5.6143, -5.8778, -5.7435, -5.1668, -6.3377, -5.6372, -5.1911, -4.2041, -4.5541, -4.813, -4.784, -5.0807, -5.0064, -4.9284, -4.7917, -5.3498, -4.4287, -4.4486, -4.5192, -4.4973, -4.8864, -5.193, -5.0118, -4.9518, -5.1804, -4.9231, -4.953, -5.0443, -5.0448, -5.0862, -5.1658], \"loglift\": [30.0, 29.0, 28.0, 27.0, 26.0, 25.0, 24.0, 23.0, 22.0, 21.0, 20.0, 19.0, 18.0, 17.0, 16.0, 15.0, 14.0, 13.0, 12.0, 11.0, 10.0, 9.0, 8.0, 7.0, 6.0, 5.0, 4.0, 3.0, 2.0, 1.0, 1.7862, 1.7308, 1.6757, 1.5994, 1.5271, 1.5139, 1.4732, 1.4686, 1.465, 1.4526, 1.4438, 1.4182, 1.4071, 1.4057, 1.4027, 1.392, 1.388, 1.3784, 1.3658, 1.3617, 1.3559, 1.3308, 1.3234, 1.3114, 1.3032, 1.2913, 1.2812, 1.2761, 1.2526, 1.2494, 1.247, 1.2311, 1.1731, 1.1255, 1.1092, 1.0153, 1.0808, 0.4831, 0.7583, 0.6635, 0.9543, 0.9776, 0.7456, 0.6485, 0.7194, 0.7151, 0.5106, 0.3511, 0.7757, 0.8781, 0.2253, 0.1762, 0.4171, 0.4949, 0.1959, 0.1595, 0.3582, 0.2244, 0.3518, -0.4382, 2.1003, 2.0823, 2.0273, 2.0106, 1.9912, 1.9866, 1.9546, 1.9435, 1.9349, 1.9074, 1.8152, 1.8132, 1.7475, 1.747, 1.7361, 1.7268, 1.6947, 1.6625, 1.6602, 1.6466, 1.636, 1.6147, 1.5964, 1.5769, 1.5589, 1.5384, 1.5325, 1.5272, 1.5156, 1.5038, 1.4442, 1.4409, 1.2778, 1.4793, 0.9517, 1.04, 0.9038, 0.9227, 1.2462, 0.8774, 0.7557, 0.5512, 0.9658, 0.5689, 0.4213, 0.6355, 0.6906, 1.1078, 0.3163, -0.083, 0.7171, 0.5693, 0.0416, 0.4557, 0.019, 2.1288, 2.0972, 2.0282, 1.9313, 1.9205, 1.902, 1.8768, 1.8424, 1.8203, 1.8048, 1.803, 1.7831, 1.7729, 1.7584, 1.7551, 1.7376, 1.7363, 1.7343, 1.674, 1.6697, 1.6528, 1.6468, 1.6389, 1.6281, 1.6202, 1.6179, 1.5929, 1.5714, 1.5692, 1.5622, 1.5091, 1.5373, 1.4054, 1.4327, 1.1425, 0.9196, 1.0384, 1.3311, 0.6423, 0.9421, 1.348, 0.827, 1.0007, 0.1713, 1.0143, 0.7992, 1.0512, 0.5786, 0.9781, 0.1372, 0.3016, 0.253, 0.5317, 0.4047, 0.5976, 2.1793, 2.0475, 2.0124, 1.9945, 1.9838, 1.9723, 1.9215, 1.9154, 1.9004, 1.8952, 1.8874, 1.8804, 1.8665, 1.8544, 1.8372, 1.8203, 1.8187, 1.8053, 1.7636, 1.7592, 1.733, 1.6996, 1.6879, 1.6378, 1.6222, 1.606, 1.5837, 1.5661, 1.5473, 1.5403, 1.5187, 1.4958, 1.4276, 1.5072, 1.4423, 1.3904, 1.2724, 0.7251, 0.6465, 0.6179, 0.9042, 0.723, 1.1313, 0.4061, 0.9707, -0.1028, 0.306, 0.1308, 0.7438, 0.3983, 0.235, 2.2508, 2.1976, 2.1644, 2.1534, 2.1377, 2.1113, 2.1055, 2.1, 2.084, 2.028, 2.0167, 2.0046, 1.9254, 1.9169, 1.7957, 1.7956, 1.7877, 1.7791, 1.7771, 1.6707, 1.6591, 1.643, 1.6358, 1.6122, 1.5797, 1.5566, 1.5381, 1.535, 1.5102, 1.4916, 1.4137, 1.4321, 1.393, 1.4082, 1.318, 1.2402, 1.2923, 1.1999, 0.9855, 1.0112, 1.0908, 1.2623, 0.699, 0.8215, 0.8809, 0.4568, 0.8487, 0.3764, 1.056, 0.2946, -0.3283, 0.0651, 0.0982, 2.2691, 2.2281, 2.2125, 2.186, 2.1602, 2.0912, 2.0906, 2.0813, 2.0707, 2.0102, 1.9927, 1.9694, 1.9183, 1.895, 1.8714, 1.8575, 1.8524, 1.8486, 1.8436, 1.822, 1.8124, 1.7714, 1.7436, 1.739, 1.7357, 1.732, 1.6709, 1.6277, 1.6151, 1.605, 1.5428, 1.532, 1.4879, 1.4295, 1.3442, 1.4675, 0.9661, 0.9435, 1.0364, 1.3852, 1.0118, 0.5522, 0.4888, 0.6022, 0.3519, 0.4218, 0.9585, -0.1279, 0.5849, 0.657, 2.4215, 2.4197, 2.3478, 2.3396, 2.3307, 2.2941, 2.2313, 2.2141, 2.1347, 2.1322, 2.1154, 2.0816, 2.0803, 2.0326, 2.0251, 1.9986, 1.9884, 1.9708, 1.8653, 1.8276, 1.8222, 1.8053, 1.7895, 1.7098, 1.7074, 1.6976, 1.639, 1.6242, 1.5882, 1.5706, 1.5062, 1.2922, 1.394, 1.2009, 1.18, 0.9484, 0.7198, 1.099, 0.6572, 1.0995, 0.8944, 0.9082, 0.8926, 0.3128, 1.2751, 0.4656, -0.2256, 0.1723, 0.1843, 0.4537, 0.1113, -0.043, 0.2365, 2.4627, 2.4619, 2.4048, 2.4001, 2.399, 2.389, 2.3842, 2.3529, 2.3391, 2.315, 2.3071, 2.2903, 2.2886, 2.279, 2.2665, 2.2419, 2.2334, 2.2255, 2.2112, 2.1941, 2.1874, 2.1819, 2.1541, 2.1481, 2.1276, 2.0656, 2.0588, 2.0107, 1.9799, 1.9589, 1.9389, 1.9196, 1.7013, 1.7829, 1.7953, 1.1441, 1.2412, 0.8101, 1.2196, 1.2622, 1.2699, 1.2036, 1.254, 2.3252, 2.3101, 2.2916, 2.2745, 2.2706, 2.2173, 2.1651, 2.1612, 2.1598, 2.1477, 2.0145, 1.9547, 1.9223, 1.7882, 1.7847, 1.7846, 1.7837, 1.751, 1.6849, 1.6538, 1.6461, 1.5951, 1.5883, 1.5683, 1.5494, 1.5469, 1.5097, 1.4938, 1.4821, 1.4814, 1.4803, 1.4712, 1.393, 1.291, 1.2287, 1.2799, 1.3366, 1.1052, 1.1116, 0.1773, 0.6741, 0.9139, 0.2661, 0.5478, 0.4479, 0.1932, 0.2638, 0.0052, 0.211, 0.3, 0.1711, 2.5323, 2.4046, 2.3877, 2.2461, 2.0658, 2.0621, 2.0438, 1.9647, 1.9026, 1.8946, 1.8882, 1.8758, 1.849, 1.8419, 1.8398, 1.8396, 1.8155, 1.7992, 1.7836, 1.7553, 1.7164, 1.7049, 1.686, 1.6788, 1.6625, 1.6558, 1.6365, 1.6014, 1.5979, 1.5666, 1.5121, 1.4035, 1.4374, 1.4309, 1.4939, 1.4547, 1.3221, 1.1882, 1.4536, 0.7958, 0.7996, 0.8397, 0.7122, 1.0276, 1.2179, 0.9603, 0.6765, 1.0403, 0.3911, 0.1976, 0.4275, 0.1386, -0.325, 0.4021]}, \"token.table\": {\"Topic\": [1, 3, 4, 5, 6, 7, 9, 10, 1, 2, 3, 4, 5, 6, 7, 10, 1, 5, 6, 8, 10, 1, 2, 3, 4, 5, 6, 8, 9, 10, 1, 2, 3, 4, 6, 7, 9, 10, 2, 3, 4, 5, 7, 8, 2, 3, 5, 6, 7, 10, 1, 2, 3, 4, 5, 6, 7, 8, 9, 10, 1, 3, 5, 7, 8, 10, 1, 2, 3, 4, 6, 9, 10, 1, 2, 3, 4, 5, 6, 7, 8, 9, 10, 1, 2, 3, 4, 5, 6, 7, 8, 9, 10, 1, 2, 3, 4, 5, 6, 7, 8, 9, 10, 2, 3, 4, 5, 6, 7, 9, 10, 1, 2, 3, 4, 5, 6, 7, 8, 9, 10, 2, 4, 10, 1, 3, 4, 5, 8, 9, 1, 2, 3, 4, 5, 6, 8, 9, 10, 1, 3, 5, 6, 8, 9, 10, 1, 2, 3, 5, 6, 7, 9, 10, 2, 4, 5, 7, 8, 10, 3, 4, 5, 6, 10, 1, 3, 5, 6, 9, 10, 1, 2, 3, 4, 5, 6, 7, 8, 10, 2, 3, 4, 6, 10, 2, 3, 4, 6, 7, 8, 1, 2, 3, 4, 5, 6, 7, 8, 9, 10, 7, 8, 2, 3, 9, 1, 2, 3, 4, 6, 7, 9, 2, 3, 4, 5, 6, 7, 9, 1, 3, 5, 7, 8, 10, 2, 3, 4, 5, 6, 7, 10, 1, 3, 5, 6, 8, 5, 7, 8, 10, 1, 2, 3, 4, 5, 7, 8, 9, 1, 2, 3, 4, 9, 10, 5, 8, 10, 1, 2, 3, 4, 6, 7, 9, 1, 2, 3, 4, 5, 6, 7, 8, 9, 10, 1, 2, 3, 4, 5, 6, 7, 9, 10, 1, 3, 6, 7, 9, 10, 1, 2, 3, 4, 5, 6, 7, 8, 9, 10, 1, 2, 3, 4, 6, 7, 9, 10, 1, 2, 4, 5, 7, 8, 9, 1, 2, 3, 4, 5, 6, 7, 8, 9, 10, 1, 2, 3, 5, 6, 7, 8, 9, 10, 1, 2, 3, 4, 5, 6, 8, 9, 10, 1, 2, 3, 4, 5, 6, 7, 10, 1, 2, 4, 5, 7, 8, 9, 10, 1, 3, 4, 5, 7, 8, 10, 1, 2, 3, 4, 6, 7, 8, 9, 10, 2, 3, 4, 5, 6, 7, 9, 10, 1, 2, 3, 4, 5, 6, 7, 8, 9, 10, 1, 2, 4, 6, 7, 8, 1, 4, 5, 8, 10, 1, 2, 3, 4, 5, 6, 7, 8, 9, 10, 2, 4, 5, 6, 7, 8, 10, 1, 2, 3, 4, 5, 6, 7, 8, 9, 10, 1, 2, 3, 4, 5, 6, 7, 8, 9, 10, 1, 2, 3, 4, 5, 6, 8, 9, 10, 2, 3, 4, 5, 6, 9, 1, 2, 3, 4, 5, 6, 7, 8, 9, 10, 2, 4, 5, 7, 8, 9, 1, 2, 4, 5, 6, 7, 8, 9, 10, 1, 2, 3, 4, 5, 6, 7, 8, 9, 10, 1, 2, 3, 4, 5, 6, 7, 8, 9, 10, 1, 2, 3, 4, 5, 6, 7, 8, 9, 10, 1, 3, 4, 5, 6, 7, 9, 10, 1, 2, 3, 4, 5, 6, 7, 8, 9, 10, 1, 2, 3, 4, 5, 6, 7, 8, 9, 10, 1, 2, 3, 4, 6, 9, 10, 1, 2, 3, 4, 5, 6, 7, 9, 10, 1, 2, 3, 4, 5, 6, 7, 9, 10, 1, 2, 3, 4, 5, 6, 7, 8, 9, 10, 2, 3, 4, 5, 6, 7, 8, 10, 2, 3, 4, 5, 6, 7, 8, 9, 10, 1, 2, 3, 5, 6, 7, 8, 10, 1, 2, 3, 4, 5, 6, 7, 8, 9, 10, 1, 2, 3, 4, 5, 6, 7, 8, 9, 10, 1, 2, 3, 4, 5, 6, 7, 8, 9, 10, 1, 2, 3, 4, 5, 6, 7, 8, 9, 10, 1, 2, 3, 4, 5, 6, 7, 8, 9, 10, 1, 3, 4, 5, 6, 7, 10, 2, 1, 2, 3, 4, 5, 6, 7, 8, 9, 10, 1, 2, 3, 4, 5, 6, 7, 8, 9, 10, 1, 3, 5, 6, 8, 9, 10, 2, 3, 4, 5, 6, 7, 9, 1, 2, 3, 4, 5, 6, 8, 9, 1, 2, 3, 4, 5, 6, 7, 8, 9, 10, 4, 7, 9, 1, 2, 4, 5, 7, 1, 2, 3, 4, 5, 6, 7, 8, 9, 10, 2, 4, 5, 6, 7, 9, 10, 1, 2, 3, 4, 5, 6, 7, 8, 9, 10, 1, 2, 3, 4, 5, 6, 7, 8, 9, 10, 1, 2, 3, 4, 5, 6, 8, 9, 10, 2, 3, 4, 5, 6, 7, 8, 9, 10, 1, 2, 3, 6, 8, 9, 10, 1, 3, 6, 9, 1, 2, 3, 4, 5, 6, 7, 8, 9, 10, 1, 2, 3, 4, 5, 6, 8, 9, 10, 1, 2, 3, 4, 5, 6, 7, 8, 9, 10, 1, 2, 3, 4, 5, 6, 8, 9, 10, 1, 3, 4, 6, 8, 9, 10, 2, 4, 5, 6, 7, 9, 10, 2, 3, 5, 6, 7, 8, 9, 10, 1, 3, 4, 5, 6, 7, 8, 9, 10, 1, 2, 3, 4, 5, 6, 7, 8, 9, 10, 5, 6, 8, 10, 5, 8, 5, 8, 1, 2, 3, 6, 9, 1, 2, 3, 4, 5, 6, 7, 8, 9, 10, 5, 6, 8, 1, 2, 3, 4, 5, 6, 7, 8, 9, 10, 1, 2, 3, 4, 5, 6, 7, 8, 9, 10, 1, 2, 3, 4, 5, 6, 7, 8, 9, 10, 1, 2, 4, 5, 7, 8, 9, 10, 1, 2, 3, 4, 5, 6, 8, 9, 10, 1, 4, 5, 8, 10, 2, 3, 4, 5, 6, 8, 9, 10, 1, 2, 3, 9, 10, 1, 2, 3, 4, 5, 6, 8, 9, 10, 1, 2, 3, 4, 5, 6, 7, 8, 9, 10, 1, 2, 3, 4, 5, 6, 7, 8, 9, 10, 1, 2, 3, 4, 5, 6, 7, 9, 10, 2, 3, 6, 9, 10, 2, 3, 4, 5, 6, 7, 9, 10, 1, 2, 3, 4, 5, 6, 7, 8, 9, 10, 1, 2, 3, 4, 5, 6, 7, 8, 9, 10, 1, 2, 4, 5, 7, 9, 1, 2, 3, 4, 6, 9, 10, 1, 2, 3, 4, 5, 6, 7, 8, 9, 1, 2, 3, 4, 6, 7, 8, 9, 10, 1, 2, 3, 4, 5, 6, 7, 8, 9, 10, 1, 2, 3, 4, 5, 6, 7, 8, 9, 10, 1, 3, 5, 6, 8, 10, 1, 2, 3, 4, 5, 6, 7, 8, 9, 10, 1, 2, 3, 4, 5, 6, 7, 8, 9, 10, 1, 2, 3, 4, 5, 6, 7, 8, 9, 10, 1, 2, 3, 5, 6, 9, 10, 1, 2, 3, 4, 5, 6, 7, 9, 10, 1, 2, 3, 4, 5, 6, 7, 8, 9, 10, 1, 2, 3, 4, 5, 6, 7, 8, 9, 10, 1, 2, 3, 4, 7, 8, 9, 10, 1, 3, 5, 6, 8, 9, 10, 1, 2, 3, 4, 5, 6, 7, 8, 9, 10, 1, 3, 5, 7, 8, 9, 1, 2, 3, 4, 5, 6, 7, 8, 9, 10, 1, 2, 3, 4, 5, 6, 7, 8, 9, 10, 1, 2, 3, 4, 5, 6, 7, 8, 9, 10, 1, 2, 3, 4, 5, 6, 7, 8, 9, 10, 1, 2, 3, 4, 5, 6, 7, 8, 9, 10, 1, 2, 3, 4, 5, 6, 7, 8, 9, 10, 1, 2, 3, 4, 5, 6, 7, 8, 9, 10, 1, 2, 3, 4, 5, 6, 7, 8, 9, 10, 1, 2, 3, 4, 5, 6, 7, 8, 9, 10, 1, 2, 3, 4, 5, 6, 7, 9, 10, 1, 2, 3, 4, 5, 6, 7, 8, 9, 10, 2, 4, 5, 6, 10, 5, 6, 8, 3, 9, 1, 2, 3, 4, 5, 6, 7, 8, 9, 10, 1, 2, 3, 4, 5, 6, 7, 8, 9, 10, 1, 2, 3, 4, 5, 6, 7, 8, 9, 10, 1, 2, 3, 4, 5, 6, 7, 8, 9, 10, 1, 3, 4, 5, 7, 8, 10, 1, 2, 4, 5, 6, 7, 8, 10, 1, 2, 3, 4, 5, 6, 7, 8, 9, 10, 1, 2, 3, 4, 5, 6, 7, 8, 9, 10, 5, 7, 8, 10, 1, 2, 3, 4, 5, 6, 7, 8, 9, 10, 1, 4, 5, 6, 8, 10, 1, 2, 3, 4, 5, 6, 7, 8, 9, 10, 1, 2, 3, 4, 5, 6, 7, 8, 9, 10, 1, 2, 3, 4, 5, 6, 7, 8, 9, 10, 1, 3, 5, 7, 8, 9, 10, 1, 2, 3, 4, 5, 6, 7, 8, 9, 10, 1, 5, 7, 8, 9, 10, 5, 8, 1, 2, 3, 4, 5, 6, 7, 8, 9, 10, 1, 2, 3, 4, 5, 6, 7, 8, 9, 10, 1, 2, 3, 4, 5, 6, 7, 8, 9, 10, 2, 5, 6, 8, 1, 2, 3, 4, 5, 6, 7, 8, 9, 10, 1, 3, 5, 6, 8, 9, 10, 1, 3, 6, 9, 10, 1, 2, 3, 4, 5, 6, 7, 8, 9, 10, 2, 4, 7, 10, 2, 4, 5, 6, 7, 9, 10, 1, 2, 6, 10, 2, 3, 4, 6, 9, 10, 1, 2, 3, 4, 5, 6, 7, 8, 9, 10, 1, 2, 3, 4, 5, 6, 7, 8, 9, 10, 1, 2, 3, 6, 9, 10, 1, 2, 3, 4, 5, 6, 7, 8, 9, 10, 1, 2, 3, 4, 5, 6, 7, 8, 9, 10, 1, 2, 3, 4, 5, 6, 7, 9, 10, 1, 2, 3, 4, 5, 6, 7, 8, 9, 10, 1, 3, 5, 6, 7, 8, 9, 10, 1, 4, 5, 6, 7, 8, 10, 1, 2, 3, 4, 5, 6, 7, 8, 9, 10, 1, 2, 3, 4, 5, 6, 7, 8, 9, 10, 1, 2, 3, 4, 5, 6, 7, 8, 9, 10, 1, 2, 3, 4, 5, 6, 7, 8, 9, 10, 1, 2, 3, 4, 5, 6, 7, 8, 9, 10, 1, 2, 3, 4, 5, 6, 7, 8, 9, 10, 1, 2, 4, 5, 7, 8, 2, 4, 5, 6, 7, 9, 1, 2, 3, 5, 6, 7, 8, 9, 10, 1, 2, 3, 4, 5, 6, 7, 8, 9, 10, 1, 2, 3, 4, 5, 6, 7, 8, 9, 10, 1, 2, 3, 4, 5, 6, 7, 8, 9, 10, 1, 2, 3, 4, 10, 1, 2, 3, 4, 5, 6, 7, 8, 9, 10, 1, 2, 3, 4, 5, 6, 7, 8, 9, 10, 1, 2, 3, 4, 5, 6, 7, 8, 9, 10, 1, 2, 3, 4, 5, 6, 7, 8, 9, 10, 1, 2, 3, 4, 5, 6, 7, 8, 9, 10, 1, 2, 3, 4, 6, 7, 8, 9, 1, 2, 3, 4, 6, 7, 9, 1, 3, 4, 5, 6, 7, 9, 10, 1, 2, 3, 4, 5, 6, 7, 8, 9, 10, 1, 2, 3, 4, 5, 6, 7, 8, 9, 10, 5, 7, 8, 1, 2, 3, 4, 5, 6, 7, 8, 9, 10, 2, 4, 7, 8, 1, 2, 3, 4, 5, 6, 7, 8, 9, 10, 1, 2, 3, 4, 5, 6, 7, 8, 9, 10, 2, 3, 4, 5, 6, 7, 9, 10, 1, 3, 4, 5, 6, 8, 9, 10, 1, 2, 3, 4, 5, 6, 7, 8, 9, 10, 1, 2, 3, 4, 5, 6, 7, 8, 9, 10, 1, 2, 3, 4, 5, 6, 7, 8, 9, 1, 2, 3, 4, 5, 6, 8, 9, 10, 1, 3, 4, 5, 6, 9, 10, 1, 2, 3, 4, 5, 6, 7, 8, 9, 10, 1, 2, 3, 4, 5, 6, 7, 8, 9, 10, 1, 2, 3, 4, 5, 6, 7, 8, 9, 10, 2, 3, 4, 5, 6, 7, 9, 10, 1, 2, 3, 4, 5, 6, 7, 8, 9, 10, 7, 1, 2, 3, 4, 5, 6, 7, 8, 9, 10, 1, 2, 3, 4, 5, 6, 7, 8, 9, 10, 3, 4, 7, 1, 2, 3, 4, 5, 6, 7, 8, 9, 10, 1, 2, 3, 4, 5, 6, 7, 8, 9, 10, 1, 5, 6, 8, 10, 1, 2, 3, 4, 5, 6, 7, 8, 9, 10, 1, 2, 3, 4, 5, 6, 7, 1, 2, 3, 4, 5, 6, 7, 8, 9, 10, 2, 3, 4, 9, 1, 2, 3, 4, 5, 6, 7, 8, 9, 10, 1, 2, 3, 4, 5, 6, 7, 8, 9, 10, 1, 2, 3, 4, 5, 6, 7, 8, 9, 10, 1, 2, 3, 4, 5, 6, 7, 8, 9, 10, 2, 6, 10, 1, 2, 3, 4, 5, 6, 7, 8, 9, 10, 2, 5, 7, 8, 1, 2, 3, 4, 5, 6, 7, 8, 9, 10, 1, 3, 4, 5, 7, 8, 9, 10, 2, 3, 4, 5, 6, 7, 8, 9, 10, 2, 3, 4, 5, 6, 7, 10, 1, 2, 3, 4, 5, 6, 7, 8, 9, 10, 1, 2, 3, 4, 5, 6, 7, 8, 9, 10, 1, 2, 3, 4, 5, 6, 7, 8, 9, 10, 2, 4, 7, 1, 3, 5, 6, 7, 8, 9, 10, 1, 2, 3, 4, 5, 6, 7, 8, 9, 10, 1, 2, 3, 4, 5, 6, 7, 9, 10, 2, 3, 4, 6, 9, 10, 1, 2, 3, 4, 5, 6, 7, 8, 9, 10, 1, 2, 3, 4, 6, 7, 8, 10, 6, 7, 1, 2, 3, 5, 6, 8, 9, 10, 1, 2, 3, 4, 5, 6, 7, 8, 9, 10, 1, 2, 3, 4, 5, 6, 7, 8, 9, 10, 1, 2, 3, 4, 5, 6, 7, 9, 10, 1, 2, 3, 4, 5, 6, 7, 8, 9, 10, 1, 2, 3, 4, 5, 6, 7, 8, 9, 10, 1, 2, 3, 4, 5, 6, 7, 8, 9, 10, 1, 2, 4, 5, 6, 7, 8, 10, 1, 3, 4, 5, 6, 7, 8, 9, 10, 1, 2, 3, 4, 5, 6, 7, 8, 9, 10, 2, 3, 6, 7, 9, 2, 3, 4, 6, 10, 1, 2, 3, 4, 5, 6, 7, 8, 9, 10, 1, 2, 3, 4, 6, 7, 9, 1, 2, 3, 4, 5, 6, 7, 9, 10, 1, 2, 3, 4, 5, 6, 7, 8, 9, 10, 1, 2, 3, 4, 5, 6, 7, 8, 9, 10, 2, 3, 5, 6, 7, 8, 10, 1, 2, 3, 4, 5, 6, 7, 8, 9, 10, 1, 2, 3, 5, 6, 7, 9, 10, 1, 3, 5, 6, 10, 1, 2, 3, 4, 5, 6, 7, 8, 9, 10, 2, 3, 4, 6, 10, 2, 4, 5, 6, 10, 2, 3, 5, 6, 10, 2, 6, 10, 2, 3, 4, 5, 6, 10, 1, 2, 3, 4, 5, 6, 7, 9, 10, 1, 2, 3, 4, 5, 6, 7, 8, 9, 10, 1, 2, 3, 4, 5, 6, 7, 8, 9, 10, 1, 2, 3, 4, 5, 6, 7, 8, 9, 10, 1, 2, 3, 6, 7, 8, 9, 10, 1, 2, 3, 4, 5, 6, 7, 8, 9, 10, 1, 2, 3, 4, 5, 6, 7, 8, 9, 10, 1, 3, 5, 6, 7, 8, 10, 1, 2, 3, 4, 5, 6, 7, 8, 9, 10, 1, 2, 4, 6, 7, 8, 9, 10, 1, 2, 3, 4, 5, 6, 8, 9, 1, 2, 3, 4, 5, 6, 7, 8, 9, 10, 1, 2, 3, 4, 5, 6, 7, 8, 9, 10, 1, 3, 4, 5, 6, 7, 8, 9, 10, 2, 4, 5, 8, 9, 10, 1, 3, 4, 5, 6, 9, 10, 1, 2, 3, 4, 5, 6, 7, 8, 9, 10, 1, 2, 3, 4, 6, 9, 10, 1, 2, 3, 4, 5, 6, 7, 8, 9, 10, 1, 2, 3, 4, 5, 6, 7, 9, 10, 1, 2, 3, 4, 5, 6, 7, 8, 9, 10, 1, 2, 3, 4, 5, 6, 7, 8, 9, 10, 1, 2, 3, 4, 5, 6, 8, 9, 10, 1, 3, 5, 6, 8, 10, 1, 2, 4, 5, 6, 7, 8, 9, 10, 1, 2, 3, 4, 5, 6, 7, 8, 9, 10, 1, 2, 3, 4, 5, 6, 7, 8, 9, 10, 1, 2, 3, 4, 5, 7, 8, 1, 3, 4, 5, 6, 8, 9, 10, 1, 2, 3, 4, 5, 6, 7, 8, 9, 10, 1, 5, 7, 8, 10, 1, 2, 3, 4, 5, 6, 7, 8, 9, 10, 1, 2, 3, 4, 5, 6, 7, 8, 9, 10, 1, 2, 3, 4, 5, 6, 7, 8, 9, 10, 1, 2, 3, 4, 5, 6, 7, 8, 9, 10, 1, 2, 3, 4, 5, 6, 8, 9, 10, 1, 2, 3, 4, 5, 6, 7, 8, 9, 10, 2, 7, 8, 10, 1, 3, 4, 5, 7, 8, 9, 1, 2, 3, 4, 6, 7, 9, 10, 1, 2, 3, 4, 5, 6, 7, 8, 9, 10, 1, 2, 3, 6, 9, 1, 2, 3, 4, 6, 7, 8, 9, 10, 1, 4, 5, 6, 8, 1, 2, 3, 4, 5, 6, 9, 10, 1, 3, 4, 9, 1, 2, 3, 4, 5, 6, 7, 8, 9, 10, 2, 6, 10, 2, 3, 6, 7, 1, 2, 3, 4, 5, 6, 7, 8, 9, 10, 1, 2, 3, 4, 5, 6, 7, 8, 9, 10, 2, 4, 6, 7, 10, 1, 2, 3, 4, 6, 8, 9, 10, 1, 2, 3, 4, 5, 6, 7, 8, 9, 10, 1, 2, 3, 4, 5, 6, 8, 9, 10, 1, 2, 3, 4, 5, 6, 7, 8, 10, 1, 2, 3, 4, 5, 6, 7, 8, 9, 10, 2, 6, 10, 1, 2, 3, 4, 5, 6, 7, 8, 9, 10, 1, 2, 3, 4, 5, 6, 7, 8, 10, 1, 2, 3, 4, 5, 6, 7, 8, 9, 10, 1, 2, 3, 4, 5, 6, 7, 8, 9, 10, 5, 8, 1, 2, 4, 5, 8, 1, 2, 3, 4, 5, 6, 7, 8, 9, 10, 1, 2, 3, 4, 5, 6, 7, 8, 9, 10, 1, 2, 3, 4, 6, 7, 9, 10, 1, 2, 3, 4, 5, 6, 7, 8, 9, 10, 1, 2, 3, 4, 5, 6, 7, 9, 10, 2, 3, 4, 5, 6, 7, 9, 10, 2, 3, 4, 6, 7, 9, 10, 1, 2, 3, 4, 5, 6, 8, 9, 10, 1, 2, 3, 4, 5, 6, 7, 8, 9, 10, 1, 2, 3, 4, 5, 6, 7, 8, 9, 10, 2, 4, 5, 6, 8, 9, 10, 1, 2, 3, 4, 6, 9, 10, 1, 2, 3, 4, 5, 6, 7, 8, 9, 10, 2, 3, 4, 5, 6, 7, 8, 10, 2, 3, 4, 5, 6, 7, 8, 9, 10, 1, 2, 3, 4, 5, 6, 7, 8, 9, 10, 4, 5, 6, 8, 9, 10, 1, 2, 3, 4, 5, 6, 7, 8, 9, 10, 1, 2, 3, 4, 5, 6, 7, 8, 9, 10, 1, 3, 5, 6, 8, 9, 10, 1, 2, 3, 4, 5, 6, 7, 8, 9, 10, 1, 2, 3, 4, 5, 6, 7, 8, 9, 10, 1, 2, 3, 4, 5, 6, 7, 8, 9, 10, 2, 3, 4, 5, 6, 9, 1, 2, 3, 4, 5, 6, 7, 9, 10, 1, 2, 3, 4, 5, 6, 7, 9, 10, 1, 2, 3, 4, 5, 6, 7, 8, 9, 10, 1, 2, 3, 4, 5, 6, 7, 8, 9, 10, 4, 2, 3, 4, 7, 8, 1, 2, 3, 4, 5, 6, 7, 8, 9, 10, 1, 2, 3, 5, 6, 7, 8, 9, 10, 1, 2, 3, 4, 5, 6, 7, 8, 9, 10, 1, 2, 3, 4, 5, 7, 8, 9, 1, 2, 3, 4, 9, 1, 2, 3, 4, 5, 6, 7, 8, 9, 10, 1, 2, 3, 4, 5, 6, 7, 8, 9, 1, 2, 3, 4, 5, 6, 7, 8, 9, 10, 1, 2, 3, 4, 5, 6, 7, 8, 9, 10, 1, 2, 3, 4, 5, 6, 7, 8, 9, 10, 1, 2, 4, 7, 8, 10, 1, 2, 3, 4, 5, 6, 7, 8, 9, 10, 3, 6, 7, 8, 9, 10, 1, 3, 4, 5, 7, 8, 10, 1, 5, 7, 8, 10, 5, 7, 8, 1, 2, 3, 4, 5, 6, 7, 8, 9, 10, 1, 2, 3, 4, 5, 6, 7, 8, 9, 10, 1, 2, 3, 4, 5, 6, 7, 8, 9, 10, 1, 2, 3, 4, 5, 6, 7, 8, 9, 10, 1, 2, 3, 4, 5, 6, 7, 8, 9, 10, 3, 5, 6, 8, 10, 1, 2, 3, 4, 5, 6, 7, 9, 10], \"Freq\": [0.09009528700588144, 0.02702858610176443, 0.018019057401176288, 0.009009528700588144, 0.009009528700588144, 0.009009528700588144, 0.009009528700588144, 0.8198671117535211, 0.028548416432281287, 0.15701629037754708, 0.028548416432281287, 0.5138714957810632, 0.057096832864562574, 0.057096832864562574, 0.11419366572912515, 0.057096832864562574, 0.10206118890568087, 0.7552527979020385, 0.06804079260378725, 0.0544326340830298, 0.01360815852075745, 0.028210403372722365, 0.01880693558181491, 0.01880693558181491, 0.009403467790907455, 0.7146635521089666, 0.12224508128179691, 0.05642080674544473, 0.01880693558181491, 0.01880693558181491, 0.23411437654577238, 0.1755857824093293, 0.014632148534110774, 0.04389644560233232, 0.014632148534110774, 0.48286090162565554, 0.029264297068221548, 0.014632148534110774, 0.014218108202510552, 0.014218108202510552, 0.014218108202510552, 0.05687243281004221, 0.05687243281004221, 0.8388683839481226, 0.07173813057666349, 0.017934532644165873, 0.017934532644165873, 0.07173813057666349, 0.8070539689874642, 0.017934532644165873, 0.16793299935261582, 0.005331206328654471, 0.19458903099588817, 0.007996809492981706, 0.0026656031643272353, 0.013328015821636176, 0.005331206328654471, 0.018659222150290648, 0.010662412657308941, 0.5731046803303556, 0.08280427658812091, 0.013800712764686819, 0.013800712764686819, 0.30361568082311, 0.5796299361168464, 0.013800712764686819, 0.03683854037448856, 0.01841927018724428, 0.6999322671152827, 0.01841927018724428, 0.11972525621708782, 0.0920963509362214, 0.01841927018724428, 0.22725824984350051, 0.028407281230437564, 0.10652730461414087, 0.028407281230437564, 0.028407281230437564, 0.4296601286103682, 0.010652730461414087, 0.0035509101538046955, 0.03195819138424226, 0.10652730461414087, 0.274681204112812, 0.007630033447578111, 0.29566379609365184, 0.01716757525705075, 0.040057675599785084, 0.1659532274848239, 0.02861262542841792, 0.030520133790312445, 0.041965183961679614, 0.09919043481851544, 0.44163198544914, 0.02597835208524353, 0.19583680802722045, 0.02597835208524353, 0.03597002596418335, 0.09791840401361022, 0.023980017309455565, 0.011990008654727782, 0.08792673013467041, 0.05395503894627503, 0.5473196449940326, 0.05701246302021173, 0.011402492604042346, 0.03420747781212704, 0.18243988166467753, 0.05701246302021173, 0.03420747781212704, 0.05701246302021173, 0.005846165837790191, 0.28841084799764943, 0.0038974438918601274, 0.1286156484313842, 0.0857437656209228, 0.04676932670232153, 0.2903595699435795, 0.005846165837790191, 0.029230829188950955, 0.1130258728639437, 0.6715717746246708, 0.019187764989276306, 0.2878164748391446, 0.15131689146249724, 0.023279521763461115, 0.034919282645191674, 0.710025413785564, 0.058198804408652785, 0.023279521763461115, 0.5840921717394916, 0.005726393840583251, 0.07444311992758226, 0.017179181521749753, 0.20042378442041378, 0.022905575362333005, 0.011452787681166502, 0.04581115072466601, 0.04008475688408276, 0.2303758652931918, 0.0658216757980548, 0.49366256848541096, 0.0329108378990274, 0.049366256848541096, 0.0329108378990274, 0.08227709474756849, 0.013217832862807682, 0.03965349858842304, 0.013217832862807682, 0.03965349858842304, 0.8062878046312686, 0.026435665725615363, 0.013217832862807682, 0.06608916431403841, 0.05208478312283436, 0.03472318874855624, 0.572932614351178, 0.03472318874855624, 0.22570072686561557, 0.06944637749711248, 0.1195583096693186, 0.017079758524188374, 0.08539879262094187, 0.6661105824433465, 0.08539879262094187, 0.21342193595943568, 0.1867441939645062, 0.06669435498732365, 0.4668604849112655, 0.02667774199492946, 0.02667774199492946, 0.057219622745699576, 0.01907320758189986, 0.0953660379094993, 0.0953660379094993, 0.03814641516379972, 0.133512453073299, 0.057219622745699576, 0.057219622745699576, 0.4577569819655966, 0.045963049578954494, 0.015321016526318166, 0.015321016526318166, 0.8426559089474991, 0.07660508263159083, 0.014564443586980396, 0.014564443586980396, 0.014564443586980396, 0.014564443586980396, 0.9029955023927846, 0.029128887173960793, 0.1107139476739381, 0.02108837098551202, 0.026360463731890025, 0.005272092746378005, 0.01054418549275601, 0.015816278239134014, 0.05272092746378005, 0.6959162425218967, 0.03163255647826803, 0.03163255647826803, 0.0188056291172526, 0.9590870849798826, 0.014488004322532333, 0.14488004322532333, 0.8258162463843429, 0.046125105979923045, 0.015375035326641015, 0.046125105979923045, 0.06150014130656406, 0.046125105979923045, 0.09225021195984609, 0.6918765896988457, 0.03283616227879619, 0.5472693713132698, 0.010945387426265397, 0.010945387426265397, 0.021890774852530794, 0.05472693713132699, 0.3064708479354311, 0.035415059668637595, 0.035415059668637595, 0.017707529834318798, 0.19478282817750675, 0.6905936635384331, 0.035415059668637595, 0.6836062796413125, 0.01367212559282625, 0.0273442511856525, 0.01367212559282625, 0.04101637677847875, 0.12304913033543624, 0.0820327535569575, 0.018198678369283364, 0.1455894269542669, 0.10919207021570018, 0.07279471347713345, 0.6369537429249177, 0.039499126759430465, 0.04937390844928808, 0.8986051337770431, 0.009874781689857616, 0.03662217516401429, 0.012207391721338095, 0.012207391721338095, 0.02441478344267619, 0.03662217516401429, 0.10986652549204286, 0.756858286722962, 0.012207391721338095, 0.02783480895688072, 0.01391740447844036, 0.695870223922018, 0.01391740447844036, 0.20876106717660542, 0.02783480895688072, 0.5745616421396194, 0.400452053612462, 0.01741095885271574, 0.0696813875519451, 0.5574511004155608, 0.0232271291839817, 0.01161356459199085, 0.17420346887986277, 0.0929085167359268, 0.08129495214393595, 0.242356093022312, 0.05049085271298167, 0.4813461291970919, 0.03366056847532111, 0.026928454780256888, 0.037026625322853224, 0.026928454780256888, 0.023562397932724778, 0.026928454780256888, 0.053856909560513776, 0.14505579820575576, 0.01813197477571947, 0.19945172253291418, 0.05439592432715841, 0.01813197477571947, 0.05439592432715841, 0.03626394955143894, 0.01813197477571947, 0.47143134416870625, 0.048892908116455185, 0.3259527207763679, 0.016297636038818394, 0.08148818019409197, 0.016297636038818394, 0.48892908116455186, 0.07472190954197373, 0.012051920893866731, 0.004820768357546692, 0.004820768357546692, 0.44592107307306905, 0.01928307343018677, 0.048207683575466925, 0.28201494891648154, 0.021693457608960118, 0.08677383043584047, 0.02050353762104288, 0.5946025910102435, 0.034172562701738136, 0.027338050161390508, 0.13669025080695255, 0.013669025080695254, 0.14352476334730016, 0.027338050161390508, 0.045544202179540916, 0.10247445490396706, 0.29603731416701595, 0.022772101089770458, 0.4782141228851796, 0.022772101089770458, 0.011386050544885229, 0.17082583038423382, 0.2119886810792299, 0.06791870364674357, 0.06586056111199376, 0.11113969687648947, 0.15024440503673578, 0.061744276042494155, 0.018523282812748246, 0.06380241857724396, 0.0802675588552424, 0.03826595086766772, 0.10204253564711392, 0.01275531695588924, 0.16581912042656013, 0.5739892630150158, 0.03826595086766772, 0.01275531695588924, 0.01275531695588924, 0.0637765847794462, 0.12501901217143926, 0.041673004057146426, 0.027782002704764285, 0.06945500676191071, 0.05556400540952857, 0.041673004057146426, 0.1666920162285857, 0.013891001352382143, 0.47229404598099284, 0.03340870221032696, 0.6180609908910488, 0.01670435110516348, 0.21715656436712527, 0.01670435110516348, 0.03340870221032696, 0.01670435110516348, 0.050113053315490444, 0.009604719971208712, 0.014407079956813068, 0.05762831982725227, 0.02401179992802178, 0.8019941175959274, 0.07203539978406534, 0.009604719971208712, 0.009604719971208712, 0.02971086685218945, 0.00990362228406315, 0.0198072445681263, 0.0396144891362526, 0.10893984512469465, 0.7526752935887995, 0.02971086685218945, 0.02804330985266334, 0.02804330985266334, 0.02804330985266334, 0.01402165492633167, 0.8272776406535686, 0.01402165492633167, 0.01402165492633167, 0.02804330985266334, 0.01402165492633167, 0.8353168842937262, 0.012950649368894979, 0.0647532468444749, 0.006475324684447489, 0.006475324684447489, 0.012950649368894979, 0.058277922160027404, 0.012950649368894979, 0.021212331481245416, 0.3022757236077472, 0.010606165740622708, 0.09015240879529302, 0.04772774583280218, 0.021212331481245416, 0.04242466296249083, 0.021212331481245416, 0.39773121527335153, 0.04242466296249083, 0.13560068940190573, 0.01130005745015881, 0.01130005745015881, 0.01130005745015881, 0.6667033895593698, 0.15820080430222333, 0.014993483452285766, 0.014993483452285766, 0.7946546229711456, 0.10495438416600036, 0.059973933809143065, 0.02954724609628245, 0.04136614453479543, 0.02363779687702596, 0.0590944921925649, 0.0590944921925649, 0.08273228906959086, 0.01772834765776947, 0.3191102578398505, 0.053185042973308415, 0.3191102578398505, 0.016399006478527375, 0.6395612526625677, 0.131192051828219, 0.03279801295705475, 0.03279801295705475, 0.016399006478527375, 0.11479304534969163, 0.07562466021706199, 0.3109013808923659, 0.05881918016882599, 0.037212134392522564, 0.10083288028941598, 0.03961291725655628, 0.03601174296050571, 0.18245949766656225, 0.004801565728067427, 0.15124932043412398, 0.09649353567681646, 0.016082255946136076, 0.028948060703044936, 0.016082255946136076, 0.4567360688702645, 0.02573160951381772, 0.038597414270726584, 0.22193513205667784, 0.038597414270726584, 0.0643290237845443, 0.20578530235177994, 0.014441073849247716, 0.09025671155779823, 0.057764295396990864, 0.032492416160807364, 0.5270991954975416, 0.003610268462311929, 0.03610268462311929, 0.03610268462311929, 0.028202086585761982, 0.1410104329288099, 0.028202086585761982, 0.014101043292880991, 0.04230312987864297, 0.7332542512298116, 0.1714237484557009, 0.16516740727118626, 0.09134258129391362, 0.07757863068798143, 0.10385526366294288, 0.0900913130570107, 0.10385526366294288, 0.06006087537134046, 0.07882989892488436, 0.06006087537134046, 0.007735945037251597, 0.17019079081953514, 0.06962350533526437, 0.5415161526076118, 0.19339862593128992, 0.007735945037251597, 0.011759274469272501, 0.01567903262569667, 0.003919758156424168, 0.019598790782120838, 0.003919758156424168, 0.22342621491617753, 0.701636709999926, 0.003919758156424168, 0.023518548938545002, 0.004589522133257432, 0.01606332746640101, 0.002294761066628716, 0.5691007445239216, 0.02294761066628716, 0.002294761066628716, 0.2845503722619608, 0.05966378773234662, 0.01835808853302973, 0.01835808853302973, 0.087413130258221, 0.01699699755020964, 0.2549549632531446, 0.02670956757890086, 0.08012870273670258, 0.174826260516442, 0.009712570028691223, 0.10198198530125784, 0.03885028011476489, 0.2088202556168613, 0.05271862759693667, 0.04568947725067845, 0.3057680400622327, 0.05271862759693667, 0.014058300692516446, 0.056233202770065785, 0.024602026211903782, 0.007029150346258223, 0.43229274629488074, 0.007029150346258223, 0.030806654344163395, 0.6469397412274313, 0.13862994454873528, 0.015403327172081697, 0.04620998151624509, 0.015403327172081697, 0.06161330868832679, 0.04620998151624509, 0.20014505712747813, 0.013343003808498542, 0.04447667936166181, 0.004447667936166181, 0.08895335872332362, 0.40918545012728863, 0.035581343489329446, 0.15122070982965014, 0.004447667936166181, 0.04447667936166181, 0.050018247288306616, 0.02143639169498855, 0.5644916479680319, 0.007145463898329516, 0.035727319491647584, 0.19292752525489695, 0.007145463898329516, 0.014290927796659032, 0.0428727833899771, 0.06430917508496566, 0.10797111531271253, 0.017995185885452087, 0.611836320105371, 0.017995185885452087, 0.10797111531271253, 0.026992778828178132, 0.10797111531271253, 0.10672035095952229, 0.011857816773280254, 0.5810330218907325, 0.011857816773280254, 0.011857816773280254, 0.14229380127936306, 0.02371563354656051, 0.04743126709312102, 0.04743126709312102, 0.09057792918117687, 0.010064214353464097, 0.21134850142274603, 0.1157384650648371, 0.010064214353464097, 0.40256857413856384, 0.005032107176732048, 0.1358668937717653, 0.015096321530196145, 0.030144747732466413, 0.12488538346307514, 0.08182145813098027, 0.012919177599628464, 0.12057899092986565, 0.5253798890515575, 0.01722557013283795, 0.01722557013283795, 0.06459588799814231, 0.012919177599628464, 0.022691071785286288, 0.007563690595095429, 0.007563690595095429, 0.17396488368719487, 0.7412416783193521, 0.015127381190190858, 0.022691071785286288, 0.007563690595095429, 0.29905531079195996, 0.0045311410726054544, 0.009062282145210909, 0.03171798750823818, 0.5301435054948381, 0.04078026965344909, 0.0589048339438709, 0.0045311410726054544, 0.02265570536302727, 0.03467524817900508, 0.5548039708640813, 0.03467524817900508, 0.03467524817900508, 0.18493465695469377, 0.01155841605966836, 0.01155841605966836, 0.12714257665635198, 0.07771625053481289, 0.03108650021392516, 0.052847050363672765, 0.034195150235317676, 0.13988925096266322, 0.13367195091987819, 0.024869200171140127, 0.27045255186114886, 0.12123735083430812, 0.11502005079152308, 0.10636241525236241, 0.11227143832193809, 0.07090827683490827, 0.047272184556605513, 0.029545115347878445, 0.13590753060024086, 0.053181207626181205, 0.047272184556605513, 0.011818046139151378, 0.3840864995224198, 0.43559831662331594, 0.028563824040873174, 0.04641621406641891, 0.010711434015327441, 0.2356515483372037, 0.03213430204598232, 0.028563824040873174, 0.12496673017882014, 0.03213430204598232, 0.024993346035764027, 0.13548560255168818, 0.005645233439653675, 0.0451618675172294, 0.005645233439653675, 0.19193793694822495, 0.14113083599134185, 0.09596896847411247, 0.016935700318961022, 0.005645233439653675, 0.3556497066981815, 0.012910639713766004, 0.17644540942146872, 0.004303546571255335, 0.4432652968392995, 0.030124825998787345, 0.030124825998787345, 0.20657023542025607, 0.012910639713766004, 0.05594610542631935, 0.02582127942753201, 0.028686379491757598, 0.014343189745878799, 0.6741299180563035, 0.04302956923763639, 0.014343189745878799, 0.057372758983515196, 0.1577750872046668, 0.9771705682752632, 0.17980717978258995, 0.10754821968304445, 0.11763086527832987, 0.16468321138966183, 0.0604958735717125, 0.07561984196464062, 0.08234160569483091, 0.05545455077406979, 0.08402204662737847, 0.0722589600995455, 0.39505018052773494, 0.2548710842114419, 0.04672636543876435, 0.0679656224563845, 0.02973495982466822, 0.03398281122819225, 0.016991405614096126, 0.008495702807048063, 0.11893983929867288, 0.02548710842114419, 0.052667199870580286, 0.0430913453486566, 0.09097061795827505, 0.014363781782885533, 0.7852200707977425, 0.004787927260961844, 0.004787927260961844, 0.01935782286961169, 0.009678911434805844, 0.1548625829568935, 0.009678911434805844, 0.01935782286961169, 0.18389931726131103, 0.6000925089579624, 0.2041000462665916, 0.032226323094724986, 0.021484215396483326, 0.5371053849120832, 0.05371053849120831, 0.1181631846806583, 0.010742107698241663, 0.021484215396483326, 0.17467538829030807, 0.015879580753664368, 0.07145811339148966, 0.5054999873249824, 0.04499214546871571, 0.052931935845547895, 0.00529319358455479, 0.002646596792277395, 0.08733769414515404, 0.03705235509188353, 0.2467876236429244, 0.7403628709287732, 0.008813843701533014, 0.02423122189925941, 0.012115610949629705, 0.4361619941866694, 0.036346832848889114, 0.48462443798518823, 0.016615021830360923, 0.023735745471944177, 0.014241447283166507, 0.7405552587246583, 0.05696578913266603, 0.028482894566333013, 0.04984506549108277, 0.00949429818877767, 0.03797719275511068, 0.02136217092474976, 0.08102377026312074, 0.8012350614908607, 0.018005282280693497, 0.018005282280693497, 0.009002641140346749, 0.018005282280693497, 0.036010564561386994, 0.09231539327945602, 0.0728121411781625, 0.028604769748563838, 0.20543425546695848, 0.13782298151580757, 0.1417236319360663, 0.16902818487787724, 0.027304552941810938, 0.06891149075790379, 0.057209539497127676, 0.1252480726887157, 0.01977601147716564, 0.04614402678005316, 0.6262403634435786, 0.02636801530288752, 0.02636801530288752, 0.04614402678005316, 0.01977601147716564, 0.05273603060577504, 0.00659200382572188, 0.07152025576871378, 0.033009348816329435, 0.11003116272109813, 0.5006417903809964, 0.04401246508843925, 0.12653583712926283, 0.005501558136054906, 0.06051713949660397, 0.04951402322449416, 0.1927695545423871, 0.038553910908477415, 0.05783086636271612, 0.025702607272318278, 0.1477899918158301, 0.39196476090285376, 0.012851303636159139, 0.04497956272655699, 0.0835334736350344, 0.1378257319553129, 0.06264805997968768, 0.6640694357846895, 0.03758883598781261, 0.012529611995937537, 0.012529611995937537, 0.05011844798375015, 0.17266141070855257, 0.7050340937265897, 0.04316535267713814, 0.04316535267713814, 0.6101339426372065, 0.056320056243434446, 0.028160028121717223, 0.12202678852744131, 0.018773352081144817, 0.018773352081144817, 0.028160028121717223, 0.08448008436515167, 0.009386676040572408, 0.028160028121717223, 0.08302559171220464, 0.013837598618700774, 0.5950167406041332, 0.02767519723740155, 0.02767519723740155, 0.08302559171220464, 0.013837598618700774, 0.13837598618700775, 0.02767519723740155, 0.6029109639690632, 0.019448740773195587, 0.18476303734535807, 0.019448740773195587, 0.02917311115979338, 0.03889748154639117, 0.009724370386597793, 0.019448740773195587, 0.03889748154639117, 0.02917311115979338, 0.5229085820936311, 0.02490040867112529, 0.2241036780401276, 0.04980081734225058, 0.02490040867112529, 0.062251021677813226, 0.012450204335562645, 0.012450204335562645, 0.04980081734225058, 0.5745566538310298, 0.3093766597551699, 0.022098332839654993, 0.03314749925948249, 0.011049166419827497, 0.011049166419827497, 0.022098332839654993, 0.25154058389927225, 0.10480857662469678, 0.020961715324939355, 0.010480857662469678, 0.4192343064987871, 0.1886554379244542, 0.010480857662469678, 0.013584837372649258, 0.33962093431623147, 0.013584837372649258, 0.013584837372649258, 0.027169674745298515, 0.013584837372649258, 0.5433934949059703, 0.013584837372649258, 0.029956914806044625, 0.43437526468764703, 0.00499281913434077, 0.00998563826868154, 0.01997127653736308, 0.00998563826868154, 0.00499281913434077, 0.479310636896714, 0.014978457403022312, 0.15524512148571726, 0.03104902429714345, 0.03104902429714345, 0.0962519753211447, 0.16145492634514594, 0.03104902429714345, 0.090042170461716, 0.2887559259634341, 0.04346863401600083, 0.07141275588342993, 0.2266840530096165, 0.022481063108391718, 0.743748504502626, 0.0037468438513986197, 0.19381919886780738, 0.8050951337585845, 0.1361920284391387, 0.85720864958752, 0.21536638164430022, 0.09789380983831827, 0.6558885259167324, 0.009789380983831827, 0.019578761967663654, 0.12085392625487391, 0.01831120094770817, 0.0439468822744996, 0.08056928416991595, 0.33326385724828866, 0.04760912246404124, 0.01831120094770817, 0.12085392625487391, 0.1428273673921237, 0.06958256360129104, 0.7645302834409723, 0.016620223553064615, 0.19944268263677536, 0.6608539149197021, 0.08666936589110848, 0.13000404883666272, 0.01083367073638856, 0.01083367073638856, 0.027084176840971398, 0.00541683536819428, 0.00541683536819428, 0.04875151831374852, 0.02166734147277712, 0.037559528337677346, 0.6910953214132631, 0.015023811335070938, 0.037559528337677346, 0.030047622670141876, 0.007511905667535469, 0.09014286801042562, 0.022535717002606405, 0.04507143400521281, 0.022535717002606405, 0.1611957254971511, 0.007327078431688686, 0.30041021569923615, 0.014654156863377373, 0.014654156863377373, 0.05861662745350949, 0.014654156863377373, 0.014654156863377373, 0.39566223531118905, 0.029308313726754746, 0.12904408693848868, 0.036869739125282484, 0.009217434781320621, 0.018434869562641242, 0.6267855651298022, 0.14747895650112994, 0.009217434781320621, 0.02765230434396186, 0.027034105345534548, 0.027034105345534548, 0.5812332649289927, 0.12165347405490547, 0.013517052672767274, 0.04055115801830182, 0.09461936870937092, 0.06758526336383637, 0.013517052672767274, 0.018360362528938978, 0.036720725057877955, 0.5691712383971083, 0.34884688804984054, 0.018360362528938978, 0.030535813017877375, 0.04275013822502832, 0.09771460165720759, 0.3664297562145285, 0.04275013822502832, 0.012214325207150949, 0.37864408142167943, 0.030535813017877375, 0.2050607382701402, 0.029294391181448602, 0.7225949824757322, 0.009764797060482867, 0.029294391181448602, 0.5094409464250632, 0.01376867422770441, 0.06884337113852206, 0.02753734845540882, 0.16522409073245292, 0.01376867422770441, 0.06884337113852206, 0.08261204536622646, 0.05507469691081764, 0.03658907480691027, 0.12806176182418594, 0.006098179134485044, 0.051834522643122875, 0.17684719490006628, 0.03658907480691027, 0.17379810533282378, 0.2866144193207971, 0.009147268701727567, 0.09452177658451819, 0.02422285457740961, 0.004844570915481922, 0.009689141830963845, 0.13564798563349384, 0.2373839748586142, 0.46023423697078264, 0.004844570915481922, 0.009689141830963845, 0.04844570915481922, 0.06297942190126499, 0.5014461412657276, 0.03235136395262759, 0.19410818371576555, 0.11322977383419656, 0.016175681976313794, 0.03235136395262759, 0.03235136395262759, 0.016175681976313794, 0.03235136395262759, 0.01798642733943049, 0.6834842388983585, 0.21583712807316585, 0.05395928201829146, 0.03597285467886098, 0.05334267872285033, 0.11735389319027073, 0.021337071489140134, 0.021337071489140134, 0.7467975021199047, 0.021337071489140134, 0.010668535744570067, 0.010668535744570067, 0.022498891621505854, 0.11671300028656162, 0.2882670489005438, 0.08296466285430285, 0.06749667486451756, 0.24326926565753207, 0.06609049413817344, 0.0056247229053764634, 0.060465771232796985, 0.046403963969355824, 0.2036856697129898, 0.05410400601751292, 0.01591294294632733, 0.05410400601751292, 0.3437195676406703, 0.11139060062429129, 0.06683436037457478, 0.08592989191016757, 0.012730354357061862, 0.05410400601751292, 0.02415986924190712, 0.016106579494604745, 0.1530125051987451, 0.008053289747302373, 0.31407830014479254, 0.47514409509084005, 0.06042656834714221, 0.012085313669428442, 0.4834125467771377, 0.012085313669428442, 0.012085313669428442, 0.42298597842999547, 0.012085313669428442, 0.7029775926077813, 0.027037599715683893, 0.10815039886273557, 0.04055639957352584, 0.027037599715683893, 0.013518799857841947, 0.027037599715683893, 0.027037599715683893, 0.027037599715683893, 0.22581276687149845, 0.034740425672538225, 0.017370212836269112, 0.034740425672538225, 0.5905872364331498, 0.017370212836269112, 0.017370212836269112, 0.017370212836269112, 0.017370212836269112, 0.06369894884179816, 0.2365960956981075, 0.027299549503627788, 0.027299549503627788, 0.06369894884179816, 0.13649774751813892, 0.01819969966908519, 0.045499249172712974, 0.009099849834542595, 0.3639939933817038, 0.033413406129096636, 0.04455120817212885, 0.022275604086064424, 0.16706703064548317, 0.033413406129096636, 0.04455120817212885, 0.11137802043032212, 0.033413406129096636, 0.38982307150612744, 0.11137802043032212, 0.23001428909688384, 0.05412100919926679, 0.13530252299816697, 0.04059075689945009, 0.027060504599633394, 0.5006193350932178, 0.48911145724987704, 0.05434571747220856, 0.15527347849202447, 0.031054695698404893, 0.015527347849202447, 0.031054695698404893, 0.12421878279361957, 0.03881836962300612, 0.03881836962300612, 0.031054695698404893, 0.04535934714770777, 0.0997905637249571, 0.006047912953027703, 0.3961382984233145, 0.2721560828862466, 0.03931143419468006, 0.02721560828862466, 0.02721560828862466, 0.02721560828862466, 0.06047912953027702, 0.09261613707894907, 0.04851321466040189, 0.218750495195994, 0.022933519657644532, 0.037928513279950574, 0.0405746886250634, 0.025579695002757363, 0.01499499362230604, 0.46308068539474534, 0.03528233793483774, 0.020883606992737988, 0.041767213985475976, 0.06265082097821396, 0.041767213985475976, 0.020883606992737988, 0.7726934587313056, 0.020883606992737988, 0.008677732366018433, 0.052066394196110595, 0.060744126562129026, 0.008677732366018433, 0.026033197098055297, 0.06942185892814746, 0.026033197098055297, 0.702896321647493, 0.052066394196110595, 0.2173560065957543, 0.10499400318608469, 0.17314800525424495, 0.10131000307429225, 0.05157600156509424, 0.05157600156509424, 0.09025800273891492, 0.047892001453301795, 0.1142040034655658, 0.047892001453301795, 0.1866199340165305, 0.016965448546957317, 0.016965448546957317, 0.033930897093914635, 0.4241362136739329, 0.15268903692261585, 0.033930897093914635, 0.016965448546957317, 0.06786179418782927, 0.033930897093914635, 0.14457459559075428, 0.03614364889768857, 0.03614364889768857, 0.03614364889768857, 0.5421547334653286, 0.12650277114191, 0.03614364889768857, 0.018071824448844285, 0.6281816472502715, 0.05583836864446858, 0.041878776483351435, 0.02791918432223429, 0.09771714512782001, 0.08375755296670287, 0.05583836864446858, 0.035914301513942586, 0.005130614501991798, 0.379665473147393, 0.005130614501991798, 0.015391843505975394, 0.02565307250995899, 0.005130614501991798, 0.015391843505975394, 0.4771471486852372, 0.030783687011950788, 0.026665014261750632, 0.013332507130875316, 0.019998760696312973, 0.046663774958063606, 0.8866117242032086, 0.006666253565437658, 0.005337725401415904, 0.6885665767826515, 0.06405270481699084, 0.026688627007079517, 0.026688627007079517, 0.026688627007079517, 0.01601317620424771, 0.021350901605663615, 0.06939043021840674, 0.04803952861274313, 0.08760656180241999, 0.02753349085218914, 0.005006089245852571, 0.035042624720967995, 0.6983494497964337, 0.04755784783559942, 0.015018267737557713, 0.030036535475115426, 0.02753349085218914, 0.02753349085218914, 0.34612566187688143, 0.04774147060370778, 0.02387073530185389, 0.02387073530185389, 0.4177378677824431, 0.011935367650926945, 0.011935367650926945, 0.059676838254634726, 0.02387073530185389, 0.02387073530185389, 0.061400972549265576, 0.012280194509853116, 0.018420291764779672, 0.08596136156897181, 0.018420291764779672, 0.006140097254926558, 0.6999710870616276, 0.07982126431404525, 0.006140097254926558, 0.012280194509853116, 0.5166977716526454, 0.03974598243481888, 0.2583488858263227, 0.05299464324642517, 0.033121652029015736, 0.03974598243481888, 0.006624330405803147, 0.013248660811606293, 0.013248660811606293, 0.033121652029015736, 0.49885653511930256, 0.18875652680189828, 0.06741304528639223, 0.05393043622911379, 0.026965218114556894, 0.026965218114556894, 0.05393043622911379, 0.04044782717183534, 0.05393043622911379, 0.013482609057278447, 0.052850511834838, 0.2088239735913111, 0.029647848102470096, 0.06574088057504239, 0.25265122730800604, 0.15081731426039136, 0.09796680242555336, 0.06445184370102194, 0.03738206934659273, 0.03996014309463361, 0.5350648090515965, 0.056322611479115416, 0.056322611479115416, 0.056322611479115416, 0.08448391721867313, 0.028161305739557708, 0.014080652869778854, 0.056322611479115416, 0.08448391721867313, 0.04224195860933656, 0.5617631605926281, 0.0832241719396486, 0.031209064477368226, 0.031209064477368226, 0.010403021492456074, 0.02080604298491215, 0.1248362579094729, 0.0416120859698243, 0.02080604298491215, 0.0832241719396486, 0.16444161020427372, 0.6303595057830493, 0.05481387006809124, 0.02740693503404562, 0.01370346751702281, 0.02740693503404562, 0.01370346751702281, 0.01370346751702281, 0.05481387006809124, 0.10184953274110661, 0.12561442371403148, 0.13240439256343858, 0.12674608518893268, 0.08713793356739122, 0.13240439256343858, 0.08374294914268766, 0.040739813096442645, 0.08034796471798411, 0.09053291799209477, 0.6581860236145483, 0.030613303423932477, 0.015306651711966239, 0.015306651711966239, 0.27551973081539227, 0.7752477929162301, 0.016150995685754795, 0.19381194822905753, 0.9617833274929345, 0.02046347505304116, 0.04137680766587858, 0.013792269221959528, 0.6620289226540573, 0.013792269221959528, 0.027584538443919056, 0.0965458845537167, 0.027584538443919056, 0.05516907688783811, 0.013792269221959528, 0.04137680766587858, 0.567332348919363, 0.08267657346061069, 0.05131649387210319, 0.0883784061130666, 0.02850916326227955, 0.02280733060982364, 0.04561466121964728, 0.02280733060982364, 0.06272015917701501, 0.019956414283595687, 0.5335964189586249, 0.08893273649310414, 0.04446636824655207, 0.11857698199080552, 0.022233184123276035, 0.02964424549770138, 0.02964424549770138, 0.02964424549770138, 0.08152167511867879, 0.02964424549770138, 0.09037544613350668, 0.012910778019072382, 0.012910778019072382, 0.012910778019072382, 0.012910778019072382, 0.10328622415257906, 0.6455389009536191, 0.03873233405721715, 0.012910778019072382, 0.06455389009536192, 0.019006382171918818, 0.019006382171918818, 0.019006382171918818, 0.019006382171918818, 0.4371467899541328, 0.4371467899541328, 0.019006382171918818, 0.05518825114952482, 0.007884035878503545, 0.023652107635510636, 0.07095632290653191, 0.007884035878503545, 0.173448789327078, 0.6386069061587872, 0.023652107635510636, 0.06872951151041731, 0.036655739472222566, 0.07331147894444513, 0.4948524828750046, 0.07331147894444513, 0.022909837170139103, 0.11454918585069551, 0.041237706906250386, 0.027491804604166923, 0.045819674340278206, 0.030708446327479207, 0.04094459510330561, 0.07677111581869801, 0.04606266949121881, 0.07165304143078481, 0.3685013559297505, 0.04094459510330561, 0.20472297551652804, 0.08188919020661121, 0.035826520715392406, 0.028713151384955678, 0.09092497938569298, 0.8231103397020627, 0.05264077753908541, 0.12045828948329046, 0.04818331579331618, 0.06022914474164523, 0.5661539605714652, 0.04818331579331618, 0.02409165789665809, 0.06022914474164523, 0.012045828948329045, 0.04818331579331618, 0.02409165789665809, 0.007159378600653666, 0.007159378600653666, 0.30069390122745393, 0.021478135801960997, 0.558431530850986, 0.10023130040915132, 0.0971052996081026, 0.00485526498040513, 0.055835547274658996, 0.00971052996081026, 0.3787106684716002, 0.060690812255064126, 0.00485526498040513, 0.2767501038830924, 0.046125017313848736, 0.06311844474526669, 0.09521375576301071, 0.007720034251054922, 0.164694064022505, 0.012866723751758203, 0.1080804795147689, 0.2547611302848124, 0.010293379001406562, 0.11580051376582383, 0.03860017125527461, 0.19300085627637303, 0.12536286970839644, 0.009643297669876648, 0.08678967902888983, 0.009643297669876648, 0.1350061673782731, 0.04821648834938324, 0.009643297669876648, 0.15429276271802636, 0.028929893009629944, 0.39537520446494256, 0.03620909952941765, 0.02715682464706324, 0.06336592417648089, 0.018104549764708825, 0.7332342654707075, 0.03620909952941765, 0.09052274882354414, 0.08236526032022826, 0.0053716474121888, 0.05013537584709546, 0.0107432948243776, 0.0322298844731328, 0.019696040511358932, 0.1396628327169088, 0.44584673521167034, 0.15756832409087146, 0.05550702325928426, 0.008644213138315707, 0.07779791824484136, 0.06050949196820995, 0.8039118218633607, 0.03457685255326283, 0.017288426276631415, 0.10001913460771984, 0.8751674278175486, 0.010815840240907119, 0.08111880180680339, 0.19198116427610137, 0.04596732102385526, 0.016223760361360678, 0.24335640542041018, 0.2163168048181424, 0.043263360963628476, 0.05948712132498916, 0.09463860210793729, 0.02724988872595817, 0.09196837445010882, 0.0817496661778745, 0.17031180453723854, 0.11240579099457744, 0.061312249633405876, 0.26228017898734735, 0.0715309579056402, 0.023843652635213396, 0.09878084663159836, 0.035621680316116, 0.15775315568565657, 0.010177622947461712, 0.04579930326357771, 0.4376377867408537, 0.04071049178984685, 0.11195385242207885, 0.04325489752671228, 0.10686504094834799, 0.010177622947461712, 0.010909371688293873, 0.8945684784400976, 0.010909371688293873, 0.07636560181805711, 0.031322689870556676, 0.08874762129991058, 0.020881793247037782, 0.6003515558523362, 0.09396806961167002, 0.031322689870556676, 0.04698403480583501, 0.03654313818231612, 0.03654313818231612, 0.020881793247037782, 0.13960772834124052, 0.7678425058768229, 0.007755984907846696, 0.02326795472354009, 0.007755984907846696, 0.03877992453923348, 0.007755984907846696, 0.07950075401677706, 0.8745082941845477, 0.013250125669462843, 0.019875188504194265, 0.006625062834731421, 0.004003213072016668, 0.7385928117870754, 0.004003213072016668, 0.07806265490432503, 0.0060048196080250025, 0.01401124575205834, 0.06605301568827503, 0.004003213072016668, 0.008006426144033336, 0.08006426144033336, 0.9077936533207912, 0.03185240888844881, 0.03185240888844881, 0.015926204444224407, 0.5684992649736008, 0.19196079077030676, 0.014766214674638982, 0.014766214674638982, 0.1550452540837093, 0.007383107337319491, 0.051681751361236435, 0.0135713164324912, 0.0135713164324912, 0.0135713164324912, 0.9364208338418928, 0.011269260273154703, 0.5972707944771993, 0.09015408218523763, 0.25919298628255816, 0.022538520546309407, 0.011269260273154703, 0.6243704593602447, 0.009318962080003653, 0.12114650704004748, 0.009318962080003653, 0.018637924160007306, 0.009318962080003653, 0.12114650704004748, 0.06523273456002557, 0.009318962080003653, 0.009318962080003653, 0.023792701948523697, 0.08157497810922411, 0.006797914842435342, 0.15975099879723054, 0.13255933942748918, 0.023792701948523697, 0.09517080779409479, 0.14615516911235985, 0.016994787106088354, 0.3127040827520257, 0.025653523452019517, 0.012826761726009758, 0.9363536059987123, 0.012826761726009758, 0.012826761726009758, 0.012826761726009758, 0.1839124275981598, 0.2388747622826673, 0.32554613620823686, 0.016911487595233084, 0.008455743797616542, 0.06341807848212407, 0.008455743797616542, 0.0021139359494041355, 0.05707627063391166, 0.09724105367259023, 0.18604400462146747, 0.042933231835723264, 0.017888846598218027, 0.017888846598218027, 0.5008877047501047, 0.042933231835723264, 0.017888846598218027, 0.1323774648268134, 0.021466615917861632, 0.017888846598218027, 0.16455011225935115, 0.04113752806483779, 0.11312820217830391, 0.1542657302431417, 0.010284382016209447, 0.03085314604862834, 0.010284382016209447, 0.4216596626645873, 0.04113752806483779, 0.008162937675477874, 0.06530350140382299, 0.032651750701911494, 0.7183385154420528, 0.016325875350955747, 0.05714056372834511, 0.040814688377389365, 0.008162937675477874, 0.040814688377389365, 0.016325875350955747, 0.011695587671903025, 0.02339117534380605, 0.02339117534380605, 0.011695587671903025, 0.03508676301570908, 0.5029102698918301, 0.3625632178289938, 0.0467823506876121, 0.08443834872485637, 0.004221917436242818, 0.6459533677451512, 0.004221917436242818, 0.004221917436242818, 0.24064929386584064, 0.008443834872485637, 0.023946868641073853, 0.05188488205566002, 0.015964579094049237, 0.07982289547024618, 0.15166350139346774, 0.38714104303069397, 0.007982289547024618, 0.003991144773512309, 0.02793801341458616, 0.2514421207312755, 0.3048599705623048, 0.1215320152917296, 0.10093336863211443, 0.10505309796403746, 0.06179593997884557, 0.04737688731711493, 0.07209526330865317, 0.04737688731711493, 0.09681363930019139, 0.0432571579851919, 0.03284265662638341, 0.01876723235793338, 0.023459040447416722, 0.028150848536900065, 0.38472826333763427, 0.004691808089483345, 0.272124869190034, 0.18767232357933378, 0.00938361617896669, 0.0422262728053501, 0.5933281135755766, 0.07824106992205405, 0.05216071328136938, 0.058680802441540544, 0.06520089160171172, 0.019560267480513514, 0.03912053496102703, 0.019560267480513514, 0.0456406241211982, 0.03260044580085586, 0.06863170435722973, 0.013726340871445947, 0.02058951130716892, 0.006863170435722973, 0.013726340871445947, 0.013726340871445947, 0.06176853392150676, 0.2127582835074122, 0.006863170435722973, 0.5833694870364527, 0.07831693693199783, 0.07831693693199783, 0.0180731392919995, 0.13253635480799633, 0.04819503811199866, 0.012048759527999666, 0.08434131669599766, 0.48797476088398645, 0.030121898819999163, 0.02409751905599933, 0.05096371516049972, 0.06795162021399963, 0.11891533537449933, 0.016987905053499907, 0.13590324042799926, 0.6115645819259966, 0.25695641726297735, 0.05139128345259547, 0.017130427817531824, 0.03426085563506365, 0.5653041179785502, 0.05139128345259547, 0.008806616816654065, 0.03522646726661626, 0.7925955134988658, 0.01761323363330813, 0.07045293453323252, 0.026419850449962194, 0.008806616816654065, 0.026419850449962194, 0.008806616816654065, 0.34394139814705316, 0.078508362620523, 0.3289874243145726, 0.02243096074872086, 0.018692467290600714, 0.04112342803932158, 0.078508362620523, 0.01121548037436043, 0.05981589532992229, 0.014953973832480573, 0.20362727253727028, 0.12217636352236216, 0.07750973599805772, 0.15107829897926503, 0.0643724926085564, 0.05254897355800523, 0.10509794711601046, 0.06568621694750654, 0.09721560108230969, 0.060431319591706015, 0.048346268754568066, 0.13405101791039328, 0.13844613325171765, 0.061531614778541174, 0.03516092273059496, 0.052741384095892435, 0.1450388062637042, 0.07032184546118991, 0.2922751701980706, 0.024173134377284033, 0.03079137716722125, 0.16935257441971688, 0.015395688583610624, 0.7543887405969206, 0.03079137716722125, 0.06356188029182035, 0.2267613026627104, 0.0343577731307137, 0.15632786774474733, 0.053254548352606235, 0.03092199581764233, 0.22504341400617472, 0.05153665969607055, 0.04810088238299918, 0.11166276267481952, 0.05784858935605928, 0.08998669455386998, 0.5463477883627821, 0.03213810519781071, 0.02571048415824857, 0.0771314524747457, 0.019282863118686426, 0.012855242079124285, 0.10284193663299428, 0.03213810519781071, 0.06578610235145958, 0.036840217316817366, 0.1710438661137949, 0.05262888188116766, 0.0789433228217515, 0.43418827551963324, 0.023682996846525448, 0.010525776376233533, 0.08420621100986826, 0.04210310550493413, 0.2936509984107738, 0.09438782091774872, 0.086522169174603, 0.1179847761471859, 0.04981579437325627, 0.04457202654449245, 0.11011912440404018, 0.06292521394516581, 0.09176593700336681, 0.04719391045887436, 0.025050281887032618, 0.22044248060588703, 0.01503016913221957, 0.1503016913221957, 0.07515084566109785, 0.06012067652887828, 0.31563355177661095, 0.03006033826443914, 0.0851709584159109, 0.025050281887032618, 0.21451173052569944, 0.013406983157856215, 0.6167212252613858, 0.013406983157856215, 0.02681396631571243, 0.013406983157856215, 0.02681396631571243, 0.08044189894713728, 0.18217911611720095, 0.05205117603348598, 0.5899133283795078, 0.017350392011161994, 0.03470078402232399, 0.017350392011161994, 0.09542715606139096, 0.03742490396640681, 0.03742490396640681, 0.02494993597760454, 0.11227471189922043, 0.6861232393841249, 0.01247496798880227, 0.07484980793281362, 0.01247496798880227, 0.07916263877049307, 0.36414813834426807, 0.16228340947951078, 0.035623187446721875, 0.031665055508197225, 0.0672882429549191, 0.06333011101639445, 0.07124637489344375, 0.031665055508197225, 0.09895329846311632, 0.23489311011032063, 0.10905751540836316, 0.12164107487855891, 0.08598765637967094, 0.06711231717437732, 0.06920957708607661, 0.09437669602646812, 0.0964739559381674, 0.06711231717437732, 0.05243149779248229, 0.022935973052340228, 0.011467986526170114, 0.9518428816721195, 0.018932892071705672, 0.1325302445019397, 0.033132561125484926, 0.19879536675290957, 0.037865784143411345, 0.02839933810755851, 0.08519801432267553, 0.02839933810755851, 0.3549917263444814, 0.08519801432267553, 0.07127671654330121, 0.01187945275721687, 0.902838409548482, 0.01187945275721687, 0.07535144630916578, 0.07245331375881325, 0.10723090436304361, 0.04057385570493542, 0.08694397651057591, 0.49268253355993014, 0.02318506040282024, 0.008694397651057591, 0.04637012080564048, 0.04637012080564048, 0.13745123138592644, 0.33946288963493954, 0.043734482713703865, 0.04165188829876559, 0.09371674867222257, 0.11246009840666708, 0.06247783244814838, 0.016660755319506233, 0.02290853856432107, 0.12703825931123502, 0.09594302523709425, 0.047971512618547124, 0.047971512618547124, 0.127924033649459, 0.6076391598349302, 0.015990504206182376, 0.015990504206182376, 0.0639620168247295, 0.5065420389351599, 0.09883747101173851, 0.024709367752934627, 0.13590152264114044, 0.024709367752934627, 0.16061089039407508, 0.012354683876467314, 0.03706405162940194, 0.10497714366936824, 0.029524821657009818, 0.03280535739667757, 0.20995428733873647, 0.11153821514870375, 0.059049643314019636, 0.12794089384704255, 0.009841607219003273, 0.006561071479335515, 0.311650895268437, 0.05384974652544044, 0.05384974652544044, 0.5878597329027249, 0.008974957754240074, 0.02692487326272022, 0.16603671845344137, 0.022437394385600183, 0.008974957754240074, 0.049362267648320406, 0.022437394385600183, 0.07519810840903429, 0.009399763551129287, 0.02819929065338786, 0.8177794289482478, 0.018799527102258573, 0.009399763551129287, 0.02819929065338786, 0.009399763551129287, 0.009399763551129287, 0.5704421338922746, 0.009835209205039218, 0.04917604602519608, 0.019670418410078435, 0.15736334728062748, 0.009835209205039218, 0.009835209205039218, 0.009835209205039218, 0.16719855648566667, 0.03769709701212738, 0.15078838804850953, 0.6973962947243566, 0.04712137126515923, 0.01884854850606369, 0.0424092341386433, 0.004712137126515923, 0.025588482373709216, 0.09016893788830867, 0.08529494124569739, 0.22907784220273011, 0.148656897599644, 0.07189145047851637, 0.06701745383590509, 0.038991973140890236, 0.07798394628178047, 0.1644973866881307, 0.23881427754739412, 0.10360325275953126, 0.09657930341990204, 0.13872299945767746, 0.06672751872647777, 0.05619159471703391, 0.08604337941045817, 0.05092363271231198, 0.11238318943406782, 0.04741165804249736, 0.0864194410481851, 0.21186701676329248, 0.07108695957189419, 0.10314578447686608, 0.07387468347667435, 0.1003580605720859, 0.06551151176233386, 0.04181585857170246, 0.07108695957189419, 0.1728388820963702, 0.0750869205415576, 0.012514486756926266, 0.025028973513852533, 0.012514486756926266, 0.1501738410831152, 0.6382388246032397, 0.012514486756926266, 0.0750869205415576, 0.04196169383601402, 0.08811955705562945, 0.2601625017832869, 0.033569355068811216, 0.025177016301608412, 0.12168891212444066, 0.07133487952122383, 0.02098084691800701, 0.016784677534405608, 0.3189088731537066, 0.9805936776819657, 0.012240075278244125, 0.2448015055648825, 0.027540169376049282, 0.293761806677859, 0.061200376391220626, 0.13464082806068536, 0.02448015055648825, 0.009180056458683094, 0.027540169376049282, 0.17136105389541775, 0.08092850889280058, 0.2451657769399547, 0.026182752877082542, 0.2332645256321899, 0.054745756015718045, 0.026182752877082542, 0.21422252353976626, 0.019042002092423665, 0.07378775810814171, 0.026182752877082542, 0.06417305264726018, 0.016043263161815046, 0.9144660002234577, 0.012578718210191716, 0.6037784740892023, 0.05031487284076686, 0.02515743642038343, 0.10062974568153372, 0.11320846389172544, 0.02515743642038343, 0.012578718210191716, 0.012578718210191716, 0.05031487284076686, 0.1368521764287736, 0.3028994838290189, 0.03831860940005661, 0.09853356702871699, 0.06751374037152831, 0.09123478428584907, 0.07663721880011322, 0.01642226117145283, 0.02554573960003774, 0.1459756548573585, 0.015517176297049103, 0.5586183466937678, 0.031034352594098206, 0.26379199704983475, 0.13965458667344194, 0.19026422921670685, 0.031134146599097485, 0.1279959360185119, 0.041512195465463315, 0.0726463420645608, 0.06572764282031691, 0.041512195465463315, 0.058808943576073025, 0.3251788644794626, 0.041512195465463315, 0.027853652215688727, 0.7381217837157513, 0.013926826107844363, 0.09748778275491055, 0.013926826107844363, 0.055707304431377454, 0.055707304431377454, 0.14818009989916492, 0.03951469330644398, 0.1251298621370726, 0.06585782217740663, 0.3523393486491255, 0.0724436043951473, 0.03622180219757365, 0.055979148850795635, 0.07573649550401762, 0.032928911088703314, 0.012710672638551626, 0.21608143485537762, 0.7245083403974426, 0.038132017915654876, 0.09922149935145938, 0.09508727021181523, 0.04134229139644141, 0.46716789277978793, 0.05374497881537383, 0.04134229139644141, 0.07441612451359454, 0.024805374837864845, 0.03720806225679727, 0.062013437094662116, 0.04936310110036578, 0.027423945055758764, 0.444267909903292, 0.03290873406691052, 0.04387831208921403, 0.12066535824533857, 0.010969578022303507, 0.060332679122669285, 0.010969578022303507, 0.20293719341261487, 0.025318407386448562, 0.180393652628446, 0.07279042123603961, 0.14241604154877316, 0.04747201384959105, 0.06013121754281533, 0.17089924985852778, 0.01898880553983642, 0.2436896710945674, 0.03481281015636677, 0.03747671260505408, 0.1798882205042596, 0.02248602756303245, 0.007495342521010816, 0.029981370084043266, 0.03747671260505408, 0.06745808268909735, 0.029981370084043266, 0.007495342521010816, 0.5846367166388436, 0.15998402246862778, 0.017776002496514197, 0.8176961148396531, 0.07307508176982436, 0.04496928108912268, 0.6520545757922789, 0.02248464054456134, 0.005621160136140335, 0.04496928108912268, 0.050590441225263016, 0.005621160136140335, 0.028105800680701676, 0.06745392163368402, 0.05141139419885445, 0.01713713139961815, 0.01713713139961815, 0.908267964179762, 0.2056801810938705, 0.007617784484958166, 0.045706706909749, 0.03237558406107221, 0.38660256261162695, 0.06284672200090488, 0.007617784484958166, 0.13902456685048653, 0.03428003018231175, 0.07808229097082121, 0.12002001515673981, 0.030005003789184952, 0.015002501894592476, 0.15002501894592477, 0.07501250947296238, 0.5850975738891065, 0.015002501894592476, 0.015002501894592476, 0.22299110491014704, 0.01393694405688419, 0.06968472028442095, 0.04181083217065257, 0.11149555245507352, 0.01393694405688419, 0.01393694405688419, 0.02787388811376838, 0.48779304199094664, 0.057418821794585864, 0.014354705448646466, 0.014354705448646466, 0.0861282326918788, 0.22967528717834346, 0.10048293814052527, 0.4737052798053334, 0.026398020348064884, 0.04619653560911355, 0.0329975254350811, 0.0659950508701622, 0.09899257630524332, 0.03959703052209733, 0.026398020348064884, 0.2177836678715353, 0.0329975254350811, 0.41576882048202196, 0.13444624840531064, 0.06722312420265532, 0.050417343151991485, 0.03361156210132766, 0.06722312420265532, 0.01680578105066383, 0.2352809347092936, 0.01680578105066383, 0.3529214020639404, 0.01680578105066383, 0.020275817655256975, 0.020275817655256975, 0.31765447659902596, 0.013517211770171317, 0.023655120597799804, 0.10813769416137053, 0.06420675590831376, 0.057448150023228096, 0.2906200530586833, 0.0912411794486564, 0.01805373044644996, 0.2346984958038495, 0.7221492178579985, 0.05435292245944136, 0.01087058449188827, 0.01087058449188827, 0.02174116898377654, 0.04348233796755308, 0.04348233796755308, 0.7935526679078437, 0.01087058449188827, 0.5870696658466186, 0.06404396354690384, 0.042695975697935894, 0.17078390279174357, 0.021347987848967947, 0.03202198177345192, 0.010673993924483973, 0.021347987848967947, 0.042695975697935894, 0.010673993924483973, 0.6159239279389277, 0.10097113572769306, 0.02019422714553861, 0.1615538171643089, 0.010097113572769306, 0.010097113572769306, 0.03029134071830792, 0.03029134071830792, 0.010097113572769306, 0.013875861058833658, 0.11100688847066927, 0.013875861058833658, 0.027751722117667316, 0.8047999414123521, 0.013875861058833658, 0.10390894250685279, 0.024319114203731503, 0.16802297086214493, 0.08180065686709688, 0.31172682752055836, 0.06853568548324333, 0.0044216571279511825, 0.030951599895658276, 0.145914685222389, 0.06190319979131655, 0.20251817082707954, 0.07461195767313457, 0.02131770219232416, 0.02131770219232416, 0.02131770219232416, 0.1598827664424312, 0.053294255480810404, 0.4476717460388074, 0.008800208446819656, 0.9856233460438015, 0.1634305030399143, 0.013619208586659524, 0.5379587391730513, 0.1634305030399143, 0.03404802146664881, 0.06809604293329762, 0.006809604293329762, 0.020428812879989287, 0.21343606882327473, 0.13289415605977484, 0.0765148171253249, 0.052352243296274935, 0.028189669467224968, 0.03221676510539996, 0.3543844161593996, 0.040270956381749955, 0.04429805201992495, 0.028189669467224968, 0.12187807738963645, 0.629703399846455, 0.040626025796545485, 0.010156506449136371, 0.010156506449136371, 0.010156506449136371, 0.040626025796545485, 0.09140855804222733, 0.030469519347409112, 0.020313012898272743, 0.07164716184146872, 0.01592159152032638, 0.39007899224799636, 0.00796079576016319, 0.00796079576016319, 0.4696869498496283, 0.01592159152032638, 0.02388238728048957, 0.00796079576016319, 0.05071545978761691, 0.0563505108751299, 0.005635051087512989, 0.03381030652507794, 0.011270102175025979, 0.01690515326253897, 0.18032163480041566, 0.4846143935261171, 0.022540204350051957, 0.14087627718782475, 0.08898852879941294, 0.022247132199853234, 0.03495977917119794, 0.07945404357090441, 0.39409205611168585, 0.19386786631300676, 0.01589080871418088, 0.03178161742836176, 0.038137940914034114, 0.09852301402792146, 0.5843604736200446, 0.1113067568800085, 0.05565337844000425, 0.08348006766000637, 0.027826689220002126, 0.04174003383000319, 0.013913344610001063, 0.013913344610001063, 0.05565337844000425, 0.013913344610001063, 0.03483469140077219, 0.011611563800257395, 0.6850822642151864, 0.09289251040205916, 0.04644625520102958, 0.058057819001286974, 0.06966938280154437, 0.011611563800257395, 0.12343848376676707, 0.01763406910953815, 0.5995583497242972, 0.08817034554769076, 0.0352681382190763, 0.01763406910953815, 0.0705362764381526, 0.01763406910953815, 0.01763406910953815, 0.00899269913560899, 0.22481747839022473, 0.03597079654243596, 0.06594646032779926, 0.03297323016389963, 0.10491482324877154, 0.26378584131119703, 0.03597079654243596, 0.1948418146048614, 0.03297323016389963, 0.9006325021036834, 0.013244595619171814, 0.013244595619171814, 0.013244595619171814, 0.05297838247668726, 0.8042505967345341, 0.011327473193444142, 0.011327473193444142, 0.10194725874099728, 0.06796483916066486, 0.01410263681831076, 0.4183782256098859, 0.0470087893943692, 0.02820527363662152, 0.03290615257605844, 0.07991494197042764, 0.03290615257605844, 0.00470087893943692, 0.01410263681831076, 0.3290615257605844, 0.03882242870173243, 0.06470404783622072, 0.025881619134488287, 0.7505669549001603, 0.012940809567244143, 0.025881619134488287, 0.06470404783622072, 0.2151536797843179, 0.07432581665276437, 0.13691597804456593, 0.05085450613083878, 0.023471310521925588, 0.10170901226167756, 0.027383195608913186, 0.35206965782888383, 0.023471310521925588, 0.1284327929458853, 0.005837854224812968, 0.04670283379850374, 0.554596151357232, 0.11091923027144639, 0.03502712534887781, 0.02918927112406484, 0.02335141689925187, 0.005837854224812968, 0.07589210492256858, 0.2934425888654782, 0.023580208033833067, 0.468984137561791, 0.0445403929527958, 0.02882025426357375, 0.03144027737844409, 0.02096018491896273, 0.023580208033833067, 0.03406030049331443, 0.03144027737844409, 0.012638799419129817, 0.012638799419129817, 0.10111039535303853, 0.7456891657286592, 0.012638799419129817, 0.06319399709564909, 0.03791639825738945, 0.11218617033299348, 0.21447356093072284, 0.07919023788211305, 0.06599186490176087, 0.07919023788211305, 0.1055869838428174, 0.029696339205792392, 0.09238861086246522, 0.013198372980352174, 0.2111739676856348, 0.05830810199564243, 0.21865538248365912, 0.029154050997821215, 0.1603472804880167, 0.04373107649673182, 0.014577025498910608, 0.07288512749455303, 0.408156713969497, 0.07398943201450237, 0.31075561446090993, 0.014797886402900471, 0.5919154561160189, 0.014797886402900471, 0.011954098607975203, 0.510041540606942, 0.029885246519938007, 0.02191584744795454, 0.02789289675194214, 0.04781639443190081, 0.003984699535991734, 0.001992349767995867, 0.007969399071983468, 0.33670711079130156, 0.5525079087489702, 0.009208465145816169, 0.009208465145816169, 0.018416930291632338, 0.4051724664159114, 0.09459570486354964, 0.09459570486354964, 0.16554248351121187, 0.11824463107943704, 0.49662745053363555, 0.8329829383274001, 0.014118354886905087, 0.014118354886905087, 0.014118354886905087, 0.1129468390952407, 0.5886954854226236, 0.018396733919456988, 0.36793467838913974, 0.4254034213284097, 0.008341243555459014, 0.008341243555459014, 0.008341243555459014, 0.016682487110918028, 0.5338395875493769, 0.011204635885079597, 0.022409271770159195, 0.6834827889898554, 0.011204635885079597, 0.011204635885079597, 0.07843245119555718, 0.06722781531047758, 0.07843245119555718, 0.022409271770159195, 0.07148077429292743, 0.083394236675082, 0.3127283875315575, 0.047653849528618286, 0.002978365595538643, 0.059567311910772865, 0.21444232287878232, 0.008935096786615929, 0.19061539811447314, 0.008935096786615929, 0.03563909988258773, 0.010182599966453638, 0.015273899949680456, 0.7382384975678887, 0.05091299983226819, 0.0534586498238816, 0.007636949974840228, 0.007636949974840228, 0.020365199932907276, 0.06364124979033524, 0.3119162443804809, 0.15595812219024044, 0.07950806229306376, 0.09479807427249909, 0.07339205750128962, 0.04587003593830601, 0.08562406708483788, 0.04281203354241894, 0.07339205750128962, 0.03669602875064481, 0.0497537168819452, 0.1741380090868082, 0.0248768584409726, 0.5846061733628561, 0.0746305753229178, 0.0124384292204863, 0.0621921461024315, 0.0124384292204863, 0.035930672897245865, 0.18863603271054077, 0.026948004672934397, 0.09880935046742613, 0.035930672897245865, 0.035930672897245865, 0.4491334112155733, 0.035930672897245865, 0.053896009345868794, 0.035930672897245865, 0.01223224280000839, 0.07339345680005034, 0.006116121400004195, 0.1284385494000881, 0.006116121400004195, 0.02446448560001678, 0.7033539610004824, 0.006116121400004195, 0.030580607000020972, 0.006116121400004195, 0.021876747662749642, 0.10209148909283167, 0.05104574454641583, 0.692763675987072, 0.007292249220916547, 0.1239682367555813, 0.007292249220916547, 0.16082464890755468, 0.16678111738561227, 0.08934702717086372, 0.07147762173669098, 0.03573881086834549, 0.11317290108309404, 0.07147762173669098, 0.014891171195143953, 0.24421520760036083, 0.03573881086834549, 0.053902422056881276, 0.12577231813272297, 0.03593494803792085, 0.10780484411376255, 0.053902422056881276, 0.017967474018960424, 0.48512179851193143, 0.1437397921516834, 0.11278511093637456, 0.03759503697879152, 0.05639255546818728, 0.01879751848939576, 0.48873548072428974, 0.0939875924469788, 0.15038014791516607, 0.03759503697879152, 0.42028931800293323, 0.1093903704391196, 0.06908865501418081, 0.0748460429320292, 0.0460591033427872, 0.0460591033427872, 0.086360818767726, 0.034544327507090404, 0.0748460429320292, 0.028786939589242, 0.06475208881622445, 0.04120587470123374, 0.029432767643738384, 0.6828402093347306, 0.04120587470123374, 0.03531932117248606, 0.029432767643738384, 0.005886553528747677, 0.052978981758729095, 0.023546214114990707, 0.09681585888067437, 0.03227195296022479, 0.06454390592044958, 0.48407929440337183, 0.12908781184089915, 0.048407929440337186, 0.03227195296022479, 0.06454390592044958, 0.03227195296022479, 0.0997875575344844, 0.04157814897270183, 0.04157814897270183, 0.016631259589080735, 0.7816692006867945, 0.016631259589080735, 0.0770352660807223, 0.5520860735785098, 0.025678422026907434, 0.025678422026907434, 0.1540705321614446, 0.1540705321614446, 0.012839211013453717, 0.05837106450102493, 0.09923080965174239, 0.04085974515071745, 0.11090502255194737, 0.08755659675153739, 0.04669685160081995, 0.11090502255194737, 0.04085974515071745, 0.35606349345625204, 0.04669685160081995, 0.07292736523687143, 0.03646368261843572, 0.7535827741143382, 0.024309121745623812, 0.012154560872811906, 0.012154560872811906, 0.07292736523687143, 0.08987177914432135, 0.011233972393040168, 0.07582931365302113, 0.02808493098260042, 0.12357369632344185, 0.5251882093746278, 0.002808493098260042, 0.005616986196520084, 0.0337019171791205, 0.10110575153736151, 0.046406322564691356, 0.01265626979037037, 0.02531253958074074, 0.029531296177530864, 0.11390642811333333, 0.615938463131358, 0.008437513193580246, 0.029531296177530864, 0.10968767151654321, 0.04330039073544389, 0.1659848311525349, 0.031272504420042806, 0.2742358079911446, 0.09622309052320864, 0.09381751326012842, 0.12990117220633166, 0.028866927156962593, 0.06735616336624604, 0.06735616336624604, 0.020286274825066397, 0.29649170898173965, 0.02340724018276892, 0.11859668359269587, 0.0889475126945219, 0.1700926119947875, 0.11079427019843956, 0.02184675750391766, 0.035891101613579016, 0.11391523555614208, 0.09092567769741346, 0.009092567769741346, 0.05455540661844807, 0.027277703309224036, 0.05455540661844807, 0.5728317694937047, 0.018185135539482693, 0.009092567769741346, 0.1636662198553442, 0.018249612577436236, 0.054748837732308715, 0.018249612577436236, 0.8577317911395032, 0.018249612577436236, 0.03649922515487247, 0.002342455545551686, 0.016397188818861805, 0.4614637424736822, 0.07964348854875733, 0.004684911091103372, 0.3185739541950293, 0.07964348854875733, 0.01873964436441349, 0.016397188818861805, 0.14648261936288579, 0.0807532388795396, 0.3605726015086419, 0.07511929198096706, 0.031925699091911, 0.06760736278287036, 0.05821745128524948, 0.01126789379714506, 0.13897069016478908, 0.026291752193338472, 0.11383671956905263, 0.05444364848954691, 0.039595380719670475, 0.10888729697909381, 0.13858383251884668, 0.05939307107950572, 0.07424133884938215, 0.01484826776987643, 0.30686420057744623, 0.08908960661925858, 0.08614618724230363, 0.014357697873717273, 0.028715395747434546, 0.014357697873717273, 0.014357697873717273, 0.5312348213275391, 0.28715395747434547, 0.053617957812852994, 0.010723591562570599, 0.3860492962525416, 0.010723591562570599, 0.10723591562570599, 0.021447183125141198, 0.010723591562570599, 0.3860492962525416, 0.044005447744141925, 0.01222373548448387, 0.1393505845231161, 0.03911595355034838, 0.3251513638872709, 0.044005447744141925, 0.01222373548448387, 0.10023463097276772, 0.2738116748524387, 0.007334241290690322, 0.06625084979519945, 0.01892881422719984, 0.06625084979519945, 0.8139390117695932, 0.01892881422719984, 0.024729181613024582, 0.01798485935492697, 0.01798485935492697, 0.5215609212928821, 0.22031452709785534, 0.015736751935561098, 0.056202685484146774, 0.04721025580668329, 0.03372161129048806, 0.049458363226049164, 0.009415030552557548, 0.059628526832864466, 0.03766012221023019, 0.021968404622634278, 0.021968404622634278, 0.10984202311317139, 0.6621904821965475, 0.009415030552557548, 0.006276687035038365, 0.056490183315345284, 0.11449040494818183, 0.033239149823665694, 0.0295459109543695, 0.022159433215777128, 0.10710392720958944, 0.5465993526558358, 0.01477295547718475, 0.007386477738592375, 0.07017153851662757, 0.05170534417014663, 0.17039248325798195, 0.003872556437681408, 0.26333383776233577, 0.1336031971000086, 0.06583345944058394, 0.2381622209174066, 0.001936278218840704, 0.009681391094203521, 0.10455902381739803, 0.009681391094203521, 0.29169088746285665, 0.0196645542109791, 0.2032003935134507, 0.01638712850914925, 0.00983227710548955, 0.35723940149945366, 0.006554851403659701, 0.013109702807319401, 0.08849049394940596, 0.09679661905321768, 0.13623227866749155, 0.11472191887788763, 0.13264721870255758, 0.07707878924608075, 0.07170119929867977, 0.13802480864995856, 0.08245637919348173, 0.07528625926361375, 0.07528625926361375, 0.014371197379673876, 0.8622718427804326, 0.10059838165771713, 0.014371197379673876, 0.011281009159413912, 0.011281009159413912, 0.11281009159413911, 0.011281009159413912, 0.7332655953619043, 0.04512403663765565, 0.06768605495648347, 0.0509945581475483, 0.012748639536887076, 0.1912295930533061, 0.02549727907377415, 0.012748639536887076, 0.012748639536887076, 0.7011751745287891, 0.012748639536887076, 0.058016212848099005, 0.22523941458673732, 0.03071446562546418, 0.04436533923678159, 0.02730174722263483, 0.02730174722263483, 0.2286521329895667, 0.2866683458376657, 0.058016212848099005, 0.017063592014146766, 0.017743727715581813, 0.008871863857790907, 0.053231183146745444, 0.8960582496368816, 0.017743727715581813, 0.6501797831492773, 0.026007191325971093, 0.18205033928179765, 0.013003595662985546, 0.013003595662985546, 0.013003595662985546, 0.013003595662985546, 0.07802157397791327, 0.013003595662985546, 0.014609226109277649, 0.014609226109277649, 0.19722455247524828, 0.0073046130546388244, 0.7669843707370766, 0.03217692271160409, 0.009653076813481229, 0.028959230440443684, 0.8301646059593856, 0.012870769084641636, 0.006435384542320818, 0.07722461450784983, 0.003217692271160409, 0.02750137007345792, 0.009167123357819306, 0.8617095956350148, 0.09167123357819307, 0.07131659951243563, 0.6214732243226533, 0.07641064233475246, 0.015282128466950491, 0.02037617128926732, 0.04075234257853464, 0.02037617128926732, 0.02037617128926732, 0.00509404282231683, 0.10188085644633661, 0.8711278939407238, 0.04148228066384399, 0.06222342099576598, 0.9667314118193162, 0.007214413521039673, 0.007214413521039673, 0.021643240563119018, 0.17717169069584612, 0.11554675480163877, 0.053921818907431425, 0.3427887059115284, 0.053921818907431425, 0.061624935894207346, 0.050070260414043465, 0.007703116986775918, 0.09628896233469898, 0.04236714342726755, 0.019963348437996173, 0.43170740997166723, 0.012477092773747608, 0.10730299785422942, 0.0349358597664933, 0.07860568447460993, 0.038678987598617584, 0.007486255664248565, 0.1048075792994799, 0.16594533389084318, 0.845926111783053, 0.0321237763968248, 0.02141585093121653, 0.05353962732804133, 0.0321237763968248, 0.7641584387770769, 0.031190140358248037, 0.14035563161211617, 0.02339260526868603, 0.007797535089562009, 0.007797535089562009, 0.015595070179124019, 0.015595070179124019, 0.06978888973381867, 0.026170833650181996, 0.013085416825090998, 0.004361805608363667, 0.08723611216727332, 0.013085416825090998, 0.030532639258545664, 0.7240597309883686, 0.008723611216727333, 0.02180902804181833, 0.045938775260562593, 0.0076564625434270995, 0.022969387630281297, 0.015312925086854199, 0.8115850296032725, 0.030625850173708398, 0.015312925086854199, 0.030625850173708398, 0.015312925086854199, 0.04288386246221399, 0.11435696656590398, 0.014294620820737998, 0.014294620820737998, 0.014294620820737998, 0.10006234574516598, 0.21441931231106995, 0.014294620820737998, 0.4717224870843539, 0.20915110469675668, 0.3151995521486333, 0.19147636345477723, 0.047132643311945166, 0.023566321655972583, 0.05007843351894174, 0.008837370620989719, 0.005891580413993146, 0.09721107683088691, 0.05007843351894174, 0.8782831129442873, 0.02977230891336567, 0.07443077228341417, 0.02441162807154576, 0.013949501755169005, 0.005231063158188377, 0.7306051544269767, 0.08020963509222179, 0.005231063158188377, 0.04707956842369539, 0.059285382459468274, 0.01569318947456513, 0.017436877193961257, 0.5331382348182542, 0.019745860548824226, 0.1579668843905938, 0.17771274493941805, 0.019745860548824226, 0.019745860548824226, 0.019745860548824226, 0.019745860548824226, 0.03949172109764845, 0.13627753790430844, 0.19038773677807797, 0.20441630685646267, 0.08216733903053891, 0.058118361753308014, 0.10421223486800058, 0.05611428031353877, 0.03206530303630787, 0.07615509471123119, 0.06012244319307725, 0.05362114660318767, 0.055296807434537285, 0.015080947482146532, 0.06367511159128536, 0.25972742885919026, 0.035188877458341906, 0.07205341574803344, 0.25637610719649107, 0.1256745623512211, 0.06367511159128536, 0.8540631425298055, 0.11861988090691744, 0.02333764152058753, 0.02333764152058753, 0.02333764152058753, 0.8168174532205635, 0.10501938684264388, 0.02503132311736551, 0.06257830779341378, 0.02503132311736551, 0.17521926182155856, 0.4380481545538964, 0.02503132311736551, 0.07509396935209653, 0.1376722771455103, 0.012515661558682755, 0.02503132311736551, 0.379216543188972, 0.12102655633690595, 0.08068437089127063, 0.09682124506952476, 0.056479059623889445, 0.05244484107932591, 0.08068437089127063, 0.03630796690107179, 0.06858171525758004, 0.028239529811944723, 0.24878098406629157, 0.5064470032778079, 0.057752728443960545, 0.00444251757261235, 0.09329286902485934, 0.02221258786306175, 0.0355401405808988, 0.0266551054356741, 0.2029675616157443, 0.11626297218765937, 0.07488123632425518, 0.22858482667404215, 0.05320508896723395, 0.06108732436978712, 0.11823353103829766, 0.025617265058297825, 0.09261626597999983, 0.025617265058297825, 0.018277882950893488, 0.036555765901786975, 0.12794518065625443, 0.05483364885268047, 0.07311153180357395, 0.6031701373794851, 0.018277882950893488, 0.036555765901786975, 0.018277882950893488, 0.012096504335075678, 0.012096504335075678, 0.7983692861149947, 0.012096504335075678, 0.09677203468060543, 0.012096504335075678, 0.024193008670151357, 0.024193008670151357, 0.137829061471754, 0.2559682570189717, 0.137829061471754, 0.019689865924536285, 0.03937973184907257, 0.3544175866416531, 0.019689865924536285, 0.007726613010841807, 0.06953951709757626, 0.015453226021683614, 0.02317983903252542, 0.04635967806505084, 0.7340282360299717, 0.007726613010841807, 0.061812904086734455, 0.02317983903252542, 0.5409736913019273, 0.006597240137828381, 0.2111116844105082, 0.046180680964798666, 0.013194480275656763, 0.026388960551313526, 0.013194480275656763, 0.019791720413485144, 0.08576412179176895, 0.03958344082697029, 0.10786768480848771, 0.03172578964955521, 0.038070947579466254, 0.07614189515893251, 0.038070947579466254, 0.012690315859822084, 0.09517736894866563, 0.5647190557620827, 0.012690315859822084, 0.025380631719644168, 0.008687008889167791, 0.017374017778335582, 0.6428386577984164, 0.017374017778335582, 0.26061026667503373, 0.02606102666750337, 0.02606102666750337, 0.056536330969485835, 0.014134082742371459, 0.014134082742371459, 0.7067041371185729, 0.15547491016608606, 0.014134082742371459, 0.028268165484742917, 0.09542301170285868, 0.11963482064238998, 0.15524042202405366, 0.09827145981339178, 0.07405965087386046, 0.10966525225552415, 0.09969568386865832, 0.07263542681859392, 0.1053925800897245, 0.06978697870806082, 0.040734778990942265, 0.14257172646829794, 0.10183694747735567, 0.040734778990942265, 0.6313890743596051, 0.020367389495471133, 0.020367389495471133, 0.020367389495471133, 0.06698326007677552, 0.08931101343570069, 0.022327753358925173, 0.022327753358925173, 0.011163876679462587, 0.05581938339731293, 0.011163876679462587, 0.7033242308061429, 0.03349163003838776, 0.0591523269419848, 0.2563267500819341, 0.04765048559215442, 0.12487713465530124, 0.21360562506827843, 0.10023033176280757, 0.04600736539932151, 0.04765048559215442, 0.03286240385665822, 0.06901104809898227, 0.010457451816853529, 0.7738514344471612, 0.041829807267414115, 0.15686177725280293, 0.010457451816853529, 0.010457451816853529, 0.0643657522412356, 0.07723890268948272, 0.01287315044824712, 0.5277991683781319, 0.05149260179298848, 0.03861945134474136, 0.15447780537896544, 0.01287315044824712, 0.02574630089649424, 0.03861945134474136, 0.09725491856758108, 0.006946779897684363, 0.10420169846526543, 0.013893559795368726, 0.09725491856758108, 0.034733899488421816, 0.006946779897684363, 0.04862745928379054, 0.5696359516101177, 0.02778711959073745, 0.034861823653164044, 0.10458547095949214, 0.017430911826582022, 0.31375641287847644, 0.017430911826582022, 0.06972364730632809, 0.43577279566455057, 0.05705543887407144, 0.00518685807946104, 0.09595687447002924, 0.01037371615892208, 0.1789466037414059, 0.2619363330127825, 0.00518685807946104, 0.06742915503299352, 0.07520944215218509, 0.24378232973466887, 0.23228715047239148, 0.11039389329380982, 0.13645911809929268, 0.09966115366802275, 0.06746293479066155, 0.08202879571137257, 0.06976280756761592, 0.05136382535198095, 0.0958280323730988, 0.053663698128935323, 0.17992905475636561, 0.029321771886222543, 0.10395900941478901, 0.16660097662626444, 0.12661674223596098, 0.16126974537422398, 0.022657732821171964, 0.022657732821171964, 0.07863566096759682, 0.10929024066682948, 0.01572205542910132, 0.786102771455066, 0.01572205542910132, 0.01572205542910132, 0.03144411085820264, 0.14149849886191188, 0.055389531907482484, 0.0692369148843531, 0.027694765953741242, 0.055389531907482484, 0.47081102121360113, 0.15232121274557683, 0.013847382976870621, 0.055389531907482484, 0.09693168083809435, 0.11521395748242735, 0.0768093049882849, 0.012801550831380817, 0.012801550831380817, 0.563268236580756, 0.12801550831380817, 0.025603101662761633, 0.025603101662761633, 0.05120620332552327, 0.02104925702149555, 0.18359629735415564, 0.014032838014330367, 0.2116619733828164, 0.18944331319345997, 0.05613135205732147, 0.18008808785057306, 0.033912691867965056, 0.02689627286079987, 0.08536643125384308, 0.006678637536098001, 0.14693002579415604, 0.03784561270455534, 0.05788152531284935, 0.28050277651611605, 0.17809700096261336, 0.08014365043317602, 0.10685820057756802, 0.020035912608294005, 0.08682228796927402, 0.9750543046496621, 0.528014705261263, 0.008949401784089204, 0.01789880356817841, 0.4295712856362818, 0.008949401784089204, 0.1663907621685464, 0.05093594760261625, 0.5195466655466857, 0.03735302824191858, 0.020374379041046498, 0.04414448792226741, 0.023770108881220917, 0.027165838721395334, 0.047540217762441835, 0.06791459680348833, 0.5591404779552571, 0.007765839971600793, 0.03882919985800397, 0.007765839971600793, 0.015531679943201586, 0.02329751991480238, 0.12425343954561269, 0.08542423968760872, 0.13978511948881428, 0.16993914651989217, 0.007609215515816067, 0.030436862063264267, 0.06594653447040591, 0.09891980170560886, 0.0456552930948964, 0.17501195686376955, 0.08877418101785411, 0.012682025859693444, 0.301832215460704, 0.8114800235184065, 0.030913524705463106, 0.10819733646912087, 0.0077283811763657765, 0.0077283811763657765, 0.0077283811763657765, 0.02318514352909733, 0.0077283811763657765, 0.852735526054964, 0.028743894136684184, 0.10539427850117533, 0.009581298045561393, 0.009581298045561393, 0.010198302191811049, 0.5405100161659856, 0.006798868127874032, 0.006798868127874032, 0.037393774703307174, 0.04759207689511823, 0.05779037908692927, 0.010198302191811049, 0.003399434063937016, 0.27875359324283533, 0.5644065523311199, 0.11288131046622399, 0.12228808633840932, 0.047033879360926664, 0.009406775872185332, 0.03762710348874133, 0.056440655233111994, 0.018813551744370664, 0.018813551744370664, 0.1746242711440524, 0.10305694690468667, 0.07443001720894038, 0.14027195550915686, 0.09446886799596278, 0.051528473452343335, 0.12023310472213446, 0.07729271017851501, 0.09876290745032473, 0.06584193830021648, 0.27762640037076536, 0.12532848931023122, 0.08566757497155045, 0.11422343329540059, 0.05869815322124753, 0.04759309720641691, 0.08566757497155045, 0.050765970353511373, 0.10787768700121167, 0.042833787485775224, 0.46404452316527284, 0.006146285075036726, 0.20590055001373034, 0.015365712687591817, 0.06453599328788563, 0.1259988440382529, 0.003073142537518363, 0.02151199776262854, 0.03995085298773872, 0.05531656567533054, 0.01976492934595515, 0.0395298586919103, 0.0790597173838206, 0.5336530923407891, 0.29647394018932727, 0.01976492934595515, 0.37176574171220705, 0.11001231132300006, 0.07966408750975866, 0.09863172739303452, 0.05310939167317244, 0.04172880774320692, 0.07587055953310348, 0.05310939167317244, 0.087251143463069, 0.030348223813241395, 0.015996668383608, 0.015996668383608, 0.17596335221968804, 0.7198500772623602, 0.04799000515082401, 0.015996668383608, 0.2345943201607338, 0.012347069482143884, 0.012347069482143884, 0.08642948637500719, 0.037041208446431655, 0.20990018119644605, 0.3951062234286043, 0.003912491138266781, 0.05868736707400172, 0.09781227845666954, 0.7942357010681567, 0.043037402520934596, 0.02665207657221082, 0.06663019143052705, 0.8928445651690624, 0.3017362754674642, 0.03713677236522636, 0.2088943445543983, 0.011605241364133238, 0.08587878609458596, 0.03481572409239971, 0.03945782063805301, 0.11605241364133238, 0.1415839446424255, 0.01856838618261318, 0.09351115992304358, 0.20352428924427132, 0.01650196939818416, 0.09901181638910497, 0.03850459526242971, 0.01650196939818416, 0.09901181638910497, 0.03850459526242971, 0.37954529615823573, 0.01650196939818416, 0.16844846313730039, 0.0960573880700308, 0.14756642225251107, 0.08213602748017126, 0.10719447654191842, 0.07795961930321339, 0.08074389142118531, 0.08352816353915721, 0.0960573880700308, 0.059861850536396005, 0.22573666747420196, 0.18111430297348763, 0.06824596923638664, 0.09186957397205893, 0.047247209471344594, 0.07349565917764715, 0.06562112426575638, 0.015749069823781534, 0.1994882177678994, 0.02887329467693281, 0.10956977511809522, 0.0182616291863492, 0.09496047176901586, 0.06574186507085714, 0.03287093253542857, 0.05113256172177777, 0.0036523258372698404, 0.014609303349079361, 0.16435466267714283, 0.4419314263096507, 0.02119486151698039, 0.04238972303396078, 0.06358458455094118, 0.14836403061886275, 0.6994304300603529, 0.1528580489793205, 0.022928707346898076, 0.0305716097958641, 0.6420038057131461, 0.0305716097958641, 0.007642902448966025, 0.07642902448966025, 0.022928707346898076, 0.01528580489793205], \"Term\": [\"activity\", \"activity\", \"activity\", \"activity\", \"activity\", \"activity\", \"activity\", \"activity\", \"age\", \"age\", \"age\", \"age\", \"age\", \"age\", \"age\", \"age\", \"ajax\", \"ajax\", \"ajax\", \"ajax\", \"ajax\", \"alert\", \"alert\", \"alert\", \"alert\", \"alert\", \"alert\", \"alert\", \"alert\", \"alert\", \"algorithm\", \"algorithm\", \"algorithm\", \"algorithm\", \"algorithm\", \"algorithm\", \"algorithm\", \"algorithm\", \"align\", \"align\", \"align\", \"align\", \"align\", \"align\", \"alloc\", \"alloc\", \"alloc\", \"alloc\", \"alloc\", \"alloc\", \"android\", \"android\", \"android\", \"android\", \"android\", \"android\", \"android\", \"android\", \"android\", \"android\", \"animation\", \"animation\", \"animation\", \"animation\", \"animation\", \"animation\", \"apache\", \"apache\", \"apache\", \"apache\", \"apache\", \"apache\", \"apache\", \"api\", \"api\", \"api\", \"api\", \"api\", \"api\", \"api\", \"api\", \"api\", \"api\", \"app\", \"app\", \"app\", \"app\", \"app\", \"app\", \"app\", \"app\", \"app\", \"app\", \"application\", \"application\", \"application\", \"application\", \"application\", \"application\", \"application\", \"application\", \"application\", \"application\", \"args\", \"args\", \"args\", \"args\", \"args\", \"args\", \"args\", \"args\", \"array\", \"array\", \"array\", \"array\", \"array\", \"array\", \"array\", \"array\", \"array\", \"array\", \"arraylist\", \"arraylist\", \"arraylist\", \"asp\", \"asp\", \"asp\", \"asp\", \"asp\", \"asp\", \"aspdotnet\", \"aspdotnet\", \"aspdotnet\", \"aspdotnet\", \"aspdotnet\", \"aspdotnet\", \"aspdotnet\", \"aspdotnet\", \"aspdotnet\", \"aspx\", \"aspx\", \"aspx\", \"aspx\", \"aspx\", \"aspx\", \"aspx\", \"async\", \"async\", \"async\", \"async\", \"async\", \"async\", \"async\", \"async\", \"attr\", \"attr\", \"attr\", \"attr\", \"attr\", \"attr\", \"auth\", \"auth\", \"auth\", \"auth\", \"auth\", \"authentication\", \"authentication\", \"authentication\", \"authentication\", \"authentication\", \"authentication\", \"author\", \"author\", \"author\", \"author\", \"author\", \"author\", \"author\", \"author\", \"author\", \"await\", \"await\", \"await\", \"await\", \"await\", \"axis\", \"axis\", \"axis\", \"axis\", \"axis\", \"axis\", \"background\", \"background\", \"background\", \"background\", \"background\", \"background\", \"background\", \"background\", \"background\", \"background\", \"background color\", \"background color\", \"bash\", \"bash\", \"bash\", \"batch\", \"batch\", \"batch\", \"batch\", \"batch\", \"batch\", \"batch\", \"bin\", \"bin\", \"bin\", \"bin\", \"bin\", \"bin\", \"bin\", \"black\", \"black\", \"black\", \"black\", \"black\", \"black\", \"bool\", \"bool\", \"bool\", \"bool\", \"bool\", \"bool\", \"bool\", \"bootstrap\", \"bootstrap\", \"bootstrap\", \"bootstrap\", \"bootstrap\", \"border\", \"border\", \"border\", \"border\", \"bottom\", \"bottom\", \"bottom\", \"bottom\", \"bottom\", \"bottom\", \"bottom\", \"bottom\", \"branch\", \"branch\", \"branch\", \"branch\", \"branch\", \"branch\", \"btn\", \"btn\", \"btn\", \"buffer\", \"buffer\", \"buffer\", \"buffer\", \"buffer\", \"buffer\", \"buffer\", \"build\", \"build\", \"build\", \"build\", \"build\", \"build\", \"build\", \"build\", \"build\", \"build\", \"builder\", \"builder\", \"builder\", \"builder\", \"builder\", \"builder\", \"builder\", \"builder\", \"builder\", \"bundle\", \"bundle\", \"bundle\", \"bundle\", \"bundle\", \"bundle\", \"button\", \"button\", \"button\", \"button\", \"button\", \"button\", \"button\", \"button\", \"button\", \"button\", \"byte\", \"byte\", \"byte\", \"byte\", \"byte\", \"byte\", \"byte\", \"byte\", \"calculate\", \"calculate\", \"calculate\", \"calculate\", \"calculate\", \"calculate\", \"calculate\", \"call\", \"call\", \"call\", \"call\", \"call\", \"call\", \"call\", \"call\", \"call\", \"call\", \"callback\", \"callback\", \"callback\", \"callback\", \"callback\", \"callback\", \"callback\", \"callback\", \"callback\", \"card\", \"card\", \"card\", \"card\", \"card\", \"card\", \"card\", \"card\", \"card\", \"cast\", \"cast\", \"cast\", \"cast\", \"cast\", \"cast\", \"cast\", \"cast\", \"cell\", \"cell\", \"cell\", \"cell\", \"cell\", \"cell\", \"cell\", \"cell\", \"center\", \"center\", \"center\", \"center\", \"center\", \"center\", \"center\", \"channel\", \"channel\", \"channel\", \"channel\", \"channel\", \"channel\", \"channel\", \"channel\", \"channel\", \"char\", \"char\", \"char\", \"char\", \"char\", \"char\", \"char\", \"char\", \"character\", \"character\", \"character\", \"character\", \"character\", \"character\", \"character\", \"character\", \"character\", \"character\", \"chart\", \"chart\", \"chart\", \"chart\", \"chart\", \"chart\", \"checkbox\", \"checkbox\", \"checkbox\", \"checkbox\", \"checkbox\", \"child\", \"child\", \"child\", \"child\", \"child\", \"child\", \"child\", \"child\", \"child\", \"child\", \"city\", \"city\", \"city\", \"city\", \"city\", \"city\", \"city\", \"class\", \"class\", \"class\", \"class\", \"class\", \"class\", \"class\", \"class\", \"class\", \"class\", \"click\", \"click\", \"click\", \"click\", \"click\", \"click\", \"click\", \"click\", \"click\", \"click\", \"client\", \"client\", \"client\", \"client\", \"client\", \"client\", \"client\", \"client\", \"client\", \"cmd\", \"cmd\", \"cmd\", \"cmd\", \"cmd\", \"cmd\", \"code\", \"code\", \"code\", \"code\", \"code\", \"code\", \"code\", \"code\", \"code\", \"code\", \"col\", \"col\", \"col\", \"col\", \"col\", \"col\", \"color\", \"color\", \"color\", \"color\", \"color\", \"color\", \"color\", \"color\", \"color\", \"column\", \"column\", \"column\", \"column\", \"column\", \"column\", \"column\", \"column\", \"column\", \"column\", \"com\", \"com\", \"com\", \"com\", \"com\", \"com\", \"com\", \"com\", \"com\", \"com\", \"command\", \"command\", \"command\", \"command\", \"command\", \"command\", \"command\", \"command\", \"command\", \"command\", \"commit\", \"commit\", \"commit\", \"commit\", \"commit\", \"commit\", \"commit\", \"commit\", \"component\", \"component\", \"component\", \"component\", \"component\", \"component\", \"component\", \"component\", \"component\", \"component\", \"config\", \"config\", \"config\", \"config\", \"config\", \"config\", \"config\", \"config\", \"config\", \"config\", \"configuration\", \"configuration\", \"configuration\", \"configuration\", \"configuration\", \"configuration\", \"configuration\", \"configure\", \"configure\", \"configure\", \"configure\", \"configure\", \"configure\", \"configure\", \"configure\", \"configure\", \"connection\", \"connection\", \"connection\", \"connection\", \"connection\", \"connection\", \"connection\", \"connection\", \"connection\", \"console\", \"console\", \"console\", \"console\", \"console\", \"console\", \"console\", \"console\", \"console\", \"console\", \"console log\", \"console log\", \"console log\", \"console log\", \"console log\", \"console log\", \"console log\", \"console log\", \"const\", \"const\", \"const\", \"const\", \"const\", \"const\", \"const\", \"const\", \"const\", \"constructor\", \"constructor\", \"constructor\", \"constructor\", \"constructor\", \"constructor\", \"constructor\", \"constructor\", \"content\", \"content\", \"content\", \"content\", \"content\", \"content\", \"content\", \"content\", \"content\", \"content\", \"context\", \"context\", \"context\", \"context\", \"context\", \"context\", \"context\", \"context\", \"context\", \"context\", \"control\", \"control\", \"control\", \"control\", \"control\", \"control\", \"control\", \"control\", \"control\", \"control\", \"controller\", \"controller\", \"controller\", \"controller\", \"controller\", \"controller\", \"controller\", \"controller\", \"controller\", \"controller\", \"count\", \"count\", \"count\", \"count\", \"count\", \"count\", \"count\", \"count\", \"count\", \"count\", \"country\", \"country\", \"country\", \"country\", \"country\", \"country\", \"country\", \"cout\", \"create\", \"create\", \"create\", \"create\", \"create\", \"create\", \"create\", \"create\", \"create\", \"create\", \"csharp\", \"csharp\", \"csharp\", \"csharp\", \"csharp\", \"csharp\", \"csharp\", \"csharp\", \"csharp\", \"csharp\", \"css\", \"css\", \"css\", \"css\", \"css\", \"css\", \"css\", \"csv\", \"csv\", \"csv\", \"csv\", \"csv\", \"csv\", \"csv\", \"customer\", \"customer\", \"customer\", \"customer\", \"customer\", \"customer\", \"customer\", \"customer\", \"database\", \"database\", \"database\", \"database\", \"database\", \"database\", \"database\", \"database\", \"database\", \"database\", \"dataframe\", \"dataframe\", \"dataframe\", \"dataset\", \"dataset\", \"dataset\", \"dataset\", \"dataset\", \"date\", \"date\", \"date\", \"date\", \"date\", \"date\", \"date\", \"date\", \"date\", \"date\", \"datetime\", \"datetime\", \"datetime\", \"datetime\", \"datetime\", \"datetime\", \"datetime\", \"datum\", \"datum\", \"datum\", \"datum\", \"datum\", \"datum\", \"datum\", \"datum\", \"datum\", \"datum\", \"day\", \"day\", \"day\", \"day\", \"day\", \"day\", \"day\", \"day\", \"day\", \"day\", \"db\", \"db\", \"db\", \"db\", \"db\", \"db\", \"db\", \"db\", \"db\", \"def\", \"def\", \"def\", \"def\", \"def\", \"def\", \"def\", \"def\", \"def\", \"dependency\", \"dependency\", \"dependency\", \"dependency\", \"dependency\", \"dependency\", \"dependency\", \"deploy\", \"deploy\", \"deploy\", \"deploy\", \"design\", \"design\", \"design\", \"design\", \"design\", \"design\", \"design\", \"design\", \"design\", \"design\", \"dev\", \"dev\", \"dev\", \"dev\", \"dev\", \"dev\", \"dev\", \"dev\", \"dev\", \"develop\", \"develop\", \"develop\", \"develop\", \"develop\", \"develop\", \"develop\", \"develop\", \"develop\", \"develop\", \"developer\", \"developer\", \"developer\", \"developer\", \"developer\", \"developer\", \"developer\", \"developer\", \"developer\", \"development\", \"development\", \"development\", \"development\", \"development\", \"development\", \"development\", \"dim\", \"dim\", \"dim\", \"dim\", \"dim\", \"dim\", \"dim\", \"dir\", \"dir\", \"dir\", \"dir\", \"dir\", \"dir\", \"dir\", \"dir\", \"directory\", \"directory\", \"directory\", \"directory\", \"directory\", \"directory\", \"directory\", \"directory\", \"directory\", \"display\", \"display\", \"display\", \"display\", \"display\", \"display\", \"display\", \"display\", \"display\", \"display\", \"div\", \"div\", \"div\", \"div\", \"div class\", \"div class\", \"div div\", \"div div\", \"dll\", \"dll\", \"dll\", \"dll\", \"dll\", \"document\", \"document\", \"document\", \"document\", \"document\", \"document\", \"document\", \"document\", \"document\", \"document\", \"document getelementbyid\", \"document getelementbyid\", \"document getelementbyid\", \"dotnet\", \"dotnet\", \"dotnet\", \"dotnet\", \"dotnet\", \"dotnet\", \"dotnet\", \"dotnet\", \"dotnet\", \"dotnet\", \"double\", \"double\", \"double\", \"double\", \"double\", \"double\", \"double\", \"double\", \"double\", \"double\", \"download\", \"download\", \"download\", \"download\", \"download\", \"download\", \"download\", \"download\", \"download\", \"download\", \"draw\", \"draw\", \"draw\", \"draw\", \"draw\", \"draw\", \"draw\", \"draw\", \"driver\", \"driver\", \"driver\", \"driver\", \"driver\", \"driver\", \"driver\", \"driver\", \"driver\", \"dropdown\", \"dropdown\", \"dropdown\", \"dropdown\", \"dropdown\", \"echo\", \"echo\", \"echo\", \"echo\", \"echo\", \"echo\", \"echo\", \"echo\", \"eclipse\", \"eclipse\", \"eclipse\", \"eclipse\", \"eclipse\", \"editor\", \"editor\", \"editor\", \"editor\", \"editor\", \"editor\", \"editor\", \"editor\", \"editor\", \"element\", \"element\", \"element\", \"element\", \"element\", \"element\", \"element\", \"element\", \"element\", \"element\", \"email\", \"email\", \"email\", \"email\", \"email\", \"email\", \"email\", \"email\", \"email\", \"email\", \"engine\", \"engine\", \"engine\", \"engine\", \"engine\", \"engine\", \"engine\", \"engine\", \"engine\", \"env\", \"env\", \"env\", \"env\", \"env\", \"err\", \"err\", \"err\", \"err\", \"err\", \"err\", \"err\", \"err\", \"error\", \"error\", \"error\", \"error\", \"error\", \"error\", \"error\", \"error\", \"error\", \"error\", \"event\", \"event\", \"event\", \"event\", \"event\", \"event\", \"event\", \"event\", \"event\", \"event\", \"excel\", \"excel\", \"excel\", \"excel\", \"excel\", \"excel\", \"exe\", \"exe\", \"exe\", \"exe\", \"exe\", \"exe\", \"exe\", \"experience\", \"experience\", \"experience\", \"experience\", \"experience\", \"experience\", \"experience\", \"experience\", \"experience\", \"express\", \"express\", \"express\", \"express\", \"express\", \"express\", \"express\", \"express\", \"express\", \"extend\", \"extend\", \"extend\", \"extend\", \"extend\", \"extend\", \"extend\", \"extend\", \"extend\", \"extend\", \"extract\", \"extract\", \"extract\", \"extract\", \"extract\", \"extract\", \"extract\", \"extract\", \"extract\", \"extract\", \"facebook\", \"facebook\", \"facebook\", \"facebook\", \"facebook\", \"facebook\", \"feature\", \"feature\", \"feature\", \"feature\", \"feature\", \"feature\", \"feature\", \"feature\", \"feature\", \"feature\", \"field\", \"field\", \"field\", \"field\", \"field\", \"field\", \"field\", \"field\", \"field\", \"field\", \"file\", \"file\", \"file\", \"file\", \"file\", \"file\", \"file\", \"file\", \"file\", \"file\", \"file file\", \"file file\", \"file file\", \"file file\", \"file file\", \"file file\", \"file file\", \"filename\", \"filename\", \"filename\", \"filename\", \"filename\", \"filename\", \"filename\", \"filename\", \"filename\", \"find\", \"find\", \"find\", \"find\", \"find\", \"find\", \"find\", \"find\", \"find\", \"find\", \"fire\", \"fire\", \"fire\", \"fire\", \"fire\", \"fire\", \"fire\", \"fire\", \"fire\", \"fire\", \"fit\", \"fit\", \"fit\", \"fit\", \"fit\", \"fit\", \"fit\", \"fit\", \"flash\", \"flash\", \"flash\", \"flash\", \"flash\", \"flash\", \"flash\", \"folder\", \"folder\", \"folder\", \"folder\", \"folder\", \"folder\", \"folder\", \"folder\", \"folder\", \"folder\", \"font\", \"font\", \"font\", \"font\", \"font\", \"font\", \"foo\", \"foo\", \"foo\", \"foo\", \"foo\", \"foo\", \"foo\", \"foo\", \"foo\", \"foo\", \"form\", \"form\", \"form\", \"form\", \"form\", \"form\", \"form\", \"form\", \"form\", \"form\", \"formicrosoft\", \"formicrosoft\", \"formicrosoft\", \"formicrosoft\", \"formicrosoft\", \"formicrosoft\", \"formicrosoft\", \"formicrosoft\", \"formicrosoft\", \"formicrosoft\", \"frame\", \"frame\", \"frame\", \"frame\", \"frame\", \"frame\", \"frame\", \"frame\", \"frame\", \"frame\", \"framework\", \"framework\", \"framework\", \"framework\", \"framework\", \"framework\", \"framework\", \"framework\", \"framework\", \"framework\", \"free\", \"free\", \"free\", \"free\", \"free\", \"free\", \"free\", \"free\", \"free\", \"free\", \"function\", \"function\", \"function\", \"function\", \"function\", \"function\", \"function\", \"function\", \"function\", \"function\", \"functionality\", \"functionality\", \"functionality\", \"functionality\", \"functionality\", \"functionality\", \"functionality\", \"functionality\", \"functionality\", \"functionality\", \"game\", \"game\", \"game\", \"game\", \"game\", \"game\", \"game\", \"game\", \"game\", \"game\", \"generic\", \"generic\", \"generic\", \"generic\", \"generic\", \"generic\", \"generic\", \"generic\", \"generic\", \"get\", \"get\", \"get\", \"get\", \"get\", \"get\", \"get\", \"get\", \"get\", \"get\", \"get set\", \"get set\", \"get set\", \"get set\", \"get set\", \"getelementbyid\", \"getelementbyid\", \"getelementbyid\", \"git\", \"git\", \"github\", \"github\", \"github\", \"github\", \"github\", \"github\", \"github\", \"github\", \"github\", \"github\", \"good\", \"good\", \"good\", \"good\", \"good\", \"good\", \"good\", \"good\", \"good\", \"good\", \"good way\", \"good way\", \"good way\", \"good way\", \"good way\", \"good way\", \"good way\", \"good way\", \"good way\", \"good way\", \"graph\", \"graph\", \"graph\", \"graph\", \"graph\", \"graph\", \"graph\", \"graph\", \"graph\", \"graph\", \"green\", \"green\", \"green\", \"green\", \"green\", \"green\", \"green\", \"grid\", \"grid\", \"grid\", \"grid\", \"grid\", \"grid\", \"grid\", \"grid\", \"group\", \"group\", \"group\", \"group\", \"group\", \"group\", \"group\", \"group\", \"group\", \"group\", \"header\", \"header\", \"header\", \"header\", \"header\", \"header\", \"header\", \"header\", \"header\", \"header\", \"height\", \"height\", \"height\", \"height\", \"hour\", \"hour\", \"hour\", \"hour\", \"hour\", \"hour\", \"hour\", \"hour\", \"hour\", \"hour\", \"href\", \"href\", \"href\", \"href\", \"href\", \"href\", \"html\", \"html\", \"html\", \"html\", \"html\", \"html\", \"html\", \"html\", \"html\", \"html\", \"http\", \"http\", \"http\", \"http\", \"http\", \"http\", \"http\", \"http\", \"http\", \"http\", \"http www\", \"http www\", \"http www\", \"http www\", \"http www\", \"http www\", \"http www\", \"http www\", \"http www\", \"http www\", \"icon\", \"icon\", \"icon\", \"icon\", \"icon\", \"icon\", \"icon\", \"image\", \"image\", \"image\", \"image\", \"image\", \"image\", \"image\", \"image\", \"image\", \"image\", \"img\", \"img\", \"img\", \"img\", \"img\", \"img\", \"img src\", \"img src\", \"import\", \"import\", \"import\", \"import\", \"import\", \"import\", \"import\", \"import\", \"import\", \"import\", \"index\", \"index\", \"index\", \"index\", \"index\", \"index\", \"index\", \"index\", \"index\", \"index\", \"input\", \"input\", \"input\", \"input\", \"input\", \"input\", \"input\", \"input\", \"input\", \"input\", \"input type\", \"input type\", \"input type\", \"input type\", \"insert\", \"insert\", \"insert\", \"insert\", \"insert\", \"insert\", \"insert\", \"insert\", \"insert\", \"insert\", \"instal\", \"instal\", \"instal\", \"instal\", \"instal\", \"instal\", \"instal\", \"install\", \"install\", \"install\", \"install\", \"install\", \"int\", \"int\", \"int\", \"int\", \"int\", \"int\", \"int\", \"int\", \"int\", \"int\", \"int int\", \"int int\", \"int int\", \"int int\", \"integer\", \"integer\", \"integer\", \"integer\", \"integer\", \"integer\", \"integer\", \"intent\", \"intent\", \"intent\", \"intent\", \"ip\", \"ip\", \"ip\", \"ip\", \"ip\", \"ip\", \"iphone\", \"iphone\", \"iphone\", \"iphone\", \"iphone\", \"iphone\", \"iphone\", \"iphone\", \"iphone\", \"iphone\", \"item\", \"item\", \"item\", \"item\", \"item\", \"item\", \"item\", \"item\", \"item\", \"item\", \"jar\", \"jar\", \"jar\", \"jar\", \"jar\", \"jar\", \"java\", \"java\", \"java\", \"java\", \"java\", \"java\", \"java\", \"java\", \"java\", \"java\", \"javascript\", \"javascript\", \"javascript\", \"javascript\", \"javascript\", \"javascript\", \"javascript\", \"javascript\", \"javascript\", \"javascript\", \"job\", \"job\", \"job\", \"job\", \"job\", \"job\", \"job\", \"job\", \"job\", \"join\", \"join\", \"join\", \"join\", \"join\", \"join\", \"join\", \"join\", \"join\", \"join\", \"jpg\", \"jpg\", \"jpg\", \"jpg\", \"jpg\", \"jpg\", \"jpg\", \"jpg\", \"jquery\", \"jquery\", \"jquery\", \"jquery\", \"jquery\", \"jquery\", \"jquery\", \"json\", \"json\", \"json\", \"json\", \"json\", \"json\", \"json\", \"json\", \"json\", \"json\", \"know\", \"know\", \"know\", \"know\", \"know\", \"know\", \"know\", \"know\", \"know\", \"know\", \"label\", \"label\", \"label\", \"label\", \"label\", \"label\", \"label\", \"label\", \"label\", \"label\", \"language\", \"language\", \"language\", \"language\", \"language\", \"language\", \"language\", \"language\", \"language\", \"language\", \"layout\", \"layout\", \"layout\", \"layout\", \"layout\", \"layout\", \"layout\", \"layout\", \"layout\", \"layout\", \"leave\", \"leave\", \"leave\", \"leave\", \"leave\", \"leave\", \"leave\", \"leave\", \"leave\", \"leave\", \"left\", \"left\", \"left\", \"left\", \"left\", \"left\", \"len\", \"len\", \"len\", \"len\", \"len\", \"len\", \"lib\", \"lib\", \"lib\", \"lib\", \"lib\", \"lib\", \"lib\", \"lib\", \"lib\", \"library\", \"library\", \"library\", \"library\", \"library\", \"library\", \"library\", \"library\", \"library\", \"library\", \"like\", \"like\", \"like\", \"like\", \"like\", \"like\", \"like\", \"like\", \"like\", \"like\", \"line\", \"line\", \"line\", \"line\", \"line\", \"line\", \"line\", \"line\", \"line\", \"line\", \"linq\", \"linq\", \"linq\", \"linq\", \"linq\", \"list\", \"list\", \"list\", \"list\", \"list\", \"list\", \"list\", \"list\", \"list\", \"list\", \"local\", \"local\", \"local\", \"local\", \"local\", \"local\", \"local\", \"local\", \"local\", \"local\", \"log\", \"log\", \"log\", \"log\", \"log\", \"log\", \"log\", \"log\", \"log\", \"log\", \"look\", \"look\", \"look\", \"look\", \"look\", \"look\", \"look\", \"look\", \"look\", \"look\", \"loop\", \"loop\", \"loop\", \"loop\", \"loop\", \"loop\", \"loop\", \"loop\", \"loop\", \"loop\", \"mac\", \"mac\", \"mac\", \"mac\", \"mac\", \"mac\", \"mac\", \"mac\", \"machine\", \"machine\", \"machine\", \"machine\", \"machine\", \"machine\", \"machine\", \"mail\", \"mail\", \"mail\", \"mail\", \"mail\", \"mail\", \"mail\", \"mail\", \"main\", \"main\", \"main\", \"main\", \"main\", \"main\", \"main\", \"main\", \"main\", \"main\", \"make\", \"make\", \"make\", \"make\", \"make\", \"make\", \"make\", \"make\", \"make\", \"make\", \"margin\", \"margin\", \"margin\", \"match\", \"match\", \"match\", \"match\", \"match\", \"match\", \"match\", \"match\", \"match\", \"match\", \"matrix\", \"matrix\", \"matrix\", \"matrix\", \"message\", \"message\", \"message\", \"message\", \"message\", \"message\", \"message\", \"message\", \"message\", \"message\", \"method\", \"method\", \"method\", \"method\", \"method\", \"method\", \"method\", \"method\", \"method\", \"method\", \"microsoftg\", \"microsoftg\", \"microsoftg\", \"microsoftg\", \"microsoftg\", \"microsoftg\", \"microsoftg\", \"microsoftg\", \"mobile\", \"mobile\", \"mobile\", \"mobile\", \"mobile\", \"mobile\", \"mobile\", \"mobile\", \"model\", \"model\", \"model\", \"model\", \"model\", \"model\", \"model\", \"model\", \"model\", \"model\", \"module\", \"module\", \"module\", \"module\", \"module\", \"module\", \"module\", \"module\", \"module\", \"module\", \"month\", \"month\", \"month\", \"month\", \"month\", \"month\", \"month\", \"month\", \"month\", \"mvc\", \"mvc\", \"mvc\", \"mvc\", \"mvc\", \"mvc\", \"mvc\", \"mvc\", \"mvc\", \"mysql\", \"mysql\", \"mysql\", \"mysql\", \"mysql\", \"mysql\", \"mysql\", \"name\", \"name\", \"name\", \"name\", \"name\", \"name\", \"name\", \"name\", \"name\", \"name\", \"need\", \"need\", \"need\", \"need\", \"need\", \"need\", \"need\", \"need\", \"need\", \"need\", \"new\", \"new\", \"new\", \"new\", \"new\", \"new\", \"new\", \"new\", \"new\", \"new\", \"nil\", \"nil\", \"nil\", \"nil\", \"nil\", \"nil\", \"nil\", \"nil\", \"node\", \"node\", \"node\", \"node\", \"node\", \"node\", \"node\", \"node\", \"node\", \"node\", \"np\", \"null\", \"null\", \"null\", \"null\", \"null\", \"null\", \"null\", \"null\", \"null\", \"null\", \"number\", \"number\", \"number\", \"number\", \"number\", \"number\", \"number\", \"number\", \"number\", \"number\", \"numpy\", \"numpy\", \"numpy\", \"obj\", \"obj\", \"obj\", \"obj\", \"obj\", \"obj\", \"obj\", \"obj\", \"obj\", \"obj\", \"object\", \"object\", \"object\", \"object\", \"object\", \"object\", \"object\", \"object\", \"object\", \"object\", \"onclick\", \"onclick\", \"onclick\", \"onclick\", \"onclick\", \"open\", \"open\", \"open\", \"open\", \"open\", \"open\", \"open\", \"open\", \"open\", \"open\", \"operator\", \"operator\", \"operator\", \"operator\", \"operator\", \"operator\", \"operator\", \"option\", \"option\", \"option\", \"option\", \"option\", \"option\", \"option\", \"option\", \"option\", \"option\", \"oracle\", \"oracle\", \"oracle\", \"oracle\", \"order\", \"order\", \"order\", \"order\", \"order\", \"order\", \"order\", \"order\", \"order\", \"order\", \"org\", \"org\", \"org\", \"org\", \"org\", \"org\", \"org\", \"org\", \"org\", \"org\", \"output\", \"output\", \"output\", \"output\", \"output\", \"output\", \"output\", \"output\", \"output\", \"output\", \"override\", \"override\", \"override\", \"override\", \"override\", \"override\", \"override\", \"override\", \"override\", \"override\", \"override public\", \"override public\", \"override public\", \"package\", \"package\", \"package\", \"package\", \"package\", \"package\", \"package\", \"package\", \"package\", \"package\", \"padding\", \"padding\", \"padding\", \"padding\", \"page\", \"page\", \"page\", \"page\", \"page\", \"page\", \"page\", \"page\", \"page\", \"page\", \"panel\", \"panel\", \"panel\", \"panel\", \"panel\", \"panel\", \"panel\", \"panel\", \"param\", \"param\", \"param\", \"param\", \"param\", \"param\", \"param\", \"param\", \"param\", \"paramicrosoft\", \"paramicrosoft\", \"paramicrosoft\", \"paramicrosoft\", \"paramicrosoft\", \"paramicrosoft\", \"paramicrosoft\", \"parent\", \"parent\", \"parent\", \"parent\", \"parent\", \"parent\", \"parent\", \"parent\", \"parent\", \"parent\", \"paste\", \"paste\", \"paste\", \"paste\", \"paste\", \"paste\", \"paste\", \"paste\", \"paste\", \"paste\", \"path\", \"path\", \"path\", \"path\", \"path\", \"path\", \"path\", \"path\", \"path\", \"path\", \"pd\", \"pd\", \"pd\", \"pdf\", \"pdf\", \"pdf\", \"pdf\", \"pdf\", \"pdf\", \"pdf\", \"pdf\", \"people\", \"people\", \"people\", \"people\", \"people\", \"people\", \"people\", \"people\", \"people\", \"people\", \"performance\", \"performance\", \"performance\", \"performance\", \"performance\", \"performance\", \"performance\", \"performance\", \"performance\", \"perl\", \"perl\", \"perl\", \"perl\", \"perl\", \"perl\", \"php\", \"php\", \"php\", \"php\", \"php\", \"php\", \"php\", \"php\", \"php\", \"php\", \"player\", \"player\", \"player\", \"player\", \"player\", \"player\", \"player\", \"player\", \"plot\", \"plot\", \"plugin\", \"plugin\", \"plugin\", \"plugin\", \"plugin\", \"plugin\", \"plugin\", \"plugin\", \"point\", \"point\", \"point\", \"point\", \"point\", \"point\", \"point\", \"point\", \"point\", \"point\", \"pointer\", \"pointer\", \"pointer\", \"pointer\", \"pointer\", \"pointer\", \"pointer\", \"pointer\", \"pointer\", \"pointer\", \"port\", \"port\", \"port\", \"port\", \"port\", \"port\", \"port\", \"port\", \"port\", \"position\", \"position\", \"position\", \"position\", \"position\", \"position\", \"position\", \"position\", \"position\", \"position\", \"post\", \"post\", \"post\", \"post\", \"post\", \"post\", \"post\", \"post\", \"post\", \"post\", \"practice\", \"practice\", \"practice\", \"practice\", \"practice\", \"practice\", \"practice\", \"practice\", \"practice\", \"practice\", \"price\", \"price\", \"price\", \"price\", \"price\", \"price\", \"price\", \"price\", \"primary\", \"primary\", \"primary\", \"primary\", \"primary\", \"primary\", \"primary\", \"primary\", \"primary\", \"print\", \"print\", \"print\", \"print\", \"print\", \"print\", \"print\", \"print\", \"print\", \"print\", \"printf\", \"printf\", \"printf\", \"printf\", \"printf\", \"println\", \"println\", \"println\", \"println\", \"println\", \"private\", \"private\", \"private\", \"private\", \"private\", \"private\", \"private\", \"private\", \"private\", \"private\", \"procedure\", \"procedure\", \"procedure\", \"procedure\", \"procedure\", \"procedure\", \"procedure\", \"process\", \"process\", \"process\", \"process\", \"process\", \"process\", \"process\", \"process\", \"process\", \"product\", \"product\", \"product\", \"product\", \"product\", \"product\", \"product\", \"product\", \"product\", \"product\", \"project\", \"project\", \"project\", \"project\", \"project\", \"project\", \"project\", \"project\", \"project\", \"project\", \"prop\", \"prop\", \"prop\", \"prop\", \"prop\", \"prop\", \"prop\", \"property\", \"property\", \"property\", \"property\", \"property\", \"property\", \"property\", \"property\", \"property\", \"property\", \"protect\", \"protect\", \"protect\", \"protect\", \"protect\", \"protect\", \"protect\", \"protect\", \"proxy\", \"proxy\", \"proxy\", \"proxy\", \"proxy\", \"public\", \"public\", \"public\", \"public\", \"public\", \"public\", \"public\", \"public\", \"public\", \"public\", \"public class\", \"public class\", \"public class\", \"public class\", \"public class\", \"public function\", \"public function\", \"public function\", \"public function\", \"public function\", \"public static\", \"public static\", \"public static\", \"public static\", \"public static\", \"public string\", \"public string\", \"public string\", \"public void\", \"public void\", \"public void\", \"public void\", \"public void\", \"public void\", \"py\", \"py\", \"py\", \"py\", \"py\", \"py\", \"py\", \"py\", \"py\", \"python\", \"python\", \"python\", \"python\", \"python\", \"python\", \"python\", \"python\", \"python\", \"python\", \"query\", \"query\", \"query\", \"query\", \"query\", \"query\", \"query\", \"query\", \"query\", \"query\", \"question\", \"question\", \"question\", \"question\", \"question\", \"question\", \"question\", \"question\", \"question\", \"question\", \"queue\", \"queue\", \"queue\", \"queue\", \"queue\", \"queue\", \"queue\", \"queue\", \"random\", \"random\", \"random\", \"random\", \"random\", \"random\", \"random\", \"random\", \"random\", \"random\", \"range\", \"range\", \"range\", \"range\", \"range\", \"range\", \"range\", \"range\", \"range\", \"range\", \"react\", \"react\", \"react\", \"react\", \"react\", \"react\", \"react\", \"read\", \"read\", \"read\", \"read\", \"read\", \"read\", \"read\", \"read\", \"read\", \"read\", \"reader\", \"reader\", \"reader\", \"reader\", \"reader\", \"reader\", \"reader\", \"reader\", \"ready\", \"ready\", \"ready\", \"ready\", \"ready\", \"ready\", \"ready\", \"ready\", \"really\", \"really\", \"really\", \"really\", \"really\", \"really\", \"really\", \"really\", \"really\", \"really\", \"record\", \"record\", \"record\", \"record\", \"record\", \"record\", \"record\", \"record\", \"record\", \"record\", \"refresh\", \"refresh\", \"refresh\", \"refresh\", \"refresh\", \"refresh\", \"refresh\", \"refresh\", \"refresh\", \"regex\", \"regex\", \"regex\", \"regex\", \"regex\", \"regex\", \"remote\", \"remote\", \"remote\", \"remote\", \"remote\", \"remote\", \"remote\", \"replace\", \"replace\", \"replace\", \"replace\", \"replace\", \"replace\", \"replace\", \"replace\", \"replace\", \"replace\", \"repository\", \"repository\", \"repository\", \"repository\", \"repository\", \"repository\", \"repository\", \"request\", \"request\", \"request\", \"request\", \"request\", \"request\", \"request\", \"request\", \"request\", \"request\", \"response\", \"response\", \"response\", \"response\", \"response\", \"response\", \"response\", \"response\", \"response\", \"result\", \"result\", \"result\", \"result\", \"result\", \"result\", \"result\", \"result\", \"result\", \"result\", \"return\", \"return\", \"return\", \"return\", \"return\", \"return\", \"return\", \"return\", \"return\", \"return\", \"route\", \"route\", \"route\", \"route\", \"route\", \"route\", \"route\", \"route\", \"route\", \"router\", \"router\", \"router\", \"router\", \"router\", \"router\", \"row\", \"row\", \"row\", \"row\", \"row\", \"row\", \"row\", \"row\", \"row\", \"run\", \"run\", \"run\", \"run\", \"run\", \"run\", \"run\", \"run\", \"run\", \"run\", \"save\", \"save\", \"save\", \"save\", \"save\", \"save\", \"save\", \"save\", \"save\", \"save\", \"scale\", \"scale\", \"scale\", \"scale\", \"scale\", \"scale\", \"scale\", \"schema\", \"schema\", \"schema\", \"schema\", \"schema\", \"schema\", \"schema\", \"schema\", \"script\", \"script\", \"script\", \"script\", \"script\", \"script\", \"script\", \"script\", \"script\", \"script\", \"scroll\", \"scroll\", \"scroll\", \"scroll\", \"scroll\", \"select\", \"select\", \"select\", \"select\", \"select\", \"select\", \"select\", \"select\", \"select\", \"select\", \"self\", \"self\", \"self\", \"self\", \"self\", \"self\", \"self\", \"self\", \"self\", \"self\", \"send\", \"send\", \"send\", \"send\", \"send\", \"send\", \"send\", \"send\", \"send\", \"send\", \"server\", \"server\", \"server\", \"server\", \"server\", \"server\", \"server\", \"server\", \"server\", \"server\", \"service\", \"service\", \"service\", \"service\", \"service\", \"service\", \"service\", \"service\", \"service\", \"set\", \"set\", \"set\", \"set\", \"set\", \"set\", \"set\", \"set\", \"set\", \"set\", \"shape\", \"shape\", \"shape\", \"shape\", \"sheet\", \"sheet\", \"sheet\", \"sheet\", \"sheet\", \"sheet\", \"sheet\", \"shell\", \"shell\", \"shell\", \"shell\", \"shell\", \"shell\", \"shell\", \"shell\", \"size\", \"size\", \"size\", \"size\", \"size\", \"size\", \"size\", \"size\", \"size\", \"size\", \"socket\", \"socket\", \"socket\", \"socket\", \"socket\", \"software\", \"software\", \"software\", \"software\", \"software\", \"software\", \"software\", \"software\", \"software\", \"span\", \"span\", \"span\", \"span\", \"span\", \"sql\", \"sql\", \"sql\", \"sql\", \"sql\", \"sql\", \"sql\", \"sql\", \"sql server\", \"sql server\", \"sql server\", \"sql server\", \"static\", \"static\", \"static\", \"static\", \"static\", \"static\", \"static\", \"static\", \"static\", \"static\", \"static void\", \"static void\", \"static void\", \"std\", \"std\", \"std\", \"std\", \"store\", \"store\", \"store\", \"store\", \"store\", \"store\", \"store\", \"store\", \"store\", \"store\", \"string\", \"string\", \"string\", \"string\", \"string\", \"string\", \"string\", \"string\", \"string\", \"string\", \"struct\", \"struct\", \"struct\", \"struct\", \"struct\", \"studio\", \"studio\", \"studio\", \"studio\", \"studio\", \"studio\", \"studio\", \"studio\", \"style\", \"style\", \"style\", \"style\", \"style\", \"style\", \"style\", \"style\", \"style\", \"style\", \"submit\", \"submit\", \"submit\", \"submit\", \"submit\", \"submit\", \"submit\", \"submit\", \"submit\", \"super\", \"super\", \"super\", \"super\", \"super\", \"super\", \"super\", \"super\", \"super\", \"system\", \"system\", \"system\", \"system\", \"system\", \"system\", \"system\", \"system\", \"system\", \"system\", \"system println\", \"system println\", \"system println\", \"table\", \"table\", \"table\", \"table\", \"table\", \"table\", \"table\", \"table\", \"table\", \"table\", \"team\", \"team\", \"team\", \"team\", \"team\", \"team\", \"team\", \"team\", \"team\", \"test\", \"test\", \"test\", \"test\", \"test\", \"test\", \"test\", \"test\", \"test\", \"test\", \"text\", \"text\", \"text\", \"text\", \"text\", \"text\", \"text\", \"text\", \"text\", \"text\", \"text javascript\", \"text javascript\", \"textbox\", \"textbox\", \"textbox\", \"textbox\", \"textbox\", \"th\", \"th\", \"th\", \"th\", \"th\", \"th\", \"th\", \"th\", \"th\", \"th\", \"think\", \"think\", \"think\", \"think\", \"think\", \"think\", \"think\", \"think\", \"think\", \"think\", \"thread\", \"thread\", \"thread\", \"thread\", \"thread\", \"thread\", \"thread\", \"thread\", \"time\", \"time\", \"time\", \"time\", \"time\", \"time\", \"time\", \"time\", \"time\", \"time\", \"timeout\", \"timeout\", \"timeout\", \"timeout\", \"timeout\", \"timeout\", \"timeout\", \"timeout\", \"timeout\", \"timestamp\", \"timestamp\", \"timestamp\", \"timestamp\", \"timestamp\", \"timestamp\", \"timestamp\", \"timestamp\", \"tmp\", \"tmp\", \"tmp\", \"tmp\", \"tmp\", \"tmp\", \"tmp\", \"token\", \"token\", \"token\", \"token\", \"token\", \"token\", \"token\", \"token\", \"token\", \"tool\", \"tool\", \"tool\", \"tool\", \"tool\", \"tool\", \"tool\", \"tool\", \"tool\", \"tool\", \"top\", \"top\", \"top\", \"top\", \"top\", \"top\", \"top\", \"top\", \"top\", \"top\", \"tr\", \"tr\", \"tr\", \"tr\", \"tr\", \"tr\", \"tr\", \"transaction\", \"transaction\", \"transaction\", \"transaction\", \"transaction\", \"transaction\", \"transaction\", \"try\", \"try\", \"try\", \"try\", \"try\", \"try\", \"try\", \"try\", \"try\", \"try\", \"ts\", \"ts\", \"ts\", \"ts\", \"ts\", \"ts\", \"ts\", \"ts\", \"txt\", \"txt\", \"txt\", \"txt\", \"txt\", \"txt\", \"txt\", \"txt\", \"txt\", \"type\", \"type\", \"type\", \"type\", \"type\", \"type\", \"type\", \"type\", \"type\", \"type\", \"type text\", \"type text\", \"type text\", \"type text\", \"type text\", \"type text\", \"unique\", \"unique\", \"unique\", \"unique\", \"unique\", \"unique\", \"unique\", \"unique\", \"unique\", \"unique\", \"upload\", \"upload\", \"upload\", \"upload\", \"upload\", \"upload\", \"upload\", \"upload\", \"upload\", \"upload\", \"uri\", \"uri\", \"uri\", \"uri\", \"uri\", \"uri\", \"uri\", \"url\", \"url\", \"url\", \"url\", \"url\", \"url\", \"url\", \"url\", \"url\", \"url\", \"use\", \"use\", \"use\", \"use\", \"use\", \"use\", \"use\", \"use\", \"use\", \"use\", \"user\", \"user\", \"user\", \"user\", \"user\", \"user\", \"user\", \"user\", \"user\", \"user\", \"usr\", \"usr\", \"usr\", \"usr\", \"usr\", \"usr\", \"validate\", \"validate\", \"validate\", \"validate\", \"validate\", \"validate\", \"validate\", \"validate\", \"validate\", \"validation\", \"validation\", \"validation\", \"validation\", \"validation\", \"validation\", \"validation\", \"validation\", \"validation\", \"value\", \"value\", \"value\", \"value\", \"value\", \"value\", \"value\", \"value\", \"value\", \"value\", \"var\", \"var\", \"var\", \"var\", \"var\", \"var\", \"var\", \"var\", \"var\", \"var\", \"varchar\", \"vector\", \"vector\", \"vector\", \"vector\", \"vector\", \"version\", \"version\", \"version\", \"version\", \"version\", \"version\", \"version\", \"version\", \"version\", \"version\", \"video\", \"video\", \"video\", \"video\", \"video\", \"video\", \"video\", \"video\", \"video\", \"view\", \"view\", \"view\", \"view\", \"view\", \"view\", \"view\", \"view\", \"view\", \"view\", \"visual\", \"visual\", \"visual\", \"visual\", \"visual\", \"visual\", \"visual\", \"visual\", \"visual studio\", \"visual studio\", \"visual studio\", \"visual studio\", \"visual studio\", \"void\", \"void\", \"void\", \"void\", \"void\", \"void\", \"void\", \"void\", \"void\", \"void\", \"vs\", \"vs\", \"vs\", \"vs\", \"vs\", \"vs\", \"vs\", \"vs\", \"vs\", \"want\", \"want\", \"want\", \"want\", \"want\", \"want\", \"want\", \"want\", \"want\", \"want\", \"way\", \"way\", \"way\", \"way\", \"way\", \"way\", \"way\", \"way\", \"way\", \"way\", \"web\", \"web\", \"web\", \"web\", \"web\", \"web\", \"web\", \"web\", \"web\", \"web\", \"weight\", \"weight\", \"weight\", \"weight\", \"weight\", \"weight\", \"well\", \"well\", \"well\", \"well\", \"well\", \"well\", \"well\", \"well\", \"well\", \"well\", \"white\", \"white\", \"white\", \"white\", \"white\", \"white\", \"widget\", \"widget\", \"widget\", \"widget\", \"widget\", \"widget\", \"widget\", \"width\", \"width\", \"width\", \"width\", \"width\", \"width height\", \"width height\", \"width height\", \"window\", \"window\", \"window\", \"window\", \"window\", \"window\", \"window\", \"window\", \"window\", \"window\", \"word\", \"word\", \"word\", \"word\", \"word\", \"word\", \"word\", \"word\", \"word\", \"word\", \"work\", \"work\", \"work\", \"work\", \"work\", \"work\", \"work\", \"work\", \"work\", \"work\", \"write\", \"write\", \"write\", \"write\", \"write\", \"write\", \"write\", \"write\", \"write\", \"write\", \"xml\", \"xml\", \"xml\", \"xml\", \"xml\", \"xml\", \"xml\", \"xml\", \"xml\", \"xml\", \"xmlns\", \"xmlns\", \"xmlns\", \"xmlns\", \"xmlns\", \"year\", \"year\", \"year\", \"year\", \"year\", \"year\", \"year\", \"year\", \"year\"]}, \"R\": 30, \"lambda.step\": 0.01, \"plot.opts\": {\"xlab\": \"PC1\", \"ylab\": \"PC2\"}, \"topic.order\": [10, 6, 3, 7, 9, 5, 2, 4, 8, 1]};\n",
       "\n",
       "function LDAvis_load_lib(url, callback){\n",
       "  var s = document.createElement('script');\n",
       "  s.src = url;\n",
       "  s.async = true;\n",
       "  s.onreadystatechange = s.onload = callback;\n",
       "  s.onerror = function(){console.warn(\"failed to load library \" + url);};\n",
       "  document.getElementsByTagName(\"head\")[0].appendChild(s);\n",
       "}\n",
       "\n",
       "if(typeof(LDAvis) !== \"undefined\"){\n",
       "   // already loaded: just create the visualization\n",
       "   !function(LDAvis){\n",
       "       new LDAvis(\"#\" + \"ldavis_el431220554119933926229016948\", ldavis_el431220554119933926229016948_data);\n",
       "   }(LDAvis);\n",
       "}else if(typeof define === \"function\" && define.amd){\n",
       "   // require.js is available: use it to load d3/LDAvis\n",
       "   require.config({paths: {d3: \"https://d3js.org/d3.v5\"}});\n",
       "   require([\"d3\"], function(d3){\n",
       "      window.d3 = d3;\n",
       "      LDAvis_load_lib(\"https://cdn.jsdelivr.net/gh/bmabey/pyLDAvis@3.3.1/pyLDAvis/js/ldavis.v3.0.0.js\", function(){\n",
       "        new LDAvis(\"#\" + \"ldavis_el431220554119933926229016948\", ldavis_el431220554119933926229016948_data);\n",
       "      });\n",
       "    });\n",
       "}else{\n",
       "    // require.js not available: dynamically load d3 & LDAvis\n",
       "    LDAvis_load_lib(\"https://d3js.org/d3.v5.js\", function(){\n",
       "         LDAvis_load_lib(\"https://cdn.jsdelivr.net/gh/bmabey/pyLDAvis@3.3.1/pyLDAvis/js/ldavis.v3.0.0.js\", function(){\n",
       "                 new LDAvis(\"#\" + \"ldavis_el431220554119933926229016948\", ldavis_el431220554119933926229016948_data);\n",
       "            })\n",
       "         });\n",
       "}\n",
       "</script>"
      ],
      "text/plain": [
       "PreparedData(topic_coordinates=              x         y  topics  cluster       Freq\n",
       "topic                                                \n",
       "9      0.032569 -0.049729       1        1  14.327043\n",
       "5      0.057249  0.097500       2        1  12.019907\n",
       "2      0.100303 -0.105695       3        1  11.502392\n",
       "6      0.029841  0.107517       4        1  11.079180\n",
       "8     -0.089815 -0.037611       5        1   9.419280\n",
       "4      0.063318 -0.061658       6        1   9.281460\n",
       "1     -0.044044  0.115007       7        1   8.750437\n",
       "3     -0.210326 -0.046113       8        1   8.140897\n",
       "7      0.065625 -0.010905       9        1   8.042801\n",
       "0     -0.004719 -0.008312      10        1   7.436604, topic_info=       Term         Freq        Total Category  logprob  loglift\n",
       "245     div   533.000000   533.000000  Default  30.0000  30.0000\n",
       "326    file  1133.000000  1133.000000  Default  29.0000  29.0000\n",
       "831   table   573.000000   573.000000  Default  28.0000  28.0000\n",
       "660  public   501.000000   501.000000  Default  27.0000  27.0000\n",
       "432     int   499.000000   499.000000  Default  26.0000  26.0000\n",
       "..      ...          ...          ...      ...      ...      ...\n",
       "366     get    80.070412   883.656484  Topic10  -4.9530   0.1976\n",
       "714  return    73.077968   640.827363  Topic10  -5.0443   0.4275\n",
       "903   value    73.047365   855.137071  Topic10  -5.0448   0.1386\n",
       "892     use    70.085774  1304.419979  Topic10  -5.0862  -0.3250\n",
       "489    list    64.718193   582.109903  Topic10  -5.1658   0.4021\n",
       "\n",
       "[555 rows x 6 columns], token_table=      Topic      Freq      Term\n",
       "term                           \n",
       "8         1  0.090095  activity\n",
       "8         3  0.027029  activity\n",
       "8         4  0.018019  activity\n",
       "8         5  0.009010  activity\n",
       "8         6  0.009010  activity\n",
       "...     ...       ...       ...\n",
       "948       5  0.030572      year\n",
       "948       6  0.007643      year\n",
       "948       7  0.076429      year\n",
       "948       9  0.022929      year\n",
       "948      10  0.015286      year\n",
       "\n",
       "[3416 rows x 3 columns], R=30, lambda_step=0.01, plot_opts={'xlab': 'PC1', 'ylab': 'PC2'}, topic_order=[10, 6, 3, 7, 9, 5, 2, 4, 8, 1])"
      ]
     },
     "execution_count": 39,
     "metadata": {},
     "output_type": "execute_result"
    }
   ],
   "source": [
    "pyLDAvis.sklearn.prepare(lda, X, vectorizer)"
   ]
  },
  {
   "cell_type": "code",
   "execution_count": 40,
   "id": "7dfe4fd0-c288-4397-8452-ec910b2bbee9",
   "metadata": {},
   "outputs": [
    {
     "name": "stdout",
     "output_type": "stream",
     "text": [
      "Topics found via LDA:\n",
      "\n",
      "Topic #0:\n",
      "div image text width class button color height style html\n",
      "\n",
      "Topic #1:\n",
      "table date query sql select database column row mysql value\n",
      "\n",
      "Topic #2:\n",
      "page form user url use php html control button com\n",
      "\n",
      "Topic #3:\n",
      "use application server app run service thread window good way\n",
      "\n",
      "Topic #4:\n",
      "public class string object void new method int java private\n",
      "\n",
      "Topic #5:\n",
      "self cell model view product row excel end sheet name\n",
      "\n",
      "Topic #6:\n",
      "error function log json request response return console datum user\n",
      "\n",
      "Topic #7:\n",
      "string int array file value character number line return char\n",
      "\n",
      "Topic #8:\n",
      "list value datum array column plot dataframe number frame like\n",
      "\n",
      "Topic #9:\n",
      "file project use error run path version directory java build\n"
     ]
    }
   ],
   "source": [
    "number_topics = 10\n",
    "number_words = 10\n",
    "\n",
    "lda = LDA(n_components=number_topics, n_jobs=-1)\n",
    "lda.fit(X)\n",
    "\n",
    "print(\"Topics found via LDA:\")\n",
    "print_topics(lda, vectorizer, number_words)"
   ]
  },
  {
   "cell_type": "markdown",
   "id": "eed9d315",
   "metadata": {},
   "source": [
    "#### Utilisation d'une méthode de \"Fast LDA\" :\n",
    "- utilisation de LdaMulticore de la bibliothèque Gensim."
   ]
  },
  {
   "cell_type": "markdown",
   "id": "20f168b8",
   "metadata": {},
   "source": [
    "#### a. avec la variable `question_lemtokcl` sans preprocessing :"
   ]
  },
  {
   "cell_type": "code",
   "execution_count": 40,
   "id": "f12cedd8",
   "metadata": {},
   "outputs": [],
   "source": [
    "id2word = corpora.Dictionary(df.question_lemtokcl)\n",
    "\n",
    "texts = df.question_lemtokcl\n",
    "corpus = [id2word.doc2bow(text) for text in texts]"
   ]
  },
  {
   "cell_type": "code",
   "execution_count": 42,
   "id": "efd02d0d",
   "metadata": {},
   "outputs": [
    {
     "name": "stdout",
     "output_type": "stream",
     "text": [
      "Coherence Score:  0.4131412232981918\n",
      "Coherence Score:  0.4299278642745322\n",
      "Coherence Score:  0.4393413490153784\n",
      "Coherence Score:  0.4839828721288657\n",
      "Coherence Score:  0.47362765264410006\n",
      "Coherence Score:  0.494320555497647\n",
      "Coherence Score:  0.5113928423725029\n",
      "Coherence Score:  0.49465499802906304\n",
      "Coherence Score:  0.4894302055488728\n",
      "Coherence Score:  0.48055449571209585\n"
     ]
    }
   ],
   "source": [
    "dict={}\n",
    "for i in  np.arange(4,14,1) :\n",
    "    lda_model = gensim.models.LdaMulticore(corpus=corpus,\n",
    "                                       id2word=id2word,\n",
    "                                       num_topics=i, \n",
    "                                       random_state=42,\n",
    "                                       chunksize=100,\n",
    "                                       passes=10,\n",
    "                                       per_word_topics=True)\n",
    "    \n",
    "    coherence_model_lda = CoherenceModel(model=lda_model, texts=df.question_lemtokcl, dictionary=id2word, coherence='c_v')\n",
    "    coherence_lda = coherence_model_lda.get_coherence()\n",
    "    dict[i]=coherence_lda\n",
    "    print('Coherence Score: ', coherence_lda)"
   ]
  },
  {
   "cell_type": "code",
   "execution_count": 43,
   "id": "6a9e3fa7",
   "metadata": {},
   "outputs": [
    {
     "data": {
      "image/png": "[encoded data removed]",
      "text/plain": [
       "<Figure size 432x288 with 1 Axes>"
      ]
     },
     "metadata": {
      "needs_background": "light"
     },
     "output_type": "display_data"
    }
   ],
   "source": [
    "plt.plot(*zip(*sorted(dict.items())))\n",
    "plt.show()"
   ]
  },
  {
   "cell_type": "code",
   "execution_count": 44,
   "id": "9fa3dfc6",
   "metadata": {},
   "outputs": [
    {
     "data": {
      "image/png": "[encoded data removed]",
      "text/plain": [
       "<Figure size 720x720 with 1 Axes>"
      ]
     },
     "metadata": {
      "needs_background": "light"
     },
     "output_type": "display_data"
    }
   ],
   "source": [
    "keys = dict.keys()\n",
    "values = dict.values()\n",
    "\n",
    "plt.figure(figsize=(10,10))\n",
    "plt.bar(keys, values)\n",
    "plt.show()"
   ]
  },
  {
   "cell_type": "markdown",
   "id": "4ea13195",
   "metadata": {},
   "source": [
    "#### Modèle fastLDA avec 6 topics :"
   ]
  },
  {
   "cell_type": "code",
   "execution_count": 52,
   "id": "9f3bc15e",
   "metadata": {},
   "outputs": [],
   "source": [
    "lda_model_6 = gensim.models.LdaMulticore(corpus=corpus,\n",
    "                                       id2word=id2word,\n",
    "                                       num_topics=6, \n",
    "                                       random_state=100,\n",
    "                                       chunksize=100,\n",
    "                                       passes=10,\n",
    "                                       per_word_topics=True)"
   ]
  },
  {
   "cell_type": "code",
   "execution_count": 53,
   "id": "bd6623d6",
   "metadata": {},
   "outputs": [],
   "source": [
    "vis_6 = pyLDAvis.gensim_models.prepare(lda_model_6, corpus, id2word)"
   ]
  },
  {
   "cell_type": "code",
   "execution_count": 54,
   "id": "287ecbba",
   "metadata": {},
   "outputs": [
    {
     "data": {
      "text/html": [
       "\n",
       "<link rel=\"stylesheet\" type=\"text/css\" href=\"https://cdn.jsdelivr.net/gh/bmabey/pyLDAvis@3.3.1/pyLDAvis/js/ldavis.v1.0.0.css\">\n",
       "\n",
       "\n",
       "<div id=\"ldavis_el2245621614674359369424502837\"></div>\n",
       "<script type=\"text/javascript\">\n",
       "\n",
       "var ldavis_el2245621614674359369424502837_data = {\"mdsDat\": {\"x\": [-0.004046578084220463, 0.14266837663196855, 0.12833978143177346, -0.13432012331560908, 0.0853423088380252, -0.21798376550193777], \"y\": [-0.05269725679153476, -0.10588842103563627, 0.2312962366322019, 0.07873712399330847, -0.12273253770272989, -0.0287151450956092], \"topics\": [1, 2, 3, 4, 5, 6], \"cluster\": [1, 1, 1, 1, 1, 1], \"Freq\": [20.15367471507031, 19.28348125840632, 17.47632129341224, 16.56060157900766, 16.48320686059605, 10.042714293507432]}, \"tinfo\": {\"Term\": [\"file\", \"div\", \"string\", \"int\", \"public\", \"self\", \"table\", \"class\", \"value\", \"button\", \"date\", \"column\", \"error\", \"row\", \"image\", \"com\", \"void\", \"name\", \"text\", \"html\", \"return\", \"width\", \"server\", \"android\", \"select\", \"query\", \"python\", \"app\", \"array\", \"node\", \"svg\", \"ax\", \"formula\", \"webview\", \"tooltip\", \"stock\", \"gradient\", \"sprite\", \"selenium\", \"fmt\", \"subplot\", \"cy\", \"unity\", \"silverlight\", \"accordion\", \"wpf\", \"advantage\", \"treeview\", \"clojure\", \"ticket\", \"histogram\", \"scheduler\", \"mq\", \"staticresource\", \"enemy\", \"winformicrosoft\", \"subscriber\", \"pie\", \"geo\", \"technique\", \"polygon\", \"designer\", \"observablecollection\", \"hear\", \"usercontrol\", \"visual\", \"xaml\", \"good\", \"performance\", \"ability\", \"language\", \"often\", \"easy\", \"dotnet\", \"way\", \"experience\", \"nice\", \"approach\", \"really\", \"practice\", \"possible\", \"well\", \"feature\", \"studio\", \"think\", \"wonder\", \"thing\", \"lot\", \"know\", \"much\", \"solution\", \"question\", \"use\", \"need\", \"like\", \"look\", \"point\", \"make\", \"application\", \"time\", \"want\", \"window\", \"seemicrosoft\", \"see\", \"find\", \"control\", \"work\", \"different\", \"also\", \"change\", \"thank\", \"go\", \"code\", \"example\", \"create\", \"problem\", \"project\", \"try\", \"get\", \"set\", \"run\", \"dataframe\", \"na\", \"country\", \"pd\", \"varchar\", \"car\", \"quantity\", \"panda\", \"price\", \"cart\", \"mysqli\", \"pandas\", \"nan\", \"dbo\", \"foreign\", \"lastname\", \"invoice\", \"stmt\", \"tibble\", \"asc\", \"avg\", \"tolist\", \"currency\", \"neo\", \"coin\", \"tbl\", \"groupby\", \"rewriterule\", \"objectid\", \"fruit\", \"date\", \"table\", \"radio\", \"column\", \"xsl\", \"age\", \"ggplot\", \"query\", \"timestamp\", \"firstname\", \"employee\", \"city\", \"dt\", \"sheet\", \"datetime\", \"dataset\", \"row\", \"product\", \"month\", \"select\", \"sql\", \"model\", \"record\", \"field\", \"year\", \"insert\", \"group\", \"value\", \"join\", \"name\", \"count\", \"order\", \"list\", \"datum\", \"array\", \"day\", \"key\", \"result\", \"match\", \"filter\", \"number\", \"c\", \"get\", \"index\", \"like\", \"user\", \"type\", \"string\", \"want\", \"use\", \"set\", \"create\", \"return\", \"try\", \"new\", \"code\", \"div\", \"width\", \"height\", \"span\", \"href\", \"img\", \"btn\", \"border\", \"margin\", \"onclick\", \"nav\", \"getelementbyid\", \"ng\", \"css\", \"textview\", \"alt\", \"modal\", \"radius\", \"textarea\", \"stylesheet\", \"footer\", \"findviewbyid\", \"logo\", \"iframe\", \"mindotjs\", \"imageview\", \"drawable\", \"savedinstancestate\", \"navbar\", \"opacity\", \"button\", \"jquery\", \"icon\", \"font\", \"layout\", \"center\", \"toggle\", \"animate\", \"style\", \"canvas\", \"color\", \"ajax\", \"padding\", \"checkbox\", \"click\", \"align\", \"html\", \"image\", \"form\", \"background\", \"menu\", \"text\", \"android\", \"tr\", \"title\", \"content\", \"label\", \"class\", \"body\", \"page\", \"view\", \"javascript\", \"var\", \"display\", \"function\", \"script\", \"input\", \"type\", \"element\", \"name\", \"code\", \"show\", \"work\", \"value\", \"ip\", \"apache\", \"authentication\", \"nginx\", \"maven\", \"gradle\", \"logger\", \"ssl\", \"credential\", \"certificate\", \"repo\", \"tcp\", \"authenticate\", \"tomcat\", \"kubernete\", \"authorization\", \"artifactid\", \"oauth\", \"iis\", \"ftp\", \"picker\", \"auth\", \"appender\", \"websocket\", \"logout\", \"utc\", \"graphql\", \"redis\", \"nodedotjs\", \"smtp\", \"password\", \"localhost\", \"port\", \"git\", \"cookie\", \"login\", \"socket\", \"remote\", \"host\", \"connection\", \"firebase\", \"redirect\", \"proxy\", \"router\", \"client\", \"request\", \"mail\", \"service\", \"token\", \"org\", \"api\", \"server\", \"connect\", \"route\", \"log\", \"send\", \"com\", \"session\", \"username\", \"response\", \"app\", \"message\", \"http\", \"java\", \"error\", \"user\", \"url\", \"https\", \"php\", \"web\", \"email\", \"get\", \"use\", \"run\", \"application\", \"try\", \"version\", \"work\", \"name\", \"file\", \"new\", \"std\", \"struct\", \"cout\", \"uint\", \"println\", \"endl\", \"ptr\", \"writeline\", \"mat\", \"sizeof\", \"vec\", \"unsigned\", \"arraylist\", \"scanner\", \"malloc\", \"myclass\", \"buf\", \"angle\", \"iostream\", \"mpi\", \"emp\", \"typename\", \"stdio\", \"texture\", \"argc\", \"typedef\", \"cin\", \"iter\", \"chrono\", \"mutex\", \"iterator\", \"gl\", \"int\", \"void\", \"char\", \"printf\", \"public\", \"private\", \"byte\", \"workbook\", \"bool\", \"vector\", \"foo\", \"double\", \"string\", \"static\", \"buffer\", \"args\", \"return\", \"constructor\", \"boolean\", \"thread\", \"new\", \"method\", \"class\", \"object\", \"function\", \"system\", \"null\", \"array\", \"main\", \"call\", \"type\", \"const\", \"code\", \"print\", \"value\", \"get\", \"use\", \"error\", \"test\", \"try\", \"list\", \"number\", \"py\", \"npm\", \"azure\", \"dist\", \"tableview\", \"pip\", \"myapp\", \"indexpath\", \"pygame\", \"tensorflow\", \"gemicrosoft\", \"traceback\", \"cmake\", \"anaconda\", \"yaml\", \"nsstre\", \"uitableview\", \"middleware\", \"mov\", \"dtype\", \"xlsx\", \"opencv\", \"bash\", \"gulp\", \"pub\", \"sequelize\", \"pthread\", \"yml\", \"subprocess\", \"viewcontroller\", \"grep\", \"rb\", \"uiimage\", \"self\", \"usr\", \"bin\", \"lib\", \"executable\", \"node\", \"file\", \"nil\", \"alloc\", \"txt\", \"dir\", \"filename\", \"python\", \"shell\", \"module\", \"folder\", \"directory\", \"command\", \"path\", \"exe\", \"package\", \"line\", \"install\", \"import\", \"init\", \"def\", \"root\", \"c\", \"run\", \"error\", \"print\", \"script\", \"output\", \"open\", \"try\", \"get\", \"use\", \"code\", \"name\", \"test\", \"find\", \"build\", \"work\"], \"Freq\": [21803.0, 12698.0, 16657.0, 10624.0, 10502.0, 6671.0, 9032.0, 21361.0, 19481.0, 6957.0, 6976.0, 6977.0, 16313.0, 7738.0, 8351.0, 8128.0, 5550.0, 21129.0, 11250.0, 6626.0, 15672.0, 4786.0, 7244.0, 7189.0, 7517.0, 5550.0, 4644.0, 9852.0, 8442.0, 3901.0, 904.4005478145536, 599.1965685801588, 521.3528078469983, 506.1808680667237, 364.9319245146724, 337.3779332838565, 284.80276858659767, 219.76587559690222, 565.8563678308169, 220.68888623442126, 194.15076998037668, 181.68633948790446, 173.37425800087175, 136.00585721110716, 134.58243528318903, 414.30637132889507, 144.46384798527447, 122.69777893497897, 121.36357718218058, 122.08672016495231, 115.75513246388518, 111.7178743444698, 108.16293990183485, 105.41355602826917, 105.40222391473951, 105.34175743154809, 104.43131583011024, 103.85110400556061, 102.84017671899537, 153.40732134612298, 355.97751866142625, 173.892661757001, 129.2023930714255, 182.4597395854232, 161.79338983131407, 947.9447126082609, 328.4881138173772, 3245.283174970111, 674.0834374095534, 182.12032803728715, 1232.4929225337567, 243.6615256597764, 987.1824078466097, 1022.1723207472752, 7397.261484235726, 422.46214386457154, 381.25062470724646, 981.3518974711618, 1560.5757824641016, 494.0769148649187, 2692.0431126915146, 2533.1841979214173, 1146.4092785314165, 893.536181305145, 2363.6996236647765, 961.113941570587, 1887.2375135306434, 1153.1117241577947, 4436.453750085927, 1247.3486287915528, 2340.3037474014477, 3306.646712455047, 16547.405878338108, 5216.846380113724, 7571.825737849467, 3363.2963951848883, 2250.589945035763, 4281.444899479256, 3424.166990488679, 4445.755712146571, 5576.015805963704, 2860.421992364567, 1674.2578707908012, 2868.468306769223, 4065.5273944133637, 1824.412961187012, 5389.178235906489, 2194.9894771028507, 2524.504426933763, 3200.3599747385074, 2815.9902119478916, 2392.7446964870783, 5272.30861719411, 2931.773165654397, 3638.347475700688, 2608.344635960052, 2359.7773993426517, 3013.7407119968457, 3014.2753670123443, 2679.482677979467, 2559.451104633859, 1474.5802333522638, 1041.1072581868484, 957.9300546527479, 789.1978388420162, 617.8404778978677, 596.8703067110766, 517.3134568243084, 482.2652857328515, 1295.6223037744148, 376.14053085514445, 378.86767675871283, 348.3827018493969, 335.83413084355425, 315.7395421335675, 262.78158711828064, 434.3450617215005, 247.56876036597487, 219.9833785744557, 212.09117367950563, 210.46429599063381, 211.64429668881752, 205.8345862752254, 227.929642785111, 195.35119401842826, 189.97605204132523, 190.01166673365242, 182.85808433816257, 183.65255052952847, 177.96213841048012, 177.34059283927334, 6879.389904648947, 8765.137900839338, 552.6904629584182, 6753.008874727989, 487.5229684153724, 879.304685558451, 279.87685793037036, 5343.668057204401, 1027.9751233317797, 483.0076590639168, 627.3013861759711, 764.9427767335758, 421.20458763888286, 1135.90949058762, 1170.8577730276932, 907.784203697675, 6817.809261179674, 2457.024849395173, 1179.6150544293694, 6234.181028747117, 2826.5695974966698, 4087.697068880969, 1798.2918585276318, 3861.681424481717, 1495.5946497856576, 2008.7427899046827, 2685.520266891267, 12162.281380149498, 1463.3401199231162, 11868.688131613857, 2656.6885347395805, 2744.2843635677455, 6189.929664283078, 9418.824384485304, 4846.3695476461935, 1697.2936893054743, 3554.394071835391, 4078.2108880093324, 2083.3087395588163, 1809.9970750758005, 3388.5959531516382, 4033.4811650602114, 5997.570705281506, 2612.1793461224975, 4377.477141892107, 4102.474617087889, 3961.8404270678952, 4212.5768921797435, 3703.5347109454565, 4626.016712158645, 3103.38388321363, 3151.3374277193357, 3281.468997918577, 3332.691228296765, 3181.3848663011354, 3108.159893569554, 12698.073342016374, 4785.499085654202, 3792.435114901031, 2272.682101113753, 2139.442456454929, 1764.7872755254127, 1137.4022986975729, 1496.5641016526463, 1322.7215176498937, 825.4851138035043, 813.5381184701444, 791.4076822146152, 651.3166570509933, 2734.8104521205487, 573.3739942842548, 457.5432283489105, 543.7197720749118, 435.18467456792746, 423.00117891810305, 415.89204409128615, 387.4359669404033, 357.5796996658364, 350.63152102704595, 460.40436732954834, 343.7422199440149, 329.6315074396077, 328.3651119409511, 318.16523546790285, 293.68217221556, 294.45998961137826, 6870.668580844907, 2257.3646957443043, 1408.6158187431288, 2069.117968548659, 2724.305164828555, 1553.4651669080358, 504.5408181000163, 407.81446588094536, 3614.3856899355255, 782.2656875646134, 4053.632585819716, 1460.4693877104817, 959.2701679278447, 729.7313303572342, 4151.745299857615, 990.7839176045155, 5754.802662346994, 6718.046339220092, 5174.2261344226945, 2391.795884838745, 1417.3035585290759, 7844.781635366018, 5028.106826422795, 1466.0491582245772, 3100.014729251011, 3987.50437787965, 2925.3783543451605, 10045.375958187224, 2328.113339674465, 4226.895767149311, 3600.0166620561577, 2234.42436306594, 4387.656312714622, 2969.856783385124, 6059.2508464568455, 3435.8589079260146, 3643.0183997536865, 3988.6531502792445, 2658.4874501870236, 3500.786594583397, 3253.2877922881453, 2604.488546783241, 2846.519657140271, 2676.449065067375, 1067.3277584158398, 1300.4916420843008, 564.0457753641089, 561.3283926521526, 538.73311615747, 529.2537068604155, 459.2682328482812, 382.2677582752514, 350.64025691668576, 349.36256476917777, 330.8887719372938, 354.0464456388945, 291.6688926484217, 296.83420279041206, 271.166523114834, 267.0728418830507, 253.66379820673416, 243.1868633293838, 242.62688984395473, 253.08224578159684, 251.0607213275803, 831.3669939705841, 215.91216248514158, 212.66504807717345, 202.78295700086767, 196.03009364668907, 194.91407154095177, 188.8502956614566, 206.483979714525, 181.01093269296763, 2624.2432545539496, 1331.2239301832308, 1722.9743815072313, 947.8678740486932, 695.6295211788173, 1922.945227378206, 1234.1101950155264, 717.7292326320261, 1654.2195012611548, 2139.630306827724, 619.7176259295046, 999.0481777722066, 652.0956678301836, 819.7101758354903, 3367.460717649893, 4872.884360213224, 678.0106609191137, 3295.5739514065076, 1601.335462063111, 2940.219478009211, 3398.393283328376, 5875.949535796684, 1976.7051838854509, 1455.315343035932, 5362.826117642012, 2957.9297203875053, 5924.268347019582, 1746.246861422845, 1621.7241199665839, 2835.397370291812, 6562.317938981583, 4036.455885201854, 4013.4065753061795, 4993.8119877664385, 7931.075713964481, 7213.24684292389, 3340.255241418758, 2450.911453383681, 2974.128311128498, 2165.9933912907695, 1960.6692170379115, 5425.8771524681615, 6682.950341620529, 3598.582545597789, 2798.0203950016758, 4078.6007428574408, 2346.8877038878354, 3054.6261376255475, 2804.3699823739153, 2617.844880013674, 2484.3526802616375, 2701.67530047561, 1402.605455339169, 889.9267571177684, 557.8555305179914, 1423.6976889105576, 499.97991630258616, 493.83565668720195, 422.451411967633, 445.5180736348314, 415.88705332054377, 387.0667842940295, 366.2954458706736, 580.3253502443249, 312.07381543081357, 255.81578170455944, 257.5564565639594, 226.81596827860278, 223.91732853857576, 218.2890411778998, 216.1370141620104, 217.21396928196674, 294.5585246521999, 200.36026599741493, 371.0183226996954, 187.37937400714628, 186.89650602927696, 182.23088854886373, 185.10165346057926, 175.91455517479062, 193.98385622061576, 385.3501244318851, 263.3334252394648, 10148.099473928398, 5261.4716780598055, 1968.304411584258, 948.6091382792118, 9643.389957220112, 3466.5907209272486, 1520.5738454349387, 391.89222679506287, 929.8697830131375, 1235.3618394294401, 1713.8684572268699, 1395.720761842104, 11916.217856646981, 2325.27105045235, 900.0388296756844, 1166.1818383918605, 8660.4428902922, 906.1244136334839, 822.3174582986118, 2000.5196821735299, 7290.163520046814, 3928.65757119321, 8392.084525315915, 4286.303042284437, 6058.390825456712, 2593.352005635323, 2834.7570458370647, 3408.5714836433576, 2423.5087312540563, 3151.3762481236645, 4032.065682460412, 2273.5869165274253, 4633.956282346501, 2332.157487098925, 4274.692670468067, 4095.7255025345526, 3996.140865204991, 3040.876257589167, 2528.9334174819855, 2890.041779583817, 2530.5413483934967, 2287.9639156361736, 1654.5024139221016, 807.1383745609184, 617.9158711668848, 445.86463139270114, 398.53997402810666, 388.3913872568613, 388.2126977256576, 341.6230532533717, 416.0488171061847, 305.7253088286976, 281.29804026616574, 262.8740344489415, 258.90263970454373, 237.77007079376685, 236.9583249526947, 230.10073963127434, 210.27771350648948, 216.16344929097465, 202.1144163569738, 204.88454028880787, 201.94401459112098, 214.62055944576687, 549.8444147656608, 188.02479802743318, 192.76676529808208, 186.91554606494384, 186.16928684574034, 181.28312763009654, 174.9669970015085, 170.59287754949975, 248.99786874874684, 427.03767328620864, 204.59304611616923, 6294.22892850151, 1005.2626965473252, 1169.801276164883, 2051.45731963786, 305.3744537737975, 3512.361783154252, 17410.960510744524, 795.6561972085668, 355.9480668770432, 905.0403621958267, 849.6558625100669, 1180.9265296181416, 3673.3997775808116, 577.9757834161708, 3058.9201997867567, 1724.6606803293191, 1562.1538738869808, 2503.1891578751197, 3067.866889895881, 600.6165928648418, 1677.3021512280732, 3553.4994435155995, 1103.9400548884246, 3366.15483016622, 1110.3680987969567, 1423.5771269815357, 1083.3961069689415, 2838.0024369202283, 2764.6367863570804, 3230.3510898936006, 1830.056021610265, 1905.1716233964257, 1706.954068791106, 1347.7620909021468, 2085.0964678356063, 2004.2084848954, 2243.383758631749, 1748.0469714265314, 1680.4764601831523, 1422.993911054601, 1305.013152407593, 1254.0485919474982, 1262.4421069084426], \"Total\": [21803.0, 12698.0, 16657.0, 10624.0, 10502.0, 6671.0, 9032.0, 21361.0, 19481.0, 6957.0, 6976.0, 6977.0, 16313.0, 7738.0, 8351.0, 8128.0, 5550.0, 21129.0, 11250.0, 6626.0, 15672.0, 4786.0, 7244.0, 7189.0, 7517.0, 5550.0, 4644.0, 9852.0, 8442.0, 3901.0, 905.1599222871861, 599.9366398097218, 522.1045059926925, 506.9293145348073, 365.73259588660864, 338.1479653706101, 285.56282088125613, 220.5083908367664, 567.8679471907237, 221.49104715069095, 194.88967449428895, 182.44167011236308, 174.11986852435294, 136.74537155738656, 135.34684613713503, 416.66827326841525, 145.30613633979678, 123.44429141961069, 122.10790692973147, 122.85440915412286, 116.49860583138916, 112.47525339586046, 108.90677211362564, 106.15150369814829, 106.1452664134725, 106.09576245017445, 105.18953872760416, 104.60578001489542, 103.59631809608217, 154.6005624279547, 359.2879322017743, 175.63998678938356, 130.21753010118246, 185.07231913008, 163.96518294605875, 1014.3998768466628, 341.67647937793726, 3706.279488181329, 743.2156986719384, 187.63904098775774, 1453.0160897493904, 257.53897518703263, 1160.9490752958131, 1205.957810657629, 10380.716855717497, 469.78092949191006, 419.7016550288221, 1187.7860357895265, 1981.8663202374191, 562.4218548713429, 3723.8388507960008, 3507.4278213369453, 1444.4264822740367, 1091.6855303587456, 3303.8605536526065, 1190.950445963302, 2579.935252514396, 1477.7780893207073, 7111.142366003066, 1651.036754631369, 3461.914529447846, 5286.845561616927, 36520.41589652444, 9919.457730888318, 15984.618401954773, 5998.577249948767, 3592.31160454022, 8823.980489412314, 6632.391390163375, 9857.919615584053, 13587.19030238018, 5381.537704021814, 2600.308543635022, 5702.568546858772, 9771.293280281096, 3022.0700644296508, 16464.54331043501, 4039.4461898434956, 5136.181427755831, 7546.939785641374, 6315.85497040674, 4785.792405148511, 20181.924328680252, 7190.12583923963, 11900.662781290284, 6692.246945605616, 5513.13326712621, 17854.697286734627, 22910.96792074645, 10800.188589894397, 10181.185621337958, 1475.3596327279715, 1041.8888977255099, 958.8033184706451, 789.9862478367611, 618.6201440988351, 597.7172540160033, 518.1175520315493, 483.04886671942813, 1297.8710237590644, 376.9409957773464, 379.7118911962645, 349.16322050145004, 336.63166036813953, 316.5295616286016, 263.5636200687241, 435.66467932987126, 248.35567750213508, 220.76507800211763, 212.87029143510216, 211.25908700712594, 212.45317240434295, 206.62486366361642, 228.81776186755923, 196.13753792019796, 190.7602541015342, 190.79921950178436, 183.63731558634473, 184.44012674673738, 178.74246398310544, 178.12171610302357, 6976.810242169607, 9032.811728783687, 556.3585041516126, 6977.692249644867, 491.43268797589457, 893.9564331818664, 281.39068816888073, 5550.927246442272, 1050.8072210768628, 489.30511028211777, 639.2206196766804, 786.503162299824, 428.1246399143072, 1181.5958400097218, 1220.8124431890858, 939.419615560904, 7738.417040886942, 2677.699225223731, 1261.0295525103172, 7517.863278390928, 3318.1273180541184, 4961.847624409771, 2052.638906751112, 4871.33854519062, 1709.9075715872227, 2403.2103806178975, 3366.793098542642, 19481.93476980437, 1732.846671231291, 21129.118743161856, 3576.3791548835634, 3750.7495844922337, 10460.545946628721, 18053.13873201432, 8442.10195208668, 2150.6556271402424, 6213.2181539908415, 7833.649206527944, 2944.1934986046285, 2391.9394594543282, 6845.899729853751, 9654.294368796162, 22910.96792074645, 5018.9620820514, 15984.618401954773, 14879.23948852128, 13854.857886316835, 16657.194433673132, 13587.19030238018, 36520.41589652444, 10800.188589894397, 11900.662781290284, 15672.124173900473, 17854.697286734627, 17211.472037603296, 20181.924328680252, 12698.854033427875, 4786.389530629143, 3793.226496006186, 2273.468195508782, 2140.219889754816, 1765.5655508820978, 1138.1774522495607, 1497.6744816763603, 1323.8717919192086, 826.2624154391261, 814.3128556283586, 792.1826999412291, 652.0988973575361, 2738.637580401664, 574.3410549795215, 458.3231896295516, 544.6854654013757, 436.0007095083233, 423.80557255083795, 416.7057348645958, 388.22468195990655, 358.35461545545553, 351.40913350035567, 461.4374337917002, 344.51997805136705, 330.40745672276734, 329.1404504208077, 318.94058874639677, 294.4572710231742, 295.23782970667816, 6957.124971220904, 2264.501947031699, 1414.411046410803, 2088.133366078301, 2765.048640486077, 1568.6416600280775, 505.8799623883674, 409.22072699693746, 3766.121648146011, 794.4130619175662, 4314.474933526701, 1512.2430637169437, 982.2158407664007, 745.0575871927011, 4632.412713023316, 1027.8922192925875, 6626.863376616937, 8351.058887983545, 6392.257181605095, 2773.852531790371, 1551.3993466978536, 11250.370311706525, 7189.944612545086, 1643.5151540116906, 4100.567406145833, 5611.0265128894125, 3863.64318052189, 21361.35699017406, 3060.715476612642, 7116.811344087728, 5814.798209611279, 2951.892774097869, 9130.177175435503, 4756.593937588882, 16315.122933996106, 6427.287365928591, 7585.744705596327, 13854.857886316835, 4950.583948873856, 21129.118743161856, 20181.924328680252, 6296.207185295785, 16464.54331043501, 19481.93476980437, 1068.3421328237691, 1301.8860320495426, 564.8192933464438, 562.1016893845642, 539.5101752911195, 530.0265589218598, 460.0440654875532, 383.0432883371447, 351.41442114553365, 350.1354727900799, 331.6644832797416, 354.9581229214686, 292.44221497896507, 297.631255284676, 271.93963444762585, 267.8493369794006, 254.44003288765174, 243.96236667760277, 243.4040409630052, 253.89420496233285, 251.9086738152007, 834.2466513182213, 216.68406031813163, 213.44524786727703, 203.56345850447937, 196.82016212882473, 195.7087914960176, 189.62731953426157, 207.33469124143315, 181.78332525303526, 2664.5831747607263, 1346.658521947758, 1750.037811394856, 960.4550944764865, 702.7584115213418, 1967.5145698234787, 1261.671974912466, 729.5465082421628, 1715.931291287188, 2232.8575420314282, 631.7960133451948, 1035.574517419707, 671.9960525370211, 854.3939583209453, 3725.4997715052336, 5530.823388227599, 704.7292951354684, 3737.3442069297034, 1753.3271240768643, 3356.879939627215, 3975.9518799987645, 7244.164818827004, 2246.656012705271, 1618.2320092182804, 6811.237067920513, 3612.081810333327, 8128.6448426212555, 2033.353564289418, 1893.5489620492845, 3615.59233980756, 9852.018574909283, 5594.511740165842, 6038.359692184784, 7964.561927987494, 16313.80828274126, 14879.23948852128, 5993.099834601597, 3866.110488377495, 5945.784660849614, 3492.2313312018114, 2908.45066293194, 22910.96792074645, 36520.41589652444, 10181.185621337958, 6632.391390163375, 17854.697286734627, 4833.785311549882, 16464.54331043501, 21129.118743161856, 21803.06281136531, 17211.472037603296, 2702.4529553266143, 1403.8073741532428, 890.7016096595098, 558.6513413204264, 1425.8348805541957, 500.7547045645303, 494.61077121879487, 423.23264289180474, 446.34696441619496, 416.6630123588358, 387.88812794061204, 367.07685254329715, 581.7297773984287, 312.85284380213164, 256.5909799788943, 258.35157326822736, 227.59332016221816, 224.70678058204246, 219.06422140078823, 216.9134284656094, 217.9996250076924, 295.6734349809346, 201.1396778474377, 372.4648475220202, 188.1552967791847, 187.67528742552224, 183.00931341383406, 185.89249388340886, 176.68959435880785, 194.86326339308317, 388.17230220460493, 264.8186759627306, 10624.297387192075, 5550.071392258197, 2037.8893909478554, 976.250136760027, 10502.494026988705, 3781.6754814338155, 1627.8409565222173, 401.47138746514065, 993.4263161903006, 1352.0592151819162, 1922.0632847784916, 1605.571468639141, 16657.194433673132, 2878.336332415315, 1038.423786842446, 1415.6874861353806, 15672.124173900473, 1073.8784690478337, 958.9099154745943, 2965.084320945388, 17211.472037603296, 7770.726189862569, 21361.35699017406, 9081.007963307173, 16315.122933996106, 5139.921100965902, 6132.051115373225, 8442.10195208668, 5084.264399497999, 8404.069353978643, 13854.857886316835, 5067.653757621535, 20181.924328680252, 5605.008441425798, 19481.93476980437, 22910.96792074645, 36520.41589652444, 16313.80828274126, 9056.44401299048, 17854.697286734627, 10460.545946628721, 6845.899729853751, 1655.2992451378777, 807.9192406957513, 618.7122022116804, 446.6526595434052, 399.32632926896196, 389.1687682808157, 389.00631993423656, 342.40039015845906, 417.133986935349, 306.53866143173354, 282.07478803255725, 263.65523409426623, 259.6900585906151, 238.54759556300883, 237.74683249383887, 230.87834978829235, 211.05567559124228, 216.99365827642012, 202.8931374815389, 205.67425078066609, 202.731418147795, 215.49022489907043, 552.1306482871894, 188.808963150756, 193.5769369182736, 187.70506384894418, 186.9758427342151, 182.07562224773974, 175.7438350937752, 171.37067025554475, 250.4338518180065, 432.1880755356646, 205.58845331749714, 6671.183925035285, 1034.5075550679494, 1215.2577216464274, 2165.2090401858704, 310.028556051341, 3901.745644701038, 21803.06281136531, 859.9703761482579, 368.3076840188779, 995.7203709768306, 935.6439361930596, 1341.7225619372796, 4644.787117123189, 622.699163012071, 3921.1094746992385, 2167.0860132289295, 2047.7109056729134, 3704.7544009706944, 4749.950824476391, 698.0873687110343, 2749.2484784910953, 7843.301884865937, 1645.0066441193367, 8479.100241778458, 1790.7552359652852, 2854.8701052882225, 1908.164585777592, 9654.294368796162, 10181.185621337958, 16313.80828274126, 5605.008441425798, 6427.287365928591, 5254.59182383182, 3949.706504532629, 17854.697286734627, 22910.96792074645, 36520.41589652444, 20181.924328680252, 21129.118743161856, 9056.44401299048, 9771.293280281096, 4489.501673139181, 16464.54331043501], \"Category\": [\"Default\", \"Default\", \"Default\", \"Default\", \"Default\", \"Default\", \"Default\", \"Default\", \"Default\", \"Default\", \"Default\", \"Default\", \"Default\", \"Default\", \"Default\", \"Default\", \"Default\", \"Default\", \"Default\", \"Default\", \"Default\", \"Default\", \"Default\", \"Default\", \"Default\", \"Default\", \"Default\", \"Default\", \"Default\", \"Default\", \"Topic1\", \"Topic1\", \"Topic1\", \"Topic1\", \"Topic1\", \"Topic1\", \"Topic1\", \"Topic1\", \"Topic1\", \"Topic1\", \"Topic1\", \"Topic1\", \"Topic1\", \"Topic1\", \"Topic1\", \"Topic1\", \"Topic1\", \"Topic1\", \"Topic1\", \"Topic1\", \"Topic1\", \"Topic1\", \"Topic1\", \"Topic1\", \"Topic1\", \"Topic1\", \"Topic1\", \"Topic1\", \"Topic1\", \"Topic1\", \"Topic1\", \"Topic1\", \"Topic1\", \"Topic1\", \"Topic1\", \"Topic1\", \"Topic1\", \"Topic1\", \"Topic1\", \"Topic1\", \"Topic1\", \"Topic1\", \"Topic1\", \"Topic1\", \"Topic1\", \"Topic1\", \"Topic1\", \"Topic1\", \"Topic1\", \"Topic1\", \"Topic1\", \"Topic1\", \"Topic1\", \"Topic1\", \"Topic1\", \"Topic1\", \"Topic1\", \"Topic1\", \"Topic1\", \"Topic1\", \"Topic1\", \"Topic1\", \"Topic1\", \"Topic1\", \"Topic1\", \"Topic1\", \"Topic1\", \"Topic1\", \"Topic1\", \"Topic1\", \"Topic1\", \"Topic1\", \"Topic1\", \"Topic1\", \"Topic1\", \"Topic1\", \"Topic1\", \"Topic1\", \"Topic1\", \"Topic1\", \"Topic1\", \"Topic1\", \"Topic1\", \"Topic1\", \"Topic1\", \"Topic1\", \"Topic1\", \"Topic1\", \"Topic1\", \"Topic1\", \"Topic1\", \"Topic2\", \"Topic2\", \"Topic2\", \"Topic2\", \"Topic2\", \"Topic2\", \"Topic2\", \"Topic2\", \"Topic2\", \"Topic2\", \"Topic2\", \"Topic2\", \"Topic2\", \"Topic2\", \"Topic2\", \"Topic2\", \"Topic2\", \"Topic2\", \"Topic2\", \"Topic2\", \"Topic2\", \"Topic2\", \"Topic2\", \"Topic2\", \"Topic2\", \"Topic2\", \"Topic2\", \"Topic2\", \"Topic2\", \"Topic2\", \"Topic2\", \"Topic2\", \"Topic2\", \"Topic2\", \"Topic2\", \"Topic2\", \"Topic2\", \"Topic2\", \"Topic2\", \"Topic2\", \"Topic2\", \"Topic2\", \"Topic2\", \"Topic2\", \"Topic2\", \"Topic2\", \"Topic2\", \"Topic2\", \"Topic2\", \"Topic2\", \"Topic2\", \"Topic2\", \"Topic2\", \"Topic2\", \"Topic2\", \"Topic2\", \"Topic2\", \"Topic2\", \"Topic2\", \"Topic2\", \"Topic2\", \"Topic2\", \"Topic2\", \"Topic2\", \"Topic2\", \"Topic2\", \"Topic2\", \"Topic2\", \"Topic2\", \"Topic2\", \"Topic2\", \"Topic2\", \"Topic2\", \"Topic2\", \"Topic2\", \"Topic2\", \"Topic2\", \"Topic2\", \"Topic2\", \"Topic2\", \"Topic2\", \"Topic2\", \"Topic2\", \"Topic2\", \"Topic2\", \"Topic2\", \"Topic3\", \"Topic3\", \"Topic3\", \"Topic3\", \"Topic3\", \"Topic3\", \"Topic3\", \"Topic3\", \"Topic3\", \"Topic3\", \"Topic3\", \"Topic3\", \"Topic3\", \"Topic3\", \"Topic3\", \"Topic3\", \"Topic3\", \"Topic3\", \"Topic3\", \"Topic3\", \"Topic3\", \"Topic3\", \"Topic3\", \"Topic3\", \"Topic3\", \"Topic3\", \"Topic3\", \"Topic3\", \"Topic3\", \"Topic3\", \"Topic3\", \"Topic3\", \"Topic3\", \"Topic3\", \"Topic3\", \"Topic3\", \"Topic3\", \"Topic3\", \"Topic3\", \"Topic3\", \"Topic3\", \"Topic3\", \"Topic3\", \"Topic3\", \"Topic3\", \"Topic3\", \"Topic3\", \"Topic3\", \"Topic3\", \"Topic3\", \"Topic3\", \"Topic3\", \"Topic3\", \"Topic3\", \"Topic3\", \"Topic3\", \"Topic3\", \"Topic3\", \"Topic3\", \"Topic3\", \"Topic3\", \"Topic3\", \"Topic3\", \"Topic3\", \"Topic3\", \"Topic3\", \"Topic3\", \"Topic3\", \"Topic3\", \"Topic3\", \"Topic3\", \"Topic3\", \"Topic3\", \"Topic3\", \"Topic4\", \"Topic4\", \"Topic4\", \"Topic4\", \"Topic4\", \"Topic4\", \"Topic4\", \"Topic4\", \"Topic4\", \"Topic4\", \"Topic4\", \"Topic4\", \"Topic4\", \"Topic4\", \"Topic4\", \"Topic4\", \"Topic4\", \"Topic4\", \"Topic4\", \"Topic4\", \"Topic4\", \"Topic4\", \"Topic4\", \"Topic4\", \"Topic4\", \"Topic4\", \"Topic4\", \"Topic4\", \"Topic4\", \"Topic4\", \"Topic4\", \"Topic4\", \"Topic4\", \"Topic4\", \"Topic4\", \"Topic4\", \"Topic4\", \"Topic4\", \"Topic4\", \"Topic4\", \"Topic4\", \"Topic4\", \"Topic4\", \"Topic4\", \"Topic4\", \"Topic4\", \"Topic4\", \"Topic4\", \"Topic4\", \"Topic4\", \"Topic4\", \"Topic4\", \"Topic4\", \"Topic4\", \"Topic4\", \"Topic4\", \"Topic4\", \"Topic4\", \"Topic4\", \"Topic4\", \"Topic4\", \"Topic4\", \"Topic4\", \"Topic4\", \"Topic4\", \"Topic4\", \"Topic4\", \"Topic4\", \"Topic4\", \"Topic4\", \"Topic4\", \"Topic4\", \"Topic4\", \"Topic4\", \"Topic4\", \"Topic4\", \"Topic4\", \"Topic4\", \"Topic4\", \"Topic4\", \"Topic4\", \"Topic5\", \"Topic5\", \"Topic5\", \"Topic5\", \"Topic5\", \"Topic5\", \"Topic5\", \"Topic5\", \"Topic5\", \"Topic5\", \"Topic5\", \"Topic5\", \"Topic5\", \"Topic5\", \"Topic5\", \"Topic5\", \"Topic5\", \"Topic5\", \"Topic5\", \"Topic5\", \"Topic5\", \"Topic5\", \"Topic5\", \"Topic5\", \"Topic5\", \"Topic5\", \"Topic5\", \"Topic5\", \"Topic5\", \"Topic5\", \"Topic5\", \"Topic5\", \"Topic5\", \"Topic5\", \"Topic5\", \"Topic5\", \"Topic5\", \"Topic5\", \"Topic5\", \"Topic5\", \"Topic5\", \"Topic5\", \"Topic5\", \"Topic5\", \"Topic5\", \"Topic5\", \"Topic5\", \"Topic5\", \"Topic5\", \"Topic5\", \"Topic5\", \"Topic5\", \"Topic5\", \"Topic5\", \"Topic5\", \"Topic5\", \"Topic5\", \"Topic5\", \"Topic5\", \"Topic5\", \"Topic5\", \"Topic5\", \"Topic5\", \"Topic5\", \"Topic5\", \"Topic5\", \"Topic5\", \"Topic5\", \"Topic5\", \"Topic5\", \"Topic5\", \"Topic5\", \"Topic5\", \"Topic5\", \"Topic6\", \"Topic6\", \"Topic6\", \"Topic6\", \"Topic6\", \"Topic6\", \"Topic6\", \"Topic6\", \"Topic6\", \"Topic6\", \"Topic6\", \"Topic6\", \"Topic6\", \"Topic6\", \"Topic6\", \"Topic6\", \"Topic6\", \"Topic6\", \"Topic6\", \"Topic6\", \"Topic6\", \"Topic6\", \"Topic6\", \"Topic6\", \"Topic6\", \"Topic6\", \"Topic6\", \"Topic6\", \"Topic6\", \"Topic6\", \"Topic6\", \"Topic6\", \"Topic6\", \"Topic6\", \"Topic6\", \"Topic6\", \"Topic6\", \"Topic6\", \"Topic6\", \"Topic6\", \"Topic6\", \"Topic6\", \"Topic6\", \"Topic6\", \"Topic6\", \"Topic6\", \"Topic6\", \"Topic6\", \"Topic6\", \"Topic6\", \"Topic6\", \"Topic6\", \"Topic6\", \"Topic6\", \"Topic6\", \"Topic6\", \"Topic6\", \"Topic6\", \"Topic6\", \"Topic6\", \"Topic6\", \"Topic6\", \"Topic6\", \"Topic6\", \"Topic6\", \"Topic6\", \"Topic6\", \"Topic6\", \"Topic6\", \"Topic6\", \"Topic6\", \"Topic6\", \"Topic6\", \"Topic6\", \"Topic6\", \"Topic6\"], \"logprob\": [30.0, 29.0, 28.0, 27.0, 26.0, 25.0, 24.0, 23.0, 22.0, 21.0, 20.0, 19.0, 18.0, 17.0, 16.0, 15.0, 14.0, 13.0, 12.0, 11.0, 10.0, 9.0, 8.0, 7.0, 6.0, 5.0, 4.0, 3.0, 2.0, 1.0, -6.5834, -6.995, -7.1342, -7.1637, -7.4909, -7.5694, -7.7388, -7.9981, -7.0523, -7.9939, -8.122, -8.1884, -8.2352, -8.4779, -8.4885, -7.364, -8.4176, -8.5809, -8.5918, -8.5859, -8.6392, -8.6747, -8.707, -8.7327, -8.7329, -8.7334, -8.7421, -8.7477, -8.7575, -8.3575, -7.5158, -8.2322, -8.5293, -8.1841, -8.3043, -6.5363, -7.5961, -5.3057, -6.8773, -8.186, -6.2738, -7.8949, -6.4958, -6.4609, -4.4818, -7.3445, -7.4472, -6.5017, -6.0378, -7.1879, -5.4926, -5.5534, -6.3462, -6.5954, -5.6227, -6.5225, -5.8478, -6.3404, -4.993, -6.2619, -5.6326, -5.2869, -3.6767, -4.831, -4.4584, -5.27, -5.6717, -5.0286, -5.252, -4.9909, -4.7644, -5.4319, -5.9675, -5.4291, -5.0803, -5.8816, -4.7985, -5.6967, -5.5568, -5.3196, -5.4476, -5.6104, -4.8204, -5.4073, -5.1914, -5.5242, -5.6243, -5.3797, -5.3795, -5.4973, -5.5431, -6.0504, -6.3985, -6.4817, -6.6755, -6.9203, -6.9548, -7.0978, -7.168, -6.1798, -7.4165, -7.4093, -7.4932, -7.5299, -7.5916, -7.7752, -7.2727, -7.8348, -7.9529, -7.9895, -7.9972, -7.9916, -8.0194, -7.9175, -8.0717, -8.0996, -8.0994, -8.1378, -8.1335, -8.1649, -8.1684, -4.5102, -4.268, -7.0317, -4.5288, -7.1572, -6.5674, -7.7121, -4.7628, -6.4112, -7.1665, -6.9051, -6.7067, -7.3034, -6.3113, -6.281, -6.5355, -4.5192, -5.5398, -6.2736, -4.6087, -5.3997, -5.0308, -5.8519, -5.0876, -6.0362, -5.7412, -5.4509, -3.9404, -6.058, -3.9648, -5.4617, -5.4292, -4.6158, -4.196, -4.8605, -5.9097, -5.1706, -5.0331, -5.7048, -5.8454, -5.2183, -5.0441, -4.6474, -5.4786, -4.9623, -5.0272, -5.062, -5.0007, -5.1295, -4.907, -5.3062, -5.2909, -5.2505, -5.235, -5.2814, -5.3047, -3.7989, -4.7747, -5.0073, -5.5194, -5.5798, -5.7723, -6.2116, -5.9372, -6.0606, -6.5321, -6.5467, -6.5743, -6.7691, -5.3343, -6.8966, -7.1222, -6.9497, -7.1723, -7.2007, -7.2177, -7.2885, -7.3687, -7.3884, -7.116, -7.4082, -7.4501, -7.454, -7.4855, -7.5656, -7.563, -4.4131, -5.5261, -5.9977, -5.6132, -5.3381, -5.8999, -7.0244, -7.2373, -5.0554, -6.5859, -4.9407, -5.9616, -6.3819, -6.6554, -4.9168, -6.3496, -4.5903, -4.4355, -4.6967, -5.4683, -5.9916, -4.2805, -4.7253, -5.9578, -5.2089, -4.9572, -5.2669, -4.0332, -5.4953, -4.8989, -5.0594, -5.5364, -4.8615, -5.2518, -4.5388, -5.1061, -5.0475, -4.9569, -5.3626, -5.0874, -5.1607, -5.3831, -5.2942, -5.3558, -6.2214, -6.0238, -6.8591, -6.864, -6.9051, -6.9228, -7.0646, -7.2482, -7.3345, -7.3382, -7.3925, -7.3248, -7.5187, -7.5011, -7.5915, -7.6068, -7.6583, -7.7004, -7.7028, -7.6606, -7.6686, -6.4712, -7.8194, -7.8346, -7.8821, -7.916, -7.9217, -7.9533, -7.8641, -7.9957, -5.3217, -6.0004, -5.7425, -6.3401, -6.6495, -5.6327, -6.0762, -6.6182, -5.7832, -5.5259, -6.765, -6.2875, -6.7141, -6.4853, -5.0724, -4.7028, -6.6751, -5.0939, -5.8157, -5.208, -5.0632, -4.5157, -5.6051, -5.9113, -4.607, -5.202, -4.5075, -5.7291, -5.803, -5.2443, -4.4052, -4.8912, -4.8969, -4.6783, -4.2157, -4.3106, -5.0805, -5.3901, -5.1966, -5.5136, -5.6132, -4.5953, -4.387, -5.006, -5.2576, -4.8808, -5.4334, -5.1699, -5.2553, -5.3242, -5.3765, -5.288, -5.9435, -6.3985, -6.8655, -5.9286, -6.975, -6.9874, -7.1435, -7.0904, -7.1592, -7.231, -7.2862, -6.826, -7.4464, -7.6451, -7.6384, -7.7655, -7.7783, -7.8038, -7.8137, -7.8087, -7.5041, -7.8895, -7.2733, -7.9565, -7.959, -7.9843, -7.9687, -8.0196, -7.9218, -7.2354, -7.6162, -3.9645, -4.6214, -5.6047, -6.3346, -4.0156, -5.0387, -5.8627, -7.2186, -6.3545, -6.0705, -5.7431, -5.9484, -3.8039, -5.438, -6.3872, -6.1281, -4.1231, -6.3804, -6.4775, -5.5884, -4.2953, -4.9135, -4.1545, -4.8264, -4.4804, -5.3289, -5.2399, -5.0555, -5.3966, -5.134, -4.8876, -5.4605, -4.7484, -5.435, -4.8291, -4.8719, -4.8965, -5.1697, -5.354, -5.2206, -5.3534, -5.4542, -5.2828, -6.0006, -6.2677, -6.5941, -6.7063, -6.7321, -6.7325, -6.8604, -6.6633, -6.9714, -7.0547, -7.1224, -7.1376, -7.2228, -7.2262, -7.2556, -7.3457, -7.3181, -7.3853, -7.3716, -7.3861, -7.3252, -6.3845, -7.4575, -7.4326, -7.4634, -7.4674, -7.494, -7.5295, -7.5548, -7.1767, -6.6372, -7.3731, -3.9467, -5.7811, -5.6295, -5.0678, -6.9726, -4.5301, -2.9292, -6.0149, -6.8193, -5.8861, -5.9493, -5.62, -4.4852, -6.3346, -4.6683, -5.2413, -5.3403, -4.8688, -4.6654, -6.2961, -5.2692, -4.5184, -5.6875, -4.5726, -5.6816, -5.4332, -5.7062, -4.7432, -4.7694, -4.6137, -5.182, -5.1418, -5.2516, -5.4879, -5.0515, -5.0911, -4.9784, -5.2278, -5.2673, -5.4336, -5.5201, -5.56, -5.5533], \"loglift\": [30.0, 29.0, 28.0, 27.0, 26.0, 25.0, 24.0, 23.0, 22.0, 21.0, 20.0, 19.0, 18.0, 17.0, 16.0, 15.0, 14.0, 13.0, 12.0, 11.0, 10.0, 9.0, 8.0, 7.0, 6.0, 5.0, 4.0, 3.0, 2.0, 1.0, 1.6009, 1.6005, 1.6003, 1.6003, 1.5996, 1.5995, 1.5991, 1.5984, 1.5982, 1.5982, 1.598, 1.5976, 1.5975, 1.5964, 1.5961, 1.5961, 1.596, 1.5957, 1.5957, 1.5955, 1.5954, 1.595, 1.5949, 1.5948, 1.5948, 1.5947, 1.5945, 1.5945, 1.5945, 1.594, 1.5925, 1.5918, 1.594, 1.5876, 1.5884, 1.534, 1.5624, 1.469, 1.5042, 1.5719, 1.4372, 1.5464, 1.4396, 1.4364, 1.2629, 1.4956, 1.5057, 1.4109, 1.3628, 1.4722, 1.2773, 1.2764, 1.3707, 1.4015, 1.2669, 1.3874, 1.2891, 1.3537, 1.13, 1.3214, 1.2102, 1.1325, 0.8101, 0.9592, 0.8546, 1.0232, 1.1342, 0.8786, 0.9407, 0.8055, 0.7111, 0.9698, 1.1615, 0.9146, 0.7249, 1.0971, 0.485, 0.9919, 0.8915, 0.7439, 0.794, 0.9086, 0.2595, 0.7047, 0.4167, 0.6595, 0.7532, -0.1773, -0.4265, 0.2078, 0.221, 1.6454, 1.6452, 1.645, 1.6449, 1.6447, 1.6445, 1.6444, 1.6443, 1.6442, 1.6438, 1.6437, 1.6437, 1.6435, 1.6434, 1.6429, 1.6429, 1.6427, 1.6424, 1.6423, 1.6422, 1.6421, 1.6421, 1.642, 1.6419, 1.6418, 1.6418, 1.6417, 1.6416, 1.6415, 1.6415, 1.6319, 1.6158, 1.6393, 1.6132, 1.6379, 1.6294, 1.6405, 1.6079, 1.624, 1.633, 1.6271, 1.6181, 1.6296, 1.6065, 1.6041, 1.6117, 1.5193, 1.5599, 1.5792, 1.4587, 1.4856, 1.4521, 1.5136, 1.4137, 1.512, 1.4666, 1.4198, 1.1748, 1.4769, 1.0692, 1.3487, 1.3335, 1.1212, 0.9953, 1.0909, 1.4092, 1.0874, 0.9932, 1.3, 1.3671, 0.9427, 0.7731, 0.3057, 0.9929, 0.3508, 0.3575, 0.394, 0.2712, 0.3461, -0.4203, 0.3989, 0.3172, 0.0823, -0.0326, -0.0423, -0.2248, 1.7443, 1.7441, 1.7441, 1.744, 1.744, 1.7439, 1.7436, 1.7436, 1.7435, 1.7434, 1.7434, 1.7433, 1.7431, 1.7429, 1.7426, 1.7426, 1.7425, 1.7424, 1.7424, 1.7424, 1.7423, 1.7422, 1.7421, 1.7421, 1.7421, 1.742, 1.742, 1.7419, 1.7417, 1.7417, 1.7318, 1.7412, 1.7402, 1.7352, 1.7295, 1.7346, 1.7417, 1.7409, 1.7032, 1.7289, 1.682, 1.7095, 1.7207, 1.7235, 1.6348, 1.7076, 1.6032, 1.5267, 1.5329, 1.5961, 1.6539, 1.3838, 1.3867, 1.6301, 1.4646, 1.4028, 1.4661, 0.9899, 1.4707, 1.2233, 1.2649, 1.4659, 1.0115, 1.2733, 0.7538, 1.118, 1.0109, 0.4991, 1.1226, -0.0533, -0.0808, 0.8616, -0.0108, -0.2407, 1.7972, 1.7971, 1.7968, 1.7968, 1.7967, 1.7967, 1.7965, 1.7961, 1.7959, 1.7959, 1.7958, 1.7956, 1.7955, 1.7955, 1.7953, 1.7952, 1.7951, 1.795, 1.7949, 1.7949, 1.7948, 1.7947, 1.7946, 1.7945, 1.7943, 1.7941, 1.7941, 1.794, 1.794, 1.7939, 1.7829, 1.7866, 1.7826, 1.785, 1.7879, 1.7752, 1.7761, 1.7818, 1.7615, 1.7555, 1.7788, 1.7622, 1.7681, 1.7567, 1.6971, 1.6715, 1.7595, 1.6723, 1.7075, 1.6656, 1.6412, 1.5888, 1.6701, 1.692, 1.5591, 1.5983, 1.4818, 1.6459, 1.6432, 1.5551, 1.3918, 1.4717, 1.3897, 1.3313, 1.0769, 1.0741, 1.2136, 1.3424, 1.1054, 1.3205, 1.4038, 0.3577, 0.0998, 0.7581, 0.9351, 0.3216, 1.0756, 0.1136, -0.2213, -0.3216, -0.1374, 1.8025, 1.802, 1.802, 1.8014, 1.8013, 1.8013, 1.8013, 1.801, 1.801, 1.801, 1.8007, 1.8007, 1.8004, 1.8003, 1.7998, 1.7997, 1.7994, 1.7993, 1.7993, 1.7992, 1.7992, 1.7991, 1.7989, 1.7989, 1.7987, 1.7987, 1.7986, 1.7986, 1.7984, 1.7983, 1.7955, 1.7972, 1.757, 1.7494, 1.7681, 1.7741, 1.7175, 1.7158, 1.7347, 1.7787, 1.7367, 1.7126, 1.6882, 1.6628, 1.4679, 1.5895, 1.6598, 1.6089, 1.2097, 1.633, 1.6492, 1.4093, 0.9438, 1.1208, 0.8685, 1.0521, 0.8122, 1.1187, 1.0313, 0.8959, 1.0619, 0.822, 0.5685, 1.0013, 0.3315, 0.926, 0.2861, 0.0812, -0.4097, 0.123, 0.5271, -0.0182, 0.3837, 0.7068, 2.2978, 2.2974, 2.297, 2.2966, 2.2964, 2.2963, 2.2963, 2.296, 2.2957, 2.2957, 2.2956, 2.2954, 2.2953, 2.2951, 2.295, 2.2949, 2.2946, 2.2945, 2.2945, 2.2945, 2.2944, 2.2943, 2.2942, 2.2942, 2.2941, 2.2941, 2.294, 2.294, 2.2939, 2.2938, 2.2926, 2.2863, 2.2935, 2.2402, 2.2696, 2.2602, 2.2444, 2.2832, 2.1932, 2.0734, 2.2206, 2.2642, 2.2028, 2.2019, 2.1707, 2.0637, 2.2238, 2.05, 2.07, 2.0277, 1.9063, 1.8612, 2.1479, 1.8042, 1.5066, 1.8995, 1.3745, 1.8204, 1.6025, 1.7323, 1.074, 0.9947, 0.6789, 1.179, 1.0823, 1.1739, 1.2231, 0.1509, -0.138, -0.4916, -0.148, -0.2333, 0.4476, 0.2851, 1.023, -0.2698]}, \"token.table\": {\"Topic\": [1, 3, 4, 1, 1, 1, 2, 1, 3, 4, 1, 2, 3, 5, 5, 6, 1, 2, 3, 4, 5, 6, 3, 6, 3, 4, 5, 3, 5, 1, 4, 1, 2, 3, 4, 5, 6, 1, 2, 3, 4, 5, 6, 4, 1, 2, 3, 4, 5, 6, 1, 2, 3, 4, 5, 6, 5, 2, 3, 4, 5, 6, 2, 3, 5, 6, 5, 4, 2, 2, 4, 6, 4, 4, 4, 2, 1, 6, 1, 3, 4, 5, 6, 4, 6, 4, 6, 1, 2, 3, 4, 5, 5, 6, 2, 3, 4, 5, 1, 3, 3, 5, 1, 3, 4, 5, 6, 1, 2, 3, 4, 5, 6, 1, 3, 5, 1, 4, 5, 6, 1, 2, 3, 4, 5, 6, 1, 2, 3, 4, 5, 6, 1, 3, 2, 2, 1, 3, 5, 4, 1, 2, 3, 4, 5, 6, 2, 5, 6, 2, 3, 5, 5, 2, 3, 1, 2, 3, 4, 5, 6, 1, 2, 3, 4, 5, 6, 1, 2, 3, 4, 5, 1, 6, 1, 2, 3, 4, 5, 6, 2, 1, 2, 3, 5, 1, 2, 3, 1, 2, 3, 4, 5, 6, 1, 2, 4, 5, 6, 1, 2, 3, 4, 5, 6, 1, 2, 4, 5, 6, 2, 3, 4, 5, 6, 1, 3, 4, 5, 1, 2, 3, 4, 5, 6, 1, 2, 3, 4, 5, 3, 4, 2, 3, 5, 6, 2, 5, 1, 2, 3, 4, 5, 6, 4, 1, 3, 2, 1, 2, 1, 2, 3, 6, 1, 2, 3, 4, 6, 2, 5, 6, 1, 2, 3, 4, 5, 6, 1, 2, 3, 4, 5, 6, 2, 2, 3, 4, 5, 6, 1, 3, 1, 2, 3, 4, 5, 6, 3, 4, 6, 4, 6, 1, 2, 3, 4, 5, 6, 6, 3, 1, 4, 5, 6, 1, 2, 3, 4, 5, 6, 3, 2, 3, 6, 1, 2, 3, 4, 5, 6, 1, 2, 3, 5, 2, 3, 4, 5, 5, 1, 2, 5, 5, 1, 1, 2, 3, 4, 5, 6, 1, 2, 3, 4, 5, 6, 1, 4, 6, 4, 6, 1, 3, 4, 5, 6, 1, 2, 3, 4, 5, 6, 1, 2, 3, 4, 5, 1, 2, 3, 4, 5, 6, 2, 3, 4, 5, 6, 1, 2, 3, 4, 5, 6, 1, 2, 3, 4, 5, 6, 3, 3, 4, 2, 3, 5, 1, 1, 3, 4, 6, 1, 3, 6, 1, 2, 3, 5, 6, 3, 2, 1, 2, 3, 4, 5, 1, 2, 4, 1, 2, 3, 4, 5, 6, 6, 1, 1, 2, 3, 4, 5, 6, 3, 1, 2, 4, 6, 3, 5, 1, 2, 3, 4, 5, 6, 1, 2, 3, 4, 5, 6, 1, 4, 4, 4, 6, 1, 2, 3, 4, 5, 6, 2, 6, 1, 2, 4, 3, 1, 1, 3, 4, 6, 3, 1, 2, 3, 4, 6, 1, 2, 3, 4, 5, 6, 1, 2, 3, 4, 5, 6, 1, 3, 4, 3, 4, 1, 2, 3, 4, 5, 6, 3, 3, 1, 2, 3, 4, 5, 6, 1, 2, 3, 4, 5, 6, 6, 1, 3, 4, 5, 6, 1, 2, 3, 4, 5, 6, 1, 2, 3, 4, 5, 6, 1, 4, 6, 2, 3, 5, 2, 5, 4, 5, 2, 5, 1, 2, 3, 4, 5, 6, 1, 2, 3, 4, 5, 2, 4, 5, 6, 1, 3, 1, 2, 3, 4, 5, 6, 1, 2, 3, 4, 5, 6, 4, 1, 2, 3, 5, 6, 1, 2, 3, 4, 5, 6, 2, 3, 1, 3, 4, 5, 4, 6, 1, 2, 3, 4, 5, 6, 1, 2, 3, 4, 5, 6, 1, 2, 3, 4, 5, 6, 2, 3, 4, 6, 1, 2, 3, 4, 5, 6, 4, 3, 4, 3, 4, 1, 2, 3, 4, 5, 6, 1, 2, 3, 4, 5, 6, 3, 4, 5, 1, 2, 3, 4, 5, 6, 1, 2, 3, 4, 5, 6, 5, 1, 3, 5, 1, 2, 3, 4, 5, 6, 4, 1, 2, 3, 4, 5, 6, 1, 2, 3, 4, 5, 6, 1, 2, 3, 4, 5, 6, 6, 3, 3, 1, 2, 3, 4, 5, 6, 1, 3, 4, 5, 6, 1, 2, 4, 6, 5, 1, 1, 2, 3, 4, 5, 6, 5, 6, 5, 2, 2, 1, 2, 3, 4, 5, 6, 2, 3, 3, 1, 2, 3, 4, 5, 6, 2, 1, 2, 3, 4, 5, 6, 3, 4, 1, 2, 3, 4, 5, 6, 5, 6, 1, 2, 3, 4, 5, 6, 4, 6, 6, 2, 3, 4, 5, 6, 1, 2, 3, 4, 5, 6, 4, 1, 2, 3, 4, 5, 6, 2, 1, 1, 4, 5, 6, 3, 3, 1, 2, 3, 4, 5, 6, 6, 1, 2, 3, 4, 5, 6, 1, 2, 3, 4, 5, 6, 1, 2, 3, 4, 5, 6, 1, 2, 3, 4, 5, 6, 3, 5, 1, 2, 3, 4, 2, 2, 2, 3, 4, 5, 1, 2, 3, 4, 5, 6, 2, 1, 2, 5, 1, 2, 3, 4, 5, 6, 4, 1, 6, 1, 2, 3, 4, 5, 6, 1, 5, 1, 4, 5, 1, 2, 3, 4, 5, 6, 1, 2, 3, 4, 5, 6, 1, 2, 3, 1, 2, 3, 4, 5, 6, 5, 6, 4, 5, 1, 2, 3, 4, 5, 1, 2, 3, 4, 5, 6, 1, 2, 3, 4, 1, 2, 3, 4, 5, 6, 1, 4, 5, 6, 6, 5, 6, 1, 2, 3, 4, 5, 6, 6, 1, 2, 4, 5, 6, 2, 1, 2, 3, 4, 1, 2, 3, 4, 5, 6, 1, 2, 5, 3, 5, 6, 1, 2, 3, 4, 5, 6, 1, 2, 3, 4, 5, 6, 2, 3, 4, 6, 4, 1, 3, 4, 6, 4, 1, 2, 3, 4, 5, 6, 1, 2, 3, 4, 5, 6, 1, 2, 3, 4, 5, 6, 1, 2, 3, 4, 5, 6, 2, 1, 2, 3, 4, 5, 6, 1, 2, 3, 4, 3, 4, 2, 3, 5, 6, 1, 2, 3, 4, 5, 6, 3, 5, 1, 1, 2, 3, 4, 5, 6, 1, 2, 3, 4, 5, 6, 1, 2, 3, 4, 5, 6, 1, 2, 3, 4, 5, 6, 1, 5, 2, 3, 5, 6, 1, 2, 3, 4, 5, 6, 6, 1, 2, 3, 4, 6, 1, 3, 4, 5, 6, 1, 2, 3, 4, 1, 2, 3, 4, 5, 6, 1, 2, 3, 5, 6, 1, 4, 6, 1, 2, 3, 4, 5, 6, 1, 5, 4, 1, 4, 5, 1, 2, 3, 4, 5, 6, 3, 1, 1, 2, 4, 4, 1, 2, 3, 4, 5, 6, 1, 5, 5, 2, 1, 1, 2, 3, 4, 5, 6, 5, 6, 1, 3, 4, 5, 6, 1, 3, 3, 1, 6, 1, 1, 1, 2, 3, 4, 5, 6, 1, 2, 3, 6, 2, 4, 1, 5, 6, 1, 2, 3, 4, 5, 6, 1, 2, 3, 4, 5, 6, 3, 1, 5, 3, 1, 2, 3, 4, 5, 6, 1, 2, 3, 4, 5, 6, 1, 2, 3, 4, 5, 6, 1, 3, 4, 5, 6, 2, 1, 1, 2, 3, 4, 5, 6, 2, 4, 5, 1, 2, 3, 4, 5, 6, 1, 3, 2, 3, 4, 5, 6, 2, 4, 1, 2, 3, 6, 1, 1, 2, 3, 4, 5, 6, 2, 3, 4, 5, 6, 1, 2, 3, 4, 5, 6, 5, 5, 6, 5, 6, 1, 5, 1, 2, 3, 4, 6, 1, 2, 3, 4, 5, 6, 1, 2, 3, 4, 5, 6, 1, 3, 2, 3, 4, 5, 4, 6, 4, 1, 2, 3, 4, 5, 6, 2, 3, 4, 5, 6, 2, 5, 1, 2, 5, 1, 2, 3, 4, 5, 6, 1, 2, 3, 4, 5, 6, 6, 1, 3, 4, 5, 6, 3, 5, 6, 1, 2, 3, 4, 5, 6, 1, 2, 3, 4, 5, 6, 1, 2, 3, 4, 6, 4, 1, 1, 2, 3, 4, 5, 6, 3, 1, 3, 4, 5, 6, 1, 1, 2, 3, 4, 5, 6, 1, 2, 3, 4, 5, 6, 4, 5, 1, 3, 5, 1, 3, 6, 2, 3, 6, 6, 1, 2, 6], \"Freq\": [0.9699474002954127, 0.015988143960913397, 0.010658762640608931, 0.9974373533847726, 0.9910111412174473, 0.015660718442586388, 0.9832693936452453, 0.031079659829603486, 0.9654532627919381, 0.0026450774323066796, 0.014592969689296072, 0.008755781813577643, 0.9641088641394938, 0.012647240397389929, 0.03258145436733525, 0.9665831462309457, 0.49161035985896956, 0.14096075268827485, 0.08352508688296949, 0.14329711875493134, 0.09403873418292369, 0.046532624160908406, 0.9992948433837423, 0.9977044599350648, 0.6993099767732698, 0.3005586435574853, 0.9968546539618799, 0.9970169472942005, 0.002443668988466178, 0.0007681163906687844, 0.9985513078694197, 0.09029284328262835, 0.02263608884522716, 0.01659979848649992, 0.8546381099564655, 0.014839213798537807, 0.0007545362948409055, 0.11002821317863597, 0.0005075102083885423, 0.14474191143241227, 0.6660563974891229, 0.00010150204167770846, 0.07846107821686864, 0.99684305196641, 0.5162542133864716, 0.00045232553742973565, 0.010855812898313656, 0.4218689512428001, 0.019751548467765122, 0.030758136545222022, 0.8259063252481539, 0.08839975958313573, 0.0016838049444406807, 0.02357326922216953, 0.0564074656387628, 0.002525707416661021, 0.9938598763948668, 0.0007063705865832391, 0.0007063705865832391, 0.041675864608411106, 0.8236281039560568, 0.13421041145081544, 0.574027656560365, 0.020610980652394455, 0.40380938531041777, 0.001421446941544445, 0.9970264932866862, 0.9982705831206757, 0.9940400811867398, 0.0011986862619344845, 0.9961082836675567, 0.002397372523868969, 0.9984878551853504, 0.9985494593472725, 0.9968290495359116, 0.9978669539305327, 0.9984387687839522, 0.9988488958046495, 0.13086492372602926, 0.8623385607511349, 0.0018025471587607333, 0.0014420377270085868, 0.0036050943175214667, 0.0036223310663959104, 0.9961410432588753, 0.03702918253342521, 0.9627587458690553, 0.00032672099306228916, 0.017316212632301327, 0.7606064718490092, 0.19701275881656036, 0.024504074479671685, 0.9361539802634435, 0.0634168825339752, 0.09177087292547817, 0.0469282872914377, 0.0031285524860958465, 0.857223381190262, 0.0006677018352350447, 0.9995496473468618, 0.99896549325658, 0.9973930686463237, 0.06163187015833484, 0.0009629979712239818, 0.018296961453255656, 0.8666981741015837, 0.052001890446095024, 0.3000332994771202, 0.022274187043587246, 0.022274187043587246, 0.36284650694003623, 0.013364512226152347, 0.27931830552658404, 0.011499002868416323, 0.9876206088611069, 0.0008624252151312242, 0.004300174394773229, 0.01228621255649494, 0.9343664649214402, 0.048530539598155016, 0.0050754615643763545, 0.4177415610026498, 0.029831284296742658, 0.03583897349539222, 0.21751978133041522, 0.2939624473408183, 0.25606642560383003, 0.055806298145072625, 0.0756776239238085, 0.14742857868175901, 0.3749374103520764, 0.09019440084001076, 0.015105491809304115, 0.9843745495729849, 0.998800011190602, 0.9975035992691487, 0.008924919155691307, 0.9900285320563286, 0.000637494225406522, 0.9967570472622159, 0.4240129232365472, 0.12654135677840705, 0.22923198662475833, 0.10878581561787665, 0.08029744733792113, 0.031138449050183935, 0.02846081846131171, 0.9657050126183008, 0.005397741432317738, 0.018790493836524143, 0.979790035761616, 0.9960971422153617, 0.9944849068333931, 0.972659789139377, 0.026700464799904466, 0.04517503267437023, 0.05959359232587907, 0.47024166136170875, 0.030054270442430763, 0.39285893699825386, 0.002059794235929834, 0.08073546619638541, 0.0036697939180175185, 0.896293196918161, 0.01208873290641065, 0.002374572535187806, 0.004965015300847231, 0.07703664410212589, 0.00885787196993085, 0.002415783264526596, 0.903771361295672, 0.007515770156304964, 0.9909268207310357, 0.99734276084976, 0.2612238513107511, 0.15399919003676296, 0.16118383693358748, 0.10732375985187535, 0.22961140496472315, 0.08661215707344326, 0.9960146095154101, 0.02364134722568061, 0.01576089815045374, 0.9396276632638156, 0.02086001225795348, 0.0002866277170796392, 0.9677984867194017, 0.03181567659583995, 0.016115847418148022, 0.005658999856754268, 0.2427218851603515, 0.7287807641611366, 0.0035676303444755163, 0.003075543400409928, 0.09825212702483792, 0.026722419163348776, 0.19245540266128966, 0.006748085647310297, 0.6756183350087069, 0.03961443117980141, 0.0560833520073593, 0.005341271619748504, 0.8799744993535661, 0.015578708890933136, 0.0031157417781866275, 0.008957132115918255, 0.03000639258832615, 0.9584131364032532, 0.001791426423183651, 0.0013435698173877382, 0.0015786398168912668, 0.25869959999305636, 0.29046972630799306, 0.4487283679513426, 0.0003946599542228167, 0.00558722441406239, 0.09405161097005024, 0.0568034482096343, 0.843670886523421, 0.03885207091772239, 0.029049942933893343, 0.7107433890820041, 0.14008131991435685, 0.016218066300517142, 0.06505048571086547, 0.6035597987845592, 0.0013235960499661387, 0.35737093349085747, 0.032759002236661935, 0.00496348518737302, 0.008537784680529275, 0.9903830229413959, 0.7429301774035489, 0.005871860641879762, 0.23151907673697347, 0.019572868806265874, 0.9991621655294994, 0.9992122955073832, 0.30569725962822075, 0.26477516907326104, 0.07125653550432413, 0.15301668768086588, 0.12696771833376624, 0.07823093697467662, 0.9988207053535745, 0.0010954351979497788, 0.998671755464215, 0.9964261434038825, 0.9975791160424531, 0.9997562406344909, 0.02874114991081911, 0.9665542266305094, 0.0010644870337340412, 0.0031934611012021234, 0.00028666395251966204, 0.9859806646913776, 0.006879934860471889, 0.004299959287794931, 0.0024366435964171275, 0.9591973005624332, 0.0352224457080996, 0.004914759866246456, 0.11299974094711798, 0.521737529402404, 0.14396388564782336, 0.07671796137831294, 0.10757132201926624, 0.037001875957193536, 0.160881172993782, 0.7890617068510059, 0.01162436221053338, 0.03487308663160014, 0.0009299489768426704, 0.002324872442106676, 0.9983269757621471, 0.18179461091369084, 0.0024519504362154835, 0.0024519504362154835, 0.314550213103072, 0.4987967744529783, 0.9906627937102379, 0.005693464331668034, 0.5433913207010793, 0.19829450928545084, 0.03490577504275726, 0.07723831073290968, 0.12303666805851318, 0.02327051669517151, 0.007481478508246997, 0.08443382887878753, 0.9084652474299925, 0.236849839816925, 0.7628029892660554, 0.19089289771501186, 0.13560123240769015, 0.624396372481922, 0.017028991976779692, 0.024597432855348447, 0.00735820640971962, 0.9985387760948913, 0.9999327472049346, 0.8474591656259404, 0.12272402789886416, 0.02902257416527193, 0.0008292164047220552, 0.08844203000216312, 0.029895897465519926, 0.009965299155173309, 0.0006228311971983318, 0.8694723512888712, 0.0018684935915949954, 0.9965350645314192, 0.9833584913128727, 0.014014610327499373, 0.996721754045016, 0.8501664896442677, 0.06374095261770599, 0.012059099143890322, 0.007752278021072349, 0.03962275432992534, 0.02584092673690783, 0.05595299521443549, 0.24118366890265694, 0.5369063584114424, 0.16563702554453827, 0.24170944653100027, 0.08251816097786638, 0.6742421403233165, 0.0017191283537055495, 0.9954145562972545, 0.012515240831946915, 0.9808820002038395, 0.004693215311980093, 0.9984928657531303, 0.9892103863679489, 0.0022680173359118806, 0.10310284213523738, 0.02402872420749884, 0.4861525808410033, 0.18640650590562238, 0.1979917836485236, 0.40778145828808815, 0.23115033549618091, 0.08414317266858572, 0.11557516774809046, 0.1477025609488232, 0.01362980317606843, 0.035812136303455276, 0.1031389525539512, 0.8609237567350648, 0.01290203731858041, 0.9837803455417562, 0.8982910405844117, 0.014900562284575548, 0.06811685615805965, 0.004257303509878728, 0.012771910529636185, 0.7933944815216845, 0.01938485644206559, 0.029077284663098384, 0.09484733330582092, 0.009000111919530453, 0.05400067151718271, 0.03941421812892844, 0.7928005750725085, 0.12173245495028419, 0.0010264119304408447, 0.04516212493939717, 0.04916740410623397, 0.0015135488204344413, 0.027289743883590685, 0.120074873087799, 0.003394018567034808, 0.7985575306843654, 0.010434347902584086, 0.0074531056447029185, 0.08645602547855386, 0.014906211289405837, 0.8802117766394147, 0.01630476049293365, 0.7567081151848694, 0.11246104032305518, 0.08821293497458975, 0.02424810534846543, 0.002090353909350468, 0.41611687249275064, 0.16047005805918177, 0.062018402540729684, 0.14317449695458884, 0.08473801535268016, 0.13355448071889808, 0.9990104342454057, 0.017410682827449123, 0.9813293957289506, 0.9871141540326802, 0.0020437146046225264, 0.010218573023112631, 0.9977829932315193, 0.000922898301124664, 0.005075940656185652, 0.19750023644067807, 0.7959997847200226, 0.007183449220090441, 0.9908370957578082, 0.0019155864586907843, 0.009364936182147827, 0.014047404273221742, 0.009885210414489374, 0.8917500342334098, 0.07543976368952417, 0.9968454299357684, 0.9978615407218298, 0.05099919961576725, 0.10059044586790902, 0.8094167448220237, 0.017521197414005926, 0.021275739717007195, 0.9978845116638241, 0.993702530339564, 0.9964780410704313, 0.03732733136389773, 0.1441607280260878, 0.37137323601618444, 0.06680918093045735, 0.3713119431896428, 0.009010045501630487, 0.9961897054321878, 0.9942438292495193, 0.13155271354863834, 0.26179601057224045, 0.10357484713036456, 0.23682980216154997, 0.17877900288494447, 0.08746902387241913, 0.9985070363928462, 0.0035537778684411737, 0.9950578031635287, 0.9870320907785123, 0.01249407709846218, 0.0037761687175746454, 0.9931323727221317, 0.5000216886603006, 0.09987896664422219, 0.07752112264645697, 0.18513130637401853, 0.09381936406538863, 0.04346197711715108, 0.8755410946065272, 0.06502477775043854, 0.005935871827840862, 0.014030242502169311, 0.03858316688096561, 0.001079249423243793, 0.9980290820789651, 0.9980631934294992, 0.9963783359418883, 0.003993070396596035, 0.9942745287524128, 0.029107817775443495, 0.7977918218861351, 0.07514569282844086, 0.09534295414201391, 0.00029701854872901526, 0.0026731669385611375, 0.9965294875700518, 0.9957154409554695, 0.98339935899371, 0.005403293181284121, 0.005403293181284121, 0.9996766615419677, 0.995720070400578, 0.0017483217511288468, 0.0017483217511288468, 0.9639080587890375, 0.03263533935440514, 0.9994300166255553, 0.019466222957784208, 0.004376127641672419, 0.8684349854422335, 0.10517796435329918, 0.002414415250577886, 0.012917415320745532, 0.0016560788872750682, 0.3179671463568131, 0.6645844574634848, 0.0003312157774550136, 0.0024841183309126024, 0.0015519473688187433, 0.0077597368440937165, 0.31789055271303923, 0.6339705001624566, 0.011898263160943699, 0.027159078954328005, 0.003535040264771656, 0.9961743466126527, 0.0007070080529543312, 0.9968848782382292, 0.9983400400362843, 0.0718471762740589, 0.00035923588137029447, 0.8044488836818794, 0.004430575870233632, 0.0002394905875801963, 0.11866758614598727, 0.9987668053051563, 0.9996796772106166, 0.0008255592928963625, 0.07654114015567703, 0.17124458475507404, 0.16817822166717328, 0.1862225890690509, 0.396976082841308, 0.0009962219116738875, 0.5204263266584388, 0.20362775874614258, 0.14305746651637025, 0.12333227266522727, 0.008368264058060654, 0.9988306375519206, 0.0005584236080487917, 0.05137497194048884, 0.14072274922829553, 0.18707190869634524, 0.6198502049341589, 0.020828541709746268, 0.21131742000457762, 0.48024289524433955, 0.0003954786400584734, 0.24572406168966482, 0.041525257206139705, 0.04993320641746995, 0.8359650974391427, 0.0461882159361597, 0.0008322201069578325, 0.06033595775444286, 0.00665776085566266, 0.0006079002802662572, 0.3282661513437789, 0.671121909413948, 0.04461471499954641, 9.412387130705994e-05, 0.9551690460240443, 0.9985678704601709, 0.9951419661595894, 0.9987437237729998, 0.9951988707840531, 0.00515235113026123, 0.9918275925752867, 0.16761750515226784, 0.00012555618363465756, 0.0003766685509039727, 0.6270275810714798, 0.20453102314085717, 0.0003766685509039727, 0.2232465914014772, 0.004065188310800799, 0.7568025571940821, 0.0037264226182340656, 0.011856799239835665, 0.8442755058994638, 0.03520219129177531, 0.02654591474461745, 0.09348778670930494, 0.0030911874503687558, 0.9966871536403259, 0.012714827975138317, 0.5720063116916655, 0.055848674776873365, 0.15080751661651395, 0.193941363418249, 0.014646194249842872, 0.6238097582193853, 0.11657761261584094, 0.04949978243760677, 0.08578087297426172, 0.09674957476441323, 0.027562378857303768, 0.9965446947461908, 0.021482315038416307, 0.21767020418443508, 0.7570574877996108, 0.003364699945776048, 0.0002588230727520037, 0.8478915056009392, 0.06469302071955217, 0.04611098285329783, 0.009635130745465218, 0.023399603238986957, 0.007570459871436957, 0.9961789894640258, 0.002295343293695912, 0.014104634337696157, 0.98515445989447, 0.00036165729071015786, 0.00036165729071015786, 0.05218895630987187, 0.9472526494827187, 0.47370539662517147, 0.2738257423439482, 0.07163136280187815, 0.05899421408049877, 0.0882723606231005, 0.03359479635336993, 0.13514716321774198, 0.15873416811895166, 0.08159828722580648, 0.02970687644314517, 0.14177702405483875, 0.45299799142701624, 0.06500616731377715, 0.5917473171651184, 0.07628664928881494, 0.008603757438588152, 0.24195677863407347, 0.01653833374306389, 0.004455472491513155, 0.005940629988684207, 0.988372314367335, 0.0007425787485855258, 0.0007340810413939258, 0.01849884224312693, 0.09719232988055578, 0.7873753249991248, 0.07149949343176837, 0.024665122990835908, 0.9977305098231259, 0.022363239731407726, 0.9773752273522058, 0.9988357345858364, 0.9972320252926584, 0.5606329400907062, 0.21671805593753138, 0.051345508637507434, 0.076018025775011, 0.05918069989063357, 0.03600853852500521, 0.7802253994238075, 0.07849622405304568, 0.012857140146619553, 0.043308261546507965, 0.04736841106649309, 0.03857142043985866, 0.03547461439813469, 0.9620715424774128, 0.0014189845759253875, 0.050744803914106816, 0.013374599481237455, 0.14849739129903353, 0.14613716786116807, 0.4767651344488175, 0.16462558479111397, 0.48515519783125893, 0.09836830453574696, 0.12194043281159417, 0.09372187540445016, 0.14109278703572, 0.05961028592834436, 0.9976968014271471, 0.0007553601535314128, 0.9993414831220592, 0.9992226576097616, 0.009510244490815676, 0.7074942597988948, 0.16846718812302056, 0.028191081883489327, 0.07166648527007527, 0.014605018325181218, 0.9990543731805537, 0.07992784079994196, 0.001289158722579709, 0.9133689549477239, 0.0006445793612898545, 0.0038674761677391267, 0.0006445793612898545, 0.01269100920644333, 0.008222343992906948, 0.04093297335599328, 0.7214213120733138, 0.1778528754987481, 0.038788014053495815, 0.2048714574548863, 0.04388264258298758, 0.09033904719430287, 0.1446454259920177, 0.5056155504649801, 0.01055242431614364, 0.9954207957766473, 0.9984907172747772, 0.9987415390258843, 0.0916997123735987, 0.8238866465566407, 0.007658437516915935, 0.017130715498364594, 0.010278429299018756, 0.049376768201168535, 0.004845567338172154, 0.001785209019326583, 0.20453394764284563, 0.008671015236729116, 0.7801363414457168, 0.05630320071298972, 0.9357433357933502, 0.007930028269435173, 0.9955979906830502, 0.995788972254642, 0.9916738684286817, 0.7552830041499717, 0.09751448570019683, 0.04300328251375139, 0.029072641699437563, 0.05753960336347018, 0.017564721026743526, 0.9955699017965137, 0.9974131013233752, 0.9986391673029901, 0.9981251806625763, 0.9991468401981723, 0.003123651336445822, 0.5617366320041737, 0.1656955049832852, 0.13270785374839522, 0.05721961311762119, 0.07951112492771183, 0.9981235859768842, 0.9996158041394088, 0.9984470717208467, 0.5259360079487734, 0.21785465079112504, 0.055849827181065834, 0.0878072192684266, 0.07792764695119836, 0.034578503110298885, 0.9942003048867638, 0.09505288080099705, 0.18481859035939585, 0.13903517344546817, 0.14432234468806643, 0.4235547072367167, 0.01318887771505277, 0.9983148302167216, 0.998040053240597, 0.9077876997502802, 0.04527025274345229, 0.011913224406171655, 0.007147934643702994, 0.011913224406171655, 0.01667851416864032, 0.07442116818796846, 0.9256132793378578, 0.0010251821528736505, 0.013071072449139045, 0.010508117066954918, 0.05510354071695872, 0.019991051981036186, 0.9001099302230652, 0.9935626245977381, 0.9988622121501157, 0.9961956164833222, 0.4334601832225956, 0.05153251237710317, 0.048434038531644436, 0.46232491325660596, 0.004240016841154058, 0.15118538699691278, 0.49504084689134054, 0.012708336878001365, 0.004236112292667122, 0.3342146526076681, 0.002629311078207179, 0.9960552658563337, 0.23620725900330802, 0.22717742439339134, 0.020041828036644317, 0.01706858981142785, 0.4719740382695469, 0.02741986363255184, 0.9958461802161594, 0.9906500292223605, 0.9474294126657908, 0.003882907428958159, 0.04271198171853975, 0.007765814857916318, 0.9984721374038837, 0.9958073472227189, 0.2853376570402561, 0.03721795526612036, 0.15115047138689697, 0.16254372299897463, 0.02253331985499804, 0.3412911816240153, 0.9977250712912846, 0.14690396881683396, 0.7315870969753038, 0.019462776267929, 0.036792645547591804, 0.06132107591265301, 0.0039992006029991095, 0.0411096025124226, 0.006255809077977352, 0.06434546480205276, 0.8758132709168294, 0.011617931144815083, 0.0008936870111396218, 0.023598407670336448, 0.3568307611442003, 0.025311195323828608, 0.031401106980689625, 0.23788717409613352, 0.32485872494567997, 0.05710651519071433, 0.018914259808389462, 0.012003280263016388, 0.2586161293031713, 0.04328455609996819, 0.6099848788205601, 0.9763638094573125, 0.022398335566278283, 0.2068342026830401, 0.012084063471971091, 0.5939457708839745, 0.1870219590836456, 0.9978286529755231, 0.9966685480223848, 0.003002345761159579, 0.01013291694391358, 0.9847694096603419, 0.0018764661007247367, 0.021684435019672897, 0.005052683888079121, 0.0770534292932066, 0.24842362449722347, 0.0018947564580296704, 0.645901423692781, 0.9987515632842194, 0.9068699722091167, 0.06727522049029055, 0.0242190793765046, 0.015809519745803913, 0.16314078886627442, 0.32022686804266653, 0.5001862949363919, 0.0005045591408235292, 0.00016818638027450974, 0.996392844273924, 0.9942089240689267, 0.9969967572526983, 0.6266160199340797, 0.050942128675227266, 0.011970008377239194, 0.030342579374862143, 0.2638969288749478, 0.01614559269488077, 0.9908487541409328, 0.008349849051749434, 0.00342849735070452, 0.9845501558773146, 0.0114283245023484, 0.7229099077218563, 0.11332391569785413, 0.024168607613286427, 0.055050717341374636, 0.07733954436251657, 0.007250582283985928, 0.8783442459095143, 0.010668148735743089, 0.007112099157162059, 0.0035560495785810294, 0.09956938820026882, 0.0017780247892905147, 0.0007704925849285615, 0.9985583900674156, 0.0007704925849285615, 0.0016057067699456642, 0.22658306642566595, 0.013559301612874499, 0.01570024397280205, 0.41605646527925433, 0.3264937098889517, 0.9720869316848809, 0.02765684631769419, 0.000701343482080701, 0.9987131184829182, 0.000528866109696357, 0.006081960261508106, 0.014808251071497996, 0.06187733483447377, 0.9167894011586348, 0.3897046868111333, 0.11356424922410326, 0.1308977398951506, 0.15854166898259678, 0.14016219180553796, 0.06724198967216641, 0.04593495745950441, 0.9175787843740028, 0.013817832731720839, 0.022780751260404627, 0.4280687379846669, 0.006892632221787009, 0.015236344911318651, 0.412288237897944, 0.0034463161108935045, 0.13404355820791053, 0.010416727856618416, 0.9702437946450295, 0.011904831836135332, 0.007440519897584583, 0.9947809154383529, 0.998765147759945, 0.9970195988868387, 0.00019043095810009652, 0.012092365839356129, 0.02751727344546395, 0.04208524174012133, 0.9181628644796154, 0.9998192199152167, 0.9972814803615492, 0.08762511386142513, 0.09752868938384664, 0.0027988365606843404, 0.021098921765158877, 0.7907789759533526, 0.9978430531311527, 0.00900750411240685, 0.9627220395340442, 0.0005404502467444111, 0.0277431126662131, 0.6255147727425933, 0.16172214414723837, 0.02875060340395349, 0.03934293097383109, 0.1320257972102601, 0.012483814635927171, 0.001797402201166842, 0.9939634172452636, 0.003594804402333684, 0.997704798440691, 0.009255229902033509, 0.9879957920420771, 0.7876414186265595, 0.06206271267845408, 0.018669271293518707, 0.04187971668546088, 0.07820910947284863, 0.011605222695971088, 0.06771770696873677, 0.8759455908617894, 0.0004871777479765236, 0.0019487109919060944, 0.008769199463577425, 0.04482035281384017, 0.007725180434077529, 0.018347303530934132, 0.9646819067054314, 0.00869082798833722, 0.9966918293429327, 0.0027414290623074683, 0.0013707145311537342, 0.9841730333683811, 0.010965716249229873, 0.9979965196358359, 0.00271207358237611, 0.03652259090933162, 0.057495959946373534, 0.8810623044612523, 0.012475538478930107, 0.009944269802045737, 0.004425277657505934, 0.035125641406453356, 0.1335880692859604, 0.7841038849393327, 0.03844459964958281, 0.004148697803911814, 0.05335955044446869, 0.5205747529008213, 0.07403956760237283, 0.04621090253803269, 0.2702444217486608, 0.0354879306783787, 0.0009571133965987972, 0.20935260361604358, 0.12123436356918098, 0.07235777278286906, 0.5525734676363723, 0.043452948205585394, 0.9976137147891807, 0.007860957126969936, 0.031443828507879745, 0.09433148552363925, 0.2777538184862711, 0.020962552338586498, 0.5675611045672294, 0.0006179583609170296, 0.017302834105676828, 0.08280642036288197, 0.899129415134278, 0.039794288886144266, 0.959744614312891, 0.8810587441819434, 0.1179827857785442, 0.0003876761854716677, 0.0006461269757861128, 0.25134597238231177, 0.03791306969111854, 0.0073665290850618926, 0.35349517569517, 0.07837986946505854, 0.27157937226928175, 0.9970508966886473, 0.9972739777853161, 0.9957745959087748, 0.03376229934113871, 0.016336596455389697, 0.5345956706735143, 0.11886818754207361, 0.0001555866329084733, 0.29639253569064167, 0.5029312627166616, 0.09855208146679352, 0.10398822830926789, 0.1744827776858711, 0.0785610898525329, 0.04138485983303073, 0.6437697572842194, 0.0461483696977935, 0.028842731061120938, 0.12267774944663438, 0.09498872762795829, 0.06345400833446606, 0.019686444740941993, 0.8292249764529215, 0.14631817037186615, 0.0009311156296391483, 0.0005320660740795132, 0.00319239644447708, 0.9967105958348863, 0.0017609727841605765, 0.0022484764576357653, 0.0010492890135633572, 0.05321394283071312, 0.9434607216239672, 0.03460608218850526, 0.0016610919450482527, 0.07225749960959899, 0.8189183289087886, 0.06450573719937382, 0.008028611067733222, 0.9962437675655272, 0.10284139284956696, 0.04665824266195119, 0.0357529137557555, 0.8111356032000745, 0.0035890955893808606, 0.10140890937935723, 0.012040635678287797, 0.8819096710141462, 0.004013545226095932, 0.0008027090452191864, 0.00393438708373165, 0.13622815277420838, 0.0004917983854664563, 0.8586799810244327, 0.2480512240783191, 0.2873097978032938, 0.08768365405082798, 0.14036791926193795, 0.17583026298048823, 0.060647089127024635, 0.010155756810976305, 0.9614116447724235, 0.018618887486789894, 0.009309443743394947, 0.0008463130675813587, 0.017665030970640254, 0.05299509291192077, 0.9282170819118243, 0.2210854819471139, 0.17169066521898715, 0.4135823239872734, 0.09863080767899261, 0.055430196264039326, 0.03954761853795356, 0.9945492008329235, 0.9984087563830485, 0.9956908850030942, 0.0007925990430827943, 0.9780672191641683, 0.020607575120152655, 0.6759265660938243, 0.1071661350516277, 0.041017765976633785, 0.08405753450141148, 0.06268207899246149, 0.029174608194647973, 0.9997940611134534, 0.9976944603566458, 0.12416642295739669, 0.8519865963605836, 0.023808610227267813, 0.9972763174061245, 0.030920639467215048, 0.0010422687460859004, 0.035089714451558646, 0.1024897600317802, 0.8077582782165729, 0.02258248949852784, 0.989152262021434, 0.9998323910409905, 0.9943338984150998, 0.9965344246968704, 0.996605138909081, 0.0007204094331600979, 0.25292374515862437, 0.016269246365532213, 0.010145766183671379, 0.7153665671279773, 0.00456259307668062, 0.9994248682774375, 0.0007123484449589718, 0.8189171470526105, 0.004580073529377017, 0.15480648529294316, 0.0036640588235016132, 0.018320294117508067, 0.04009429702684574, 0.9596078771855663, 0.9983063951235873, 0.9954349839384896, 0.9957675039162637, 0.9886914731066123, 0.9987185443603654, 0.1846331843151566, 0.007003998562008048, 0.001750999640502012, 0.2161511778441928, 0.5044824519801908, 0.08579898238459858, 0.003653347483690288, 0.9703512331680416, 0.025905554884349313, 0.999182800519166, 0.9958112014091499, 0.997300743779061, 0.9896471112212119, 0.006468281772687659, 0.9982427618453814, 0.1291897789377114, 0.1413358265301458, 0.06006772627531197, 0.2330936951602639, 0.27924867601151465, 0.15712568840031055, 0.058131419844863516, 0.15617263710615473, 0.6973103802491656, 0.0006222017414587838, 0.055198183063700675, 0.03253226248198784, 0.9980991931135089, 0.0026848171220799025, 0.9960671522916439, 0.9976650546432393, 0.4458620429371022, 0.1998145945264996, 0.11130717904289163, 0.11621546147579297, 0.08344080135932275, 0.04338288343919247, 0.7314137043404234, 0.061241846998297246, 0.03721023615086415, 0.0748080789282998, 0.07790893194087181, 0.017054691569146067, 0.7155265670599998, 0.09171089247850252, 0.019673953832021994, 0.06779947166727579, 0.09140821626570218, 0.013620429576015225, 0.2354064587874687, 0.00033725853694479755, 0.07487139520174506, 0.6748543324265399, 0.014839375625571092, 0.9959116350654902, 0.9930453521366824, 0.4510079381223061, 0.2693266027248589, 0.02728770475818721, 0.08115302530315899, 0.13846734942351502, 0.032664092684521494, 0.9782955230803515, 0.01903298683035703, 0.0019032986830357032, 0.0007316060688341987, 0.24045452795683997, 0.7559929377953387, 0.0009754747584455983, 0.0009754747584455983, 0.0007316060688341987, 0.0019767535272177737, 0.9982605312449757, 0.003422065350844915, 0.0022813769005632766, 0.9131211044504515, 0.07813715884429222, 0.0022813769005632766, 0.9969758544420206, 0.9978790692393101, 0.9979969084110956, 0.10769599511629509, 0.8919905584208395, 0.9975148071817457, 0.9964008751275467, 0.16880711846284224, 0.18667356530744963, 0.13749883073200986, 0.22845528739546567, 0.16186216733829265, 0.11677599269907965, 0.0010042980229670012, 0.04418911301054805, 0.01606876836747202, 0.029124642666043036, 0.9088897107851361, 0.03197434456816119, 0.28596467986242585, 0.28791345481353275, 0.07722922954386564, 0.2910170593652956, 0.025911489164717538, 0.996401830870832, 0.9977223690015371, 0.9971377122206938, 0.9988340825981249, 0.9949981179691806, 0.993568404721163, 0.9970664112001719, 0.0001668585586087566, 0.008176069371829074, 0.3814386649796176, 0.557307585753247, 0.05289416307897584, 0.4530890350998094, 0.12666887510556102, 0.06640121533311402, 0.18299353487472209, 0.10941825009118501, 0.06141770144007207, 0.12621612828053475, 0.2756861332304332, 0.03837561727805396, 0.4847694000465906, 0.016533103065501355, 0.058403522617563736, 0.9880146326753696, 0.012197711514510734, 0.11512773335634824, 0.026933552298962205, 0.8565925848807195, 0.001056217737214204, 0.028032661393270538, 0.9714767138012721, 0.9958329364230077, 0.012781071435776106, 0.6242706457907992, 0.13735802073147332, 0.004209027541098959, 0.21943405778290304, 0.0018991953539105057, 0.20251523759853038, 0.480604036009925, 0.09276928407028406, 0.19320545112158335, 0.030886585723518427, 0.9989975365258458, 0.9977103502875241, 0.02588644018471546, 0.05990861871319863, 0.9134215322321025, 0.18784450311237824, 0.01592954486745939, 0.04489235371738555, 0.485540802648405, 0.01592954486745939, 0.24990766493364858, 0.19622349028622202, 0.079280481176116, 0.6191100482299731, 0.0221847767282407, 0.007394925576080234, 0.07584098090817169, 0.9978370262834824, 0.9345427002090421, 0.001971609072170975, 0.035488963299077546, 0.004929022680427437, 0.02267350432996621, 0.045584999204318355, 0.9479157344423671, 0.006306225186368152, 0.4103865387844907, 0.272609709407775, 0.12541224212495913, 0.06638605774454996, 0.09067363984621458, 0.03459140481146174, 0.7125712128373751, 0.13053048443891352, 0.02360145290592901, 0.04209728538731011, 0.07995594249763706, 0.01127089791834161, 0.3547874932940403, 0.00028634987352222784, 0.024053389375867137, 0.6202338260491455, 0.0005726997470444557, 0.997913994939096, 0.998166776889476, 0.7221816467870984, 0.10948193934711638, 0.03791952586762104, 0.051319659068960806, 0.060728263231603616, 0.018532099108235847, 0.999709691277684, 0.5314466156880441, 0.15683249777647176, 0.14066611471183546, 0.04757004671892982, 0.12357062917222005, 0.9896719489556518, 0.8069185441403431, 0.06801290538539832, 0.01679330997170329, 0.01847264096887362, 0.07640956037124998, 0.013434647977362633, 0.32730941262030167, 0.12857933318188508, 0.17291703427908683, 0.18555024226294706, 0.10902215543763992, 0.0766495599789981, 0.02241753778974214, 0.9764083126198799, 0.9935961688479786, 0.0047999814920192205, 0.997087552407625, 0.9599724294665032, 0.03804768775324555, 0.9963921815647647, 0.9930149376305571, 0.004069733350944907, 0.0020348666754724533, 0.99685870686055, 0.1251529635612727, 0.8749010910638504, 0.9940924422805146], \"Term\": [\"ability\", \"ability\", \"ability\", \"accordion\", \"advantage\", \"age\", \"age\", \"ajax\", \"ajax\", \"ajax\", \"align\", \"align\", \"align\", \"align\", \"alloc\", \"alloc\", \"also\", \"also\", \"also\", \"also\", \"also\", \"also\", \"alt\", \"anaconda\", \"android\", \"android\", \"angle\", \"animate\", \"animate\", \"apache\", \"apache\", \"api\", \"api\", \"api\", \"api\", \"api\", \"api\", \"app\", \"app\", \"app\", \"app\", \"app\", \"app\", \"appender\", \"application\", \"application\", \"application\", \"application\", \"application\", \"application\", \"approach\", \"approach\", \"approach\", \"approach\", \"approach\", \"approach\", \"argc\", \"args\", \"args\", \"args\", \"args\", \"args\", \"array\", \"array\", \"array\", \"array\", \"arraylist\", \"artifactid\", \"asc\", \"auth\", \"auth\", \"auth\", \"authenticate\", \"authentication\", \"authorization\", \"avg\", \"ax\", \"azure\", \"background\", \"background\", \"background\", \"background\", \"background\", \"bash\", \"bash\", \"bin\", \"bin\", \"body\", \"body\", \"body\", \"body\", \"body\", \"bool\", \"bool\", \"boolean\", \"boolean\", \"boolean\", \"boolean\", \"border\", \"border\", \"btn\", \"buf\", \"buffer\", \"buffer\", \"buffer\", \"buffer\", \"buffer\", \"build\", \"build\", \"build\", \"build\", \"build\", \"build\", \"button\", \"button\", \"button\", \"byte\", \"byte\", \"byte\", \"byte\", \"c\", \"c\", \"c\", \"c\", \"c\", \"c\", \"call\", \"call\", \"call\", \"call\", \"call\", \"call\", \"canvas\", \"canvas\", \"car\", \"cart\", \"center\", \"center\", \"center\", \"certificate\", \"change\", \"change\", \"change\", \"change\", \"change\", \"change\", \"char\", \"char\", \"char\", \"checkbox\", \"checkbox\", \"chrono\", \"cin\", \"city\", \"city\", \"class\", \"class\", \"class\", \"class\", \"class\", \"class\", \"click\", \"click\", \"click\", \"click\", \"click\", \"click\", \"client\", \"client\", \"client\", \"client\", \"client\", \"clojure\", \"cmake\", \"code\", \"code\", \"code\", \"code\", \"code\", \"code\", \"coin\", \"color\", \"color\", \"color\", \"color\", \"column\", \"column\", \"column\", \"com\", \"com\", \"com\", \"com\", \"com\", \"com\", \"command\", \"command\", \"command\", \"command\", \"command\", \"connect\", \"connect\", \"connect\", \"connect\", \"connect\", \"connect\", \"connection\", \"connection\", \"connection\", \"connection\", \"connection\", \"const\", \"const\", \"const\", \"const\", \"const\", \"constructor\", \"constructor\", \"constructor\", \"constructor\", \"content\", \"content\", \"content\", \"content\", \"content\", \"content\", \"control\", \"control\", \"control\", \"control\", \"control\", \"cookie\", \"cookie\", \"count\", \"count\", \"count\", \"count\", \"country\", \"cout\", \"create\", \"create\", \"create\", \"create\", \"create\", \"create\", \"credential\", \"css\", \"css\", \"currency\", \"cy\", \"dataframe\", \"dataset\", \"dataset\", \"dataset\", \"dataset\", \"date\", \"date\", \"date\", \"date\", \"date\", \"datetime\", \"datetime\", \"datetime\", \"datum\", \"datum\", \"datum\", \"datum\", \"datum\", \"datum\", \"day\", \"day\", \"day\", \"day\", \"day\", \"day\", \"dbo\", \"def\", \"def\", \"def\", \"def\", \"def\", \"designer\", \"designer\", \"different\", \"different\", \"different\", \"different\", \"different\", \"different\", \"dir\", \"dir\", \"dir\", \"directory\", \"directory\", \"display\", \"display\", \"display\", \"display\", \"display\", \"display\", \"dist\", \"div\", \"dotnet\", \"dotnet\", \"dotnet\", \"dotnet\", \"double\", \"double\", \"double\", \"double\", \"double\", \"double\", \"drawable\", \"dt\", \"dt\", \"dtype\", \"easy\", \"easy\", \"easy\", \"easy\", \"easy\", \"easy\", \"element\", \"element\", \"element\", \"element\", \"email\", \"email\", \"email\", \"email\", \"emp\", \"employee\", \"employee\", \"employee\", \"endl\", \"enemy\", \"error\", \"error\", \"error\", \"error\", \"error\", \"error\", \"example\", \"example\", \"example\", \"example\", \"example\", \"example\", \"exe\", \"exe\", \"exe\", \"executable\", \"executable\", \"experience\", \"experience\", \"experience\", \"experience\", \"experience\", \"feature\", \"feature\", \"feature\", \"feature\", \"feature\", \"feature\", \"field\", \"field\", \"field\", \"field\", \"field\", \"file\", \"file\", \"file\", \"file\", \"file\", \"file\", \"filename\", \"filename\", \"filename\", \"filename\", \"filename\", \"filter\", \"filter\", \"filter\", \"filter\", \"filter\", \"filter\", \"find\", \"find\", \"find\", \"find\", \"find\", \"find\", \"findviewbyid\", \"firebase\", \"firebase\", \"firstname\", \"firstname\", \"firstname\", \"fmt\", \"folder\", \"folder\", \"folder\", \"folder\", \"font\", \"font\", \"font\", \"foo\", \"foo\", \"foo\", \"foo\", \"foo\", \"footer\", \"foreign\", \"form\", \"form\", \"form\", \"form\", \"form\", \"formula\", \"fruit\", \"ftp\", \"function\", \"function\", \"function\", \"function\", \"function\", \"function\", \"gemicrosoft\", \"geo\", \"get\", \"get\", \"get\", \"get\", \"get\", \"get\", \"getelementbyid\", \"ggplot\", \"ggplot\", \"git\", \"git\", \"gl\", \"gl\", \"go\", \"go\", \"go\", \"go\", \"go\", \"go\", \"good\", \"good\", \"good\", \"good\", \"good\", \"good\", \"gradient\", \"gradle\", \"graphql\", \"grep\", \"grep\", \"group\", \"group\", \"group\", \"group\", \"group\", \"group\", \"groupby\", \"gulp\", \"hear\", \"hear\", \"hear\", \"height\", \"histogram\", \"host\", \"host\", \"host\", \"host\", \"href\", \"html\", \"html\", \"html\", \"html\", \"html\", \"http\", \"http\", \"http\", \"http\", \"http\", \"http\", \"https\", \"https\", \"https\", \"https\", \"https\", \"https\", \"icon\", \"icon\", \"icon\", \"iframe\", \"iis\", \"image\", \"image\", \"image\", \"image\", \"image\", \"image\", \"imageview\", \"img\", \"import\", \"import\", \"import\", \"import\", \"import\", \"import\", \"index\", \"index\", \"index\", \"index\", \"index\", \"index\", \"indexpath\", \"init\", \"init\", \"init\", \"init\", \"init\", \"input\", \"input\", \"input\", \"input\", \"input\", \"input\", \"insert\", \"insert\", \"insert\", \"insert\", \"insert\", \"insert\", \"install\", \"install\", \"install\", \"int\", \"int\", \"int\", \"invoice\", \"iostream\", \"ip\", \"iter\", \"iterator\", \"iterator\", \"java\", \"java\", \"java\", \"java\", \"java\", \"java\", \"javascript\", \"javascript\", \"javascript\", \"javascript\", \"javascript\", \"join\", \"join\", \"join\", \"join\", \"jquery\", \"jquery\", \"key\", \"key\", \"key\", \"key\", \"key\", \"key\", \"know\", \"know\", \"know\", \"know\", \"know\", \"know\", \"kubernete\", \"label\", \"label\", \"label\", \"label\", \"label\", \"language\", \"language\", \"language\", \"language\", \"language\", \"language\", \"lastname\", \"lastname\", \"layout\", \"layout\", \"layout\", \"layout\", \"lib\", \"lib\", \"like\", \"like\", \"like\", \"like\", \"like\", \"like\", \"line\", \"line\", \"line\", \"line\", \"line\", \"line\", \"list\", \"list\", \"list\", \"list\", \"list\", \"list\", \"localhost\", \"localhost\", \"localhost\", \"localhost\", \"log\", \"log\", \"log\", \"log\", \"log\", \"log\", \"logger\", \"login\", \"login\", \"logo\", \"logout\", \"look\", \"look\", \"look\", \"look\", \"look\", \"look\", \"lot\", \"lot\", \"lot\", \"lot\", \"lot\", \"lot\", \"mail\", \"mail\", \"mail\", \"main\", \"main\", \"main\", \"main\", \"main\", \"main\", \"make\", \"make\", \"make\", \"make\", \"make\", \"make\", \"malloc\", \"margin\", \"margin\", \"mat\", \"match\", \"match\", \"match\", \"match\", \"match\", \"match\", \"maven\", \"menu\", \"menu\", \"menu\", \"menu\", \"menu\", \"menu\", \"message\", \"message\", \"message\", \"message\", \"message\", \"message\", \"method\", \"method\", \"method\", \"method\", \"method\", \"method\", \"middleware\", \"mindotjs\", \"modal\", \"model\", \"model\", \"model\", \"model\", \"model\", \"model\", \"module\", \"module\", \"module\", \"module\", \"module\", \"month\", \"month\", \"month\", \"mov\", \"mpi\", \"mq\", \"much\", \"much\", \"much\", \"much\", \"much\", \"much\", \"mutex\", \"myapp\", \"myclass\", \"mysqli\", \"na\", \"name\", \"name\", \"name\", \"name\", \"name\", \"name\", \"nan\", \"nav\", \"navbar\", \"need\", \"need\", \"need\", \"need\", \"need\", \"need\", \"neo\", \"new\", \"new\", \"new\", \"new\", \"new\", \"new\", \"ng\", \"nginx\", \"nice\", \"nice\", \"nice\", \"nice\", \"nice\", \"nice\", \"nil\", \"nil\", \"node\", \"node\", \"node\", \"node\", \"node\", \"node\", \"nodedotjs\", \"npm\", \"nsstre\", \"null\", \"null\", \"null\", \"null\", \"null\", \"number\", \"number\", \"number\", \"number\", \"number\", \"number\", \"oauth\", \"object\", \"object\", \"object\", \"object\", \"object\", \"object\", \"objectid\", \"observablecollection\", \"often\", \"often\", \"often\", \"often\", \"onclick\", \"opacity\", \"open\", \"open\", \"open\", \"open\", \"open\", \"open\", \"opencv\", \"order\", \"order\", \"order\", \"order\", \"order\", \"order\", \"org\", \"org\", \"org\", \"org\", \"org\", \"org\", \"output\", \"output\", \"output\", \"output\", \"output\", \"output\", \"package\", \"package\", \"package\", \"package\", \"package\", \"package\", \"padding\", \"padding\", \"page\", \"page\", \"page\", \"page\", \"panda\", \"pandas\", \"password\", \"password\", \"password\", \"password\", \"path\", \"path\", \"path\", \"path\", \"path\", \"path\", \"pd\", \"performance\", \"performance\", \"performance\", \"php\", \"php\", \"php\", \"php\", \"php\", \"php\", \"picker\", \"pie\", \"pip\", \"point\", \"point\", \"point\", \"point\", \"point\", \"point\", \"polygon\", \"polygon\", \"port\", \"port\", \"port\", \"possible\", \"possible\", \"possible\", \"possible\", \"possible\", \"possible\", \"practice\", \"practice\", \"practice\", \"practice\", \"practice\", \"practice\", \"price\", \"price\", \"price\", \"print\", \"print\", \"print\", \"print\", \"print\", \"print\", \"printf\", \"printf\", \"println\", \"println\", \"private\", \"private\", \"private\", \"private\", \"private\", \"problem\", \"problem\", \"problem\", \"problem\", \"problem\", \"problem\", \"product\", \"product\", \"product\", \"product\", \"project\", \"project\", \"project\", \"project\", \"project\", \"project\", \"proxy\", \"proxy\", \"proxy\", \"proxy\", \"pthread\", \"ptr\", \"pub\", \"public\", \"public\", \"public\", \"public\", \"public\", \"py\", \"pygame\", \"python\", \"python\", \"python\", \"python\", \"python\", \"quantity\", \"query\", \"query\", \"query\", \"query\", \"question\", \"question\", \"question\", \"question\", \"question\", \"question\", \"radio\", \"radio\", \"radio\", \"radius\", \"rb\", \"rb\", \"really\", \"really\", \"really\", \"really\", \"really\", \"really\", \"record\", \"record\", \"record\", \"record\", \"record\", \"record\", \"redirect\", \"redirect\", \"redirect\", \"redirect\", \"redis\", \"remote\", \"remote\", \"remote\", \"remote\", \"repo\", \"request\", \"request\", \"request\", \"request\", \"request\", \"request\", \"response\", \"response\", \"response\", \"response\", \"response\", \"response\", \"result\", \"result\", \"result\", \"result\", \"result\", \"result\", \"return\", \"return\", \"return\", \"return\", \"return\", \"return\", \"rewriterule\", \"root\", \"root\", \"root\", \"root\", \"root\", \"root\", \"route\", \"route\", \"route\", \"route\", \"router\", \"router\", \"row\", \"row\", \"row\", \"row\", \"run\", \"run\", \"run\", \"run\", \"run\", \"run\", \"savedinstancestate\", \"scanner\", \"scheduler\", \"script\", \"script\", \"script\", \"script\", \"script\", \"script\", \"see\", \"see\", \"see\", \"see\", \"see\", \"see\", \"seemicrosoft\", \"seemicrosoft\", \"seemicrosoft\", \"seemicrosoft\", \"seemicrosoft\", \"seemicrosoft\", \"select\", \"select\", \"select\", \"select\", \"select\", \"select\", \"selenium\", \"selenium\", \"self\", \"self\", \"self\", \"self\", \"send\", \"send\", \"send\", \"send\", \"send\", \"send\", \"sequelize\", \"server\", \"server\", \"server\", \"server\", \"server\", \"service\", \"service\", \"service\", \"service\", \"service\", \"session\", \"session\", \"session\", \"session\", \"set\", \"set\", \"set\", \"set\", \"set\", \"set\", \"sheet\", \"sheet\", \"sheet\", \"sheet\", \"sheet\", \"shell\", \"shell\", \"shell\", \"show\", \"show\", \"show\", \"show\", \"show\", \"show\", \"silverlight\", \"sizeof\", \"smtp\", \"socket\", \"socket\", \"socket\", \"solution\", \"solution\", \"solution\", \"solution\", \"solution\", \"solution\", \"span\", \"sprite\", \"sql\", \"sql\", \"sql\", \"ssl\", \"static\", \"static\", \"static\", \"static\", \"static\", \"static\", \"staticresource\", \"std\", \"stdio\", \"stmt\", \"stock\", \"string\", \"string\", \"string\", \"string\", \"string\", \"string\", \"struct\", \"struct\", \"studio\", \"studio\", \"studio\", \"studio\", \"studio\", \"style\", \"style\", \"stylesheet\", \"subplot\", \"subprocess\", \"subscriber\", \"svg\", \"system\", \"system\", \"system\", \"system\", \"system\", \"system\", \"table\", \"table\", \"table\", \"tableview\", \"tbl\", \"tcp\", \"technique\", \"technique\", \"tensorflow\", \"test\", \"test\", \"test\", \"test\", \"test\", \"test\", \"text\", \"text\", \"text\", \"text\", \"text\", \"text\", \"textarea\", \"texture\", \"texture\", \"textview\", \"thank\", \"thank\", \"thank\", \"thank\", \"thank\", \"thank\", \"thing\", \"thing\", \"thing\", \"thing\", \"thing\", \"thing\", \"think\", \"think\", \"think\", \"think\", \"think\", \"think\", \"thread\", \"thread\", \"thread\", \"thread\", \"thread\", \"tibble\", \"ticket\", \"time\", \"time\", \"time\", \"time\", \"time\", \"time\", \"timestamp\", \"timestamp\", \"timestamp\", \"title\", \"title\", \"title\", \"title\", \"title\", \"title\", \"toggle\", \"toggle\", \"token\", \"token\", \"token\", \"token\", \"token\", \"tolist\", \"tomcat\", \"tooltip\", \"tr\", \"tr\", \"traceback\", \"treeview\", \"try\", \"try\", \"try\", \"try\", \"try\", \"try\", \"txt\", \"txt\", \"txt\", \"txt\", \"txt\", \"type\", \"type\", \"type\", \"type\", \"type\", \"type\", \"typedef\", \"typename\", \"uiimage\", \"uint\", \"uitableview\", \"unity\", \"unsigned\", \"url\", \"url\", \"url\", \"url\", \"url\", \"use\", \"use\", \"use\", \"use\", \"use\", \"use\", \"user\", \"user\", \"user\", \"user\", \"user\", \"user\", \"usercontrol\", \"usercontrol\", \"username\", \"username\", \"username\", \"username\", \"usr\", \"usr\", \"utc\", \"value\", \"value\", \"value\", \"value\", \"value\", \"value\", \"var\", \"var\", \"var\", \"var\", \"var\", \"varchar\", \"vec\", \"vector\", \"vector\", \"vector\", \"version\", \"version\", \"version\", \"version\", \"version\", \"version\", \"view\", \"view\", \"view\", \"view\", \"view\", \"view\", \"viewcontroller\", \"visual\", \"visual\", \"visual\", \"visual\", \"visual\", \"void\", \"void\", \"void\", \"want\", \"want\", \"want\", \"want\", \"want\", \"want\", \"way\", \"way\", \"way\", \"way\", \"way\", \"way\", \"web\", \"web\", \"web\", \"web\", \"web\", \"websocket\", \"webview\", \"well\", \"well\", \"well\", \"well\", \"well\", \"well\", \"width\", \"window\", \"window\", \"window\", \"window\", \"window\", \"winformicrosoft\", \"wonder\", \"wonder\", \"wonder\", \"wonder\", \"wonder\", \"wonder\", \"work\", \"work\", \"work\", \"work\", \"work\", \"work\", \"workbook\", \"workbook\", \"wpf\", \"wpf\", \"writeline\", \"xaml\", \"xaml\", \"xlsx\", \"xsl\", \"xsl\", \"xsl\", \"yaml\", \"year\", \"year\", \"yml\"]}, \"R\": 30, \"lambda.step\": 0.01, \"plot.opts\": {\"xlab\": \"PC1\", \"ylab\": \"PC2\"}, \"topic.order\": [4, 2, 5, 3, 1, 6]};\n",
       "\n",
       "function LDAvis_load_lib(url, callback){\n",
       "  var s = document.createElement('script');\n",
       "  s.src = url;\n",
       "  s.async = true;\n",
       "  s.onreadystatechange = s.onload = callback;\n",
       "  s.onerror = function(){console.warn(\"failed to load library \" + url);};\n",
       "  document.getElementsByTagName(\"head\")[0].appendChild(s);\n",
       "}\n",
       "\n",
       "if(typeof(LDAvis) !== \"undefined\"){\n",
       "   // already loaded: just create the visualization\n",
       "   !function(LDAvis){\n",
       "       new LDAvis(\"#\" + \"ldavis_el2245621614674359369424502837\", ldavis_el2245621614674359369424502837_data);\n",
       "   }(LDAvis);\n",
       "}else if(typeof define === \"function\" && define.amd){\n",
       "   // require.js is available: use it to load d3/LDAvis\n",
       "   require.config({paths: {d3: \"https://d3js.org/d3.v5\"}});\n",
       "   require([\"d3\"], function(d3){\n",
       "      window.d3 = d3;\n",
       "      LDAvis_load_lib(\"https://cdn.jsdelivr.net/gh/bmabey/pyLDAvis@3.3.1/pyLDAvis/js/ldavis.v3.0.0.js\", function(){\n",
       "        new LDAvis(\"#\" + \"ldavis_el2245621614674359369424502837\", ldavis_el2245621614674359369424502837_data);\n",
       "      });\n",
       "    });\n",
       "}else{\n",
       "    // require.js not available: dynamically load d3 & LDAvis\n",
       "    LDAvis_load_lib(\"https://d3js.org/d3.v5.js\", function(){\n",
       "         LDAvis_load_lib(\"https://cdn.jsdelivr.net/gh/bmabey/pyLDAvis@3.3.1/pyLDAvis/js/ldavis.v3.0.0.js\", function(){\n",
       "                 new LDAvis(\"#\" + \"ldavis_el2245621614674359369424502837\", ldavis_el2245621614674359369424502837_data);\n",
       "            })\n",
       "         });\n",
       "}\n",
       "</script>"
      ],
      "text/plain": [
       "PreparedData(topic_coordinates=              x         y  topics  cluster       Freq\n",
       "topic                                                \n",
       "3     -0.004047 -0.052697       1        1  20.153675\n",
       "1      0.142668 -0.105888       2        1  19.283481\n",
       "4      0.128340  0.231296       3        1  17.476321\n",
       "2     -0.134320  0.078737       4        1  16.560602\n",
       "0      0.085342 -0.122733       5        1  16.483207\n",
       "5     -0.217984 -0.028715       6        1  10.042714, topic_info=       Term          Freq         Total Category  logprob  loglift\n",
       "38     file  21803.000000  21803.000000  Default  30.0000  30.0000\n",
       "385     div  12698.000000  12698.000000  Default  29.0000  29.0000\n",
       "31   string  16657.000000  16657.000000  Default  28.0000  28.0000\n",
       "143     int  10624.000000  10624.000000  Default  27.0000  27.0000\n",
       "84   public  10502.000000  10502.000000  Default  26.0000  26.0000\n",
       "..      ...           ...           ...      ...      ...      ...\n",
       "25     name   1680.476460  21129.118743   Topic6  -5.2673  -0.2333\n",
       "619    test   1422.993911   9056.444013   Topic6  -5.4336   0.4476\n",
       "39     find   1305.013152   9771.293280   Topic6  -5.5201   0.2851\n",
       "280   build   1254.048592   4489.501673   Topic6  -5.5600   1.0230\n",
       "216    work   1262.442107  16464.543310   Topic6  -5.5533  -0.2698\n",
       "\n",
       "[512 rows x 6 columns], token_table=       Topic      Freq       Term\n",
       "term                             \n",
       "924        1  0.969947    ability\n",
       "924        3  0.015988    ability\n",
       "924        4  0.010659    ability\n",
       "13185      1  0.997437  accordion\n",
       "352        1  0.991011  advantage\n",
       "...      ...       ...        ...\n",
       "4773       6  0.002035        xsl\n",
       "7121       6  0.996859       yaml\n",
       "9          1  0.125153       year\n",
       "9          2  0.874901       year\n",
       "2946       6  0.994092        yml\n",
       "\n",
       "[1362 rows x 3 columns], R=30, lambda_step=0.01, plot_opts={'xlab': 'PC1', 'ylab': 'PC2'}, topic_order=[4, 2, 5, 3, 1, 6])"
      ]
     },
     "execution_count": 54,
     "metadata": {},
     "output_type": "execute_result"
    }
   ],
   "source": [
    "vis_6"
   ]
  },
  {
   "cell_type": "markdown",
   "id": "aff25ed2",
   "metadata": {},
   "source": [
    "#### Modèle fastLDA avec 7 topics :"
   ]
  },
  {
   "cell_type": "code",
   "execution_count": 41,
   "id": "92c0377e",
   "metadata": {},
   "outputs": [],
   "source": [
    "lda_model_7 = gensim.models.LdaMulticore(corpus=corpus,\n",
    "                                       id2word=id2word,\n",
    "                                       num_topics=7, \n",
    "                                       random_state=100,\n",
    "                                       chunksize=100,\n",
    "                                       passes=10,\n",
    "                                       per_word_topics=True)"
   ]
  },
  {
   "cell_type": "code",
   "execution_count": 43,
   "id": "5a071da9",
   "metadata": {},
   "outputs": [],
   "source": [
    "vis_7 = pyLDAvis.gensim_models.prepare(lda_model_7, corpus, id2word)"
   ]
  },
  {
   "cell_type": "code",
   "execution_count": 44,
   "id": "6b5062ae",
   "metadata": {},
   "outputs": [
    {
     "data": {
      "text/html": [
       "\n",
       "<link rel=\"stylesheet\" type=\"text/css\" href=\"https://cdn.jsdelivr.net/gh/bmabey/pyLDAvis@3.3.1/pyLDAvis/js/ldavis.v1.0.0.css\">\n",
       "\n",
       "\n",
       "<div id=\"ldavis_el2245621520332999206229016948\"></div>\n",
       "<script type=\"text/javascript\">\n",
       "\n",
       "var ldavis_el2245621520332999206229016948_data = {\"mdsDat\": {\"x\": [-0.028119008595255193, 0.07901344261025565, 0.1065081451549979, 0.05630996621931932, -0.13064232958412272, -0.24977343108033212, 0.16670321527513685], \"y\": [0.05442165927842467, 0.14965127051744134, 0.02812475437576004, 0.13072883319775375, -0.06432861697887185, -0.04975587298224935, -0.24884202740825848], \"topics\": [1, 2, 3, 4, 5, 6, 7], \"cluster\": [1, 1, 1, 1, 1, 1, 1], \"Freq\": [22.387262710280716, 20.286631330217954, 16.975220230721387, 14.349785550296652, 12.388115975159119, 8.144041743465259, 5.468942459858918]}, \"tinfo\": {\"Term\": [\"file\", \"div\", \"int\", \"string\", \"self\", \"public\", \"java\", \"class\", \"value\", \"table\", \"android\", \"error\", \"user\", \"button\", \"image\", \"return\", \"com\", \"void\", \"server\", \"request\", \"python\", \"log\", \"import\", \"column\", \"html\", \"array\", \"date\", \"name\", \"node\", \"text\", \"gradle\", \"pygame\", \"selenium\", \"webview\", \"opencv\", \"song\", \"middleware\", \"xamarin\", \"gtk\", \"notebook\", \"album\", \"ipad\", \"portrait\", \"hardware\", \"pyqt\", \"vim\", \"audio\", \"qtcore\", \"docx\", \"provision\", \"fe\", \"race\", \"storyboard\", \"recv\", \"daemon\", \"leak\", \"lag\", \"landscape\", \"technique\", \"testng\", \"studio\", \"visual\", \"dll\", \"tk\", \"oauth\", \"sound\", \"signal\", \"ide\", \"dotnet\", \"delphi\", \"cpu\", \"experience\", \"software\", \"often\", \"good\", \"iphone\", \"develop\", \"eclipse\", \"project\", \"device\", \"window\", \"assembly\", \"play\", \"way\", \"thread\", \"really\", \"think\", \"application\", \"language\", \"process\", \"well\", \"use\", \"know\", \"thing\", \"build\", \"possible\", \"library\", \"run\", \"need\", \"solution\", \"time\", \"seemicrosoft\", \"like\", \"question\", \"make\", \"see\", \"work\", \"find\", \"look\", \"want\", \"start\", \"code\", \"also\", \"go\", \"app\", \"change\", \"create\", \"try\", \"call\", \"problem\", \"get\", \"thank\", \"dataframe\", \"country\", \"na\", \"varchar\", \"car\", \"quantity\", \"panda\", \"pd\", \"nan\", \"pandas\", \"mysqli\", \"typename\", \"foreign\", \"dbo\", \"union\", \"polygon\", \"invoice\", \"tolist\", \"latitude\", \"asc\", \"avg\", \"currency\", \"longitude\", \"fruit\", \"rewriterule\", \"tibble\", \"cart\", \"neo\", \"rating\", \"permutation\", \"price\", \"regex\", \"arr\", \"table\", \"query\", \"column\", \"timestamp\", \"age\", \"date\", \"city\", \"dt\", \"product\", \"lastname\", \"row\", \"sql\", \"insert\", \"model\", \"record\", \"select\", \"sum\", \"field\", \"count\", \"year\", \"month\", \"array\", \"list\", \"group\", \"join\", \"value\", \"order\", \"datum\", \"name\", \"number\", \"filter\", \"result\", \"key\", \"match\", \"c\", \"index\", \"like\", \"get\", \"want\", \"item\", \"type\", \"string\", \"use\", \"return\", \"create\", \"try\", \"user\", \"code\", \"time\", \"new\", \"div\", \"css\", \"span\", \"href\", \"img\", \"jquery\", \"prop\", \"btn\", \"nav\", \"onclick\", \"getelementbyid\", \"ng\", \"modal\", \"alt\", \"iframe\", \"footer\", \"nbsp\", \"textarea\", \"usestate\", \"logo\", \"findviewbyid\", \"oncreate\", \"mindotjs\", \"icon\", \"leaflet\", \"drawable\", \"savedinstancestate\", \"apk\", \"imageview\", \"innerhtml\", \"android\", \"height\", \"width\", \"button\", \"layout\", \"toggle\", \"font\", \"radius\", \"border\", \"tr\", \"align\", \"center\", \"style\", \"padding\", \"margin\", \"ajax\", \"image\", \"html\", \"click\", \"form\", \"color\", \"background\", \"react\", \"text\", \"title\", \"content\", \"class\", \"page\", \"javascript\", \"view\", \"component\", \"display\", \"script\", \"function\", \"input\", \"var\", \"type\", \"option\", \"label\", \"name\", \"code\", \"show\", \"element\", \"work\", \"value\", \"std\", \"struct\", \"cout\", \"uint\", \"endl\", \"ptr\", \"writeline\", \"sizeof\", \"unsigned\", \"texture\", \"scanner\", \"grade\", \"malloc\", \"expr\", \"iostream\", \"trait\", \"myclass\", \"rust\", \"buf\", \"jframe\", \"mut\", \"argc\", \"sin\", \"arraylist\", \"typedef\", \"getdata\", \"tap\", \"cin\", \"wm\", \"jpanel\", \"println\", \"void\", \"printf\", \"int\", \"public\", \"char\", \"bool\", \"vec\", \"private\", \"printstacktrace\", \"byte\", \"iterator\", \"static\", \"foo\", \"string\", \"double\", \"boolean\", \"constructor\", \"vector\", \"tostre\", \"args\", \"override\", \"return\", \"new\", \"class\", \"method\", \"null\", \"object\", \"function\", \"system\", \"main\", \"const\", \"call\", \"type\", \"code\", \"get\", \"error\", \"value\", \"use\", \"try\", \"array\", \"test\", \"size\", \"true\", \"var\", \"auth\", \"ip\", \"azure\", \"authentication\", \"nginx\", \"firebase\", \"mongodb\", \"logger\", \"password\", \"ssl\", \"credential\", \"repo\", \"certificate\", \"kubernete\", \"authenticate\", \"dat\", \"pod\", \"authorization\", \"deny\", \"sudo\", \"cmake\", \"picker\", \"appender\", \"levelname\", \"aw\", \"sprite\", \"appdata\", \"ftp\", \"activitythread\", \"hostname\", \"localhost\", \"cookie\", \"login\", \"git\", \"mail\", \"gmail\", \"username\", \"redirect\", \"host\", \"permission\", \"port\", \"request\", \"proxy\", \"tcp\", \"email\", \"token\", \"connection\", \"session\", \"client\", \"route\", \"log\", \"router\", \"response\", \"server\", \"connect\", \"socket\", \"com\", \"send\", \"service\", \"api\", \"http\", \"url\", \"message\", \"user\", \"error\", \"php\", \"https\", \"app\", \"config\", \"get\", \"use\", \"try\", \"console\", \"name\", \"file\", \"work\", \"run\", \"py\", \"dist\", \"npm\", \"pip\", \"traceback\", \"gemicrosoft\", \"gender\", \"nsstre\", \"mov\", \"anaconda\", \"pyt\", \"xsl\", \"dtype\", \"nslog\", \"sequelize\", \"pub\", \"xlsx\", \"yml\", \"nsstring\", \"awk\", \"subprocess\", \"fb\", \"gem\", \"bat\", \"urllib\", \"tkinter\", \"lemmer\", \"teamicrosoft\", \"grep\", \"rb\", \"self\", \"lib\", \"bash\", \"sh\", \"flask\", \"tensorflow\", \"bin\", \"txt\", \"usr\", \"node\", \"nil\", \"file\", \"dir\", \"python\", \"filename\", \"module\", \"folder\", \"directory\", \"shell\", \"alloc\", \"path\", \"command\", \"def\", \"init\", \"package\", \"line\", \"install\", \"import\", \"ruby\", \"print\", \"root\", \"c\", \"error\", \"output\", \"script\", \"run\", \"open\", \"test\", \"try\", \"name\", \"get\", \"r\", \"code\", \"svg\", \"plt\", \"bean\", \"sheet\", \"chart\", \"textview\", \"ax\", \"springframework\", \"formula\", \"servlet\", \"solid\", \"workbook\", \"worksheet\", \"fig\", \"listbox\", \"xaml\", \"rs\", \"yaml\", \"combobox\", \"soap\", \"gradient\", \"vba\", \"sf\", \"datagrid\", \"stock\", \"gridview\", \"subplot\", \"pivot\", \"xsd\", \"datepicker\", \"spring\", \"plot\", \"matplotlib\", \"asp\", \"sun\", \"excel\", \"radio\", \"stroke\", \"blue\", \"axis\", \"tooltip\", \"org\", \"java\", \"dim\", \"grid\", \"calendar\", \"cell\", \"textbox\", \"property\", \"bind\", \"range\", \"sub\", \"lang\", \"set\", \"xml\", \"label\", \"control\", \"value\", \"name\", \"color\", \"true\", \"use\", \"new\", \"class\", \"code\"], \"Freq\": [22430.0, 12822.0, 11273.0, 16676.0, 6874.0, 10558.0, 7994.0, 21342.0, 19687.0, 8915.0, 7161.0, 16377.0, 14991.0, 6962.0, 8471.0, 15778.0, 8485.0, 5617.0, 7377.0, 5654.0, 4588.0, 6883.0, 8706.0, 6977.0, 6638.0, 8819.0, 7072.0, 21470.0, 3807.0, 11444.0, 714.5764888522542, 506.30930394833257, 501.29210319853286, 484.58615305034874, 277.03163438367676, 266.7101920453868, 250.81403993015044, 231.68442423951797, 214.15880433943275, 189.5342347511071, 183.59291850347725, 176.31707057099337, 177.3881520774395, 164.5590817391359, 161.20158751928759, 152.41697311935104, 500.07354835744314, 135.69139579547476, 133.97587283319683, 131.77997553854956, 134.72766659032402, 129.42485185628635, 125.0026705517979, 121.98098388504174, 121.25674427278774, 127.67594049981798, 118.9958564001484, 113.40241783735033, 157.66378117380182, 111.97820570782847, 1091.2587081065544, 1017.9276902210019, 934.0226450511756, 210.71078413153725, 274.3980626973152, 461.89785666205387, 566.2501700476572, 322.5208746769748, 1156.6887149928396, 199.43620301892238, 341.7283649128415, 460.48436179486475, 530.6107702728401, 261.1544224401369, 3060.422277277332, 583.8434756952561, 762.4537761731473, 665.9182576662323, 4653.284967257877, 1494.9996683681165, 4278.423118344889, 530.2989761517204, 1050.5951741262274, 6736.534745196851, 2577.8317757108257, 1556.7074241900123, 2391.7963360475414, 4595.541118798177, 1133.4608773742084, 2602.6904128451283, 2428.102784994295, 18155.196280537126, 4406.854055097383, 1888.407327545494, 3131.103954092499, 2446.6907033189736, 2177.581133964709, 5465.0140521752655, 5221.729914255204, 2250.062465308395, 4959.968624193153, 1777.2800978331854, 7087.571210985051, 3079.8532023511807, 4428.221612727199, 3226.2299517861074, 6734.826071135945, 4552.915924177855, 3196.134357177723, 5168.08356901163, 3209.9491831262085, 6394.810755970997, 2752.2093705862394, 2627.7560389986857, 3909.3356542778706, 3263.6983464447053, 3987.485846653789, 4257.54766696183, 3284.9049126151012, 2991.83382765198, 4142.320397403258, 2882.793906325831, 1543.5516298226607, 1099.6086190600533, 1018.4168143143027, 666.0853798009858, 558.9757802707594, 550.2777474390241, 501.1738693202311, 834.8480268573969, 365.919615858718, 345.61066963425776, 361.51033744003, 312.34161924509385, 283.27297986242706, 302.2401675008887, 269.5156205103799, 254.86996169272965, 243.4146261725116, 237.808727500746, 226.20313923096586, 263.8302664070509, 207.41487955446996, 258.69054585436885, 194.16930665866943, 191.48644076070153, 188.226162970485, 184.11620243357376, 344.31333176807493, 181.88984131984384, 175.67737666546327, 168.49160212954948, 1327.1867510076258, 899.6654233403196, 664.7369360786287, 8576.149272403736, 5502.817470277681, 6578.416297597417, 973.4513995487581, 838.6996614661346, 6589.0168934196545, 743.5607850746521, 441.02817637953035, 2428.405166226934, 445.22207464573546, 6488.723144776752, 2890.747970862733, 2145.8444886012758, 4072.9255710686534, 1877.3643554870998, 6046.113636744067, 1275.5820955473844, 3783.5361703160356, 2981.9367553363563, 1460.705282560825, 1106.32762166821, 6545.897955457627, 7647.217356461699, 2703.6806159413945, 1544.2235913798556, 12392.86762464651, 2985.46865270699, 10060.973147777993, 10929.024273951538, 4417.304566582968, 1980.3634198268599, 4536.834957916358, 3856.6866563129147, 2118.686055101395, 4406.745345816703, 2895.2324139664393, 5487.498892146911, 6343.944774842808, 4635.106845490702, 2695.144482171273, 4115.069283637298, 4440.082914064763, 6090.806052760662, 3780.719601690895, 3446.456347639192, 3613.249005687959, 3395.548785251625, 3492.2358549412465, 3133.950243391486, 3117.710993644837, 12821.94383129712, 2792.0423395465327, 2449.0257402869665, 2199.524501287553, 1844.7847261732777, 2238.3942824545184, 1174.1278977128545, 1097.8078109787234, 906.0230653579166, 852.4497224856432, 764.9537337775564, 589.5311692733861, 534.6005089582244, 510.6920262585909, 588.2033761536102, 408.76483051312465, 399.5948834998154, 409.67825729136933, 386.9094262865972, 345.5847665749841, 337.2801611231242, 333.0963625801933, 328.90717849298125, 1448.5674124147909, 303.18210041644136, 302.3024615171982, 298.42788297507263, 295.7077343177702, 292.1686303048203, 290.0086103095614, 7101.519226093196, 3755.5226227940957, 4909.828383644209, 6774.324330113486, 2471.215208542977, 467.05103754032274, 2101.8495774337343, 471.2742659610259, 1618.755099650506, 1598.3365778722577, 1052.4621051546262, 1533.7226127692793, 3637.518166869911, 1105.1584377861745, 1301.510509639072, 1400.2174063589418, 7509.744508417065, 5902.754514930314, 3952.3234900037496, 5351.665104280792, 3584.3456623648435, 2348.9548903642913, 2193.4078052566933, 7652.748147985047, 3216.020338892563, 3983.3875658715124, 10062.42581948199, 4333.415117967087, 2255.9762893508196, 3668.2206419073723, 2575.4483148314594, 3043.380562054774, 3578.9383194521492, 5843.192959726458, 3814.2063342801353, 4079.760598509002, 4230.694067349141, 2846.5996982953066, 2582.3528390542942, 3825.9950342569314, 3157.0950472773434, 2687.533031772778, 2639.24572883963, 2889.100105671189, 2656.342267387165, 2832.8722648062735, 1558.3021185258594, 983.1806990630455, 591.5437354152835, 509.28262438738193, 484.65175194499375, 425.9488338350741, 405.23379447261084, 384.1173403517849, 356.4685811896357, 316.84352748595956, 254.5066581780085, 250.87351994445098, 243.44337693822706, 239.90394640968663, 236.63179150132655, 255.21008923839997, 213.60399015548086, 211.37312079342914, 200.65074265634146, 193.0583590399564, 193.77714157949544, 188.10652468280304, 604.5178354531766, 181.61106048155227, 177.1540775996208, 178.28323105614257, 173.35684248702015, 173.15085083875888, 171.10327786674063, 1438.3293740787096, 5485.901612663949, 1018.1347027894221, 10758.593211305844, 9852.864071245875, 1988.328565371151, 982.5755283087245, 449.27430212301357, 3441.4043562383404, 264.60126514840266, 1485.9926140174048, 355.20000432585164, 2570.804169859517, 1669.0606152313283, 11841.582425983413, 1433.22493274041, 885.4565159641651, 995.6272935526845, 1127.4647667167355, 892.3383686304205, 1195.683542388128, 1512.699689330698, 8591.529962156823, 7497.99605627733, 8400.935535844159, 3878.017441250623, 3111.7039039939827, 3869.8253608407076, 5506.308972071882, 2565.28945245009, 2478.9335477627574, 2449.2091819036505, 2919.67822662632, 3698.6141754894734, 4142.240000448299, 3757.3240850938682, 3041.160700299008, 3225.370428819982, 3341.621747091716, 2617.211650674299, 2129.9237801264558, 2113.086310316016, 1862.3017286850022, 1955.016749881916, 1868.083532022899, 778.9964181412837, 1188.265389076238, 632.0689477840787, 580.7345883912427, 545.8768854366916, 561.3813213101306, 458.514920639552, 438.37406085580477, 2633.9873605025823, 356.7630013080345, 350.0947585354747, 345.39395349531276, 321.830670517643, 286.2674888741874, 281.936079924283, 282.62427022112297, 257.464887328703, 258.23535539941486, 249.75753967071148, 249.7564869269457, 245.05860617502205, 228.37940183620196, 197.93073013855187, 196.5389560915856, 193.63420209875346, 187.72575959341225, 183.67255572934326, 240.62271825494093, 179.4621772210441, 180.0817754129674, 1296.7124078434956, 700.716590783014, 1854.1675563706274, 923.3959933794981, 684.9893007515135, 332.3490311847009, 1950.783606755047, 1014.712952744513, 1654.116296161828, 1068.6304646068897, 1650.2526797528221, 5148.293195078451, 632.075825710015, 351.18142404481347, 2670.3331284672095, 1551.6625242588213, 2067.477211931432, 1825.4449633513418, 3275.285549121069, 1417.013321413379, 5473.541422774389, 757.3995435465521, 2978.642568605992, 5442.289624554982, 1854.2315631915865, 1088.604148680632, 5578.664578558506, 2783.418395900636, 2876.678018428094, 2956.4705683948646, 3870.2865935058107, 3866.767715588637, 3652.9516200935773, 7716.728213196537, 7299.826709593878, 3436.632521021011, 2626.209970292708, 4461.454714810896, 1578.6949254650021, 4777.550715727468, 4475.7656667742285, 3103.8348572319487, 1922.8242295716425, 2589.0579409693332, 2144.4154694232097, 1942.02814740385, 1867.8674490636927, 1725.1910346244833, 438.07496165366774, 770.555532577059, 376.91185114959853, 288.73319051812365, 272.158878050059, 254.41105636104535, 242.41898650227787, 229.36390981109815, 216.05719219003143, 216.58120574357682, 462.1740484626325, 193.3364400453743, 190.39635366934223, 189.35979973996174, 190.60659273006556, 189.30111120625872, 186.85817023168107, 175.37541103384365, 161.71371698552343, 156.14667278330037, 147.66999380272134, 146.2917206567928, 146.78062259544197, 141.41992641646138, 192.10491899289286, 140.30942739535027, 141.73045581478362, 228.91273401845882, 421.7878477386351, 6802.679726938373, 2024.5591534186817, 528.377913435351, 314.4168062186908, 288.2983170959574, 271.8473489780757, 1195.4091487403166, 914.8340335171871, 935.1701025923156, 3437.9745503962477, 758.5459761190199, 17131.579166272324, 809.8240058703959, 3632.026895199311, 1132.1090742999354, 3021.54581473833, 1766.5071471676158, 1572.7360643939971, 540.9717099401172, 367.9202325763978, 3058.1974807380348, 2355.2545224977043, 1867.6032524965315, 1239.117957121861, 1725.0225973023882, 3743.0550198042065, 1124.601617382764, 3967.455857479919, 621.5530968208711, 2153.4077990571436, 1034.3187205926815, 2657.7851781269183, 3115.045138463558, 1726.888695815331, 1811.5948284992855, 2132.633288493859, 1245.3283605331683, 1476.3099422626324, 1702.2182263008801, 1701.3260867665392, 1595.386516410888, 1203.4956166419877, 1237.9536602781889, 764.2714363730109, 720.8576178598317, 669.4601127359874, 1156.6112377816887, 841.3461502463026, 575.1085005950724, 498.7001783594273, 426.7642937578333, 388.66570351782394, 388.5006651077813, 440.40006050536977, 390.9393916309468, 326.02055189869435, 283.31548970138397, 281.840100020217, 277.29968473817456, 340.8439548742935, 253.90287717860406, 231.62329083585277, 224.61973408688138, 210.17418438223459, 419.9811118269776, 195.51228770552444, 197.86936255974143, 247.92803231140397, 203.81603316019584, 166.98228985872967, 168.35349258867578, 216.2019489498764, 162.7926999678473, 901.7291395887053, 1364.5441840310477, 387.3382493926926, 709.9000589027992, 468.0117920747109, 1218.2763628172283, 533.2726475758602, 335.25545273818693, 642.7246752226723, 716.1905216555375, 294.95520053471915, 2319.009023791535, 4818.2778324468845, 1021.9753402321699, 1193.4380614501931, 400.64166720185796, 1566.6049025372483, 567.6930914233426, 1624.2443297049952, 958.4467477122239, 949.2012918505121, 773.3698242147599, 615.4265372880329, 1696.7976108117423, 938.9841955872478, 930.6629548217745, 785.0082750552274, 1336.5941547045504, 1350.4983618997608, 800.4429811278493, 831.669322400194, 955.1024374627646, 847.2991001554745, 755.0326729324323, 745.4617671096902], \"Total\": [22430.0, 12822.0, 11273.0, 16676.0, 6874.0, 10558.0, 7994.0, 21342.0, 19687.0, 8915.0, 7161.0, 16377.0, 14991.0, 6962.0, 8471.0, 15778.0, 8485.0, 5617.0, 7377.0, 5654.0, 4588.0, 6883.0, 8706.0, 6977.0, 6638.0, 8819.0, 7072.0, 21470.0, 3807.0, 11444.0, 715.3442016159606, 507.0772990774342, 502.0613137594993, 485.3547304549675, 277.80073717098907, 267.4768511180624, 251.5955349891001, 232.45951710267752, 214.9946748044769, 190.31444678238552, 184.36225626310454, 177.082803270578, 178.16237469228793, 165.32786216395277, 161.97223901498404, 153.1831040387525, 502.724712150814, 136.46216706282908, 134.7477961171591, 132.54864338544567, 135.51868107795178, 130.19502442873002, 125.77277556499774, 122.75621361972351, 122.02767868730247, 128.5243419238439, 119.79013461365373, 114.17059138320346, 158.7469949359253, 112.74952285955155, 1102.34158208521, 1030.2100834406624, 956.9638763958143, 212.93244366169117, 278.16552701081974, 476.6980198537171, 588.8232318868073, 332.2106702564081, 1241.3732629313763, 202.76823393051598, 353.9661168093147, 484.46517072761515, 567.4819159330318, 269.22851037185666, 3664.7724258139365, 629.4421386490311, 841.5404360988413, 733.9136624078956, 5964.198835423493, 1797.2873037403997, 5745.4069575311805, 582.853316445412, 1241.1627479245221, 10167.042204575233, 3517.382516382423, 2010.0715950896488, 3301.1207844700657, 6999.3255486362605, 1414.6802841207762, 3728.858539596522, 3452.2130598441777, 36787.64482514688, 7021.794535757547, 2582.135312132237, 4857.806277788398, 3640.254782240495, 3273.947918545279, 10574.539428587303, 9977.968765690404, 3420.4362032444224, 9722.735039379642, 2575.56616441643, 15945.512334094758, 5340.612328449303, 8844.977419745557, 5801.353508346086, 16725.84122947362, 9841.392212905159, 5958.28253958407, 13570.95467026372, 6425.617836096524, 20516.628519070273, 5209.070309103501, 4812.59107162408, 10337.123443312941, 7633.319129134636, 11922.880666009281, 18209.649879616143, 8699.647156874305, 6814.621979568985, 23446.265393382186, 6263.71185889738, 1544.3507818372866, 1100.4384606907345, 1019.3778877778442, 666.8921490815545, 559.787848579834, 551.1103361874808, 501.9744292501395, 836.4279478275969, 366.7210607067916, 346.40997924973453, 362.36676061322214, 313.1556544436277, 284.0741634065653, 303.12049357025006, 270.31579614796453, 255.67270672215898, 244.23277429818722, 238.61456976100771, 227.00420357920217, 264.81176184293923, 208.21731400192948, 259.71339565011294, 194.97069777480013, 192.28572885149507, 189.02789175385684, 184.9149288399522, 345.8141158017647, 182.69103649501506, 176.50089112326177, 169.29065656941592, 1335.3064162663925, 911.8815262751878, 673.0971296808278, 8915.398522542724, 5743.9244564234405, 6977.948870911073, 995.1711292722657, 858.6644416592297, 7072.892216554935, 769.4328937725336, 449.2361652125146, 2644.9122715719677, 455.5217847413415, 7458.893688300363, 3279.1180656921483, 2403.7310666212047, 4769.764388374857, 2123.172373543527, 7593.004938843598, 1420.0908276907658, 4696.256790749295, 3616.988271454937, 1663.5806737129435, 1226.4372856620291, 8819.1501441699, 10796.955205041804, 3389.4317026736276, 1789.1363302609525, 19687.56701171202, 3872.070871427654, 18052.895712904443, 21470.345539498336, 6891.538962515984, 2531.407278487896, 7894.397750086061, 6362.434385394419, 2849.0486225152167, 9662.577454667835, 5075.557385317835, 15945.512334094758, 23446.265393382186, 13570.95467026372, 5107.877821234648, 13912.398116405453, 16676.195167147973, 36787.64482514688, 15778.31915316591, 11922.880666009281, 18209.649879616143, 14991.087473530015, 20516.628519070273, 9722.735039379642, 17274.056451526267, 12822.743411162768, 2792.9331527667487, 2449.8240038580734, 2200.321251431199, 1845.5823867291895, 2239.5410492955193, 1174.9687313951374, 1098.6035523650053, 906.8184520971892, 853.3107679331619, 765.7493916888873, 590.3279821621197, 535.4245429602413, 511.50312955787876, 589.3288937383468, 409.56348267331225, 400.3930386305044, 410.5171267125432, 387.70794511918575, 346.3811850399881, 338.07652612710257, 333.8967130337, 329.7026761745403, 1452.1946630556731, 303.9786884408509, 303.09803212551327, 299.2236488589946, 296.507451379025, 292.96651453067653, 290.8044374412147, 7161.4258949253, 3783.4288627288515, 4992.626322326237, 6962.94007231652, 2515.359021513185, 468.98141209419714, 2145.3150065131454, 473.8132287477693, 1648.180438241557, 1638.789567237233, 1070.9378376038578, 1578.0476853090217, 3811.4845440096033, 1131.2257098436457, 1342.667475159095, 1456.0876765333599, 8471.581767995727, 6638.292943665712, 4531.759127369488, 6279.483170697282, 4438.083990193504, 2744.1103386414215, 2547.171168835889, 11444.975934797754, 4204.142037063893, 5655.376364778646, 21342.524648006893, 6973.405252291261, 2890.668112763486, 5925.304718681718, 3518.287971083796, 4658.8364722636115, 6567.316325804471, 16434.60265748076, 7674.726980036197, 8997.210998470939, 13912.398116405453, 5332.595079389411, 3961.189746516976, 21470.345539498336, 20516.628519070273, 6288.888527101098, 5173.749198596169, 16725.84122947362, 19687.56701171202, 2833.6730338731004, 1559.3289878510666, 983.9778095508464, 592.348892416262, 510.07948154984086, 485.44930518686266, 426.74693935341753, 406.0313939536753, 384.91606637553593, 357.26670617858275, 317.6471441680963, 255.3051021678879, 251.67053567434232, 244.2444529172168, 240.7010560898483, 237.43208458905005, 256.12393427847593, 214.40473106159286, 212.17079058839585, 201.44800250987493, 193.8556155633851, 194.57767975848557, 188.90814782051052, 607.1842931460053, 182.4173517493677, 177.95657491659335, 179.09228871698178, 174.15480010469372, 173.95318891339713, 171.9007554784581, 1449.8370799536317, 5617.079765569746, 1028.6036040922047, 11273.144484157721, 10558.349217512538, 2069.692385700661, 1023.9920815856979, 461.1809609659411, 3853.2617380992065, 268.6612016868357, 1623.1579070734444, 368.20886847935054, 3067.959662193853, 1972.7325647563998, 16676.195167147973, 1695.3369621917495, 1007.4440784310366, 1158.441382530849, 1338.2097290835616, 1031.8421468018541, 1470.3902225195968, 1980.9957294512321, 15778.31915316591, 17274.056451526267, 21342.524648006893, 7787.401179520098, 6343.686191762298, 9080.742915748173, 16434.60265748076, 5293.918847243967, 5331.063041019542, 5254.416232976526, 8699.647156874305, 13912.398116405453, 20516.628519070273, 23446.265393382186, 16377.994028172474, 19687.56701171202, 36787.64482514688, 18209.649879616143, 8819.1501441699, 9112.103207509106, 5009.170645053537, 8167.41348078369, 8997.210998470939, 779.9598477871675, 1189.753174339997, 632.8619874679143, 581.5262261833956, 546.6682443103958, 562.2664040254818, 459.30720459303825, 439.1661522079538, 2639.6536473344313, 357.55742370713546, 350.8856199102274, 346.20501258181145, 322.62221011524673, 287.0577710704312, 282.72644619250707, 283.4235468277961, 258.2603440984545, 259.0551055908947, 250.55127271238962, 250.5534184651331, 245.8553585512936, 229.1833940815183, 198.72048113207634, 197.33248934576216, 194.43815794135256, 188.53215339961395, 184.4721665249693, 241.67245700623096, 180.2529068734298, 180.87529542463113, 1304.4210203054884, 703.8350365972783, 1881.5517640475573, 935.0258898198304, 693.0625826789218, 334.26289521525825, 2004.2234183437265, 1036.2212181210252, 1734.9262762638598, 1110.72115597262, 1741.0948198888086, 5654.578845070707, 651.0214469054671, 356.763222425826, 2963.3369479175735, 1695.778417510155, 2305.235320552753, 2036.9381471499855, 3809.9789746728898, 1586.0935216174037, 6883.635925440647, 809.9122906382341, 3623.528970402339, 7377.188461006974, 2261.653061370506, 1234.912116112686, 8485.974432284898, 3726.8150112710505, 3892.8164817162387, 4041.7213582187383, 6030.5687436545695, 6090.299422386241, 5708.848662962336, 14991.087473530015, 16377.994028172474, 5851.492914825162, 4101.180414005519, 10337.123443312941, 2052.936302358965, 23446.265393382186, 36787.64482514688, 18209.649879616143, 4044.886985533472, 21470.345539498336, 22430.971238536935, 16725.84122947362, 10574.539428587303, 1725.994090462971, 438.87730508289474, 772.1049469035179, 377.7102013993247, 289.53239091435677, 272.95710213521824, 255.2178911400797, 243.2174607428952, 230.16274054456935, 216.85560670632242, 217.38237127400544, 463.91121197908325, 194.13889146625965, 191.19512672479365, 190.16143487973596, 191.41361265826862, 190.1038487644917, 187.66199414132092, 176.17424646859808, 162.51289517462936, 156.94494270850393, 148.47676046440907, 147.09189264756657, 147.5940746646817, 142.21846352644042, 193.19336804111447, 141.10740534023108, 142.54333456717228, 230.2283755811708, 424.29970663337923, 6874.06171339813, 2045.154328217753, 531.7830491789355, 316.30731728645185, 290.09138341849524, 274.40485518537554, 1243.2162933902775, 961.4342097212367, 984.74659293523, 3807.5098668734727, 817.9610859645372, 22430.971238536935, 887.2303903589425, 4588.434765882314, 1309.4207150008017, 3844.7529610919523, 2326.047331869308, 2043.176402123073, 614.2279071332468, 395.11381875899565, 4730.918732055769, 3702.462208667084, 2889.4857414382404, 1803.503009014797, 2810.086644915213, 7737.995966713516, 1671.8481323537317, 8706.391179084612, 789.6918595396811, 5727.689136667618, 1810.9665862444945, 9662.577454667835, 16377.994028172474, 5432.413712215223, 6567.316325804471, 10574.539428587303, 3963.394534595179, 9112.103207509106, 18209.649879616143, 21470.345539498336, 23446.265393382186, 5759.035898615124, 20516.628519070273, 765.0730646650545, 721.6542536770984, 670.2558452760985, 1158.0998728793643, 842.4680257974206, 575.9086797071328, 499.49433179854134, 427.55781481293684, 389.46164469288306, 389.2989239145601, 441.3112223860308, 391.76557192443795, 326.8325019310848, 284.10984970320084, 282.64143792727873, 278.09626879606196, 341.83249765782676, 254.70782311967923, 232.42044550706606, 225.4179068127963, 210.9712811686225, 421.6409933865024, 196.31133828249483, 198.6920669274905, 249.0873389671874, 204.77742263342796, 167.77574299026676, 169.15437772708316, 217.23679860063743, 163.58759366407898, 910.8185339193436, 1385.8569382129554, 390.6567605322429, 729.3069899509461, 477.07150602469727, 1328.6290737900806, 566.4479434584318, 346.55520805502823, 707.229316041858, 803.298092592032, 303.37857668635627, 3310.175412621752, 7994.552499778283, 1337.0735245203848, 1683.8416426159931, 438.854609282102, 2664.361379394781, 736.5602972126292, 3975.55682180879, 1827.3438460366046, 2434.515694512278, 1737.3995950450262, 1061.6925826986856, 10991.663484932438, 2883.8145608891373, 3961.189746516976, 2918.855716149894, 19687.56701171202, 21470.345539498336, 4438.083990193504, 8167.41348078369, 36787.64482514688, 17274.056451526267, 21342.524648006893, 20516.628519070273], \"Category\": [\"Default\", \"Default\", \"Default\", \"Default\", \"Default\", \"Default\", \"Default\", \"Default\", \"Default\", \"Default\", \"Default\", \"Default\", \"Default\", \"Default\", \"Default\", \"Default\", \"Default\", \"Default\", \"Default\", \"Default\", \"Default\", \"Default\", \"Default\", \"Default\", \"Default\", \"Default\", \"Default\", \"Default\", \"Default\", \"Default\", \"Topic1\", \"Topic1\", \"Topic1\", \"Topic1\", \"Topic1\", \"Topic1\", \"Topic1\", \"Topic1\", \"Topic1\", \"Topic1\", \"Topic1\", \"Topic1\", \"Topic1\", \"Topic1\", \"Topic1\", \"Topic1\", \"Topic1\", \"Topic1\", \"Topic1\", \"Topic1\", \"Topic1\", \"Topic1\", \"Topic1\", \"Topic1\", \"Topic1\", \"Topic1\", \"Topic1\", \"Topic1\", \"Topic1\", \"Topic1\", \"Topic1\", \"Topic1\", \"Topic1\", \"Topic1\", \"Topic1\", \"Topic1\", \"Topic1\", \"Topic1\", \"Topic1\", \"Topic1\", \"Topic1\", \"Topic1\", \"Topic1\", \"Topic1\", \"Topic1\", \"Topic1\", \"Topic1\", \"Topic1\", \"Topic1\", \"Topic1\", \"Topic1\", \"Topic1\", \"Topic1\", \"Topic1\", \"Topic1\", \"Topic1\", \"Topic1\", \"Topic1\", \"Topic1\", \"Topic1\", \"Topic1\", \"Topic1\", \"Topic1\", \"Topic1\", \"Topic1\", \"Topic1\", \"Topic1\", \"Topic1\", \"Topic1\", \"Topic1\", \"Topic1\", \"Topic1\", \"Topic1\", \"Topic1\", \"Topic1\", \"Topic1\", \"Topic1\", \"Topic1\", \"Topic1\", \"Topic1\", \"Topic1\", \"Topic1\", \"Topic1\", \"Topic1\", \"Topic1\", \"Topic1\", \"Topic1\", \"Topic1\", \"Topic1\", \"Topic1\", \"Topic1\", \"Topic1\", \"Topic2\", \"Topic2\", \"Topic2\", \"Topic2\", \"Topic2\", \"Topic2\", \"Topic2\", \"Topic2\", \"Topic2\", \"Topic2\", \"Topic2\", \"Topic2\", \"Topic2\", \"Topic2\", \"Topic2\", \"Topic2\", \"Topic2\", \"Topic2\", \"Topic2\", \"Topic2\", \"Topic2\", \"Topic2\", \"Topic2\", \"Topic2\", \"Topic2\", \"Topic2\", \"Topic2\", \"Topic2\", \"Topic2\", \"Topic2\", \"Topic2\", \"Topic2\", \"Topic2\", \"Topic2\", \"Topic2\", \"Topic2\", \"Topic2\", \"Topic2\", \"Topic2\", \"Topic2\", \"Topic2\", \"Topic2\", \"Topic2\", \"Topic2\", \"Topic2\", \"Topic2\", \"Topic2\", \"Topic2\", \"Topic2\", \"Topic2\", \"Topic2\", \"Topic2\", \"Topic2\", \"Topic2\", \"Topic2\", \"Topic2\", \"Topic2\", \"Topic2\", \"Topic2\", \"Topic2\", \"Topic2\", \"Topic2\", \"Topic2\", \"Topic2\", \"Topic2\", \"Topic2\", \"Topic2\", \"Topic2\", \"Topic2\", \"Topic2\", \"Topic2\", \"Topic2\", \"Topic2\", \"Topic2\", \"Topic2\", \"Topic2\", \"Topic2\", \"Topic2\", \"Topic2\", \"Topic2\", \"Topic2\", \"Topic2\", \"Topic2\", \"Topic3\", \"Topic3\", \"Topic3\", \"Topic3\", \"Topic3\", \"Topic3\", \"Topic3\", \"Topic3\", \"Topic3\", \"Topic3\", \"Topic3\", \"Topic3\", \"Topic3\", \"Topic3\", \"Topic3\", \"Topic3\", \"Topic3\", \"Topic3\", \"Topic3\", \"Topic3\", \"Topic3\", \"Topic3\", \"Topic3\", \"Topic3\", \"Topic3\", \"Topic3\", \"Topic3\", \"Topic3\", \"Topic3\", \"Topic3\", \"Topic3\", \"Topic3\", \"Topic3\", \"Topic3\", \"Topic3\", \"Topic3\", \"Topic3\", \"Topic3\", \"Topic3\", \"Topic3\", \"Topic3\", \"Topic3\", \"Topic3\", \"Topic3\", \"Topic3\", \"Topic3\", \"Topic3\", \"Topic3\", \"Topic3\", \"Topic3\", \"Topic3\", \"Topic3\", \"Topic3\", \"Topic3\", \"Topic3\", \"Topic3\", \"Topic3\", \"Topic3\", \"Topic3\", \"Topic3\", \"Topic3\", \"Topic3\", \"Topic3\", \"Topic3\", \"Topic3\", \"Topic3\", \"Topic3\", \"Topic3\", \"Topic3\", \"Topic3\", \"Topic3\", \"Topic3\", \"Topic3\", \"Topic3\", \"Topic3\", \"Topic4\", \"Topic4\", \"Topic4\", \"Topic4\", \"Topic4\", \"Topic4\", \"Topic4\", \"Topic4\", \"Topic4\", \"Topic4\", \"Topic4\", \"Topic4\", \"Topic4\", \"Topic4\", \"Topic4\", \"Topic4\", \"Topic4\", \"Topic4\", \"Topic4\", \"Topic4\", \"Topic4\", \"Topic4\", \"Topic4\", \"Topic4\", \"Topic4\", \"Topic4\", \"Topic4\", \"Topic4\", \"Topic4\", \"Topic4\", \"Topic4\", \"Topic4\", \"Topic4\", \"Topic4\", \"Topic4\", \"Topic4\", \"Topic4\", \"Topic4\", \"Topic4\", \"Topic4\", \"Topic4\", \"Topic4\", \"Topic4\", \"Topic4\", \"Topic4\", \"Topic4\", \"Topic4\", \"Topic4\", \"Topic4\", \"Topic4\", \"Topic4\", \"Topic4\", \"Topic4\", \"Topic4\", \"Topic4\", \"Topic4\", \"Topic4\", \"Topic4\", \"Topic4\", \"Topic4\", \"Topic4\", \"Topic4\", \"Topic4\", \"Topic4\", \"Topic4\", \"Topic4\", \"Topic4\", \"Topic4\", \"Topic4\", \"Topic4\", \"Topic4\", \"Topic4\", \"Topic4\", \"Topic4\", \"Topic4\", \"Topic5\", \"Topic5\", \"Topic5\", \"Topic5\", \"Topic5\", \"Topic5\", \"Topic5\", \"Topic5\", \"Topic5\", \"Topic5\", \"Topic5\", \"Topic5\", \"Topic5\", \"Topic5\", \"Topic5\", \"Topic5\", \"Topic5\", \"Topic5\", \"Topic5\", \"Topic5\", \"Topic5\", \"Topic5\", \"Topic5\", \"Topic5\", \"Topic5\", \"Topic5\", \"Topic5\", \"Topic5\", \"Topic5\", \"Topic5\", \"Topic5\", \"Topic5\", \"Topic5\", \"Topic5\", \"Topic5\", \"Topic5\", \"Topic5\", \"Topic5\", \"Topic5\", \"Topic5\", \"Topic5\", \"Topic5\", \"Topic5\", \"Topic5\", \"Topic5\", \"Topic5\", \"Topic5\", \"Topic5\", \"Topic5\", \"Topic5\", \"Topic5\", \"Topic5\", \"Topic5\", \"Topic5\", \"Topic5\", \"Topic5\", \"Topic5\", \"Topic5\", \"Topic5\", \"Topic5\", \"Topic5\", \"Topic5\", \"Topic5\", \"Topic5\", \"Topic5\", \"Topic5\", \"Topic5\", \"Topic5\", \"Topic5\", \"Topic5\", \"Topic5\", \"Topic5\", \"Topic5\", \"Topic5\", \"Topic5\", \"Topic5\", \"Topic5\", \"Topic6\", \"Topic6\", \"Topic6\", \"Topic6\", \"Topic6\", \"Topic6\", \"Topic6\", \"Topic6\", \"Topic6\", \"Topic6\", \"Topic6\", \"Topic6\", \"Topic6\", \"Topic6\", \"Topic6\", \"Topic6\", \"Topic6\", \"Topic6\", \"Topic6\", \"Topic6\", \"Topic6\", \"Topic6\", \"Topic6\", \"Topic6\", \"Topic6\", \"Topic6\", \"Topic6\", \"Topic6\", \"Topic6\", \"Topic6\", \"Topic6\", \"Topic6\", \"Topic6\", \"Topic6\", \"Topic6\", \"Topic6\", \"Topic6\", \"Topic6\", \"Topic6\", \"Topic6\", \"Topic6\", \"Topic6\", \"Topic6\", \"Topic6\", \"Topic6\", \"Topic6\", \"Topic6\", \"Topic6\", \"Topic6\", \"Topic6\", \"Topic6\", \"Topic6\", \"Topic6\", \"Topic6\", \"Topic6\", \"Topic6\", \"Topic6\", \"Topic6\", \"Topic6\", \"Topic6\", \"Topic6\", \"Topic6\", \"Topic6\", \"Topic6\", \"Topic6\", \"Topic6\", \"Topic6\", \"Topic6\", \"Topic6\", \"Topic6\", \"Topic6\", \"Topic6\", \"Topic6\", \"Topic7\", \"Topic7\", \"Topic7\", \"Topic7\", \"Topic7\", \"Topic7\", \"Topic7\", \"Topic7\", \"Topic7\", \"Topic7\", \"Topic7\", \"Topic7\", \"Topic7\", \"Topic7\", \"Topic7\", \"Topic7\", \"Topic7\", \"Topic7\", \"Topic7\", \"Topic7\", \"Topic7\", \"Topic7\", \"Topic7\", \"Topic7\", \"Topic7\", \"Topic7\", \"Topic7\", \"Topic7\", \"Topic7\", \"Topic7\", \"Topic7\", \"Topic7\", \"Topic7\", \"Topic7\", \"Topic7\", \"Topic7\", \"Topic7\", \"Topic7\", \"Topic7\", \"Topic7\", \"Topic7\", \"Topic7\", \"Topic7\", \"Topic7\", \"Topic7\", \"Topic7\", \"Topic7\", \"Topic7\", \"Topic7\", \"Topic7\", \"Topic7\", \"Topic7\", \"Topic7\", \"Topic7\", \"Topic7\", \"Topic7\", \"Topic7\", \"Topic7\", \"Topic7\", \"Topic7\", \"Topic7\", \"Topic7\", \"Topic7\", \"Topic7\", \"Topic7\"], \"logprob\": [30.0, 29.0, 28.0, 27.0, 26.0, 25.0, 24.0, 23.0, 22.0, 21.0, 20.0, 19.0, 18.0, 17.0, 16.0, 15.0, 14.0, 13.0, 12.0, 11.0, 10.0, 9.0, 8.0, 7.0, 6.0, 5.0, 4.0, 3.0, 2.0, 1.0, -6.9241, -7.2686, -7.2786, -7.3124, -7.8716, -7.9096, -7.971, -8.0504, -8.129, -8.2512, -8.283, -8.3235, -8.3174, -8.3925, -8.4131, -8.4691, -7.281, -8.5854, -8.5981, -8.6146, -8.5925, -8.6326, -8.6674, -8.6919, -8.6978, -8.6462, -8.7167, -8.7648, -8.4353, -8.7774, -6.5007, -6.5702, -6.6562, -8.1453, -7.8812, -7.3604, -7.1567, -7.7196, -6.4424, -8.2002, -7.6617, -7.3635, -7.2217, -7.9306, -5.4694, -7.1261, -6.8592, -6.9946, -5.0504, -6.1859, -5.1344, -7.2223, -6.5386, -4.6804, -5.641, -6.1454, -5.7159, -5.0629, -6.4627, -5.6314, -5.7009, -3.689, -5.1048, -5.9523, -5.4466, -5.6932, -5.8098, -4.8896, -4.9352, -5.777, -4.9866, -6.0129, -4.6296, -5.4631, -5.1, -5.4167, -4.6807, -5.0722, -5.426, -4.9455, -5.4217, -4.7325, -5.5756, -5.6219, -5.2246, -5.4051, -5.2048, -5.1393, -5.3986, -5.4921, -5.1667, -5.5292, -6.0554, -6.3945, -6.4712, -6.8958, -7.0711, -7.0868, -7.1803, -6.67, -7.4948, -7.5519, -7.5069, -7.6531, -7.7508, -7.686, -7.8006, -7.8565, -7.9024, -7.9257, -7.9758, -7.8219, -8.0625, -7.8416, -8.1285, -8.1424, -8.1596, -8.1816, -7.5557, -8.1938, -8.2286, -8.2703, -6.2064, -6.5952, -6.8978, -4.3405, -4.7842, -4.6057, -6.5164, -6.6654, -4.6041, -6.7858, -7.3081, -5.6022, -7.2986, -4.6194, -5.4279, -5.7259, -5.0851, -5.8596, -4.69, -6.2461, -5.1588, -5.3969, -6.1105, -6.3884, -4.6106, -4.4551, -5.4948, -6.0549, -3.9723, -5.3957, -4.1808, -4.098, -5.0039, -5.8062, -4.9772, -5.1396, -5.7387, -5.0063, -5.4264, -4.787, -4.642, -4.9558, -5.498, -5.0748, -4.9988, -4.6827, -5.1595, -5.2521, -5.2048, -5.267, -5.2389, -5.3472, -5.3524, -3.7601, -5.2845, -5.4156, -5.523, -5.6989, -5.5055, -6.1507, -6.2179, -6.4099, -6.4709, -6.5792, -6.8397, -6.9375, -6.9832, -6.8419, -7.2059, -7.2286, -7.2036, -7.2608, -7.3738, -7.3981, -7.4106, -7.4232, -5.9407, -7.5047, -7.5076, -7.5205, -7.5296, -7.5417, -7.5491, -4.3509, -4.988, -4.72, -4.3981, -5.4065, -7.0726, -5.5684, -7.0636, -5.8296, -5.8423, -6.2601, -5.8836, -5.0199, -6.2113, -6.0477, -5.9746, -4.295, -4.5358, -4.9369, -4.6338, -5.0347, -5.4573, -5.5258, -4.2762, -5.1431, -4.9291, -4.0024, -4.8449, -5.4977, -5.0115, -5.3652, -5.1983, -5.0362, -4.546, -4.9725, -4.9052, -4.8689, -5.2651, -5.3625, -4.9694, -5.1616, -5.3226, -5.3408, -5.2503, -5.3343, -5.1019, -5.6996, -6.1602, -6.6682, -6.818, -6.8676, -6.9967, -7.0465, -7.1, -7.1747, -7.2926, -7.5117, -7.526, -7.5561, -7.5707, -7.5845, -7.5089, -7.6869, -7.6974, -7.7494, -7.788, -7.7843, -7.814, -6.6466, -7.8491, -7.874, -7.8676, -7.8956, -7.8968, -7.9087, -5.7797, -4.441, -6.1253, -3.7675, -3.8555, -5.4559, -6.1608, -6.9433, -4.9073, -7.4728, -5.7471, -7.1783, -5.199, -5.631, -3.6716, -5.7833, -6.2649, -6.1476, -6.0233, -6.2571, -5.9645, -5.7293, -3.9925, -4.1286, -4.0149, -4.7879, -5.0081, -4.79, -4.4373, -5.2012, -5.2354, -5.2475, -5.0718, -4.8353, -4.722, -4.8195, -5.031, -4.9722, -4.9368, -5.1811, -5.3871, -5.3951, -5.5214, -5.4728, -5.5183, -6.246, -5.8237, -6.455, -6.5397, -6.6016, -6.5736, -6.776, -6.8209, -5.0277, -7.0269, -7.0458, -7.0593, -7.13, -7.2471, -7.2623, -7.2599, -7.3531, -7.3501, -7.3835, -7.3835, -7.4025, -7.473, -7.6161, -7.6231, -7.638, -7.669, -7.6908, -7.4208, -7.714, -7.7106, -5.7364, -6.3519, -5.3788, -6.0759, -6.3746, -7.0978, -5.328, -5.9816, -5.493, -5.9299, -5.4953, -4.3576, -6.455, -7.0427, -5.014, -5.5569, -5.2699, -5.3944, -4.8098, -5.6477, -4.2963, -6.2741, -4.9048, -4.302, -5.3788, -5.9113, -4.2773, -4.9726, -4.9396, -4.9122, -4.6429, -4.6438, -4.7007, -3.9528, -4.0084, -4.7617, -5.0307, -4.5008, -5.5396, -4.4323, -4.4976, -4.8636, -5.3424, -5.0449, -5.2334, -5.3325, -5.3714, -5.0314, -6.4021, -5.8374, -6.5525, -6.819, -6.8781, -6.9456, -6.9939, -7.0492, -7.109, -7.1066, -6.3486, -7.2201, -7.2354, -7.2409, -7.2343, -7.2412, -7.2542, -7.3176, -7.3987, -7.4337, -7.4896, -7.4989, -7.4956, -7.5328, -7.2265, -7.5407, -7.5306, -7.0512, -6.44, -3.6595, -4.8714, -6.2147, -6.7338, -6.8205, -6.8793, -5.3983, -5.6658, -5.6438, -4.3419, -5.8531, -2.7359, -5.7877, -4.287, -5.4527, -4.471, -5.0078, -5.124, -6.1912, -6.5767, -4.459, -4.7201, -4.9521, -5.3624, -5.0315, -4.2569, -5.4594, -4.1987, -6.0523, -4.8097, -5.543, -4.5993, -4.4405, -5.0305, -4.9826, -4.8194, -5.3574, -5.1872, -5.0448, -5.0454, -5.1097, -5.3915, -5.3633, -5.4474, -5.5059, -5.5799, -5.0331, -5.3513, -5.7318, -5.8743, -6.0301, -6.1236, -6.124, -5.9987, -6.1178, -6.2994, -6.4398, -6.445, -6.4612, -6.2549, -6.5494, -6.6412, -6.6719, -6.7384, -6.0461, -6.8107, -6.7987, -6.5732, -6.7691, -6.9684, -6.9603, -6.7101, -6.9939, -5.282, -4.8678, -6.127, -5.5212, -5.9378, -4.9811, -5.8073, -6.2714, -5.6206, -5.5124, -6.3995, -4.3374, -3.6062, -5.1568, -5.0017, -6.0933, -4.7297, -5.7448, -4.6935, -5.221, -5.2307, -5.4356, -5.664, -4.6498, -5.2415, -5.2504, -5.4206, -4.8885, -4.8781, -5.4012, -5.3629, -5.2245, -5.3443, -5.4596, -5.4723], \"loglift\": [30.0, 29.0, 28.0, 27.0, 26.0, 25.0, 24.0, 23.0, 22.0, 21.0, 20.0, 19.0, 18.0, 17.0, 16.0, 15.0, 14.0, 13.0, 12.0, 11.0, 10.0, 9.0, 8.0, 7.0, 6.0, 5.0, 4.0, 3.0, 2.0, 1.0, 1.4956, 1.4952, 1.4951, 1.4951, 1.4939, 1.4938, 1.4936, 1.4933, 1.4928, 1.4926, 1.4925, 1.4923, 1.4923, 1.492, 1.4919, 1.4917, 1.4914, 1.491, 1.4909, 1.4909, 1.4908, 1.4907, 1.4905, 1.4903, 1.4903, 1.4901, 1.49, 1.4899, 1.4898, 1.4898, 1.4866, 1.4847, 1.4724, 1.4862, 1.483, 1.4651, 1.4576, 1.4671, 1.426, 1.4801, 1.4615, 1.4459, 1.4295, 1.4662, 1.3165, 1.4215, 1.398, 1.3995, 1.2485, 1.3125, 1.2019, 1.4022, 1.33, 1.0851, 1.1859, 1.2411, 1.1745, 1.076, 1.2751, 1.1371, 1.1448, 0.7905, 1.0308, 1.1838, 1.0575, 1.0994, 1.0889, 0.8366, 0.8491, 1.0779, 0.8236, 1.1257, 0.6858, 0.9462, 0.8048, 0.9099, 0.587, 0.7258, 0.8738, 0.5312, 0.8026, 0.3309, 0.8587, 0.8916, 0.5243, 0.647, 0.4014, 0.0434, 0.5227, 0.6735, -0.2368, 0.7207, 1.5947, 1.5945, 1.5943, 1.594, 1.5938, 1.5937, 1.5936, 1.5933, 1.593, 1.5929, 1.5928, 1.5926, 1.5924, 1.5923, 1.5922, 1.5921, 1.5919, 1.5918, 1.5917, 1.5915, 1.5913, 1.5913, 1.5911, 1.591, 1.591, 1.5909, 1.5909, 1.5908, 1.5905, 1.5905, 1.5891, 1.5817, 1.5827, 1.5564, 1.5523, 1.5362, 1.5731, 1.5717, 1.5243, 1.561, 1.5768, 1.5098, 1.5723, 1.4559, 1.4691, 1.4817, 1.4373, 1.4722, 1.3674, 1.4879, 1.3791, 1.4021, 1.4652, 1.4921, 1.2971, 1.2503, 1.3692, 1.448, 1.1323, 1.3352, 1.0106, 0.92, 1.1504, 1.3497, 1.0413, 1.0946, 1.299, 0.8101, 1.0338, 0.5285, 0.288, 0.5209, 0.9559, 0.3771, 0.2719, -0.2032, 0.1665, 0.3541, -0.0221, 0.1102, -0.1755, 0.463, -0.1169, 1.7734, 1.7731, 1.7731, 1.7731, 1.773, 1.7729, 1.7727, 1.7727, 1.7725, 1.7724, 1.7724, 1.7721, 1.7719, 1.7718, 1.7715, 1.7715, 1.7714, 1.7714, 1.7714, 1.7711, 1.7711, 1.771, 1.771, 1.7709, 1.7708, 1.7708, 1.7708, 1.7707, 1.7707, 1.7707, 1.765, 1.766, 1.7567, 1.746, 1.7557, 1.7693, 1.7529, 1.768, 1.7554, 1.7484, 1.756, 1.7449, 1.7267, 1.7501, 1.7423, 1.7343, 1.6529, 1.656, 1.6366, 1.6135, 1.5598, 1.6179, 1.6239, 1.3709, 1.5055, 1.4229, 1.0215, 1.2977, 1.5255, 1.2939, 1.4615, 1.3476, 1.1664, 0.7393, 1.0742, 0.9825, 0.583, 1.1457, 1.3456, 0.0486, -0.0982, 0.9233, 1.1003, 0.0174, -0.2296, 1.9412, 1.9408, 1.9406, 1.9401, 1.9399, 1.9398, 1.9396, 1.9395, 1.9394, 1.9392, 1.9389, 1.9383, 1.9383, 1.9382, 1.9381, 1.9381, 1.9379, 1.9377, 1.9377, 1.9375, 1.9373, 1.9373, 1.9372, 1.937, 1.937, 1.9369, 1.9369, 1.9368, 1.9368, 1.9368, 1.9335, 1.9178, 1.9312, 1.8947, 1.8723, 1.9013, 1.9001, 1.9153, 1.8284, 1.9262, 1.8531, 1.9055, 1.7646, 1.7743, 1.5991, 1.7735, 1.8124, 1.79, 1.7701, 1.7962, 1.7346, 1.6717, 1.3336, 1.1069, 1.0091, 1.2443, 1.2291, 1.0885, 0.8479, 1.2169, 1.1757, 1.1781, 0.8496, 0.6166, 0.3414, 0.1104, 0.2577, 0.1325, -0.4573, 0.0016, 0.5206, 0.48, 0.952, 0.5117, 0.3694, 2.0872, 2.0872, 2.0872, 2.0871, 2.087, 2.0869, 2.0867, 2.0866, 2.0863, 2.0862, 2.0862, 2.0861, 2.086, 2.0857, 2.0856, 2.0856, 2.0853, 2.0853, 2.0853, 2.0852, 2.0852, 2.0849, 2.0845, 2.0844, 2.0843, 2.0841, 2.0841, 2.0841, 2.084, 2.084, 2.0825, 2.084, 2.0738, 2.0759, 2.0767, 2.0827, 2.0614, 2.0675, 2.0407, 2.0498, 2.0348, 1.9946, 2.0589, 2.0727, 1.9843, 1.9996, 1.9796, 1.9788, 1.9372, 1.9757, 1.8592, 2.0214, 1.8925, 1.7842, 1.8898, 1.9623, 1.669, 1.7966, 1.7859, 1.7758, 1.6449, 1.6342, 1.642, 1.4244, 1.2803, 1.5562, 1.6427, 1.2482, 1.8258, 0.4976, -0.0181, 0.3191, 1.3448, -0.0269, -0.2591, -0.0648, 0.3548, 2.5074, 2.5061, 2.5059, 2.5058, 2.5051, 2.505, 2.5047, 2.5046, 2.5044, 2.5042, 2.5042, 2.5041, 2.5037, 2.5037, 2.5037, 2.5037, 2.5037, 2.5036, 2.5033, 2.503, 2.5028, 2.5024, 2.5024, 2.5024, 2.5023, 2.5022, 2.5022, 2.5022, 2.5022, 2.5019, 2.4974, 2.4978, 2.5015, 2.5019, 2.5017, 2.4985, 2.4687, 2.4582, 2.4562, 2.4058, 2.4325, 2.2384, 2.4166, 2.2741, 2.3624, 2.2669, 2.2327, 2.2462, 2.3809, 2.4366, 2.0716, 2.0555, 2.0715, 2.1326, 2.0199, 1.7816, 2.1114, 1.722, 2.2685, 1.5296, 1.9478, 1.2171, 0.8482, 1.3618, 1.22, 0.9068, 1.3502, 0.6878, 0.1379, -0.0274, -0.1797, 0.9423, -0.2999, 2.905, 2.905, 2.9049, 2.9048, 2.9048, 2.9047, 2.9045, 2.9042, 2.904, 2.904, 2.904, 2.904, 2.9036, 2.9033, 2.9032, 2.9032, 2.9032, 2.9029, 2.9026, 2.9025, 2.9023, 2.9021, 2.902, 2.9019, 2.9014, 2.9014, 2.9013, 2.9013, 2.9013, 2.9012, 2.8961, 2.8906, 2.8976, 2.8791, 2.8869, 2.8194, 2.8457, 2.8729, 2.8104, 2.7913, 2.8779, 2.5502, 2.3997, 2.6373, 2.5618, 2.815, 2.375, 2.6457, 2.011, 2.2608, 1.9642, 2.0967, 2.3608, 1.0377, 1.784, 1.4577, 1.5928, 0.2162, 0.1399, 1.1933, 0.6216, -0.745, -0.1088, -0.4356, -0.4089]}, \"token.table\": {\"Topic\": [5, 2, 4, 7, 1, 3, 5, 1, 2, 3, 4, 4, 6, 1, 2, 3, 4, 5, 6, 7, 3, 6, 1, 3, 1, 2, 3, 4, 5, 7, 3, 1, 2, 3, 4, 5, 6, 7, 5, 5, 1, 2, 3, 4, 5, 6, 7, 4, 2, 4, 5, 6, 2, 3, 6, 2, 3, 4, 6, 2, 4, 2, 1, 3, 5, 7, 1, 4, 6, 7, 1, 3, 6, 5, 5, 5, 5, 2, 5, 6, 7, 2, 4, 7, 5, 1, 3, 4, 6, 7, 5, 6, 6, 7, 5, 6, 1, 2, 3, 4, 5, 6, 7, 2, 7, 2, 4, 6, 1, 2, 3, 4, 7, 3, 7, 3, 4, 1, 2, 3, 4, 5, 6, 7, 1, 3, 4, 7, 1, 4, 5, 6, 1, 2, 3, 4, 5, 6, 7, 3, 5, 7, 1, 2, 3, 4, 5, 6, 7, 2, 2, 4, 2, 3, 4, 6, 7, 3, 7, 5, 1, 2, 3, 4, 5, 6, 7, 2, 4, 6, 7, 4, 2, 3, 1, 2, 3, 4, 5, 6, 7, 1, 2, 3, 4, 5, 6, 7, 1, 2, 3, 4, 5, 7, 5, 1, 2, 3, 4, 5, 6, 7, 2, 3, 4, 7, 2, 3, 7, 1, 2, 3, 4, 5, 6, 7, 7, 1, 2, 4, 5, 6, 7, 1, 2, 3, 4, 5, 7, 1, 3, 5, 6, 7, 1, 2, 3, 4, 5, 6, 7, 1, 2, 4, 5, 6, 7, 1, 2, 3, 4, 5, 6, 2, 3, 4, 5, 1, 3, 4, 5, 7, 1, 2, 3, 4, 5, 6, 7, 1, 2, 3, 4, 5, 7, 3, 5, 1, 2, 3, 4, 6, 7, 2, 4, 1, 6, 1, 2, 3, 4, 5, 6, 7, 5, 3, 2, 1, 5, 2, 7, 2, 3, 5, 6, 7, 7, 1, 2, 3, 4, 5, 6, 7, 2, 1, 2, 3, 4, 6, 1, 2, 4, 5, 1, 3, 5, 7, 1, 3, 4, 5, 2, 4, 7, 3, 5, 6, 1, 5, 6, 1, 2, 3, 4, 5, 6, 7, 6, 3, 1, 4, 5, 6, 1, 1, 4, 5, 7, 1, 2, 3, 4, 6, 7, 3, 2, 3, 6, 1, 5, 7, 1, 2, 3, 4, 7, 2, 3, 4, 5, 4, 1, 2, 3, 4, 5, 6, 7, 2, 6, 7, 1, 2, 3, 4, 5, 7, 4, 6, 1, 1, 2, 3, 4, 5, 7, 7, 1, 2, 3, 4, 5, 6, 7, 2, 3, 4, 5, 6, 1, 2, 3, 4, 5, 6, 7, 1, 2, 3, 4, 5, 6, 7, 3, 5, 2, 6, 1, 3, 5, 6, 3, 7, 1, 2, 3, 4, 6, 3, 2, 1, 2, 3, 4, 5, 7, 7, 2, 5, 1, 2, 3, 4, 5, 6, 7, 6, 6, 6, 1, 2, 3, 4, 5, 6, 7, 4, 3, 1, 5, 6, 3, 5, 1, 2, 3, 4, 5, 6, 7, 1, 2, 3, 4, 5, 6, 7, 4, 7, 1, 6, 2, 3, 7, 7, 1, 2, 3, 4, 5, 6, 7, 1, 1, 3, 7, 1, 5, 6, 5, 3, 1, 2, 3, 5, 6, 7, 1, 2, 3, 4, 5, 6, 7, 1, 2, 3, 4, 5, 6, 7, 1, 3, 1, 5, 6, 3, 1, 2, 3, 4, 5, 6, 7, 3, 3, 1, 2, 3, 4, 5, 6, 7, 1, 2, 3, 4, 5, 6, 7, 1, 3, 4, 5, 6, 7, 3, 1, 2, 3, 4, 6, 7, 1, 2, 3, 4, 5, 6, 7, 1, 5, 6, 2, 4, 7, 2, 4, 4, 5, 1, 1, 3, 6, 1, 2, 3, 4, 6, 7, 2, 4, 1, 3, 4, 5, 6, 7, 1, 2, 3, 4, 5, 4, 1, 2, 4, 5, 6, 4, 3, 1, 2, 3, 4, 5, 6, 7, 1, 2, 3, 4, 5, 6, 7, 5, 2, 3, 4, 7, 1, 1, 1, 2, 3, 4, 5, 7, 1, 2, 3, 4, 5, 7, 2, 3, 4, 2, 1, 3, 4, 5, 7, 3, 1, 6, 5, 5, 6, 1, 2, 3, 4, 5, 6, 7, 1, 2, 3, 4, 5, 6, 7, 1, 2, 3, 4, 5, 6, 7, 1, 2, 3, 4, 5, 6, 7, 7, 3, 5, 1, 2, 3, 4, 5, 6, 5, 3, 5, 3, 2, 1, 2, 3, 4, 5, 6, 7, 3, 4, 5, 1, 2, 3, 4, 5, 6, 7, 1, 2, 3, 4, 5, 6, 7, 4, 3, 7, 1, 2, 3, 4, 5, 6, 6, 7, 1, 2, 3, 4, 5, 6, 7, 1, 2, 3, 4, 5, 6, 7, 1, 3, 3, 1, 2, 3, 4, 5, 6, 7, 1, 3, 4, 5, 6, 5, 1, 2, 5, 7, 6, 4, 4, 2, 2, 1, 2, 3, 4, 5, 6, 7, 2, 3, 3, 1, 2, 3, 4, 5, 6, 7, 2, 1, 2, 3, 4, 5, 6, 7, 3, 5, 4, 6, 1, 2, 3, 4, 5, 6, 1, 1, 6, 6, 6, 6, 1, 2, 3, 4, 5, 6, 7, 1, 2, 3, 4, 5, 6, 7, 1, 3, 1, 2, 3, 4, 5, 6, 7, 1, 2, 4, 3, 3, 1, 2, 3, 4, 5, 6, 7, 1, 1, 2, 3, 4, 5, 6, 7, 1, 2, 3, 4, 5, 6, 7, 1, 3, 4, 5, 6, 7, 1, 2, 3, 4, 5, 6, 7, 1, 3, 4, 5, 7, 1, 2, 3, 4, 5, 6, 7, 3, 4, 1, 2, 3, 4, 5, 7, 2, 2, 3, 4, 5, 1, 2, 3, 4, 5, 6, 7, 2, 4, 1, 3, 5, 6, 2, 1, 2, 3, 4, 5, 5, 6, 7, 1, 2, 3, 4, 5, 6, 7, 2, 7, 7, 5, 2, 1, 4, 5, 1, 1, 2, 3, 4, 5, 6, 7, 2, 3, 1, 2, 3, 4, 5, 6, 7, 4, 6, 4, 7, 4, 5, 1, 2, 3, 4, 5, 7, 1, 2, 3, 4, 5, 6, 7, 1, 2, 3, 4, 5, 6, 7, 1, 2, 3, 5, 1, 2, 3, 4, 5, 6, 7, 3, 1, 2, 3, 4, 5, 6, 7, 1, 1, 4, 5, 6, 7, 4, 6, 1, 2, 3, 4, 5, 7, 6, 1, 1, 6, 1, 2, 4, 5, 6, 1, 2, 1, 2, 3, 5, 7, 1, 2, 3, 4, 5, 6, 7, 1, 2, 3, 4, 5, 6, 7, 1, 2, 7, 2, 3, 1, 2, 4, 6, 7, 2, 4, 6, 1, 3, 5, 1, 2, 3, 4, 5, 6, 7, 1, 2, 3, 4, 5, 6, 7, 1, 1, 2, 3, 4, 5, 6, 2, 3, 4, 5, 6, 5, 1, 2, 3, 4, 5, 6, 7, 1, 2, 3, 4, 5, 6, 7, 1, 2, 3, 4, 5, 6, 7, 1, 2, 3, 4, 5, 6, 7, 2, 1, 2, 3, 4, 5, 6, 7, 1, 2, 3, 5, 3, 5, 2, 3, 4, 6, 7, 7, 1, 6, 1, 2, 3, 4, 5, 6, 7, 4, 3, 4, 1, 2, 3, 5, 6, 7, 1, 2, 3, 4, 5, 6, 7, 1, 2, 3, 4, 5, 6, 7, 1, 2, 3, 4, 5, 6, 7, 1, 1, 2, 3, 4, 6, 1, 3, 4, 5, 6, 6, 1, 2, 3, 4, 5, 6, 7, 1, 3, 4, 5, 6, 7, 7, 1, 2, 3, 5, 7, 1, 2, 3, 4, 5, 6, 7, 7, 5, 6, 2, 7, 1, 5, 6, 1, 2, 3, 4, 5, 6, 7, 1, 4, 5, 6, 4, 1, 2, 3, 4, 5, 6, 7, 4, 7, 1, 4, 5, 1, 2, 5, 6, 7, 7, 1, 2, 3, 4, 5, 6, 7, 1, 1, 2, 3, 3, 5, 7, 7, 5, 1, 2, 5, 7, 5, 1, 2, 3, 4, 5, 6, 7, 1, 2, 3, 4, 5, 6, 7, 4, 7, 1, 1, 2, 3, 4, 5, 6, 7, 3, 7, 4, 1, 3, 5, 7, 1, 3, 4, 7, 1, 2, 3, 4, 5, 6, 7, 7, 6, 5, 2, 4, 1, 5, 7, 7, 1, 2, 3, 4, 5, 6, 7, 2, 3, 7, 4, 1, 4, 5, 6, 1, 2, 6, 1, 2, 3, 4, 5, 6, 7, 1, 1, 2, 3, 4, 5, 6, 7, 3, 3, 4, 7, 4, 7, 1, 2, 3, 4, 5, 6, 7, 1, 2, 3, 4, 5, 6, 7, 1, 2, 3, 4, 5, 6, 7, 1, 4, 5, 7, 2, 1, 2, 3, 4, 5, 6, 7, 2, 4, 5, 1, 2, 3, 4, 5, 6, 7, 1, 5, 6, 1, 3, 1, 2, 3, 4, 5, 6, 2, 1, 7, 2, 3, 4, 7, 2, 3, 7, 6, 4, 1, 2, 3, 4, 5, 6, 7, 1, 2, 3, 4, 5, 6, 7, 2, 3, 4, 5, 6, 1, 2, 3, 4, 5, 6, 7, 4, 2, 4, 2, 4, 1, 2, 3, 4, 5, 6, 6, 1, 2, 3, 4, 5, 6, 7, 1, 2, 3, 4, 5, 6, 7, 2, 3, 4, 5, 3, 5, 6, 1, 2, 3, 4, 5, 6, 7, 1, 2, 3, 4, 5, 6, 2, 4, 7, 2, 4, 1, 2, 4, 1, 2, 3, 4, 5, 6, 7, 1, 1, 3, 4, 7, 1, 3, 4, 6, 7, 1, 2, 3, 4, 5, 6, 7, 1, 2, 3, 4, 5, 6, 7, 1, 1, 2, 3, 4, 5, 6, 7, 3, 7, 1, 3, 4, 5, 6, 7, 4, 1, 2, 3, 4, 5, 6, 7, 7, 7, 4, 1, 7, 6, 1, 2, 3, 4, 5, 6, 7, 7, 2, 6, 7, 1, 2, 7, 6], \"Freq\": [0.993049172436872, 0.9770988051849085, 0.0023291985820855987, 0.019798187947727586, 0.0219766985983875, 0.9614805636794531, 0.015795752117591016, 0.9980350844557491, 0.009337610129056829, 0.9823165855767784, 0.0065363270903397806, 0.06580382352017662, 0.9313771944394229, 0.5283092445864161, 0.1862136508898342, 0.09233893410104149, 0.07698110722352938, 0.08408410215437874, 0.019197283596890123, 0.012862180009916381, 0.9990163705189572, 0.9960544865806439, 0.008238582771876246, 0.9917019465400864, 0.2152548191455299, 0.02028838525279707, 0.015339998605773396, 0.017319353264582865, 0.7313715464300993, 0.0002474193323511838, 0.9982885712427635, 0.3781516222995985, 0.000193477422511946, 0.14955804760173425, 9.6738711255973e-05, 0.43155139091289557, 0.03995308774871685, 0.000483693556279865, 0.9974404457113296, 0.9963743992165685, 0.6566346954522609, 0.00014287090849701063, 0.0075721581503415646, 0.004857610888898362, 0.2403088680919719, 0.0031431599869342344, 0.08743699600017052, 0.9970311098415676, 0.0006800915734371815, 0.8133895218308691, 0.019042564056241083, 0.16662243549210945, 0.9879703399052268, 0.010399687788476072, 0.0014856696840680101, 0.7422483904900272, 0.015194207810214428, 0.24151987041609502, 0.0009071168841919061, 0.00329389284699279, 0.9964025862153189, 0.9969345702876268, 0.0041134940996545, 0.020567470498272497, 0.001371164699884833, 0.9735269369182314, 0.9093196951031468, 0.06862790151721862, 0.008578487689652328, 0.013725580303443726, 0.994580110973346, 0.0039783204438933835, 0.0019891602219466917, 0.9987693625641234, 0.9974305686564162, 0.9990950946669263, 0.9959270998018431, 0.994153636993328, 0.9977465434460415, 0.9968439724485972, 0.9990103355192013, 0.10705863837233894, 0.0012448678880504528, 0.8913254078441242, 0.9986379534796155, 0.13119006000984348, 0.8560151415642286, 0.0007288336667213526, 0.0003644168333606763, 0.011661338667541642, 0.005641398319543942, 0.9928861042397338, 0.9959749423136981, 0.9981263195465588, 0.03780516733080291, 0.9612164885172227, 0.0640273587555871, 0.04104317868947891, 0.16417271475791564, 0.13024368704127973, 0.045421117749689995, 0.030645573421477584, 0.5242582024602772, 0.09049398624789487, 0.9091817680843188, 0.0009765700516467422, 0.9599683607687476, 0.039062802065869685, 0.0009926109264122831, 0.09628325986199146, 0.020844829454657945, 0.8784606698748705, 0.0029778327792368492, 0.9822953618642084, 0.01759516089812356, 0.9994506185932988, 0.994481848396054, 0.6445296129481398, 0.02326152866915995, 0.02737861338936525, 0.007204898260359276, 0.10477980612922491, 0.18856248018540278, 0.004117084720205301, 0.012781956914127273, 0.9728649004078443, 0.0014361749341716037, 0.012925574407544434, 0.05421530438690596, 0.9154993445334346, 0.0018482490131899757, 0.028339818202246295, 0.024424125043985258, 0.45608948757984336, 0.02628698203886549, 0.1783168112321466, 0.0332209497420308, 0.27508188291064756, 0.006623491537351934, 0.07063842863747333, 0.015950612918139137, 0.913742254310542, 0.37760152116103374, 0.06609463460200743, 0.06781884246119023, 0.33564579658758553, 0.06919820874853647, 0.07333630761057519, 0.010230299964484628, 0.9985925943518912, 0.9947540724369834, 0.002891726954758673, 0.09608306214757972, 0.05066880230438774, 0.2634777719828163, 0.0018766223075699165, 0.5881334311924118, 0.9720872279595302, 0.02724885971464133, 0.9980713971458305, 0.4275990489565748, 0.14528411314118916, 0.2334502160663653, 0.06157216697597737, 0.07048048049590602, 0.009956350404626129, 0.051615816571351246, 0.03140563324727858, 0.9605292137783049, 0.007730617414714727, 0.998257470013736, 0.9933691169924715, 0.9669459234478058, 0.03249146248144509, 0.04034199393933491, 0.04966610171393148, 0.4714531277788477, 0.3936272834893758, 0.004451207229078765, 0.0050603197972684906, 0.03537538376794176, 0.08782461486010704, 0.00022066486145755536, 0.8720675324802587, 0.0017653188916604428, 0.0008826594458302214, 0.0006619945843726661, 0.03618903727903908, 0.11837335665053667, 0.00446196688039717, 0.0005249372800467258, 0.012860963361144782, 0.8595847960765135, 0.003937029600350444, 0.9965208870925824, 0.3116983862166158, 0.17020340338833814, 0.15387518456385552, 0.20188502200300587, 0.06565406195993455, 0.060341298223013345, 0.03631200902758073, 0.002253224594689113, 0.8075556947365781, 0.009688865757163186, 0.18025796757512905, 0.9426838920275933, 0.020493128087556375, 0.03668699853436666, 0.026750021675339755, 0.0016497810724879144, 0.2264913729515551, 0.002710354619087288, 0.6574377573864338, 0.002828196124264996, 0.08237121211921801, 0.998191013246925, 0.23254795092424912, 0.012424164625453496, 0.005401810706718911, 0.09966340753896391, 0.6360632107161518, 0.013774617302133222, 0.17053749008929822, 0.0008526874504464911, 0.7318900616332382, 0.003979208102083625, 0.061677725582296186, 0.030412519065924848, 0.013639000863215326, 0.0034097502158038314, 0.7691422272506071, 0.19240733360607334, 0.021919822815881774, 0.126014022604907, 0.03537235722243003, 0.002210772326401877, 0.002210772326401877, 0.8197543786298159, 0.003095081256962628, 0.011053861632009384, 0.05856235100875927, 0.0039041567339172844, 0.000867590385314952, 0.896654663223003, 0.000867590385314952, 0.03904156733917284, 0.04326449678962281, 0.002225031263466316, 0.20816403598207092, 0.2637898175687288, 0.47541501329396957, 0.007169545182280352, 0.0015225287920268458, 0.29803501103925506, 0.4660841264592182, 0.2342791178731309, 0.0043161441531694, 0.09927131552289618, 0.8597759153113443, 0.0034529153225355195, 0.03366592439472132, 0.02599296501564554, 0.02599296501564554, 0.7042855759001101, 0.019273695147655538, 0.1472934684219914, 0.06789999024495161, 0.009194790345670532, 0.4121478130432609, 0.00034260001084227844, 0.2970342094002554, 0.0013704000433691138, 0.01987080062885215, 0.2689410085111886, 0.002841574937316404, 0.9959720155293996, 0.0013823655551940025, 0.8244428171177032, 0.0049765159986984095, 0.1611838237356207, 0.0071883008870088135, 0.000552946222077601, 0.9996015581912148, 0.9990062686969611, 0.9661941744108773, 0.031076420814384945, 0.334399052685855, 0.28902411225368857, 0.07246570893418078, 0.10785983991823667, 0.10861469105296771, 0.05426540935233213, 0.033297322276469636, 0.9974760438730605, 0.999665887897881, 0.9972531426485447, 0.9915783148679251, 0.998505604659399, 0.9997728612945892, 0.9965168869689043, 0.9315849582123805, 0.005514010224659712, 0.007776168265545747, 0.004948470714438202, 0.05005024665460354, 0.9964080792991822, 0.08945933249066393, 0.5573067146678451, 0.13986675822843742, 0.08552644542760687, 0.08031952452722149, 0.027917958870151468, 0.019609042539749245, 0.9963034714114756, 0.00034608234457050835, 0.2142249712891447, 0.001038247033711525, 0.13808685548363284, 0.6464818196577097, 0.9814160538982292, 0.004931738964312709, 0.009863477928625419, 0.9977997608775971, 0.9054823360983464, 0.014259564348005455, 0.06773293065302591, 0.010694673261004092, 0.8318091364072407, 0.14132409407855462, 0.0016691822135262355, 0.025037733202893535, 0.017949648661698632, 0.21689158799552516, 0.7643558721773335, 0.0056355148046463716, 0.08115141318690776, 0.9129533983527123, 0.011746416009435847, 0.2182875641753495, 0.7698796826184412, 0.14037839788831177, 0.1397344602833195, 0.6531673773304781, 0.01674237772979865, 0.007083313654914814, 0.003219688024961279, 0.03949483977285836, 0.9980010242663857, 0.9999420240163177, 0.976003403093644, 0.0020899430473097303, 0.0010449715236548651, 0.019854458949442436, 0.994450401871442, 0.932032318198849, 0.03463905763401081, 0.026583462835403644, 0.0064444758388857324, 0.05839547075763142, 0.08316930683662657, 0.0035391194398564497, 0.8452596928857155, 0.000589853239976075, 0.008847798599641125, 0.9963773036802213, 0.9816662908058206, 0.017808005275389036, 0.9941336253768731, 0.9074636896864983, 0.04768953324178294, 0.043601858963915836, 0.019328343172709983, 0.36337285164694766, 0.5100749763278164, 0.08871709516273882, 0.018361926014074482, 0.05838013126437489, 0.039482516519837356, 0.000674914812304912, 0.9010112744270575, 0.9978836993274833, 0.04970083629288205, 0.08187815905252437, 0.01904995199432334, 0.18567597440620923, 0.4457200306364115, 0.1901942322510167, 0.02778117999172154, 0.07376024048641562, 0.008279210666842571, 0.9167344174740228, 0.9495006613357343, 0.0020641318724689875, 0.010320659362344938, 0.004128263744937975, 0.024769582469627852, 0.00825652748987595, 0.9949048876961043, 0.9967889893144365, 0.9961726230374583, 0.0031940331775611288, 0.8057481029260875, 0.145222041806446, 0.03683784931453835, 0.004897517538927064, 0.004258710903414838, 0.9960935894888535, 0.11238924847216883, 0.00044581217164684183, 0.02327139535996514, 0.002942360332869156, 0.09558212960108288, 0.7637654124653694, 0.0016049238179286305, 0.0015273929739218885, 0.002291089460882833, 0.013746536765296996, 0.1176092589919854, 0.8645044232397888, 0.009875929571844098, 0.7821736220900526, 0.120486340776498, 0.006320594925980223, 0.062020837711180936, 0.0035553346458638757, 0.015406450132076794, 0.4626377957002451, 0.21805857886508367, 0.06950236157675548, 0.05659768333077894, 0.07661517635800237, 0.10394870744593691, 0.01259984332678023, 0.9968157324040361, 0.9977476797183414, 0.0034471896001039355, 0.9927906048299334, 0.047720439081003485, 0.006018794118324763, 0.18658261766806766, 0.7596578005057041, 0.9798094888714983, 0.020043676508788976, 0.01267277706397425, 0.0456219974303073, 0.00861748840350249, 0.8460345967909209, 0.08668179511758387, 0.9986241872209058, 0.9962187219221765, 0.03360149143875646, 0.060514534344679884, 0.8522994416124388, 0.023091072315733114, 0.023728067414098164, 0.00668844853283304, 0.9988146594172397, 0.9933134463011134, 0.9972174859536699, 0.08202206211456002, 0.17073731920879484, 0.35553034787490667, 0.3350248323462667, 0.052572004203990996, 0.0038942225336289628, 0.00012169445417590509, 0.9925767992517253, 0.9964935803914562, 0.9952280338394801, 0.17665926451421549, 0.2705761405307057, 0.09779809114705362, 0.16023873896183186, 0.20378511971243882, 0.06802789157416071, 0.022903434341896116, 0.994624672243542, 0.9990213616921922, 0.0010694891028019443, 0.9871384418861946, 0.011764380130821388, 0.0029916572084856177, 0.993230193217225, 0.5460675883091689, 0.14316612189688638, 0.08041406266196666, 0.07085580198380008, 0.12488075364300248, 0.021402192388068644, 0.013298449639188284, 0.8349768128700057, 0.12551939017000086, 0.0073674424665000505, 0.023739536836500163, 0.00436589183200003, 0.00027286823950000187, 0.003547287113500024, 0.9988049507616684, 0.995396145090259, 0.9995188307737967, 0.9946645343864761, 0.0005938800744032045, 0.290407356383167, 0.7084989287630229, 0.9962035725255727, 0.030093540436156623, 0.7977738562683089, 0.07523385109039156, 0.00029503471015839824, 0.08880544775767787, 0.0014751735507919912, 0.006490763623484761, 0.9953734909695718, 0.9980168970936815, 0.9927502633922742, 0.007136383682532323, 0.039771142407613175, 0.9533546310462636, 0.005763933682262779, 0.9951607795714928, 0.999853997941896, 0.01069552076151573, 0.0013557702373752335, 0.889234634580667, 0.09460263434129407, 0.003766028437153426, 0.00015064113748613705, 0.008788557473251123, 0.0006632873564717828, 0.2818971265005077, 0.0006632873564717828, 0.6417305173864499, 0.0024873275867691854, 0.06367558622129116, 0.012191611914767305, 0.005120477004202269, 0.3072286202521361, 0.010728618484995229, 0.6403034577635789, 0.024139391591239266, 0.0002438322382953461, 0.0020658387448466943, 0.9978001137609533, 0.972274610417242, 0.024081104901975032, 0.003010138112746879, 0.9977450728235687, 0.03505838792963295, 0.0010623753918070592, 0.8864932436078905, 0.0005902085510039218, 0.018650590211723928, 0.05004968512513257, 0.008144878003854121, 0.9967009385621259, 0.9996844428439623, 0.002182304884903834, 0.06523943024344094, 0.20812297112872352, 0.16367286636778755, 0.04065978575031354, 0.4556422883375531, 0.06443542318058162, 0.0007880907841906938, 0.5703807050580146, 0.20293337692910365, 0.06107703577477877, 0.16136158806304457, 0.003152363136762775, 0.00019702269604767345, 0.004990288319461383, 0.045467071355092606, 0.14638179070420057, 0.04047678303563122, 0.6869963586458505, 0.0754088012718609, 0.9972337511480467, 0.01641752212525034, 0.24561134290553088, 0.4969557887754349, 0.20456753759240504, 0.03583189352733209, 0.0006514889732242198, 0.0262092548017677, 0.8927787429300552, 0.0524185096035354, 0.01622477678204667, 0.0016640796699535047, 0.006240298762325643, 0.004576219092372138, 0.21413428233818424, 0.11245040525021965, 0.6729080101409421, 0.04550638029353077, 0.9543920966434649, 8.870639433436796e-05, 0.9949524616352999, 0.9970874407398254, 0.000840510470211386, 0.9985264386111266, 0.9938853279337152, 0.9278056935518119, 0.030185459208021275, 0.04130641786360806, 0.000978880109311508, 0.5276163789189029, 0.43031569605333897, 0.03465235586962739, 0.000978880109311508, 0.005481728612144445, 0.032590198192559205, 0.9641266965298765, 0.1644870053747811, 0.0001250851751899476, 0.17386839351402716, 0.057914436112945736, 0.0008755962263296332, 0.6026603740651675, 0.17642980103739364, 0.02629149976243513, 0.780442414000706, 0.01522139459930455, 0.0013837631453913226, 0.9977760885970911, 0.007266075692568324, 0.8629862207173455, 0.011178577988566652, 0.04136073855769661, 0.07657325922168157, 0.9947600260629978, 0.9993118905786504, 0.061925982435978424, 0.6062145031867229, 0.04479417511231942, 0.14035508201860086, 0.11866527091158302, 0.021061120930002813, 0.006915591947165104, 0.6276173387811255, 0.17773234372562843, 0.05653825357297636, 0.07932445148651847, 0.041015156244375794, 0.008829651691497567, 0.009114479165416843, 0.9963151282528014, 0.11183508701887465, 0.6518243672296486, 0.0010097976254525927, 0.23503039732409095, 0.9934040093017503, 0.9897469972869417, 0.001883784470751654, 0.000941892235375827, 0.16859871013227304, 0.09607300800833435, 0.1535284343662598, 0.5792637247561336, 0.8008876724426534, 0.11875474754665999, 0.04523990382729905, 0.012016849454126309, 0.0028274939892061904, 0.020499331421744878, 0.9769016870459531, 0.01097642344995453, 0.008781138759963624, 0.9955762776046929, 0.00596336342912048, 0.9823647355571137, 0.0007951151238827306, 0.003578018057472288, 0.007156036114944576, 0.9967804044228538, 0.9959202909270323, 0.9921520395222281, 0.9983150805685141, 0.009779213100963864, 0.9901453264725912, 0.6652518776070683, 0.033293138043696255, 0.003359857967712466, 0.009774132269708993, 0.03390402131055307, 0.2293866667047329, 0.025046213941129294, 0.4445137824041195, 0.3441093572307285, 0.08378532918903832, 0.06622552965840155, 0.0327991969804394, 0.015176683880050354, 0.013357990357234402, 0.09744125006571167, 0.1798915385828523, 0.08128719667285496, 0.10700444967428284, 0.017704842518570952, 0.48371697479570125, 0.032954268921427686, 0.04297507873176394, 0.7082552307366354, 0.07557686259724003, 0.1484677827737448, 0.003982604279021227, 0.015652561003595054, 0.005094028728980639, 0.9977305594962202, 0.005366365530019317, 0.9943108703478648, 0.022517169948972553, 0.011331221006579736, 0.08745378264052565, 0.06043317870175859, 0.7952192793591983, 0.02295298614153331, 0.9973446218428017, 0.014349857663186544, 0.9853568928721427, 0.998899521520073, 0.9950213145571171, 0.5363961810752101, 0.2843101160016915, 0.06511943625068259, 0.0411192316531372, 0.04346890203331647, 0.01544069106974948, 0.013930188682491379, 0.008657226850723879, 0.001442871141787313, 0.9883667321243095, 0.12342754061189276, 0.009003832749803728, 0.13618297034078136, 0.46501044555757165, 0.06715358592561946, 0.17257346103790477, 0.026636338551502693, 0.5006230982698631, 0.14799359431690395, 0.1317131683569084, 0.1305825832207976, 0.04838904382554232, 0.028038511375547887, 0.01243643649721882, 0.9973356607973769, 0.9697114319729268, 0.02979144184248623, 0.0056159097719696936, 0.7437570504252363, 0.15198055820392983, 0.05054318794772724, 0.02772855449910036, 0.020708667284138244, 0.007679375613294665, 0.9906394541150118, 0.11403350104961348, 0.00227716668762669, 0.0264501669101254, 0.18742833505850448, 0.6398838392230999, 0.025224000232172566, 0.004729500043532356, 0.2334540057832278, 0.04892517942981837, 0.08218402843854004, 0.49798384731977857, 0.09014560619352362, 0.008089990299418785, 0.03916582605274174, 0.9976329667808855, 0.9978687580498489, 0.999207090960205, 0.0639444582930267, 0.8539205856639269, 0.023061935777812903, 0.0023061935777812905, 0.010692352042440529, 0.034592903666719355, 0.011740621850522933, 0.07230633614520839, 0.0018206631403469738, 0.007282652561387895, 0.1326483145109938, 0.7860062871612221, 0.9993311565985331, 0.056260520457639136, 0.901799067045636, 0.000815369861704915, 0.04076849308524575, 0.9949481808314488, 0.9955863256223014, 0.9956117561537459, 0.9989878745705001, 0.9986483052120663, 0.003539766039637561, 0.5090276716736698, 0.17819927457438564, 0.04652929307365689, 0.12058492469239007, 0.07922555307136173, 0.0628774230725093, 0.9980337624858472, 0.999097446577872, 0.9990183679720088, 0.5233530112818182, 0.2815202238013457, 0.06333954483533304, 0.05892982968856934, 0.045600463449488184, 0.013730249434241497, 0.013529807836661328, 0.9962174581289109, 0.13013735403194052, 0.18050189940907052, 0.10275525062575375, 0.4340613347560009, 0.09522951396020558, 0.008278310332102978, 0.049033068890148405, 0.9994444068856122, 0.9987776053989769, 0.07213057077211366, 0.9279170036615978, 0.013919858871835522, 0.004202221546214497, 0.01208138694536668, 0.011818748098728274, 0.05515415779406528, 0.9029523547428402, 0.9983477513783015, 0.0012951607213636462, 0.9985689161713712, 0.9937491778934621, 0.9949943530403758, 0.9933347439132802, 0.0011034593749435415, 0.43712754953120575, 0.02790175848071526, 0.49056651068918583, 0.028689943748532076, 0.0015763705356336304, 0.013083875445759133, 0.10998994624029043, 0.6409308608751488, 0.012479070417763822, 0.2307176972586567, 0.0010157382898179856, 0.0017412656396879752, 0.0029021093994799586, 0.9850250063133894, 0.010784945324599154, 0.22553220799239673, 0.2754179942329024, 0.013985639851091008, 0.4261765844387575, 0.006277019460725885, 0.018500688936876293, 0.034138176014474116, 0.969436705048468, 0.02600021814306236, 0.003714316877580337, 0.9984639032080461, 0.9973143999365771, 0.38325732821730063, 0.021698571577806358, 0.137003771706382, 0.008326196070553602, 0.06888034931094343, 0.31412466993452226, 0.06660956856442882, 0.9971175844270845, 0.21940537066503962, 0.14364488370035927, 0.5338864019515964, 0.009751349807335094, 0.060195832464510865, 0.030941783042505586, 0.002062785536167039, 0.14694978963290684, 0.7709053111673584, 0.019369480180084383, 0.02815031119505597, 0.030216389080931636, 0.0005165194714689169, 0.003615636300282418, 0.03353296613126761, 0.03504346010114453, 0.006344074673483062, 0.20814606904903948, 0.01631333487467073, 0.7005671032289152, 0.057985274444708974, 0.39853371165966645, 0.02043290623289745, 0.18997080389504653, 0.013990097961263118, 0.3179065681460711, 0.0011044814179944566, 0.01716308596456114, 0.2069666248667667, 0.7637573254229707, 0.00858154298228057, 0.004038373168132033, 0.2085344952122218, 0.014946158359920336, 0.01957235023322901, 0.049108806039738245, 0.08327145371955616, 0.613860075496728, 0.010675827399943097, 0.9768165542778633, 0.022099922042485596, 0.14583979608324685, 0.006309686359550503, 0.6213607044530075, 0.00014340196271705688, 0.21538974800101943, 0.010898549166496322, 0.9980588069962146, 0.9988164912263138, 0.0007576751601558163, 0.0011365127402337245, 0.9978581859252101, 0.008243641924293417, 0.0010568771697812074, 0.035088322036736085, 0.000845501735824966, 0.24012249297429034, 0.6463860770381865, 0.06806288973390975, 0.9982928023491975, 0.001195560242334368, 0.004501579872782448, 0.0009003159745564896, 0.9624377768008874, 0.032411375084033626, 0.9923760909457712, 0.01828593173699452, 0.10527227990643574, 0.2888151835095396, 0.0001708965582896684, 0.5873714708415902, 0.9948364754511954, 0.99811971877727, 0.9931755965018791, 0.8467866134054433, 0.000805696111708319, 0.07492973838887367, 0.06687277727179047, 0.006445568893666552, 0.003222784446833276, 0.000805696111708319, 0.015153079239967749, 0.9849501505979036, 0.9990933973245987, 0.9951198698241724, 0.9973688755018735, 0.0419276418297896, 0.009763971385019495, 0.9476795756048334, 0.9934757566276521, 0.6722056961336993, 0.18597599357683467, 0.029393546990725716, 0.06428121491429736, 0.020602953498172233, 0.0021976483731383713, 0.025547662337733566, 0.9937793931301417, 0.005242242465645058, 0.005237714422723378, 0.2821382169040327, 0.010999200287719096, 0.32194484651673033, 0.003491809615148919, 0.3758933050707811, 0.00017459048075744595, 0.9896912629413126, 0.00972191810354924, 0.9918355792403859, 0.0075870593683200595, 0.986372421235935, 0.011166480240406812, 0.0015571223570604803, 0.0020761631427473073, 0.0023356835355907205, 0.8930096717741856, 0.03425669185533057, 0.06669674096075724, 0.4390559019957905, 0.1526130140627079, 0.1360310231116637, 0.11387278741602053, 0.09010037561009872, 0.0427022952810077, 0.02568007448170566, 0.698068851998246, 0.016090714990355266, 0.0008045357495177633, 0.013408929158629387, 0.1072714332690351, 0.1576890069054816, 0.006704464579314694, 0.06011541543701202, 0.9179888596293408, 0.0185261343170666, 0.0030246749905414854, 0.7801550767161186, 0.006539017406389131, 0.02062305489707341, 0.003688676485655407, 0.1275946729810802, 0.05700681841467447, 0.004527012050577091, 0.9991755258082594, 0.13834540031797665, 0.1230016377372556, 0.06414195832924371, 0.22411954851512217, 0.036221341174161155, 0.005533816012719066, 0.40849623657526196, 0.9958608147814064, 0.015360477058833472, 0.0015360477058833472, 0.9707821501182754, 0.004608143117650041, 0.007680238529416736, 0.9990744549800319, 0.9978391680062638, 9.471177542994661e-05, 0.005682706525796797, 0.012407242581323006, 0.933195123311264, 0.02879237973070377, 0.01979476106485884, 0.999424047585989, 0.9978754736617195, 0.9939974959851354, 0.9982410198593176, 0.06102298807470537, 0.1464551713792929, 0.0006538177293718432, 0.00021793924312394776, 0.7915553310261783, 0.9966132220176726, 0.997985274246239, 0.0034819399439757546, 0.9580557755849288, 0.0006963879887951509, 0.03673446640894421, 0.0010445819831927264, 0.5767128955593575, 0.2473499139720491, 0.04493866718644344, 0.11028697905339661, 0.013481600155933032, 0.002246933359322172, 0.005055600058474887, 0.0006945606991201219, 0.33130545348029816, 0.15731799835070762, 0.26063390234482575, 0.0387217589759468, 0.20888913026037667, 0.0024309624469204265, 0.9908212742078774, 0.058257780580011354, 0.9409514257316985, 0.0042210725210981475, 0.9940625787186138, 0.0008215186307930837, 0.5356301472770906, 0.05873858210170549, 0.014787335354275507, 0.38981059031131826, 0.9971621042813208, 0.004713649264264332, 0.9945799947597741, 0.061637004187571856, 0.8609550967092043, 0.07694810713862474, 0.7745992748733699, 0.12686115291760394, 0.027859704170140474, 0.05522191362295701, 0.009452399629154803, 0.000994989434647874, 0.005472441890563307, 0.08148184394056845, 0.884054457089289, 0.00047099331757554026, 0.0023549665878777014, 0.0009419866351510805, 0.030143572324834576, 0.00047099331757554026, 0.9938397120811651, 0.0019300897964882344, 0.0009650448982441172, 0.010615493880685289, 0.0009650448982441172, 0.979520571717779, 0.0077203591859529375, 0.9869703180371239, 0.0010966336867079154, 0.007676435806955408, 0.002193267373415831, 0.0032899010601237463, 0.9965193670281516, 0.02175228312665998, 0.010610869817882916, 0.0316557616233507, 0.01874587001159315, 0.9104126303743542, 0.0063665218907297495, 0.0003536956605960972, 0.01435065109862394, 0.01738636575410208, 0.07368507391024215, 0.06844156677805263, 0.8221267235153984, 0.003863636834244907, 0.0002759740595889219, 0.0637160700440406, 0.5747113514707997, 0.06916297066410769, 0.22129617170365593, 0.035088173761827525, 0.03344143636506306, 0.0026601142563118345, 0.005767407739482878, 0.23963262267016222, 0.10622170737772861, 0.5445446955784273, 0.067307549662976, 0.0356818742563611, 0.0009506716054092656, 0.9945622217741533, 0.014909165196687285, 0.026505182571888507, 0.09442471291235281, 0.013252591285944254, 0.27388688657618127, 0.570965807902765, 0.005521913035810106, 0.032154472170085685, 0.009457197697084025, 0.06493942418664363, 0.8933899424512042, 0.06420448312868855, 0.9346691101618698, 0.8699681576341961, 0.11368978235071633, 0.0008044088373871438, 0.00026813627912904793, 0.015283767910355734, 0.9975646035308787, 0.21147489110163284, 0.7876489956000936, 0.5168073784117605, 0.03158529997978555, 0.00453920478751409, 0.03829954039465014, 0.17665071964742335, 0.2017109127451574, 0.030450498782907023, 0.9981123034944757, 0.995910587737097, 0.9979626948330005, 0.0921228657165208, 0.012638343561109464, 0.5449714651230214, 0.07400283097227951, 0.27591178955096807, 0.0003045383990628787, 0.5560771284423424, 0.13152103192855152, 0.11169807167719711, 0.05946888075406328, 0.10790585319432931, 0.014824126796665048, 0.01844397171212977, 0.68994538930924, 0.08425331991001975, 0.03688509396982431, 0.07493498038080097, 0.0632870559692775, 0.034555509087519615, 0.015918830029082072, 0.018438023039310938, 0.7962591949690995, 0.16567880702466542, 0.0001317001645665067, 0.0001317001645665067, 0.001317001645665067, 0.018042922545611417, 0.9978860873554426, 0.00029094879903417657, 0.0004364231985512648, 0.0004364231985512648, 0.009164887169576561, 0.9896623399147515, 0.14006598084995076, 0.045883683381880425, 0.06466647774873206, 0.7467502388992586, 0.0021466050704973295, 0.9938923742320808, 0.1657813144484942, 0.025619516296619297, 0.003931036892073861, 0.000135552996278409, 0.7376794057471017, 0.0025755069292897705, 0.06438767323224427, 0.14334094674660663, 0.011045986935670405, 0.0035963678395205968, 0.7390535910214826, 0.00025688341710861405, 0.10301025026055423, 0.9992321481098527, 0.015709853558770703, 0.07756740194643034, 0.0004909329237115845, 0.8959525857736416, 0.00981865847423169, 0.21543599867718796, 0.27166042738601487, 0.07714937790466866, 0.12937077285429108, 0.12045492493606287, 0.03156937987372645, 0.15438973384931926, 0.9984140585805247, 0.003161482347543631, 0.9927054571287002, 0.0008634833863798955, 0.9990502780415391, 0.1074519721971577, 0.011396421293637937, 0.880780559979732, 0.2302473630690135, 0.17570672388899167, 0.42742051928833447, 0.04659010868730729, 0.04945229966468453, 0.02178445355003788, 0.048975267835121655, 0.9612392469405916, 0.011888117895024985, 0.011888117895024985, 0.013586420451457125, 0.9951926487502626, 0.11199458747806429, 0.0812509752291839, 0.3697218823696525, 0.371718220827372, 0.00039926769154390116, 0.04052567069170597, 0.024355329184177973, 0.9974598172234116, 0.9981460797915076, 0.044537582296245964, 0.07287968012112976, 0.88184412946567, 0.935712636986767, 0.001762170691123855, 0.001762170691123855, 0.059913803498211064, 0.001762170691123855, 0.9970288034395739, 0.6578108364850611, 0.1894495209076976, 0.05905679509776993, 0.03917628981733253, 0.036252686099621144, 0.006724288550736181, 0.011402054499074393, 0.9982172247203107, 0.9691670213813193, 0.004195528231087963, 0.027270933502071756, 0.999663647732745, 0.008783308312332202, 0.9903180122154557, 0.9986953464686854, 0.9971773865093134, 0.02287200353799069, 0.8816394963777477, 0.04116960636838324, 0.054587848444004446, 0.9984410232589884, 0.499562856347839, 0.17430230501856064, 0.053846962086091056, 0.09228684542500577, 0.09166433719279662, 0.07765790196809086, 0.010738267005607755, 0.044003186112122304, 0.0006518990535129231, 0.029661406934838, 0.8380162332908626, 0.07985763405533308, 0.0045632933745904615, 0.0032594952675646153, 0.999762487109467, 0.9956347080036427, 0.9938557803028019, 0.00035979430198921947, 0.2662477834720224, 0.006956023171791576, 0.7101140206927228, 0.007435748907777202, 0.0025785258309227394, 0.006356366001809544, 0.031740974437335104, 0.9666569487733873, 0.9991477181137394, 0.9897113723463503, 0.005442958967990927, 0.0027214794839954637, 0.0009071598279984879, 0.015741897758525667, 0.9544837340919397, 0.00026236496264209447, 0.029647240778556672, 0.043743535002971144, 0.28893756015120414, 0.05698171006965978, 0.08058019605810475, 0.03165650559425544, 0.05237712743776808, 0.4449177968065355, 0.9953763102076576, 0.9939791452199961, 0.9977912156676078, 0.898534076214636, 0.10140196471387741, 0.006288365501008762, 0.012576731002017524, 0.9809850181573668, 0.9985974350495214, 0.34605743927369526, 0.003777919642725931, 0.00018889598213629654, 0.4845181941796006, 0.09595915892523864, 0.034567964730942265, 0.03494575669521486, 0.9619312000821332, 0.036565948137450496, 0.0013459858210104476, 0.9939009729296167, 0.0112119180133026, 0.00280297950332565, 0.9838458056673031, 0.9961882849954219, 0.9952944310144151, 0.007288500776157515, 0.991236105557422, 0.28072552974290305, 0.14870332009446194, 0.05838388656107288, 0.23188938402922368, 0.11380468113502365, 0.1619823619626759, 0.004499510054518775, 0.9933523190117158, 0.016688545357205698, 0.15640050360941465, 0.6686776838675141, 0.05548286021898229, 0.0009611204132422129, 0.04657065275073632, 0.05530811105293825, 0.9987403041702928, 0.22808723282501608, 0.0013576621001489054, 0.7711520728845782, 0.9964544522154561, 0.9984221809131355, 0.460270214362559, 0.2487343024546885, 0.12133380607545781, 0.06018795380322051, 0.06912833951404372, 0.021393065808041244, 0.018998319635499313, 0.7311777934832376, 0.12586482144176495, 0.04647316484003629, 0.06002783791838021, 0.024398411541019054, 0.0023236582420018146, 0.009681909341674228, 0.724602386938711, 0.15388712899868948, 0.021810774188790634, 0.06997623385570328, 0.02362833870452319, 0.0018175645157325528, 0.004543911289331382, 0.7329313738249418, 0.23881394647515558, 0.0019901162206262964, 0.02615581318537418, 0.9950521634694833, 0.5101445200255578, 0.3223372834193746, 0.025095819130289534, 0.06644220966461901, 0.032295439372585714, 0.013782130178109826, 0.029929849864402683, 0.9777212897157912, 0.002009704603732356, 0.019092193735457383, 0.0004757213201571012, 0.2181182252920309, 0.7649598828126187, 0.001189303300392753, 0.0002378606600785506, 0.0038057705612568097, 0.011655172343848979, 0.9909246161436936, 0.009392650389987618, 0.9938229347455628, 0.002132280670857687, 0.9957750732905398, 0.0005896996858046235, 0.0005896996858046235, 0.0005896996858046235, 0.08314765569845191, 0.9152139123687757, 0.0005896996858046235, 0.997424424830289, 0.026369693230747435, 0.9723824378838116, 0.06590155307259234, 0.01938280972723304, 0.8644733138345936, 0.04942616480444425, 0.02318784593195978, 0.975109942086098, 0.0012204129437873568, 0.9981612043036862, 0.9981801760709893, 0.010407211560916832, 0.24548775505456763, 0.22063288509143683, 0.23936586590108713, 0.1225602208526794, 0.059749638137969574, 0.10186823551391534, 0.23383206311761104, 0.19841128324188084, 0.1309195956957221, 0.14371500920121844, 0.1704590709058395, 0.09346692612169422, 0.029160362967461592, 0.002080225541984709, 0.031203383129770636, 0.012481353251908254, 0.002080225541984709, 0.9517031854580044, 0.03680170706129027, 0.2957793448382997, 0.3041172315943733, 0.2658779578510014, 0.06986574074916825, 0.015310085164169585, 0.012291195131798117, 0.9977121049869142, 0.996309648485572, 0.9994110018255647, 0.9988317510391007, 0.997620087973563, 0.0022987375544361427, 0.0022987375544361427, 0.3300330346011891, 0.00016419553960258162, 0.6349441516431832, 0.03021197928687502, 0.9914324519037299, 0.4935080809410721, 0.1655718931981311, 0.07192632234481282, 0.09084571779152095, 0.12167128451072645, 0.030526553285421313, 0.025959802660353835, 0.16563174648832313, 0.22653459970775086, 0.03388680113413941, 0.011139952341341105, 0.5147725282522713, 0.04469322196825473, 0.003402021373702972, 0.019458908444563168, 0.00548841007410756, 0.0014968391111202437, 0.9734443685985319, 0.9981740247315073, 0.049758994193568024, 0.9494828483874714, 0.0008634891243741188, 0.6294835716687326, 0.13490747731397998, 0.16380896624156077, 0.001980945638270037, 0.0010666630359915585, 0.06791087995812922, 0.00011114555390219796, 0.20539698361126182, 0.45347385992096767, 0.20761989468930578, 0.11937032489096061, 0.01411548534557914, 0.9986622288434747, 0.00237168590266397, 0.9961080791188676, 0.02385180857631364, 0.9735874591604385, 0.0007472670226996663, 0.15617880774423024, 0.8421699345825239, 0.23239311147298422, 0.07307641050675538, 0.6190398931611518, 0.017551839936957414, 0.02126472915439071, 0.02683406298054066, 0.009957293810389302, 0.9922765369837838, 0.9881479674515672, 0.004853379014988051, 0.0019413516059952204, 0.004853379014988051, 0.0001780284492539281, 0.012105934549267111, 0.9766640726070497, 0.0010681706955235687, 0.009969593158219974, 0.38081329763218286, 0.34153824197468413, 0.1310151012364592, 0.0633706338939004, 0.039938236709876763, 0.018716443033779884, 0.02468507250518213, 0.6626312613287183, 0.2145166663140767, 0.03206438937110913, 0.060391211883009215, 0.014753553391614629, 0.0037375668592090393, 0.011999556758513231, 0.999269131559437, 0.7033169615868357, 0.18104328706415662, 0.04895410482214795, 0.04200204259888434, 0.015062801483737832, 0.002317354074421205, 0.007241731482566265, 0.9834503291470573, 0.016424221382904013, 0.7445947748561696, 0.11992187935388053, 0.034810414906786796, 0.025585654956488298, 0.03950982091920302, 0.03550662320492254, 0.9945204286316839, 0.4026703295575859, 0.15000740265181634, 0.17272673824675067, 0.08788795611724592, 0.11610776243516434, 0.04771060474936207, 0.0228986987706838, 0.9980458417500107, 0.9974528178006595, 0.9982496901921564, 0.9980232381603265, 0.9960579521587688, 0.9941934433644256, 0.10541593212091653, 0.06831229811783078, 0.20424336848427577, 0.0017338146730413902, 0.0395309745453437, 0.25556428280630095, 0.3256103955971731, 0.9943066800440604, 0.002155584892492505, 0.9958802203315374, 0.9972210389496099, 0.09798142198670805, 0.8782261197704323, 0.02344340771461113, 0.996472412305166], \"Term\": [\"activitythread\", \"age\", \"age\", \"age\", \"ajax\", \"ajax\", \"ajax\", \"album\", \"align\", \"align\", \"align\", \"alloc\", \"alloc\", \"also\", \"also\", \"also\", \"also\", \"also\", \"also\", \"also\", \"alt\", \"anaconda\", \"android\", \"android\", \"api\", \"api\", \"api\", \"api\", \"api\", \"api\", \"apk\", \"app\", \"app\", \"app\", \"app\", \"app\", \"app\", \"app\", \"appdata\", \"appender\", \"application\", \"application\", \"application\", \"application\", \"application\", \"application\", \"application\", \"argc\", \"args\", \"args\", \"args\", \"args\", \"arr\", \"arr\", \"arr\", \"array\", \"array\", \"array\", \"array\", \"arraylist\", \"arraylist\", \"asc\", \"asp\", \"asp\", \"asp\", \"asp\", \"assembly\", \"assembly\", \"assembly\", \"assembly\", \"audio\", \"audio\", \"audio\", \"auth\", \"authenticate\", \"authentication\", \"authorization\", \"avg\", \"aw\", \"awk\", \"ax\", \"axis\", \"axis\", \"axis\", \"azure\", \"background\", \"background\", \"background\", \"background\", \"background\", \"bash\", \"bash\", \"bat\", \"bean\", \"bin\", \"bin\", \"bind\", \"bind\", \"bind\", \"bind\", \"bind\", \"bind\", \"bind\", \"blue\", \"blue\", \"bool\", \"bool\", \"bool\", \"boolean\", \"boolean\", \"boolean\", \"boolean\", \"boolean\", \"border\", \"border\", \"btn\", \"buf\", \"build\", \"build\", \"build\", \"build\", \"build\", \"build\", \"build\", \"button\", \"button\", \"button\", \"button\", \"byte\", \"byte\", \"byte\", \"byte\", \"c\", \"c\", \"c\", \"c\", \"c\", \"c\", \"c\", \"calendar\", \"calendar\", \"calendar\", \"call\", \"call\", \"call\", \"call\", \"call\", \"call\", \"call\", \"car\", \"cart\", \"cart\", \"cell\", \"cell\", \"cell\", \"cell\", \"cell\", \"center\", \"center\", \"certificate\", \"change\", \"change\", \"change\", \"change\", \"change\", \"change\", \"change\", \"char\", \"char\", \"char\", \"chart\", \"cin\", \"city\", \"city\", \"class\", \"class\", \"class\", \"class\", \"class\", \"class\", \"class\", \"click\", \"click\", \"click\", \"click\", \"click\", \"click\", \"click\", \"client\", \"client\", \"client\", \"client\", \"client\", \"client\", \"cmake\", \"code\", \"code\", \"code\", \"code\", \"code\", \"code\", \"code\", \"color\", \"color\", \"color\", \"color\", \"column\", \"column\", \"column\", \"com\", \"com\", \"com\", \"com\", \"com\", \"com\", \"com\", \"combobox\", \"command\", \"command\", \"command\", \"command\", \"command\", \"command\", \"component\", \"component\", \"component\", \"component\", \"component\", \"component\", \"config\", \"config\", \"config\", \"config\", \"config\", \"connect\", \"connect\", \"connect\", \"connect\", \"connect\", \"connect\", \"connect\", \"connection\", \"connection\", \"connection\", \"connection\", \"connection\", \"connection\", \"console\", \"console\", \"console\", \"console\", \"console\", \"console\", \"const\", \"const\", \"const\", \"const\", \"constructor\", \"constructor\", \"constructor\", \"constructor\", \"constructor\", \"content\", \"content\", \"content\", \"content\", \"content\", \"content\", \"content\", \"control\", \"control\", \"control\", \"control\", \"control\", \"control\", \"cookie\", \"cookie\", \"count\", \"count\", \"count\", \"count\", \"count\", \"count\", \"country\", \"cout\", \"cpu\", \"cpu\", \"create\", \"create\", \"create\", \"create\", \"create\", \"create\", \"create\", \"credential\", \"css\", \"currency\", \"daemon\", \"dat\", \"dataframe\", \"datagrid\", \"date\", \"date\", \"date\", \"date\", \"date\", \"datepicker\", \"datum\", \"datum\", \"datum\", \"datum\", \"datum\", \"datum\", \"datum\", \"dbo\", \"def\", \"def\", \"def\", \"def\", \"def\", \"delphi\", \"delphi\", \"delphi\", \"deny\", \"develop\", \"develop\", \"develop\", \"develop\", \"device\", \"device\", \"device\", \"device\", \"dim\", \"dim\", \"dim\", \"dir\", \"dir\", \"dir\", \"directory\", \"directory\", \"directory\", \"display\", \"display\", \"display\", \"display\", \"display\", \"display\", \"display\", \"dist\", \"div\", \"dll\", \"dll\", \"dll\", \"dll\", \"docx\", \"dotnet\", \"dotnet\", \"dotnet\", \"dotnet\", \"double\", \"double\", \"double\", \"double\", \"double\", \"double\", \"drawable\", \"dt\", \"dt\", \"dtype\", \"eclipse\", \"eclipse\", \"eclipse\", \"element\", \"element\", \"element\", \"element\", \"element\", \"email\", \"email\", \"email\", \"email\", \"endl\", \"error\", \"error\", \"error\", \"error\", \"error\", \"error\", \"error\", \"excel\", \"excel\", \"excel\", \"experience\", \"experience\", \"experience\", \"experience\", \"experience\", \"experience\", \"expr\", \"fb\", \"fe\", \"field\", \"field\", \"field\", \"field\", \"field\", \"field\", \"fig\", \"file\", \"file\", \"file\", \"file\", \"file\", \"file\", \"file\", \"filename\", \"filename\", \"filename\", \"filename\", \"filename\", \"filter\", \"filter\", \"filter\", \"filter\", \"filter\", \"filter\", \"filter\", \"find\", \"find\", \"find\", \"find\", \"find\", \"find\", \"find\", \"findviewbyid\", \"firebase\", \"flask\", \"flask\", \"folder\", \"folder\", \"folder\", \"folder\", \"font\", \"font\", \"foo\", \"foo\", \"foo\", \"foo\", \"foo\", \"footer\", \"foreign\", \"form\", \"form\", \"form\", \"form\", \"form\", \"form\", \"formula\", \"fruit\", \"ftp\", \"function\", \"function\", \"function\", \"function\", \"function\", \"function\", \"function\", \"gem\", \"gemicrosoft\", \"gender\", \"get\", \"get\", \"get\", \"get\", \"get\", \"get\", \"get\", \"getdata\", \"getelementbyid\", \"git\", \"git\", \"git\", \"gmail\", \"gmail\", \"go\", \"go\", \"go\", \"go\", \"go\", \"go\", \"go\", \"good\", \"good\", \"good\", \"good\", \"good\", \"good\", \"good\", \"grade\", \"gradient\", \"gradle\", \"grep\", \"grid\", \"grid\", \"grid\", \"gridview\", \"group\", \"group\", \"group\", \"group\", \"group\", \"group\", \"group\", \"gtk\", \"hardware\", \"height\", \"height\", \"host\", \"host\", \"host\", \"hostname\", \"href\", \"html\", \"html\", \"html\", \"html\", \"html\", \"html\", \"http\", \"http\", \"http\", \"http\", \"http\", \"http\", \"http\", \"https\", \"https\", \"https\", \"https\", \"https\", \"https\", \"https\", \"icon\", \"icon\", \"ide\", \"ide\", \"ide\", \"iframe\", \"image\", \"image\", \"image\", \"image\", \"image\", \"image\", \"image\", \"imageview\", \"img\", \"import\", \"import\", \"import\", \"import\", \"import\", \"import\", \"import\", \"index\", \"index\", \"index\", \"index\", \"index\", \"index\", \"index\", \"init\", \"init\", \"init\", \"init\", \"init\", \"init\", \"innerhtml\", \"input\", \"input\", \"input\", \"input\", \"input\", \"input\", \"insert\", \"insert\", \"insert\", \"insert\", \"insert\", \"insert\", \"insert\", \"install\", \"install\", \"install\", \"int\", \"int\", \"int\", \"invoice\", \"iostream\", \"ip\", \"ip\", \"ipad\", \"iphone\", \"iphone\", \"iphone\", \"item\", \"item\", \"item\", \"item\", \"item\", \"item\", \"iterator\", \"iterator\", \"java\", \"java\", \"java\", \"java\", \"java\", \"java\", \"javascript\", \"javascript\", \"javascript\", \"javascript\", \"javascript\", \"jframe\", \"join\", \"join\", \"join\", \"join\", \"join\", \"jpanel\", \"jquery\", \"key\", \"key\", \"key\", \"key\", \"key\", \"key\", \"key\", \"know\", \"know\", \"know\", \"know\", \"know\", \"know\", \"know\", \"kubernete\", \"label\", \"label\", \"label\", \"label\", \"lag\", \"landscape\", \"lang\", \"lang\", \"lang\", \"lang\", \"lang\", \"lang\", \"language\", \"language\", \"language\", \"language\", \"language\", \"language\", \"lastname\", \"lastname\", \"lastname\", \"latitude\", \"layout\", \"layout\", \"layout\", \"layout\", \"layout\", \"leaflet\", \"leak\", \"lemmer\", \"levelname\", \"lib\", \"lib\", \"library\", \"library\", \"library\", \"library\", \"library\", \"library\", \"library\", \"like\", \"like\", \"like\", \"like\", \"like\", \"like\", \"like\", \"line\", \"line\", \"line\", \"line\", \"line\", \"line\", \"line\", \"list\", \"list\", \"list\", \"list\", \"list\", \"list\", \"list\", \"listbox\", \"localhost\", \"localhost\", \"log\", \"log\", \"log\", \"log\", \"log\", \"log\", \"logger\", \"login\", \"login\", \"logo\", \"longitude\", \"look\", \"look\", \"look\", \"look\", \"look\", \"look\", \"look\", \"mail\", \"mail\", \"mail\", \"main\", \"main\", \"main\", \"main\", \"main\", \"main\", \"main\", \"make\", \"make\", \"make\", \"make\", \"make\", \"make\", \"make\", \"malloc\", \"margin\", \"margin\", \"match\", \"match\", \"match\", \"match\", \"match\", \"match\", \"matplotlib\", \"matplotlib\", \"message\", \"message\", \"message\", \"message\", \"message\", \"message\", \"message\", \"method\", \"method\", \"method\", \"method\", \"method\", \"method\", \"method\", \"middleware\", \"mindotjs\", \"modal\", \"model\", \"model\", \"model\", \"model\", \"model\", \"model\", \"model\", \"module\", \"module\", \"module\", \"module\", \"module\", \"mongodb\", \"month\", \"month\", \"month\", \"month\", \"mov\", \"mut\", \"myclass\", \"mysqli\", \"na\", \"name\", \"name\", \"name\", \"name\", \"name\", \"name\", \"name\", \"nan\", \"nav\", \"nbsp\", \"need\", \"need\", \"need\", \"need\", \"need\", \"need\", \"need\", \"neo\", \"new\", \"new\", \"new\", \"new\", \"new\", \"new\", \"new\", \"ng\", \"nginx\", \"nil\", \"nil\", \"node\", \"node\", \"node\", \"node\", \"node\", \"node\", \"notebook\", \"npm\", \"npm\", \"nslog\", \"nsstre\", \"nsstring\", \"null\", \"null\", \"null\", \"null\", \"null\", \"null\", \"null\", \"number\", \"number\", \"number\", \"number\", \"number\", \"number\", \"number\", \"oauth\", \"oauth\", \"object\", \"object\", \"object\", \"object\", \"object\", \"object\", \"object\", \"often\", \"often\", \"often\", \"onclick\", \"oncreate\", \"open\", \"open\", \"open\", \"open\", \"open\", \"open\", \"open\", \"opencv\", \"option\", \"option\", \"option\", \"option\", \"option\", \"option\", \"option\", \"order\", \"order\", \"order\", \"order\", \"order\", \"order\", \"order\", \"org\", \"org\", \"org\", \"org\", \"org\", \"org\", \"output\", \"output\", \"output\", \"output\", \"output\", \"output\", \"output\", \"override\", \"override\", \"override\", \"override\", \"override\", \"package\", \"package\", \"package\", \"package\", \"package\", \"package\", \"package\", \"padding\", \"padding\", \"page\", \"page\", \"page\", \"page\", \"page\", \"page\", \"panda\", \"pandas\", \"password\", \"password\", \"password\", \"path\", \"path\", \"path\", \"path\", \"path\", \"path\", \"path\", \"pd\", \"pd\", \"permission\", \"permission\", \"permission\", \"permission\", \"permutation\", \"php\", \"php\", \"php\", \"php\", \"php\", \"picker\", \"pip\", \"pivot\", \"play\", \"play\", \"play\", \"play\", \"play\", \"play\", \"play\", \"plot\", \"plot\", \"plt\", \"pod\", \"polygon\", \"port\", \"port\", \"port\", \"portrait\", \"possible\", \"possible\", \"possible\", \"possible\", \"possible\", \"possible\", \"possible\", \"price\", \"price\", \"print\", \"print\", \"print\", \"print\", \"print\", \"print\", \"print\", \"printf\", \"printf\", \"println\", \"println\", \"printstacktrace\", \"printstacktrace\", \"private\", \"private\", \"private\", \"private\", \"private\", \"private\", \"problem\", \"problem\", \"problem\", \"problem\", \"problem\", \"problem\", \"problem\", \"process\", \"process\", \"process\", \"process\", \"process\", \"process\", \"process\", \"product\", \"product\", \"product\", \"product\", \"project\", \"project\", \"project\", \"project\", \"project\", \"project\", \"project\", \"prop\", \"property\", \"property\", \"property\", \"property\", \"property\", \"property\", \"property\", \"provision\", \"proxy\", \"proxy\", \"proxy\", \"proxy\", \"proxy\", \"ptr\", \"pub\", \"public\", \"public\", \"public\", \"public\", \"public\", \"public\", \"py\", \"pygame\", \"pyqt\", \"pyt\", \"python\", \"python\", \"python\", \"python\", \"python\", \"qtcore\", \"quantity\", \"query\", \"query\", \"query\", \"query\", \"query\", \"question\", \"question\", \"question\", \"question\", \"question\", \"question\", \"question\", \"r\", \"r\", \"r\", \"r\", \"r\", \"r\", \"r\", \"race\", \"radio\", \"radio\", \"radius\", \"radius\", \"range\", \"range\", \"range\", \"range\", \"range\", \"rating\", \"rb\", \"rb\", \"react\", \"react\", \"react\", \"really\", \"really\", \"really\", \"really\", \"really\", \"really\", \"really\", \"record\", \"record\", \"record\", \"record\", \"record\", \"record\", \"record\", \"recv\", \"redirect\", \"redirect\", \"redirect\", \"redirect\", \"redirect\", \"redirect\", \"regex\", \"regex\", \"regex\", \"regex\", \"regex\", \"repo\", \"request\", \"request\", \"request\", \"request\", \"request\", \"request\", \"request\", \"response\", \"response\", \"response\", \"response\", \"response\", \"response\", \"response\", \"result\", \"result\", \"result\", \"result\", \"result\", \"result\", \"result\", \"return\", \"return\", \"return\", \"return\", \"return\", \"return\", \"return\", \"rewriterule\", \"root\", \"root\", \"root\", \"root\", \"root\", \"root\", \"root\", \"route\", \"route\", \"route\", \"route\", \"router\", \"router\", \"row\", \"row\", \"row\", \"row\", \"row\", \"rs\", \"ruby\", \"ruby\", \"run\", \"run\", \"run\", \"run\", \"run\", \"run\", \"run\", \"rust\", \"savedinstancestate\", \"scanner\", \"script\", \"script\", \"script\", \"script\", \"script\", \"script\", \"see\", \"see\", \"see\", \"see\", \"see\", \"see\", \"see\", \"seemicrosoft\", \"seemicrosoft\", \"seemicrosoft\", \"seemicrosoft\", \"seemicrosoft\", \"seemicrosoft\", \"seemicrosoft\", \"select\", \"select\", \"select\", \"select\", \"select\", \"select\", \"select\", \"selenium\", \"self\", \"self\", \"self\", \"self\", \"self\", \"send\", \"send\", \"send\", \"send\", \"send\", \"sequelize\", \"server\", \"server\", \"server\", \"server\", \"server\", \"server\", \"server\", \"service\", \"service\", \"service\", \"service\", \"service\", \"service\", \"servlet\", \"session\", \"session\", \"session\", \"session\", \"session\", \"set\", \"set\", \"set\", \"set\", \"set\", \"set\", \"set\", \"sf\", \"sh\", \"sh\", \"sheet\", \"sheet\", \"shell\", \"shell\", \"shell\", \"show\", \"show\", \"show\", \"show\", \"show\", \"show\", \"show\", \"signal\", \"signal\", \"signal\", \"signal\", \"sin\", \"size\", \"size\", \"size\", \"size\", \"size\", \"size\", \"size\", \"sizeof\", \"soap\", \"socket\", \"socket\", \"socket\", \"software\", \"software\", \"software\", \"software\", \"software\", \"solid\", \"solution\", \"solution\", \"solution\", \"solution\", \"solution\", \"solution\", \"solution\", \"song\", \"sound\", \"sound\", \"sound\", \"span\", \"spring\", \"spring\", \"springframework\", \"sprite\", \"sql\", \"sql\", \"sql\", \"sql\", \"ssl\", \"start\", \"start\", \"start\", \"start\", \"start\", \"start\", \"start\", \"static\", \"static\", \"static\", \"static\", \"static\", \"static\", \"static\", \"std\", \"stock\", \"storyboard\", \"string\", \"string\", \"string\", \"string\", \"string\", \"string\", \"string\", \"stroke\", \"stroke\", \"struct\", \"studio\", \"studio\", \"studio\", \"studio\", \"style\", \"style\", \"style\", \"style\", \"sub\", \"sub\", \"sub\", \"sub\", \"sub\", \"sub\", \"sub\", \"subplot\", \"subprocess\", \"sudo\", \"sum\", \"sum\", \"sun\", \"sun\", \"sun\", \"svg\", \"system\", \"system\", \"system\", \"system\", \"system\", \"system\", \"system\", \"table\", \"table\", \"table\", \"tap\", \"tcp\", \"tcp\", \"tcp\", \"teamicrosoft\", \"technique\", \"tensorflow\", \"tensorflow\", \"test\", \"test\", \"test\", \"test\", \"test\", \"test\", \"test\", \"testng\", \"text\", \"text\", \"text\", \"text\", \"text\", \"text\", \"text\", \"textarea\", \"textbox\", \"textbox\", \"textbox\", \"texture\", \"textview\", \"thank\", \"thank\", \"thank\", \"thank\", \"thank\", \"thank\", \"thank\", \"thing\", \"thing\", \"thing\", \"thing\", \"thing\", \"thing\", \"thing\", \"think\", \"think\", \"think\", \"think\", \"think\", \"think\", \"think\", \"thread\", \"thread\", \"thread\", \"thread\", \"tibble\", \"time\", \"time\", \"time\", \"time\", \"time\", \"time\", \"time\", \"timestamp\", \"timestamp\", \"timestamp\", \"title\", \"title\", \"title\", \"title\", \"title\", \"title\", \"title\", \"tk\", \"tk\", \"tkinter\", \"toggle\", \"toggle\", \"token\", \"token\", \"token\", \"token\", \"token\", \"token\", \"tolist\", \"tooltip\", \"tooltip\", \"tostre\", \"tostre\", \"tostre\", \"tostre\", \"tr\", \"tr\", \"tr\", \"traceback\", \"trait\", \"true\", \"true\", \"true\", \"true\", \"true\", \"true\", \"true\", \"try\", \"try\", \"try\", \"try\", \"try\", \"try\", \"try\", \"txt\", \"txt\", \"txt\", \"txt\", \"txt\", \"type\", \"type\", \"type\", \"type\", \"type\", \"type\", \"type\", \"typedef\", \"typename\", \"uint\", \"union\", \"unsigned\", \"url\", \"url\", \"url\", \"url\", \"url\", \"url\", \"urllib\", \"use\", \"use\", \"use\", \"use\", \"use\", \"use\", \"use\", \"user\", \"user\", \"user\", \"user\", \"user\", \"user\", \"user\", \"username\", \"username\", \"username\", \"username\", \"usestate\", \"usr\", \"usr\", \"value\", \"value\", \"value\", \"value\", \"value\", \"value\", \"value\", \"var\", \"var\", \"var\", \"var\", \"var\", \"var\", \"varchar\", \"vba\", \"vba\", \"vec\", \"vec\", \"vector\", \"vector\", \"vector\", \"view\", \"view\", \"view\", \"view\", \"view\", \"view\", \"view\", \"vim\", \"visual\", \"visual\", \"visual\", \"visual\", \"void\", \"void\", \"void\", \"void\", \"void\", \"want\", \"want\", \"want\", \"want\", \"want\", \"want\", \"want\", \"way\", \"way\", \"way\", \"way\", \"way\", \"way\", \"way\", \"webview\", \"well\", \"well\", \"well\", \"well\", \"well\", \"well\", \"well\", \"width\", \"width\", \"window\", \"window\", \"window\", \"window\", \"window\", \"window\", \"wm\", \"work\", \"work\", \"work\", \"work\", \"work\", \"work\", \"work\", \"workbook\", \"worksheet\", \"writeline\", \"xamarin\", \"xaml\", \"xlsx\", \"xml\", \"xml\", \"xml\", \"xml\", \"xml\", \"xml\", \"xml\", \"xsd\", \"xsl\", \"xsl\", \"yaml\", \"year\", \"year\", \"year\", \"yml\"]}, \"R\": 30, \"lambda.step\": 0.01, \"plot.opts\": {\"xlab\": \"PC1\", \"ylab\": \"PC2\"}, \"topic.order\": [7, 2, 5, 1, 3, 6, 4]};\n",
       "\n",
       "function LDAvis_load_lib(url, callback){\n",
       "  var s = document.createElement('script');\n",
       "  s.src = url;\n",
       "  s.async = true;\n",
       "  s.onreadystatechange = s.onload = callback;\n",
       "  s.onerror = function(){console.warn(\"failed to load library \" + url);};\n",
       "  document.getElementsByTagName(\"head\")[0].appendChild(s);\n",
       "}\n",
       "\n",
       "if(typeof(LDAvis) !== \"undefined\"){\n",
       "   // already loaded: just create the visualization\n",
       "   !function(LDAvis){\n",
       "       new LDAvis(\"#\" + \"ldavis_el2245621520332999206229016948\", ldavis_el2245621520332999206229016948_data);\n",
       "   }(LDAvis);\n",
       "}else if(typeof define === \"function\" && define.amd){\n",
       "   // require.js is available: use it to load d3/LDAvis\n",
       "   require.config({paths: {d3: \"https://d3js.org/d3.v5\"}});\n",
       "   require([\"d3\"], function(d3){\n",
       "      window.d3 = d3;\n",
       "      LDAvis_load_lib(\"https://cdn.jsdelivr.net/gh/bmabey/pyLDAvis@3.3.1/pyLDAvis/js/ldavis.v3.0.0.js\", function(){\n",
       "        new LDAvis(\"#\" + \"ldavis_el2245621520332999206229016948\", ldavis_el2245621520332999206229016948_data);\n",
       "      });\n",
       "    });\n",
       "}else{\n",
       "    // require.js not available: dynamically load d3 & LDAvis\n",
       "    LDAvis_load_lib(\"https://d3js.org/d3.v5.js\", function(){\n",
       "         LDAvis_load_lib(\"https://cdn.jsdelivr.net/gh/bmabey/pyLDAvis@3.3.1/pyLDAvis/js/ldavis.v3.0.0.js\", function(){\n",
       "                 new LDAvis(\"#\" + \"ldavis_el2245621520332999206229016948\", ldavis_el2245621520332999206229016948_data);\n",
       "            })\n",
       "         });\n",
       "}\n",
       "</script>"
      ],
      "text/plain": [
       "PreparedData(topic_coordinates=              x         y  topics  cluster       Freq\n",
       "topic                                                \n",
       "6     -0.028119  0.054422       1        1  22.387263\n",
       "1      0.079013  0.149651       2        1  20.286631\n",
       "4      0.106508  0.028125       3        1  16.975220\n",
       "0      0.056310  0.130729       4        1  14.349786\n",
       "2     -0.130642 -0.064329       5        1  12.388116\n",
       "5     -0.249773 -0.049756       6        1   8.144042\n",
       "3      0.166703 -0.248842       7        1   5.468942, topic_info=        Term          Freq         Total Category  logprob  loglift\n",
       "38      file  22430.000000  22430.000000  Default  30.0000  30.0000\n",
       "385      div  12822.000000  12822.000000  Default  29.0000  29.0000\n",
       "143      int  11273.000000  11273.000000  Default  28.0000  28.0000\n",
       "31    string  16676.000000  16676.000000  Default  27.0000  27.0000\n",
       "3619    self   6874.000000   6874.000000  Default  26.0000  26.0000\n",
       "...      ...           ...           ...      ...      ...      ...\n",
       "771     true    831.669322   8167.413481   Topic7  -5.3629   0.6216\n",
       "33       use    955.102437  36787.644825   Topic7  -5.2245  -0.7450\n",
       "150      new    847.299100  17274.056452   Topic7  -5.3443  -0.1088\n",
       "231    class    755.032673  21342.524648   Topic7  -5.4596  -0.4356\n",
       "232     code    745.461767  20516.628519   Topic7  -5.4723  -0.4089\n",
       "\n",
       "[570 rows x 6 columns], token_table=       Topic      Freq            Term\n",
       "term                                  \n",
       "22037      5  0.993049  activitythread\n",
       "0          2  0.977099             age\n",
       "0          4  0.002329             age\n",
       "0          7  0.019798             age\n",
       "2764       1  0.021977            ajax\n",
       "...      ...       ...             ...\n",
       "7121       7  0.997221            yaml\n",
       "9          1  0.097981            year\n",
       "9          2  0.878226            year\n",
       "9          7  0.023443            year\n",
       "2946       6  0.996472             yml\n",
       "\n",
       "[1607 rows x 3 columns], R=30, lambda_step=0.01, plot_opts={'xlab': 'PC1', 'ylab': 'PC2'}, topic_order=[7, 2, 5, 1, 3, 6, 4])"
      ]
     },
     "execution_count": 44,
     "metadata": {},
     "output_type": "execute_result"
    }
   ],
   "source": [
    "vis_7"
   ]
  },
  {
   "cell_type": "markdown",
   "id": "07880214",
   "metadata": {},
   "source": [
    "#### Modèle fastLDA avec 8 topics :"
   ]
  },
  {
   "cell_type": "code",
   "execution_count": 49,
   "id": "485d16e3",
   "metadata": {},
   "outputs": [],
   "source": [
    "lda_model_8 = gensim.models.LdaMulticore(corpus=corpus,\n",
    "                                       id2word=id2word,\n",
    "                                       num_topics=8, \n",
    "                                       random_state=100,\n",
    "                                       chunksize=100,\n",
    "                                       passes=10,\n",
    "                                       per_word_topics=True)"
   ]
  },
  {
   "cell_type": "code",
   "execution_count": 50,
   "id": "b4960a6d",
   "metadata": {},
   "outputs": [],
   "source": [
    "vis_8 = pyLDAvis.gensim_models.prepare(lda_model_8, corpus, id2word)"
   ]
  },
  {
   "cell_type": "code",
   "execution_count": 51,
   "id": "0a71da99",
   "metadata": {},
   "outputs": [
    {
     "data": {
      "text/html": [
       "\n",
       "<link rel=\"stylesheet\" type=\"text/css\" href=\"https://cdn.jsdelivr.net/gh/bmabey/pyLDAvis@3.3.1/pyLDAvis/js/ldavis.v1.0.0.css\">\n",
       "\n",
       "\n",
       "<div id=\"ldavis_el2245621614674362727951935655\"></div>\n",
       "<script type=\"text/javascript\">\n",
       "\n",
       "var ldavis_el2245621614674362727951935655_data = {\"mdsDat\": {\"x\": [-0.020875289531695655, -0.14493732294282782, -0.0645131857074705, -0.08004534855329791, 0.13677176906601038, 0.01074570858874627, 0.30432698709937067, -0.14147331801883553], \"y\": [0.001448358894141839, -0.00808435032826414, -0.2257449963056546, -0.06412911312307447, -0.052738529823638886, 0.025267346222998192, 0.07164211899447508, 0.2523391654690168], \"topics\": [1, 2, 3, 4, 5, 6, 7, 8], \"cluster\": [1, 1, 1, 1, 1, 1, 1, 1], \"Freq\": [21.738628800425385, 17.27615634463792, 16.521527846843497, 13.712303092277404, 12.217515170230833, 9.189038911810194, 5.073639083540339, 4.271190750234447]}, \"tinfo\": {\"Term\": [\"file\", \"div\", \"date\", \"int\", \"self\", \"public\", \"string\", \"value\", \"time\", \"import\", \"table\", \"class\", \"error\", \"android\", \"button\", \"void\", \"text\", \"name\", \"com\", \"python\", \"row\", \"column\", \"array\", \"module\", \"line\", \"database\", \"image\", \"java\", \"log\", \"list\", \"azure\", \"selenium\", \"webdriver\", \"song\", \"xamarin\", \"notebook\", \"analytic\", \"album\", \"pyqt\", \"broker\", \"dx\", \"hardware\", \"atomic\", \"testng\", \"portrait\", \"recv\", \"qtcore\", \"fe\", \"microsoftgbox\", \"daemon\", \"nuget\", \"visual\", \"ack\", \"meteor\", \"lua\", \"landscape\", \"suite\", \"dup\", \"air\", \"microsoftbuild\", \"dll\", \"studio\", \"oauth\", \"trait\", \"advantage\", \"dotnet\", \"sound\", \"assembly\", \"software\", \"talk\", \"cpu\", \"argc\", \"ide\", \"develop\", \"experience\", \"often\", \"tooltip\", \"recently\", \"good\", \"audio\", \"recommend\", \"project\", \"device\", \"vs\", \"machine\", \"window\", \"language\", \"application\", \"thread\", \"way\", \"really\", \"think\", \"thing\", \"well\", \"use\", \"know\", \"process\", \"memory\", \"possible\", \"solution\", \"build\", \"library\", \"run\", \"need\", \"question\", \"seemicrosoft\", \"like\", \"see\", \"make\", \"find\", \"work\", \"look\", \"time\", \"also\", \"go\", \"want\", \"code\", \"app\", \"create\", \"call\", \"try\", \"get\", \"problem\", \"thank\", \"change\", \"user\", \"test\", \"dataframe\", \"na\", \"pd\", \"country\", \"car\", \"quantity\", \"panda\", \"pandas\", \"cart\", \"distinct\", \"foreign\", \"mysqli\", \"mongoose\", \"union\", \"invoice\", \"kwargs\", \"tolist\", \"neo\", \"fruit\", \"sf\", \"lastname\", \"groupby\", \"ggplot\", \"coin\", \"slug\", \"objectid\", \"inventory\", \"mapper\", \"pyspark\", \"yii\", \"price\", \"tibble\", \"column\", \"firstname\", \"city\", \"typename\", \"dataset\", \"dictionary\", \"table\", \"row\", \"desc\", \"product\", \"query\", \"entity\", \"field\", \"student\", \"person\", \"model\", \"list\", \"group\", \"select\", \"value\", \"array\", \"order\", \"category\", \"key\", \"name\", \"count\", \"datum\", \"join\", \"filter\", \"record\", \"result\", \"insert\", \"number\", \"item\", \"index\", \"type\", \"get\", \"null\", \"object\", \"like\", \"return\", \"c\", \"user\", \"want\", \"string\", \"use\", \"function\", \"create\", \"new\", \"code\", \"div\", \"android\", \"css\", \"span\", \"jquery\", \"href\", \"font\", \"img\", \"border\", \"prop\", \"btn\", \"margin\", \"getelementbyid\", \"nav\", \"width\", \"arr\", \"ng\", \"theme\", \"modal\", \"hover\", \"toggle\", \"alt\", \"icon\", \"radius\", \"ch\", \"textarea\", \"footer\", \"onclick\", \"usestate\", \"stylesheet\", \"height\", \"button\", \"center\", \"style\", \"radio\", \"iframe\", \"layout\", \"checkbox\", \"ajax\", \"click\", \"padding\", \"html\", \"color\", \"image\", \"align\", \"grid\", \"form\", \"background\", \"tr\", \"menu\", \"label\", \"text\", \"javascript\", \"title\", \"page\", \"content\", \"class\", \"display\", \"react\", \"component\", \"input\", \"function\", \"var\", \"script\", \"type\", \"element\", \"view\", \"show\", \"code\", \"name\", \"work\", \"use\", \"std\", \"cout\", \"svg\", \"endl\", \"ptr\", \"sizeof\", \"tableview\", \"writeline\", \"texture\", \"void\", \"indexpath\", \"scanner\", \"circle\", \"grade\", \"malloc\", \"myclass\", \"chr\", \"gradient\", \"vertex\", \"angle\", \"buf\", \"food\", \"uint\", \"geometry\", \"tap\", \"chrono\", \"typedef\", \"jframe\", \"expr\", \"sin\", \"println\", \"struct\", \"arraylist\", \"int\", \"bool\", \"stdio\", \"public\", \"printf\", \"vec\", \"private\", \"char\", \"override\", \"vector\", \"rect\", \"double\", \"tostre\", \"static\", \"byte\", \"string\", \"foo\", \"boolean\", \"player\", \"return\", \"new\", \"constructor\", \"class\", \"method\", \"float\", \"system\", \"size\", \"null\", \"main\", \"object\", \"function\", \"const\", \"code\", \"r\", \"type\", \"call\", \"get\", \"value\", \"array\", \"use\", \"try\", \"error\", \"apache\", \"password\", \"intent\", \"docker\", \"auth\", \"nginx\", \"authentication\", \"firebase\", \"logger\", \"ssl\", \"credential\", \"certificate\", \"authenticate\", \"tomcat\", \"elasticsearch\", \"kubernete\", \"artifactid\", \"localhost\", \"authorization\", \"kotlin\", \"androidruntime\", \"appender\", \"fname\", \"logout\", \"gulp\", \"middleware\", \"smtp\", \"sprite\", \"redux\", \"tweet\", \"login\", \"cookie\", \"ip\", \"nodejs\", \"gmail\", \"jar\", \"router\", \"mail\", \"maven\", \"token\", \"port\", \"gradle\", \"username\", \"redirect\", \"request\", \"socket\", \"permission\", \"response\", \"org\", \"log\", \"route\", \"host\", \"client\", \"service\", \"email\", \"com\", \"session\", \"java\", \"api\", \"server\", \"http\", \"send\", \"message\", \"connect\", \"error\", \"url\", \"user\", \"app\", \"https\", \"php\", \"console\", \"get\", \"try\", \"use\", \"name\", \"run\", \"const\", \"csv\", \"regex\", \"bash\", \"ax\", \"webview\", \"workbook\", \"worksheet\", \"nan\", \"pdf\", \"cmake\", \"grep\", \"gender\", \"currency\", \"fig\", \"thumbnail\", \"spreadsheet\", \"autocomplete\", \"tk\", \"htaccess\", \"awk\", \"rm\", \"usd\", \"calc\", \"rem\", \"rec\", \"dep\", \"myfile\", \"subplot\", \"fp\", \"wb\", \"sheet\", \"loc\", \"rewriterule\", \"filename\", \"txt\", \"git\", \"branch\", \"excel\", \"file\", \"folder\", \"word\", \"zip\", \"upload\", \"tmp\", \"directory\", \"dir\", \"cpp\", \"shell\", \"dim\", \"line\", \"character\", \"node\", \"command\", \"path\", \"output\", \"xml\", \"split\", \"r\", \"script\", \"read\", \"copy\", \"open\", \"c\", \"print\", \"write\", \"text\", \"try\", \"use\", \"code\", \"match\", \"end\", \"string\", \"name\", \"work\", \"get\", \"want\", \"find\", \"datum\", \"like\", \"py\", \"func\", \"npm\", \"ctx\", \"pygame\", \"dist\", \"train\", \"plt\", \"rb\", \"pip\", \"matplotlib\", \"gemicrosoft\", \"tensorflow\", \"traceback\", \"webpack\", \"discord\", \"nsstre\", \"flask\", \"anaconda\", \"opencv\", \"self\", \"xlsx\", \"dtype\", \"mov\", \"nslog\", \"pub\", \"aw\", \"nsstring\", \"viewcontroller\", \"fmt\", \"lib\", \"nil\", \"cv\", \"module\", \"django\", \"movie\", \"def\", \"usr\", \"python\", \"numpy\", \"np\", \"xsl\", \"myapp\", \"import\", \"init\", \"package\", \"alloc\", \"install\", \"ruby\", \"error\", \"node\", \"local\", \"site\", \"line\", \"c\", \"print\", \"run\", \"version\", \"file\", \"get\", \"main\", \"test\", \"app\", \"age\", \"blue\", \"textview\", \"fragment\", \"springframework\", \"formula\", \"month\", \"yyyy\", \"stock\", \"yaml\", \"cin\", \"pivot\", \"emp\", \"preventdefault\", \"mar\", \"solr\", \"pagination\", \"rs\", \"mon\", \"nat\", \"catalina\", \"ipv\", \"unity\", \"startdate\", \"barcode\", \"simpledateformat\", \"hh\", \"odbc\", \"observablecollection\", \"hyperlink\", \"bean\", \"utc\", \"date\", \"timestamp\", \"calendar\", \"spark\", \"jdbc\", \"solid\", \"sale\", \"datetime\", \"employee\", \"day\", \"transaction\", \"timezone\", \"blob\", \"combobox\", \"oracle\", \"procedure\", \"sql\", \"year\", \"hour\", \"week\", \"database\", \"time\", \"job\", \"interval\", \"format\", \"report\", \"minute\", \"end\", \"start\", \"db\", \"set\", \"property\", \"use\", \"table\", \"query\", \"create\", \"get\", \"datum\", \"update\", \"server\"], \"Freq\": [22649.0, 12977.0, 7283.0, 11402.0, 6432.0, 11046.0, 17564.0, 20360.0, 9886.0, 8530.0, 9527.0, 21982.0, 16794.0, 7259.0, 7196.0, 5952.0, 11632.0, 21846.0, 8298.0, 4478.0, 7927.0, 7182.0, 8856.0, 3843.0, 7951.0, 4587.0, 8613.0, 8222.0, 6947.0, 10898.0, 776.024543434738, 523.3167781566799, 294.03100918021585, 262.787900903506, 238.04488399342094, 217.3038875016007, 211.67691608313112, 188.43364078651118, 166.51017505677268, 164.67923408925208, 151.31293705656253, 152.52137184763257, 147.66070240213898, 135.60549133151704, 130.11282237492253, 130.2656394051319, 129.45244549051543, 129.32566585490923, 127.57978516585572, 125.10965027902888, 123.86222610597329, 1037.7817863502155, 119.36623413089137, 118.75445285682954, 111.09483020141457, 104.01331570548003, 106.91105091108747, 95.44994811748099, 94.8851614157045, 93.31368098147625, 974.5084338029113, 1103.8186947980257, 298.32117539701375, 203.16926667223126, 152.3039385634139, 1241.9861446543337, 502.3423585261704, 565.6509749630515, 538.3837368162938, 259.8691674679584, 353.8778939656784, 230.2824562210411, 326.1448563741201, 814.0821212694343, 475.019494569894, 261.0541614197404, 376.18749723367057, 390.527584614067, 3197.1662698503224, 507.94656646760814, 322.0008156694861, 4476.795692952146, 1556.0231096478205, 766.0403058838554, 980.9559372271054, 4203.345617510014, 1225.610481063613, 4873.157213943125, 2567.0075419957448, 6688.534038908116, 1561.1887973698638, 2467.787026090307, 1926.5085714093648, 2520.5175019605795, 18792.290471911605, 4533.942406523373, 2615.7227786206936, 1270.5664803237983, 2501.3403501830094, 2376.8843544811484, 3000.165679666306, 2204.0778304139444, 5521.807849285614, 5165.052233090078, 3154.409850570961, 1847.1617819943492, 6900.716410917225, 3246.6181481918798, 4406.470547743662, 4647.745833914967, 6657.2752076166125, 3189.6254626924715, 4210.6197492002375, 2795.569108089758, 2666.615427007175, 4858.013200195343, 6112.40665087365, 3841.7481338031234, 4101.286420072026, 3513.256176159245, 4125.655368807694, 4262.355446755928, 2957.7360363602065, 2854.853823254888, 2945.5034487460584, 3114.9100248100553, 2802.3630925710286, 1496.4318601759232, 1071.6611071374145, 818.433721590237, 1005.2930137488843, 594.0031532576068, 546.1288989431243, 497.21974341111195, 353.24913151015073, 385.45941644912375, 281.92913318170224, 280.5920581652137, 383.0932474852643, 262.4337520684266, 264.20125020407517, 251.73685831049863, 231.95905790433972, 222.30365563681912, 201.33717554180743, 200.3242799631672, 200.380835596993, 445.06500898747856, 187.10845014856798, 292.1298968423767, 176.42111554882342, 172.59397770089336, 169.9929405467184, 166.71326841174704, 160.23997287801174, 158.42575558018342, 157.12275749448864, 1341.440909144234, 249.5706160406597, 6763.921478106903, 497.750619253981, 797.7171009250811, 302.5163300225796, 914.1423623308054, 778.3737365270125, 8505.428621531, 7103.243014019148, 521.470838345753, 2566.450619112132, 4995.0363836436745, 1202.9205507881459, 4283.173899502151, 840.2287327488907, 969.0339196299769, 4095.32919842278, 8338.987821752595, 2903.8133432246073, 6083.592862431257, 13998.097684644243, 6592.331652454298, 3089.0916223949657, 1387.8018475804297, 4607.278821591825, 12705.567953789043, 2798.6592101951946, 10339.240823380556, 1491.467492442742, 1888.7053904043903, 1658.4827552153247, 4650.773578578432, 1842.1971169567396, 3830.63095355595, 3018.4775662671072, 3022.516294287046, 5152.7336530700095, 6454.624964422765, 2969.951494814923, 3636.7122393914024, 4758.426012280382, 4610.6342492397725, 3607.956203568423, 4367.864778495938, 3732.6217203291626, 3974.389991597459, 4703.957733200568, 3805.3425757705113, 3213.700762960002, 3100.607765371815, 3104.046974310598, 12976.985961237815, 7258.993619098032, 2867.1838095790004, 2342.367737638843, 2385.625964935542, 2220.2413080182373, 2162.5936236581565, 1841.2640682174515, 1531.3293902890798, 1232.859353155769, 1114.25628131325, 1355.2959111441328, 822.683761159189, 820.5230337969439, 4972.288993865914, 767.0642664041869, 669.5790020036974, 649.7077608398777, 551.0917446985142, 534.0477884873602, 527.21210998144, 471.2394620076599, 1475.791202830494, 452.0403632408835, 421.81807300252814, 445.715834941098, 396.24770828054363, 857.842521251335, 359.8065330676774, 429.3356907171092, 3901.99868148862, 7125.800910754752, 1606.8061485913267, 3786.458704478396, 568.9521434778262, 491.1823696564636, 2691.090551163166, 732.3310124166168, 1517.7602445984442, 4307.592922452518, 998.1266860038419, 6017.686918325184, 3998.4397430508675, 7386.757021803102, 1034.5171611565868, 1627.7494854264648, 5381.156243511028, 2515.873140185933, 1616.8196132655462, 1478.7822879773985, 3295.258051600252, 8061.8669167654725, 2536.2422715401635, 3274.382980446065, 4954.146546752141, 3927.012624750786, 9566.814928570848, 3270.794976191319, 2031.5553402696496, 2479.114504596614, 3873.315114674922, 5917.023118955508, 4230.809381800656, 3484.4812839859414, 4025.184414765375, 2752.387142250212, 2782.529123593335, 2804.22188531716, 3196.84664530152, 3166.3162858978485, 3055.3105478644397, 2839.505383157223, 2920.254398218077, 955.5677675180807, 785.5909988476675, 519.6234124019517, 507.178810748709, 447.8637033257528, 431.9668110074623, 446.0307542154629, 382.05178256602903, 5939.037683183201, 348.61488479801693, 332.97854760444017, 661.0980606410227, 269.84807623044816, 266.58352405219966, 271.6858159090219, 241.51352210918566, 239.72441317243383, 237.10674308228653, 225.57682923169372, 219.28261809088733, 219.37692754866984, 588.7414726516204, 217.08395440831237, 204.06140306032847, 200.7597692940667, 202.6400673454756, 191.8658591679183, 188.6900231352939, 181.6617804060659, 1489.1941922784551, 1499.0990158923496, 593.3383466070152, 10915.973470868867, 1052.9465035575859, 218.05284036997895, 10049.03411683784, 1029.1925354595533, 398.0380901939634, 3622.953598466221, 2026.2287050008476, 1901.2784617353234, 1281.7719077749275, 501.81213131254594, 1490.3116117518846, 1014.7471853312675, 2546.3035701998833, 1501.8664624525172, 11065.543609818433, 1656.769720965296, 880.3599886559165, 1119.4305798899786, 7831.403512733623, 7922.366512567694, 912.0697182403387, 8386.734060265819, 3764.4113631889622, 1291.0081234261793, 2643.193616484509, 2449.8506309024538, 2833.904430796747, 2386.0056656901493, 3075.1800299794895, 4190.652823618102, 2092.0752473270336, 3873.4258457956876, 2116.980401931156, 2991.023676722814, 2426.903964192622, 3108.1633774583584, 2950.2415948174107, 2170.0464331350286, 2981.9707974145326, 2370.2981950312983, 2032.4613120230201, 1290.290799497002, 2735.9131807870895, 938.915376612091, 888.1589862339025, 826.6002221227861, 599.7579413916703, 579.0866463745264, 586.0112863327997, 459.8852439600355, 386.29563027359546, 362.80085963077704, 352.9934717313232, 305.4523679799466, 301.1314877031813, 284.7615539363651, 265.8330588010327, 249.90867103839537, 1351.7014404996917, 262.91314164993395, 237.77796526162766, 225.91046640400822, 217.36572417928357, 214.66843006139507, 207.046411742482, 205.40323734076185, 215.03276214942727, 191.90068547303693, 190.98054564637548, 182.06802204939592, 178.09729603354, 1994.5890472350425, 721.9340803506589, 1101.751401122759, 301.7406382185524, 365.47669666286544, 888.5330316908829, 842.2772765953401, 702.955449465387, 516.8530684510633, 1685.8264738637874, 1714.5287638696223, 526.090413104427, 1786.816532323511, 1016.6741943580382, 5033.7381943996015, 1216.9465118248768, 924.3623965698408, 3236.981447893893, 2955.337862317775, 5739.043771563484, 1478.9916105295865, 1589.8443607970037, 3208.6241324545995, 3095.76299895629, 2419.2732267037645, 5900.981367126779, 1739.4902301514885, 5491.321392991041, 3034.712283263796, 5025.269428716317, 4252.37393899347, 2828.512549669279, 3949.464858628491, 1817.3981861798143, 7655.958352779123, 3664.3460557496214, 6375.38913591051, 4511.481770301359, 2271.4849411040545, 2834.523117772467, 2276.3317507042757, 4447.502185469281, 2975.463224470185, 3540.549468442153, 2917.1929779432244, 2257.5613689119414, 1875.2614402406305, 1241.7187334021423, 927.6373852667471, 586.4891482344599, 460.54164478007215, 411.64167574548134, 399.3198536518283, 346.21438094097425, 337.4598532634003, 815.1256287749486, 270.73193247977383, 253.68418972924636, 252.11358551123564, 241.97447795817018, 251.18313409131588, 197.5735909418892, 197.70068443858798, 188.7186587078025, 185.7675525733014, 200.14395452982174, 173.19569085732, 168.02305148314403, 155.158340251831, 148.33619249122683, 147.5317933869843, 143.51082169377617, 143.02957047259272, 136.24001167796348, 143.7925045426515, 130.9210256346983, 191.19391040941525, 1226.2523363871649, 336.18284474045333, 201.07152534891517, 1351.7340848645733, 1017.8588443282442, 921.7502007104895, 696.2858516823627, 1194.2228316811634, 18748.837075377574, 2005.8684170096399, 1707.9677854820823, 452.15305752554355, 1318.065344758223, 596.5026720033078, 1718.1140251251454, 817.3026688789687, 474.135651257939, 574.4022512853055, 1038.5371158888936, 4551.384566922915, 1271.0969747548359, 2402.157045647358, 2373.552054733345, 2710.2080815420645, 2759.4045789315965, 1654.7573270182208, 848.1716732183361, 2261.0384241157076, 2436.1611848667876, 2073.8362976248627, 1163.245960987962, 1723.9009092429926, 2896.076941028764, 2087.3672085328226, 1816.3525086406096, 2331.2584486926394, 2636.6934825646354, 3260.092706249707, 2395.209730574945, 1322.417203780084, 1581.1908078138495, 1952.089057235596, 1934.671764634482, 1836.6794163125155, 1844.1796679194465, 1678.5538663263833, 1598.0039377741846, 1602.8505660174922, 1541.5635969572984, 1578.363851237965, 1195.8436027370356, 758.2228266414899, 450.83231672159087, 411.4527107441689, 410.58341848988874, 529.8035436993904, 611.405220984593, 432.0968879378038, 351.35568811019294, 344.16741303688457, 280.77371392928217, 256.2362326644322, 250.97299421224344, 252.0611617008148, 241.6659294540858, 240.87495475212125, 249.72930304992775, 222.08406939960372, 219.91942360937375, 6406.573384159133, 187.10555727044846, 186.06288179782942, 185.24655497408517, 183.86205701597436, 184.18320305445158, 179.7698259786257, 177.14102365495128, 169.87282137080163, 159.91298259267106, 2007.8701087542752, 789.2093664643253, 397.71251226804264, 3134.531584512309, 1047.2891372057131, 358.1973500476355, 2123.249052168632, 843.7872149405273, 3241.3111188791668, 604.02620137599, 966.2263505997907, 455.4424937147842, 354.0105898971054, 4229.299899445513, 1176.6699635822301, 1666.3192723013103, 357.31449067149595, 1067.289450989071, 596.8485807091135, 2565.0212142523455, 1191.8299575284234, 838.982920794176, 821.8522449100988, 1236.2772284471625, 1283.3084612020743, 997.3950884376535, 1198.697220701465, 900.7760252865933, 1361.9152154994135, 970.3718345066977, 766.7219769579601, 778.886626339057, 682.1193979532271, 901.4883679037735, 638.7978325392548, 552.738732990596, 538.9275885205063, 430.37293056805527, 414.2639670231865, 1294.322961992771, 379.97816408453275, 251.4513221688616, 229.91978630150385, 187.80707343602023, 175.3225790998234, 185.1695339744412, 173.1864494422481, 162.0318638713194, 159.46877284438025, 157.86107382028246, 279.4984592075622, 146.84727080387216, 133.91867501991393, 133.72683519656886, 131.909978820505, 129.58596164001509, 129.67191207549965, 125.28581037611201, 124.9156088804818, 120.57048205086345, 111.72387054704451, 108.01024873294739, 107.475099188738, 674.2944590114299, 183.62849170699175, 6962.12775064836, 1044.7137344612938, 459.1136076071975, 336.90057369517456, 388.11864468796716, 429.9069462813797, 333.1264010252983, 1160.5225252830833, 601.7870717062348, 1951.2407207996118, 640.214917759733, 217.21770572772897, 287.17192308665756, 215.9328209236916, 502.76678199394485, 504.1590887104995, 2285.028720785138, 1257.6967196620426, 755.6912636538822, 394.3287894974668, 2227.3804989694936, 3150.6476876928664, 690.2548483237888, 371.5149176565534, 1239.6806824343444, 633.5532427908464, 441.01174899872257, 966.0921867856255, 825.1484429370385, 625.9754729776847, 923.1563952566107, 712.1391068397708, 1145.6901386454285, 836.3480686010363, 691.3456832426076, 702.724759477989, 710.6469117792747, 674.6495530403125, 619.3897467044178, 622.8308614367913], \"Total\": [22649.0, 12977.0, 7283.0, 11402.0, 6432.0, 11046.0, 17564.0, 20360.0, 9886.0, 8530.0, 9527.0, 21982.0, 16794.0, 7259.0, 7196.0, 5952.0, 11632.0, 21846.0, 8298.0, 4478.0, 7927.0, 7182.0, 8856.0, 3843.0, 7951.0, 4587.0, 8613.0, 8222.0, 6947.0, 10898.0, 776.824715904145, 524.1163312447193, 294.8307582615493, 263.58745155932905, 238.84604788934166, 218.1073814499994, 212.4766932834208, 189.2337236086012, 167.3122852448923, 165.47905717513137, 152.11468828412734, 153.3296779025283, 148.46011473085215, 136.40590038891608, 130.9131064118399, 131.06792683004997, 130.25485954742157, 130.1313295174238, 128.392641840417, 125.90933285435665, 124.66092607036639, 1044.6894547641482, 120.16717771534357, 119.55343525195983, 111.8968488367801, 104.81282231947256, 107.73925285562281, 96.25343380189436, 95.69127259689695, 94.1134725723772, 985.6709819682529, 1127.839232595451, 302.482420376144, 205.60231333075623, 153.83186795326185, 1289.6275263562552, 514.5589740381681, 581.781276644133, 556.1194601548776, 265.09460286058373, 365.46602855163616, 235.3746873487809, 337.1355790812342, 878.4881349834004, 502.4011634997398, 269.6547993161392, 395.18454767933065, 412.0908013913013, 3803.5336364119366, 545.6197743741881, 338.7714672735291, 5917.877986038091, 1876.5653942689999, 876.1350926218223, 1154.607150179124, 5825.909654058485, 1482.4039839424422, 7041.436810278735, 3429.5423632687525, 10420.592445562057, 2004.0461937918724, 3411.399092402986, 2618.199233782966, 3588.336310071205, 37635.850489708544, 7222.03200844876, 3791.2132051716158, 1632.9309846106478, 3741.1511778642725, 3540.2255240279646, 4827.021649853735, 3322.0187110027946, 10805.408347387156, 10120.476953659587, 5342.837229367834, 2673.4802174629617, 16245.148075912697, 5880.102524262177, 9015.684026120105, 10090.416536733987, 17041.651997716992, 6080.622443597525, 9886.764467630654, 5269.074111679945, 4963.59383263126, 13832.353318658066, 20992.41024293962, 10379.317727387896, 12266.913420093117, 8878.893177822316, 18509.430399769484, 23837.034128034462, 6929.61221332208, 6487.551400589585, 7618.438798762383, 15466.732302874176, 9434.052678116515, 1497.2559833084822, 1072.4912059403712, 819.2585312079948, 1006.5423853423614, 594.8808148223575, 546.9576747786627, 498.0447980379357, 354.0733715301124, 386.5371419012121, 282.75537633291947, 281.4194698256892, 384.26948344114317, 263.2596678029797, 265.0613796356721, 252.56098728901642, 232.79261936615956, 223.1280357765068, 202.1616496418397, 201.1483252484836, 201.2071316090905, 447.00285660845907, 187.93237349901588, 293.49041869790994, 177.2457987583651, 173.41863906864816, 170.81686050238125, 167.53761423586226, 161.06681419363932, 159.25190976681134, 157.94791643781352, 1352.1480809155387, 251.3425663665529, 7182.589252052657, 506.2020257686011, 820.7365683191855, 306.8126635054919, 951.639030848092, 807.8609913945692, 9527.85009926368, 7927.765369271416, 538.5262695328747, 2787.3175889594827, 5771.241995193654, 1293.6621373912897, 5060.406430330074, 903.9106263195686, 1054.7962933869399, 4973.999513854308, 10898.35048888904, 3510.913101888112, 7900.744677984178, 20360.189894628547, 8856.28311767772, 3923.5750093840547, 1637.1509829237336, 6514.876793410956, 21846.46114569568, 3765.9375725578752, 18496.33104685514, 1815.7541543436018, 2456.1910542905416, 2106.555327139101, 8185.6364627234925, 2470.5840560557212, 7177.220633898734, 5185.2906984866995, 5229.4562988181215, 14441.852669946395, 23837.034128034462, 6514.841114151456, 9429.28476049113, 16245.148075912697, 16375.640603030974, 9941.642539179586, 15466.732302874176, 13832.353318658066, 17564.60935340101, 37635.850489708544, 17124.76312106276, 12266.913420093117, 17956.259172653456, 20992.41024293962, 12977.82628114149, 7259.815971177221, 2868.028430892024, 2343.216422603338, 2386.5071608939447, 2221.064317671674, 2163.654752507654, 1842.2032484049125, 1532.1741499885923, 1233.681651282608, 1115.0776909269357, 1356.5018202170472, 823.506142809086, 821.3475123350646, 4977.606093140346, 767.889517118736, 670.4012051511746, 650.6683866675405, 551.935282484291, 534.8849716819526, 528.0595221817355, 472.063989735028, 1478.4733004666152, 452.8671681229784, 422.64274668793956, 446.6043919015802, 397.07054690584886, 859.6781341761683, 360.62853933011013, 430.32034339944863, 3914.046580073418, 7196.062992717771, 1616.3914666020046, 3848.863259342772, 570.7601576434122, 492.3199861436033, 2758.8487337556944, 738.1452758326639, 1555.34882598058, 4703.184043223365, 1025.5296038055437, 6800.785921405297, 4427.933376427936, 8613.22693990524, 1066.4920025733838, 1737.5126882567733, 6536.943953705991, 2852.7680024675337, 1759.0724346081665, 1591.4299187354638, 3972.319955413818, 11632.642057580546, 3052.7506015110835, 4297.1068688582, 7394.23903241253, 5799.379355239736, 21982.73011048572, 4859.18564667761, 2421.8195309603384, 3464.518724190088, 7807.39304129742, 17124.76312106276, 9292.241559293898, 6727.353495332173, 14441.852669946395, 5147.042915194389, 5866.9956076211665, 6440.250944066368, 20992.41024293962, 21846.46114569568, 17041.651997716992, 37635.850489708544, 2921.1280116702, 956.4153240170219, 786.4709527413295, 520.4504170755752, 507.9988236997206, 448.68452052731567, 432.78688314258426, 446.8863386196735, 382.87172781368747, 5952.866097409499, 349.43458107322346, 333.8108644243713, 663.0298949533627, 270.67365667466987, 267.40302052134143, 272.5421470123838, 242.33605828625215, 240.56231770223843, 237.94956693618533, 226.39746128131117, 220.1030285831871, 220.19944283519342, 591.0360838881827, 217.9380662000806, 204.88388522100897, 201.57969253539702, 203.48051040378428, 192.68537504980588, 189.51166716770453, 182.48234751522367, 1506.8851274531667, 1517.1659275429413, 601.7990266143472, 11402.84476933497, 1075.9551823519257, 219.14804049835678, 11046.769895428833, 1072.49614765928, 406.2246548292243, 3996.908661305847, 2185.141348252965, 2098.7533062416264, 1404.8843792910077, 525.2637272739787, 1691.6101859431406, 1136.396805414904, 3093.5280093394654, 1782.5580524083764, 17564.60935340101, 2056.339752613266, 1037.170946997162, 1400.192952433611, 16375.640603030974, 17956.259172653456, 1124.035816415105, 21982.73011048572, 8139.603409772801, 1851.2224069770996, 5593.785595568139, 5138.835018686686, 6514.841114151456, 5372.773843920583, 9429.28476049113, 17124.76312106276, 5343.345570037908, 20992.41024293962, 5849.914591286101, 14441.852669946395, 8878.893177822316, 23837.034128034462, 20360.189894628547, 8856.28311767772, 37635.850489708544, 18509.430399769484, 16794.704027889733, 1291.130505554309, 2738.2209847906934, 939.7384269347418, 889.2726817227299, 827.7182998052687, 600.5796677038635, 579.911401407662, 587.0355858140059, 460.707041175827, 387.1250514513133, 363.6223374842235, 353.85239720036856, 306.27313773338335, 301.95277362360326, 285.5845052843984, 266.6713610216441, 250.74564989496625, 1356.2627958851858, 263.80065931522404, 238.60050051382396, 226.73110485910638, 218.1861129490932, 215.4925461304157, 207.86743868988484, 206.22927324802293, 215.91009140336644, 192.72194395147096, 191.80597046049334, 182.88968625766606, 178.91912897479236, 2006.1939492144554, 727.5662034675307, 1118.3196233929564, 303.24775631254636, 368.49763362096314, 906.1588291785487, 865.6652873191405, 721.5372747185676, 527.8770555963691, 1776.690026865803, 1812.9880347318715, 537.764061891599, 1931.699187484599, 1074.0369529526793, 5690.760535853251, 1307.7114370199934, 980.5759913177856, 3674.3088369217567, 3363.1409345390134, 6947.4818627360755, 1649.8600283645928, 1794.367414204239, 3886.7260268373398, 3927.5138851379006, 2977.147720352453, 8298.468664112563, 2087.6542365911055, 8222.867432867046, 4102.648504111106, 7595.856720374623, 6221.448804285, 3796.3727199112845, 5879.300821474055, 2316.753065671163, 16794.704027889733, 6142.399722356122, 15466.732302874176, 10379.317727387896, 3866.46485888607, 6225.805208980682, 4184.196869462278, 23837.034128034462, 18509.430399769484, 37635.850489708544, 21846.46114569568, 10805.408347387156, 5343.345570037908, 1242.6451577465916, 928.4943421683193, 587.4015088649942, 461.36654070803695, 412.46507418103, 400.14266061169786, 347.05068426549553, 338.2839062454476, 817.3802079444889, 271.5549648694283, 254.50664201444656, 252.93897003598647, 242.7993421348345, 252.1143718193584, 198.39823074164238, 198.5616910556197, 189.54255829396192, 186.59167232725824, 201.0374667508336, 174.0178004159126, 168.84717838436484, 155.9826501023473, 149.16061820889018, 148.35795768723008, 144.33417223627956, 143.8550273465073, 137.0621958966376, 144.7007968190762, 131.75317993521503, 192.47785864762233, 1237.1239508726132, 340.90270598688454, 202.89254814510548, 1400.7325658914665, 1054.0987402912947, 953.1128006888473, 717.6560991672624, 1248.7159074552933, 22649.344993870964, 2324.0111244613627, 2088.896480295299, 490.9048339972052, 1597.0999259627147, 668.7319720603698, 2176.9749818970417, 957.6723814157144, 535.4809091983061, 666.138338859453, 1326.6772076417633, 7951.809810299057, 1793.5348441725043, 3934.555358018567, 3889.9613168815717, 4861.324403787363, 5516.922976857477, 3008.4617566516963, 1276.0093850082533, 5849.914591286101, 6727.353495332173, 5299.451400517195, 2111.6271002196336, 4069.2553765964867, 9941.642539179586, 5780.521339927971, 6064.449260004832, 11632.642057580546, 18509.430399769484, 37635.850489708544, 20992.41024293962, 3116.057262173888, 6575.152194127839, 17564.60935340101, 21846.46114569568, 17041.651997716992, 23837.034128034462, 13832.353318658066, 10090.416536733987, 18496.33104685514, 16245.148075912697, 1579.1990575243553, 1196.6748639499733, 759.0616137524037, 451.66545358380336, 412.283647093736, 411.41501484543795, 530.9495263326279, 612.8105038551975, 433.11464206723525, 352.18603231033995, 345.0880053679296, 281.60414936471403, 257.0685730330236, 251.80512319520236, 252.91980574846545, 242.49805294136647, 241.7053771155498, 250.60287508453698, 222.91461993212067, 220.7601668087613, 6432.554725039638, 187.94056993637332, 186.89423572662093, 186.07726668430368, 184.69247390718374, 185.01637386988114, 180.60194682702925, 177.97795230776796, 170.70371849168487, 160.74425058882673, 2099.142697122233, 817.6079402369958, 408.3077304962277, 3843.2488937873127, 1185.9910728334473, 378.25925048579035, 2772.8748665858625, 999.2553677485047, 4478.070641066697, 696.1811783034497, 1205.3442986344737, 510.80940489667955, 386.3583447950972, 8530.524443797052, 1758.2488992375881, 2787.2959278629437, 394.70391529840094, 1692.4480441293751, 781.7775723805242, 16794.704027889733, 3934.555358018567, 2299.0314349153846, 2844.3907620791774, 7951.809810299057, 9941.642539179586, 5780.521339927971, 10805.408347387156, 5049.150005202243, 22649.344993870964, 23837.034128034462, 5372.773843920583, 9434.052678116515, 10379.317727387896, 902.3555914466018, 639.6255805189098, 553.5663566372062, 539.7551557744032, 431.19814823873685, 415.0898105599626, 1296.9705255962756, 381.0518123437281, 252.27710847865322, 230.74777081793374, 188.63336543748343, 176.14872611218112, 186.0462834555549, 174.01915626740302, 162.85791861700466, 160.29918609814993, 158.69513542510467, 281.0975923592146, 147.72001871952162, 134.74496407442416, 134.55239240077145, 132.73628735648327, 130.41653065113096, 130.5255965634452, 126.1118791084369, 125.74061287516236, 121.41160207012156, 112.56729144111225, 108.83600524489918, 108.30133009307066, 680.0605872231115, 185.1669905431082, 7283.196377643882, 1077.8647881122556, 468.8652164555302, 342.86778283759236, 396.45619810467645, 440.49385818370274, 342.79339552322415, 1257.3385261907956, 637.0982478783833, 2193.841535285973, 685.1831613707334, 222.20378410126392, 300.1304677233742, 221.6807923727985, 572.9872167157986, 588.5589591805606, 3392.21204222468, 1753.3540717783362, 971.5904299911488, 481.5062036226137, 4587.812580298786, 9886.764467630654, 1155.880501055818, 446.8793828470726, 3272.0027052885534, 1254.3106696942668, 639.3047173042437, 6575.152194127839, 6444.027888417003, 2445.201066587876, 11062.533242174983, 4117.208698327006, 37635.850489708544, 9527.85009926368, 5771.241995193654, 12266.913420093117, 23837.034128034462, 18496.33104685514, 5728.913902239802, 7595.856720374623], \"Category\": [\"Default\", \"Default\", \"Default\", \"Default\", \"Default\", \"Default\", \"Default\", \"Default\", \"Default\", \"Default\", \"Default\", \"Default\", \"Default\", \"Default\", \"Default\", \"Default\", \"Default\", \"Default\", \"Default\", \"Default\", \"Default\", \"Default\", \"Default\", \"Default\", \"Default\", \"Default\", \"Default\", \"Default\", \"Default\", \"Default\", \"Topic1\", \"Topic1\", \"Topic1\", \"Topic1\", \"Topic1\", \"Topic1\", \"Topic1\", \"Topic1\", \"Topic1\", \"Topic1\", \"Topic1\", \"Topic1\", \"Topic1\", \"Topic1\", \"Topic1\", \"Topic1\", \"Topic1\", \"Topic1\", \"Topic1\", \"Topic1\", \"Topic1\", \"Topic1\", \"Topic1\", \"Topic1\", \"Topic1\", \"Topic1\", \"Topic1\", \"Topic1\", \"Topic1\", \"Topic1\", \"Topic1\", \"Topic1\", \"Topic1\", \"Topic1\", \"Topic1\", \"Topic1\", \"Topic1\", \"Topic1\", \"Topic1\", \"Topic1\", \"Topic1\", \"Topic1\", \"Topic1\", \"Topic1\", \"Topic1\", \"Topic1\", \"Topic1\", \"Topic1\", \"Topic1\", \"Topic1\", \"Topic1\", \"Topic1\", \"Topic1\", \"Topic1\", \"Topic1\", \"Topic1\", \"Topic1\", \"Topic1\", \"Topic1\", \"Topic1\", \"Topic1\", \"Topic1\", \"Topic1\", \"Topic1\", \"Topic1\", \"Topic1\", \"Topic1\", \"Topic1\", \"Topic1\", \"Topic1\", \"Topic1\", \"Topic1\", \"Topic1\", \"Topic1\", \"Topic1\", \"Topic1\", \"Topic1\", \"Topic1\", \"Topic1\", \"Topic1\", \"Topic1\", \"Topic1\", \"Topic1\", \"Topic1\", \"Topic1\", \"Topic1\", \"Topic1\", \"Topic1\", \"Topic1\", \"Topic1\", \"Topic1\", \"Topic1\", \"Topic1\", \"Topic1\", \"Topic1\", \"Topic1\", \"Topic1\", \"Topic2\", \"Topic2\", \"Topic2\", \"Topic2\", \"Topic2\", \"Topic2\", \"Topic2\", \"Topic2\", \"Topic2\", \"Topic2\", \"Topic2\", \"Topic2\", \"Topic2\", \"Topic2\", \"Topic2\", \"Topic2\", \"Topic2\", \"Topic2\", \"Topic2\", \"Topic2\", \"Topic2\", \"Topic2\", \"Topic2\", \"Topic2\", \"Topic2\", \"Topic2\", \"Topic2\", \"Topic2\", \"Topic2\", \"Topic2\", \"Topic2\", \"Topic2\", \"Topic2\", \"Topic2\", \"Topic2\", \"Topic2\", \"Topic2\", \"Topic2\", \"Topic2\", \"Topic2\", \"Topic2\", \"Topic2\", \"Topic2\", \"Topic2\", \"Topic2\", \"Topic2\", \"Topic2\", \"Topic2\", \"Topic2\", \"Topic2\", \"Topic2\", \"Topic2\", \"Topic2\", \"Topic2\", \"Topic2\", \"Topic2\", \"Topic2\", \"Topic2\", \"Topic2\", \"Topic2\", \"Topic2\", \"Topic2\", \"Topic2\", \"Topic2\", \"Topic2\", \"Topic2\", \"Topic2\", \"Topic2\", \"Topic2\", \"Topic2\", \"Topic2\", \"Topic2\", \"Topic2\", \"Topic2\", \"Topic2\", \"Topic2\", \"Topic2\", \"Topic2\", \"Topic2\", \"Topic2\", \"Topic2\", \"Topic2\", \"Topic3\", \"Topic3\", \"Topic3\", \"Topic3\", \"Topic3\", \"Topic3\", \"Topic3\", \"Topic3\", \"Topic3\", \"Topic3\", \"Topic3\", \"Topic3\", \"Topic3\", \"Topic3\", \"Topic3\", \"Topic3\", \"Topic3\", \"Topic3\", \"Topic3\", \"Topic3\", \"Topic3\", \"Topic3\", \"Topic3\", \"Topic3\", \"Topic3\", \"Topic3\", \"Topic3\", \"Topic3\", \"Topic3\", \"Topic3\", \"Topic3\", \"Topic3\", \"Topic3\", \"Topic3\", \"Topic3\", \"Topic3\", \"Topic3\", \"Topic3\", \"Topic3\", \"Topic3\", \"Topic3\", \"Topic3\", \"Topic3\", \"Topic3\", \"Topic3\", \"Topic3\", \"Topic3\", \"Topic3\", \"Topic3\", \"Topic3\", \"Topic3\", \"Topic3\", \"Topic3\", \"Topic3\", \"Topic3\", \"Topic3\", \"Topic3\", \"Topic3\", \"Topic3\", \"Topic3\", \"Topic3\", \"Topic3\", \"Topic3\", \"Topic3\", \"Topic3\", \"Topic3\", \"Topic3\", \"Topic3\", \"Topic3\", \"Topic3\", \"Topic3\", \"Topic3\", \"Topic4\", \"Topic4\", \"Topic4\", \"Topic4\", \"Topic4\", \"Topic4\", \"Topic4\", \"Topic4\", \"Topic4\", \"Topic4\", \"Topic4\", \"Topic4\", \"Topic4\", \"Topic4\", \"Topic4\", \"Topic4\", \"Topic4\", \"Topic4\", \"Topic4\", \"Topic4\", \"Topic4\", \"Topic4\", \"Topic4\", \"Topic4\", \"Topic4\", \"Topic4\", \"Topic4\", \"Topic4\", \"Topic4\", \"Topic4\", \"Topic4\", \"Topic4\", \"Topic4\", \"Topic4\", \"Topic4\", \"Topic4\", \"Topic4\", \"Topic4\", \"Topic4\", \"Topic4\", \"Topic4\", \"Topic4\", \"Topic4\", \"Topic4\", \"Topic4\", \"Topic4\", \"Topic4\", \"Topic4\", \"Topic4\", \"Topic4\", \"Topic4\", \"Topic4\", \"Topic4\", \"Topic4\", \"Topic4\", \"Topic4\", \"Topic4\", \"Topic4\", \"Topic4\", \"Topic4\", \"Topic4\", \"Topic4\", \"Topic4\", \"Topic4\", \"Topic4\", \"Topic4\", \"Topic4\", \"Topic4\", \"Topic4\", \"Topic4\", \"Topic4\", \"Topic4\", \"Topic4\", \"Topic4\", \"Topic4\", \"Topic5\", \"Topic5\", \"Topic5\", \"Topic5\", \"Topic5\", \"Topic5\", \"Topic5\", \"Topic5\", \"Topic5\", \"Topic5\", \"Topic5\", \"Topic5\", \"Topic5\", \"Topic5\", \"Topic5\", \"Topic5\", \"Topic5\", \"Topic5\", \"Topic5\", \"Topic5\", \"Topic5\", \"Topic5\", \"Topic5\", \"Topic5\", \"Topic5\", \"Topic5\", \"Topic5\", \"Topic5\", \"Topic5\", \"Topic5\", \"Topic5\", \"Topic5\", \"Topic5\", \"Topic5\", \"Topic5\", \"Topic5\", \"Topic5\", \"Topic5\", \"Topic5\", \"Topic5\", \"Topic5\", \"Topic5\", \"Topic5\", \"Topic5\", \"Topic5\", \"Topic5\", \"Topic5\", \"Topic5\", \"Topic5\", \"Topic5\", \"Topic5\", \"Topic5\", \"Topic5\", \"Topic5\", \"Topic5\", \"Topic5\", \"Topic5\", \"Topic5\", \"Topic5\", \"Topic5\", \"Topic5\", \"Topic5\", \"Topic5\", \"Topic5\", \"Topic5\", \"Topic5\", \"Topic5\", \"Topic5\", \"Topic5\", \"Topic5\", \"Topic5\", \"Topic5\", \"Topic5\", \"Topic5\", \"Topic5\", \"Topic5\", \"Topic5\", \"Topic6\", \"Topic6\", \"Topic6\", \"Topic6\", \"Topic6\", \"Topic6\", \"Topic6\", \"Topic6\", \"Topic6\", \"Topic6\", \"Topic6\", \"Topic6\", \"Topic6\", \"Topic6\", \"Topic6\", \"Topic6\", \"Topic6\", \"Topic6\", \"Topic6\", \"Topic6\", \"Topic6\", \"Topic6\", \"Topic6\", \"Topic6\", \"Topic6\", \"Topic6\", \"Topic6\", \"Topic6\", \"Topic6\", \"Topic6\", \"Topic6\", \"Topic6\", \"Topic6\", \"Topic6\", \"Topic6\", \"Topic6\", \"Topic6\", \"Topic6\", \"Topic6\", \"Topic6\", \"Topic6\", \"Topic6\", \"Topic6\", \"Topic6\", \"Topic6\", \"Topic6\", \"Topic6\", \"Topic6\", \"Topic6\", \"Topic6\", \"Topic6\", \"Topic6\", \"Topic6\", \"Topic6\", \"Topic6\", \"Topic6\", \"Topic6\", \"Topic6\", \"Topic6\", \"Topic6\", \"Topic6\", \"Topic6\", \"Topic6\", \"Topic6\", \"Topic6\", \"Topic6\", \"Topic6\", \"Topic6\", \"Topic6\", \"Topic6\", \"Topic6\", \"Topic6\", \"Topic6\", \"Topic6\", \"Topic6\", \"Topic6\", \"Topic6\", \"Topic6\", \"Topic6\", \"Topic7\", \"Topic7\", \"Topic7\", \"Topic7\", \"Topic7\", \"Topic7\", \"Topic7\", \"Topic7\", \"Topic7\", \"Topic7\", \"Topic7\", \"Topic7\", \"Topic7\", \"Topic7\", \"Topic7\", \"Topic7\", \"Topic7\", \"Topic7\", \"Topic7\", \"Topic7\", \"Topic7\", \"Topic7\", \"Topic7\", \"Topic7\", \"Topic7\", \"Topic7\", \"Topic7\", \"Topic7\", \"Topic7\", \"Topic7\", \"Topic7\", \"Topic7\", \"Topic7\", \"Topic7\", \"Topic7\", \"Topic7\", \"Topic7\", \"Topic7\", \"Topic7\", \"Topic7\", \"Topic7\", \"Topic7\", \"Topic7\", \"Topic7\", \"Topic7\", \"Topic7\", \"Topic7\", \"Topic7\", \"Topic7\", \"Topic7\", \"Topic7\", \"Topic7\", \"Topic7\", \"Topic7\", \"Topic7\", \"Topic7\", \"Topic7\", \"Topic7\", \"Topic7\", \"Topic7\", \"Topic7\", \"Topic7\", \"Topic7\", \"Topic8\", \"Topic8\", \"Topic8\", \"Topic8\", \"Topic8\", \"Topic8\", \"Topic8\", \"Topic8\", \"Topic8\", \"Topic8\", \"Topic8\", \"Topic8\", \"Topic8\", \"Topic8\", \"Topic8\", \"Topic8\", \"Topic8\", \"Topic8\", \"Topic8\", \"Topic8\", \"Topic8\", \"Topic8\", \"Topic8\", \"Topic8\", \"Topic8\", \"Topic8\", \"Topic8\", \"Topic8\", \"Topic8\", \"Topic8\", \"Topic8\", \"Topic8\", \"Topic8\", \"Topic8\", \"Topic8\", \"Topic8\", \"Topic8\", \"Topic8\", \"Topic8\", \"Topic8\", \"Topic8\", \"Topic8\", \"Topic8\", \"Topic8\", \"Topic8\", \"Topic8\", \"Topic8\", \"Topic8\", \"Topic8\", \"Topic8\", \"Topic8\", \"Topic8\", \"Topic8\", \"Topic8\", \"Topic8\", \"Topic8\", \"Topic8\", \"Topic8\", \"Topic8\", \"Topic8\", \"Topic8\", \"Topic8\", \"Topic8\", \"Topic8\", \"Topic8\", \"Topic8\", \"Topic8\", \"Topic8\", \"Topic8\", \"Topic8\", \"Topic8\", \"Topic8\"], \"logprob\": [30.0, 29.0, 28.0, 27.0, 26.0, 25.0, 24.0, 23.0, 22.0, 21.0, 20.0, 19.0, 18.0, 17.0, 16.0, 15.0, 14.0, 13.0, 12.0, 11.0, 10.0, 9.0, 8.0, 7.0, 6.0, 5.0, 4.0, 3.0, 2.0, 1.0, -6.8122, -7.2062, -7.7827, -7.895, -7.9939, -8.085, -8.1113, -8.2276, -8.3513, -8.3623, -8.447, -8.439, -8.4714, -8.5566, -8.5979, -8.5968, -8.603, -8.604, -8.6176, -8.6371, -8.6472, -6.5215, -8.6841, -8.6893, -8.756, -8.8218, -8.7943, -8.9077, -8.9137, -8.9304, -6.5844, -6.4598, -7.7682, -8.1523, -8.4405, -6.3419, -7.2471, -7.1284, -7.1778, -7.9062, -7.5974, -8.027, -7.679, -6.7643, -7.303, -7.9016, -7.5363, -7.4988, -5.3963, -7.236, -7.6918, -5.0597, -6.1165, -6.8251, -6.5778, -5.1227, -6.3551, -4.9748, -5.6158, -4.6582, -6.1131, -5.6553, -5.9029, -5.6341, -3.6251, -5.047, -5.597, -6.3191, -5.6418, -5.6928, -5.4599, -5.7683, -4.8499, -4.9167, -5.4098, -5.9449, -4.627, -5.381, -5.0755, -5.0222, -4.6629, -5.3987, -5.121, -5.5305, -5.5778, -4.978, -4.7483, -5.2127, -5.1473, -5.302, -5.1414, -5.1088, -5.4742, -5.5096, -5.4783, -5.4224, -5.5281, -5.9257, -6.2596, -6.5292, -6.3235, -6.8497, -6.9337, -7.0275, -7.3694, -7.2821, -7.5949, -7.5997, -7.2883, -7.6666, -7.6599, -7.7082, -7.79, -7.8325, -7.9316, -7.9366, -7.9364, -7.1384, -8.0049, -7.5594, -8.0637, -8.0856, -8.1008, -8.1203, -8.1599, -8.1713, -8.1795, -6.0351, -7.7168, -4.4172, -7.0265, -6.5548, -7.5244, -6.4186, -6.5794, -4.1881, -4.3683, -6.9799, -5.3863, -4.7204, -6.1441, -4.8741, -6.5029, -6.3603, -4.919, -4.2079, -5.2628, -4.5232, -3.6899, -4.4429, -5.2009, -6.0011, -4.8012, -3.7868, -5.2997, -3.9929, -5.9291, -5.6929, -5.8229, -4.7918, -5.7179, -4.9858, -5.2241, -5.2227, -4.6893, -4.464, -5.2403, -5.0377, -4.7689, -4.8005, -5.0457, -4.8545, -5.0117, -4.9489, -4.7804, -4.9924, -5.1614, -5.1972, -5.1961, -3.721, -4.3019, -5.2308, -5.433, -5.4147, -5.4865, -5.5128, -5.6737, -5.858, -6.0748, -6.176, -5.9801, -6.4793, -6.482, -4.6803, -6.5493, -6.6853, -6.7154, -6.88, -6.9114, -6.9243, -7.0365, -5.895, -7.0781, -7.1473, -7.0922, -7.2099, -6.4375, -7.3063, -7.1297, -4.9227, -4.3204, -5.8099, -4.9527, -6.8481, -6.9951, -5.2942, -6.5957, -5.8669, -4.8238, -6.286, -4.4895, -4.8983, -4.2845, -6.2502, -5.797, -4.6013, -5.3615, -5.8037, -5.8929, -5.0917, -4.197, -5.3535, -5.098, -4.6839, -4.9163, -4.0259, -5.0991, -5.5754, -5.3763, -4.93, -4.5063, -4.8418, -5.0358, -4.8916, -5.2717, -5.2608, -5.253, -5.122, -5.1316, -5.1673, -5.2405, -5.0261, -6.1432, -6.3391, -6.7524, -6.7767, -6.9011, -6.9372, -6.9052, -7.06, -4.3162, -7.1516, -7.1975, -6.5116, -7.4077, -7.4199, -7.4009, -7.5186, -7.5261, -7.537, -7.5869, -7.6152, -7.6148, -6.6276, -7.6253, -7.6871, -7.7034, -7.6941, -7.7487, -7.7654, -7.8034, -5.6996, -5.6929, -6.6198, -3.7076, -6.0462, -7.6208, -3.7903, -6.069, -7.019, -4.8105, -5.3916, -5.4553, -5.8495, -6.7873, -5.6988, -6.0831, -5.1631, -5.6911, -3.694, -5.5929, -6.2252, -5.985, -4.0396, -4.0281, -6.1898, -3.9711, -4.7722, -5.8424, -5.1258, -5.2018, -5.0561, -5.2282, -4.9744, -4.6649, -5.3596, -4.7436, -5.3478, -5.0022, -5.2112, -4.9638, -5.0159, -5.323, -5.0052, -5.2348, -5.3885, -5.7275, -4.9759, -6.0454, -6.101, -6.1728, -6.4936, -6.5287, -6.5168, -6.7591, -6.9335, -6.9963, -7.0237, -7.1683, -7.1826, -7.2385, -7.3073, -7.369, -5.681, -7.3183, -7.4188, -7.47, -7.5085, -7.521, -7.5572, -7.5651, -7.5193, -7.6331, -7.6379, -7.6857, -7.7078, -5.2919, -6.3082, -5.8855, -7.1806, -6.9889, -6.1005, -6.154, -6.3348, -6.6424, -5.4601, -5.4432, -6.6246, -5.4019, -5.9658, -4.3662, -5.786, -6.061, -4.8077, -4.8988, -4.2351, -5.591, -5.5187, -4.8165, -4.8523, -5.0989, -4.2072, -5.4288, -4.2792, -4.8722, -4.3679, -4.5349, -4.9426, -4.6088, -5.385, -3.9469, -4.6837, -4.1299, -4.4757, -5.1619, -4.9405, -5.1598, -4.49, -4.892, -4.7181, -4.9117, -5.1681, -5.3536, -5.481, -5.7726, -6.2311, -6.4729, -6.5851, -6.6155, -6.7582, -6.7838, -5.9019, -7.0041, -7.0692, -7.0754, -7.1164, -7.0791, -7.3191, -7.3185, -7.365, -7.3808, -7.3062, -7.4508, -7.4812, -7.5608, -7.6058, -7.6112, -7.6388, -7.6422, -7.6908, -7.6369, -7.7307, -7.352, -5.4935, -6.7876, -7.3016, -5.3961, -5.6798, -5.779, -6.0595, -5.52, -2.7664, -5.0014, -5.1622, -6.4912, -5.4213, -6.2142, -5.1563, -5.8993, -6.4438, -6.2519, -5.6597, -4.1821, -5.4576, -4.8211, -4.8331, -4.7005, -4.6825, -5.1939, -5.8622, -4.8817, -4.8071, -4.9681, -5.5463, -5.1529, -4.6341, -4.9616, -5.1007, -4.8511, -4.728, -4.5157, -4.824, -5.418, -5.2393, -5.0286, -5.0376, -5.0895, -5.0855, -5.1796, -5.2287, -5.2257, -5.2647, -4.6472, -4.9247, -5.3803, -5.9002, -5.9916, -5.9937, -5.7388, -5.5955, -5.9427, -6.1495, -6.1702, -6.3738, -6.4652, -6.486, -6.4816, -6.5238, -6.527, -6.4909, -6.6083, -6.618, -3.2462, -6.7796, -6.7852, -6.7896, -6.7971, -6.7954, -6.8196, -6.8344, -6.8763, -6.9367, -4.4065, -5.3403, -6.0256, -3.9611, -5.0573, -6.1302, -4.3506, -5.2734, -3.9276, -5.6077, -5.1379, -5.89, -6.142, -3.6615, -4.9409, -4.5929, -6.1327, -5.0384, -5.6196, -4.1616, -4.9281, -5.2791, -5.2997, -4.8914, -4.8541, -5.1062, -4.9223, -5.2081, -4.7947, -5.1336, -5.3692, -5.3534, -5.4861, -5.0351, -5.3796, -5.5243, -5.5496, -5.7745, -5.8126, -4.6734, -5.899, -6.3119, -6.4014, -6.6037, -6.6725, -6.6179, -6.6848, -6.7513, -6.7673, -6.7774, -6.2061, -6.8497, -6.9419, -6.9433, -6.957, -6.9748, -6.9741, -7.0085, -7.0115, -7.0469, -7.1231, -7.1569, -7.1619, -5.3255, -6.6262, -2.9909, -4.8876, -5.7098, -6.0194, -5.8778, -5.7756, -6.0306, -4.7825, -5.4392, -4.2629, -5.3773, -6.4582, -6.1791, -6.4642, -5.619, -5.6162, -4.105, -4.7021, -5.2115, -5.862, -4.1306, -3.7838, -5.3021, -5.9216, -4.7165, -5.3878, -5.7501, -4.9659, -5.1236, -5.3998, -5.0113, -5.2709, -4.7954, -5.1101, -5.3005, -5.2842, -5.273, -5.3249, -5.4104, -5.4049], \"loglift\": [30.0, 29.0, 28.0, 27.0, 26.0, 25.0, 24.0, 23.0, 22.0, 21.0, 20.0, 19.0, 18.0, 17.0, 16.0, 15.0, 14.0, 13.0, 12.0, 11.0, 10.0, 9.0, 8.0, 7.0, 6.0, 5.0, 4.0, 3.0, 2.0, 1.0, 1.525, 1.5246, 1.5234, 1.523, 1.5227, 1.5224, 1.5223, 1.5218, 1.5213, 1.5212, 1.5208, 1.5208, 1.5207, 1.5202, 1.5199, 1.5199, 1.5199, 1.5199, 1.5197, 1.5197, 1.5197, 1.5194, 1.5194, 1.5194, 1.5189, 1.5184, 1.5184, 1.5177, 1.5176, 1.5175, 1.5147, 1.5046, 1.5122, 1.5142, 1.5161, 1.4884, 1.5021, 1.498, 1.4937, 1.5062, 1.4939, 1.5042, 1.4929, 1.4499, 1.47, 1.4937, 1.4768, 1.4723, 1.3524, 1.4545, 1.4753, 1.247, 1.3388, 1.3918, 1.3631, 1.1996, 1.3359, 1.158, 1.2364, 1.0827, 1.2764, 1.2023, 1.2193, 1.1729, 0.8316, 1.0605, 1.1549, 1.2752, 1.1235, 1.1277, 1.0505, 1.1158, 0.8547, 0.8534, 0.9991, 1.1563, 0.6699, 0.9321, 0.8102, 0.7509, 0.5861, 0.8809, 0.6725, 0.8923, 0.9048, 0.4797, 0.2922, 0.5322, 0.4305, 0.5989, 0.025, -0.1953, 0.6747, 0.7052, 0.5758, -0.0764, 0.3122, 1.7553, 1.7551, 1.7548, 1.7546, 1.7544, 1.7543, 1.7542, 1.7535, 1.7531, 1.7529, 1.7529, 1.7528, 1.7527, 1.7526, 1.7526, 1.7523, 1.7521, 1.7518, 1.7517, 1.7517, 1.7515, 1.7514, 1.7512, 1.7512, 1.7511, 1.751, 1.7509, 1.7507, 1.7506, 1.7506, 1.7479, 1.7488, 1.6958, 1.739, 1.7274, 1.7417, 1.7156, 1.7187, 1.6423, 1.646, 1.7237, 1.6733, 1.6114, 1.6831, 1.5891, 1.6828, 1.671, 1.5615, 1.4882, 1.566, 1.4945, 1.3812, 1.4606, 1.5167, 1.5906, 1.4094, 1.2138, 1.459, 1.1742, 1.5591, 1.4931, 1.5167, 1.1905, 1.4623, 1.128, 1.2148, 1.2076, 0.7252, 0.4494, 0.9703, 0.8031, 0.528, 0.4884, 0.7423, 0.4914, 0.4459, 0.2698, -0.3237, 0.2517, 0.4164, -0.0005, -0.1556, 1.8004, 1.8004, 1.8002, 1.8001, 1.8001, 1.8001, 1.8, 1.8, 1.8, 1.7998, 1.7998, 1.7996, 1.7995, 1.7995, 1.7994, 1.7994, 1.7993, 1.799, 1.799, 1.7989, 1.7989, 1.7988, 1.7987, 1.7987, 1.7986, 1.7985, 1.7984, 1.7984, 1.7982, 1.7982, 1.7974, 1.7907, 1.7946, 1.7842, 1.7973, 1.7982, 1.7756, 1.7926, 1.776, 1.7126, 1.7734, 1.6782, 1.6985, 1.6469, 1.7701, 1.7352, 1.6059, 1.6748, 1.7162, 1.7271, 1.6136, 1.4338, 1.6151, 1.5287, 1.4, 1.4106, 0.9685, 1.4047, 1.6248, 1.4658, 1.0995, 0.7378, 1.0137, 1.1426, 0.5229, 1.1746, 1.0545, 0.9691, -0.0815, -0.131, 0.0817, -0.7838, 1.9866, 1.986, 1.9858, 1.9853, 1.9853, 1.985, 1.985, 1.985, 1.9847, 1.9846, 1.9845, 1.9844, 1.984, 1.9838, 1.9838, 1.9837, 1.9835, 1.9834, 1.9833, 1.9832, 1.9831, 1.9831, 1.983, 1.983, 1.9829, 1.9828, 1.9827, 1.9826, 1.9825, 1.9824, 1.9751, 1.9749, 1.9727, 1.9432, 1.9653, 1.9819, 1.8922, 1.9457, 1.9665, 1.8886, 1.9114, 1.8881, 1.8952, 1.9412, 1.8602, 1.8737, 1.7922, 1.8155, 1.5248, 1.7708, 1.823, 1.7631, 1.2492, 1.1686, 1.7779, 1.0233, 1.2157, 1.6265, 1.2372, 1.2461, 1.1544, 1.1752, 0.8664, 0.5792, 1.0492, 0.2969, 0.9704, 0.4124, 0.6898, -0.0503, 0.0552, 0.5805, -0.5485, -0.0684, -0.1249, 2.1016, 2.1015, 2.1014, 2.101, 2.1009, 2.1009, 2.1009, 2.1006, 2.1005, 2.1002, 2.1, 2.0999, 2.0996, 2.0996, 2.0994, 2.0992, 2.099, 2.0989, 2.0989, 2.0988, 2.0987, 2.0985, 2.0985, 2.0983, 2.0983, 2.0982, 2.098, 2.098, 2.0978, 2.0977, 2.0965, 2.0945, 2.0874, 2.0973, 2.0941, 2.0827, 2.0749, 2.0762, 2.0812, 2.0498, 2.0465, 2.0804, 2.0243, 2.0474, 1.9796, 2.0304, 2.0433, 1.9756, 1.973, 1.9112, 1.993, 1.9813, 1.9106, 1.8643, 1.8948, 1.7613, 1.9199, 1.6985, 1.8008, 1.6892, 1.7218, 1.808, 1.7044, 1.8595, 1.3167, 1.5857, 1.2161, 1.2691, 1.5704, 1.3155, 1.4936, 0.4234, 0.2744, -0.2614, 0.0889, 0.5365, 1.0552, 2.3864, 2.3862, 2.3856, 2.3854, 2.3852, 2.3851, 2.3847, 2.3847, 2.3844, 2.3841, 2.3839, 2.3839, 2.3838, 2.3835, 2.383, 2.3828, 2.3828, 2.3827, 2.3827, 2.3824, 2.3823, 2.3819, 2.3816, 2.3816, 2.3814, 2.3814, 2.3811, 2.3809, 2.3808, 2.3805, 2.3783, 2.3732, 2.3781, 2.3516, 2.3522, 2.3537, 2.3569, 2.3425, 2.1982, 2.2399, 2.1858, 2.3049, 2.1951, 2.2729, 2.1504, 2.2287, 2.2655, 2.239, 2.1423, 1.8292, 2.0429, 1.8937, 1.8931, 1.8029, 1.6944, 1.7894, 1.9787, 1.4366, 1.3714, 1.449, 1.7909, 1.5283, 1.1538, 1.3686, 1.1815, 0.7798, 0.4384, -0.059, 0.2165, 1.5301, 0.962, 0.1902, -0.0369, 0.1595, -0.172, 0.2781, 0.5443, -0.0586, 0.0322, 2.9806, 2.9804, 2.98, 2.9793, 2.9791, 2.9791, 2.979, 2.9788, 2.9788, 2.9788, 2.9784, 2.9782, 2.9779, 2.9778, 2.9777, 2.9777, 2.9777, 2.9776, 2.9774, 2.9773, 2.9771, 2.9767, 2.9767, 2.9766, 2.9766, 2.9766, 2.9765, 2.9764, 2.9762, 2.9759, 2.9367, 2.9458, 2.9548, 2.7773, 2.8567, 2.9266, 2.7142, 2.812, 2.6579, 2.8391, 2.76, 2.8664, 2.8937, 2.2795, 2.5795, 2.4667, 2.8816, 2.5201, 2.7112, 1.102, 1.7868, 1.9731, 1.7396, 1.1198, 0.9338, 1.224, 0.7823, 1.2574, 0.1699, -0.2202, 1.0341, 0.4869, 0.2587, 3.1523, 3.152, 3.1518, 3.1517, 3.1514, 3.1513, 3.1512, 3.1505, 3.15, 3.1497, 3.1489, 3.1486, 3.1486, 3.1485, 3.1482, 3.1481, 3.148, 3.1476, 3.1474, 3.1471, 3.1471, 3.147, 3.1469, 3.1467, 3.1467, 3.1467, 3.1463, 3.1458, 3.1457, 3.1456, 3.1448, 3.1449, 3.1082, 3.122, 3.1323, 3.1357, 3.132, 3.1289, 3.1247, 3.0732, 3.0963, 3.0361, 3.0854, 3.1306, 3.1091, 3.127, 3.0225, 2.9985, 2.7582, 2.821, 2.902, 2.9535, 2.4307, 2.0097, 2.6377, 2.9686, 2.1827, 2.4703, 2.782, 1.2355, 1.0979, 1.7907, 0.6698, 1.3986, -0.3387, 0.7203, 1.0313, 0.2936, -0.3595, -0.1579, 0.9287, 0.6522]}, \"token.table\": {\"Topic\": [1, 1, 8, 8, 1, 1, 3, 5, 1, 2, 3, 4, 4, 7, 1, 2, 3, 4, 5, 6, 7, 8, 3, 7, 1, 3, 5, 4, 5, 1, 2, 3, 4, 5, 7, 8, 1, 2, 3, 4, 5, 7, 8, 5, 1, 2, 3, 4, 5, 6, 7, 8, 1, 8, 3, 2, 3, 4, 6, 7, 2, 4, 5, 1, 4, 6, 7, 1, 1, 3, 6, 7, 5, 5, 5, 5, 6, 7, 6, 6, 1, 1, 3, 4, 7, 8, 8, 6, 5, 8, 4, 8, 8, 2, 4, 7, 1, 2, 3, 4, 5, 3, 1, 2, 5, 6, 1, 3, 4, 1, 2, 3, 4, 5, 6, 7, 8, 1, 3, 4, 1, 4, 5, 6, 7, 1, 2, 3, 4, 5, 6, 7, 8, 6, 3, 5, 8, 1, 2, 3, 4, 5, 6, 7, 8, 2, 2, 8, 1, 2, 3, 5, 3, 4, 5, 3, 1, 2, 3, 4, 5, 6, 7, 8, 2, 4, 6, 8, 1, 2, 3, 4, 6, 8, 2, 3, 4, 4, 4, 8, 4, 8, 2, 3, 6, 1, 2, 3, 4, 5, 7, 8, 1, 2, 3, 4, 5, 6, 7, 8, 1, 2, 3, 4, 5, 7, 8, 6, 1, 2, 3, 4, 5, 6, 7, 8, 2, 2, 3, 4, 6, 2, 3, 4, 6, 8, 1, 2, 3, 4, 5, 6, 7, 8, 4, 8, 1, 2, 4, 5, 6, 7, 8, 1, 2, 3, 4, 5, 8, 1, 2, 3, 4, 5, 6, 7, 8, 1, 2, 3, 4, 5, 6, 7, 2, 3, 4, 5, 1, 2, 3, 4, 5, 1, 2, 3, 4, 5, 6, 7, 3, 5, 1, 2, 3, 4, 5, 6, 7, 8, 1, 2, 3, 4, 6, 7, 8, 2, 7, 4, 1, 6, 1, 7, 1, 2, 3, 4, 5, 6, 7, 8, 5, 3, 6, 7, 6, 3, 4, 7, 1, 1, 2, 3, 5, 6, 7, 8, 2, 2, 4, 6, 7, 8, 2, 3, 5, 6, 7, 8, 2, 7, 8, 1, 2, 3, 4, 5, 6, 7, 8, 1, 2, 3, 5, 6, 7, 8, 1, 2, 5, 7, 8, 2, 4, 6, 7, 6, 2, 3, 6, 7, 1, 3, 4, 5, 8, 1, 3, 4, 5, 7, 2, 4, 7, 2, 4, 6, 8, 3, 5, 6, 7, 1, 5, 6, 7, 7, 1, 2, 3, 4, 5, 6, 7, 8, 7, 2, 3, 1, 2, 5, 7, 1, 6, 7, 5, 1, 2, 4, 5, 6, 8, 1, 2, 3, 4, 6, 8, 7, 1, 1, 5, 1, 2, 3, 4, 6, 7, 8, 1, 2, 3, 4, 5, 6, 8, 8, 2, 8, 1, 2, 3, 4, 5, 6, 7, 8, 4, 1, 2, 4, 5, 8, 1, 2, 3, 4, 5, 6, 7, 8, 6, 8, 1, 3, 4, 5, 6, 8, 4, 1, 1, 2, 3, 4, 5, 6, 7, 8, 6, 1, 2, 3, 4, 5, 6, 7, 8, 4, 5, 6, 7, 1, 2, 3, 4, 5, 6, 8, 1, 2, 3, 4, 5, 6, 7, 8, 5, 2, 4, 7, 2, 3, 4, 6, 8, 7, 5, 1, 3, 5, 6, 7, 3, 1, 2, 3, 4, 6, 7, 4, 3, 2, 1, 2, 3, 4, 5, 6, 8, 1, 2, 3, 4, 5, 6, 7, 8, 8, 6, 8, 2, 7, 1, 2, 3, 4, 5, 6, 7, 8, 7, 6, 4, 1, 2, 3, 4, 5, 6, 7, 8, 3, 2, 4, 5, 6, 3, 5, 1, 2, 3, 4, 5, 6, 7, 8, 1, 2, 3, 4, 5, 6, 8, 4, 4, 1, 5, 6, 2, 3, 4, 8, 1, 2, 3, 4, 5, 6, 7, 8, 2, 5, 1, 3, 4, 8, 1, 5, 6, 7, 1, 2, 3, 4, 5, 6, 8, 3, 3, 6, 1, 2, 3, 5, 6, 7, 8, 1, 2, 3, 4, 5, 6, 7, 8, 1, 2, 3, 4, 5, 6, 7, 8, 1, 3, 1, 5, 3, 1, 2, 3, 4, 5, 6, 7, 8, 3, 1, 2, 3, 4, 5, 6, 7, 8, 1, 2, 3, 4, 5, 6, 7, 8, 4, 1, 3, 4, 5, 7, 1, 2, 3, 4, 6, 8, 1, 2, 3, 4, 6, 8, 1, 5, 7, 2, 4, 8, 5, 1, 2, 3, 4, 7, 8, 2, 2, 5, 7, 8, 1, 2, 3, 4, 6, 8, 1, 5, 7, 1, 2, 4, 5, 6, 8, 1, 2, 3, 4, 5, 6, 5, 8, 4, 1, 2, 3, 5, 6, 8, 1, 2, 4, 5, 6, 7, 8, 3, 1, 2, 3, 4, 5, 6, 7, 1, 2, 3, 4, 5, 6, 7, 8, 5, 5, 2, 2, 3, 4, 5, 6, 8, 1, 1, 2, 3, 4, 5, 6, 8, 2, 4, 1, 3, 4, 5, 5, 7, 1, 2, 3, 4, 5, 6, 7, 8, 1, 2, 3, 4, 5, 6, 7, 8, 1, 2, 3, 4, 5, 6, 7, 8, 1, 2, 3, 4, 5, 6, 7, 8, 6, 8, 1, 2, 3, 4, 5, 6, 7, 8, 3, 5, 1, 2, 3, 4, 5, 6, 7, 8, 5, 3, 5, 5, 1, 2, 3, 4, 5, 6, 7, 8, 1, 1, 5, 6, 7, 8, 3, 4, 5, 6, 1, 2, 3, 4, 5, 6, 7, 8, 1, 2, 3, 4, 5, 6, 7, 8, 4, 2, 8, 3, 1, 2, 3, 4, 5, 6, 7, 8, 7, 1, 5, 1, 4, 6, 7, 1, 2, 3, 4, 1, 2, 3, 4, 5, 6, 7, 8, 1, 1, 2, 3, 4, 5, 6, 7, 8, 1, 1, 5, 1, 3, 5, 6, 8, 3, 1, 2, 3, 4, 5, 7, 8, 1, 3, 4, 5, 6, 7, 8, 2, 1, 2, 8, 7, 1, 3, 6, 7, 1, 7, 4, 6, 2, 2, 1, 2, 3, 4, 5, 6, 7, 8, 6, 8, 3, 1, 2, 3, 4, 5, 6, 7, 8, 2, 1, 2, 3, 4, 5, 6, 7, 8, 3, 5, 4, 7, 1, 3, 4, 5, 6, 7, 1, 5, 1, 2, 4, 6, 7, 7, 7, 7, 7, 1, 1, 2, 3, 4, 5, 6, 8, 1, 2, 3, 4, 5, 6, 8, 2, 7, 1, 3, 4, 1, 2, 3, 4, 5, 6, 7, 8, 2, 8, 8, 1, 4, 6, 3, 4, 1, 2, 3, 4, 5, 6, 7, 8, 7, 2, 5, 8, 1, 2, 3, 4, 5, 6, 7, 8, 1, 2, 3, 4, 5, 6, 7, 8, 1, 2, 3, 4, 5, 6, 7, 8, 1, 3, 4, 5, 1, 2, 3, 4, 5, 6, 7, 8, 3, 4, 1, 2, 3, 4, 5, 6, 8, 8, 2, 2, 3, 4, 5, 1, 2, 3, 4, 5, 6, 7, 8, 2, 3, 6, 1, 5, 6, 7, 1, 2, 3, 4, 5, 6, 8, 1, 2, 3, 5, 6, 8, 7, 8, 1, 2, 3, 4, 5, 7, 6, 7, 1, 4, 5, 1, 1, 2, 3, 4, 5, 6, 7, 8, 8, 2, 3, 8, 1, 2, 3, 4, 5, 6, 7, 8, 4, 6, 4, 5, 8, 1, 2, 3, 4, 5, 8, 1, 2, 3, 4, 5, 6, 7, 8, 1, 2, 6, 8, 1, 2, 3, 4, 5, 6, 7, 8, 1, 2, 3, 5, 1, 2, 3, 4, 5, 6, 7, 8, 3, 1, 2, 3, 4, 5, 6, 7, 8, 4, 7, 1, 2, 3, 4, 5, 8, 7, 7, 1, 2, 1, 2, 4, 5, 6, 7, 8, 1, 2, 1, 2, 3, 5, 8, 1, 2, 3, 4, 5, 6, 7, 8, 1, 2, 3, 4, 5, 6, 7, 8, 2, 3, 3, 7, 1, 3, 5, 1, 2, 3, 4, 5, 6, 7, 8, 1, 2, 3, 4, 5, 6, 8, 6, 1, 4, 5, 6, 7, 1, 2, 5, 6, 8, 1, 2, 4, 6, 7, 8, 3, 4, 1, 1, 2, 3, 5, 6, 5, 6, 6, 1, 2, 3, 4, 5, 6, 7, 8, 1, 2, 3, 4, 5, 6, 7, 8, 1, 2, 3, 4, 5, 6, 7, 8, 1, 2, 3, 4, 5, 6, 7, 8, 1, 2, 3, 4, 5, 6, 7, 8, 2, 6, 6, 1, 2, 3, 5, 3, 5, 2, 3, 4, 6, 8, 1, 8, 1, 6, 7, 1, 2, 3, 4, 5, 6, 7, 8, 3, 8, 4, 1, 2, 3, 5, 6, 7, 8, 1, 2, 3, 4, 5, 6, 7, 8, 1, 2, 3, 4, 5, 6, 7, 8, 1, 2, 3, 4, 6, 8, 1, 4, 7, 1, 2, 3, 4, 5, 6, 7, 8, 1, 2, 3, 5, 6, 7, 8, 1, 3, 4, 5, 7, 8, 1, 2, 5, 8, 1, 2, 3, 4, 5, 6, 7, 8, 2, 6, 8, 1, 5, 6, 7, 1, 2, 3, 4, 5, 6, 7, 8, 8, 4, 1, 2, 3, 5, 6, 7, 8, 1, 2, 3, 4, 5, 6, 7, 8, 4, 2, 5, 1, 4, 5, 7, 1, 5, 6, 7, 8, 4, 8, 8, 1, 2, 3, 4, 5, 6, 7, 8, 1, 1, 3, 4, 7, 3, 2, 8, 1, 2, 3, 4, 5, 6, 8, 6, 8, 5, 2, 8, 5, 1, 2, 3, 4, 5, 6, 7, 8, 8, 1, 2, 3, 4, 5, 6, 7, 8, 4, 4, 8, 1, 2, 3, 4, 5, 6, 7, 8, 2, 4, 7, 1, 2, 4, 8, 1, 3, 5, 8, 1, 3, 4, 8, 3, 6, 1, 4, 1, 2, 3, 4, 5, 6, 7, 8, 2, 3, 6, 8, 4, 1, 3, 5, 4, 7, 1, 2, 3, 4, 5, 6, 7, 8, 1, 1, 2, 3, 4, 5, 6, 7, 8, 3, 4, 8, 1, 2, 3, 4, 5, 6, 7, 8, 3, 1, 2, 3, 4, 5, 6, 7, 8, 1, 2, 3, 4, 5, 6, 7, 8, 1, 4, 5, 7, 6, 2, 8, 1, 2, 3, 4, 5, 6, 7, 8, 5, 8, 5, 8, 1, 2, 3, 4, 5, 6, 7, 6, 2, 5, 6, 7, 8, 3, 1, 2, 4, 5, 6, 7, 2, 5, 1, 8, 2, 3, 4, 5, 6, 8, 2, 3, 7, 7, 1, 3, 1, 2, 5, 8, 1, 2, 3, 4, 5, 6, 7, 8, 5, 3, 5, 6, 7, 1, 2, 3, 4, 5, 6, 7, 8, 4, 2, 6, 4, 7, 2, 8, 1, 2, 3, 4, 5, 6, 7, 8, 1, 3, 5, 6, 1, 2, 3, 4, 5, 6, 7, 6, 1, 2, 3, 4, 5, 6, 7, 8, 1, 2, 3, 4, 5, 6, 7, 8, 2, 3, 4, 5, 3, 5, 6, 7, 5, 8, 1, 2, 3, 4, 5, 6, 7, 8, 1, 2, 3, 4, 5, 6, 7, 8, 2, 4, 2, 4, 1, 2, 3, 4, 5, 6, 7, 8, 4, 1, 2, 3, 4, 5, 7, 8, 7, 1, 3, 6, 3, 4, 5, 7, 1, 2, 3, 4, 6, 7, 8, 1, 2, 3, 4, 5, 6, 7, 8, 1, 2, 3, 4, 5, 6, 7, 8, 3, 6, 1, 7, 6, 1, 5, 6, 8, 1, 2, 3, 4, 5, 6, 7, 8, 3, 4, 1, 3, 4, 5, 6, 7, 8, 1, 2, 3, 4, 6, 8, 1, 2, 3, 4, 5, 6, 7, 8, 6, 6, 1, 2, 3, 4, 5, 6, 7, 8, 4, 1, 7, 1, 2, 3, 4, 5, 6, 7, 8, 2, 6, 7, 8, 1, 2, 6, 8, 2, 8, 2, 5, 6, 7], \"Freq\": [0.9902870506112041, 0.9880917525241362, 0.006500603635027212, 0.9984977192367938, 0.9927760120841013, 0.012215909179100917, 0.9759868491513258, 0.011572966590727183, 0.9934804241808772, 0.005625921231028779, 0.9704714123524645, 0.023441338462619914, 0.09374115271197032, 0.904475446437119, 0.5306435135922861, 0.14632551823306603, 0.09470354552308682, 0.06908234583247215, 0.054468772675603044, 0.07724317240059386, 0.0034161599587486232, 0.024102906375615286, 0.9977460900255807, 0.9958969944079972, 0.9977564914247563, 0.9998876044268256, 0.9967754540800182, 0.9982444092832945, 0.9991244064411416, 0.2279015614091903, 0.01779338393889935, 0.010481034374968109, 0.002924939825572496, 0.7397660308843771, 0.00024374498546437466, 0.000731234956393124, 0.3701592051529667, 0.000385381785687628, 0.12862117097324585, 0.000289036339265721, 0.43461430880922247, 0.06570759445974057, 0.000192690892843814, 0.9945637559922527, 0.6920462586395209, 0.00014201647006762175, 0.011077284665274497, 0.00568065880270487, 0.2407179167646189, 0.04345703984069226, 0.0026983129312848136, 0.004118477631961031, 0.9771653978202991, 0.016994180831657376, 0.998841607941109, 0.7443303146939755, 0.0036132539548251238, 0.24502378381157872, 0.006661936979208822, 0.00022582837217657024, 0.013293474476034116, 0.9853787955360288, 0.9970262698663822, 0.9728742101582171, 0.013750872228384692, 0.008594295142740432, 0.00515657708564426, 0.9969007518841926, 0.9310512995660082, 0.0018327781487519847, 0.009163890743759924, 0.05864890076006351, 0.9991321929146213, 0.995843129623429, 0.9984283781876858, 0.996964907831154, 0.9971375384038003, 0.9966669970196624, 0.99415117066484, 0.9992055325306546, 0.9989383500714377, 0.11252229403945482, 0.88195044175473, 0.003154830674003406, 0.002103220449335604, 0.000350536741555934, 0.9911833911579349, 0.997614053004899, 0.007352286096179281, 0.991088165764967, 0.03998261186551784, 0.9562508004503018, 0.9990219582550117, 0.002788220224417074, 0.978665298770393, 0.017658728087974803, 0.0028924836437866485, 0.13787505368716357, 0.0009641612145955495, 0.8484618688440836, 0.009641612145955495, 0.9992336706707909, 0.01950795097574591, 0.0013934250696961365, 0.00836055041817682, 0.969823848508511, 0.997105028374531, 0.9990335283938468, 0.9949885806193248, 0.6215012522454512, 0.019266538819608988, 0.02527438425798168, 0.007458015026945415, 0.1591043205748355, 0.030660728444108925, 0.13548727298950836, 0.0010358354204090853, 0.002084473136933294, 0.9902637049191103, 0.007643068168755412, 0.052733205447642276, 0.8426093040676458, 0.004487932378522747, 0.09480757149629303, 0.005609915473153434, 0.022330314042685356, 0.3629178966937332, 0.018709182035763407, 0.16073802630725764, 0.014585115027880074, 0.2912999525568324, 0.1290531212466906, 0.0003017610005768291, 0.9922190037636823, 0.019195281893668925, 0.0021328090992965474, 0.9789593765771152, 0.3956574236949674, 0.08131644176139098, 0.05665120527143997, 0.27334488110096383, 0.10474278509431248, 0.018358144054164444, 0.05912899158549898, 0.01092478511198743, 0.9985193423616787, 0.9960233009080277, 0.9958945925009931, 0.006108172126031609, 0.8478142910931873, 0.14415286217434597, 0.0012216344252063218, 0.994189856358406, 0.0055679581252182034, 0.997591093893633, 0.9984792198778366, 0.38669339976565514, 0.10513965146377793, 0.26672131307665015, 0.06904301706610136, 0.02900856800686008, 0.10618973537352852, 0.0007875629323129433, 0.036359155375114215, 0.005949271890531743, 0.9271711423244086, 0.056746901109687393, 0.009610362284705123, 0.0005575581669066356, 0.10816628437988732, 0.0022302326676265426, 0.17618838074249688, 0.7086564301383339, 0.00390290716834645, 0.004064240601710623, 0.9916747068173921, 0.002709493734473749, 0.9986132551274924, 0.9971242513166587, 0.9966423467236853, 0.9969384563670308, 0.0015082276193147213, 0.9722973616665473, 0.021931519436087534, 0.0048736709857972295, 0.037620440948120566, 0.08997972454097035, 0.43520527031519884, 0.3815267693251357, 0.04853810216643851, 0.005322359843929996, 0.00181961020305299, 0.0603846239887645, 0.0006378657463601883, 0.9159752117732305, 0.009567986195402825, 0.0010631095772669805, 0.01041847385721641, 0.0002126219154533961, 0.001913597239080565, 0.1631192925928692, 0.005403004959700715, 0.0012864297523096939, 0.0010291438018477552, 0.8256306150323616, 0.0005145719009238776, 0.002830145455081327, 0.9979563442351527, 0.29115284663682917, 0.14786296399880852, 0.15229313656707177, 0.18449525114928653, 0.06349914014510688, 0.11408885269882293, 0.02948684752424693, 0.01705378257460485, 0.9929713495772982, 0.0009033559586271023, 0.9029042806477887, 0.0887547229351128, 0.007226847669016818, 0.941721677606299, 0.024642923852205043, 0.00013922555848703414, 0.0026452856112536486, 0.030768848425634546, 0.030367048451938553, 0.0013255457657592225, 0.23859823783666007, 0.0013255457657592225, 0.7110950512495612, 0.009760837002408821, 0.007109745470890376, 0.0002410083210471314, 0.022554953663245426, 0.9743739982522024, 0.20720000389261925, 0.0005141439302546384, 0.0002570719651273192, 0.06066898377004733, 0.6102888452122557, 0.11002680107449261, 0.011054094500474725, 0.1500929974397994, 0.0017318422781515317, 0.7155395012562745, 0.005772807593838439, 0.12584720554567796, 0.0008659211390757658, 0.14762039384673165, 0.031941254808941937, 0.003884747206492938, 0.0017265543139968612, 0.7842872971330742, 0.001294915735497646, 0.009064410148483523, 0.019855374610963906, 0.05090582652899245, 0.005974862268661086, 0.19693146037506937, 0.18808866421745096, 0.5439514609389052, 0.012427713518815059, 0.0014339669444786605, 0.018714866685908646, 0.23861455024533526, 0.3915150110692089, 0.35090375036078714, 0.01156546776370613, 0.0026689540993167994, 0.06583420111648106, 0.811362046192307, 0.10764781533911091, 0.019312411404645926, 0.01620863100032783, 0.6771414248753977, 0.011725392638535026, 0.11949554556624666, 0.15553388470527343, 0.0006897289787373544, 0.00687222685189381, 0.9923495574134662, 0.20647584981015396, 0.025099128531968256, 0.033623360863580115, 0.1273899165113106, 0.017522033126091047, 0.5507601223146997, 0.03599120317791674, 0.003788547702938605, 0.0005310762489994154, 0.7432412104746818, 0.0021243049959976616, 0.17153762842681117, 0.07806820860291405, 0.0005310762489994154, 0.003983071867495616, 0.9984676399475847, 0.0009935001392513282, 0.9995657493072387, 0.1139162927233503, 0.8851856188666892, 0.9686262808144529, 0.0300985567484717, 0.33431392719236047, 0.2620055991212501, 0.06611280052499496, 0.10548700848254437, 0.0799712174044637, 0.08143857919170157, 0.013450816383013773, 0.05730862980156777, 0.9982885059027746, 0.9996414153775651, 0.9994808190072848, 0.9985266670751034, 0.996707807657936, 0.012245665772537202, 0.012245665772537202, 0.9747549954939614, 0.9927778756844935, 0.05950548223620342, 0.3282610118964189, 0.00021796879940001255, 0.12424221565800714, 0.0010898439970000626, 0.0010898439970000626, 0.4854165162638279, 0.9991611432363711, 0.9604482060655409, 0.0010508186061986226, 0.01681309769917796, 0.0010508186061986226, 0.02101637212397245, 0.04242642707650863, 0.0009611164709888687, 0.0001373023529984098, 0.0004119070589952294, 0.0001373023529984098, 0.9558989815749291, 0.07476109102039549, 0.0007953307555361223, 0.923379007177438, 0.0882337148846329, 0.5589757219315071, 0.10867020031747067, 0.052172509107641395, 0.05720053330143481, 0.0866658363725898, 0.011623926899629948, 0.0364937239872103, 0.0870618943656305, 0.009572250165854662, 0.005925678674100505, 0.003646571491754157, 0.002279107182346348, 0.002279107182346348, 0.889307622551545, 0.006134464852385965, 0.4743986152511813, 0.2617371670351345, 0.0016358572939695908, 0.25601166650624096, 0.16300771644864406, 0.06635712351006749, 0.00432763848978701, 0.7656313761514852, 0.9940563262732015, 0.9674551261016899, 0.0018569196278343377, 0.011141517767006026, 0.01856919627834338, 0.9265919112446306, 0.03073462113464991, 0.00569159650641665, 0.03301125973721657, 0.00341495790384999, 0.8291744080712554, 0.1241630058358628, 0.013855099363658509, 0.029308864038508384, 0.003197330622382733, 0.9630369683489461, 0.023518897684614366, 0.011140530482185752, 0.025627937077804135, 0.1854256623864652, 0.7831596065834852, 0.0052763399866067335, 0.004176793731993036, 0.06682869971188858, 0.8531101197595776, 0.07518228717587465, 0.02204894424563953, 0.13504978350454214, 0.7891684627918482, 0.05328494859362887, 0.9979461569471368, 0.11668621889095288, 0.12203690970429464, 0.6731580634784954, 0.03375051128415568, 0.005144895012828611, 0.016052072440025263, 0.0012347748030788665, 0.03189834907953738, 0.9989912501234456, 0.9973285164628308, 0.9999363313143828, 0.005059060002589581, 0.11045614338987252, 0.0008431766670982635, 0.8828059704518819, 0.9891738905137043, 0.0020290746472075983, 0.009130835912434193, 0.9985688509847571, 0.9630687734381546, 0.001550835383958381, 0.020936277683438143, 0.010080429995729476, 0.0023262530759375712, 0.001550835383958381, 0.033104553558110525, 0.01182305484218233, 0.004138069194763816, 0.8808175857425836, 0.06916487082676663, 0.0005911527421091165, 0.995215284606589, 0.9869777757282495, 0.9926720535886365, 0.9979533018298162, 0.013600042034496287, 0.36933828439396343, 0.5346759382704827, 0.07091450489415921, 0.010491460998039994, 0.00019428631477851839, 0.0005828589443355552, 0.0003358919657105943, 0.1400669497013178, 0.043665955542377254, 0.0006717839314211886, 0.8125226650539276, 0.0016794598285529714, 0.001007675897131783, 0.9943762195292395, 0.054936581785547785, 0.944909206711422, 0.12729743362404766, 0.234519286318138, 0.030721722332207445, 0.19315142258368045, 0.01231910647974655, 0.2404507079565345, 0.01444833476019657, 0.14691675135105145, 0.9991345629462532, 0.0015459987134145109, 0.9299182261188282, 0.002318998070121766, 0.011594990350608831, 0.05410995496950788, 0.0675808277487468, 0.08770621962458504, 0.015242900355664476, 0.12099052157308678, 0.4558579887615907, 0.08151379135509636, 0.15272671645421632, 0.01833911449040882, 0.9561822612104008, 0.04244360120950691, 0.9454595938654629, 0.025875736253160034, 0.005971323750729239, 0.005971323750729239, 0.007961765000972319, 0.009952206251215397, 0.9973000756346482, 0.991306247914171, 0.0017785132723841233, 0.8463747050690222, 0.10256093204081779, 0.02153977185442994, 0.0007904503432818326, 0.002766576201486414, 0.00019761258582045815, 0.024108735470095895, 0.9955798956984615, 0.04185551503836133, 4.4151387171267226e-05, 0.007682341367800497, 0.0001766055486850689, 0.06225345591148679, 0.8277943580740892, 0.06013418932726596, 8.830277434253445e-05, 0.0007139121516487134, 0.017847803791217833, 0.9652092290290605, 0.016419979487920407, 0.0032570756195961963, 0.7690769806771518, 0.08875531063399635, 0.0012214033573485735, 0.08183402494235442, 0.052927478818438185, 0.0032570756195961963, 0.46063509698326494, 0.15390841342835854, 0.06521039023558269, 0.04836272102578169, 0.06491307842599796, 0.1583680905721294, 0.03092042819681124, 0.01773960463855517, 0.9982359062397045, 0.9837969321514519, 0.01580396678154943, 0.9975943010057902, 0.04969689198513363, 0.2490246435342022, 0.6973770386174729, 0.0005401836085340611, 0.003241101651204367, 0.9953699707075031, 0.9977143240485098, 0.05981038495769512, 0.00043029053926399365, 0.06669503358591901, 0.8631628217635713, 0.009896682403071854, 0.9996973858667169, 0.01702053367179272, 0.04182188273640497, 0.007780815392819529, 0.8058006941188725, 0.10358210491690997, 0.023828747140509806, 0.994552925203852, 0.9973038873968593, 0.9985094498758419, 0.025700082667032158, 0.10677772441421694, 0.8231675287577384, 0.01851017858756483, 0.022793525698736855, 0.0024476269206697293, 0.0007648834127092904, 0.007946203699029979, 0.10177253199142242, 0.02933982904257223, 0.07334957260643057, 0.02169924856273571, 0.37377719707360246, 0.013447421644512271, 0.3789727917998913, 0.997374518640936, 0.9942834022253931, 0.9986009290206413, 0.9942911518300487, 0.99943605070157, 0.10481896814048326, 0.22219285447049517, 0.3455230275694927, 0.24473331224332331, 0.06201545635943912, 0.016233801193902143, 0.0026277735745525053, 0.0018686389863484482, 0.9978546148340607, 0.996287760498697, 0.9956957211907194, 0.17879741150294828, 0.2707971119783039, 0.08553916519345649, 0.13038534841650945, 0.1866003956745927, 0.07735861727157124, 0.04069298197040353, 0.029827536269027743, 0.9993853806513702, 0.9949217466637504, 0.0034072662556977754, 0.032525006460510486, 0.9673566437609893, 0.00542744326563899, 0.9905083959791156, 0.5373122962775122, 0.1097994756172644, 0.09005571669893063, 0.06789435464773964, 0.08904838206024013, 0.07232662705797784, 0.017326155785476586, 0.016318821146786087, 0.8405341731158948, 0.08281772428261085, 0.011042363237681447, 0.023662206937888813, 0.0010516536416839473, 0.012882757110628355, 0.027605908094203616, 0.9975111849341158, 0.9976624863461182, 0.020455067155858677, 0.9781241203619695, 0.998009317122585, 0.04776943533187833, 0.9369715749433484, 0.004604282923554538, 0.010359636577997709, 0.025634357042787378, 0.8271352539139394, 0.06038315214523249, 0.0002848261893643042, 0.0823147687262839, 0.001708957136185825, 0.0011393047574572168, 0.001424130946821521, 0.9950387818678789, 0.9940392882704652, 0.9978498754641756, 0.9969222185206614, 0.0028103906724057603, 0.9966098621292895, 0.08693871654439425, 0.8861061493947876, 0.020062780741014058, 0.006130294115309851, 0.1204211120122559, 0.02573100684022562, 0.010292402736090249, 0.013380123556917322, 0.02984796793466172, 0.02161404574578952, 0.7781056468484228, 0.9983454915938845, 0.999520807361045, 0.9948394358146213, 0.0108810953403322, 0.0013233764603106728, 0.8848977264610699, 0.08043188042110423, 0.01940952141788987, 0.002940836578468162, 0.0001470418289234081, 0.011894335600581134, 0.00032146852974543604, 0.2968761872199102, 0.00016073426487271802, 0.6834420942387971, 0.0030539510325816423, 0.00401835662181795, 0.00016073426487271802, 0.01525941710407732, 0.000775902564614101, 0.3243272720086942, 0.0028449760702517037, 0.5873582414128745, 0.024311613691241834, 0.04500234874761786, 0.9879841725678499, 0.0013527467823523007, 0.9983271253759979, 0.9669700269797065, 0.02966165726931615, 0.9973188450992151, 0.0306505333996116, 0.0004644020212062364, 0.8576344326626171, 0.02078199044897908, 0.008359236381712255, 0.0388936692760223, 0.04307328746687843, 0.0001161005053015591, 0.9993468427514964, 0.0005861304346458718, 0.02391412173355157, 0.10046275649830243, 0.1641165217008441, 0.1677505303956485, 0.04653875651088222, 0.49574912162347834, 0.0008205826085042205, 0.0011473468095251173, 0.578071567532405, 0.18376671399227296, 0.07668101176992867, 0.13423957671443873, 0.016445304269860014, 0.009369998944455124, 0.0005736734047625587, 0.9987563306645589, 0.0011374953801291956, 0.04151858137471564, 0.12228075336388852, 0.16550557780879796, 0.6694160312060315, 0.007300772447153222, 0.1431976069459176, 0.49606827522499, 0.20057911670599904, 0.14844903975878218, 0.004226762995720287, 0.01254764027316334, 0.7455726897795765, 0.03683339564057625, 0.007285726610223874, 0.04411912225080013, 0.15300025881470136, 0.3001569246170414, 0.0685397701881433, 0.6304477137133527, 0.041393179469505985, 0.9573049726464562, 0.00122776379782433, 0.9992142207729544, 0.05370576697250113, 0.011188701452604402, 0.0581812475535429, 0.02909062377677145, 0.013426441743125283, 0.8324393880737676, 0.9967910833736393, 0.9977788046561029, 0.9854070132978235, 0.014307179866393082, 0.994453006249106, 0.0009642660924409164, 0.5820310133973372, 0.3889849416906657, 0.025070918403463826, 0.002699945058834566, 0.0001928532184881833, 0.0011035592964497407, 0.9810642145438195, 0.01765694874319585, 0.12185530268857019, 0.00012161207853150717, 0.18837710964530463, 0.6677719232165059, 0.0009728966282520574, 0.02079566542888773, 0.15756282211914377, 0.006223895260423559, 0.8307262305491655, 0.0013102937390365387, 0.0003275734347591347, 0.0032757343475913465, 0.0201787739433645, 0.9786705362531783, 0.9964430354424734, 0.26213782456164814, 0.0008651413351869577, 0.0008651413351869577, 0.05017819744084354, 0.08910955752425663, 0.5969475212790007, 0.015420589804527832, 0.821146407091107, 0.00991323630291075, 0.020927943306144912, 0.06278382991843474, 0.046261769413583495, 0.023681620056953456, 0.9997874882161448, 0.05495115431224663, 0.7071507483701682, 0.03637827813408506, 0.07874285520162716, 0.09654825715755065, 0.0030698968889523257, 0.02317772151159006, 0.627801149966638, 0.1373574637774382, 0.062309333366781454, 0.07214036152020697, 0.01855433482477492, 0.05787844743847699, 0.0013846518525951433, 0.022431360012041324, 0.9974832386665963, 0.9974824404875273, 0.9965951696908705, 0.14802433001365442, 0.8294900806037266, 0.015356265528627414, 0.0015104523470781063, 0.0040278729255416165, 0.0015104523470781063, 0.9922450106629602, 0.8270350142607296, 0.08364791335100365, 0.059363035281357425, 0.006071219517411555, 0.0040474796782743695, 0.01214243903482311, 0.008094959356548739, 0.9955193650804487, 0.0022371221687201093, 0.001087410108170744, 0.9754068670291575, 0.016311151622561162, 0.007249400721138294, 0.0433510309350356, 0.9565809903027637, 0.6634520126873981, 0.022576633825569355, 0.003913283196432022, 0.009933718883250515, 0.032811374493160794, 0.07134216288879916, 0.1899447459191235, 0.00632145747115942, 0.424803760960011, 0.2928874503184658, 0.08778005551789243, 0.0574325328178076, 0.016251006070633664, 0.09492064909438298, 0.0013542505058861385, 0.02449962278830378, 0.047159075599910096, 0.05269240713696621, 0.06388482774601155, 0.08589239635930293, 0.015971206936502887, 0.572322541480509, 0.1554363131773037, 0.006539391816520867, 0.03587698894421021, 0.7651616644648821, 0.04945702568012609, 0.08588455665417073, 0.0014681120795584739, 0.06092665130167667, 0.0009175700497240462, 0.00036702801988961847, 0.9856184597517593, 0.011733553092282849, 0.2570647756374639, 0.00043496577942041264, 0.008699315588408254, 0.004784623573624539, 0.2640242281081905, 0.09134281367828666, 0.3649362889337262, 0.008699315588408254, 0.0029492809300201575, 0.9968569543468133, 0.024757171504476948, 0.012090711664977114, 0.07830175173508988, 0.02432536037358491, 0.8260546933964721, 0.02518898263536899, 0.006908978094272637, 0.0024469297417215588, 0.9984653128503909, 0.005483019228677844, 0.9944203055647544, 0.9958269621478381, 0.5246173446205084, 0.22678599317607553, 0.06841404870286252, 0.038318445547516754, 0.022530588154548475, 0.09110909370525443, 0.002137939021964454, 0.025984181959260288, 0.9919850393813298, 0.8496396370382855, 0.0710198269491737, 0.047635249782982364, 0.02858114986978942, 0.0025982863517990382, 0.01801708720463623, 0.0013859297849720177, 0.9743086388353285, 0.005543719139888071, 0.11763011404530316, 0.010981292292203933, 0.12265545119597275, 0.444090905240654, 0.136056350264425, 0.024754438557002087, 0.14275679979865114, 0.0013028651872106362, 0.4887039061301397, 0.12400612052961785, 0.1367616696001957, 0.12522621652767313, 0.032609838493477324, 0.06721619771104509, 0.013975645068633137, 0.011424535254517565, 0.9984928348208046, 0.9933765735730219, 0.9947321037608111, 0.9988928726857094, 0.005134693830638321, 0.36295867015324634, 0.15917550874978795, 0.03690561190771293, 0.009627550932446853, 0.42425407775649127, 0.0009627550932446852, 0.0009627550932446852, 0.9968471655026967, 0.018943804990164802, 0.9793947179915202, 0.7783550021270828, 0.20882695179019292, 0.003674374518302515, 0.009185936295756286, 0.0590663772833249, 0.0006283657157800522, 0.9293528936386971, 0.010682217168260887, 0.1486571322916032, 0.003741941545097564, 0.02245164927058538, 0.11668054090622403, 0.6716785073450127, 0.01819944296933815, 0.016498560448839256, 0.0022111472766485605, 0.9953708126345893, 0.2326894695785758, 0.08907067869296065, 0.053688119432860414, 0.46243039255214324, 0.14951588409563188, 0.0029485466050083523, 0.0060199493185587195, 0.0034399710391764112, 0.988168829159705, 0.9969418664902538, 0.9957848593483933, 0.2627854846878115, 0.01094939519532548, 0.02971978695874059, 0.006256797254471703, 0.6898118973055052, 0.9983054490010473, 0.05186972762690885, 0.8232811419852393, 0.007840772780811803, 0.0016083636473460108, 0.01166063644325858, 0.1033373643419812, 0.0004020909118365027, 0.05464126987442034, 0.0005203930464230509, 0.00026019652321152546, 0.1267157068040129, 0.0020815721856922037, 0.8157161002681322, 0.9951257877858198, 0.9952151128446973, 0.0007710275447780551, 0.0007710275447780551, 0.9977096429428033, 0.9942106486004475, 0.002643689476769494, 0.04494272110508139, 0.005287378953538988, 0.9464408326834788, 0.0828246637638201, 0.9162478428872599, 0.998010777348286, 0.9922502635413879, 0.9966963719580985, 0.9995419953677471, 0.0025633442243360068, 0.5816044949002375, 0.14492049668299636, 0.017348347518274045, 0.13352276968550233, 0.08857269775161022, 0.025724990251372065, 0.005767524504756014, 0.996204648752885, 0.9944713030313126, 0.9995768997533375, 0.5103514413055725, 0.21471320076611985, 0.06640003263452947, 0.05701312325911236, 0.024603583520830117, 0.09130004487247803, 0.0007904765789824937, 0.03497858861997535, 0.9942538575249177, 0.12368945996182096, 0.17269744049599586, 0.07746602377617873, 0.4411832065815154, 0.09857286993805633, 0.056080723179447865, 0.00038983620879457306, 0.029906006303240817, 0.9994015447047352, 0.9990348196333724, 0.034246242755279245, 0.965010197639833, 0.003558216552085918, 0.001524949950893965, 0.00025415832514899414, 0.08107650572252913, 0.610488297007884, 0.302956723577601, 0.0032976336318522887, 0.9958853568193912, 0.9949227694971283, 0.18003154803638913, 0.004977830821282649, 0.012444577053206621, 0.8014307622265063, 0.998601412937804, 0.9962506652678672, 0.997081665604764, 0.994505205307246, 0.9946982098464974, 0.0010744697955556717, 0.4558821846857636, 0.013507620286985588, 0.4350067715149677, 0.06216575245714958, 0.011972663436191772, 0.020414926115557765, 0.09265425070801615, 0.5337720818983608, 0.005155198911573832, 0.257481286178066, 0.00041798910093841877, 0.07760664307423308, 0.032881809273822275, 0.1307131000320367, 0.8675902463664854, 0.9851812202158063, 0.00330597724904633, 0.00991793174713899, 0.232361208262617, 0.3857132425609941, 0.013044467647787262, 0.32611169119468153, 0.006893417862651805, 0.006044997202633121, 0.02248314749049512, 0.007423680775163482, 0.9952179164282798, 0.9923186702505478, 0.9949604238153938, 0.9679041525013155, 0.011125335086222017, 0.01854222514370336, 0.9980479506114501, 0.0011632260496636947, 0.3170113154900964, 0.002703197263869039, 0.14056625772119005, 0.00663512055676946, 0.059470339805118864, 0.4236647348100203, 0.024328775374821355, 0.025557501403852736, 0.9965565943360615, 0.05759290789966783, 0.0645738664329609, 0.8778555355616036, 0.15292176103807723, 0.7872921997443676, 0.019115220129759653, 0.012233740883046178, 0.013762958493426949, 0.007900957653633989, 0.0002548696017301287, 0.0066266096449833466, 0.0029734109258703137, 0.0005946821851740627, 0.06809111020243018, 0.006244162944327659, 0.8786429285946777, 0.0008920232777610941, 0.011596302610894223, 0.030923473629051262, 0.034802008439379396, 0.235638598808298, 0.006525376582383636, 0.1535276101466372, 0.011419409019171364, 0.500097610855457, 0.03860847811243651, 0.019213608825907374, 0.008100046798946086, 0.05765327427485155, 0.9057758214586181, 0.028111927125754062, 0.20521681759086122, 0.007175413202477665, 0.001435082640495533, 0.04412879119523764, 0.12915743764459797, 0.01435082640495533, 0.5977119197663895, 0.0007175413202477665, 0.9731557200266218, 0.026327860161040866, 0.17621826861267537, 0.012171637893431146, 0.6699810458228656, 0.00013524042103812384, 0.13970335493238192, 0.0013524042103812384, 0.00040572126311437155, 0.9956196803182241, 0.9979022006814412, 0.9969685053539218, 0.00036520061950969196, 0.00036520061950969196, 0.9991888949785172, 0.011725199815011814, 0.0004114105198249759, 0.06397433583278375, 0.0018513473392123916, 0.25898292222982233, 0.5574612543628423, 0.10388115625580642, 0.0016456420792999036, 0.9984638167805966, 0.0012234208637309132, 0.9970880039406942, 0.00203961754897978, 0.9423033076286584, 0.048950821175514726, 0.006118852646939341, 0.054986920568105724, 0.9186607936292146, 0.0037922014184900497, 0.006636352482357587, 0.0037922014184900497, 0.006636352482357587, 0.005688302127735074, 0.03630052538007397, 0.16254925524174715, 0.25346119048564925, 0.4553627851880961, 0.09203628779992207, 0.00032124358743428294, 0.996632369822961, 0.9934786578504715, 0.10927065425809902, 0.0028567491309306934, 0.05713498261861387, 0.7991755693778615, 0.0007141872827326733, 0.030710053157504955, 0.001631825815172862, 0.9970455730706188, 0.05074495707502348, 0.00330945372228414, 0.9459521889528834, 0.9930250955242987, 0.6685108088649219, 0.15423060244504594, 0.03929271847386786, 0.054261373130579424, 0.0069497325191875126, 0.05185569648932221, 0.0002672974045841351, 0.024858658626324564, 0.9941434248431997, 0.9917552810428941, 0.001479127935932728, 0.005916511743730912, 0.002248932100674848, 0.18458542703231254, 0.005881822417149603, 0.2681419043112319, 0.0036328903164747546, 0.3610400995468006, 0.17247579264406335, 0.0017299477697498833, 0.959444005692505, 0.03916097982418388, 0.988131061135765, 0.01061792946821507, 0.0006636205917634419, 0.0042532870877379165, 0.018013921783360587, 0.0012509667905111518, 0.9064505364043807, 0.06905336683621559, 0.0010007734324089215, 0.42686371314015054, 0.12179613721781173, 0.13997897286881206, 0.12323921941233555, 0.07677197274866805, 0.06955656177604887, 0.020924691820595614, 0.020780383601143232, 0.044175693181528156, 0.08495325611832338, 0.013592520978931742, 0.8563288216726997, 0.690016587943801, 0.007121730838869506, 0.00026376780884701875, 0.0023739102796231687, 0.1252897092023339, 0.13979693868891993, 0.03508111857665349, 0.00026376780884701875, 0.06673082419339038, 0.9205983595711813, 0.01112180403223173, 0.0010763036160224256, 0.7565211737319492, 0.007773056509195814, 0.025684882378212256, 0.0016897948933034378, 0.1497158275466846, 0.02146039514495366, 0.03616161071669357, 0.0011828564253124065, 0.9994474658175394, 0.15933124795606313, 0.27227184292491885, 0.1326141179634306, 0.17196116395258032, 0.08768076297582132, 0.0007286489997990692, 0.0024288299993302305, 0.17293269595231242, 0.9980338070619017, 0.9945065733987635, 0.00018104839866607544, 0.0350328651418856, 0.0019010081859937922, 0.909677679097696, 0.05277560821116099, 0.0004526209966651886, 0.9992407179331559, 0.9968864952496063, 0.9981335187405084, 0.9921388084535722, 0.04488540179708306, 0.044438780883679245, 0.00022331045670190576, 0.00022331045670190576, 0.1862409208893894, 0.7237491901708766, 0.00022331045670190576, 0.99036612106618, 0.9982490879590449, 0.0025990939233690334, 0.865498276481888, 0.00017327292822460222, 0.01178255911927295, 0.11973159340320012, 0.5903230558220061, 0.21299544626678596, 0.04585578588344689, 0.09601640064574797, 0.0054278277168161625, 0.03200546688191599, 0.0005614994189809823, 0.01665781609643581, 0.0005128279999965694, 0.15743819599894682, 0.046154519999691244, 0.36188562533091245, 0.03931681333307032, 0.3865013693307478, 0.007863362666614065, 0.0005128279999965694, 0.0017520494144665918, 0.9969161168314908, 0.9980851600998752, 0.9974264502767325, 0.022297284875965575, 0.8390385716289269, 0.13873866145045247, 0.30286153767602464, 0.0437781163494316, 0.013397613193145015, 0.13869360136565614, 0.07491341461519115, 0.391361264261729, 0.019058576514192203, 0.01585069729893213, 0.7789241609478168, 0.09031727939241181, 0.02794346765732078, 0.05638592580852229, 0.001995961975522913, 0.026945486669559326, 0.016466686298064033, 0.9976847323741705, 0.9488200141325783, 0.014559897915077927, 0.009706598610051952, 0.02183984687261689, 0.002426649652512988, 0.9504932708515633, 0.01475921228030378, 0.005903684912121511, 0.005903684912121511, 0.023614739648486045, 0.05743974461108948, 0.7870669137618707, 0.0004747086331494998, 0.02563426619007299, 0.02278601439117599, 0.10633473382548796, 0.04378752768512254, 0.9557103868665877, 0.9918521116807264, 0.0037242666455781013, 0.0018621333227890507, 0.01862133322789051, 0.9468947946382323, 0.028863066503230287, 0.9951353940406863, 0.9994675873122018, 0.9975872026495219, 0.3077387519107096, 0.012756010441894698, 0.0015945013052368372, 0.0031890026104736745, 0.09965633157730233, 0.06776630547256558, 0.0015945013052368372, 0.5054569137600774, 0.03655047487757509, 0.02688568584744706, 0.02670996241053564, 0.002987298427494118, 0.8845917814120817, 0.0001757234369114187, 0.021789706177015918, 0.0001757234369114187, 0.016057441717237008, 0.02776032296878262, 0.054159845792036684, 0.009525601018699918, 0.8809820142151896, 0.007076160756748512, 0.003538080378374256, 0.0008164800873171359, 0.05656249237410581, 0.5681903931575942, 0.04984340580698741, 0.1819039981534418, 0.028220163581897283, 0.08404966469413563, 0.008185069090853325, 0.02308922474882505, 0.0065340955260214575, 0.28157677075219567, 0.07706568741905681, 0.47821029966611245, 0.10411806422305218, 0.012518594232097184, 0.03132701873690661, 0.00861035017914977, 0.00492871724044205, 0.990672165328852, 0.9949825730434398, 0.029093377119742404, 0.01333446451321527, 0.061217314356124646, 0.8964396825020629, 0.026569160548447296, 0.9726623122518532, 0.8959649622744557, 0.09119846089320448, 0.007442198053525677, 0.0018920842508963586, 0.0034057516516134453, 0.0035574833338383773, 0.9925378501409072, 0.20977833823067804, 0.02558272417447293, 0.763644316608017, 0.5110403811194483, 0.014714853422309358, 0.00323911867786684, 0.029429706844618715, 0.2089694278463807, 0.10226360397265309, 0.11096295127892403, 0.01943471206720104, 0.02625488156288079, 0.9714306178265892, 0.9975708866583191, 0.06020197991394571, 0.00044594059195515344, 0.5178856741239182, 0.04756699647521637, 0.3621037606675846, 0.010702574206923682, 0.001040528047895358, 0.5522012561179666, 0.10254923234959465, 0.12363730003010831, 0.06275400785572209, 0.08129109960714136, 0.04642776190951797, 0.006972667539524678, 0.024319303857366557, 0.6908597968803142, 0.059098997242604034, 0.041892960070706656, 0.06583179439682474, 0.041892960070706656, 0.07368672441008224, 0.011969417163059045, 0.01458772716747821, 0.00493624355545566, 0.7700539946510828, 0.14568247005972984, 0.00025314069515157227, 0.02949089098515817, 0.049615576249708165, 0.9978700697189341, 0.003886480732559325, 0.9960272821403039, 0.17780129871330805, 0.001580455988562738, 0.043462539685475296, 0.021336155845596963, 0.745184998607331, 0.007112051948532322, 0.003687730639979722, 0.00026340933142712304, 0.2065599783881413, 0.006582535958831781, 0.0347557898626318, 0.661544863862594, 0.007899043150598138, 0.0006582535958831781, 0.082018398047044, 0.1947797060361353, 0.008147647834191281, 0.0005092279896369551, 0.7882849279580064, 0.0010184559792739102, 0.007129191854917371, 0.032093437134208175, 0.13220580073196203, 0.832992345916239, 0.0023950326219558337, 0.2041123810043403, 0.26133254804408673, 0.0959997115263992, 0.1459882618786579, 0.0884969092131307, 0.11199966344746573, 0.008497149607798045, 0.08343477753188933, 0.9940005525677105, 0.9910082163838418, 0.008083264407698547, 0.10958684666759902, 0.0015011896803780688, 0.8616828765370115, 0.02552022456642717, 0.18912306532437012, 0.1392802870245977, 0.4353867612229341, 0.08679786002982175, 0.04145801185682005, 0.055432622595074, 0.014595704548843014, 0.03788672244593293, 0.9941099947087291, 0.9973567442451746, 0.3768821127855145, 0.0021094148103666856, 0.12867430343236783, 0.20180068352507957, 0.001406276540244457, 0.2889898290202359, 0.00035156913506111424, 0.07881163698139201, 0.036194974021083744, 0.3399603205098564, 0.4767617545787912, 0.0001945966345219556, 0.05254109132092801, 0.009535235091575825, 0.006227092304702579, 0.9984743834565294, 0.9975859626687392, 0.9962539608273526, 0.050469849946713385, 0.0030587787846492963, 0.9306334452295484, 0.015293893923246482, 0.9674180433286197, 0.0035963496034521177, 0.017981748017260588, 0.008990874008630294, 0.0017981748017260588, 0.022701792123125626, 0.976177061294402, 0.9918952420796794, 0.671426151771122, 0.1547923984731068, 0.057058511845926224, 0.039827971139978206, 0.017230540705948018, 0.04519486086806038, 0.0008474036412761321, 0.013275990379992735, 0.9977713219811725, 0.9755927412175761, 0.009717059175473865, 0.011660471010568638, 0.001943411835094773, 0.999480874838703, 0.014582880778764715, 0.9828861644887418, 0.003918466477397939, 0.21394826966592745, 0.026645572046305983, 0.07523455636604041, 0.0007836932954795876, 0.6645719145666904, 0.014106479318632579, 0.9971712012894655, 0.9972213511499741, 0.9957979907582734, 0.32604093913736104, 0.673601759429358, 0.997093829378658, 0.4225617963098099, 0.03414013778485427, 0.05152057156623462, 0.10552406224409502, 0.09869603468712417, 0.13330171980540825, 0.026070650672070535, 0.1280255166932035, 0.9959732299465898, 0.06044878192000871, 0.002262788628021716, 0.019718586615617813, 0.8230085495633271, 0.08436969027338113, 0.0003232555182888166, 0.009051154512086865, 0.0006465110365776332, 0.9996138438077026, 0.9947613471891145, 0.9949376759296363, 0.00022773065540597894, 0.22625040614584008, 0.002561969873317263, 0.6300168581806407, 0.018958577062547746, 0.11113255983811772, 5.6932663851494734e-05, 0.010760273467932504, 0.0006591236870310591, 0.9880264068595574, 0.011205102679528003, 0.014381952840771208, 0.9292954143267549, 0.05199629103971129, 0.0033189121940241247, 0.9788629160021409, 0.006206558344216473, 0.009753163112340172, 0.004433255960154624, 0.01377029954788527, 0.9836670582696911, 0.0007794509178048266, 0.0015589018356096532, 0.9969317197764387, 0.9951569249480192, 0.9931385002584577, 0.9994011822818275, 0.3970477527346884, 0.0053630943638183935, 0.0008938490606363988, 0.47248861345240045, 0.0795525663966395, 0.018592060461237098, 0.013228966097418703, 0.012513886848909585, 0.8926462855096002, 0.01931180676469917, 0.0001049554715472781, 0.0877427742135245, 0.9981818230329198, 0.9807819442357224, 0.0037722382470604704, 0.011316714741181412, 0.9956859212228648, 0.9958432373883123, 0.29700915349980983, 0.14437061636928658, 0.047381545900933256, 0.17383833395420703, 0.1530625330669969, 0.10091103288073482, 0.08257320862824834, 0.0009539908570657703, 0.9970243194190369, 0.002063159846336037, 0.04728074647853418, 0.6930497783817138, 0.05286847106236095, 0.00017192998719466973, 0.2003844000753876, 0.0002578949807920046, 0.0038684247118800693, 0.9986466951231564, 0.9977231857294209, 0.9989768947653417, 0.44007358457931284, 0.1942181143852659, 0.12531692618668347, 0.06782219867421983, 0.04685897362946098, 0.0894019891614716, 0.004161816736827127, 0.03221554437025442, 0.998972769107527, 0.7360020487118275, 0.09739518548080747, 0.051562157019251015, 0.053089924634636236, 0.0099304895000039, 0.04583302846155646, 0.00038194190384630385, 0.005729128557694557, 0.7234568378399677, 0.1289793389990218, 0.0222782494634674, 0.06976609700401634, 0.012311664177179353, 0.028434081552057077, 0.0002931348613614132, 0.014363608206709245, 0.7484963671809992, 0.19040441284347195, 0.060066323194112134, 0.0008747522795259048, 0.9979927707008589, 0.9946584202351347, 0.003978633680940539, 0.42592296132742397, 0.0947731690248863, 0.022959988653841187, 0.06453071700947435, 0.016992414510331802, 0.045717686658749854, 0.010519113744491116, 0.3187089173931876, 0.029688324874258088, 0.9695093591749906, 0.018001493611724893, 0.9765810284360755, 0.00023271471492765402, 0.2248024146201138, 0.7619079766731393, 0.0016290030044935782, 0.00023271471492765402, 0.005119723728408389, 0.005817867873191351, 0.9968290528731608, 0.020935143801882033, 0.019439776387461888, 0.8927343464088268, 0.02841198087398276, 0.037384185360503634, 0.9979935553905781, 0.0016885331457013892, 0.000562844381900463, 0.03714772920543056, 0.9489556278841808, 0.011256887638009262, 0.000562844381900463, 0.9949444462566923, 0.9968446270184259, 0.9514542059096456, 0.04554833964461069, 0.06951797085627737, 0.01495956334881918, 0.8931739293559686, 0.007919768831727802, 0.0008799743146364223, 0.014079589034182757, 0.08072436200254056, 0.9192344602683669, 0.9968025940656569, 0.9982116448258529, 0.9873429764062536, 0.009727517008928606, 0.0029189275404826478, 0.046702840647722364, 0.01459463770241324, 0.9340568129544473, 0.22291339662464088, 0.15289503452441436, 0.12625996313906585, 0.12804283809995126, 0.16072887904951685, 0.1424679173289331, 0.03560347270374172, 0.031065245530578888, 0.9948628803411967, 0.009486777298715443, 0.018024876867559343, 0.9657539290092321, 0.0066407441091008105, 0.044107914306978205, 0.3568101764895741, 0.27870385413749965, 0.20710639198143144, 0.07305156922113346, 0.016549123264313643, 0.01682609603861178, 0.00678583297030434, 0.9976385433532147, 0.987573317665802, 0.01303727152034062, 0.9965550599300331, 0.003383888149168194, 0.9959957213037562, 0.996806151420749, 0.3234469973925673, 0.35853218167530126, 0.09373504457625939, 0.029150376991127224, 0.05114407460119926, 0.014487911917745865, 0.02147003814316556, 0.10804840333836976, 0.043829442893377354, 0.08264980659894015, 0.04758625228423827, 0.8252457961924479, 0.0042328733353789024, 0.005372493079519376, 0.3409091063185931, 0.00016280282059149623, 0.5965095346472422, 0.006512112823659849, 0.046236001047984934, 0.9937002602423889, 0.49931115559986183, 0.12498721136343924, 0.07545996604425328, 0.07923296434646594, 0.09408582386010594, 0.0866195384874175, 0.009884192735374022, 0.030449690523490936, 0.20140000738366312, 0.2824125946233838, 0.03562484881810542, 0.007176693682050275, 0.4121749749826172, 0.017586132265924998, 0.0386636290258204, 0.00497842714880965, 0.07143969459328679, 0.0031060736779689913, 0.0005176789463281652, 0.9250922770884312, 0.9982571004189583, 0.07905886978420809, 0.07605663422278247, 0.8446289379477421, 0.005400530607895757, 0.9936976318528192, 0.0006385009210267571, 0.6875181455794266, 0.11856470948912243, 0.14489059361761025, 0.003143389149670189, 0.01812360306606718, 0.0002946927327815802, 0.0268170386831238, 0.00021523331988713138, 0.27485294949586675, 0.45532608822122644, 0.12343630895526984, 0.11902402589758365, 0.014635865752324935, 0.012375915893510054, 0.00010761665994356569, 0.017231844293012645, 0.9797534326598618, 0.08683988646921166, 0.9125306102748307, 0.431557786509597, 0.003564956474149952, 0.0406008931778189, 0.004555222161413828, 0.29589138735444603, 0.04000673376546057, 0.1784458768449504, 0.005347434711224928, 0.9960093773297768, 0.1525482648797971, 0.10175565824942892, 0.47434840353125746, 0.1728312185342059, 0.02096473360917882, 0.0744844600586272, 0.0030680097964651937, 0.9958775444500985, 0.9935967049981772, 0.0047861112957522985, 0.0019144445183009195, 0.0011759041586784861, 0.9976706854845041, 0.0005039589251479227, 0.0005039589251479227, 0.8742943941530243, 0.035382671303843025, 0.011413764936723554, 0.029675788835481245, 0.02282752987344711, 0.002282752987344711, 0.023968906367119465, 0.3512056038539142, 0.2698745407959369, 0.14061237124245843, 0.0708483927082824, 0.015543269828857873, 0.12138209322163893, 0.0006506485044638179, 0.02985753692706187, 0.6419020832974545, 0.1680326727244495, 0.0380016781261462, 0.056138842686352344, 0.004126444847031027, 0.0638159493785031, 0.00028789150095565307, 0.027733547925394578, 0.005195402770095983, 0.9923219290883326, 0.9971822537565354, 0.9963632514039639, 0.9988724519719556, 0.16614531525890985, 0.008307265762945493, 0.004153632881472746, 0.818265677650131, 0.7025539922009079, 0.13348804532496425, 0.0540640517600064, 0.041244740517943024, 0.004458890866804652, 0.04040869848041716, 0.0016720840750517444, 0.02229445433402326, 0.9988737370865742, 0.0010044989311007383, 0.7214324027617005, 0.18572206989963358, 0.033986108909544774, 0.009783879837596224, 0.025060464145421905, 0.02368728802786454, 0.0001716470146946706, 0.06510614637101318, 0.07994651797028825, 0.010531876618840367, 0.02632969154710092, 0.8176566029536068, 0.00047872166449274396, 0.39063114308940317, 0.1173595142224435, 0.17926665797478245, 0.08050862675659624, 0.09030814619417027, 0.10779471381331436, 0.013261625107136115, 0.02083131377448372, 0.9971443669366543, 0.9969725336582488, 0.4026746527677362, 0.09151696653812186, 0.00939903980661792, 0.15038463690588671, 0.02242577918771995, 0.29945011033014285, 0.0006595817408152926, 0.023250256363739064, 0.9980166352312062, 0.9964577689402102, 0.9949953863783016, 0.02592687104216709, 0.025262079476983317, 0.14991049794894049, 0.00033239578259188575, 0.20741496833733672, 0.5501150201895709, 0.00033239578259188575, 0.04088468125880195, 0.01370374142076706, 0.09396851259954556, 0.8907431923498589, 0.9967593584315761, 0.07699528701757112, 0.19847673986751668, 0.007414360972062405, 0.717482007911885, 0.9939985505400021, 0.9972397130530394, 0.024444656415969043, 0.03666698462395357, 0.9207487250015006, 0.01629643761064603], \"Term\": [\"ack\", \"advantage\", \"advantage\", \"age\", \"air\", \"ajax\", \"ajax\", \"ajax\", \"album\", \"align\", \"align\", \"align\", \"alloc\", \"alloc\", \"also\", \"also\", \"also\", \"also\", \"also\", \"also\", \"also\", \"also\", \"alt\", \"anaconda\", \"analytic\", \"android\", \"androidruntime\", \"angle\", \"apache\", \"api\", \"api\", \"api\", \"api\", \"api\", \"api\", \"api\", \"app\", \"app\", \"app\", \"app\", \"app\", \"app\", \"app\", \"appender\", \"application\", \"application\", \"application\", \"application\", \"application\", \"application\", \"application\", \"application\", \"argc\", \"argc\", \"arr\", \"array\", \"array\", \"array\", \"array\", \"array\", \"arraylist\", \"arraylist\", \"artifactid\", \"assembly\", \"assembly\", \"assembly\", \"assembly\", \"atomic\", \"audio\", \"audio\", \"audio\", \"audio\", \"auth\", \"authenticate\", \"authentication\", \"authorization\", \"autocomplete\", \"aw\", \"awk\", \"ax\", \"azure\", \"background\", \"background\", \"background\", \"background\", \"background\", \"barcode\", \"bash\", \"bean\", \"bean\", \"blob\", \"blob\", \"blue\", \"bool\", \"bool\", \"bool\", \"boolean\", \"boolean\", \"boolean\", \"boolean\", \"boolean\", \"border\", \"branch\", \"branch\", \"branch\", \"branch\", \"broker\", \"btn\", \"buf\", \"build\", \"build\", \"build\", \"build\", \"build\", \"build\", \"build\", \"build\", \"button\", \"button\", \"button\", \"byte\", \"byte\", \"byte\", \"byte\", \"byte\", \"c\", \"c\", \"c\", \"c\", \"c\", \"c\", \"c\", \"c\", \"calc\", \"calendar\", \"calendar\", \"calendar\", \"call\", \"call\", \"call\", \"call\", \"call\", \"call\", \"call\", \"call\", \"car\", \"cart\", \"catalina\", \"category\", \"category\", \"category\", \"category\", \"center\", \"center\", \"certificate\", \"ch\", \"change\", \"change\", \"change\", \"change\", \"change\", \"change\", \"change\", \"change\", \"char\", \"char\", \"char\", \"char\", \"character\", \"character\", \"character\", \"character\", \"character\", \"character\", \"checkbox\", \"checkbox\", \"checkbox\", \"chr\", \"chrono\", \"cin\", \"circle\", \"circle\", \"city\", \"city\", \"city\", \"class\", \"class\", \"class\", \"class\", \"class\", \"class\", \"class\", \"click\", \"click\", \"click\", \"click\", \"click\", \"click\", \"click\", \"click\", \"client\", \"client\", \"client\", \"client\", \"client\", \"client\", \"client\", \"cmake\", \"code\", \"code\", \"code\", \"code\", \"code\", \"code\", \"code\", \"code\", \"coin\", \"color\", \"color\", \"color\", \"color\", \"column\", \"column\", \"column\", \"column\", \"column\", \"com\", \"com\", \"com\", \"com\", \"com\", \"com\", \"com\", \"com\", \"combobox\", \"combobox\", \"command\", \"command\", \"command\", \"command\", \"command\", \"command\", \"command\", \"component\", \"component\", \"component\", \"component\", \"component\", \"component\", \"connect\", \"connect\", \"connect\", \"connect\", \"connect\", \"connect\", \"connect\", \"connect\", \"console\", \"console\", \"console\", \"console\", \"console\", \"console\", \"console\", \"const\", \"const\", \"const\", \"const\", \"constructor\", \"constructor\", \"constructor\", \"constructor\", \"constructor\", \"content\", \"content\", \"content\", \"content\", \"content\", \"content\", \"content\", \"cookie\", \"cookie\", \"copy\", \"copy\", \"copy\", \"copy\", \"copy\", \"copy\", \"copy\", \"copy\", \"count\", \"count\", \"count\", \"count\", \"count\", \"count\", \"count\", \"country\", \"country\", \"cout\", \"cpp\", \"cpp\", \"cpu\", \"cpu\", \"create\", \"create\", \"create\", \"create\", \"create\", \"create\", \"create\", \"create\", \"credential\", \"css\", \"csv\", \"ctx\", \"currency\", \"cv\", \"cv\", \"cv\", \"daemon\", \"database\", \"database\", \"database\", \"database\", \"database\", \"database\", \"database\", \"dataframe\", \"dataset\", \"dataset\", \"dataset\", \"dataset\", \"dataset\", \"date\", \"date\", \"date\", \"date\", \"date\", \"date\", \"datetime\", \"datetime\", \"datetime\", \"datum\", \"datum\", \"datum\", \"datum\", \"datum\", \"datum\", \"datum\", \"datum\", \"day\", \"day\", \"day\", \"day\", \"day\", \"day\", \"day\", \"db\", \"db\", \"db\", \"db\", \"db\", \"def\", \"def\", \"def\", \"def\", \"dep\", \"desc\", \"desc\", \"desc\", \"desc\", \"develop\", \"develop\", \"develop\", \"develop\", \"develop\", \"device\", \"device\", \"device\", \"device\", \"device\", \"dictionary\", \"dictionary\", \"dictionary\", \"dim\", \"dim\", \"dim\", \"dim\", \"dir\", \"dir\", \"dir\", \"dir\", \"directory\", \"directory\", \"directory\", \"directory\", \"discord\", \"display\", \"display\", \"display\", \"display\", \"display\", \"display\", \"display\", \"display\", \"dist\", \"distinct\", \"div\", \"django\", \"django\", \"django\", \"django\", \"dll\", \"dll\", \"dll\", \"docker\", \"dotnet\", \"dotnet\", \"dotnet\", \"dotnet\", \"dotnet\", \"dotnet\", \"double\", \"double\", \"double\", \"double\", \"double\", \"double\", \"dtype\", \"dup\", \"dx\", \"elasticsearch\", \"element\", \"element\", \"element\", \"element\", \"element\", \"element\", \"element\", \"email\", \"email\", \"email\", \"email\", \"email\", \"email\", \"email\", \"emp\", \"employee\", \"employee\", \"end\", \"end\", \"end\", \"end\", \"end\", \"end\", \"end\", \"end\", \"endl\", \"entity\", \"entity\", \"entity\", \"entity\", \"entity\", \"error\", \"error\", \"error\", \"error\", \"error\", \"error\", \"error\", \"error\", \"excel\", \"excel\", \"experience\", \"experience\", \"experience\", \"experience\", \"experience\", \"experience\", \"expr\", \"fe\", \"field\", \"field\", \"field\", \"field\", \"field\", \"field\", \"field\", \"field\", \"fig\", \"file\", \"file\", \"file\", \"file\", \"file\", \"file\", \"file\", \"file\", \"filename\", \"filename\", \"filename\", \"filename\", \"filter\", \"filter\", \"filter\", \"filter\", \"filter\", \"filter\", \"filter\", \"find\", \"find\", \"find\", \"find\", \"find\", \"find\", \"find\", \"find\", \"firebase\", \"firstname\", \"firstname\", \"flask\", \"float\", \"float\", \"float\", \"float\", \"float\", \"fmt\", \"fname\", \"folder\", \"folder\", \"folder\", \"folder\", \"folder\", \"font\", \"foo\", \"foo\", \"foo\", \"foo\", \"foo\", \"foo\", \"food\", \"footer\", \"foreign\", \"form\", \"form\", \"form\", \"form\", \"form\", \"form\", \"form\", \"format\", \"format\", \"format\", \"format\", \"format\", \"format\", \"format\", \"format\", \"formula\", \"fp\", \"fragment\", \"fruit\", \"func\", \"function\", \"function\", \"function\", \"function\", \"function\", \"function\", \"function\", \"function\", \"gemicrosoft\", \"gender\", \"geometry\", \"get\", \"get\", \"get\", \"get\", \"get\", \"get\", \"get\", \"get\", \"getelementbyid\", \"ggplot\", \"ggplot\", \"git\", \"git\", \"gmail\", \"gmail\", \"go\", \"go\", \"go\", \"go\", \"go\", \"go\", \"go\", \"go\", \"good\", \"good\", \"good\", \"good\", \"good\", \"good\", \"good\", \"grade\", \"gradient\", \"gradle\", \"gradle\", \"grep\", \"grid\", \"grid\", \"grid\", \"grid\", \"group\", \"group\", \"group\", \"group\", \"group\", \"group\", \"group\", \"group\", \"groupby\", \"gulp\", \"hardware\", \"height\", \"height\", \"hh\", \"host\", \"host\", \"host\", \"host\", \"hour\", \"hour\", \"hour\", \"hour\", \"hour\", \"hour\", \"hour\", \"hover\", \"href\", \"htaccess\", \"html\", \"html\", \"html\", \"html\", \"html\", \"html\", \"html\", \"http\", \"http\", \"http\", \"http\", \"http\", \"http\", \"http\", \"http\", \"https\", \"https\", \"https\", \"https\", \"https\", \"https\", \"https\", \"hyperlink\", \"icon\", \"icon\", \"ide\", \"ide\", \"iframe\", \"image\", \"image\", \"image\", \"image\", \"image\", \"image\", \"image\", \"image\", \"img\", \"import\", \"import\", \"import\", \"import\", \"import\", \"import\", \"import\", \"import\", \"index\", \"index\", \"index\", \"index\", \"index\", \"index\", \"index\", \"index\", \"indexpath\", \"init\", \"init\", \"init\", \"init\", \"init\", \"input\", \"input\", \"input\", \"input\", \"input\", \"input\", \"insert\", \"insert\", \"insert\", \"insert\", \"insert\", \"insert\", \"install\", \"install\", \"install\", \"int\", \"int\", \"int\", \"intent\", \"interval\", \"interval\", \"interval\", \"interval\", \"interval\", \"interval\", \"inventory\", \"invoice\", \"ip\", \"ip\", \"ipv\", \"item\", \"item\", \"item\", \"item\", \"item\", \"item\", \"jar\", \"jar\", \"jar\", \"java\", \"java\", \"java\", \"java\", \"java\", \"java\", \"javascript\", \"javascript\", \"javascript\", \"javascript\", \"javascript\", \"javascript\", \"jdbc\", \"jdbc\", \"jframe\", \"job\", \"job\", \"job\", \"job\", \"job\", \"job\", \"join\", \"join\", \"join\", \"join\", \"join\", \"join\", \"join\", \"jquery\", \"key\", \"key\", \"key\", \"key\", \"key\", \"key\", \"key\", \"know\", \"know\", \"know\", \"know\", \"know\", \"know\", \"know\", \"know\", \"kotlin\", \"kubernete\", \"kwargs\", \"label\", \"label\", \"label\", \"label\", \"label\", \"label\", \"landscape\", \"language\", \"language\", \"language\", \"language\", \"language\", \"language\", \"language\", \"lastname\", \"lastname\", \"layout\", \"layout\", \"layout\", \"layout\", \"lib\", \"lib\", \"library\", \"library\", \"library\", \"library\", \"library\", \"library\", \"library\", \"library\", \"like\", \"like\", \"like\", \"like\", \"like\", \"like\", \"like\", \"like\", \"line\", \"line\", \"line\", \"line\", \"line\", \"line\", \"line\", \"line\", \"list\", \"list\", \"list\", \"list\", \"list\", \"list\", \"list\", \"list\", \"loc\", \"loc\", \"local\", \"local\", \"local\", \"local\", \"local\", \"local\", \"local\", \"local\", \"localhost\", \"localhost\", \"log\", \"log\", \"log\", \"log\", \"log\", \"log\", \"log\", \"log\", \"logger\", \"login\", \"login\", \"logout\", \"look\", \"look\", \"look\", \"look\", \"look\", \"look\", \"look\", \"look\", \"lua\", \"machine\", \"machine\", \"machine\", \"machine\", \"machine\", \"mail\", \"mail\", \"mail\", \"mail\", \"main\", \"main\", \"main\", \"main\", \"main\", \"main\", \"main\", \"main\", \"make\", \"make\", \"make\", \"make\", \"make\", \"make\", \"make\", \"make\", \"malloc\", \"mapper\", \"mar\", \"margin\", \"match\", \"match\", \"match\", \"match\", \"match\", \"match\", \"match\", \"match\", \"matplotlib\", \"maven\", \"maven\", \"memory\", \"memory\", \"memory\", \"memory\", \"menu\", \"menu\", \"menu\", \"menu\", \"message\", \"message\", \"message\", \"message\", \"message\", \"message\", \"message\", \"message\", \"meteor\", \"method\", \"method\", \"method\", \"method\", \"method\", \"method\", \"method\", \"method\", \"microsoftbuild\", \"microsoftgbox\", \"middleware\", \"minute\", \"minute\", \"minute\", \"minute\", \"minute\", \"modal\", \"model\", \"model\", \"model\", \"model\", \"model\", \"model\", \"model\", \"module\", \"module\", \"module\", \"module\", \"module\", \"module\", \"mon\", \"mongoose\", \"month\", \"month\", \"month\", \"mov\", \"movie\", \"movie\", \"movie\", \"movie\", \"myapp\", \"myapp\", \"myclass\", \"myfile\", \"mysqli\", \"na\", \"name\", \"name\", \"name\", \"name\", \"name\", \"name\", \"name\", \"name\", \"nan\", \"nat\", \"nav\", \"need\", \"need\", \"need\", \"need\", \"need\", \"need\", \"need\", \"need\", \"neo\", \"new\", \"new\", \"new\", \"new\", \"new\", \"new\", \"new\", \"new\", \"ng\", \"nginx\", \"nil\", \"nil\", \"node\", \"node\", \"node\", \"node\", \"node\", \"node\", \"nodejs\", \"nodejs\", \"notebook\", \"np\", \"np\", \"np\", \"np\", \"npm\", \"nslog\", \"nsstre\", \"nsstring\", \"nuget\", \"null\", \"null\", \"null\", \"null\", \"null\", \"null\", \"null\", \"number\", \"number\", \"number\", \"number\", \"number\", \"number\", \"number\", \"numpy\", \"numpy\", \"oauth\", \"oauth\", \"oauth\", \"object\", \"object\", \"object\", \"object\", \"object\", \"object\", \"object\", \"object\", \"objectid\", \"observablecollection\", \"odbc\", \"often\", \"often\", \"often\", \"onclick\", \"onclick\", \"open\", \"open\", \"open\", \"open\", \"open\", \"open\", \"open\", \"open\", \"opencv\", \"oracle\", \"oracle\", \"oracle\", \"order\", \"order\", \"order\", \"order\", \"order\", \"order\", \"order\", \"order\", \"org\", \"org\", \"org\", \"org\", \"org\", \"org\", \"org\", \"org\", \"output\", \"output\", \"output\", \"output\", \"output\", \"output\", \"output\", \"output\", \"override\", \"override\", \"override\", \"override\", \"package\", \"package\", \"package\", \"package\", \"package\", \"package\", \"package\", \"package\", \"padding\", \"padding\", \"page\", \"page\", \"page\", \"page\", \"page\", \"page\", \"page\", \"pagination\", \"panda\", \"pandas\", \"password\", \"password\", \"password\", \"path\", \"path\", \"path\", \"path\", \"path\", \"path\", \"path\", \"path\", \"pd\", \"pdf\", \"pdf\", \"permission\", \"permission\", \"permission\", \"permission\", \"person\", \"person\", \"person\", \"person\", \"person\", \"person\", \"person\", \"php\", \"php\", \"php\", \"php\", \"php\", \"php\", \"pip\", \"pivot\", \"player\", \"player\", \"player\", \"player\", \"player\", \"player\", \"plt\", \"plt\", \"port\", \"port\", \"port\", \"portrait\", \"possible\", \"possible\", \"possible\", \"possible\", \"possible\", \"possible\", \"possible\", \"possible\", \"preventdefault\", \"price\", \"price\", \"price\", \"print\", \"print\", \"print\", \"print\", \"print\", \"print\", \"print\", \"print\", \"printf\", \"printf\", \"println\", \"println\", \"println\", \"private\", \"private\", \"private\", \"private\", \"private\", \"private\", \"problem\", \"problem\", \"problem\", \"problem\", \"problem\", \"problem\", \"problem\", \"problem\", \"procedure\", \"procedure\", \"procedure\", \"procedure\", \"process\", \"process\", \"process\", \"process\", \"process\", \"process\", \"process\", \"process\", \"product\", \"product\", \"product\", \"product\", \"project\", \"project\", \"project\", \"project\", \"project\", \"project\", \"project\", \"project\", \"prop\", \"property\", \"property\", \"property\", \"property\", \"property\", \"property\", \"property\", \"property\", \"ptr\", \"pub\", \"public\", \"public\", \"public\", \"public\", \"public\", \"public\", \"py\", \"pygame\", \"pyqt\", \"pyspark\", \"python\", \"python\", \"python\", \"python\", \"python\", \"python\", \"python\", \"qtcore\", \"quantity\", \"query\", \"query\", \"query\", \"query\", \"query\", \"question\", \"question\", \"question\", \"question\", \"question\", \"question\", \"question\", \"question\", \"r\", \"r\", \"r\", \"r\", \"r\", \"r\", \"r\", \"r\", \"radio\", \"radio\", \"radius\", \"rb\", \"react\", \"react\", \"react\", \"read\", \"read\", \"read\", \"read\", \"read\", \"read\", \"read\", \"read\", \"really\", \"really\", \"really\", \"really\", \"really\", \"really\", \"really\", \"rec\", \"recently\", \"recently\", \"recently\", \"recently\", \"recently\", \"recommend\", \"recommend\", \"recommend\", \"recommend\", \"recommend\", \"record\", \"record\", \"record\", \"record\", \"record\", \"record\", \"rect\", \"rect\", \"recv\", \"redirect\", \"redirect\", \"redirect\", \"redirect\", \"redirect\", \"redux\", \"regex\", \"rem\", \"report\", \"report\", \"report\", \"report\", \"report\", \"report\", \"report\", \"report\", \"request\", \"request\", \"request\", \"request\", \"request\", \"request\", \"request\", \"request\", \"response\", \"response\", \"response\", \"response\", \"response\", \"response\", \"response\", \"response\", \"result\", \"result\", \"result\", \"result\", \"result\", \"result\", \"result\", \"result\", \"return\", \"return\", \"return\", \"return\", \"return\", \"return\", \"return\", \"return\", \"rewriterule\", \"rewriterule\", \"rm\", \"route\", \"route\", \"route\", \"route\", \"router\", \"router\", \"row\", \"row\", \"row\", \"row\", \"row\", \"rs\", \"rs\", \"ruby\", \"ruby\", \"ruby\", \"run\", \"run\", \"run\", \"run\", \"run\", \"run\", \"run\", \"run\", \"sale\", \"sale\", \"scanner\", \"script\", \"script\", \"script\", \"script\", \"script\", \"script\", \"script\", \"see\", \"see\", \"see\", \"see\", \"see\", \"see\", \"see\", \"see\", \"seemicrosoft\", \"seemicrosoft\", \"seemicrosoft\", \"seemicrosoft\", \"seemicrosoft\", \"seemicrosoft\", \"seemicrosoft\", \"seemicrosoft\", \"select\", \"select\", \"select\", \"select\", \"select\", \"select\", \"selenium\", \"self\", \"self\", \"send\", \"send\", \"send\", \"send\", \"send\", \"send\", \"send\", \"send\", \"server\", \"server\", \"server\", \"server\", \"server\", \"server\", \"server\", \"service\", \"service\", \"service\", \"service\", \"service\", \"service\", \"session\", \"session\", \"session\", \"session\", \"set\", \"set\", \"set\", \"set\", \"set\", \"set\", \"set\", \"set\", \"sf\", \"sheet\", \"sheet\", \"shell\", \"shell\", \"shell\", \"shell\", \"show\", \"show\", \"show\", \"show\", \"show\", \"show\", \"show\", \"show\", \"simpledateformat\", \"sin\", \"site\", \"site\", \"site\", \"site\", \"site\", \"site\", \"site\", \"size\", \"size\", \"size\", \"size\", \"size\", \"size\", \"size\", \"size\", \"sizeof\", \"slug\", \"smtp\", \"socket\", \"socket\", \"socket\", \"socket\", \"software\", \"software\", \"software\", \"software\", \"software\", \"solid\", \"solid\", \"solr\", \"solution\", \"solution\", \"solution\", \"solution\", \"solution\", \"solution\", \"solution\", \"solution\", \"song\", \"sound\", \"sound\", \"sound\", \"sound\", \"span\", \"spark\", \"spark\", \"split\", \"split\", \"split\", \"split\", \"split\", \"split\", \"split\", \"spreadsheet\", \"springframework\", \"sprite\", \"sql\", \"sql\", \"ssl\", \"start\", \"start\", \"start\", \"start\", \"start\", \"start\", \"start\", \"start\", \"startdate\", \"static\", \"static\", \"static\", \"static\", \"static\", \"static\", \"static\", \"static\", \"std\", \"stdio\", \"stock\", \"string\", \"string\", \"string\", \"string\", \"string\", \"string\", \"string\", \"string\", \"struct\", \"struct\", \"struct\", \"student\", \"student\", \"student\", \"student\", \"studio\", \"studio\", \"studio\", \"studio\", \"style\", \"style\", \"style\", \"style\", \"stylesheet\", \"subplot\", \"suite\", \"svg\", \"system\", \"system\", \"system\", \"system\", \"system\", \"system\", \"system\", \"system\", \"table\", \"table\", \"table\", \"table\", \"tableview\", \"talk\", \"talk\", \"talk\", \"tap\", \"tensorflow\", \"test\", \"test\", \"test\", \"test\", \"test\", \"test\", \"test\", \"test\", \"testng\", \"text\", \"text\", \"text\", \"text\", \"text\", \"text\", \"text\", \"text\", \"textarea\", \"texture\", \"textview\", \"thank\", \"thank\", \"thank\", \"thank\", \"thank\", \"thank\", \"thank\", \"thank\", \"theme\", \"thing\", \"thing\", \"thing\", \"thing\", \"thing\", \"thing\", \"thing\", \"thing\", \"think\", \"think\", \"think\", \"think\", \"think\", \"think\", \"think\", \"think\", \"thread\", \"thread\", \"thread\", \"thread\", \"thumbnail\", \"tibble\", \"tibble\", \"time\", \"time\", \"time\", \"time\", \"time\", \"time\", \"time\", \"time\", \"timestamp\", \"timestamp\", \"timezone\", \"timezone\", \"title\", \"title\", \"title\", \"title\", \"title\", \"title\", \"title\", \"tk\", \"tmp\", \"tmp\", \"tmp\", \"tmp\", \"tmp\", \"toggle\", \"token\", \"token\", \"token\", \"token\", \"token\", \"token\", \"tolist\", \"tomcat\", \"tooltip\", \"tooltip\", \"tostre\", \"tostre\", \"tostre\", \"tostre\", \"tostre\", \"tostre\", \"tr\", \"tr\", \"traceback\", \"train\", \"trait\", \"trait\", \"transaction\", \"transaction\", \"transaction\", \"transaction\", \"try\", \"try\", \"try\", \"try\", \"try\", \"try\", \"try\", \"try\", \"tweet\", \"txt\", \"txt\", \"txt\", \"txt\", \"type\", \"type\", \"type\", \"type\", \"type\", \"type\", \"type\", \"type\", \"typedef\", \"typename\", \"typename\", \"uint\", \"uint\", \"union\", \"unity\", \"update\", \"update\", \"update\", \"update\", \"update\", \"update\", \"update\", \"update\", \"upload\", \"upload\", \"upload\", \"upload\", \"url\", \"url\", \"url\", \"url\", \"url\", \"url\", \"url\", \"usd\", \"use\", \"use\", \"use\", \"use\", \"use\", \"use\", \"use\", \"use\", \"user\", \"user\", \"user\", \"user\", \"user\", \"user\", \"user\", \"user\", \"username\", \"username\", \"username\", \"username\", \"usestate\", \"usr\", \"usr\", \"usr\", \"utc\", \"utc\", \"value\", \"value\", \"value\", \"value\", \"value\", \"value\", \"value\", \"value\", \"var\", \"var\", \"var\", \"var\", \"var\", \"var\", \"var\", \"var\", \"vec\", \"vec\", \"vector\", \"vector\", \"version\", \"version\", \"version\", \"version\", \"version\", \"version\", \"version\", \"version\", \"vertex\", \"view\", \"view\", \"view\", \"view\", \"view\", \"view\", \"view\", \"viewcontroller\", \"visual\", \"visual\", \"visual\", \"void\", \"void\", \"void\", \"void\", \"vs\", \"vs\", \"vs\", \"vs\", \"vs\", \"vs\", \"vs\", \"want\", \"want\", \"want\", \"want\", \"want\", \"want\", \"want\", \"want\", \"way\", \"way\", \"way\", \"way\", \"way\", \"way\", \"way\", \"way\", \"wb\", \"wb\", \"webdriver\", \"webpack\", \"webview\", \"week\", \"week\", \"week\", \"week\", \"well\", \"well\", \"well\", \"well\", \"well\", \"well\", \"well\", \"well\", \"width\", \"width\", \"window\", \"window\", \"window\", \"window\", \"window\", \"window\", \"window\", \"word\", \"word\", \"word\", \"word\", \"word\", \"word\", \"work\", \"work\", \"work\", \"work\", \"work\", \"work\", \"work\", \"work\", \"workbook\", \"worksheet\", \"write\", \"write\", \"write\", \"write\", \"write\", \"write\", \"write\", \"write\", \"writeline\", \"xamarin\", \"xlsx\", \"xml\", \"xml\", \"xml\", \"xml\", \"xml\", \"xml\", \"xml\", \"xml\", \"xsl\", \"xsl\", \"xsl\", \"yaml\", \"year\", \"year\", \"year\", \"year\", \"yii\", \"yyyy\", \"zip\", \"zip\", \"zip\", \"zip\"]}, \"R\": 30, \"lambda.step\": 0.01, \"plot.opts\": {\"xlab\": \"PC1\", \"ylab\": \"PC2\"}, \"topic.order\": [7, 2, 5, 1, 3, 8, 6, 4]};\n",
       "\n",
       "function LDAvis_load_lib(url, callback){\n",
       "  var s = document.createElement('script');\n",
       "  s.src = url;\n",
       "  s.async = true;\n",
       "  s.onreadystatechange = s.onload = callback;\n",
       "  s.onerror = function(){console.warn(\"failed to load library \" + url);};\n",
       "  document.getElementsByTagName(\"head\")[0].appendChild(s);\n",
       "}\n",
       "\n",
       "if(typeof(LDAvis) !== \"undefined\"){\n",
       "   // already loaded: just create the visualization\n",
       "   !function(LDAvis){\n",
       "       new LDAvis(\"#\" + \"ldavis_el2245621614674362727951935655\", ldavis_el2245621614674362727951935655_data);\n",
       "   }(LDAvis);\n",
       "}else if(typeof define === \"function\" && define.amd){\n",
       "   // require.js is available: use it to load d3/LDAvis\n",
       "   require.config({paths: {d3: \"https://d3js.org/d3.v5\"}});\n",
       "   require([\"d3\"], function(d3){\n",
       "      window.d3 = d3;\n",
       "      LDAvis_load_lib(\"https://cdn.jsdelivr.net/gh/bmabey/pyLDAvis@3.3.1/pyLDAvis/js/ldavis.v3.0.0.js\", function(){\n",
       "        new LDAvis(\"#\" + \"ldavis_el2245621614674362727951935655\", ldavis_el2245621614674362727951935655_data);\n",
       "      });\n",
       "    });\n",
       "}else{\n",
       "    // require.js not available: dynamically load d3 & LDAvis\n",
       "    LDAvis_load_lib(\"https://d3js.org/d3.v5.js\", function(){\n",
       "         LDAvis_load_lib(\"https://cdn.jsdelivr.net/gh/bmabey/pyLDAvis@3.3.1/pyLDAvis/js/ldavis.v3.0.0.js\", function(){\n",
       "                 new LDAvis(\"#\" + \"ldavis_el2245621614674362727951935655\", ldavis_el2245621614674362727951935655_data);\n",
       "            })\n",
       "         });\n",
       "}\n",
       "</script>"
      ],
      "text/plain": [
       "PreparedData(topic_coordinates=              x         y  topics  cluster       Freq\n",
       "topic                                                \n",
       "6     -0.020875  0.001448       1        1  21.738629\n",
       "1     -0.144937 -0.008084       2        1  17.276156\n",
       "4     -0.064513 -0.225745       3        1  16.521528\n",
       "0     -0.080045 -0.064129       4        1  13.712303\n",
       "2      0.136772 -0.052739       5        1  12.217515\n",
       "7      0.010746  0.025267       6        1   9.189039\n",
       "5      0.304327  0.071642       7        1   5.073639\n",
       "3     -0.141473  0.252339       8        1   4.271191, topic_info=        Term          Freq         Total Category  logprob  loglift\n",
       "38      file  22649.000000  22649.000000  Default  30.0000  30.0000\n",
       "385      div  12977.000000  12977.000000  Default  29.0000  29.0000\n",
       "355     date   7283.000000   7283.000000  Default  28.0000  28.0000\n",
       "143      int  11402.000000  11402.000000  Default  27.0000  27.0000\n",
       "3619    self   6432.000000   6432.000000  Default  26.0000  26.0000\n",
       "...      ...           ...           ...      ...      ...      ...\n",
       "393   create    702.724759  12266.913420   Topic8  -5.2842   0.2936\n",
       "21       get    710.646912  23837.034128   Topic8  -5.2730  -0.3595\n",
       "513    datum    674.649553  18496.331047   Topic8  -5.3249  -0.1579\n",
       "630   update    619.389747   5728.913902   Topic8  -5.4104   0.9287\n",
       "205   server    622.830861   7595.856720   Topic8  -5.4049   0.6522\n",
       "\n",
       "[647 rows x 6 columns], token_table=       Topic      Freq       Term\n",
       "term                             \n",
       "19699      1  0.990287        ack\n",
       "352        1  0.988092  advantage\n",
       "352        8  0.006501  advantage\n",
       "0          8  0.998498        age\n",
       "712        1  0.992776        air\n",
       "...      ...       ...        ...\n",
       "1137       8  0.997240       yyyy\n",
       "3957       2  0.024445        zip\n",
       "3957       5  0.036667        zip\n",
       "3957       6  0.920749        zip\n",
       "3957       7  0.016296        zip\n",
       "\n",
       "[1927 rows x 3 columns], R=30, lambda_step=0.01, plot_opts={'xlab': 'PC1', 'ylab': 'PC2'}, topic_order=[7, 2, 5, 1, 3, 8, 6, 4])"
      ]
     },
     "execution_count": 51,
     "metadata": {},
     "output_type": "execute_result"
    }
   ],
   "source": [
    "vis_8"
   ]
  },
  {
   "cell_type": "markdown",
   "id": "b2b3618a",
   "metadata": {},
   "source": [
    "#### Modèle fastLDA avec 10 topics :"
   ]
  },
  {
   "cell_type": "code",
   "execution_count": 45,
   "id": "54f462eb",
   "metadata": {},
   "outputs": [],
   "source": [
    "lda_model_10 = gensim.models.LdaMulticore(corpus=corpus,\n",
    "                                       id2word=id2word,\n",
    "                                       num_topics=10, \n",
    "                                       random_state=100,\n",
    "                                       chunksize=100,\n",
    "                                       passes=10,\n",
    "                                       per_word_topics=True)"
   ]
  },
  {
   "cell_type": "code",
   "execution_count": 47,
   "id": "b4eb4716",
   "metadata": {},
   "outputs": [],
   "source": [
    "vis_10 = pyLDAvis.gensim_models.prepare(lda_model_10, corpus, id2word)"
   ]
  },
  {
   "cell_type": "code",
   "execution_count": 48,
   "id": "e6419e03",
   "metadata": {},
   "outputs": [
    {
     "data": {
      "text/html": [
       "\n",
       "<link rel=\"stylesheet\" type=\"text/css\" href=\"https://cdn.jsdelivr.net/gh/bmabey/pyLDAvis@3.3.1/pyLDAvis/js/ldavis.v1.0.0.css\">\n",
       "\n",
       "\n",
       "<div id=\"ldavis_el2245621520332993607417869892\"></div>\n",
       "<script type=\"text/javascript\">\n",
       "\n",
       "var ldavis_el2245621520332993607417869892_data = {\"mdsDat\": {\"x\": [-0.10901036735982281, -0.09659681989838412, -0.028221123419985332, -0.06248422491114824, -0.017761614814677196, -0.06570848147794676, -0.09777327170803896, -0.04579036109837672, 0.13938357945114435, 0.3839626852372359], \"y\": [0.03354056820241941, -0.051145808817526374, -0.07403175447791072, 0.0007930221384626838, 0.0772399181998255, 0.10284604800139203, 0.04046404963603153, 0.038701349211302596, -0.30745229893116843, 0.1390449068371719], \"topics\": [1, 2, 3, 4, 5, 6, 7, 8, 9, 10], \"cluster\": [1, 1, 1, 1, 1, 1, 1, 1, 1, 1], \"Freq\": [18.076554146659245, 13.844841103830822, 13.836909476666204, 13.317847616954678, 12.906062357181536, 8.76804218812979, 8.19419380895953, 5.6917855554254615, 3.170236388602555, 2.193527357590177]}, \"tinfo\": {\"Term\": [\"file\", \"self\", \"div\", \"string\", \"public\", \"int\", \"date\", \"table\", \"class\", \"value\", \"android\", \"return\", \"view\", \"test\", \"row\", \"column\", \"name\", \"button\", \"query\", \"void\", \"app\", \"text\", \"html\", \"select\", \"error\", \"com\", \"property\", \"new\", \"line\", \"width\", \"myapp\", \"dart\", \"oauth\", \"song\", \"ios\", \"xamarin\", \"simulator\", \"ipad\", \"album\", \"broker\", \"recommendation\", \"portrait\", \"voice\", \"scrollbar\", \"landscape\", \"gesture\", \"vista\", \"shoot\", \"subscriber\", \"adb\", \"electron\", \"swiftui\", \"sprint\", \"alex\", \"wizard\", \"kivy\", \"splash\", \"tfs\", \"subview\", \"itune\", \"javafx\", \"cordova\", \"plug\", \"sidebar\", \"visual\", \"svg\", \"studio\", \"software\", \"asset\", \"develop\", \"flash\", \"experience\", \"good\", \"agent\", \"express\", \"aspdotnet\", \"notification\", \"window\", \"device\", \"application\", \"functionality\", \"design\", \"way\", \"really\", \"dotnet\", \"thing\", \"well\", \"think\", \"know\", \"use\", \"possible\", \"solution\", \"need\", \"event\", \"question\", \"make\", \"like\", \"see\", \"look\", \"change\", \"work\", \"want\", \"project\", \"also\", \"app\", \"go\", \"thank\", \"time\", \"create\", \"user\", \"run\", \"code\", \"find\", \"call\", \"page\", \"problem\", \"get\", \"try\", \"varchar\", \"dbo\", \"nan\", \"foreign\", \"distinct\", \"polygon\", \"uuid\", \"department\", \"stmt\", \"asc\", \"tolist\", \"elif\", \"fruit\", \"tibble\", \"groupby\", \"yii\", \"objectid\", \"slug\", \"rewritecond\", \"charfield\", \"mutate\", \"facet\", \"qty\", \"inventory\", \"dropdownlist\", \"acc\", \"pd\", \"specie\", \"cnt\", \"catalog\", \"query\", \"table\", \"price\", \"sql\", \"column\", \"car\", \"invoice\", \"row\", \"product\", \"desc\", \"dt\", \"record\", \"timestamp\", \"insert\", \"model\", \"datatable\", \"select\", \"customer\", \"group\", \"field\", \"join\", \"category\", \"order\", \"entity\", \"mysql\", \"filter\", \"value\", \"database\", \"list\", \"db\", \"count\", \"name\", \"datum\", \"key\", \"array\", \"result\", \"date\", \"index\", \"number\", \"user\", \"get\", \"like\", \"item\", \"create\", \"want\", \"use\", \"type\", \"set\", \"div\", \"android\", \"css\", \"span\", \"href\", \"btn\", \"nav\", \"getelementbyid\", \"ng\", \"jquery\", \"font\", \"height\", \"textarea\", \"ch\", \"mysqli\", \"footer\", \"mindotjs\", \"logo\", \"webkit\", \"nbsp\", \"drawable\", \"apk\", \"width\", \"slider\", \"innerhtml\", \"opacity\", \"shadow\", \"tbody\", \"toggle\", \"anchor\", \"border\", \"curl\", \"tr\", \"margin\", \"icon\", \"animate\", \"center\", \"style\", \"img\", \"layout\", \"alt\", \"button\", \"padding\", \"ajax\", \"html\", \"canvas\", \"color\", \"align\", \"form\", \"click\", \"background\", \"submit\", \"label\", \"text\", \"image\", \"title\", \"content\", \"body\", \"class\", \"javascript\", \"page\", \"input\", \"display\", \"var\", \"function\", \"script\", \"type\", \"element\", \"post\", \"name\", \"code\", \"na\", \"cout\", \"arr\", \"arraylist\", \"endl\", \"ptr\", \"typeerror\", \"cart\", \"observable\", \"scanner\", \"radio\", \"toast\", \"usestate\", \"settext\", \"setstate\", \"jframe\", \"food\", \"pic\", \"useeffect\", \"cin\", \"jsonobject\", \"sizeof\", \"gettext\", \"getdata\", \"jpanel\", \"sin\", \"slot\", \"getname\", \"multiply\", \"datagridview\", \"public\", \"void\", \"println\", \"savedinstancestate\", \"printstacktrace\", \"myclass\", \"getstre\", \"int\", \"private\", \"boolean\", \"struct\", \"constructor\", \"tostre\", \"typeof\", \"std\", \"override\", \"writeline\", \"static\", \"obj\", \"string\", \"return\", \"const\", \"bool\", \"extend\", \"char\", \"i++\", \"args\", \"new\", \"object\", \"null\", \"class\", \"method\", \"function\", \"array\", \"system\", \"type\", \"call\", \"value\", \"false\", \"main\", \"length\", \"get\", \"var\", \"code\", \"true\", \"list\", \"add\", \"error\", \"try\", \"use\", \"git\", \"docker\", \"npm\", \"router\", \"intent\", \"azure\", \"authentication\", \"firebase\", \"nginx\", \"gradle\", \"logger\", \"ssl\", \"credential\", \"certificate\", \"repo\", \"ssh\", \"tomcat\", \"authenticate\", \"nodejs\", \"pod\", \"webpack\", \"elasticsearch\", \"deny\", \"kubernete\", \"auth\", \"androidruntime\", \"dat\", \"kafka\", \"appender\", \"kotlin\", \"password\", \"login\", \"apache\", \"localhost\", \"ip\", \"cookie\", \"promise\", \"jar\", \"permission\", \"conf\", \"env\", \"host\", \"port\", \"request\", \"err\", \"config\", \"connection\", \"route\", \"log\", \"client\", \"username\", \"com\", \"service\", \"socket\", \"server\", \"api\", \"module\", \"error\", \"java\", \"http\", \"connect\", \"app\", \"message\", \"response\", \"token\", \"send\", \"url\", \"https\", \"email\", \"user\", \"run\", \"org\", \"import\", \"get\", \"try\", \"use\", \"version\", \"name\", \"plot\", \"np\", \"prop\", \"numpy\", \"plt\", \"train\", \"ax\", \"radius\", \"cv\", \"texture\", \"workbook\", \"pygame\", \"pip\", \"matplotlib\", \"circle\", \"aes\", \"tensorflow\", \"ggplot\", \"mp\", \"stdout\", \"cmake\", \"anaconda\", \"fig\", \"opencv\", \"geom\", \"vertex\", \"stderr\", \"matlab\", \"stdio\", \"mpi\", \"distance\", \"graph\", \"angle\", \"bitmap\", \"player\", \"axis\", \"pi\", \"shape\", \"rank\", \"python\", \"coordinate\", \"audio\", \"thread\", \"buffer\", \"random\", \"stat\", \"draw\", \"print\", \"vector\", \"point\", \"size\", \"c\", \"time\", \"float\", \"import\", \"r\", \"process\", \"output\", \"frame\", \"line\", \"start\", \"datum\", \"run\", \"image\", \"program\", \"use\", \"code\", \"input\", \"try\", \"number\", \"get\", \"error\", \"function\", \"regex\", \"selenium\", \"payment\", \"foo\", \"groupid\", \"artifactid\", \"malloc\", \"yaml\", \"impl\", \"trait\", \"decrypt\", \"classpath\", \"preg\", \"checkboxe\", \"mapper\", \"del\", \"bf\", \"myfile\", \"bufferedreader\", \"cipher\", \"regexp\", \"baz\", \"market\", \"javadotnet\", \"nb\", \"atomic\", \"ob\", \"testng\", \"openssl\", \"nuget\", \"foobar\", \"tls\", \"character\", \"word\", \"expression\", \"sha\", \"assembly\", \"encrypt\", \"symfony\", \"blah\", \"quote\", \"test\", \"dll\", \"perl\", \"dog\", \"xml\", \"compiler\", \"match\", \"pattern\", \"compile\", \"replace\", \"unit\", \"symbol\", \"split\", \"string\", \"bar\", \"encode\", \"define\", \"dependency\", \"use\", \"parse\", \"reference\", \"variable\", \"find\", \"version\", \"like\", \"code\", \"line\", \"try\", \"example\", \"project\", \"work\", \"write\", \"follow\", \"text\", \"error\", \"name\", \"get\", \"way\", \"want\", \"class\", \"type\", \"dataframe\", \"webview\", \"filename\", \"gender\", \"currency\", \"latitude\", \"longitude\", \"autocomplete\", \"tbl\", \"thumbnail\", \"street\", \"tk\", \"awk\", \"wb\", \"rm\", \"goto\", \"htaccess\", \"usd\", \"coin\", \"dirname\", \"ea\", \"dep\", \"bat\", \"ipv\", \"mysite\", \"csv\", \"docx\", \"enddate\", \"tar\", \"gz\", \"pdf\", \"grep\", \"bash\", \"zip\", \"ftp\", \"txt\", \"file\", \"folder\", \"upload\", \"tmp\", \"attachment\", \"stroke\", \"dir\", \"directory\", \"sale\", \"node\", \"excel\", \"path\", \"shell\", \"photo\", \"cd\", \"command\", \"col\", \"line\", \"download\", \"copy\", \"echo\", \"open\", \"dim\", \"script\", \"root\", \"option\", \"c\", \"sub\", \"read\", \"output\", \"save\", \"name\", \"write\", \"try\", \"text\", \"code\", \"r\", \"get\", \"use\", \"php\", \"matrix\", \"age\", \"bean\", \"spring\", \"blue\", \"textview\", \"springframework\", \"formula\", \"role\", \"modal\", \"setter\", \"xaml\", \"yyyy\", \"gridview\", \"gradient\", \"soap\", \"datagrid\", \"gallery\", \"emp\", \"chart\", \"sprite\", \"pivot\", \"calendar\", \"solr\", \"fmt\", \"catalina\", \"getter\", \"usercontrol\", \"combobox\", \"itemtemplate\", \"solid\", \"employee\", \"servlet\", \"listbox\", \"asp\", \"runat\", \"mm\", \"jsp\", \"textbox\", \"tooltip\", \"date\", \"bind\", \"day\", \"property\", \"datetime\", \"grid\", \"month\", \"hibernate\", \"report\", \"hour\", \"org\", \"control\", \"format\", \"value\", \"time\", \"name\", \"set\", \"new\", \"server\", \"func\", \"nil\", \"self\", \"xsl\", \"dist\", \"alloc\", \"tableview\", \"indexpath\", \"gemicrosoft\", \"nsstre\", \"uitableview\", \"nslog\", \"uiimage\", \"nsstring\", \"viewcontroller\", \"xlsx\", \"pub\", \"viewdidload\", \"patient\", \"discord\", \"urllib\", \"collectionview\", \"formatter\", \"sass\", \"pkg\", \"lxml\", \"lemmer\", \"nsmutablearray\", \"addsubview\", \"forkey\", \"rb\", \"ruby\", \"swift\", \"odoo\", \"country\", \"rail\", \"guard\", \"def\", \"init\", \"delegate\", \"py\", \"lib\", \"view\", \"cell\", \"let\", \"frame\", \"channel\", \"super\", \"controller\", \"return\", \"import\"], \"Freq\": [23628.0, 6874.0, 13219.0, 18640.0, 11698.0, 11738.0, 7591.0, 10062.0, 22850.0, 21283.0, 7675.0, 16948.0, 6342.0, 9839.0, 8463.0, 7448.0, 22938.0, 7409.0, 6210.0, 6218.0, 10679.0, 12083.0, 7199.0, 8362.0, 17268.0, 8575.0, 4415.0, 19091.0, 8287.0, 5118.0, 486.7436870948894, 378.06807699822576, 309.48258451832936, 266.1432237035978, 259.3240066719345, 257.2306636449691, 199.52464926961804, 191.257663945458, 188.0329649789975, 174.2087764848953, 166.47911866558178, 133.8806156659952, 126.45039576419617, 238.61749959966735, 111.98738305270437, 111.18041890169631, 109.99116725061522, 107.27368728804672, 103.70352570292441, 101.8532183591174, 98.9587400094183, 99.03786016597991, 95.93125684470328, 93.4762704400597, 95.7279391217043, 90.39709589487939, 87.16703747870251, 95.7330425467527, 86.51189595580695, 84.0299245511582, 265.71810327657164, 183.17269509192096, 166.34226494639054, 208.2469488633148, 1041.3801321913645, 833.2214264969471, 1102.0301912921357, 553.83699953655, 820.5427435723237, 839.3912113558108, 483.106259295333, 486.0041854438943, 3285.3197363392323, 324.3589831928983, 756.1333547934149, 1096.9750354277924, 526.1122589240426, 4345.3091068643225, 1565.0450683824918, 5305.584310994652, 531.8388480143208, 900.2136603996889, 6625.182148666114, 1559.7836590456232, 1039.5253529500235, 1942.2169224962959, 2519.013736344633, 2355.0011934669983, 4309.530649476083, 15899.05159225951, 2388.982425959259, 2239.0890631981742, 5165.3030018217405, 2814.422508317579, 2928.0731556258193, 4383.817947858397, 6528.06427722441, 3000.3067948047046, 3067.9079577777716, 3601.4589963616795, 6282.995007196565, 5230.77704357998, 2783.3439811010153, 2638.911931737558, 3973.723506186121, 2505.4735133439435, 2931.82299532293, 3523.954662684633, 3983.203109679393, 4251.887821988789, 3428.030207561943, 4643.567604075005, 3333.9627846976714, 2989.2661918424437, 2862.524286391285, 2702.2520249564905, 3219.9669478637484, 3090.3832368712497, 706.4871382796326, 351.08692551240716, 343.27033099449204, 301.23524540216425, 296.16479157019114, 281.58073317115276, 270.25858289823356, 264.8388807534968, 248.67533522534666, 236.344030410127, 226.08246239557403, 224.4496650920555, 211.05023511247833, 198.2169021884452, 183.09201612256513, 180.32529912114592, 177.22431503792686, 176.62971965472053, 174.7148150526005, 173.83807315291054, 164.58782973680113, 164.40653854046164, 163.4582501511866, 161.46064810833658, 155.52444645628998, 159.50276070743055, 769.791545471232, 150.29689886123552, 147.1269958865323, 146.6217257661316, 6124.4648465950195, 9847.14962151032, 1342.4065607304742, 3617.6030220525604, 7177.133459257725, 645.2826133674105, 267.00258359968467, 7659.7782082770555, 2643.2681025233924, 539.7726535226045, 434.6887306037218, 2043.0573460858968, 1052.7086671929612, 2361.873209822903, 4456.149946584793, 459.4914526542914, 6871.210971022254, 1063.0194144316724, 2885.4890371478245, 4113.239661893271, 1557.0621349626565, 1458.2480271462518, 3064.5332057142787, 1166.7616936037768, 1930.82476147184, 1925.4319366489717, 11466.603432821741, 3390.726423689635, 6533.430594471974, 1932.2127607552652, 2685.0718549018156, 10679.48903508211, 8732.786155828073, 3836.9294983338405, 4358.394721585197, 3892.116483706532, 3487.8437044736725, 2761.942668742364, 3288.1376731564833, 4744.508261850652, 4943.981914143747, 3961.22069275622, 2488.9420761084366, 3307.78426337531, 3282.1629595442105, 3676.058791753367, 2944.2089785024837, 2698.705245693398, 13218.485649719303, 7674.146906313629, 3012.2434799225784, 2374.5863479838276, 2282.0977125029503, 1114.6750458015952, 824.6771111180273, 819.4868543415246, 737.3425158507355, 2566.130679979014, 2159.0011166045924, 4013.96079058383, 465.4414175647321, 455.31374056496367, 426.3201347460288, 391.40966755821245, 361.7274766988789, 353.49748488330584, 348.229960879858, 344.50569099321154, 342.81171744285604, 330.7363941706544, 5104.490938501803, 309.958565296999, 305.03802523220685, 301.91974258265384, 301.57801082952943, 301.297946528414, 524.3536932432893, 282.04398310656387, 1544.3627721631167, 729.6692557014776, 1761.8328326306198, 1403.186010983458, 1425.780965399553, 460.1554194559579, 1601.1064439530594, 3783.127602308188, 1785.6151468006506, 2804.790408604543, 467.51861774693674, 6886.482129546426, 976.6453105753919, 1636.2623266956505, 6426.693370127159, 825.9352316601158, 3926.6233732467003, 1026.4722982353428, 5678.481965859839, 4122.747611025158, 2496.494957001619, 1670.4233775599, 3202.562197439363, 8022.434641234331, 6069.882148127764, 3425.5552576214545, 4226.12274672883, 2465.8924316816033, 9509.253214463544, 2433.505313013111, 4342.366520892412, 4043.0832970556294, 3065.6002498228613, 4431.117063570494, 5764.662543605721, 3483.323236241377, 4193.540173593801, 2762.7649807503603, 2781.058891691591, 3419.880806825576, 2819.5021722317865, 1049.204471280028, 954.8219475955851, 765.3882105581121, 651.9639261538427, 528.8375552416923, 513.4812333158867, 432.8836561061688, 415.29061401804194, 345.16738091224994, 340.5630597001644, 635.6477272199396, 319.321775749709, 327.5571110362871, 299.4194052897973, 243.82251713700182, 208.0083732063929, 204.11366080276179, 200.53451871719136, 197.95477695152027, 196.9108861839103, 195.75081473614242, 457.752231922942, 194.917102980131, 191.40468399109895, 191.50105900275932, 190.19525555993243, 183.9772816539164, 190.17439358911503, 165.0695204283818, 183.3707503468424, 11450.633434468516, 6072.651454456492, 1554.2405172484562, 357.70762600334143, 321.1942728121177, 314.09370801774105, 239.41622745983634, 11207.819107595718, 3979.907712738442, 1052.581419496537, 1393.771495223764, 1115.3188358814773, 1158.1469655413166, 345.4369643543135, 2597.743772807381, 2056.7234302096517, 473.73509202476083, 2747.845740863779, 986.2280287701345, 12381.935553409468, 11325.987346318738, 3790.4569742636304, 920.617168274489, 1482.4847940573627, 1781.3522562349735, 1055.5774952765676, 1229.6889132629128, 10308.438645961633, 5725.750505386951, 4156.842978926569, 10550.937490541563, 4851.3824778855815, 6987.325161677854, 4192.784218661308, 2813.473904597426, 4966.619628571298, 3505.7716282330152, 5292.953868471895, 2527.9133366446345, 2404.102029128215, 1869.1380210315065, 4881.707006084806, 3140.7503661673463, 4105.924780699189, 2640.0862046005223, 2853.599912322821, 2573.1164363204216, 2649.6311535632954, 2562.1174117641835, 2580.901485018073, 1023.6541361271182, 870.9550728435786, 854.6603549815968, 847.2876978059306, 1008.9271498359383, 620.8600154824144, 609.1985922310866, 577.1387204579095, 568.4225092344225, 511.7400097778352, 474.547160030647, 379.5032507576334, 372.6126313129435, 360.10353527956727, 352.7238832192419, 351.6969269126175, 333.5659908965376, 315.53568860435297, 313.5134601376443, 280.07111156124296, 279.4418887833779, 278.93189588618515, 269.3289672631442, 256.33549374643184, 833.5985866657212, 251.60997389692582, 245.42478978874001, 247.0063892667582, 230.20284838376358, 224.30516134679814, 2797.27611542392, 2064.9254376479594, 1392.1736144106544, 1360.465680388276, 1116.5269014446849, 718.1822586158619, 587.1473036463447, 924.1330619686319, 943.373138092977, 386.6971849743933, 909.6257199302357, 1731.2461393689102, 1705.8968723432347, 5011.534687606367, 1513.8985485056833, 1907.9015371065432, 2170.1351322210876, 1476.8507146599668, 5730.912608422969, 3312.253660040059, 1731.032052027981, 6230.175206313968, 3176.8194344407166, 1211.5274765541997, 5406.438090907054, 3040.996225011544, 3057.226697173311, 9553.49043559409, 5392.20771705426, 4318.089802029232, 1920.850506583577, 5898.620988115781, 3808.1513040788227, 2637.4706392853327, 1493.8843068192625, 2680.5203278928702, 3734.126218916913, 2556.378917058493, 2234.536036009354, 6248.180770599431, 3902.694457601981, 2215.1946681057625, 3191.455755327951, 4984.04688692376, 3508.0394580101674, 4315.374129456863, 2245.3956066290143, 2535.503061565546, 1315.5177468775114, 1209.780827384715, 1166.3363789538184, 691.5621359989982, 619.7063016045059, 559.1985828261353, 451.63319796460047, 439.5577893353256, 426.1274406444371, 396.58464744131976, 394.66262944703914, 396.545636824368, 374.00885900521666, 372.0775354223423, 619.7556444052343, 298.90123469479903, 279.084073095126, 274.37090837829766, 369.4783288830309, 257.67365232951573, 255.13484932612957, 239.10795993180795, 233.76842313150436, 224.82086788679496, 221.3071968512988, 218.01073348692873, 206.58941501106852, 205.6678968124978, 204.52115687717932, 202.18225844869065, 417.4250926265692, 714.6365516502477, 223.4176447356095, 345.2866133970317, 1236.8424062626118, 748.4390856590701, 298.9083546291323, 760.4020986737997, 344.28157671293275, 3679.590806065889, 508.6550631253352, 402.05669781015683, 2126.19466224197, 874.8046074537201, 1054.3960428142736, 419.9480661945539, 784.9673954584683, 2689.693950333207, 929.575778581765, 1799.5135300849784, 2305.1528539545175, 3301.8488164678424, 3130.455107918781, 1026.297470337712, 2593.4345575693196, 1973.9352308000841, 1405.5449783295282, 1776.559126722212, 1045.522418980723, 2109.6096527858517, 1830.9593989454524, 2689.8174066829492, 2072.5349956532873, 1849.987572473075, 1205.9261280526407, 3073.0624763171363, 2260.522058883825, 1556.2181546339023, 1717.5538796680357, 1316.5353345156213, 1583.5051870603625, 1064.1804221549612, 1059.2199142309914, 1047.1363935190884, 468.054903729675, 376.0087898617656, 2218.7416536711244, 312.3120657357373, 285.5714156194876, 280.36629292703384, 245.87126775048313, 218.1575779043386, 180.08145827363288, 178.61653683234405, 162.74175751737596, 159.97413176697634, 159.50218095954543, 153.91812350292344, 152.29819595526928, 154.76642486570128, 144.7595791200907, 144.32450357985243, 139.0929353013172, 137.35725995735555, 135.23050252033505, 132.27933604640552, 132.7718986271896, 130.72768112940764, 127.45908251382646, 127.4236308826312, 121.93371135633498, 118.50759979708879, 116.85188018354437, 124.66662050499453, 166.22652442714403, 1821.8970534782677, 2189.181523410701, 1122.5801881801588, 211.16118069250436, 541.920597887666, 347.5597765486776, 267.3441397160907, 195.9881920270201, 385.1203697309896, 6403.1571978219035, 790.8335722666502, 414.4902898427211, 212.74152496971, 2387.977063727308, 646.3078408334311, 2031.1228938781799, 924.9742504823936, 1195.7445559177957, 1277.1925044491452, 628.5832631801474, 447.2916369372324, 819.5923192549911, 4970.651081632026, 1089.185030131703, 721.1198505977577, 1164.5344934336435, 646.38923567415, 5950.543947629303, 877.8248498856539, 976.9782498301488, 1337.7711872034658, 2084.998603179167, 1422.182650703592, 2592.2272344192115, 2637.471871948694, 1655.9252361002175, 2283.8290535263177, 1540.80123994841, 1388.906459106742, 1832.2946718308506, 1205.4411263875022, 1260.6505969263683, 1455.082507219399, 1606.9641658510045, 1670.2361203234711, 1669.6126915510597, 1377.1755746940178, 1417.958041830019, 1420.885037440602, 1250.5629598379073, 1417.5429153383293, 451.08004507438847, 1459.5057695205692, 264.6229726804251, 258.70599801962334, 254.04263699239144, 221.27442560259612, 207.79019491585072, 206.3501354099676, 212.54812245897176, 181.50457300830712, 175.79430540218414, 172.0992246679, 194.50793113448796, 165.8525677866674, 164.1575290934779, 220.36044742811524, 153.06418241767935, 148.55853615376193, 148.5819251897445, 143.83441307670947, 138.87615242116044, 149.62537070724477, 130.86166707115288, 129.36102824229283, 1257.8655367397657, 122.20927156145139, 121.54831632218642, 121.29831375420905, 121.20920754635264, 829.4986103047881, 258.8557910368353, 573.9551625053309, 505.1397602602786, 257.70949180365614, 1035.3569525381258, 20294.96920372368, 2162.2563561953807, 1568.4003056656838, 643.0971513631106, 360.0606226735093, 278.33313973498014, 887.6608655889457, 1833.4402180086845, 339.1867464528129, 2962.297077603834, 999.5375038218389, 3164.7567005459537, 565.3708703651081, 555.5694454682111, 343.2355648590577, 2037.9112980453056, 1321.9606101769302, 3110.7039504773966, 871.4581969011188, 1146.9684863668488, 1253.2893686628513, 1732.421423796085, 803.8151270901416, 2310.319272657435, 958.5135646539142, 1722.0783105456137, 2077.825375862395, 842.3180377399149, 1290.8452813226388, 1302.5364457389148, 974.985723190158, 1814.945337805462, 1167.952493131055, 1391.6146211477917, 1163.283714790342, 1218.0170686081715, 1013.4266356967569, 1070.1612998949483, 1072.0576175806975, 1006.6903353664662, 961.054159583878, 930.8278785770684, 774.4752918005449, 945.3519155209997, 671.5202490196623, 627.1925051099975, 480.2646173930841, 430.3919721508233, 941.0034691493149, 597.0654138163318, 311.71473720685736, 304.8134129549239, 396.7917561645735, 246.66079744776644, 244.84269454781557, 255.87511948420692, 225.26031749573477, 210.72260664398, 233.61837990321035, 942.6323644385584, 201.51043986446442, 192.3974747717423, 490.0175381350579, 174.4859726243423, 168.341885919324, 163.23871646713644, 163.2485588070935, 154.32884841863773, 254.2851146088083, 149.41409631628505, 464.2247643065693, 700.430817515716, 456.01136753335305, 322.547776930396, 808.5533521943448, 386.4335434888902, 261.415542671859, 243.11894400657712, 688.261039552754, 324.2779453478108, 3840.5095964246784, 1201.6657974205186, 1324.8968747211125, 2143.344580406303, 852.0545790206085, 1041.0032715293685, 835.6180149761165, 386.25159190983004, 649.030861427272, 561.3902601465801, 993.3646219316673, 926.0519250206795, 919.7475590423459, 1140.30860223362, 808.7899515101009, 853.7825203392009, 763.8755466654775, 615.4303101788339, 562.0145662358271, 1284.9103141747366, 917.6625616720746, 6866.294551635288, 562.5355566469491, 438.5976362530175, 443.5134590442165, 458.2979766956924, 376.5032453612648, 331.20052834869017, 281.06109107291024, 246.52690574251372, 220.55880839383767, 220.2975082542354, 204.6372291837018, 196.18235531339604, 195.55697477002195, 187.22072155281782, 182.17159758069934, 175.40907706223626, 229.8336212247154, 163.16823425103848, 140.89371462078, 150.33200159099292, 129.61810822888415, 125.7922814892722, 124.36751638121562, 121.75416702685843, 117.54460023758766, 116.61852570033706, 113.74588110916082, 469.87355631062945, 809.2632012094554, 330.0702934011599, 144.14258501853897, 805.0423009201537, 467.7258911936548, 169.98152354741794, 1476.895695476674, 1006.9401204158207, 282.24129946502137, 766.1031122027306, 906.434907252532, 1668.7737067783185, 1047.8682389720075, 993.4222373789141, 621.2051096404624, 395.88889891419166, 313.10387816039366, 362.3471736003936, 413.27452110054685, 335.84235880580775], \"Total\": [23628.0, 6874.0, 13219.0, 18640.0, 11698.0, 11738.0, 7591.0, 10062.0, 22850.0, 21283.0, 7675.0, 16948.0, 6342.0, 9839.0, 8463.0, 7448.0, 22938.0, 7409.0, 6210.0, 6218.0, 10679.0, 12083.0, 7199.0, 8362.0, 17268.0, 8575.0, 4415.0, 19091.0, 8287.0, 5118.0, 487.61954729737215, 378.9437562482798, 310.35838153369076, 267.01967867561933, 260.199689395719, 258.1063986003041, 200.4069633185911, 192.13314042157012, 188.90860013425092, 175.08603521503258, 167.56618860875923, 134.7562540409289, 127.3337932977619, 240.4060279515931, 112.86289864408204, 112.05598885639799, 110.886543083766, 108.1494825988299, 104.57910932525652, 102.7289665171983, 99.83433589838144, 99.9147483510077, 96.80670491864448, 94.35186677776571, 96.63971421221659, 91.27270464072451, 88.04262113046788, 96.70116994871402, 87.38767566006322, 84.90573100811513, 268.66744934846474, 185.61748400229553, 169.21576251303358, 213.0652732136864, 1122.2225385647018, 905.8968638907091, 1214.0824205109352, 598.9138566172734, 903.7829536908798, 926.5910122727453, 528.4110495041375, 531.8214897947508, 4079.353771224197, 348.3260003234714, 859.2374034092222, 1296.38580191169, 598.0909804212768, 5994.75555607734, 1964.618426529829, 7518.361332895793, 607.3584936149784, 1112.895335834851, 11015.99926082045, 2122.0750611001354, 1352.4473944144463, 2801.0863497870123, 3792.4995961938143, 3557.9748570108286, 7653.32929229622, 39049.37917173191, 3935.0531025750156, 3654.975939757813, 10645.407508253875, 5237.122890718533, 5539.408256166043, 9389.665480610005, 17003.3359897237, 6051.741772148262, 6382.832875684986, 8022.317210557671, 17794.729267297964, 14528.724065531613, 5967.083223566273, 5523.423641667394, 10679.29050294444, 5149.686060662541, 6862.131523758376, 10121.33832582495, 12794.119768455057, 16360.209436007777, 10822.839698180711, 21533.974207821848, 10327.946160940117, 9273.04207094565, 8067.593994199157, 7208.76806151964, 24701.48179628275, 19051.492707659694, 707.3934238596877, 352.0349254178937, 344.2332081568644, 302.13064162810747, 297.06996300164974, 282.4747641286273, 271.1528213443593, 265.83757432659627, 249.62017185808622, 237.25024734358396, 226.97638414833398, 225.3442205436641, 211.944048586485, 199.11219380551805, 183.9857950728074, 181.21923898540805, 178.11810181297847, 177.52423721626766, 175.60893390720787, 174.73181991437306, 165.48177038719206, 165.30046494499064, 164.35200443385096, 162.35457278727642, 156.42098999437334, 160.4282877002731, 774.2694959487741, 151.19068266236613, 148.0210742535798, 147.51567876368955, 6210.801228797775, 10062.910177034682, 1358.544804172278, 3715.5445358586517, 7448.102323836402, 653.7151702402037, 268.8870739942694, 8463.209792802687, 2868.918190092142, 558.4450441458713, 448.92621359654106, 2232.7177809775044, 1124.6246170313188, 2681.2263731222647, 5259.597031674304, 481.26013044289135, 8362.303171020912, 1208.2547497012076, 3588.8487449619197, 5327.343462659582, 1884.1069739975396, 1759.6382382840188, 4029.97826798833, 1395.1066835714569, 2541.915158121397, 2556.622504081751, 21283.17188528698, 5104.573968508497, 11231.588204986829, 2636.214609200189, 3910.3138211366786, 22938.6500997318, 18971.011318099663, 6797.451332202713, 9331.646488375494, 8462.523739362665, 7591.4005280713345, 5334.470077742814, 7222.157876789302, 16360.209436007777, 24701.48179628275, 17003.3359897237, 5372.407048908084, 12794.119768455057, 14528.724065531613, 39049.37917173191, 14874.083240160637, 11599.003342889195, 13219.397798496691, 7675.041680484141, 3013.194957572461, 2375.4926698440077, 2282.993254587138, 1115.5727672094665, 825.5758221031681, 820.3820321226139, 738.2372470538807, 2569.7437885749123, 2162.5466990011655, 4021.589191260408, 466.35076103639045, 456.20875026478683, 427.225561395525, 392.30797015351095, 362.6222051457199, 354.3922614730358, 349.1288337288655, 345.4007862884366, 343.7063932327358, 331.63118515012536, 5118.591750603493, 310.85414675371584, 305.9327887663612, 302.81439241466035, 302.473598742561, 302.1946770417173, 525.9438585882297, 282.94266451813786, 1555.0756600548134, 734.21472478769, 1789.7037099966797, 1422.3316247414814, 1446.0734415305635, 463.14910122739303, 1643.7415366787397, 3961.3511949776466, 1845.3673646373184, 2925.896841792567, 471.30640345358955, 7409.241984592604, 1001.1067350116931, 1718.1994061784817, 7199.86210188599, 852.3100039959837, 4420.96861112688, 1087.362874637026, 6902.047815032039, 4996.015590125439, 2965.411130246237, 1886.1532582745504, 4092.211245255682, 12083.788856456522, 8683.354765755252, 4447.597875458099, 6067.948706476675, 3216.1237575644345, 22850.93047145754, 3275.564975349653, 8067.593994199157, 8000.333894432552, 5091.084992792948, 9865.773972681776, 17788.21195160942, 6934.752277877439, 14874.083240160637, 5324.30300240479, 5798.830202547085, 22938.6500997318, 21533.974207821848, 1050.0963235291886, 955.9273823486781, 766.3381904171023, 653.0078639096694, 529.7306970843114, 514.4279375672679, 433.7761169722867, 416.18227587721435, 346.05897733802817, 341.4885464012164, 637.3785015640684, 320.2155502736998, 328.5115810512915, 300.3110030804638, 244.71412038443185, 208.90142351210957, 205.0055084372399, 201.42658323954194, 198.84636526528547, 197.8025100577576, 196.6423289313365, 459.8527863423572, 195.82095177196913, 192.29645338250322, 192.39513012758843, 191.08710789319264, 184.86914233432836, 191.10114899652785, 165.9615144453405, 184.37740165732978, 11698.18978708527, 6218.242560952706, 1570.2378172283848, 359.74364996521666, 323.56305027917983, 316.5402812472673, 240.90351901060828, 11738.396841313082, 4162.650302855326, 1087.2387150606335, 1450.7552195803203, 1160.947983369277, 1211.609047087755, 351.7277051705955, 2821.4456331698952, 2230.923384373191, 489.9583495204057, 3240.442694588394, 1084.605951685999, 18640.854017768288, 16948.782156883863, 5024.209586955964, 1041.2294196107573, 1796.0674501890041, 2258.001766323445, 1246.2026098661956, 1494.4064160379548, 19091.04519171989, 10006.99286571163, 6869.829128909491, 22850.93047145754, 8645.668023328422, 17788.21195160942, 9331.646488375494, 5824.165334842232, 14874.083240160637, 9273.04207094565, 21283.17188528698, 5712.963251165503, 5415.952151568389, 3408.117061545164, 24701.48179628275, 9865.773972681776, 21533.974207821848, 8654.39792821843, 11231.588204986829, 11728.23378652869, 17268.210975552618, 19051.492707659694, 39049.37917173191, 1024.5662426576046, 871.8496632980116, 855.5550374761455, 848.246653861364, 1010.1010067240624, 621.7546803056589, 610.0957574855219, 578.0336101510012, 569.3176959421787, 512.6346163535696, 475.4833154276996, 380.4037867958986, 373.50795398042027, 360.99944297908087, 353.6197952218285, 352.59404557023026, 334.4757025278388, 316.43068840313714, 314.40807073285725, 280.96702848252977, 280.3364828200335, 279.8265531571444, 270.2247417862841, 257.23006666627083, 836.5611860791485, 252.50455738706754, 246.31991959408725, 247.92779463696237, 231.09741589642263, 225.20007022118844, 2820.2987751234873, 2086.4051716814947, 1401.422526731507, 1369.381555789944, 1129.5988980011718, 726.3720422435869, 593.5126515410111, 943.0232105313626, 965.198987274595, 389.5500289485419, 934.2439500552651, 1835.8203782274966, 1816.540497542685, 5846.956972861681, 1646.247738419051, 2114.6343727268786, 2442.55604016986, 1625.603608559158, 7173.053008811832, 3978.4152560333323, 2009.9600362692825, 8575.737664723823, 4030.6953266822334, 1354.6808127034449, 8084.372800384387, 4137.739375669672, 4183.57606820861, 17268.210975552618, 8719.568213586663, 6596.941636780834, 2411.8648163865914, 10679.29050294444, 6046.846090973529, 3765.1141992980374, 1784.3758106892606, 3933.244654962293, 6376.5460842258435, 3818.259941175434, 3159.658682268475, 16360.209436007777, 10822.839698180711, 3584.3375331402876, 8620.697545346802, 24701.48179628275, 19051.492707659694, 39049.37917173191, 5122.836202281181, 22938.6500997318, 1316.416385298246, 1210.68000179243, 1167.2353350675803, 692.4606696340912, 620.6047832144471, 560.1367092811838, 452.53178716675455, 440.4566729963206, 427.0259713336651, 397.48332046309986, 395.5615471752237, 397.450070489947, 374.9074109405556, 372.9760239458485, 621.2740619706216, 299.7999811842397, 279.9825863735393, 275.2694021085938, 370.71136127259786, 258.57479371042376, 256.0334028772455, 240.00648830874422, 234.66692347725254, 225.71936247488537, 222.2132763710801, 218.91161608207594, 207.48851086054472, 206.56652206009733, 205.42023115758806, 203.08139952016444, 419.58697070524676, 722.6261817655192, 224.499380230705, 348.98517102915423, 1284.3688900383243, 798.8831529864324, 305.20843760461366, 826.1332283391544, 355.7784381658173, 4650.670322217702, 558.8899063364947, 433.35943068471323, 3038.37199247609, 1081.19892315666, 1359.76610748535, 459.9886751425123, 1059.0366451256468, 5754.236393704228, 1367.273790585329, 3475.3410501221483, 5048.916153799975, 10067.170307563547, 10121.33832582495, 1851.9303443899007, 8620.697545346802, 5963.399284780448, 3638.2548067353646, 5529.456725329048, 2185.3868069220152, 8287.534176371684, 6471.867886427246, 18971.011318099663, 10822.839698180711, 8683.354765755252, 3131.2205347426384, 39049.37917173191, 21533.974207821848, 8000.333894432552, 19051.492707659694, 7222.157876789302, 24701.48179628275, 17268.210975552618, 17788.21195160942, 1048.0298910861463, 468.94268602413683, 376.8967082465881, 2224.321575679182, 313.2132523567497, 286.4604257097096, 281.2543213092185, 246.75919161915192, 219.04540095766023, 180.96921536201933, 179.52679104452054, 163.64393892302047, 160.861863550159, 160.3911826850992, 154.80685803314822, 153.18641624502786, 155.69457483253285, 145.64755211385545, 145.21240925692456, 139.9850745803146, 138.2449354075144, 136.12005976063523, 133.16738737269662, 133.67266293396705, 131.61585875384694, 128.34742473583427, 128.31721200555293, 122.82144871163646, 119.40289346285472, 117.73966603966926, 125.65169489328257, 168.05196097015192, 1939.0356937200004, 2355.071764816648, 1193.5560028770344, 215.3618373640207, 570.4414648719529, 364.5495397083191, 286.8644032737773, 204.45121329024786, 431.2839240697246, 9839.999925607885, 968.6666428432553, 472.7521925796261, 224.10192856624118, 3395.8363505391812, 828.1910230179407, 3307.1877672922965, 1324.0152358802882, 1879.682934502851, 2120.7483915854723, 912.1079777135043, 599.7486005469335, 1344.3637158329234, 18640.854017768288, 2225.8801469512073, 1267.5627888917659, 2611.4817706571603, 1089.383649671091, 39049.37917173191, 1905.469857295077, 2430.496047711181, 4523.2927147868, 10327.946160940117, 5122.836202281181, 17003.3359897237, 21533.974207821848, 8287.534176371684, 19051.492707659694, 7541.502537250948, 5967.083223566273, 17794.729267297964, 6222.569891950724, 7243.48742430513, 12083.788856456522, 17268.210975552618, 22938.6500997318, 24701.48179628275, 11015.99926082045, 14528.724065531613, 22850.93047145754, 14874.083240160637, 1418.4384193476671, 451.97546652075823, 1462.9213619134684, 265.5184877337587, 259.6014679109298, 254.94476497490163, 222.17954979609505, 208.68577928017314, 207.25718525241373, 213.5413083357351, 182.4248650699851, 176.6899838097577, 172.99449228851768, 195.54297083866442, 166.74807146855213, 165.05290282576533, 221.6391736799064, 153.95965670965336, 149.45383351344387, 149.47743270821206, 144.75688298085805, 139.77160281913896, 150.60884315151714, 131.75705016037983, 130.25669960363211, 1266.9890642814664, 123.10455897749972, 122.44371071841874, 122.19358581427231, 122.10451674186139, 838.7371979418945, 261.044193325195, 587.5086464949011, 516.6953330164224, 261.71050352839666, 1085.6554545706897, 23628.219882957903, 2386.144199370314, 1714.4843206569305, 691.4549813213982, 376.7476561031051, 290.4499119179194, 997.7895045938136, 2260.034993436732, 362.40958121141796, 4185.625820564365, 1284.7725842542482, 5008.483195198086, 683.0737572883296, 688.0141457917017, 394.13344684892166, 3949.352815437116, 2331.0582389756228, 8287.534176371684, 1426.407833283442, 2183.910380008802, 2631.00809938519, 4250.296267683988, 1384.9134967196942, 6934.752277877439, 1997.332832496571, 5716.540125441659, 10067.170307563547, 1791.54269056537, 5368.799424026129, 5529.456725329048, 2763.201990487976, 22938.6500997318, 6222.569891950724, 19051.492707659694, 12083.788856456522, 21533.974207821848, 5963.399284780448, 24701.48179628275, 39049.37917173191, 6662.749989605496, 961.951906709572, 931.757529684319, 775.3729193851362, 946.4898339667155, 672.4130724667638, 628.085541070352, 481.1571570371558, 431.2881215887598, 943.2045250186841, 598.5754257444729, 312.60797051604544, 305.75937473637543, 398.20014827906, 247.55401905758816, 245.73565834022497, 256.85321829530983, 226.18366863154202, 211.61573625867788, 234.62929661703876, 946.7518949455939, 202.40316299076383, 193.32677334652064, 492.52173165724014, 175.3787607637232, 169.23484765700402, 164.1313336207765, 164.17517267616822, 155.2258867597978, 255.77787077077747, 150.30677436054074, 468.05161571471626, 711.8897369763112, 462.35732874229546, 326.00413139543895, 827.0163889483063, 394.08805500535607, 265.9637287933763, 246.75743678786108, 777.1024739691552, 345.86912837907545, 7591.4005280713345, 1966.336750706136, 2298.0071708647715, 4415.419643647938, 1319.0710128412916, 1778.697707361478, 1332.6132567703391, 484.33470206221375, 1360.9190518948717, 1031.7362973629345, 3584.3375331402876, 3221.594947002954, 3461.282721436644, 21283.17188528698, 10121.33832582495, 22938.6500997318, 11599.003342889195, 19091.04519171989, 8084.372800384387, 1285.8076160378146, 918.5898685427168, 6874.751579161572, 563.4461756465404, 439.49439595818916, 444.4231228123101, 459.35223301131, 377.45875255748024, 332.0973732352174, 281.95745150802884, 247.46637669348752, 221.45516416019566, 221.19525317968285, 205.5335760376532, 197.07875397094787, 196.45373247391166, 188.11746573210294, 183.0679637178041, 176.3055951236543, 231.08398417605315, 164.07421167978558, 141.79022242996746, 151.31784252485977, 130.51466398491107, 126.68883129331739, 125.26392525033867, 122.65050470304307, 118.44118435481222, 117.51486828721313, 114.64222348781746, 485.41362088058276, 865.8085730223651, 350.25167587563624, 146.76920546739828, 1015.4525557242972, 594.1912532083089, 180.96985371404875, 2890.495208840068, 1861.7136351136373, 374.46998864125277, 1653.3839466721236, 2322.6428125938783, 6342.594898493545, 3033.9098302127554, 4371.065270463303, 2185.3868069220152, 875.1031986303954, 1124.0874680671366, 2262.662983059351, 16948.782156883863, 8620.697545346802], \"Category\": [\"Default\", \"Default\", \"Default\", \"Default\", \"Default\", \"Default\", \"Default\", \"Default\", \"Default\", \"Default\", \"Default\", \"Default\", \"Default\", \"Default\", \"Default\", \"Default\", \"Default\", \"Default\", \"Default\", \"Default\", \"Default\", \"Default\", \"Default\", \"Default\", \"Default\", \"Default\", \"Default\", \"Default\", \"Default\", \"Default\", \"Topic1\", \"Topic1\", \"Topic1\", \"Topic1\", \"Topic1\", \"Topic1\", \"Topic1\", \"Topic1\", \"Topic1\", \"Topic1\", \"Topic1\", \"Topic1\", \"Topic1\", \"Topic1\", \"Topic1\", \"Topic1\", \"Topic1\", \"Topic1\", \"Topic1\", \"Topic1\", \"Topic1\", \"Topic1\", \"Topic1\", \"Topic1\", \"Topic1\", \"Topic1\", \"Topic1\", \"Topic1\", \"Topic1\", \"Topic1\", \"Topic1\", \"Topic1\", \"Topic1\", \"Topic1\", \"Topic1\", \"Topic1\", \"Topic1\", \"Topic1\", \"Topic1\", \"Topic1\", \"Topic1\", \"Topic1\", \"Topic1\", \"Topic1\", \"Topic1\", \"Topic1\", \"Topic1\", \"Topic1\", \"Topic1\", \"Topic1\", \"Topic1\", \"Topic1\", \"Topic1\", \"Topic1\", \"Topic1\", \"Topic1\", \"Topic1\", \"Topic1\", \"Topic1\", \"Topic1\", \"Topic1\", \"Topic1\", \"Topic1\", \"Topic1\", \"Topic1\", \"Topic1\", \"Topic1\", \"Topic1\", \"Topic1\", \"Topic1\", \"Topic1\", \"Topic1\", \"Topic1\", \"Topic1\", \"Topic1\", \"Topic1\", \"Topic1\", \"Topic1\", \"Topic1\", \"Topic1\", \"Topic1\", \"Topic1\", \"Topic1\", \"Topic1\", \"Topic1\", \"Topic1\", \"Topic1\", \"Topic1\", \"Topic2\", \"Topic2\", \"Topic2\", \"Topic2\", \"Topic2\", \"Topic2\", \"Topic2\", \"Topic2\", \"Topic2\", \"Topic2\", \"Topic2\", \"Topic2\", \"Topic2\", \"Topic2\", \"Topic2\", \"Topic2\", \"Topic2\", \"Topic2\", \"Topic2\", \"Topic2\", \"Topic2\", \"Topic2\", \"Topic2\", \"Topic2\", \"Topic2\", \"Topic2\", \"Topic2\", \"Topic2\", \"Topic2\", \"Topic2\", \"Topic2\", \"Topic2\", \"Topic2\", \"Topic2\", \"Topic2\", \"Topic2\", \"Topic2\", \"Topic2\", \"Topic2\", \"Topic2\", \"Topic2\", \"Topic2\", \"Topic2\", \"Topic2\", \"Topic2\", \"Topic2\", \"Topic2\", \"Topic2\", \"Topic2\", \"Topic2\", \"Topic2\", \"Topic2\", \"Topic2\", \"Topic2\", \"Topic2\", \"Topic2\", \"Topic2\", \"Topic2\", \"Topic2\", \"Topic2\", \"Topic2\", \"Topic2\", \"Topic2\", \"Topic2\", \"Topic2\", \"Topic2\", \"Topic2\", \"Topic2\", \"Topic2\", \"Topic2\", \"Topic2\", \"Topic2\", \"Topic2\", \"Topic2\", \"Topic2\", \"Topic2\", \"Topic2\", \"Topic2\", \"Topic3\", \"Topic3\", \"Topic3\", \"Topic3\", \"Topic3\", \"Topic3\", \"Topic3\", \"Topic3\", \"Topic3\", \"Topic3\", \"Topic3\", \"Topic3\", \"Topic3\", \"Topic3\", \"Topic3\", \"Topic3\", \"Topic3\", \"Topic3\", \"Topic3\", \"Topic3\", \"Topic3\", \"Topic3\", \"Topic3\", \"Topic3\", \"Topic3\", \"Topic3\", \"Topic3\", \"Topic3\", \"Topic3\", \"Topic3\", \"Topic3\", \"Topic3\", \"Topic3\", \"Topic3\", \"Topic3\", \"Topic3\", \"Topic3\", \"Topic3\", \"Topic3\", \"Topic3\", \"Topic3\", \"Topic3\", \"Topic3\", \"Topic3\", \"Topic3\", \"Topic3\", \"Topic3\", \"Topic3\", \"Topic3\", \"Topic3\", \"Topic3\", \"Topic3\", \"Topic3\", \"Topic3\", \"Topic3\", \"Topic3\", \"Topic3\", \"Topic3\", \"Topic3\", \"Topic3\", \"Topic3\", \"Topic3\", \"Topic3\", \"Topic3\", \"Topic3\", \"Topic3\", \"Topic3\", \"Topic3\", \"Topic3\", \"Topic3\", \"Topic3\", \"Topic4\", \"Topic4\", \"Topic4\", \"Topic4\", \"Topic4\", \"Topic4\", \"Topic4\", \"Topic4\", \"Topic4\", \"Topic4\", \"Topic4\", \"Topic4\", \"Topic4\", \"Topic4\", \"Topic4\", \"Topic4\", \"Topic4\", \"Topic4\", \"Topic4\", \"Topic4\", \"Topic4\", \"Topic4\", \"Topic4\", \"Topic4\", \"Topic4\", \"Topic4\", \"Topic4\", \"Topic4\", \"Topic4\", \"Topic4\", \"Topic4\", \"Topic4\", \"Topic4\", \"Topic4\", \"Topic4\", \"Topic4\", \"Topic4\", \"Topic4\", \"Topic4\", \"Topic4\", \"Topic4\", \"Topic4\", \"Topic4\", \"Topic4\", \"Topic4\", \"Topic4\", \"Topic4\", \"Topic4\", \"Topic4\", \"Topic4\", \"Topic4\", \"Topic4\", \"Topic4\", \"Topic4\", \"Topic4\", \"Topic4\", \"Topic4\", \"Topic4\", \"Topic4\", \"Topic4\", \"Topic4\", \"Topic4\", \"Topic4\", \"Topic4\", \"Topic4\", \"Topic4\", \"Topic4\", \"Topic4\", \"Topic4\", \"Topic4\", \"Topic4\", \"Topic4\", \"Topic4\", \"Topic4\", \"Topic4\", \"Topic4\", \"Topic4\", \"Topic4\", \"Topic4\", \"Topic4\", \"Topic5\", \"Topic5\", \"Topic5\", \"Topic5\", \"Topic5\", \"Topic5\", \"Topic5\", \"Topic5\", \"Topic5\", \"Topic5\", \"Topic5\", \"Topic5\", \"Topic5\", \"Topic5\", \"Topic5\", \"Topic5\", \"Topic5\", \"Topic5\", \"Topic5\", \"Topic5\", \"Topic5\", \"Topic5\", \"Topic5\", \"Topic5\", \"Topic5\", \"Topic5\", \"Topic5\", \"Topic5\", \"Topic5\", \"Topic5\", \"Topic5\", \"Topic5\", \"Topic5\", \"Topic5\", \"Topic5\", \"Topic5\", \"Topic5\", \"Topic5\", \"Topic5\", \"Topic5\", \"Topic5\", \"Topic5\", \"Topic5\", \"Topic5\", \"Topic5\", \"Topic5\", \"Topic5\", \"Topic5\", \"Topic5\", \"Topic5\", \"Topic5\", \"Topic5\", \"Topic5\", \"Topic5\", \"Topic5\", \"Topic5\", \"Topic5\", \"Topic5\", \"Topic5\", \"Topic5\", \"Topic5\", \"Topic5\", \"Topic5\", \"Topic5\", \"Topic5\", \"Topic5\", \"Topic5\", \"Topic5\", \"Topic5\", \"Topic5\", \"Topic5\", \"Topic5\", \"Topic5\", \"Topic5\", \"Topic5\", \"Topic5\", \"Topic5\", \"Topic5\", \"Topic6\", \"Topic6\", \"Topic6\", \"Topic6\", \"Topic6\", \"Topic6\", \"Topic6\", \"Topic6\", \"Topic6\", \"Topic6\", \"Topic6\", \"Topic6\", \"Topic6\", \"Topic6\", \"Topic6\", \"Topic6\", \"Topic6\", \"Topic6\", \"Topic6\", \"Topic6\", \"Topic6\", \"Topic6\", \"Topic6\", \"Topic6\", \"Topic6\", \"Topic6\", \"Topic6\", \"Topic6\", \"Topic6\", \"Topic6\", \"Topic6\", \"Topic6\", \"Topic6\", \"Topic6\", \"Topic6\", \"Topic6\", \"Topic6\", \"Topic6\", \"Topic6\", \"Topic6\", \"Topic6\", \"Topic6\", \"Topic6\", \"Topic6\", \"Topic6\", \"Topic6\", \"Topic6\", \"Topic6\", \"Topic6\", \"Topic6\", \"Topic6\", \"Topic6\", \"Topic6\", \"Topic6\", \"Topic6\", \"Topic6\", \"Topic6\", \"Topic6\", \"Topic6\", \"Topic6\", \"Topic6\", \"Topic6\", \"Topic6\", \"Topic6\", \"Topic6\", \"Topic6\", \"Topic6\", \"Topic6\", \"Topic6\", \"Topic6\", \"Topic6\", \"Topic6\", \"Topic6\", \"Topic7\", \"Topic7\", \"Topic7\", \"Topic7\", \"Topic7\", \"Topic7\", \"Topic7\", \"Topic7\", \"Topic7\", \"Topic7\", \"Topic7\", \"Topic7\", \"Topic7\", \"Topic7\", \"Topic7\", \"Topic7\", \"Topic7\", \"Topic7\", \"Topic7\", \"Topic7\", \"Topic7\", \"Topic7\", \"Topic7\", \"Topic7\", \"Topic7\", \"Topic7\", \"Topic7\", \"Topic7\", \"Topic7\", \"Topic7\", \"Topic7\", \"Topic7\", \"Topic7\", \"Topic7\", \"Topic7\", \"Topic7\", \"Topic7\", \"Topic7\", \"Topic7\", \"Topic7\", \"Topic7\", \"Topic7\", \"Topic7\", \"Topic7\", \"Topic7\", \"Topic7\", \"Topic7\", \"Topic7\", \"Topic7\", \"Topic7\", \"Topic7\", \"Topic7\", \"Topic7\", \"Topic7\", \"Topic7\", \"Topic7\", \"Topic7\", \"Topic7\", \"Topic7\", \"Topic7\", \"Topic7\", \"Topic7\", \"Topic7\", \"Topic7\", \"Topic7\", \"Topic7\", \"Topic7\", \"Topic7\", \"Topic7\", \"Topic7\", \"Topic7\", \"Topic7\", \"Topic7\", \"Topic7\", \"Topic7\", \"Topic7\", \"Topic7\", \"Topic7\", \"Topic7\", \"Topic7\", \"Topic7\", \"Topic7\", \"Topic8\", \"Topic8\", \"Topic8\", \"Topic8\", \"Topic8\", \"Topic8\", \"Topic8\", \"Topic8\", \"Topic8\", \"Topic8\", \"Topic8\", \"Topic8\", \"Topic8\", \"Topic8\", \"Topic8\", \"Topic8\", \"Topic8\", \"Topic8\", \"Topic8\", \"Topic8\", \"Topic8\", \"Topic8\", \"Topic8\", \"Topic8\", \"Topic8\", \"Topic8\", \"Topic8\", \"Topic8\", \"Topic8\", \"Topic8\", \"Topic8\", \"Topic8\", \"Topic8\", \"Topic8\", \"Topic8\", \"Topic8\", \"Topic8\", \"Topic8\", \"Topic8\", \"Topic8\", \"Topic8\", \"Topic8\", \"Topic8\", \"Topic8\", \"Topic8\", \"Topic8\", \"Topic8\", \"Topic8\", \"Topic8\", \"Topic8\", \"Topic8\", \"Topic8\", \"Topic8\", \"Topic8\", \"Topic8\", \"Topic8\", \"Topic8\", \"Topic8\", \"Topic8\", \"Topic8\", \"Topic8\", \"Topic8\", \"Topic8\", \"Topic8\", \"Topic8\", \"Topic8\", \"Topic8\", \"Topic8\", \"Topic8\", \"Topic8\", \"Topic8\", \"Topic8\", \"Topic8\", \"Topic8\", \"Topic8\", \"Topic8\", \"Topic9\", \"Topic9\", \"Topic9\", \"Topic9\", \"Topic9\", \"Topic9\", \"Topic9\", \"Topic9\", \"Topic9\", \"Topic9\", \"Topic9\", \"Topic9\", \"Topic9\", \"Topic9\", \"Topic9\", \"Topic9\", \"Topic9\", \"Topic9\", \"Topic9\", \"Topic9\", \"Topic9\", \"Topic9\", \"Topic9\", \"Topic9\", \"Topic9\", \"Topic9\", \"Topic9\", \"Topic9\", \"Topic9\", \"Topic9\", \"Topic9\", \"Topic9\", \"Topic9\", \"Topic9\", \"Topic9\", \"Topic9\", \"Topic9\", \"Topic9\", \"Topic9\", \"Topic9\", \"Topic9\", \"Topic9\", \"Topic9\", \"Topic9\", \"Topic9\", \"Topic9\", \"Topic9\", \"Topic9\", \"Topic9\", \"Topic9\", \"Topic9\", \"Topic9\", \"Topic9\", \"Topic9\", \"Topic9\", \"Topic9\", \"Topic9\", \"Topic9\", \"Topic9\", \"Topic10\", \"Topic10\", \"Topic10\", \"Topic10\", \"Topic10\", \"Topic10\", \"Topic10\", \"Topic10\", \"Topic10\", \"Topic10\", \"Topic10\", \"Topic10\", \"Topic10\", \"Topic10\", \"Topic10\", \"Topic10\", \"Topic10\", \"Topic10\", \"Topic10\", \"Topic10\", \"Topic10\", \"Topic10\", \"Topic10\", \"Topic10\", \"Topic10\", \"Topic10\", \"Topic10\", \"Topic10\", \"Topic10\", \"Topic10\", \"Topic10\", \"Topic10\", \"Topic10\", \"Topic10\", \"Topic10\", \"Topic10\", \"Topic10\", \"Topic10\", \"Topic10\", \"Topic10\", \"Topic10\", \"Topic10\", \"Topic10\", \"Topic10\", \"Topic10\", \"Topic10\", \"Topic10\", \"Topic10\", \"Topic10\", \"Topic10\", \"Topic10\"], \"logprob\": [30.0, 29.0, 28.0, 27.0, 26.0, 25.0, 24.0, 23.0, 22.0, 21.0, 20.0, 19.0, 18.0, 17.0, 16.0, 15.0, 14.0, 13.0, 12.0, 11.0, 10.0, 9.0, 8.0, 7.0, 6.0, 5.0, 4.0, 3.0, 2.0, 1.0, -7.0941, -7.3468, -7.547, -7.6978, -7.7238, -7.7319, -7.9859, -8.0282, -8.0452, -8.1216, -8.167, -8.3849, -8.442, -7.807, -8.5635, -8.5707, -8.5815, -8.6065, -8.6403, -8.6583, -8.6872, -8.6864, -8.7182, -8.7442, -8.7204, -8.7777, -8.814, -8.7203, -8.8216, -8.8507, -7.6994, -8.0714, -8.1678, -7.9431, -6.3336, -6.5566, -6.277, -6.965, -6.5719, -6.5492, -7.1016, -7.0956, -5.1846, -7.5, -6.6536, -6.2816, -7.0163, -4.905, -5.9262, -4.7053, -7.0055, -6.4792, -4.4832, -5.9296, -6.3353, -5.7103, -5.4502, -5.5176, -4.9133, -3.6078, -5.5032, -5.568, -4.7321, -5.3394, -5.2998, -4.8962, -4.498, -5.2754, -5.2531, -5.0928, -4.5363, -4.7195, -5.3505, -5.4037, -4.9944, -5.4556, -5.2985, -5.1145, -4.992, -4.9267, -5.1421, -4.8386, -5.1699, -5.2791, -5.3224, -5.38, -5.2047, -5.2458, -6.4549, -7.1541, -7.1766, -7.3073, -7.3242, -7.3747, -7.4158, -7.436, -7.499, -7.5499, -7.5943, -7.6015, -7.6631, -7.7258, -7.8052, -7.8204, -7.8377, -7.8411, -7.852, -7.857, -7.9117, -7.9128, -7.9186, -7.9309, -7.9684, -7.9431, -6.369, -8.0025, -8.0239, -8.0273, -4.2951, -3.8202, -5.8129, -4.8216, -4.1365, -6.5455, -7.4279, -4.0714, -5.1354, -6.724, -6.9405, -5.393, -6.056, -5.248, -4.6131, -6.885, -4.1801, -6.0463, -5.0477, -4.6932, -5.6646, -5.7302, -4.9875, -5.9532, -5.4495, -5.4523, -3.668, -4.8864, -4.2305, -5.4487, -5.1197, -3.7391, -3.9403, -4.7627, -4.6353, -4.7485, -4.8581, -5.0915, -4.9171, -4.5504, -4.5092, -4.7309, -5.1955, -4.9111, -4.9189, -4.8056, -5.0276, -5.1146, -3.5252, -4.069, -5.0041, -5.242, -5.2817, -5.9983, -6.2996, -6.3059, -6.4115, -5.1644, -5.3372, -4.7171, -6.8716, -6.8936, -6.9594, -7.0448, -7.1237, -7.1467, -7.1617, -7.1725, -7.1774, -7.2133, -4.4767, -7.2781, -7.2942, -7.3044, -7.3056, -7.3065, -6.7524, -7.3725, -5.6722, -6.422, -5.5405, -5.7681, -5.7521, -6.883, -5.6361, -4.7763, -5.5271, -5.0755, -6.8671, -4.1773, -6.1305, -5.6144, -4.2464, -6.2981, -4.7391, -6.0807, -4.3701, -4.6903, -5.1919, -5.5938, -4.9429, -4.0246, -4.3035, -4.8756, -4.6655, -5.2043, -3.8546, -5.2175, -4.6384, -4.7098, -4.9866, -4.6182, -4.3551, -4.8588, -4.6733, -5.0906, -5.084, -4.8772, -5.0703, -6.0206, -6.1148, -6.336, -6.4964, -6.7057, -6.7351, -6.9059, -6.9474, -7.1323, -7.1458, -6.5217, -7.2102, -7.1847, -7.2745, -7.4799, -7.6388, -7.6577, -7.6754, -7.6883, -7.6936, -7.6995, -6.85, -7.7038, -7.722, -7.7215, -7.7283, -7.7615, -7.7284, -7.87, -7.7648, -3.6306, -4.2648, -5.6276, -7.0966, -7.2043, -7.2267, -7.4982, -3.652, -4.6873, -6.0174, -5.7366, -5.9595, -5.9218, -7.1315, -5.114, -5.3475, -6.8157, -5.0578, -6.0825, -3.5524, -3.6415, -4.7361, -6.1513, -5.6749, -5.4912, -6.0145, -5.8618, -3.7356, -4.3236, -4.6438, -3.7124, -4.4893, -4.1245, -4.6352, -5.0342, -4.4659, -4.8142, -4.4022, -5.1412, -5.1914, -5.4431, -4.4831, -4.9241, -4.6562, -5.0978, -5.02, -5.1235, -5.0942, -5.1278, -5.1205, -6.0138, -6.1754, -6.1942, -6.2029, -6.0283, -6.5138, -6.5328, -6.5869, -6.6021, -6.7071, -6.7826, -7.0061, -7.0244, -7.0586, -7.0793, -7.0822, -7.1351, -7.1907, -7.1971, -7.3099, -7.3122, -7.314, -7.349, -7.3985, -6.2192, -7.4171, -7.442, -7.4355, -7.506, -7.5319, -5.0085, -5.3121, -5.7063, -5.7294, -5.927, -6.3682, -6.5697, -6.1161, -6.0955, -6.9873, -6.1319, -5.4883, -5.5031, -4.4254, -5.6225, -5.3912, -5.2624, -5.6473, -4.2913, -4.8396, -5.4885, -4.2078, -4.8813, -5.8453, -4.3496, -4.925, -4.9197, -3.7803, -4.3522, -4.5744, -5.3844, -4.2625, -4.7, -5.0674, -5.6358, -5.0512, -4.7197, -5.0986, -5.2332, -4.2049, -4.6755, -5.2419, -4.8767, -4.4309, -4.7821, -4.575, -5.2283, -5.1068, -5.3764, -5.4602, -5.4967, -6.0194, -6.1291, -6.2319, -6.4455, -6.4726, -6.5036, -6.5755, -6.5803, -6.5756, -6.6341, -6.6393, -6.129, -6.8582, -6.9268, -6.9439, -6.6463, -7.0067, -7.0166, -7.0814, -7.104, -7.1431, -7.1588, -7.1738, -7.2276, -7.2321, -7.2377, -7.2492, -6.5243, -5.9866, -7.1493, -6.714, -5.438, -5.9404, -6.8582, -5.9245, -6.7169, -4.3478, -6.3266, -6.5618, -4.8963, -5.7844, -5.5976, -6.5182, -5.8927, -4.6612, -5.7236, -5.0631, -4.8155, -4.4561, -4.5094, -5.6246, -4.6976, -4.9706, -5.3102, -5.0759, -5.6061, -4.9041, -5.0458, -4.6611, -4.9218, -5.0354, -5.4634, -4.5279, -4.835, -5.2083, -5.1097, -5.3756, -5.191, -5.5884, -5.5931, -5.5369, -6.3421, -6.5611, -4.786, -6.7467, -6.8362, -6.8546, -6.9859, -7.1055, -7.2973, -7.3054, -7.3985, -7.4157, -7.4186, -7.4543, -7.4648, -7.4488, -7.5156, -7.5186, -7.5555, -7.5681, -7.5837, -7.6058, -7.602, -7.6176, -7.6429, -7.6432, -7.6872, -7.7157, -7.7298, -7.665, -7.3773, -4.983, -4.7994, -5.4673, -7.1381, -6.1956, -6.6397, -6.9021, -7.2126, -6.5371, -3.7261, -5.8176, -6.4636, -7.1306, -4.7125, -6.0194, -4.8743, -5.6609, -5.4042, -5.3383, -6.0472, -6.3875, -5.7819, -3.9794, -5.4975, -5.9099, -5.4306, -6.0193, -3.7994, -5.7132, -5.6062, -5.2919, -4.8482, -5.2307, -4.6304, -4.6131, -5.0786, -4.7571, -5.1506, -5.2544, -4.9774, -5.3961, -5.3513, -5.2079, -5.1086, -5.07, -5.0703, -5.2629, -5.2337, -5.2316, -5.3593, -4.8696, -6.0146, -4.8404, -6.548, -6.5706, -6.5888, -6.7269, -6.7897, -6.7967, -6.7671, -6.925, -6.957, -6.9782, -6.8558, -7.0152, -7.0254, -6.731, -7.0954, -7.1253, -7.1251, -7.1576, -7.1927, -7.1181, -7.2521, -7.2637, -4.9891, -7.3205, -7.326, -7.328, -7.3288, -5.4055, -6.57, -5.7737, -5.9014, -6.5744, -5.1838, -2.2081, -4.4474, -4.7685, -5.66, -6.24, -6.4975, -5.3377, -4.6123, -6.2997, -4.1326, -5.219, -4.0664, -5.7888, -5.8063, -6.2879, -4.5066, -4.9394, -4.0837, -5.3561, -5.0814, -4.9927, -4.669, -5.4369, -4.3811, -5.2609, -4.675, -4.4872, -5.3901, -4.9632, -4.9542, -5.2438, -4.6225, -5.0633, -4.8881, -5.0673, -5.0213, -5.2052, -5.1507, -5.1489, -5.2118, -4.673, -4.705, -4.8889, -4.6895, -5.0315, -5.0998, -5.3667, -5.4764, -4.6941, -5.149, -5.799, -5.8214, -5.5576, -6.033, -6.0404, -5.9964, -6.1238, -6.1905, -6.0874, -4.6924, -6.2352, -6.2815, -5.3466, -6.3792, -6.4151, -6.4458, -6.4458, -6.502, -6.0026, -6.5343, -5.4007, -4.9894, -5.4185, -5.7648, -4.8458, -5.5841, -5.9749, -6.0475, -5.0069, -5.7595, -3.2877, -4.4496, -4.352, -3.8709, -4.7934, -4.5931, -4.8129, -5.5846, -5.0656, -5.2106, -4.64, -4.7101, -4.717, -4.502, -4.8455, -4.7914, -4.9026, -5.1187, -5.2095, -4.0143, -4.3509, -2.3384, -4.8403, -5.0892, -5.078, -5.0452, -5.2418, -5.37, -5.5342, -5.6653, -5.7766, -5.7778, -5.8515, -5.8937, -5.8969, -5.9405, -5.9678, -6.0056, -5.7354, -6.078, -6.2248, -6.1599, -6.3082, -6.3381, -6.3495, -6.3708, -6.4059, -6.4139, -6.4388, -5.0203, -4.4766, -5.3735, -6.202, -4.4819, -5.0249, -6.0371, -3.8751, -4.2581, -5.53, -4.5314, -4.3632, -3.7529, -4.2182, -4.2716, -4.7411, -5.1916, -5.4262, -5.2802, -5.1486, -5.3561], \"loglift\": [30.0, 29.0, 28.0, 27.0, 26.0, 25.0, 24.0, 23.0, 22.0, 21.0, 20.0, 19.0, 18.0, 17.0, 16.0, 15.0, 14.0, 13.0, 12.0, 11.0, 10.0, 9.0, 8.0, 7.0, 6.0, 5.0, 4.0, 3.0, 2.0, 1.0, 1.7088, 1.7082, 1.7077, 1.7073, 1.7072, 1.7072, 1.7061, 1.706, 1.7059, 1.7055, 1.704, 1.704, 1.7036, 1.7031, 1.7028, 1.7027, 1.7024, 1.7024, 1.7021, 1.702, 1.7017, 1.7017, 1.7015, 1.7012, 1.7011, 1.7009, 1.7006, 1.7005, 1.7005, 1.7002, 1.6995, 1.6973, 1.6934, 1.6877, 1.6358, 1.6269, 1.6137, 1.6323, 1.6139, 1.6117, 1.6209, 1.6205, 1.4941, 1.6393, 1.5827, 1.5435, 1.5823, 1.3888, 1.4832, 1.362, 1.5778, 1.4985, 1.2021, 1.4027, 1.4474, 1.3444, 1.3014, 1.2979, 1.1362, 0.812, 1.2115, 1.2205, 0.9874, 1.0895, 1.073, 0.9489, 0.7533, 1.0089, 0.9779, 0.9097, 0.6695, 0.689, 0.9479, 0.9719, 0.722, 0.9901, 0.8602, 0.6555, 0.5437, 0.3631, 0.5609, 0.1764, 0.5799, 0.5785, 0.6744, 0.7293, -0.3269, -0.1083, 1.976, 1.9746, 1.9745, 1.9743, 1.9742, 1.9741, 1.974, 1.9735, 1.9735, 1.9734, 1.9733, 1.9733, 1.973, 1.9728, 1.9724, 1.9723, 1.9722, 1.9722, 1.9722, 1.9721, 1.9718, 1.9718, 1.9718, 1.9717, 1.9715, 1.9715, 1.9715, 1.9713, 1.9712, 1.9712, 1.9633, 1.9556, 1.9653, 1.9505, 1.9402, 1.9643, 1.9702, 1.8775, 1.8953, 1.9432, 1.945, 1.8885, 1.9112, 1.8504, 1.8115, 1.931, 1.7809, 1.8492, 1.7591, 1.7186, 1.7866, 1.7894, 1.7034, 1.7985, 1.7023, 1.6937, 1.3588, 1.5682, 1.4355, 1.6666, 1.6013, 1.2128, 1.2014, 1.4054, 1.2159, 1.2006, 1.1995, 1.319, 1.1904, 0.7394, 0.3686, 0.5204, 1.2078, 0.6246, 0.4896, -0.3857, 0.3575, 0.5191, 1.9778, 1.9777, 1.9775, 1.9774, 1.9774, 1.977, 1.9767, 1.9767, 1.9766, 1.9764, 1.9762, 1.9759, 1.9759, 1.9759, 1.9757, 1.9755, 1.9754, 1.9753, 1.9753, 1.9752, 1.9752, 1.9751, 1.9751, 1.9749, 1.9749, 1.9749, 1.9749, 1.9749, 1.9748, 1.9746, 1.9709, 1.9716, 1.9621, 1.9643, 1.9637, 1.9713, 1.9516, 1.9318, 1.9449, 1.9356, 1.9698, 1.9047, 1.9531, 1.929, 1.8642, 1.9464, 1.8593, 1.9202, 1.7827, 1.7857, 1.8057, 1.8564, 1.7327, 1.5682, 1.6198, 1.7167, 1.6161, 1.7122, 1.1011, 1.6807, 1.3584, 1.2954, 1.4706, 1.1774, 0.851, 1.2893, 0.7118, 1.3218, 1.243, 0.0746, -0.0552, 2.0152, 2.0149, 2.0148, 2.0145, 2.0144, 2.0142, 2.014, 2.0139, 2.0135, 2.0134, 2.0133, 2.0133, 2.0132, 2.0131, 2.0124, 2.0118, 2.0117, 2.0116, 2.0116, 2.0115, 2.0115, 2.0115, 2.0114, 2.0114, 2.0114, 2.0114, 2.0112, 2.0112, 2.0107, 2.0106, 1.9947, 1.9924, 2.0058, 2.0104, 2.0087, 2.0083, 2.0099, 1.9698, 1.9712, 1.9837, 1.976, 1.976, 1.9709, 1.998, 1.9335, 1.9348, 1.9824, 1.8512, 1.921, 1.6069, 1.613, 1.7343, 1.893, 1.8242, 1.779, 1.8501, 1.8211, 1.3998, 1.4578, 1.5137, 1.2433, 1.4383, 1.0816, 1.216, 1.2885, 0.9192, 1.0434, 0.6245, 1.2007, 1.2039, 1.4154, 0.3947, 0.8715, 0.3589, 0.8288, 0.6459, 0.4992, 0.1416, 0.0098, -0.7006, 2.0466, 2.0464, 2.0464, 2.0463, 2.0463, 2.046, 2.046, 2.0459, 2.0459, 2.0457, 2.0455, 2.0451, 2.0451, 2.045, 2.0449, 2.0449, 2.0447, 2.0446, 2.0446, 2.0443, 2.0443, 2.0443, 2.0442, 2.044, 2.0439, 2.0439, 2.0438, 2.0437, 2.0436, 2.0435, 2.0393, 2.0371, 2.0409, 2.0409, 2.0358, 2.0361, 2.0367, 2.0272, 2.0246, 2.0401, 2.0208, 1.9888, 1.9846, 1.8933, 1.9637, 1.9446, 1.9292, 1.9515, 1.823, 1.8642, 1.8981, 1.7279, 1.8094, 1.9358, 1.6451, 1.7395, 1.7338, 1.4555, 1.5669, 1.6237, 1.8198, 1.4539, 1.5851, 1.6915, 1.8698, 1.664, 1.5124, 1.6463, 1.701, 1.0849, 1.0275, 1.5662, 1.0538, 0.4469, 0.3554, -0.1552, 1.2226, -0.155, 2.4334, 2.4333, 2.4333, 2.4328, 2.4326, 2.4324, 2.4321, 2.432, 2.432, 2.4318, 2.4318, 2.4318, 2.4317, 2.4316, 2.4316, 2.4311, 2.4308, 2.4308, 2.4307, 2.4306, 2.4305, 2.4303, 2.4302, 2.4301, 2.43, 2.4299, 2.4297, 2.4297, 2.4297, 2.4296, 2.4289, 2.4229, 2.4292, 2.4234, 2.3964, 2.3688, 2.4132, 2.3511, 2.4012, 2.1998, 2.3399, 2.3591, 2.0771, 2.2222, 2.1797, 2.343, 2.1346, 1.6735, 2.0482, 1.7759, 1.65, 1.3193, 1.2606, 1.8438, 1.2329, 1.3284, 1.483, 1.2986, 1.6968, 1.0658, 1.1714, 0.4806, 0.7812, 0.8878, 1.4799, -0.1081, 0.18, 0.7968, 0.0278, 0.7319, -0.3132, -0.3526, -0.3869, 2.5009, 2.4998, 2.4994, 2.4992, 2.4989, 2.4986, 2.4986, 2.4981, 2.4977, 2.4968, 2.4967, 2.4962, 2.4962, 2.4962, 2.496, 2.4959, 2.4958, 2.4956, 2.4956, 2.4954, 2.4953, 2.4952, 2.4951, 2.495, 2.495, 2.4948, 2.4948, 2.4945, 2.4942, 2.4942, 2.4939, 2.4908, 2.4394, 2.4287, 2.4404, 2.482, 2.4505, 2.454, 2.4313, 2.4595, 2.3885, 2.0721, 2.2989, 2.3702, 2.4497, 2.1496, 2.2538, 2.0142, 2.1431, 2.0494, 1.9946, 2.1295, 2.2084, 2.0069, 1.1799, 1.787, 1.9377, 1.6941, 1.9798, 0.6204, 1.7267, 1.5904, 1.2835, 0.9017, 1.2202, 0.6209, 0.4019, 0.8914, 0.3805, 0.9136, 1.044, 0.2284, 0.8604, 0.7533, 0.3849, 0.1272, -0.1181, -0.1925, 0.4224, 0.1748, -0.276, 0.0257, 2.8655, 2.8642, 2.8638, 2.8628, 2.8627, 2.8626, 2.8621, 2.8618, 2.8618, 2.8615, 2.8611, 2.8611, 2.861, 2.8608, 2.8608, 2.8607, 2.8604, 2.8603, 2.8601, 2.8601, 2.8598, 2.8597, 2.8596, 2.8593, 2.8592, 2.8589, 2.8588, 2.8588, 2.8588, 2.8588, 2.8551, 2.8577, 2.8428, 2.8435, 2.8507, 2.8187, 2.7141, 2.7676, 2.7771, 2.7936, 2.8208, 2.8235, 2.7492, 2.657, 2.7999, 2.5205, 2.6151, 2.4071, 2.677, 2.6523, 2.7279, 2.2045, 2.2989, 1.8862, 2.3734, 2.2222, 2.1246, 1.9687, 2.3221, 1.767, 2.132, 1.6663, 1.2882, 2.1115, 1.4408, 1.4204, 1.8244, 0.3294, 1.1932, 0.2495, 0.5255, -0.0063, 1.0938, -0.2729, -0.7291, 0.9763, 3.4504, 3.4504, 3.4502, 3.4502, 3.45, 3.4499, 3.4495, 3.4493, 3.449, 3.4488, 3.4485, 3.4483, 3.4478, 3.4477, 3.4477, 3.4475, 3.4473, 3.4471, 3.447, 3.447, 3.4469, 3.4465, 3.4463, 3.4463, 3.4461, 3.4459, 3.4457, 3.4456, 3.4455, 3.4454, 3.4432, 3.4351, 3.4375, 3.4407, 3.4288, 3.4317, 3.4341, 3.4365, 3.33, 3.3869, 2.77, 2.9589, 2.9007, 2.7286, 3.0143, 2.9157, 2.9846, 3.2251, 2.7109, 2.8428, 2.1681, 2.2047, 2.1261, 0.5247, 0.9245, 0.1605, 0.7311, 0.0167, 0.7852, 3.819, 3.8186, 3.8184, 3.818, 3.8176, 3.8176, 3.8174, 3.8171, 3.817, 3.8165, 3.8159, 3.8156, 3.8156, 3.8153, 3.8151, 3.8151, 3.8149, 3.8148, 3.8146, 3.8142, 3.8141, 3.8133, 3.8131, 3.8128, 3.8126, 3.8125, 3.8123, 3.8121, 3.812, 3.8118, 3.7871, 3.7521, 3.7603, 3.8016, 3.5875, 3.5803, 3.757, 3.1482, 3.2051, 3.5369, 3.0504, 2.8787, 2.4845, 2.7566, 2.3381, 2.5618, 3.0265, 2.5415, 1.988, 0.1058, 0.5744]}, \"token.table\": {\"Topic\": [2, 1, 1, 2, 3, 4, 5, 6, 7, 8, 9, 10, 10, 6, 9, 1, 3, 6, 7, 1, 3, 1, 1, 3, 6, 10, 1, 2, 3, 4, 5, 6, 7, 8, 9, 10, 1, 3, 6, 3, 3, 5, 6, 3, 4, 5, 7, 9, 1, 2, 3, 4, 5, 6, 7, 3, 1, 2, 3, 4, 5, 6, 7, 8, 9, 10, 5, 1, 2, 3, 4, 5, 6, 7, 8, 9, 10, 4, 5, 6, 7, 10, 4, 2, 3, 4, 6, 7, 8, 10, 4, 7, 2, 1, 3, 9, 1, 2, 3, 5, 7, 9, 1, 6, 7, 9, 1, 2, 7, 3, 8, 1, 6, 2, 5, 5, 5, 8, 8, 6, 6, 9, 5, 1, 3, 4, 6, 7, 9, 10, 1, 3, 4, 6, 7, 9, 10, 5, 6, 8, 8, 7, 9, 7, 1, 2, 3, 4, 5, 6, 7, 8, 9, 10, 1, 6, 3, 7, 9, 2, 3, 4, 5, 8, 4, 6, 7, 10, 1, 2, 4, 7, 3, 9, 1, 3, 4, 6, 7, 8, 7, 1, 3, 4, 9, 1, 2, 3, 4, 5, 6, 7, 8, 9, 10, 3, 5, 9, 1, 2, 3, 4, 5, 6, 7, 8, 9, 10, 1, 3, 6, 2, 6, 4, 9, 2, 1, 2, 3, 5, 1, 2, 3, 6, 7, 8, 2, 3, 4, 9, 10, 1, 3, 6, 9, 5, 3, 1, 2, 3, 4, 5, 6, 7, 8, 9, 10, 1, 4, 5, 6, 10, 2, 4, 6, 7, 8, 2, 3, 4, 6, 7, 8, 2, 3, 6, 9, 7, 4, 7, 6, 1, 2, 3, 4, 5, 6, 7, 9, 10, 7, 1, 2, 3, 4, 5, 8, 9, 1, 2, 3, 4, 5, 6, 7, 9, 6, 2, 1, 2, 3, 4, 5, 6, 7, 8, 9, 10, 8, 3, 4, 6, 8, 10, 2, 3, 4, 6, 8, 9, 2, 3, 4, 8, 9, 1, 2, 3, 4, 5, 6, 7, 8, 9, 1, 9, 1, 2, 4, 5, 6, 7, 8, 9, 10, 1, 4, 5, 6, 7, 8, 1, 4, 6, 7, 2, 5, 10, 1, 3, 4, 5, 6, 7, 8, 1, 2, 3, 4, 5, 6, 9, 10, 1, 2, 4, 5, 6, 7, 9, 3, 4, 5, 7, 4, 5, 7, 9, 1, 2, 3, 4, 5, 6, 7, 8, 9, 10, 1, 2, 3, 4, 5, 6, 7, 8, 9, 1, 2, 3, 4, 5, 10, 1, 3, 5, 6, 8, 10, 1, 2, 3, 4, 5, 6, 7, 8, 10, 1, 3, 2, 3, 4, 6, 7, 8, 10, 2, 10, 4, 1, 2, 3, 4, 5, 6, 7, 8, 9, 10, 5, 3, 6, 8, 3, 6, 8, 1, 2, 5, 9, 6, 1, 5, 1, 2, 3, 4, 5, 7, 8, 9, 8, 9, 4, 2, 3, 2, 3, 4, 5, 8, 9, 10, 2, 4, 8, 9, 10, 1, 2, 3, 4, 5, 6, 7, 8, 9, 10, 1, 2, 3, 5, 6, 7, 8, 9, 10, 1, 2, 3, 4, 5, 6, 7, 9, 2, 7, 2, 3, 4, 6, 7, 8, 10, 1, 2, 3, 4, 5, 6, 7, 8, 9, 10, 7, 1, 4, 10, 5, 8, 2, 1, 5, 7, 9, 10, 2, 8, 1, 2, 3, 4, 5, 7, 9, 1, 3, 5, 6, 7, 9, 1, 3, 4, 5, 6, 10, 2, 4, 6, 8, 5, 6, 7, 8, 1, 5, 6, 7, 8, 8, 10, 1, 2, 3, 4, 5, 6, 7, 8, 9, 10, 10, 4, 6, 2, 3, 1, 6, 7, 5, 8, 2, 7, 1, 4, 5, 7, 9, 1, 3, 5, 6, 8, 1, 3, 4, 6, 9, 3, 2, 2, 3, 8, 2, 3, 5, 7, 8, 5, 1, 1, 2, 3, 4, 6, 7, 8, 9, 2, 1, 2, 3, 4, 5, 8, 9, 9, 2, 9, 2, 3, 4, 5, 6, 7, 8, 9, 10, 1, 3, 5, 7, 8, 4, 1, 2, 4, 7, 9, 5, 7, 8, 2, 4, 5, 6, 1, 2, 3, 4, 5, 6, 7, 8, 9, 10, 1, 2, 3, 4, 5, 6, 8, 9, 10, 1, 2, 3, 4, 5, 6, 7, 8, 9, 2, 6, 8, 1, 3, 5, 6, 7, 1, 3, 7, 9, 2, 4, 7, 9, 1, 2, 3, 4, 5, 7, 9, 2, 1, 2, 3, 4, 5, 6, 7, 8, 9, 10, 1, 2, 3, 4, 5, 7, 8, 9, 6, 1, 3, 4, 5, 6, 7, 8, 9, 10, 5, 6, 8, 10, 1, 2, 3, 4, 5, 6, 7, 8, 9, 1, 2, 3, 4, 5, 6, 7, 8, 9, 10, 5, 1, 3, 6, 2, 3, 4, 6, 9, 1, 5, 8, 1, 2, 3, 4, 5, 6, 7, 8, 9, 10, 3, 9, 4, 7, 7, 4, 3, 2, 10, 1, 2, 3, 4, 5, 7, 8, 9, 1, 2, 3, 4, 5, 6, 7, 8, 9, 10, 10, 9, 1, 2, 3, 4, 6, 9, 10, 2, 5, 8, 10, 1, 2, 3, 4, 5, 6, 7, 8, 9, 1, 2, 3, 4, 6, 7, 8, 9, 9, 10, 8, 6, 1, 1, 2, 3, 4, 5, 6, 7, 8, 9, 10, 4, 3, 4, 2, 4, 9, 4, 6, 5, 1, 2, 3, 4, 5, 6, 7, 8, 9, 10, 1, 2, 3, 4, 5, 6, 7, 8, 9, 8, 9, 5, 5, 6, 8, 5, 8, 2, 3, 6, 9, 9, 1, 2, 3, 4, 5, 6, 7, 9, 2, 7, 7, 10, 8, 3, 6, 9, 2, 9, 1, 5, 6, 8, 1, 2, 3, 4, 5, 6, 7, 8, 9, 10, 3, 8, 1, 2, 3, 5, 6, 7, 8, 9, 1, 2, 3, 4, 5, 6, 7, 8, 9, 10, 1, 2, 3, 4, 5, 6, 7, 8, 2, 3, 4, 6, 8, 1, 3, 1, 2, 3, 4, 5, 6, 8, 9, 10, 3, 6, 7, 1, 2, 3, 4, 5, 6, 7, 8, 10, 1, 2, 3, 4, 5, 6, 7, 8, 10, 10, 3, 4, 5, 6, 7, 10, 3, 1, 2, 3, 4, 6, 7, 8, 9, 1, 2, 3, 4, 7, 8, 9, 2, 4, 6, 7, 9, 5, 2, 2, 4, 1, 5, 6, 8, 1, 8, 1, 2, 3, 4, 8, 9, 10, 9, 1, 5, 7, 1, 4, 5, 6, 7, 9, 7, 1, 9, 1, 3, 4, 7, 8, 4, 2, 4, 5, 6, 7, 8, 4, 1, 3, 4, 3, 7, 9, 5, 1, 2, 3, 4, 5, 6, 7, 8, 9, 10, 1, 1, 2, 3, 4, 5, 6, 7, 8, 9, 10, 5, 5, 2, 3, 4, 6, 8, 9, 1, 8, 1, 3, 4, 5, 9, 10, 2, 3, 4, 6, 7, 8, 1, 2, 3, 4, 5, 6, 7, 8, 9, 10, 5, 6, 7, 10, 1, 2, 3, 4, 5, 6, 7, 8, 9, 10, 1, 2, 3, 4, 5, 6, 7, 8, 9, 10, 1, 2, 3, 4, 5, 6, 7, 8, 9, 8, 9, 3, 5, 1, 2, 3, 4, 5, 6, 7, 8, 5, 3, 5, 3, 8, 1, 2, 3, 4, 5, 6, 7, 8, 9, 10, 10, 1, 2, 3, 4, 5, 6, 7, 8, 9, 10, 1, 2, 3, 4, 5, 6, 7, 8, 9, 10, 7, 7, 3, 9, 7, 2, 3, 4, 5, 6, 7, 8, 10, 6, 6, 9, 1, 2, 3, 4, 5, 6, 7, 8, 9, 10, 1, 2, 3, 4, 5, 6, 7, 8, 9, 10, 3, 4, 9, 2, 9, 1, 2, 3, 4, 5, 6, 7, 9, 10, 1, 3, 4, 5, 6, 7, 8, 10, 1, 2, 8, 9, 6, 6, 4, 2, 1, 4, 7, 7, 8, 2, 5, 3, 4, 1, 2, 3, 4, 5, 6, 7, 8, 9, 10, 2, 3, 7, 3, 1, 2, 3, 4, 5, 6, 7, 8, 9, 10, 1, 2, 3, 4, 5, 6, 7, 8, 9, 10, 3, 5, 10, 4, 5, 7, 8, 5, 1, 4, 5, 10, 6, 5, 10, 10, 10, 10, 7, 1, 2, 3, 4, 5, 6, 7, 8, 9, 1, 2, 3, 4, 5, 6, 7, 8, 9, 6, 1, 7, 2, 3, 4, 6, 7, 8, 10, 1, 2, 3, 4, 5, 6, 7, 8, 9, 10, 2, 4, 2, 10, 3, 1, 2, 3, 4, 5, 6, 7, 8, 9, 10, 6, 7, 1, 2, 3, 4, 5, 6, 7, 8, 9, 10, 1, 2, 3, 4, 5, 6, 7, 8, 9, 3, 4, 5, 6, 7, 9, 1, 2, 3, 4, 5, 6, 7, 8, 9, 1, 3, 4, 5, 9, 10, 3, 6, 7, 1, 2, 3, 4, 5, 6, 7, 8, 9, 1, 2, 3, 4, 5, 6, 7, 8, 9, 10, 2, 3, 4, 5, 1, 2, 3, 4, 5, 6, 7, 8, 9, 10, 10, 1, 2, 4, 5, 6, 7, 8, 9, 7, 2, 4, 3, 6, 8, 9, 1, 5, 7, 8, 1, 5, 8, 1, 4, 8, 1, 2, 3, 4, 5, 7, 8, 4, 6, 4, 6, 9, 10, 1, 3, 4, 6, 6, 6, 1, 6, 8, 5, 1, 2, 3, 4, 5, 6, 7, 8, 9, 10, 2, 1, 4, 5, 6, 7, 1, 1, 2, 3, 4, 5, 6, 7, 8, 9, 1, 2, 3, 4, 5, 6, 7, 8, 7, 2, 3, 1, 2, 3, 4, 5, 6, 7, 8, 10, 4, 5, 7, 4, 7, 1, 2, 4, 5, 7, 9, 1, 2, 3, 4, 5, 6, 7, 8, 9, 10, 1, 2, 3, 4, 5, 6, 7, 8, 1, 2, 3, 5, 7, 1, 4, 5, 6, 7, 8, 1, 2, 3, 4, 5, 6, 7, 8, 9, 10, 3, 5, 6, 1, 2, 3, 4, 5, 7, 8, 9, 10, 4, 10, 1, 2, 3, 4, 5, 7, 9, 2, 6, 7, 10, 6, 1, 2, 4, 5, 6, 7, 8, 10, 2, 1, 2, 3, 5, 7, 9, 1, 2, 3, 4, 5, 6, 7, 8, 9, 2, 3, 7, 8, 2, 3, 4, 5, 6, 7, 8, 4, 9, 6, 1, 2, 10, 1, 2, 3, 4, 6, 7, 8, 3, 4, 6, 8, 6, 10, 1, 2, 3, 4, 5, 6, 7, 8, 9, 1, 2, 3, 4, 5, 6, 7, 8, 9, 1, 1, 2, 4, 6, 7, 8, 10, 1, 2, 3, 4, 5, 6, 7, 8, 9, 10, 7, 7, 1, 2, 3, 4, 5, 6, 7, 8, 5, 1, 2, 5, 6, 7, 8, 9, 1, 2, 3, 4, 5, 6, 7, 8, 10, 1, 2, 3, 4, 5, 6, 7, 8, 9, 1, 2, 3, 4, 5, 6, 7, 8, 9, 10, 1, 2, 3, 4, 5, 6, 7, 8, 9, 10, 2, 8, 4, 9, 1, 2, 3, 4, 5, 6, 7, 8, 10, 1, 2, 3, 5, 5, 2, 3, 4, 6, 9, 10, 1, 7, 10, 1, 2, 3, 4, 5, 6, 7, 8, 9, 10, 3, 9, 3, 8, 10, 1, 2, 3, 4, 5, 6, 7, 8, 9, 10, 3, 4, 4, 1, 2, 3, 5, 6, 7, 8, 1, 4, 1, 2, 3, 4, 5, 6, 7, 8, 9, 10, 1, 2, 3, 4, 7, 8, 9, 10, 7, 4, 6, 10, 1, 2, 3, 4, 5, 6, 7, 8, 9, 10, 1, 2, 3, 5, 6, 7, 8, 9, 1, 3, 4, 5, 6, 7, 9, 5, 9, 1, 2, 3, 4, 5, 6, 7, 8, 9, 10, 4, 9, 4, 4, 6, 7, 3, 3, 6, 1, 5, 6, 8, 1, 1, 5, 1, 4, 1, 2, 3, 4, 6, 7, 8, 9, 10, 4, 7, 3, 4, 2, 9, 1, 4, 5, 6, 1, 5, 6, 7, 8, 6, 9, 9, 1, 2, 3, 4, 5, 6, 7, 8, 9, 1, 3, 2, 1, 2, 3, 4, 6, 7, 8, 9, 9, 1, 9, 1, 2, 5, 7, 9, 5, 5, 1, 2, 3, 4, 5, 6, 7, 8, 9, 10, 2, 3, 5, 6, 1, 3, 4, 5, 6, 7, 9, 4, 6, 7, 6, 6, 6, 2, 8, 2, 3, 4, 5, 7, 8, 9, 10, 1, 8, 4, 6, 7, 10, 1, 5, 6, 7, 8, 1, 3, 4, 7, 9, 10, 1, 2, 3, 4, 5, 6, 7, 8, 9, 1, 2, 3, 4, 5, 8, 1, 1, 1, 3, 4, 10, 1, 9, 1, 10, 1, 2, 3, 4, 5, 6, 7, 8, 10, 4, 7, 1, 2, 4, 5, 6, 7, 8, 9, 10, 2, 3, 8, 9, 10, 8, 8, 3, 6, 1, 2, 3, 4, 5, 6, 7, 8, 9, 10, 7, 1, 2, 3, 4, 6, 7, 8, 9, 10, 3, 3, 4, 9, 6, 9, 1, 1, 2, 3, 4, 5, 6, 7, 8, 9, 10, 1, 2, 3, 4, 5, 6, 7, 8, 9, 1, 2, 3, 4, 5, 6, 7, 8, 9, 1, 4, 5, 6, 8, 2, 1, 2, 3, 4, 5, 6, 7, 8, 9, 10, 2, 4, 6, 8, 9, 1, 2, 3, 4, 5, 6, 7, 8, 10, 8, 1, 7, 2, 5, 6, 8, 4, 1, 3, 1, 4, 5, 7, 2, 5, 1, 9, 4, 7, 8, 9, 2, 3, 6, 7, 1, 2, 3, 4, 5, 6, 7, 8, 9, 10, 1, 2, 3, 4, 5, 6, 7, 8, 9, 10, 3, 5, 6, 7, 8, 1, 2, 3, 4, 5, 6, 7, 8, 9, 10, 4, 3, 4, 7, 10, 10, 1, 2, 3, 4, 5, 6, 7, 9, 1, 3, 5, 8, 10, 1, 2, 3, 4, 5, 7, 8, 10, 10, 8, 1, 2, 3, 4, 5, 6, 7, 8, 9, 10, 4, 1, 2, 3, 4, 5, 6, 7, 8, 9, 10, 9, 2, 3, 4, 5, 4, 2, 1, 2, 3, 4, 5, 6, 7, 8, 9, 10, 1, 2, 3, 4, 5, 6, 7, 8, 10, 2, 1, 2, 3, 4, 5, 6, 7, 8, 9, 10, 4, 6, 1, 2, 3, 4, 5, 6, 7, 8, 9, 10, 6, 1, 2, 3, 4, 5, 9, 10, 10, 10, 1, 1, 6, 7, 8, 1, 4, 9, 10, 1, 2, 3, 4, 5, 6, 7, 8, 9, 10, 1, 2, 3, 4, 5, 6, 7, 8, 9, 10, 8, 3, 5, 8, 1, 2, 3, 4, 5, 6, 7, 8, 9, 3, 6, 9, 1, 3, 4, 5, 6, 7, 8, 9, 10, 1, 1, 2, 3, 4, 6, 7, 8, 1, 2, 3, 4, 5, 6, 7, 8, 9, 10, 6, 1, 2, 3, 4, 5, 6, 7, 8, 9, 4, 7, 1, 9, 10, 1, 2, 3, 5, 7, 8, 9, 10, 10, 7, 2, 8, 9, 5, 6, 8], \"Freq\": [0.997330347992785, 0.9929039827624835, 0.2197261793126941, 0.18945734203834158, 0.16396330726360525, 0.21938512199129293, 0.064374569414468, 0.028307757676295862, 0.04169425754129119, 0.05056174789772122, 0.018502359686012656, 0.004007423526463571, 0.9956186966405411, 0.9973316169631509, 0.9991869883953869, 0.9301631221876024, 0.028708738339123532, 0.022966990671298825, 0.014354369169561766, 0.04714237457464582, 0.9521595654829699, 0.9951902659084594, 0.985672071746605, 0.9435672524156119, 0.055179371486293094, 0.999047927997912, 0.47778337697872963, 0.11369759785624942, 0.06680639109706375, 0.06354754275086552, 0.06354754275086552, 0.06209916570811075, 0.1144217863776268, 0.031140106419227546, 0.006879790953085155, 0.0001810471303443462, 0.00636528589048847, 0.9929845989162014, 0.9958064120856205, 0.9966683549837093, 0.9998642768954872, 0.9980017889883307, 0.9933212277505437, 0.9932006750762388, 0.004318263804679299, 0.9932764554930603, 0.004994924704347287, 0.0014271213440992248, 0.2150932959270684, 0.012808926611387219, 0.0060419465148052924, 0.02416778605922117, 0.7349423740609158, 0.0016917450241454818, 0.005075235072436446, 0.9980967255843577, 0.37212209920727496, 0.0005618350768101787, 0.05730717783463822, 0.0008427526152152679, 0.5523775196838739, 0.00028091753840508933, 9.36391794683631e-05, 9.36391794683631e-05, 9.36391794683631e-05, 0.016199578048026818, 0.9952512844327325, 0.7057388924344671, 0.000931053947802727, 0.003591208084381947, 0.006517377634619089, 0.242074026428709, 0.003857223498039869, 0.01064061654631688, 0.020749202265317915, 0.004788277445842596, 0.000931053947802727, 0.823069271384044, 0.07293865900882991, 0.0823069271384044, 0.007360782101808523, 0.014052402194361727, 0.9982537860779535, 0.4670129762661707, 0.0075013557454410166, 0.4493312091519169, 0.05979652151365839, 0.0075013557454410166, 0.008680140219724604, 0.00010716222493487166, 0.9984565822781443, 0.9983927074444265, 0.9947302590510122, 0.018137488205131076, 0.0024183317606841434, 0.9782151971967361, 0.8461987152145067, 0.001542750620263458, 0.006171002481053832, 0.0239126346140836, 0.003856876550658645, 0.11802042245015454, 0.03681359314353818, 0.008765141224651947, 0.9501413087522711, 0.005259084734791168, 0.9084039443842022, 0.09072974840378147, 0.9895017392159793, 0.04246874463797926, 0.9555467543545334, 0.07153415341860593, 0.927636441105793, 0.002390739653334546, 0.9969384354405056, 0.9986389170869912, 0.9982039581949594, 0.996713818821107, 0.9942513066435718, 0.9988248622929142, 0.9363071397910722, 0.06258737565448343, 0.9987862088866176, 0.13320244062319975, 0.8417045361911558, 0.00033722136866632844, 0.014837740221318452, 0.00033722136866632844, 0.006069984635993912, 0.0033722136866632846, 0.04402752777782344, 0.35806060856046207, 0.005391125850345727, 0.07547576190484018, 0.48924467091887475, 0.0004492604875288106, 0.026955629251728636, 0.011914718262892412, 0.008510513044923151, 0.9770068975571777, 0.9959574541655258, 0.9917715304959105, 0.9982293431317862, 0.9955388629739993, 0.020342395566596363, 0.012713997229122727, 0.08442094160137491, 0.13781972996369038, 0.09916917838715728, 0.024410874679915637, 0.0005085598891649091, 0.0005085598891649091, 0.6112889867762208, 0.009662637894133273, 0.008596353796790352, 0.9885806866308904, 0.03912913927609151, 0.958663912264242, 0.9993856864423406, 0.0003109333083492093, 0.7667615383891502, 0.0469509295607306, 0.18220691869263667, 0.0034202663918413024, 0.8845312883536246, 0.001920806272211997, 0.0009604031361059985, 0.11332757006050782, 0.0009197612135659019, 0.01931498548488394, 0.9685085578848946, 0.011037134562790821, 0.9928777355730569, 0.006430555282208918, 0.9937971339993006, 0.9994865711800233, 0.18128023974326568, 0.8092867845681504, 0.006474294276545203, 0.002774697547090801, 0.9916507875385536, 0.05034253176986894, 0.9293798224324867, 0.01430645674961423, 0.005803562643711433, 0.0012913261227172242, 0.22449207979545588, 0.014204587349889466, 0.1046967487187657, 0.03536246920671783, 0.3279968351701749, 0.08135354573118513, 0.20641351407741476, 0.0002979983360116671, 0.0038739783681516725, 0.0020303672624458497, 0.0020303672624458497, 0.9948799585984663, 0.32233219445484373, 0.032028324440645226, 0.02512659796185299, 0.37808520366633724, 0.072899485932243, 0.08379127303158701, 0.062331217261592395, 0.008195800193565783, 0.0010783947623112871, 0.013911292433815604, 0.0011732820162987459, 0.9691309454627641, 0.028158768391169903, 0.9866682453812393, 0.010708027469253761, 0.9971592353981861, 0.9931071441642555, 0.9965042443758427, 0.007387882189169443, 0.8285794024468499, 0.16253340816172776, 0.001136597259872222, 0.00761163515551613, 0.10402568045872043, 0.0025372117185053764, 0.0025372117185053764, 0.012686058592526882, 0.8702636194473441, 0.6124110814030707, 0.028016653347287947, 0.011865876711792542, 0.0019776461186320903, 0.34542885538773843, 0.0006083681513704088, 0.9739974103440245, 0.015209203784260222, 0.00973389042192654, 0.9972314556198947, 0.9973504448038639, 0.44887280139720087, 0.098973897336678, 0.19183983375459376, 0.06544243841530976, 0.04238176964039108, 0.037395679094462723, 0.03839289720364839, 0.049486948668339, 0.02655093215706853, 0.0006232613182410453, 0.004570889474818869, 0.006856334212228303, 0.41709366457722175, 0.11884312634529058, 0.452518058007068, 0.004871563948291579, 0.788750490173391, 0.01682903909409818, 0.17803351883756496, 0.011071736246117224, 0.018050209242333862, 0.0015471607922000453, 0.024754572675200724, 0.007220083696933544, 0.9396423211294941, 0.00876724448913359, 0.995811753607719, 0.0010562429347526852, 0.0021124858695053704, 0.9960370874717821, 0.9975610711352679, 0.9959428722237991, 0.9929630027824901, 0.9979492754508689, 0.012559663614507237, 0.023018756310908734, 0.41613185125557256, 0.461731744936118, 0.006695569801462047, 0.00013128568238160877, 0.06218565155475535, 0.012253330355616817, 0.005251427295264351, 0.9960649998572609, 0.14111244996781505, 0.00020015950350044687, 0.8252576329323424, 0.00900717765752011, 0.0006004785105013406, 0.008406699147018769, 0.015212122266033962, 0.1457866921057123, 0.0037703454854925594, 0.000502712731399008, 0.015081381941970238, 0.8324922831967572, 0.000754069097098512, 0.000251356365699504, 0.001005425462798016, 0.9959637966545287, 0.9931018318930008, 0.2156592162311194, 0.09770607040272937, 0.1309558548173464, 0.1906754396737675, 0.06134492348004064, 0.10499687508582277, 0.12245765572813563, 0.05656178410196026, 0.010680796669499884, 0.008962581553102077, 0.9969633866005649, 0.4204099166697175, 0.003002927976212268, 0.00943777363952427, 0.5671243977932312, 0.9944268200132222, 0.0006785843248127738, 0.8882668811799208, 0.004297700723814233, 0.09771614277303942, 0.0004523895498751825, 0.008821596222566059, 0.9636011547573957, 0.017722635143928696, 0.00013426238745400525, 0.002148198199264084, 0.016245748881934637, 0.012826884904896689, 0.001166080445899699, 0.2301842800206006, 0.0017491206688495485, 0.7264681177955126, 0.0018657287134395185, 0.014342789484566298, 0.0009328643567197592, 0.010378115968507321, 0.003909642366583691, 0.9930491611122576, 0.1017888294073586, 0.0015192362598113224, 0.00025320604330188705, 0.2111738401137738, 0.13470561503660392, 0.031397549369433994, 0.5160339162492459, 0.0022788543897169834, 0.0010128241732075482, 0.0345803001170469, 0.06596857253098179, 0.17609352828834654, 0.0835247248980979, 0.636277522153663, 0.003192027703112022, 0.01931921447505644, 0.12919724680193995, 0.0700321524720796, 0.7800132844304037, 0.0025670643709080464, 0.9934539115414139, 0.0025670643709080464, 0.0014186849692277622, 0.003310264928198112, 0.0004728949897425874, 0.9022836404288568, 0.005674739876911049, 0.06100345367679377, 0.026009224435842308, 0.10033729849028589, 0.05929022183516894, 0.0012438508077308168, 0.0012438508077308168, 0.796479133883633, 0.04021784278329641, 0.00041461693591027227, 0.00041461693591027227, 0.06304870695588649, 0.036846646922271326, 0.0016376287521009476, 0.8884135980147642, 0.003684664692227132, 0.0024564431281514218, 0.003684664692227132, 0.03702074859354991, 0.7543475116642697, 0.208191951768028, 0.00019903628276102104, 0.9604220137099272, 0.011197745451326506, 0.02497958600680528, 0.0025840951041522704, 0.04054088323743242, 0.005438411165997032, 0.6964462299243472, 0.023731248724350687, 0.08388337222704513, 0.00016480033836354643, 0.014008028760901447, 0.1341474754279268, 0.001483203045271918, 0.00016480033836354643, 0.48454260255535736, 0.00031040525467992145, 0.21728367827594502, 0.0015520262733996072, 0.0034144578014791357, 0.002793647292119293, 0.0012416210187196858, 0.0009312157640397644, 0.28743526583360723, 0.2218624707959136, 0.09944035045633577, 0.10385992158772847, 0.07469075212053665, 0.3398650200040987, 0.15998847495641577, 0.0013767049691384636, 0.009636934783969245, 0.9884741678414168, 0.9107339285056668, 0.012524828093398168, 0.07693822971658874, 0.15339457290305558, 0.043499953509821734, 0.01419472167162604, 0.0888314840095307, 0.039836799530047276, 0.06318940615110946, 0.059526252171335, 0.5252047018501634, 0.011905250434267002, 0.9858985051092323, 0.010774847050374124, 0.6866456562863552, 0.001790137651398319, 0.11584747944049122, 0.1559977096218535, 0.0056261469043947165, 0.026596330820775026, 0.0076720185059927955, 0.2068043443449824, 0.7927499866557659, 0.9990298610900762, 0.3113148909095263, 0.2585562789677914, 0.04416091221789665, 0.1346712420379397, 0.09262067429771244, 0.04322298133893247, 0.03376551164271036, 0.06690573603277794, 0.012036779613373601, 0.002735631730312182, 0.9986400450780042, 0.9996034250722947, 0.006314182360000835, 0.9929051761101314, 0.9942595474519954, 0.005447997520284907, 0.9976831105164007, 0.10759320419153993, 0.8797813542738996, 0.009931680386911378, 0.0024829200967278445, 0.9975974029624923, 0.9975095083829236, 0.9946414419253532, 0.19884127573854557, 0.6643061734279883, 0.0001959027347177789, 0.0001959027347177789, 0.12185150099445848, 0.008423817592864492, 0.0013713191430244523, 0.004701665633226693, 0.9996909140772788, 0.994766781179634, 0.9925294442542925, 0.9537461571512148, 0.04363544509842159, 0.4594672599742486, 0.0019759199826874223, 0.00013172799884582815, 0.0006586399942291408, 0.03161471972299876, 0.505967243566826, 0.0002634559976916563, 0.33280998196934813, 0.011371639475034674, 0.006822983685020804, 0.6459091221819695, 0.0022743278950069345, 0.05829947499661228, 0.46033391966131565, 0.11976167015578944, 0.11533386192819862, 0.03531704181530762, 0.14179528728832463, 0.01802750492661971, 0.04469977829758338, 0.002793736143598961, 0.003637128186949591, 0.12184470246654286, 0.24543004353975062, 0.0013054789549986736, 0.0021757982583311226, 0.005657075471660919, 0.00043515965166622447, 0.03829404934662776, 0.5765865384577474, 0.008268033381658265, 0.0049313132377883755, 0.7328690134928569, 0.0003793317875221827, 0.0003793317875221827, 0.2590836108776508, 0.0003793317875221827, 0.0011379953625665481, 0.0007586635750443654, 0.9970601626623689, 0.9970656689096064, 0.08856613884605978, 0.000345961479867421, 0.07680344853056746, 0.2951051423269101, 0.014184420674564262, 0.013492497714829419, 0.5109851057641809, 0.06624591522860442, 0.08117996548245165, 0.013019428426430927, 0.21941566142190944, 0.05897035228442243, 0.07505317563471946, 0.44610688578800084, 0.02412423502544554, 0.016082823350297027, 0.0003829243654832625, 0.9922550819184246, 0.12551072562727217, 0.12016984368568612, 0.753064353763633, 0.9954676918990167, 0.9944795451753, 0.9968493004470194, 0.02478465690957625, 0.3653442018522721, 0.5929958653180095, 0.011015403070922778, 0.004589751279551158, 0.9669707085070787, 0.032232356950235956, 0.8087013854944902, 0.03953651217973063, 0.1141167510642225, 0.01347835642490817, 0.001797114189987756, 0.01886969899487144, 0.002695671284981634, 0.9054696072888708, 0.0032376744003177744, 0.07878341040773251, 0.008633798400847398, 0.0021584496002118496, 0.0010792248001059248, 0.7965923452954229, 0.09009383074587211, 0.009671089176110566, 0.03817535201096276, 0.06158956791101992, 0.004072037547836027, 0.28160603598979567, 0.12419548253908938, 0.012997201661067494, 0.580541674194348, 0.06514400051387653, 0.0400886157008471, 0.004008861570084709, 0.8899672685588055, 0.0026548261497827846, 0.18495288843486735, 0.00044247102496379747, 0.00044247102496379747, 0.8110493887586407, 0.996805988037378, 0.9953091332576848, 0.16617282979907352, 0.10901409047102342, 0.6022291916831672, 0.029463267694871193, 0.0015713742770597971, 0.030838220187298516, 0.0005892653538974239, 0.014142368493538173, 0.043016370834511944, 0.0029463267694871194, 0.9988750801768217, 0.0023832961217055623, 0.9938344827512196, 0.9963982794125712, 0.9998942615603224, 0.1713695843936078, 0.011355815833311361, 0.8165863931044806, 0.9990254474667141, 0.9910274730142073, 0.0446225521751552, 0.9504603613308057, 0.7689763049529013, 0.008872803518687323, 0.004436401759343661, 0.2173836862078394, 0.0007394002932239435, 0.18718349252569222, 0.0014021235395182939, 0.18928667783496966, 0.011216988316146351, 0.6106248014602169, 0.10103521959554596, 0.12369732492538804, 0.007554035109947361, 0.7412396951635848, 0.026439122884815765, 0.997944777150952, 0.9973086093216231, 0.9689788362212752, 0.028957988208911673, 0.9947713506586202, 0.14215083567678707, 0.33865346146528685, 0.03344725545336166, 0.009121978760007726, 0.4762433077620701, 0.9970461946951823, 0.991642796129473, 0.00413199624252478, 0.1827469247262096, 0.5189411644589076, 0.16903620992146828, 0.02009652717955234, 0.09991918186469015, 0.0011269080661431218, 0.00413199624252478, 0.9940348124286434, 0.004114368451552703, 0.1803992321065416, 0.08038842974572205, 0.017406943448876822, 0.7073548837861763, 0.008861716664882746, 0.001265959523554678, 0.9973179111640696, 0.015451831131491697, 0.9832983447312897, 0.0015778311082708624, 0.1498939552857319, 0.030767706611281816, 0.131748897540617, 0.014989395528573191, 0.5688081145316458, 0.04891276435639673, 0.004733493324812587, 0.0481238488022613, 0.013715557024157995, 0.0027431114048315987, 0.030174225453147588, 0.9546027688813964, 0.9963762065375564, 0.9986206253699602, 0.0007167910610534899, 0.8364951682494227, 0.10106753960854208, 0.027238060320032616, 0.03440597093056752, 0.9740496579572916, 0.012844610874162086, 0.012844610874162086, 0.0012148839772564667, 0.07410792261264446, 0.9196671707831452, 0.004252093920397633, 0.0068333656663714555, 0.06254266881085739, 0.006949185423428599, 0.15346117810071488, 0.5532130695834451, 0.061616110754400245, 0.09306117479541466, 0.043548228653485885, 0.00486442979640002, 0.013898370846857197, 0.5373179241195769, 0.001909445359344623, 0.30111953316864704, 0.09852738054218255, 0.023868066991807785, 0.010311004940460963, 0.0001909445359344623, 0.02654129049489026, 0.0001909445359344623, 0.27487891037104345, 0.16415826871169886, 0.07465355838827663, 0.10090827341648048, 0.06086320301992713, 0.07942714293885915, 0.20433593867910174, 0.028508907732645604, 0.012331760089004842, 0.20704053251136337, 0.014010261598513311, 0.7783478665840728, 0.9138404696424828, 0.00564099055334866, 0.020683632028945083, 0.03008528295119285, 0.026324622582293743, 0.8798499657957113, 0.10939933437142442, 0.009310581648631865, 0.0011638227060789832, 0.010891822393472826, 0.02010797980333445, 0.940885888297691, 0.027648472229584865, 0.044541757043468175, 0.02004379066956068, 0.0523365645260751, 0.825136049230248, 0.0384172654499913, 0.018930246743473975, 0.0011135439260867043, 0.9921327205859741, 0.0007001620392331351, 0.15911182341572996, 0.20392219392665062, 0.4425024087953414, 0.08121879655104368, 0.04691085662862005, 0.005601296313865081, 0.026606157490859136, 0.03185737278510765, 0.0015753645882745542, 0.0043173488177009065, 0.7720545950958186, 0.13233612680344084, 0.06138143753861724, 0.00037542163632181796, 0.019709635906895444, 0.002627951454252726, 0.007320721908275451, 0.9971579996559797, 0.010157345800438504, 0.002116113708424688, 0.00016928909667397504, 0.07033961966803663, 0.013331516363075537, 0.043803553764391046, 0.858930554249581, 4.232227416849376e-05, 0.001100379128380838, 0.0006835637417256813, 0.0006835637417256813, 0.9980030629194946, 0.0006835637417256813, 0.002346846274888357, 0.7529465131933478, 0.08487760694179558, 0.016036782878403773, 0.08487760694179558, 0.015645641832589048, 0.011734231374441784, 0.01955705229073631, 0.01212537242025651, 0.3228134566201609, 0.12083719072044416, 0.05092977749916156, 0.03166166776088561, 0.1033119250790977, 0.083172393292357, 0.20187944122766513, 0.07968670509849804, 0.005228532290788449, 0.0005809480323098277, 0.9982118511227553, 0.9140611280805893, 0.08137604245852037, 0.00378493220737304, 0.009719588025828214, 0.25054938022134954, 0.18521214960328208, 0.5540165174722083, 0.9927033487836574, 0.01508710161334765, 0.0779500250022962, 0.9060642691127117, 0.09304910197516593, 0.18982569023123613, 0.05950172544702747, 0.11361930404385988, 0.19603816736607657, 0.10505989110252413, 0.17408741482297363, 0.04376345003876498, 0.017118825882671475, 0.007869137704131243, 0.9983599433932208, 0.0013872532793791858, 0.002247876410798777, 0.9976075511124973, 0.9948134810769083, 0.9950952125876767, 0.9966659607935083, 0.9962577723927148, 0.994398019610238, 0.06968946215533675, 0.045783513598932256, 0.8226543994137258, 0.052882855897500865, 0.0018834989771712636, 0.0010141917569383727, 0.004346536101164454, 0.0017386144404657818, 0.0017334614022831492, 0.12076447769239274, 0.019356985658828502, 0.031780125708524405, 0.0034669228045662985, 0.13087633587237776, 0.21957177762253224, 0.20425953523569776, 0.2657974150167496, 0.002311281869710866, 0.9912908980007215, 0.9970133154049904, 0.0013727546951861204, 0.1981342610051967, 0.03294611268446689, 0.004575848983953735, 0.47863380372156067, 0.0004575848983953735, 0.2841602219035269, 0.9955457650602547, 0.011463047755263241, 0.9858221069526388, 0.9993718997867634, 0.03727187430662551, 0.08471902651596477, 0.3240910337521811, 0.3927882138467458, 0.030750701728090732, 0.05953380828162355, 0.058859204221775124, 0.011974222062309553, 0.00011243400997473759, 0.87592419566499, 0.0065858962080074445, 0.019757688624022333, 0.027990058884031638, 0.01811121457202047, 0.04116185130004653, 0.0032929481040037223, 0.004939422156005583, 0.9970903096831835, 0.9966956280788161, 0.9980472631560081, 0.9945400365320476, 0.990576239010739, 0.1303565521516433, 0.20014993597444858, 0.07432752476721027, 0.19763996509451012, 0.2017692720260218, 0.06412570764229907, 0.06760728015318146, 0.04331723937958333, 0.01518127548349883, 0.00554622597663824, 0.9932580483950767, 0.9983153798248872, 0.9942378734910282, 0.004151039404102538, 0.9920984175805068, 0.9928419586408097, 0.9958076407833768, 0.9953885099510877, 0.9994473342629991, 0.48643741977500565, 0.08505372848760578, 0.06252808350002069, 0.05728504544256554, 0.11942475575314511, 0.08350023572984129, 0.06913042772051976, 0.03281753450777483, 0.0033011721102495393, 0.0005825597841616835, 0.8052746057898738, 0.05858771104529066, 0.003431916128176022, 0.017404717507178397, 0.0004902737325965746, 0.02353313916463558, 0.08334653454141767, 0.0014708211977897238, 0.006618695390053757, 0.993620816067217, 0.9970063020353097, 0.9987620493557697, 0.008303048175393825, 0.9894465742344307, 0.0013838413625656375, 0.003830768986898142, 0.9921691676066188, 0.0005622090790702154, 0.35756497428865697, 0.055658698827951325, 0.5852596513120942, 0.9977620276184679, 0.016997094147707597, 0.8038789609202691, 0.07356119434417714, 0.0005572817753346753, 0.06966022191683441, 0.006408740416348766, 0.02730680699139909, 0.0013932044383366882, 0.9946420044416076, 0.9961264335157575, 0.05525782219949762, 0.9393829773914596, 0.9909543334568334, 0.9981128874931083, 0.0012432895957811513, 0.0004973158383124606, 0.2002747265207112, 0.7969695302782941, 0.04575611045406461, 0.9429027047141171, 0.003813009204505384, 0.006536587207723515, 0.15507838622034706, 0.20547886174195987, 0.0009692399138771691, 0.014538598708157538, 0.013569358794280369, 0.026169477674683566, 0.0009692399138771691, 0.038769596555086765, 0.5437435916850919, 0.0009692399138771691, 0.9995649331923595, 0.9926043142433219, 0.015694745038297313, 0.00013889154901148063, 0.892655985496786, 0.07777926744642916, 0.00013889154901148063, 0.007222360548596993, 0.006111228156505148, 0.00013889154901148063, 0.005760244988091661, 0.00015158539442346476, 0.2936209089982512, 0.0003031707888469295, 0.6545457331205209, 0.000606341577693859, 0.010307806820795604, 0.0010610977609642534, 0.033197201378738786, 0.00015158539442346476, 0.0005237988064752629, 0.0005237988064752629, 0.2854703495290183, 0.004190390451802103, 0.6694148746753861, 0.017023461210446046, 0.021999549871961042, 0.0005237988064752629, 0.007221939617801256, 0.1332046640616676, 0.8473742484886806, 0.0024073132059337517, 0.008826815088423756, 0.01313902838841289, 0.9861186569408832, 0.018080569576537923, 0.0002303257270896551, 0.6990385817171032, 0.0002303257270896551, 0.00898270335649655, 0.21305129755793095, 0.055163011637972395, 0.0004606514541793102, 0.0047216774053379295, 0.9678289722821741, 0.031971953731605975, 0.9952274690402548, 0.0002319997876598212, 0.00951199129405267, 0.02285197908449239, 0.2111198067704373, 0.3701556612112447, 0.3007877247009582, 0.004059996284046871, 0.041991961566427635, 0.038975964326849966, 0.0007498401793815157, 0.5177646438629366, 0.18014910309640916, 0.10853936596547441, 0.14265709412733338, 0.026806786412889187, 0.002062060493299168, 0.021182985067527818, 0.00018746004484537893, 0.9987846286398926, 0.029542674535250342, 0.08486804684671917, 0.23419283813398453, 0.10742790740091034, 0.0026856976850227585, 0.5408995137635835, 0.9969510010021397, 0.002249906096110093, 0.052247819343001045, 0.5053539081429503, 0.14711885972897662, 0.1944918825304058, 0.04874796541571868, 0.04924794454818759, 0.0004999791324689095, 0.011934837103193298, 0.8809401636794553, 0.03990711156380259, 0.03393969301220594, 0.010442982465294135, 0.021631892249537852, 0.0007459273189495811, 0.014312005486875936, 0.9548152231958661, 0.030498202168461816, 0.000255571526551356, 8.5190508850452e-05, 0.9989100033395342, 0.9916567007382586, 0.9929819088502946, 0.003719033366480504, 0.9953893511613902, 0.9888465737497923, 0.010623239825423016, 0.000885269985451918, 0.9941023166587304, 0.9942541961932335, 0.0016752267499591652, 0.4632932645164847, 0.3670607945466082, 0.16082176799607986, 0.003536589805469349, 0.002605908277714257, 0.0007445452222040735, 0.991305951670507, 0.9893325103339778, 0.9798274206626965, 0.019087547155766816, 0.06559957855581892, 0.1965693665116672, 0.6183792440086987, 0.0016055840905270368, 0.07741209007898213, 0.04048365599686028, 0.9949678347150207, 0.990071557403275, 0.0074441470481449255, 0.20149195786584806, 0.7430779173416275, 0.011601052119548828, 0.042740718335179895, 0.0009158725357538549, 0.9956849336067003, 0.8263861986012867, 0.0015922662786151958, 0.034499102703329246, 0.09553597671691175, 0.0005307554262050653, 0.04086816781779003, 0.9979462571254979, 0.0011674315600403464, 0.9985431276878429, 0.9967335164568724, 0.004052562763730222, 0.008105125527460445, 0.9847727515864441, 0.9962578030497914, 0.045163986470281456, 0.5644762738972963, 0.011327775108181342, 0.24141401237046212, 0.09650675936320728, 0.0058845584977565415, 0.01662387775616223, 0.009709521521298293, 0.005590330572868714, 0.003236507173766098, 0.9860560213950683, 0.5631536074553085, 0.10060980922055397, 0.03606273681152324, 0.06611501748779261, 0.01803136840576162, 0.06023522344243556, 0.12870215854837097, 0.020644610203698087, 0.0062717803150475196, 0.00013066208989682333, 0.9946710930418017, 0.9952180292054789, 0.03518879925051446, 0.7827064166624849, 0.005131699890700026, 0.10849879768908625, 0.000733099984385718, 0.06744519856348605, 0.9923544525752149, 0.9962942366163328, 0.0034177554919788094, 0.958680415500056, 0.03246867717379869, 0.005126633237968214, 0.00034177554919788097, 0.9946962737363532, 0.18837381122963295, 0.12881012948568357, 0.5483966560563613, 0.11384585476183424, 0.011736686057921056, 0.008509097391992765, 0.18782606737715898, 0.1111857110174169, 0.08030079129035664, 0.2740750654297643, 0.01715828873725569, 0.02996981099440661, 0.06314250255310094, 0.007778424227555914, 0.0011438859158170462, 0.22717574288126538, 0.4064335656268046, 0.18900882977771952, 0.01377740900429846, 0.3900728924342002, 0.38392466066337366, 0.23295428628793247, 0.0625759557208685, 0.0575181247133547, 0.013115073426460223, 0.047814146617543324, 0.15244067408692777, 0.04034502408319154, 0.008880610257378895, 0.00041168391921624016, 0.013876262535106366, 0.024494619953274715, 0.05514306068298791, 0.029803798662358893, 0.036802261506151665, 0.25459925173108205, 0.19981818050553168, 0.375383067362747, 0.00024132630495837158, 0.009894378503293236, 0.02866914225514713, 0.5816630632076901, 0.04193529814339844, 0.2541047577521426, 0.0003561384131074178, 0.026532311776502622, 0.021635408596275628, 0.04371599020893553, 0.0013355190491528167, 0.009202337366580908, 0.9907849898018778, 0.005842053273008416, 0.9931490564114308, 0.011152852195811594, 0.004879372835667572, 0.04028967855736938, 0.1256089978553281, 0.7989624491774531, 0.014638118507002716, 0.003345855658743478, 0.0008364639146858695, 0.9989835281028423, 0.010065159099982238, 0.9897406448315867, 0.9960714111892601, 0.9946910064532151, 0.48066431626110084, 0.18377419914415624, 0.046531063210412955, 0.031490719546441094, 0.021150483277460434, 0.06219808786038365, 0.13160300705975383, 0.03525080546243406, 0.0068934908459871045, 0.0004700107394991208, 0.9899099022498877, 0.07071702062380447, 0.003877434551174658, 0.09361234844978818, 0.44387393623923227, 0.1800237470188234, 0.14032620280441618, 0.033973712257911286, 0.008308788323945696, 0.0005539192215963797, 0.024557085490772835, 0.46689629242416747, 0.08211155142769916, 0.0981930614997907, 0.1116120699043174, 0.042706526747739774, 0.09254855796455327, 0.08381555249494065, 0.016401010272199312, 0.004260002668103718, 0.0014910009338363012, 0.9955402594229319, 0.9947879697101311, 0.9864084968616267, 0.012655276509985233, 0.9912336841945435, 0.21286967947888485, 0.13576489500855016, 0.012699611559819836, 0.002116601926636639, 0.008768779410351792, 0.6141169304284306, 0.0123972398560146, 0.0009071151114157025, 0.9972574352588823, 0.9973831456094073, 0.9990104425149194, 0.11510132547262263, 0.0031421338850284915, 0.014883792086977064, 0.18836265763407642, 0.6297497807467629, 0.009426401655085475, 0.030098335109220286, 0.0077726469787546895, 0.000992252805798471, 0.000661501870532314, 0.20276050332604922, 0.02151366435747014, 0.0424490044042556, 0.5610902462262777, 0.08061840890944456, 0.004279599899066641, 0.06616030114232753, 0.002544626967012597, 0.00520491879616213, 0.013301459145747667, 0.9982841504549622, 0.015039644759633925, 0.9813368205661136, 0.0016706332351620664, 0.9973680413917536, 0.04886305898575435, 0.8472131939319898, 0.005513730391388623, 0.02148453566299705, 0.020533892492067975, 0.05114460259598412, 0.0007605145367432583, 0.0009506431709290729, 0.003612444049530477, 0.004780599103236556, 0.0002390299551618278, 0.002390299551618278, 0.7307145729297077, 0.0712309266382247, 0.17927246637137087, 0.010278288071958595, 0.0009561198206473112, 0.02926580521532453, 0.22587198384135088, 0.11706322086129813, 0.627338798974649, 0.9953835747932758, 0.9946750439837447, 0.99420640111321, 0.9970886800034541, 0.9987294453210377, 0.9919748562891971, 0.006318311186555396, 0.9955539787352605, 0.9903521307736476, 0.7596634348044512, 0.23997653818265935, 0.9971313481536036, 0.9989559781282692, 0.0004795399882806797, 0.4655461395317617, 0.14909334181090225, 0.08191414890721793, 0.11055576457089125, 0.000871890887783054, 0.07280288912988502, 0.07912409806631215, 0.03722974090833641, 0.0023976999414033985, 0.9964175212395474, 0.9993025206313562, 0.9953207861143941, 0.9988396485927454, 0.48518574756253696, 0.1919137429371274, 0.043586870642597704, 0.05185334610929727, 0.024047928630398733, 0.05100791111838481, 0.09807045894584483, 0.042271749545622773, 0.012023964315199366, 9.393722121249505e-05, 0.12094675680729373, 0.10947541001612988, 0.049866311165241935, 0.5399390078690272, 0.06259479185132785, 0.011785630264894365, 0.028547415530521907, 0.04457587269077824, 0.032214056057377934, 5.2380578955086065e-05, 0.9983240522490322, 0.9976854821981284, 0.9993578542906721, 0.00023891289925795752, 0.2917126499939661, 0.00023891289925795752, 0.7076600076020702, 0.9987020984165385, 0.8794648593922983, 0.00501595927410056, 0.08359932123500935, 0.03176774206930355, 0.999438330697275, 0.9993512545051657, 0.997944666759424, 0.9962750764675692, 0.9966042695346125, 0.99740394709254, 0.9937177837805311, 0.00014556402804719233, 0.35954314927656505, 0.003639100701179808, 0.6051096645921785, 0.013974146692530463, 0.0005822561121887693, 0.004221356813368577, 0.010917302103539424, 0.0018923323646135002, 0.04956967240366577, 0.4552655945900923, 0.006784675831786656, 0.1949555830848084, 0.0001384627720772787, 0.18235547082577602, 0.09138542957100393, 0.018000160370046227, 0.0013846277207727868, 0.9993347353080216, 0.9956231839882071, 0.9897347208144147, 0.003687975336832771, 0.0018439876684163854, 0.9090859205292781, 0.02673782119203759, 0.0027659815026245785, 0.02673782119203759, 0.028581808860453976, 0.18247239950142075, 0.14989518031332483, 0.0018986722839687811, 0.5721998683160653, 0.004496855409399745, 0.01708805055571903, 0.047067086618384, 0.004197065048773095, 0.017287910796136795, 0.0034975542073109127, 0.9937226940911797, 0.9969398934650558, 0.013626836730708188, 0.9811322446109896, 0.9973105888126177, 0.3263301926846113, 0.00399972117926344, 0.09528747515304078, 0.004470276612117963, 0.08046497901812333, 0.054819707927551864, 0.01788110644847185, 0.4075010048520164, 0.007058331492817836, 0.0021174994478453508, 0.9968130227420547, 0.9966257646597144, 0.1716072971540995, 0.052479295765779664, 0.3939445802151193, 0.019242408447452543, 0.045656987316228304, 0.0020991718306311866, 0.012595030983787118, 0.30123115769557524, 0.0005247929576577966, 0.0006997239435437288, 0.11265569435108296, 0.7605500070177738, 0.018610522194562162, 0.027791713143879494, 0.01439213716379474, 0.036228483205414344, 0.026054731072387028, 0.0027295432552024504, 0.0007444208877824865, 0.027341175069006643, 0.00027899158233680245, 0.6179663548760175, 0.0022319326586944196, 0.07504873564859986, 0.27703864126044486, 0.001085097559858912, 0.15733914617954223, 0.010127577225349845, 0.08337166251582641, 0.013744569091546218, 0.3213697273115478, 0.17687090225700267, 0.23564702008269373, 0.000542548779929456, 0.02375697900306473, 0.026894693211016674, 0.9220397322510216, 0.0053789386422033346, 0.0008964897737005559, 0.02106750968196306, 0.9759199152611719, 0.012985628350455716, 0.009988944884965935, 0.3548765594870767, 0.005329965790410163, 0.5382025921386263, 0.0002479053856004727, 0.09147708728657443, 0.00012395269280023635, 0.0004958107712009454, 0.0002479053856004727, 0.008924593881617019, 0.0010496098861616809, 0.002624024715404202, 0.06087737339737749, 0.13802370003026104, 0.08711762055141951, 0.003673634601565883, 0.4607787400249779, 0.14064772474566523, 0.09498969469763212, 0.011020903804697649, 0.0017728618131180353, 0.003900295988859678, 0.0024820065383652497, 0.991738898258229, 0.0015972899754700283, 0.00019966124693375354, 0.003993224938675071, 0.0005989837408012606, 0.30188780536383536, 0.014175948532296501, 0.004791869926410085, 0.63192784654533, 0.03354308948487059, 0.007387466136548881, 0.992594703969896, 0.197882919244359, 0.015105566354531221, 0.0037763915886328053, 0.031721689344515566, 0.0007552783177265611, 0.698632443897069, 0.011329174765898417, 0.040785029157234295, 0.9976208116787227, 0.9944857753390604, 0.0051661598718912224, 0.002384537140963378, 0.005961342852408446, 0.9883906449293203, 0.001192268570481689, 0.03172909662914686, 0.004230546217219581, 0.8757230669644532, 0.08461092434439162, 0.0031081673722752395, 0.9770006106851835, 0.018649004233651435, 0.1831357694760928, 0.007267292439527492, 0.8081229192754572, 0.03196878170909904, 0.09170387617023246, 0.3506059815608233, 0.00015008817703802366, 0.3012269713153135, 0.07324303039455554, 0.15113879427728982, 0.01965869635548143, 0.9796583683814912, 0.9978821899638012, 0.9975796398948766, 0.9931371463788798, 0.9945628096313986, 0.019464812791638097, 0.0023357775349965716, 0.014793257721644954, 0.9631189369302531, 0.9996836978763739, 0.9990254937912102, 0.9809960817758576, 0.011819229900913948, 0.005909614950456974, 0.9965582136532084, 0.31018538452855193, 0.02330706507125483, 0.005754830881791316, 0.0782656999923619, 0.011221920219493066, 0.5179347793612185, 0.040859299260718344, 0.0034528985290747894, 0.006905797058149579, 0.002301932352716526, 0.9983192688731262, 0.02422186571646531, 0.002201987792405937, 0.9391477934611323, 0.033580313834190544, 0.0005504969481014843, 0.9943879855795101, 0.6071074360944936, 0.1176604198039977, 0.015501696777632528, 0.04548858562616758, 0.006353154417062511, 0.03862717885574007, 0.14154828041215275, 0.014231065894220025, 0.013214561187490023, 0.08536204418997742, 0.20245462601824948, 0.47957948463096406, 0.017244857412116652, 0.20521380320418817, 0.00034489714824233306, 0.006725494390725494, 0.002931625760059831, 0.994642213318073, 0.9878216720409466, 0.0110412258424845, 0.00017378500492161057, 0.0641266668160743, 0.007125185201786033, 0.18925187035963392, 0.00034757000984322114, 0.46748166323913243, 0.0886303525100214, 0.15015024425227153, 0.032845365930184396, 0.989659007667357, 0.0006368462082801525, 0.008915846915922135, 0.9920786682009323, 0.006181175502809546, 0.004564399749593943, 0.00024023156576810225, 0.9561216317570469, 0.021861072484897305, 0.0007206946973043068, 0.016335746472230954, 0.37482132549433234, 0.08919693275087183, 0.10861772681793569, 0.10084940919111014, 0.0966878104624536, 0.09960092957251318, 0.08267709474264326, 0.03273790999876478, 0.010681436736885118, 0.004300318686278425, 0.3350507495360993, 0.007146283419145678, 0.0002748570545825261, 0.0005497141091650522, 0.19734736519025373, 0.38644901874303167, 0.030783990113242923, 0.04232798640570902, 0.06622705403596667, 0.9212531779845259, 0.008714086057364036, 0.0017428172114728072, 0.0020913806537673687, 0.21557089081094688, 0.14467202005534657, 0.022674864070484784, 0.3851533249155584, 0.13509109157486004, 0.09676737765291393, 0.46639202031050586, 0.0038544795066983955, 0.011563438520095186, 0.0011731024585603814, 0.2738356310410947, 0.0036868934411897697, 0.23277704499148139, 0.00569792622729328, 0.0008379303275431295, 0.0001675860655086259, 0.01010930429944745, 0.9890269372959423, 0.9989416572387189, 0.07632343632044379, 0.023327341071233562, 0.02038311355738855, 0.26996301511563503, 0.02015663451786201, 0.09625359179877926, 0.00022647903952653943, 0.48534458170537403, 0.00815324542295542, 0.9972242223584888, 0.9940597449165389, 8.548331136702825e-05, 0.000341933245468113, 0.0009403164250373108, 0.9788693984638405, 0.011967663591383954, 0.0005128998682021695, 0.007351564777564429, 0.0012096403887466875, 0.5346610518260358, 0.0006048201943733438, 0.4632922688899813, 0.998867604956285, 0.0023652504344265322, 0.011611229405366612, 0.00021502276676604838, 0.02257739051043508, 0.791283781699058, 0.07805326433607557, 0.05547587382564048, 0.03827405248435661, 0.9917737271382344, 0.0011270687536324504, 0.9860241496064466, 0.0006440392877899717, 0.011270687536324504, 0.00032201964389498583, 0.00048302946584247874, 0.5285763143997873, 0.1281725352540468, 0.02870342690900484, 0.11661895461142847, 0.004152068043440952, 0.053254785774568734, 0.12745043646388313, 0.00938728427212737, 0.003610493950818219, 0.0857903527932525, 0.002318658183601419, 0.8926834006865464, 0.018549265468811353, 0.08149714228264908, 0.04276084625941464, 0.29630751113876735, 0.04930074039320747, 0.33101925692582157, 0.029010299619132287, 0.16986955788543934, 0.9978372324126312, 0.0015689264660575964, 0.9989631829319012, 0.19858925785740586, 0.013463678498807178, 0.7876251921802199, 0.027210562019688106, 0.04412523570760234, 0.016179253092787522, 0.12796318355204678, 0.7751333072635477, 0.005883364761013645, 0.002206261785380117, 0.002810738068207301, 0.002810738068207301, 0.9668938954633115, 0.02529664261386571, 0.03090148144748944, 0.9682464186880024, 0.1832811998147039, 0.02440024103224208, 0.007264193895094971, 0.10523768078791432, 0.07748473488101303, 0.19278053029290498, 0.16763524373296088, 0.24046344406583608, 0.0011175682915530725, 0.7351295100707974, 0.048537397139289826, 0.009895974174029966, 0.04382502848498985, 0.0009424737308599966, 0.06220326623675978, 0.08812129383540969, 0.007068552981449975, 0.004241131788869985, 0.9906533136442218, 0.034935001935556265, 0.9150283199274544, 0.0008957692803988785, 0.03000827089336243, 0.0013436539205983178, 0.012092885285384861, 0.005822500322592711, 0.29129856050032654, 0.09175081778470738, 0.0049372637372936705, 0.16663265113366138, 0.015634668501429957, 0.009874527474587341, 0.40197555594465967, 0.0020571932238723626, 0.015634668501429957, 0.00041143864477447256, 0.999017307526335, 0.9909947123643654, 0.027820367674965714, 0.14193102830787593, 0.09524939441259447, 0.01367441800972891, 0.007072974832618401, 0.009430633110157868, 0.6021459240835799, 0.10232236924521287, 0.9982472835791342, 0.2329308268251708, 0.038209473170059564, 0.04629224634064909, 0.006613178048664155, 0.17341222438719342, 0.024983117072731254, 0.4768836170647819, 0.036429205993583916, 0.02856186573205875, 0.03984978871598616, 0.031127302773860433, 0.8571980302340028, 0.0008551456806005613, 0.00017102913612011228, 0.00017102913612011228, 0.0058149906280838175, 0.021247695492188547, 0.010623847746094274, 0.06507106744482742, 0.18724531652491158, 0.7003771626612649, 0.0005311923873047137, 0.0013279809682617842, 0.013014213488965485, 0.00026559619365235684, 0.014298335074344245, 0.4599100835483289, 0.05317562630954471, 0.21636571505061414, 0.02091574634842092, 0.10138819416353191, 0.10032468163734103, 0.03084186325953593, 0.002599697286244408, 0.00011816805846565491, 0.003835083807104088, 0.1483292414009181, 0.045017983766467984, 0.6682486030655523, 0.04619800955326925, 0.03793782904566044, 0.01404230686293497, 0.010974239817251699, 0.0010620232081211321, 0.024367532497445974, 0.9965324434602534, 0.9955137623963872, 0.001060215439467056, 0.9976627285384997, 0.008010682916577685, 0.007009347552005474, 0.07109481088462695, 0.007009347552005474, 0.36298406965742636, 0.014519362786297054, 0.011014689010294317, 0.480140307312375, 0.0375500761714579, 0.04367608414878602, 0.02399108847609373, 0.022760776246550464, 0.9085855815177036, 0.9985303167944264, 0.9050939522395208, 0.0876735917182408, 0.0008271093558324603, 0.00011815847940463718, 0.001181584794046372, 0.005080814614399399, 0.040424640146287744, 0.024254784087772645, 0.9343866822384795, 0.31673757494313043, 0.02550162505376429, 0.0010163691144616203, 0.012011634989091878, 0.36062624124942766, 0.19153937947990354, 0.05063366133863345, 0.03917640950288428, 0.000554383153342702, 0.002309929805594592, 0.017762527717072932, 0.9794765283985932, 0.06070479683914846, 0.935405733112333, 0.9960566577793085, 0.22039648281103466, 0.21858698787826755, 0.07672258514932569, 0.07780828210898597, 0.007237979731068461, 0.02207583817975881, 0.008685575677282153, 0.3528515118895875, 0.0003618989865534231, 0.015923555408350616, 0.0027797571968169255, 0.9951530764604594, 0.998569362263054, 0.04441398735792641, 0.0005768050306224209, 0.5022529804144731, 0.0990662640094008, 0.01629474211508339, 0.004037635214356947, 0.33310490518444813, 0.9941514446889151, 0.004159629475685838, 0.49572505122521987, 0.08113366671719432, 0.08741285069938044, 0.04758960491762111, 0.09600541825395092, 0.0773331079911343, 0.08906526753679785, 0.011566917861921797, 0.011566917861921797, 0.0023133835723843595, 0.012317180792600376, 0.8216635847180309, 0.12903143762345443, 0.0008370899567786663, 0.0003587528386194284, 0.030972328400810652, 0.00454420262251276, 0.00023916855907961894, 0.9979897628170102, 0.00029091960298060907, 0.0007272990074515227, 0.998726997032431, 0.16983433744891313, 0.0002542430201331035, 0.04957738892595518, 0.062289539932610355, 0.6816255369768505, 0.02694976013410897, 0.0002542430201331035, 0.004576374362395863, 0.0002542430201331035, 0.00432213134226276, 0.211395496249102, 0.03438733057767721, 0.0027212995421183406, 0.6686975147587159, 0.0004947817349306074, 0.00037108630119795554, 0.012245847939532532, 0.06951683375775033, 0.1674649025272792, 0.0022328653670303893, 0.02034388445516577, 0.7882014745617274, 0.0002480961518922655, 0.003969538430276248, 0.017614826784350848, 0.012976976089729563, 0.9862501828194469, 0.19613754154098903, 0.23269240642599093, 0.058022226574543125, 0.17432532263555156, 0.09104230499660854, 0.0864729468859833, 0.021467361689541217, 0.07078194356270417, 0.06586772823618268, 0.0032761435510143223, 0.9970818178235485, 0.9980551662996889, 0.9956345153290552, 0.004643348200590085, 0.013930044601770256, 0.9797464703245079, 0.9984342476681275, 0.07867980341460784, 0.9199484706938763, 0.06880662519752023, 0.04391912246650228, 0.05855882995533637, 0.8271434731191262, 0.9893713536929825, 0.9762266598526999, 0.018773589612551923, 0.9979693154776057, 0.9943109302078073, 0.02139072955662291, 0.003961246214189428, 0.3281892488455941, 0.1709277741422738, 0.45653362618533155, 0.004951557767736785, 0.009506990914054627, 0.0007922492428378856, 0.003565121592770485, 0.9959709141764821, 0.002174608982918083, 0.9972522587759057, 0.9952986078511873, 0.9970469541258807, 0.9966781872503974, 0.005905450143665164, 0.002952725071832582, 0.8946756967652724, 0.09670174610251707, 0.9250078185351205, 0.030054405656375755, 0.0367331624689037, 0.006678756812527946, 0.0016696892031319865, 0.006409549501114296, 0.9913436561723445, 0.9921383823347873, 0.6125895318885084, 0.09056147166373216, 0.03119035579959355, 0.02900155890137646, 0.018604773634845275, 0.06675830539562129, 0.12530862242292848, 0.018057574410291002, 0.007387189531482683, 0.9961812601952156, 0.9997926030880828, 0.9921246293660495, 0.9881577681686368, 0.09967540660451255, 0.025290774810100197, 0.05355693489197689, 0.0632269370252505, 0.6099539807141813, 0.14802541727088056, 0.9984259376981667, 0.9975950538816023, 0.9916668487030683, 0.9980081191182658, 0.004306232867237708, 0.9737469071041267, 0.0026913955420235676, 0.002153116433618854, 0.016955791914748476, 0.9983152138338878, 0.9989385310821964, 0.30624852589414503, 0.0755577846429046, 0.03167555388915223, 0.042028051989509305, 0.1579142247547004, 0.2829167764440865, 0.04372771585673211, 0.044963835032894146, 0.012824736452681148, 0.0020086936612633125, 0.0065218996947491135, 0.0065218996947491135, 0.07174089664224025, 0.9130659572648758, 0.03425457891459469, 0.017590189172359435, 0.8480322779937497, 0.06943495725931356, 0.0003085998100413936, 0.027156783283642637, 0.0030859981004139362, 0.920804558293454, 0.07691092730934547, 0.0021265694186915797, 0.9976456004309894, 0.9979542854410203, 0.9977770698289042, 0.9975155378931523, 0.9976710133795517, 0.056596119415686846, 0.0007510385514877876, 0.6642399531801275, 0.000643747329846675, 0.26667233138898516, 0.008905171396212339, 0.00214582443282225, 5.364561082055626e-05, 0.03787227865680531, 0.9571357696901704, 0.9608788451598756, 0.02343606939414331, 0.01447521933167675, 0.0006892961586512738, 0.9076813743306106, 0.032946692353198206, 0.0016473346176599105, 0.05683304430926691, 0.0008236673088299552, 0.019437812052014867, 0.9549771817243149, 0.0005048782351172693, 0.002776830293144981, 0.02170976411004258, 0.0002524391175586347, 0.035165223989230554, 0.33434871697696983, 0.04130518373338192, 0.09489028695506657, 0.0005581781585592151, 0.012279919488302732, 0.0022327126342368605, 0.46998600950685915, 0.008930850536947442, 0.07104406782012135, 0.006362155327175045, 0.8853999496985272, 0.018556286370927218, 0.015905388317937613, 0.002120718442391682, 0.994462476024199, 0.9955637261532018, 0.035584419483636644, 0.02046104120309107, 0.6654286443440053, 0.27844808245945674, 0.9195307249683737, 0.07947924633580182, 0.05424670689297808, 0.9421796460359351, 0.9908447114554687, 0.01834101820324163, 0.0016673652912037845, 0.010004191747222706, 0.016673652912037845, 0.14839551091713682, 0.7453122851680917, 0.051688324027317316, 0.006669461164815138, 0.06623338337962693, 0.9307533348610731, 0.26252688790494616, 0.0008584921121809881, 0.4829876623130239, 0.08481902068348163, 0.024381175985940064, 0.12087568939508313, 0.008241524276937485, 0.014937762751949194, 0.00017169842243619762, 0.9785439626076136, 0.020968089378511877, 0.00019874966235556283, 0.00019874966235556283, 0.9970562176166091, 0.9902320092636736, 0.9939341777179757, 0.9960466641788255, 0.9964905446932748, 0.03170731731288358, 0.01859756111621056, 0.039735772658132947, 0.06727642327284913, 0.1426829279079761, 0.03902439053893363, 0.6507113870333127, 0.008231707379306313, 0.00010162601702847301, 0.00203252034056946, 0.9933118464221581, 0.004055019545779193, 0.03591588740547285, 0.6638646284947078, 0.04394317099609697, 0.0007447995084084232, 0.12040925385936176, 0.09624464758655513, 0.03053677984474535, 0.004220530547647732, 0.9971035513410794, 0.11066751539310313, 0.002573663148676817, 0.885340123144825, 0.9987840484412358, 0.9982716668361733, 0.9927491058372314, 0.4272724866681292, 0.17166677670363445, 0.09603430038004679, 0.06280847263095624, 0.04400964903607607, 0.05610501615526254, 0.08481329714899427, 0.044301103665454054, 0.01092954860167452, 0.0018944550909569169, 0.6933024396579794, 0.05247963884125797, 0.024276295518405048, 0.05355065187883466, 0.011067134721625831, 0.04641056496165671, 0.10174623856978586, 0.012852156450920318, 0.004284052150306773, 0.6618933788583635, 0.09303044942765108, 0.011242350384006174, 0.059303398275632566, 0.012366585422406791, 0.05283904680482902, 0.10005691841765495, 0.007307527749604013, 0.0019674113172010806, 0.12802908957931397, 0.12671259508492513, 0.045089936432817515, 0.6997168237676645, 0.9974650884180027, 0.9944142355911945, 0.34817529921002544, 0.16440513560882017, 0.01333815703557135, 0.03102356525310669, 0.023415875684669702, 0.30924764089880236, 0.017487805891082436, 0.012547747729759712, 0.07993014105020164, 0.00039520465290581776, 0.9363124228772557, 0.0035567423471120825, 0.0017783711735560412, 0.008002670281002185, 0.04979439285956916, 0.0008993618829777867, 0.1911144001327797, 0.7703034527704744, 0.012366225890944568, 0.00022484047074444667, 0.00022484047074444667, 0.00022484047074444667, 0.0024732451781889135, 0.022034366132955775, 0.9960949466694127, 0.005950540500849093, 0.9877897231409494, 0.00867735450908714, 0.03470941803634856, 0.026032063527261423, 0.9299231582238386, 0.996203962385147, 0.0019013436199906593, 0.9963040568751055, 0.0005604200606226132, 0.03418562369797941, 0.8372675705701842, 0.12777577382195582, 0.9956983007197089, 0.9985777665634794, 0.06071660716993459, 0.936770510621848, 0.955753840550621, 0.0024760462190430593, 0.0016506974793620397, 0.03961673950468895, 0.015086296043969251, 0.9845205047953267, 0.9979706574085413, 0.9946443080936144, 0.002773156515226308, 0.19215663686755624, 0.18164175174732317, 0.3050472166748939, 0.12941397071056104, 0.07441303315857259, 0.024034023131961336, 0.021491962993003887, 0.056040871245198305, 0.012941397071056104, 0.16219201547171466, 0.11804849281420267, 0.10282658844954337, 0.13447765166295564, 0.1841325534869822, 0.09017666102925753, 0.11988561920304086, 0.07306514095036466, 0.010970269007633775, 0.00425163535702553, 0.0018422050859504754, 0.011053230515702853, 0.009211025429752377, 0.023027563574380943, 0.9533411319793711, 0.013244513750473837, 0.19792816488017756, 0.28196695771313335, 0.3339365472010333, 0.05775145843480724, 0.004975096535710984, 0.08410602386722218, 0.02050546545124122, 0.0053784827413091724, 0.0002689241370654586, 0.9982107890639441, 0.0028431084196650883, 0.9808724047844555, 0.014215542098325443, 0.9945963886543627, 0.9981153936962306, 0.04714354117129148, 0.03289084267764522, 0.0032890842677645218, 0.038372649790586084, 0.010963614225881739, 0.17103238192375514, 0.6896113348079614, 0.0065781685355290435, 0.02799675647171161, 0.03966207166825811, 0.016331441275165105, 0.9145607114092459, 0.0005832657598273252, 0.007841235574802615, 0.0036069683644092032, 0.3690085461502111, 0.00203872124944868, 0.5855834727262593, 0.0017250718264565754, 0.005018390767873674, 0.025248778550864423, 0.9934528914154891, 0.993766830024419, 0.40715115930727486, 0.09413722005242735, 0.04927094977716818, 0.06609580113039036, 0.11050111657405441, 0.07869523319399055, 0.15239678904570053, 0.02745242108166543, 0.013777427744343283, 0.0005121720351056983, 0.9957436221468956, 0.25989887333848055, 0.29003296189818684, 0.01833717356574416, 0.028422619026903448, 0.38190220146256504, 0.0019559651803460437, 0.0001833717356574416, 0.015036482323910211, 0.0017725934446886022, 0.0025672042992041827, 0.9921025623664513, 0.12239049312473116, 0.010447968925281928, 0.005472745627528629, 0.8612111528410961, 0.998442730543458, 0.9957484442218093, 0.00032889834455733014, 0.5387824738627007, 0.103602978535559, 0.2486941339631355, 0.00032889834455733014, 0.011276514670537034, 0.018559263728592203, 0.024808332275181477, 0.053563444685050914, 4.6985477793904306e-05, 0.0001013605220197614, 0.1071380717748878, 0.4491284730695627, 0.3183733996640705, 0.09254215660404215, 0.0001013605220197614, 0.0049666655789683085, 0.021995233278288222, 0.005676189233106638, 0.9980301995852818, 0.04841605746275969, 0.2117926166635789, 0.01591760793296209, 0.23036315925203468, 0.01039066073401692, 0.10456984100404261, 0.2958022140875455, 0.08224097432030412, 0.0002210778879578068, 0.0002210778879578068, 0.3196141131418314, 0.6801856412400531, 0.19598518483821958, 0.0007808174694749784, 0.02674299832951801, 0.0007808174694749784, 0.43823380474283163, 0.04645863943376121, 0.2775806103983548, 0.004099291714743636, 0.0005856131021062338, 0.008393787796856018, 0.9958356888574879, 0.23964954790996051, 0.06227734962133843, 0.2800115770316381, 0.14126710192587147, 0.006148902874005566, 0.00741021628405799, 0.2631415101721869, 0.9945262797272054, 0.9941662992469269, 0.9920049533594325, 0.9276235008890628, 0.009801977434946868, 0.06148513118284854, 0.0008910888577224426, 0.9895252213633272, 0.9766425063787711, 0.00032163428499218545, 0.02283603423444517, 0.3600453815769124, 0.22589733174066653, 0.10111004885040802, 0.07130701879443344, 0.009911400295751365, 0.05726586837545233, 0.09759976124566275, 0.05822947673753927, 0.018033242204769845, 0.0005506333497639647, 0.6013980069481761, 0.12209514254268632, 0.01561365391623944, 0.04756717820993876, 0.0029956429025343114, 0.052469139323176726, 0.12500000838756808, 0.02323892675905405, 0.009350036938213154, 0.00018155411530510976, 0.9972232658819917, 0.9967667129729475, 0.9952325762006101, 0.9978417710849059, 0.6642057398049799, 0.09782466433808953, 0.029531974139800615, 0.028740939118198812, 0.005273566810678682, 0.060382339982270904, 0.10230719612716642, 0.006855636853882285, 0.0050098884701447475, 0.9971492646191655, 0.0019536623523102774, 0.0005860987056930831, 0.7248001956635485, 0.09124642279124534, 0.021018371611877355, 0.04203674322375471, 0.09841935913498126, 0.002001749677321653, 0.009174686021057575, 0.010675998279048814, 0.0005004374193304132, 0.9933804211091539, 0.01273846531905393, 0.010615387765878274, 0.008492310212702619, 0.00042461551063513095, 0.011889234297783668, 0.9294833527803017, 0.02632616165937812, 0.3530820787224059, 0.08772260462926558, 0.14375043090433143, 0.0813724096753213, 0.10817809987913916, 0.05563445136641443, 0.10295183323562751, 0.05136352378677049, 0.012756586323410177, 0.003146999269211321, 0.9985803797683728, 0.29553705815001924, 0.0671748180025601, 0.005142569799239051, 0.11056525068363961, 0.015267004091490934, 0.12261814865060613, 0.19364989400259552, 0.18770379767222536, 0.002249874287167085, 0.967429171201947, 0.030614847189935034, 0.9957134011155708, 0.9975164302418196, 0.9976903850682913, 0.0017668695957764092, 0.0005889565319254698, 0.13133730661937976, 0.011190174106583925, 0.7032140991190109, 0.07185269689490731, 0.07950913180993842, 0.0005889565319254698, 0.9992081308458107, 0.9969233501934807, 0.9932720223733738, 0.002511299918701177, 0.9969860677243673, 0.005806129469926234, 0.015483011919803292, 0.9773651274375829], \"Term\": [\"acc\", \"adb\", \"add\", \"add\", \"add\", \"add\", \"add\", \"add\", \"add\", \"add\", \"add\", \"add\", \"addsubview\", \"aes\", \"age\", \"agent\", \"agent\", \"agent\", \"agent\", \"ajax\", \"ajax\", \"album\", \"alex\", \"align\", \"align\", \"alloc\", \"also\", \"also\", \"also\", \"also\", \"also\", \"also\", \"also\", \"also\", \"also\", \"also\", \"alt\", \"alt\", \"anaconda\", \"anchor\", \"android\", \"androidruntime\", \"angle\", \"animate\", \"animate\", \"apache\", \"apache\", \"apache\", \"api\", \"api\", \"api\", \"api\", \"api\", \"api\", \"api\", \"apk\", \"app\", \"app\", \"app\", \"app\", \"app\", \"app\", \"app\", \"app\", \"app\", \"app\", \"appender\", \"application\", \"application\", \"application\", \"application\", \"application\", \"application\", \"application\", \"application\", \"application\", \"application\", \"args\", \"args\", \"args\", \"args\", \"args\", \"arr\", \"array\", \"array\", \"array\", \"array\", \"array\", \"array\", \"array\", \"arraylist\", \"artifactid\", \"asc\", \"asp\", \"asp\", \"asp\", \"aspdotnet\", \"aspdotnet\", \"aspdotnet\", \"aspdotnet\", \"aspdotnet\", \"aspdotnet\", \"assembly\", \"assembly\", \"assembly\", \"assembly\", \"asset\", \"asset\", \"atomic\", \"attachment\", \"attachment\", \"audio\", \"audio\", \"auth\", \"auth\", \"authenticate\", \"authentication\", \"autocomplete\", \"awk\", \"ax\", \"axis\", \"axis\", \"azure\", \"background\", \"background\", \"background\", \"background\", \"background\", \"background\", \"background\", \"bar\", \"bar\", \"bar\", \"bar\", \"bar\", \"bar\", \"bar\", \"bash\", \"bash\", \"bash\", \"bat\", \"baz\", \"bean\", \"bf\", \"bind\", \"bind\", \"bind\", \"bind\", \"bind\", \"bind\", \"bind\", \"bind\", \"bind\", \"bind\", \"bitmap\", \"bitmap\", \"blah\", \"blah\", \"blue\", \"body\", \"body\", \"body\", \"body\", \"body\", \"bool\", \"bool\", \"bool\", \"bool\", \"boolean\", \"boolean\", \"boolean\", \"boolean\", \"border\", \"border\", \"broker\", \"btn\", \"buffer\", \"buffer\", \"buffer\", \"buffer\", \"bufferedreader\", \"button\", \"button\", \"button\", \"button\", \"c\", \"c\", \"c\", \"c\", \"c\", \"c\", \"c\", \"c\", \"c\", \"c\", \"calendar\", \"calendar\", \"calendar\", \"call\", \"call\", \"call\", \"call\", \"call\", \"call\", \"call\", \"call\", \"call\", \"call\", \"canvas\", \"canvas\", \"canvas\", \"car\", \"car\", \"cart\", \"catalina\", \"catalog\", \"category\", \"category\", \"category\", \"category\", \"cd\", \"cd\", \"cd\", \"cd\", \"cd\", \"cd\", \"cell\", \"cell\", \"cell\", \"cell\", \"cell\", \"center\", \"center\", \"center\", \"center\", \"certificate\", \"ch\", \"change\", \"change\", \"change\", \"change\", \"change\", \"change\", \"change\", \"change\", \"change\", \"change\", \"channel\", \"channel\", \"channel\", \"channel\", \"channel\", \"char\", \"char\", \"char\", \"char\", \"char\", \"character\", \"character\", \"character\", \"character\", \"character\", \"character\", \"charfield\", \"chart\", \"chart\", \"chart\", \"checkboxe\", \"cin\", \"cipher\", \"circle\", \"class\", \"class\", \"class\", \"class\", \"class\", \"class\", \"class\", \"class\", \"class\", \"classpath\", \"click\", \"click\", \"click\", \"click\", \"click\", \"click\", \"click\", \"client\", \"client\", \"client\", \"client\", \"client\", \"client\", \"client\", \"client\", \"cmake\", \"cnt\", \"code\", \"code\", \"code\", \"code\", \"code\", \"code\", \"code\", \"code\", \"code\", \"code\", \"coin\", \"col\", \"col\", \"col\", \"col\", \"collectionview\", \"color\", \"color\", \"color\", \"color\", \"color\", \"color\", \"column\", \"column\", \"column\", \"column\", \"column\", \"com\", \"com\", \"com\", \"com\", \"com\", \"com\", \"com\", \"com\", \"com\", \"combobox\", \"combobox\", \"command\", \"command\", \"command\", \"command\", \"command\", \"command\", \"command\", \"command\", \"command\", \"compile\", \"compile\", \"compile\", \"compile\", \"compile\", \"compile\", \"compiler\", \"compiler\", \"compiler\", \"compiler\", \"conf\", \"conf\", \"conf\", \"config\", \"config\", \"config\", \"config\", \"config\", \"config\", \"config\", \"connect\", \"connect\", \"connect\", \"connect\", \"connect\", \"connect\", \"connect\", \"connect\", \"connection\", \"connection\", \"connection\", \"connection\", \"connection\", \"connection\", \"connection\", \"const\", \"const\", \"const\", \"const\", \"constructor\", \"constructor\", \"constructor\", \"constructor\", \"content\", \"content\", \"content\", \"content\", \"content\", \"content\", \"content\", \"content\", \"content\", \"content\", \"control\", \"control\", \"control\", \"control\", \"control\", \"control\", \"control\", \"control\", \"control\", \"controller\", \"controller\", \"controller\", \"controller\", \"controller\", \"controller\", \"cookie\", \"cookie\", \"cookie\", \"coordinate\", \"coordinate\", \"coordinate\", \"copy\", \"copy\", \"copy\", \"copy\", \"copy\", \"copy\", \"copy\", \"copy\", \"copy\", \"cordova\", \"cordova\", \"count\", \"count\", \"count\", \"count\", \"count\", \"count\", \"count\", \"country\", \"country\", \"cout\", \"create\", \"create\", \"create\", \"create\", \"create\", \"create\", \"create\", \"create\", \"create\", \"create\", \"credential\", \"css\", \"csv\", \"csv\", \"curl\", \"curl\", \"currency\", \"customer\", \"customer\", \"customer\", \"customer\", \"cv\", \"dart\", \"dat\", \"database\", \"database\", \"database\", \"database\", \"database\", \"database\", \"database\", \"database\", \"dataframe\", \"datagrid\", \"datagridview\", \"datatable\", \"datatable\", \"date\", \"date\", \"date\", \"date\", \"date\", \"date\", \"date\", \"datetime\", \"datetime\", \"datetime\", \"datetime\", \"datetime\", \"datum\", \"datum\", \"datum\", \"datum\", \"datum\", \"datum\", \"datum\", \"datum\", \"datum\", \"datum\", \"day\", \"day\", \"day\", \"day\", \"day\", \"day\", \"day\", \"day\", \"day\", \"db\", \"db\", \"db\", \"db\", \"db\", \"db\", \"db\", \"db\", \"dbo\", \"decrypt\", \"def\", \"def\", \"def\", \"def\", \"def\", \"def\", \"def\", \"define\", \"define\", \"define\", \"define\", \"define\", \"define\", \"define\", \"define\", \"define\", \"define\", \"del\", \"delegate\", \"delegate\", \"delegate\", \"deny\", \"dep\", \"department\", \"dependency\", \"dependency\", \"dependency\", \"dependency\", \"dependency\", \"desc\", \"desc\", \"design\", \"design\", \"design\", \"design\", \"design\", \"design\", \"design\", \"develop\", \"develop\", \"develop\", \"develop\", \"develop\", \"develop\", \"device\", \"device\", \"device\", \"device\", \"device\", \"device\", \"dim\", \"dim\", \"dim\", \"dim\", \"dir\", \"dir\", \"dir\", \"dir\", \"directory\", \"directory\", \"directory\", \"directory\", \"directory\", \"dirname\", \"discord\", \"display\", \"display\", \"display\", \"display\", \"display\", \"display\", \"display\", \"display\", \"display\", \"display\", \"dist\", \"distance\", \"distance\", \"distinct\", \"div\", \"dll\", \"dll\", \"dll\", \"docker\", \"docx\", \"dog\", \"dog\", \"dotnet\", \"dotnet\", \"dotnet\", \"dotnet\", \"dotnet\", \"download\", \"download\", \"download\", \"download\", \"download\", \"draw\", \"draw\", \"draw\", \"draw\", \"draw\", \"drawable\", \"dropdownlist\", \"dt\", \"dt\", \"ea\", \"echo\", \"echo\", \"echo\", \"echo\", \"echo\", \"elasticsearch\", \"electron\", \"element\", \"element\", \"element\", \"element\", \"element\", \"element\", \"element\", \"element\", \"elif\", \"email\", \"email\", \"email\", \"email\", \"email\", \"email\", \"email\", \"emp\", \"employee\", \"employee\", \"encode\", \"encode\", \"encode\", \"encode\", \"encode\", \"encode\", \"encode\", \"encode\", \"encode\", \"encrypt\", \"encrypt\", \"encrypt\", \"encrypt\", \"enddate\", \"endl\", \"entity\", \"entity\", \"entity\", \"entity\", \"entity\", \"env\", \"env\", \"env\", \"err\", \"err\", \"err\", \"err\", \"error\", \"error\", \"error\", \"error\", \"error\", \"error\", \"error\", \"error\", \"error\", \"error\", \"event\", \"event\", \"event\", \"event\", \"event\", \"event\", \"event\", \"event\", \"event\", \"example\", \"example\", \"example\", \"example\", \"example\", \"example\", \"example\", \"example\", \"example\", \"excel\", \"excel\", \"excel\", \"experience\", \"experience\", \"experience\", \"experience\", \"experience\", \"express\", \"express\", \"express\", \"express\", \"expression\", \"expression\", \"expression\", \"expression\", \"extend\", \"extend\", \"extend\", \"extend\", \"extend\", \"extend\", \"extend\", \"facet\", \"false\", \"false\", \"false\", \"false\", \"false\", \"false\", \"false\", \"false\", \"false\", \"false\", \"field\", \"field\", \"field\", \"field\", \"field\", \"field\", \"field\", \"field\", \"fig\", \"file\", \"file\", \"file\", \"file\", \"file\", \"file\", \"file\", \"file\", \"file\", \"filename\", \"filename\", \"filename\", \"filename\", \"filter\", \"filter\", \"filter\", \"filter\", \"filter\", \"filter\", \"filter\", \"filter\", \"filter\", \"find\", \"find\", \"find\", \"find\", \"find\", \"find\", \"find\", \"find\", \"find\", \"find\", \"firebase\", \"flash\", \"flash\", \"flash\", \"float\", \"float\", \"float\", \"float\", \"fmt\", \"folder\", \"folder\", \"folder\", \"follow\", \"follow\", \"follow\", \"follow\", \"follow\", \"follow\", \"follow\", \"follow\", \"follow\", \"follow\", \"font\", \"font\", \"foo\", \"foo\", \"foobar\", \"food\", \"footer\", \"foreign\", \"forkey\", \"form\", \"form\", \"form\", \"form\", \"form\", \"form\", \"form\", \"form\", \"format\", \"format\", \"format\", \"format\", \"format\", \"format\", \"format\", \"format\", \"format\", \"format\", \"formatter\", \"formula\", \"frame\", \"frame\", \"frame\", \"frame\", \"frame\", \"frame\", \"frame\", \"fruit\", \"ftp\", \"ftp\", \"func\", \"function\", \"function\", \"function\", \"function\", \"function\", \"function\", \"function\", \"function\", \"function\", \"functionality\", \"functionality\", \"functionality\", \"functionality\", \"functionality\", \"functionality\", \"functionality\", \"functionality\", \"gallery\", \"gemicrosoft\", \"gender\", \"geom\", \"gesture\", \"get\", \"get\", \"get\", \"get\", \"get\", \"get\", \"get\", \"get\", \"get\", \"get\", \"getdata\", \"getelementbyid\", \"getname\", \"getstre\", \"getstre\", \"getter\", \"gettext\", \"ggplot\", \"git\", \"go\", \"go\", \"go\", \"go\", \"go\", \"go\", \"go\", \"go\", \"go\", \"go\", \"good\", \"good\", \"good\", \"good\", \"good\", \"good\", \"good\", \"good\", \"good\", \"goto\", \"gradient\", \"gradle\", \"graph\", \"graph\", \"graph\", \"grep\", \"grep\", \"grid\", \"grid\", \"grid\", \"grid\", \"gridview\", \"group\", \"group\", \"group\", \"group\", \"group\", \"group\", \"group\", \"group\", \"groupby\", \"groupid\", \"guard\", \"guard\", \"gz\", \"height\", \"height\", \"height\", \"hibernate\", \"hibernate\", \"host\", \"host\", \"host\", \"host\", \"hour\", \"hour\", \"hour\", \"hour\", \"hour\", \"hour\", \"hour\", \"hour\", \"hour\", \"hour\", \"href\", \"htaccess\", \"html\", \"html\", \"html\", \"html\", \"html\", \"html\", \"html\", \"html\", \"http\", \"http\", \"http\", \"http\", \"http\", \"http\", \"http\", \"http\", \"http\", \"http\", \"https\", \"https\", \"https\", \"https\", \"https\", \"https\", \"https\", \"https\", \"i++\", \"i++\", \"i++\", \"i++\", \"i++\", \"icon\", \"icon\", \"image\", \"image\", \"image\", \"image\", \"image\", \"image\", \"image\", \"image\", \"image\", \"img\", \"img\", \"impl\", \"import\", \"import\", \"import\", \"import\", \"import\", \"import\", \"import\", \"import\", \"import\", \"index\", \"index\", \"index\", \"index\", \"index\", \"index\", \"index\", \"index\", \"index\", \"indexpath\", \"init\", \"init\", \"init\", \"init\", \"init\", \"init\", \"innerhtml\", \"input\", \"input\", \"input\", \"input\", \"input\", \"input\", \"input\", \"input\", \"insert\", \"insert\", \"insert\", \"insert\", \"insert\", \"insert\", \"insert\", \"int\", \"int\", \"int\", \"int\", \"int\", \"intent\", \"inventory\", \"invoice\", \"invoice\", \"ios\", \"ip\", \"ip\", \"ip\", \"ipad\", \"ipv\", \"item\", \"item\", \"item\", \"item\", \"item\", \"item\", \"item\", \"itemtemplate\", \"itune\", \"jar\", \"jar\", \"java\", \"java\", \"java\", \"java\", \"java\", \"java\", \"javadotnet\", \"javafx\", \"javafx\", \"javascript\", \"javascript\", \"javascript\", \"javascript\", \"javascript\", \"jframe\", \"join\", \"join\", \"join\", \"join\", \"join\", \"join\", \"jpanel\", \"jquery\", \"jquery\", \"jsonobject\", \"jsp\", \"jsp\", \"jsp\", \"kafka\", \"key\", \"key\", \"key\", \"key\", \"key\", \"key\", \"key\", \"key\", \"key\", \"key\", \"kivy\", \"know\", \"know\", \"know\", \"know\", \"know\", \"know\", \"know\", \"know\", \"know\", \"know\", \"kotlin\", \"kubernete\", \"label\", \"label\", \"label\", \"label\", \"label\", \"label\", \"landscape\", \"latitude\", \"layout\", \"layout\", \"layout\", \"layout\", \"layout\", \"lemmer\", \"length\", \"length\", \"length\", \"length\", \"length\", \"length\", \"let\", \"let\", \"let\", \"let\", \"let\", \"let\", \"let\", \"let\", \"let\", \"let\", \"lib\", \"lib\", \"lib\", \"lib\", \"like\", \"like\", \"like\", \"like\", \"like\", \"like\", \"like\", \"like\", \"like\", \"like\", \"line\", \"line\", \"line\", \"line\", \"line\", \"line\", \"line\", \"line\", \"line\", \"line\", \"list\", \"list\", \"list\", \"list\", \"list\", \"list\", \"list\", \"list\", \"list\", \"listbox\", \"listbox\", \"localhost\", \"localhost\", \"log\", \"log\", \"log\", \"log\", \"log\", \"log\", \"log\", \"log\", \"logger\", \"login\", \"login\", \"logo\", \"longitude\", \"look\", \"look\", \"look\", \"look\", \"look\", \"look\", \"look\", \"look\", \"look\", \"look\", \"lxml\", \"main\", \"main\", \"main\", \"main\", \"main\", \"main\", \"main\", \"main\", \"main\", \"main\", \"make\", \"make\", \"make\", \"make\", \"make\", \"make\", \"make\", \"make\", \"make\", \"make\", \"malloc\", \"mapper\", \"margin\", \"margin\", \"market\", \"match\", \"match\", \"match\", \"match\", \"match\", \"match\", \"match\", \"match\", \"matlab\", \"matplotlib\", \"matrix\", \"message\", \"message\", \"message\", \"message\", \"message\", \"message\", \"message\", \"message\", \"message\", \"message\", \"method\", \"method\", \"method\", \"method\", \"method\", \"method\", \"method\", \"method\", \"method\", \"method\", \"mindotjs\", \"mm\", \"mm\", \"modal\", \"modal\", \"model\", \"model\", \"model\", \"model\", \"model\", \"model\", \"model\", \"model\", \"model\", \"module\", \"module\", \"module\", \"module\", \"module\", \"module\", \"module\", \"module\", \"month\", \"month\", \"month\", \"month\", \"mp\", \"mpi\", \"multiply\", \"mutate\", \"myapp\", \"myclass\", \"myclass\", \"myfile\", \"mysite\", \"mysql\", \"mysql\", \"mysqli\", \"na\", \"name\", \"name\", \"name\", \"name\", \"name\", \"name\", \"name\", \"name\", \"name\", \"name\", \"nan\", \"nav\", \"nb\", \"nbsp\", \"need\", \"need\", \"need\", \"need\", \"need\", \"need\", \"need\", \"need\", \"need\", \"need\", \"new\", \"new\", \"new\", \"new\", \"new\", \"new\", \"new\", \"new\", \"new\", \"new\", \"ng\", \"nginx\", \"nil\", \"node\", \"node\", \"node\", \"node\", \"nodejs\", \"notification\", \"notification\", \"notification\", \"notification\", \"np\", \"npm\", \"nslog\", \"nsmutablearray\", \"nsstre\", \"nsstring\", \"nuget\", \"null\", \"null\", \"null\", \"null\", \"null\", \"null\", \"null\", \"null\", \"null\", \"number\", \"number\", \"number\", \"number\", \"number\", \"number\", \"number\", \"number\", \"number\", \"numpy\", \"oauth\", \"ob\", \"obj\", \"obj\", \"obj\", \"obj\", \"obj\", \"obj\", \"obj\", \"object\", \"object\", \"object\", \"object\", \"object\", \"object\", \"object\", \"object\", \"object\", \"object\", \"objectid\", \"observable\", \"odoo\", \"odoo\", \"opacity\", \"open\", \"open\", \"open\", \"open\", \"open\", \"open\", \"open\", \"open\", \"open\", \"open\", \"opencv\", \"openssl\", \"option\", \"option\", \"option\", \"option\", \"option\", \"option\", \"option\", \"option\", \"option\", \"option\", \"order\", \"order\", \"order\", \"order\", \"order\", \"order\", \"order\", \"order\", \"order\", \"org\", \"org\", \"org\", \"org\", \"org\", \"org\", \"output\", \"output\", \"output\", \"output\", \"output\", \"output\", \"output\", \"output\", \"output\", \"override\", \"override\", \"override\", \"override\", \"override\", \"override\", \"padding\", \"padding\", \"padding\", \"page\", \"page\", \"page\", \"page\", \"page\", \"page\", \"page\", \"page\", \"page\", \"parse\", \"parse\", \"parse\", \"parse\", \"parse\", \"parse\", \"parse\", \"parse\", \"parse\", \"parse\", \"password\", \"password\", \"password\", \"password\", \"path\", \"path\", \"path\", \"path\", \"path\", \"path\", \"path\", \"path\", \"path\", \"path\", \"patient\", \"pattern\", \"pattern\", \"pattern\", \"pattern\", \"pattern\", \"pattern\", \"pattern\", \"pattern\", \"payment\", \"pd\", \"pd\", \"pdf\", \"pdf\", \"pdf\", \"pdf\", \"perl\", \"perl\", \"perl\", \"perl\", \"permission\", \"permission\", \"permission\", \"photo\", \"photo\", \"photo\", \"php\", \"php\", \"php\", \"php\", \"php\", \"php\", \"php\", \"pi\", \"pi\", \"pic\", \"pip\", \"pivot\", \"pkg\", \"player\", \"player\", \"player\", \"player\", \"plot\", \"plt\", \"plug\", \"plug\", \"plug\", \"pod\", \"point\", \"point\", \"point\", \"point\", \"point\", \"point\", \"point\", \"point\", \"point\", \"point\", \"polygon\", \"port\", \"port\", \"port\", \"port\", \"port\", \"portrait\", \"possible\", \"possible\", \"possible\", \"possible\", \"possible\", \"possible\", \"possible\", \"possible\", \"possible\", \"post\", \"post\", \"post\", \"post\", \"post\", \"post\", \"post\", \"post\", \"preg\", \"price\", \"price\", \"print\", \"print\", \"print\", \"print\", \"print\", \"print\", \"print\", \"print\", \"print\", \"println\", \"println\", \"println\", \"printstacktrace\", \"printstacktrace\", \"private\", \"private\", \"private\", \"private\", \"private\", \"private\", \"problem\", \"problem\", \"problem\", \"problem\", \"problem\", \"problem\", \"problem\", \"problem\", \"problem\", \"problem\", \"process\", \"process\", \"process\", \"process\", \"process\", \"process\", \"process\", \"process\", \"product\", \"product\", \"product\", \"product\", \"product\", \"program\", \"program\", \"program\", \"program\", \"program\", \"program\", \"project\", \"project\", \"project\", \"project\", \"project\", \"project\", \"project\", \"project\", \"project\", \"project\", \"promise\", \"promise\", \"prop\", \"property\", \"property\", \"property\", \"property\", \"property\", \"property\", \"property\", \"property\", \"property\", \"ptr\", \"pub\", \"public\", \"public\", \"public\", \"public\", \"public\", \"public\", \"public\", \"py\", \"py\", \"py\", \"py\", \"pygame\", \"python\", \"python\", \"python\", \"python\", \"python\", \"python\", \"python\", \"python\", \"qty\", \"query\", \"query\", \"query\", \"query\", \"query\", \"query\", \"question\", \"question\", \"question\", \"question\", \"question\", \"question\", \"question\", \"question\", \"question\", \"quote\", \"quote\", \"quote\", \"quote\", \"r\", \"r\", \"r\", \"r\", \"r\", \"r\", \"r\", \"radio\", \"radio\", \"radius\", \"rail\", \"rail\", \"rail\", \"random\", \"random\", \"random\", \"random\", \"random\", \"random\", \"random\", \"rank\", \"rank\", \"rank\", \"rank\", \"rb\", \"rb\", \"read\", \"read\", \"read\", \"read\", \"read\", \"read\", \"read\", \"read\", \"read\", \"really\", \"really\", \"really\", \"really\", \"really\", \"really\", \"really\", \"really\", \"really\", \"recommendation\", \"record\", \"record\", \"record\", \"record\", \"record\", \"record\", \"record\", \"reference\", \"reference\", \"reference\", \"reference\", \"reference\", \"reference\", \"reference\", \"reference\", \"reference\", \"reference\", \"regex\", \"regexp\", \"replace\", \"replace\", \"replace\", \"replace\", \"replace\", \"replace\", \"replace\", \"replace\", \"repo\", \"report\", \"report\", \"report\", \"report\", \"report\", \"report\", \"report\", \"request\", \"request\", \"request\", \"request\", \"request\", \"request\", \"request\", \"request\", \"request\", \"response\", \"response\", \"response\", \"response\", \"response\", \"response\", \"response\", \"response\", \"response\", \"result\", \"result\", \"result\", \"result\", \"result\", \"result\", \"result\", \"result\", \"result\", \"result\", \"return\", \"return\", \"return\", \"return\", \"return\", \"return\", \"return\", \"return\", \"return\", \"return\", \"rewritecond\", \"rm\", \"role\", \"role\", \"root\", \"root\", \"root\", \"root\", \"root\", \"root\", \"root\", \"root\", \"root\", \"route\", \"route\", \"route\", \"route\", \"router\", \"row\", \"row\", \"row\", \"row\", \"row\", \"row\", \"ruby\", \"ruby\", \"ruby\", \"run\", \"run\", \"run\", \"run\", \"run\", \"run\", \"run\", \"run\", \"run\", \"run\", \"runat\", \"runat\", \"sale\", \"sale\", \"sass\", \"save\", \"save\", \"save\", \"save\", \"save\", \"save\", \"save\", \"save\", \"save\", \"save\", \"savedinstancestate\", \"savedinstancestate\", \"scanner\", \"script\", \"script\", \"script\", \"script\", \"script\", \"script\", \"script\", \"scrollbar\", \"scrollbar\", \"see\", \"see\", \"see\", \"see\", \"see\", \"see\", \"see\", \"see\", \"see\", \"see\", \"select\", \"select\", \"select\", \"select\", \"select\", \"select\", \"select\", \"select\", \"selenium\", \"self\", \"self\", \"self\", \"send\", \"send\", \"send\", \"send\", \"send\", \"send\", \"send\", \"send\", \"send\", \"send\", \"server\", \"server\", \"server\", \"server\", \"server\", \"server\", \"server\", \"server\", \"service\", \"service\", \"service\", \"service\", \"service\", \"service\", \"service\", \"servlet\", \"servlet\", \"set\", \"set\", \"set\", \"set\", \"set\", \"set\", \"set\", \"set\", \"set\", \"set\", \"setstate\", \"setter\", \"settext\", \"sha\", \"sha\", \"sha\", \"shadow\", \"shape\", \"shape\", \"shell\", \"shell\", \"shell\", \"shell\", \"shoot\", \"sidebar\", \"sidebar\", \"simulator\", \"sin\", \"size\", \"size\", \"size\", \"size\", \"size\", \"size\", \"size\", \"size\", \"size\", \"sizeof\", \"sizeof\", \"slider\", \"slot\", \"slug\", \"soap\", \"socket\", \"socket\", \"socket\", \"socket\", \"software\", \"software\", \"software\", \"software\", \"software\", \"solid\", \"solid\", \"solr\", \"solution\", \"solution\", \"solution\", \"solution\", \"solution\", \"solution\", \"solution\", \"solution\", \"solution\", \"song\", \"span\", \"specie\", \"splash\", \"split\", \"split\", \"split\", \"split\", \"split\", \"split\", \"spring\", \"springframework\", \"sprint\", \"sprite\", \"sql\", \"sql\", \"sql\", \"sql\", \"sql\", \"ssh\", \"ssl\", \"start\", \"start\", \"start\", \"start\", \"start\", \"start\", \"start\", \"start\", \"start\", \"start\", \"stat\", \"stat\", \"stat\", \"stat\", \"static\", \"static\", \"static\", \"static\", \"static\", \"static\", \"static\", \"std\", \"std\", \"std\", \"stderr\", \"stdio\", \"stdout\", \"stmt\", \"street\", \"string\", \"string\", \"string\", \"string\", \"string\", \"string\", \"string\", \"string\", \"stroke\", \"stroke\", \"struct\", \"struct\", \"struct\", \"struct\", \"studio\", \"studio\", \"studio\", \"studio\", \"studio\", \"style\", \"style\", \"style\", \"style\", \"style\", \"style\", \"sub\", \"sub\", \"sub\", \"sub\", \"sub\", \"sub\", \"sub\", \"sub\", \"sub\", \"submit\", \"submit\", \"submit\", \"submit\", \"submit\", \"submit\", \"subscriber\", \"subview\", \"super\", \"super\", \"super\", \"super\", \"svg\", \"svg\", \"swift\", \"swift\", \"swiftui\", \"symbol\", \"symbol\", \"symbol\", \"symbol\", \"symbol\", \"symbol\", \"symbol\", \"symbol\", \"symfony\", \"symfony\", \"system\", \"system\", \"system\", \"system\", \"system\", \"system\", \"system\", \"system\", \"system\", \"table\", \"table\", \"table\", \"table\", \"tableview\", \"tar\", \"tbl\", \"tbody\", \"tensorflow\", \"test\", \"test\", \"test\", \"test\", \"test\", \"test\", \"test\", \"test\", \"test\", \"test\", \"testng\", \"text\", \"text\", \"text\", \"text\", \"text\", \"text\", \"text\", \"text\", \"text\", \"textarea\", \"textbox\", \"textbox\", \"textbox\", \"texture\", \"textview\", \"tfs\", \"thank\", \"thank\", \"thank\", \"thank\", \"thank\", \"thank\", \"thank\", \"thank\", \"thank\", \"thank\", \"thing\", \"thing\", \"thing\", \"thing\", \"thing\", \"thing\", \"thing\", \"thing\", \"thing\", \"think\", \"think\", \"think\", \"think\", \"think\", \"think\", \"think\", \"think\", \"think\", \"thread\", \"thread\", \"thread\", \"thread\", \"thumbnail\", \"tibble\", \"time\", \"time\", \"time\", \"time\", \"time\", \"time\", \"time\", \"time\", \"time\", \"time\", \"timestamp\", \"timestamp\", \"timestamp\", \"timestamp\", \"timestamp\", \"title\", \"title\", \"title\", \"title\", \"title\", \"title\", \"title\", \"title\", \"title\", \"tk\", \"tls\", \"tls\", \"tmp\", \"tmp\", \"tmp\", \"tmp\", \"toast\", \"toggle\", \"toggle\", \"token\", \"token\", \"token\", \"token\", \"tolist\", \"tomcat\", \"tooltip\", \"tooltip\", \"tostre\", \"tostre\", \"tostre\", \"tostre\", \"tr\", \"tr\", \"train\", \"trait\", \"true\", \"true\", \"true\", \"true\", \"true\", \"true\", \"true\", \"true\", \"true\", \"true\", \"try\", \"try\", \"try\", \"try\", \"try\", \"try\", \"try\", \"try\", \"try\", \"try\", \"txt\", \"txt\", \"txt\", \"txt\", \"txt\", \"type\", \"type\", \"type\", \"type\", \"type\", \"type\", \"type\", \"type\", \"type\", \"type\", \"typeerror\", \"typeof\", \"typeof\", \"typeof\", \"uiimage\", \"uitableview\", \"unit\", \"unit\", \"unit\", \"unit\", \"unit\", \"unit\", \"unit\", \"unit\", \"upload\", \"upload\", \"upload\", \"upload\", \"upload\", \"url\", \"url\", \"url\", \"url\", \"url\", \"url\", \"url\", \"url\", \"urllib\", \"usd\", \"use\", \"use\", \"use\", \"use\", \"use\", \"use\", \"use\", \"use\", \"use\", \"use\", \"useeffect\", \"user\", \"user\", \"user\", \"user\", \"user\", \"user\", \"user\", \"user\", \"user\", \"user\", \"usercontrol\", \"username\", \"username\", \"username\", \"username\", \"usestate\", \"uuid\", \"value\", \"value\", \"value\", \"value\", \"value\", \"value\", \"value\", \"value\", \"value\", \"value\", \"var\", \"var\", \"var\", \"var\", \"var\", \"var\", \"var\", \"var\", \"var\", \"varchar\", \"variable\", \"variable\", \"variable\", \"variable\", \"variable\", \"variable\", \"variable\", \"variable\", \"variable\", \"variable\", \"vector\", \"vector\", \"version\", \"version\", \"version\", \"version\", \"version\", \"version\", \"version\", \"version\", \"version\", \"version\", \"vertex\", \"view\", \"view\", \"view\", \"view\", \"view\", \"view\", \"view\", \"viewcontroller\", \"viewdidload\", \"vista\", \"visual\", \"visual\", \"visual\", \"visual\", \"voice\", \"void\", \"void\", \"void\", \"want\", \"want\", \"want\", \"want\", \"want\", \"want\", \"want\", \"want\", \"want\", \"want\", \"way\", \"way\", \"way\", \"way\", \"way\", \"way\", \"way\", \"way\", \"way\", \"way\", \"wb\", \"webkit\", \"webpack\", \"webview\", \"well\", \"well\", \"well\", \"well\", \"well\", \"well\", \"well\", \"well\", \"well\", \"width\", \"width\", \"width\", \"window\", \"window\", \"window\", \"window\", \"window\", \"window\", \"window\", \"window\", \"window\", \"wizard\", \"word\", \"word\", \"word\", \"word\", \"word\", \"word\", \"word\", \"work\", \"work\", \"work\", \"work\", \"work\", \"work\", \"work\", \"work\", \"work\", \"work\", \"workbook\", \"write\", \"write\", \"write\", \"write\", \"write\", \"write\", \"write\", \"write\", \"write\", \"writeline\", \"writeline\", \"xamarin\", \"xaml\", \"xlsx\", \"xml\", \"xml\", \"xml\", \"xml\", \"xml\", \"xml\", \"xml\", \"xml\", \"xsl\", \"yaml\", \"yii\", \"yyyy\", \"yyyy\", \"zip\", \"zip\", \"zip\"]}, \"R\": 30, \"lambda.step\": 0.01, \"plot.opts\": {\"xlab\": \"PC1\", \"ylab\": \"PC2\"}, \"topic.order\": [7, 2, 5, 1, 3, 9, 10, 8, 4, 6]};\n",
       "\n",
       "function LDAvis_load_lib(url, callback){\n",
       "  var s = document.createElement('script');\n",
       "  s.src = url;\n",
       "  s.async = true;\n",
       "  s.onreadystatechange = s.onload = callback;\n",
       "  s.onerror = function(){console.warn(\"failed to load library \" + url);};\n",
       "  document.getElementsByTagName(\"head\")[0].appendChild(s);\n",
       "}\n",
       "\n",
       "if(typeof(LDAvis) !== \"undefined\"){\n",
       "   // already loaded: just create the visualization\n",
       "   !function(LDAvis){\n",
       "       new LDAvis(\"#\" + \"ldavis_el2245621520332993607417869892\", ldavis_el2245621520332993607417869892_data);\n",
       "   }(LDAvis);\n",
       "}else if(typeof define === \"function\" && define.amd){\n",
       "   // require.js is available: use it to load d3/LDAvis\n",
       "   require.config({paths: {d3: \"https://d3js.org/d3.v5\"}});\n",
       "   require([\"d3\"], function(d3){\n",
       "      window.d3 = d3;\n",
       "      LDAvis_load_lib(\"https://cdn.jsdelivr.net/gh/bmabey/pyLDAvis@3.3.1/pyLDAvis/js/ldavis.v3.0.0.js\", function(){\n",
       "        new LDAvis(\"#\" + \"ldavis_el2245621520332993607417869892\", ldavis_el2245621520332993607417869892_data);\n",
       "      });\n",
       "    });\n",
       "}else{\n",
       "    // require.js not available: dynamically load d3 & LDAvis\n",
       "    LDAvis_load_lib(\"https://d3js.org/d3.v5.js\", function(){\n",
       "         LDAvis_load_lib(\"https://cdn.jsdelivr.net/gh/bmabey/pyLDAvis@3.3.1/pyLDAvis/js/ldavis.v3.0.0.js\", function(){\n",
       "                 new LDAvis(\"#\" + \"ldavis_el2245621520332993607417869892\", ldavis_el2245621520332993607417869892_data);\n",
       "            })\n",
       "         });\n",
       "}\n",
       "</script>"
      ],
      "text/plain": [
       "PreparedData(topic_coordinates=              x         y  topics  cluster       Freq\n",
       "topic                                                \n",
       "6     -0.109010  0.033541       1        1  18.076554\n",
       "1     -0.096597 -0.051146       2        1  13.844841\n",
       "4     -0.028221 -0.074032       3        1  13.836909\n",
       "0     -0.062484  0.000793       4        1  13.317848\n",
       "2     -0.017762  0.077240       5        1  12.906062\n",
       "8     -0.065708  0.102846       6        1   8.768042\n",
       "9     -0.097773  0.040464       7        1   8.194194\n",
       "7     -0.045790  0.038701       8        1   5.691786\n",
       "3      0.139384 -0.307452       9        1   3.170236\n",
       "5      0.383963  0.139045      10        1   2.193527, topic_info=            Term          Freq         Total Category  logprob  loglift\n",
       "38          file  23628.000000  23628.000000  Default  30.0000  30.0000\n",
       "3619        self   6874.000000   6874.000000  Default  29.0000  29.0000\n",
       "385          div  13219.000000  13219.000000  Default  28.0000  28.0000\n",
       "31        string  18640.000000  18640.000000  Default  27.0000  27.0000\n",
       "84        public  11698.000000  11698.000000  Default  26.0000  26.0000\n",
       "...          ...           ...           ...      ...      ...      ...\n",
       "4696     channel    395.888899    875.103199  Topic10  -5.1916   3.0265\n",
       "3733       super    313.103878   1124.087468  Topic10  -5.4262   2.5415\n",
       "3086  controller    362.347174   2262.662983  Topic10  -5.2802   1.9880\n",
       "162       return    413.274521  16948.782157  Topic10  -5.1486   0.1058\n",
       "1251      import    335.842359   8620.697545  Topic10  -5.3561   0.5744\n",
       "\n",
       "[766 rows x 6 columns], token_table=       Topic      Freq  Term\n",
       "term                        \n",
       "28281      2  0.997330   acc\n",
       "21693      1  0.992904   adb\n",
       "100        1  0.219726   add\n",
       "100        2  0.189457   add\n",
       "100        3  0.163963   add\n",
       "...      ...       ...   ...\n",
       "1137       8  0.002511  yyyy\n",
       "1137       9  0.996986  yyyy\n",
       "3957       5  0.005806   zip\n",
       "3957       6  0.015483   zip\n",
       "3957       8  0.977365   zip\n",
       "\n",
       "[2465 rows x 3 columns], R=30, lambda_step=0.01, plot_opts={'xlab': 'PC1', 'ylab': 'PC2'}, topic_order=[7, 2, 5, 1, 3, 9, 10, 8, 4, 6])"
      ]
     },
     "execution_count": 48,
     "metadata": {},
     "output_type": "execute_result"
    }
   ],
   "source": [
    "vis_10"
   ]
  },
  {
   "cell_type": "markdown",
   "id": "1a2aa990",
   "metadata": {},
   "source": [
    "### Méthodes Supervisées :"
   ]
  },
  {
   "cell_type": "code",
   "execution_count": 27,
   "id": "ade1a651",
   "metadata": {
    "scrolled": false
   },
   "outputs": [],
   "source": [
    "sgd = SGDClassifier()\n",
    "lr = LogisticRegression()\n",
    "mn = MultinomialNB()\n",
    "per = Perceptron()\n",
    "gbc = GradientBoostingClassifier()\n",
    "rfc = RandomForestClassifier()\n",
    "svc = LinearSVC()\n",
    "cmp = ComplementNB()"
   ]
  },
  {
   "cell_type": "markdown",
   "id": "8ce16f99",
   "metadata": {},
   "source": [
    "#### Méthode One VS Rest Classifier :"
   ]
  },
  {
   "cell_type": "markdown",
   "id": "d911cf5f",
   "metadata": {},
   "source": [
    "##### Modèle SGD Classifier avec la méthode One VS Rest Classifier :"
   ]
  },
  {
   "cell_type": "code",
   "execution_count": 52,
   "id": "ae79a630",
   "metadata": {},
   "outputs": [],
   "source": [
    "start0 = time.process_time()"
   ]
  },
  {
   "cell_type": "code",
   "execution_count": 53,
   "id": "9b9a9370",
   "metadata": {},
   "outputs": [],
   "source": [
    "clfsgd = OneVsRestClassifier(sgd)\n",
    "clfsgd.fit(X_train, y_train)\n",
    "y_pred_sgd = clfsgd.predict(X_test)   "
   ]
  },
  {
   "cell_type": "code",
   "execution_count": 54,
   "id": "9880a35d",
   "metadata": {},
   "outputs": [
    {
     "name": "stdout",
     "output_type": "stream",
     "text": [
      "Run Time : 127.84375\n"
     ]
    }
   ],
   "source": [
    "end0 = time.process_time()\n",
    "time0 = end0 - start0\n",
    "print('Run Time :', time0)"
   ]
  },
  {
   "cell_type": "code",
   "execution_count": 55,
   "id": "4d1a32b1",
   "metadata": {},
   "outputs": [],
   "source": [
    "sgd_1vsrest_accuracy = metrics.accuracy_score(y_test, y_pred_sgd)\n",
    "sgd_1vsrest_f1_score = metrics.f1_score(y_pred_sgd, y_test, average='weighted')\n",
    "sgd_1vsrest_jaccards = metrics.jaccard_score(y_test, y_pred_sgd, average='weighted')\n",
    "sgd_1vsrest_recallsc = metrics.recall_score(y_test, y_pred_sgd, average='weighted')\n",
    "sgd_1vsrest_precison = metrics.precision_score(y_test, y_pred_sgd, average='weighted')"
   ]
  },
  {
   "cell_type": "code",
   "execution_count": 56,
   "id": "5c6f5e72",
   "metadata": {},
   "outputs": [
    {
     "data": {
      "text/html": [
       "<style  type=\"text/css\" >\n",
       "#T_0a748_row0_col0,#T_0a748_row0_col1,#T_0a748_row0_col2,#T_0a748_row0_col3,#T_0a748_row0_col4,#T_0a748_row0_col5{\n",
       "            background-color:  lemonchiffon;\n",
       "            color:  green;\n",
       "        }</style><table id=\"T_0a748_\" ><thead>    <tr>        <th class=\"blank level0\" ></th>        <th class=\"col_heading level0 col0\" >Accuracy</th>        <th class=\"col_heading level0 col1\" >F1</th>        <th class=\"col_heading level0 col2\" >Jaccard</th>        <th class=\"col_heading level0 col3\" >Recall</th>        <th class=\"col_heading level0 col4\" >Precision</th>        <th class=\"col_heading level0 col5\" >Run Time</th>    </tr></thead><tbody>\n",
       "                <tr>\n",
       "                        <th id=\"T_0a748_level0_row0\" class=\"row_heading level0 row0\" >SGDClass_1VsRestClass</th>\n",
       "                        <td id=\"T_0a748_row0_col0\" class=\"data row0 col0\" >0.024295</td>\n",
       "                        <td id=\"T_0a748_row0_col1\" class=\"data row0 col1\" >0.580079</td>\n",
       "                        <td id=\"T_0a748_row0_col2\" class=\"data row0 col2\" >0.146756</td>\n",
       "                        <td id=\"T_0a748_row0_col3\" class=\"data row0 col3\" >0.158874</td>\n",
       "                        <td id=\"T_0a748_row0_col4\" class=\"data row0 col4\" >0.340688</td>\n",
       "                        <td id=\"T_0a748_row0_col5\" class=\"data row0 col5\" >127.843750</td>\n",
       "            </tr>\n",
       "    </tbody></table>"
      ],
      "text/plain": [
       "<pandas.io.formats.style.Styler at 0x1def58a6b80>"
      ]
     },
     "execution_count": 56,
     "metadata": {},
     "output_type": "execute_result"
    }
   ],
   "source": [
    "metrics_sgd_1vsrclass = metric_model('SGDClass_1VsRestClass', y_test, y_pred_sgd, time0)\n",
    "metrics_sgd_1vsrclass.style.set_properties(**{'background-color': 'lemonchiffon','color': 'green'})"
   ]
  },
  {
   "cell_type": "markdown",
   "id": "5f8034f6",
   "metadata": {},
   "source": [
    "##### Modèle Logistic Régression avec la méthode One VS Rest Classifier :"
   ]
  },
  {
   "cell_type": "code",
   "execution_count": 57,
   "id": "0f790413",
   "metadata": {},
   "outputs": [],
   "source": [
    "start1 = time.process_time()"
   ]
  },
  {
   "cell_type": "code",
   "execution_count": 58,
   "id": "0f8bfea5",
   "metadata": {},
   "outputs": [],
   "source": [
    "clflr = OneVsRestClassifier(lr)\n",
    "clflr.fit(X_train, y_train)\n",
    "y_pred_lr = clflr.predict(X_test) "
   ]
  },
  {
   "cell_type": "code",
   "execution_count": 59,
   "id": "fadca7ea",
   "metadata": {},
   "outputs": [
    {
     "name": "stdout",
     "output_type": "stream",
     "text": [
      "Run Time : 387.828125\n"
     ]
    }
   ],
   "source": [
    "end1 = time.process_time()\n",
    "time1 = end1 - start1\n",
    "print('Run Time :', time1)"
   ]
  },
  {
   "cell_type": "code",
   "execution_count": 60,
   "id": "af05ce45",
   "metadata": {},
   "outputs": [],
   "source": [
    "lr_1vsrest_accuracy = metrics.accuracy_score(y_test, y_pred_lr)\n",
    "lr_1vsrest_f1_score = metrics.f1_score(y_pred_lr, y_test, average='weighted')\n",
    "lr_1vsrest_jaccards = metrics.jaccard_score(y_test, y_pred_lr, average='weighted')\n",
    "lr_1vsrest_recallsc = metrics.recall_score(y_test, y_pred_lr, average='weighted')\n",
    "lr_1vsrest_precison = metrics.precision_score(y_test, y_pred_lr, average='weighted')"
   ]
  },
  {
   "cell_type": "code",
   "execution_count": 61,
   "id": "91014b85",
   "metadata": {},
   "outputs": [
    {
     "data": {
      "text/html": [
       "<style  type=\"text/css\" >\n",
       "#T_17471_row0_col0,#T_17471_row0_col1,#T_17471_row0_col2,#T_17471_row0_col3,#T_17471_row0_col4,#T_17471_row0_col5{\n",
       "            background-color:  lemonchiffon;\n",
       "            color:  green;\n",
       "        }</style><table id=\"T_17471_\" ><thead>    <tr>        <th class=\"blank level0\" ></th>        <th class=\"col_heading level0 col0\" >Accuracy</th>        <th class=\"col_heading level0 col1\" >F1</th>        <th class=\"col_heading level0 col2\" >Jaccard</th>        <th class=\"col_heading level0 col3\" >Recall</th>        <th class=\"col_heading level0 col4\" >Precision</th>        <th class=\"col_heading level0 col5\" >Run Time</th>    </tr></thead><tbody>\n",
       "                <tr>\n",
       "                        <th id=\"T_17471_level0_row0\" class=\"row_heading level0 row0\" >LogisticReg_1VsRestClass</th>\n",
       "                        <td id=\"T_17471_row0_col0\" class=\"data row0 col0\" >0.026994</td>\n",
       "                        <td id=\"T_17471_row0_col1\" class=\"data row0 col1\" >0.519371</td>\n",
       "                        <td id=\"T_17471_row0_col2\" class=\"data row0 col2\" >0.151626</td>\n",
       "                        <td id=\"T_17471_row0_col3\" class=\"data row0 col3\" >0.163532</td>\n",
       "                        <td id=\"T_17471_row0_col4\" class=\"data row0 col4\" >0.410137</td>\n",
       "                        <td id=\"T_17471_row0_col5\" class=\"data row0 col5\" >387.828125</td>\n",
       "            </tr>\n",
       "    </tbody></table>"
      ],
      "text/plain": [
       "<pandas.io.formats.style.Styler at 0x1decc58f340>"
      ]
     },
     "execution_count": 61,
     "metadata": {},
     "output_type": "execute_result"
    }
   ],
   "source": [
    "metrics_lr_1vsrclass = metric_model('LogisticReg_1VsRestClass', y_test, y_pred_lr, time1)\n",
    "metrics_lr_1vsrclass.style.set_properties(**{'background-color': 'lemonchiffon','color': 'green'})"
   ]
  },
  {
   "cell_type": "markdown",
   "id": "37961056",
   "metadata": {},
   "source": [
    "##### Modèle  Multinomial NB avec la méthode One VS Rest Classifier :"
   ]
  },
  {
   "cell_type": "code",
   "execution_count": 62,
   "id": "5f469b9b",
   "metadata": {},
   "outputs": [],
   "source": [
    "start2 = time.process_time()"
   ]
  },
  {
   "cell_type": "code",
   "execution_count": 63,
   "id": "591e04ee",
   "metadata": {},
   "outputs": [],
   "source": [
    "clfmn = OneVsRestClassifier(mn)\n",
    "clfmn.fit(X_train, y_train)\n",
    "y_pred_mn = clfmn.predict(X_test) "
   ]
  },
  {
   "cell_type": "code",
   "execution_count": 64,
   "id": "e35f11df",
   "metadata": {},
   "outputs": [
    {
     "name": "stdout",
     "output_type": "stream",
     "text": [
      "Run Time : 57.6875\n"
     ]
    }
   ],
   "source": [
    "end2 = time.process_time()\n",
    "time2 = end2 - start2\n",
    "print('Run Time :', time2)"
   ]
  },
  {
   "cell_type": "code",
   "execution_count": 65,
   "id": "850b593d",
   "metadata": {},
   "outputs": [],
   "source": [
    "mn_1vsrest_accuracy = metrics.accuracy_score(y_test, y_pred_mn)\n",
    "mn_1vsrest_f1_score = metrics.f1_score(y_pred_mn, y_test, average='weighted')\n",
    "mn_1vsrest_jaccards = metrics.jaccard_score(y_test, y_pred_mn, average='weighted')\n",
    "mn_1vsrest_recallsc = metrics.recall_score(y_test, y_pred_mn, average='weighted')\n",
    "mn_1vsrest_precison = metrics.precision_score(y_test, y_pred_mn, average='weighted')"
   ]
  },
  {
   "cell_type": "code",
   "execution_count": 66,
   "id": "410ddd74",
   "metadata": {},
   "outputs": [
    {
     "data": {
      "text/html": [
       "<style  type=\"text/css\" >\n",
       "#T_7f8ea_row0_col0,#T_7f8ea_row0_col1,#T_7f8ea_row0_col2,#T_7f8ea_row0_col3,#T_7f8ea_row0_col4,#T_7f8ea_row0_col5{\n",
       "            background-color:  lemonchiffon;\n",
       "            color:  green;\n",
       "        }</style><table id=\"T_7f8ea_\" ><thead>    <tr>        <th class=\"blank level0\" ></th>        <th class=\"col_heading level0 col0\" >Accuracy</th>        <th class=\"col_heading level0 col1\" >F1</th>        <th class=\"col_heading level0 col2\" >Jaccard</th>        <th class=\"col_heading level0 col3\" >Recall</th>        <th class=\"col_heading level0 col4\" >Precision</th>        <th class=\"col_heading level0 col5\" >Run Time</th>    </tr></thead><tbody>\n",
       "                <tr>\n",
       "                        <th id=\"T_7f8ea_level0_row0\" class=\"row_heading level0 row0\" >MultinomialNB _1VsRestClass</th>\n",
       "                        <td id=\"T_7f8ea_row0_col0\" class=\"data row0 col0\" >0.008657</td>\n",
       "                        <td id=\"T_7f8ea_row0_col1\" class=\"data row0 col1\" >0.380516</td>\n",
       "                        <td id=\"T_7f8ea_row0_col2\" class=\"data row0 col2\" >0.057158</td>\n",
       "                        <td id=\"T_7f8ea_row0_col3\" class=\"data row0 col3\" >0.062486</td>\n",
       "                        <td id=\"T_7f8ea_row0_col4\" class=\"data row0 col4\" >0.294668</td>\n",
       "                        <td id=\"T_7f8ea_row0_col5\" class=\"data row0 col5\" >57.687500</td>\n",
       "            </tr>\n",
       "    </tbody></table>"
      ],
      "text/plain": [
       "<pandas.io.formats.style.Styler at 0x1decf66f850>"
      ]
     },
     "execution_count": 66,
     "metadata": {},
     "output_type": "execute_result"
    }
   ],
   "source": [
    "metrics_mn_1vsrclass = metric_model('MultinomialNB _1VsRestClass', y_test, y_pred_mn, time2)\n",
    "metrics_mn_1vsrclass.style.set_properties(**{'background-color': 'lemonchiffon','color': 'green'})"
   ]
  },
  {
   "cell_type": "markdown",
   "id": "5473dd23",
   "metadata": {},
   "source": [
    "##### Modèle  Perceptron avec la méthode One VS Rest Classifier :"
   ]
  },
  {
   "cell_type": "code",
   "execution_count": 67,
   "id": "e1ed66c4",
   "metadata": {},
   "outputs": [],
   "source": [
    "start3 = time.process_time()"
   ]
  },
  {
   "cell_type": "code",
   "execution_count": 68,
   "id": "8fdd5e09",
   "metadata": {},
   "outputs": [],
   "source": [
    "clfper = OneVsRestClassifier(per)\n",
    "clfper.fit(X_train, y_train)\n",
    "y_pred_per = clfper.predict(X_test) "
   ]
  },
  {
   "cell_type": "code",
   "execution_count": 69,
   "id": "17f90c72",
   "metadata": {},
   "outputs": [
    {
     "name": "stdout",
     "output_type": "stream",
     "text": [
      "Run Time : 140.234375\n"
     ]
    }
   ],
   "source": [
    "end3 = time.process_time()\n",
    "time3 = end3 - start3\n",
    "print('Run Time :', time3)"
   ]
  },
  {
   "cell_type": "code",
   "execution_count": 70,
   "id": "da4ebc24",
   "metadata": {},
   "outputs": [],
   "source": [
    "per_1vsrest_accuracy = metrics.accuracy_score(y_test, y_pred_per)\n",
    "per_1vsrest_f1_score = metrics.f1_score(y_pred_per, y_test, average='weighted')\n",
    "per_1vsrest_jaccards = metrics.jaccard_score(y_test, y_pred_per, average='weighted')\n",
    "per_1vsrest_recallsc = metrics.recall_score(y_test, y_pred_per, average='weighted')\n",
    "per_1vsrest_precison = metrics.precision_score(y_test, y_pred_per, average='weighted')"
   ]
  },
  {
   "cell_type": "code",
   "execution_count": 71,
   "id": "5d22e222",
   "metadata": {},
   "outputs": [
    {
     "data": {
      "text/html": [
       "<style  type=\"text/css\" >\n",
       "#T_d2840_row0_col0,#T_d2840_row0_col1,#T_d2840_row0_col2,#T_d2840_row0_col3,#T_d2840_row0_col4,#T_d2840_row0_col5{\n",
       "            background-color:  lemonchiffon;\n",
       "            color:  green;\n",
       "        }</style><table id=\"T_d2840_\" ><thead>    <tr>        <th class=\"blank level0\" ></th>        <th class=\"col_heading level0 col0\" >Accuracy</th>        <th class=\"col_heading level0 col1\" >F1</th>        <th class=\"col_heading level0 col2\" >Jaccard</th>        <th class=\"col_heading level0 col3\" >Recall</th>        <th class=\"col_heading level0 col4\" >Precision</th>        <th class=\"col_heading level0 col5\" >Run Time</th>    </tr></thead><tbody>\n",
       "                <tr>\n",
       "                        <th id=\"T_d2840_level0_row0\" class=\"row_heading level0 row0\" >Perceptron_1VsRestClass</th>\n",
       "                        <td id=\"T_d2840_row0_col0\" class=\"data row0 col0\" >0.012752</td>\n",
       "                        <td id=\"T_d2840_row0_col1\" class=\"data row0 col1\" >0.222526</td>\n",
       "                        <td id=\"T_d2840_row0_col2\" class=\"data row0 col2\" >0.177246</td>\n",
       "                        <td id=\"T_d2840_row0_col3\" class=\"data row0 col3\" >0.270100</td>\n",
       "                        <td id=\"T_d2840_row0_col4\" class=\"data row0 col4\" >0.278960</td>\n",
       "                        <td id=\"T_d2840_row0_col5\" class=\"data row0 col5\" >140.234375</td>\n",
       "            </tr>\n",
       "    </tbody></table>"
      ],
      "text/plain": [
       "<pandas.io.formats.style.Styler at 0x1ded0ead550>"
      ]
     },
     "execution_count": 71,
     "metadata": {},
     "output_type": "execute_result"
    }
   ],
   "source": [
    "metrics_per_1vsrclass = metric_model('Perceptron_1VsRestClass', y_test, y_pred_per, time3)\n",
    "metrics_per_1vsrclass.style.set_properties(**{'background-color': 'lemonchiffon','color': 'green'})"
   ]
  },
  {
   "cell_type": "markdown",
   "id": "9c723242",
   "metadata": {},
   "source": [
    "##### Modèle  Linear SVC avec la méthode One VS Rest Classifier :"
   ]
  },
  {
   "cell_type": "code",
   "execution_count": 72,
   "id": "227e2e66",
   "metadata": {},
   "outputs": [],
   "source": [
    "start4 = time.process_time()"
   ]
  },
  {
   "cell_type": "code",
   "execution_count": 73,
   "id": "e724d7f7",
   "metadata": {},
   "outputs": [],
   "source": [
    "clfsvc = OneVsRestClassifier(svc)\n",
    "clfsvc.fit(X_train, y_train)\n",
    "y_pred_svc = clfsvc.predict(X_test)"
   ]
  },
  {
   "cell_type": "code",
   "execution_count": 74,
   "id": "821b5ea3",
   "metadata": {},
   "outputs": [
    {
     "name": "stdout",
     "output_type": "stream",
     "text": [
      "Run Time : 219.703125\n"
     ]
    }
   ],
   "source": [
    "end4 = time.process_time()\n",
    "time4 = end4 - start4\n",
    "print('Run Time :', time4)"
   ]
  },
  {
   "cell_type": "code",
   "execution_count": 75,
   "id": "289350ed",
   "metadata": {},
   "outputs": [],
   "source": [
    "svc_1vsrest_accuracy = metrics.accuracy_score(y_test, y_pred_svc)\n",
    "svc_1vsrest_f1_score = metrics.f1_score(y_pred_svc, y_test, average='weighted')\n",
    "svc_1vsrest_jaccards = metrics.jaccard_score(y_test, y_pred_svc, average='weighted')\n",
    "svc_1vsrest_recallsc = metrics.recall_score(y_test, y_pred_svc, average='weighted')\n",
    "svc_1vsrest_precison = metrics.precision_score(y_test, y_pred_svc, average='weighted')"
   ]
  },
  {
   "cell_type": "code",
   "execution_count": 76,
   "id": "51603d95",
   "metadata": {},
   "outputs": [
    {
     "data": {
      "text/html": [
       "<style  type=\"text/css\" >\n",
       "#T_33f77_row0_col0,#T_33f77_row0_col1,#T_33f77_row0_col2,#T_33f77_row0_col3,#T_33f77_row0_col4,#T_33f77_row0_col5{\n",
       "            background-color:  lemonchiffon;\n",
       "            color:  green;\n",
       "        }</style><table id=\"T_33f77_\" ><thead>    <tr>        <th class=\"blank level0\" ></th>        <th class=\"col_heading level0 col0\" >Accuracy</th>        <th class=\"col_heading level0 col1\" >F1</th>        <th class=\"col_heading level0 col2\" >Jaccard</th>        <th class=\"col_heading level0 col3\" >Recall</th>        <th class=\"col_heading level0 col4\" >Precision</th>        <th class=\"col_heading level0 col5\" >Run Time</th>    </tr></thead><tbody>\n",
       "                <tr>\n",
       "                        <th id=\"T_33f77_level0_row0\" class=\"row_heading level0 row0\" >LinearSVC_1VsRestClass</th>\n",
       "                        <td id=\"T_33f77_row0_col0\" class=\"data row0 col0\" >0.039281</td>\n",
       "                        <td id=\"T_33f77_row0_col1\" class=\"data row0 col1\" >0.554768</td>\n",
       "                        <td id=\"T_33f77_row0_col2\" class=\"data row0 col2\" >0.198556</td>\n",
       "                        <td id=\"T_33f77_row0_col3\" class=\"data row0 col3\" >0.221187</td>\n",
       "                        <td id=\"T_33f77_row0_col4\" class=\"data row0 col4\" >0.447989</td>\n",
       "                        <td id=\"T_33f77_row0_col5\" class=\"data row0 col5\" >219.703125</td>\n",
       "            </tr>\n",
       "    </tbody></table>"
      ],
      "text/plain": [
       "<pandas.io.formats.style.Styler at 0x1ded1a30790>"
      ]
     },
     "execution_count": 76,
     "metadata": {},
     "output_type": "execute_result"
    }
   ],
   "source": [
    "metrics_svc_1vsrclass = metric_model('LinearSVC_1VsRestClass', y_test, y_pred_svc, time4)\n",
    "metrics_svc_1vsrclass.style.set_properties(**{'background-color': 'lemonchiffon','color': 'green'})"
   ]
  },
  {
   "cell_type": "markdown",
   "id": "1deff125",
   "metadata": {},
   "source": [
    "#### Confrontation des métriques des modèles avec la méthode One VS Rest Classifier :"
   ]
  },
  {
   "cell_type": "code",
   "execution_count": 77,
   "id": "f9a06b73",
   "metadata": {},
   "outputs": [
    {
     "data": {
      "text/html": [
       "<style  type=\"text/css\" >\n",
       "#T_1915a_row0_col0,#T_1915a_row0_col2,#T_1915a_row0_col3,#T_1915a_row0_col4,#T_1915a_row0_col5,#T_1915a_row1_col0,#T_1915a_row1_col1,#T_1915a_row1_col2,#T_1915a_row1_col3,#T_1915a_row1_col4,#T_1915a_row2_col1,#T_1915a_row2_col4,#T_1915a_row3_col0,#T_1915a_row3_col2,#T_1915a_row3_col5,#T_1915a_row4_col1,#T_1915a_row4_col3,#T_1915a_row4_col5{\n",
       "            background-color:  lemonchiffon;\n",
       "            color:  green;\n",
       "        }#T_1915a_row0_col1,#T_1915a_row1_col5,#T_1915a_row3_col3,#T_1915a_row4_col0,#T_1915a_row4_col2,#T_1915a_row4_col4{\n",
       "            background-color:  lemonchiffon;\n",
       "            color:  green;\n",
       "            background-color:  lavenderblush;\n",
       "        }#T_1915a_row2_col0,#T_1915a_row2_col2,#T_1915a_row2_col3,#T_1915a_row2_col5,#T_1915a_row3_col1,#T_1915a_row3_col4{\n",
       "            background-color:  lemonchiffon;\n",
       "            color:  green;\n",
       "            background-color:  aliceblue;\n",
       "        }</style><table id=\"T_1915a_\" ><thead>    <tr>        <th class=\"blank level0\" ></th>        <th class=\"col_heading level0 col0\" >Accuracy</th>        <th class=\"col_heading level0 col1\" >F1</th>        <th class=\"col_heading level0 col2\" >Jaccard</th>        <th class=\"col_heading level0 col3\" >Recall</th>        <th class=\"col_heading level0 col4\" >Precision</th>        <th class=\"col_heading level0 col5\" >Run Time</th>    </tr></thead><tbody>\n",
       "                <tr>\n",
       "                        <th id=\"T_1915a_level0_row0\" class=\"row_heading level0 row0\" >SGDClass_1VsRestClass</th>\n",
       "                        <td id=\"T_1915a_row0_col0\" class=\"data row0 col0\" >0.024295</td>\n",
       "                        <td id=\"T_1915a_row0_col1\" class=\"data row0 col1\" >0.580079</td>\n",
       "                        <td id=\"T_1915a_row0_col2\" class=\"data row0 col2\" >0.146756</td>\n",
       "                        <td id=\"T_1915a_row0_col3\" class=\"data row0 col3\" >0.158874</td>\n",
       "                        <td id=\"T_1915a_row0_col4\" class=\"data row0 col4\" >0.340688</td>\n",
       "                        <td id=\"T_1915a_row0_col5\" class=\"data row0 col5\" >127.843750</td>\n",
       "            </tr>\n",
       "            <tr>\n",
       "                        <th id=\"T_1915a_level0_row1\" class=\"row_heading level0 row1\" >LogisticReg_1VsRestClass</th>\n",
       "                        <td id=\"T_1915a_row1_col0\" class=\"data row1 col0\" >0.026994</td>\n",
       "                        <td id=\"T_1915a_row1_col1\" class=\"data row1 col1\" >0.519371</td>\n",
       "                        <td id=\"T_1915a_row1_col2\" class=\"data row1 col2\" >0.151626</td>\n",
       "                        <td id=\"T_1915a_row1_col3\" class=\"data row1 col3\" >0.163532</td>\n",
       "                        <td id=\"T_1915a_row1_col4\" class=\"data row1 col4\" >0.410137</td>\n",
       "                        <td id=\"T_1915a_row1_col5\" class=\"data row1 col5\" >387.828125</td>\n",
       "            </tr>\n",
       "            <tr>\n",
       "                        <th id=\"T_1915a_level0_row2\" class=\"row_heading level0 row2\" >MultinomialNB _1VsRestClass</th>\n",
       "                        <td id=\"T_1915a_row2_col0\" class=\"data row2 col0\" >0.008657</td>\n",
       "                        <td id=\"T_1915a_row2_col1\" class=\"data row2 col1\" >0.380516</td>\n",
       "                        <td id=\"T_1915a_row2_col2\" class=\"data row2 col2\" >0.057158</td>\n",
       "                        <td id=\"T_1915a_row2_col3\" class=\"data row2 col3\" >0.062486</td>\n",
       "                        <td id=\"T_1915a_row2_col4\" class=\"data row2 col4\" >0.294668</td>\n",
       "                        <td id=\"T_1915a_row2_col5\" class=\"data row2 col5\" >57.687500</td>\n",
       "            </tr>\n",
       "            <tr>\n",
       "                        <th id=\"T_1915a_level0_row3\" class=\"row_heading level0 row3\" >Perceptron_1VsRestClass</th>\n",
       "                        <td id=\"T_1915a_row3_col0\" class=\"data row3 col0\" >0.012752</td>\n",
       "                        <td id=\"T_1915a_row3_col1\" class=\"data row3 col1\" >0.222526</td>\n",
       "                        <td id=\"T_1915a_row3_col2\" class=\"data row3 col2\" >0.177246</td>\n",
       "                        <td id=\"T_1915a_row3_col3\" class=\"data row3 col3\" >0.270100</td>\n",
       "                        <td id=\"T_1915a_row3_col4\" class=\"data row3 col4\" >0.278960</td>\n",
       "                        <td id=\"T_1915a_row3_col5\" class=\"data row3 col5\" >140.234375</td>\n",
       "            </tr>\n",
       "            <tr>\n",
       "                        <th id=\"T_1915a_level0_row4\" class=\"row_heading level0 row4\" >LinearSVC_1VsRestClass</th>\n",
       "                        <td id=\"T_1915a_row4_col0\" class=\"data row4 col0\" >0.039281</td>\n",
       "                        <td id=\"T_1915a_row4_col1\" class=\"data row4 col1\" >0.554768</td>\n",
       "                        <td id=\"T_1915a_row4_col2\" class=\"data row4 col2\" >0.198556</td>\n",
       "                        <td id=\"T_1915a_row4_col3\" class=\"data row4 col3\" >0.221187</td>\n",
       "                        <td id=\"T_1915a_row4_col4\" class=\"data row4 col4\" >0.447989</td>\n",
       "                        <td id=\"T_1915a_row4_col5\" class=\"data row4 col5\" >219.703125</td>\n",
       "            </tr>\n",
       "    </tbody></table>"
      ],
      "text/plain": [
       "<pandas.io.formats.style.Styler at 0x1ded1a19d30>"
      ]
     },
     "execution_count": 77,
     "metadata": {},
     "output_type": "execute_result"
    }
   ],
   "source": [
    " frames = [metrics_sgd_1vsrclass, metrics_lr_1vsrclass, metrics_mn_1vsrclass, metrics_per_1vsrclass, metrics_svc_1vsrclass]\n",
    "tab_metrics_1vsrclass = pd.concat(frames)\n",
    "tab_metrics_1vsrclass.style.set_properties(**{'background-color': 'lemonchiffon','color': 'green'}).highlight_min(axis=0, color='aliceblue').highlight_max(axis=0, color='lavenderblush')"
   ]
  },
  {
   "cell_type": "markdown",
   "id": "cb483aa4",
   "metadata": {},
   "source": [
    "#### Sélection du meilleur modèle et optimisation par Grid Search du meilleur modèle :"
   ]
  },
  {
   "cell_type": "code",
   "execution_count": 106,
   "id": "a3fbcb0a",
   "metadata": {},
   "outputs": [
    {
     "data": {
      "text/plain": [
       "{'estimator__C': 1.0,\n",
       " 'estimator__class_weight': None,\n",
       " 'estimator__dual': True,\n",
       " 'estimator__fit_intercept': True,\n",
       " 'estimator__intercept_scaling': 1,\n",
       " 'estimator__loss': 'squared_hinge',\n",
       " 'estimator__max_iter': 1000,\n",
       " 'estimator__multi_class': 'ovr',\n",
       " 'estimator__penalty': 'l2',\n",
       " 'estimator__random_state': None,\n",
       " 'estimator__tol': 0.0001,\n",
       " 'estimator__verbose': 0,\n",
       " 'estimator': LinearSVC(),\n",
       " 'n_jobs': None}"
      ]
     },
     "execution_count": 106,
     "metadata": {},
     "output_type": "execute_result"
    }
   ],
   "source": [
    "svc.get_params()"
   ]
  },
  {
   "cell_type": "code",
   "execution_count": 77,
   "id": "0160d276",
   "metadata": {},
   "outputs": [],
   "source": [
    "#param_grid = {'estimator__C':[0.1,0.5,1,1.5,2,10,50]}"
   ]
  },
  {
   "cell_type": "code",
   "execution_count": 114,
   "id": "f85c3717",
   "metadata": {},
   "outputs": [],
   "source": [
    "param_grid = {'estimator__C':[1,2,4,8]}#, 'estimator__penalty':[1, 6, 12], 'estimator__max_iter':[500, 1000]}"
   ]
  },
  {
   "cell_type": "code",
   "execution_count": 115,
   "id": "8612f396",
   "metadata": {},
   "outputs": [],
   "source": [
    "svc = OneVsRestClassifier(LinearSVC())\n",
    "CV_svc = model_selection.GridSearchCV(estimator=svc, param_grid=param_grid, cv= 3, verbose=10,\n",
    "                                      scoring=metrics.precision_score)"
   ]
  },
  {
   "cell_type": "code",
   "execution_count": 116,
   "id": "736b7fe7",
   "metadata": {},
   "outputs": [
    {
     "name": "stdout",
     "output_type": "stream",
     "text": [
      "Fitting 3 folds for each of 4 candidates, totalling 12 fits\n",
      "[CV 1/3; 1/4] START estimator__C=1..............................................\n",
      "[CV 1/3; 1/4] END ............................estimator__C=1; total time= 1.7min\n",
      "[CV 2/3; 1/4] START estimator__C=1..............................................\n",
      "[CV 2/3; 1/4] END ............................estimator__C=1; total time= 1.7min\n",
      "[CV 3/3; 1/4] START estimator__C=1..............................................\n",
      "[CV 3/3; 1/4] END ............................estimator__C=1; total time= 1.7min\n",
      "[CV 1/3; 2/4] START estimator__C=2..............................................\n",
      "[CV 1/3; 2/4] END ............................estimator__C=2; total time= 1.8min\n",
      "[CV 2/3; 2/4] START estimator__C=2..............................................\n",
      "[CV 2/3; 2/4] END ............................estimator__C=2; total time= 1.7min\n",
      "[CV 3/3; 2/4] START estimator__C=2..............................................\n",
      "[CV 3/3; 2/4] END ............................estimator__C=2; total time= 1.7min\n",
      "[CV 1/3; 3/4] START estimator__C=4..............................................\n",
      "[CV 1/3; 3/4] END ............................estimator__C=4; total time= 1.8min\n",
      "[CV 2/3; 3/4] START estimator__C=4..............................................\n",
      "[CV 2/3; 3/4] END ............................estimator__C=4; total time= 1.9min\n",
      "[CV 3/3; 3/4] START estimator__C=4..............................................\n",
      "[CV 3/3; 3/4] END ............................estimator__C=4; total time= 1.8min\n",
      "[CV 1/3; 4/4] START estimator__C=8..............................................\n",
      "[CV 1/3; 4/4] END ............................estimator__C=8; total time= 1.9min\n",
      "[CV 2/3; 4/4] START estimator__C=8..............................................\n",
      "[CV 2/3; 4/4] END ............................estimator__C=8; total time= 1.9min\n",
      "[CV 3/3; 4/4] START estimator__C=8..............................................\n",
      "[CV 3/3; 4/4] END ............................estimator__C=8; total time= 1.9min\n"
     ]
    },
    {
     "data": {
      "text/plain": [
       "GridSearchCV(cv=3, estimator=OneVsRestClassifier(estimator=LinearSVC()),\n",
       "             param_grid={'estimator__C': [1, 2, 4, 8]},\n",
       "             scoring=<function precision_score at 0x000001DE80A46AF0>,\n",
       "             verbose=10)"
      ]
     },
     "execution_count": 116,
     "metadata": {},
     "output_type": "execute_result"
    }
   ],
   "source": [
    "CV_svc.fit(X_train, y_train)"
   ]
  },
  {
   "cell_type": "code",
   "execution_count": 117,
   "id": "e17de932",
   "metadata": {},
   "outputs": [
    {
     "data": {
      "text/plain": [
       "{'estimator__C': 1}"
      ]
     },
     "execution_count": 117,
     "metadata": {},
     "output_type": "execute_result"
    }
   ],
   "source": [
    "CV_svc.best_params_"
   ]
  },
  {
   "cell_type": "code",
   "execution_count": 118,
   "id": "3052130b",
   "metadata": {},
   "outputs": [],
   "source": [
    "best_model = CV_svc.best_estimator_"
   ]
  },
  {
   "cell_type": "code",
   "execution_count": 119,
   "id": "ecf7461b",
   "metadata": {},
   "outputs": [],
   "source": [
    "startbest = time.process_time()"
   ]
  },
  {
   "cell_type": "code",
   "execution_count": 120,
   "id": "07a2d4ec",
   "metadata": {},
   "outputs": [],
   "source": [
    "y_pred_svc_bestmodel = best_model.predict(X_test)"
   ]
  },
  {
   "cell_type": "code",
   "execution_count": 121,
   "id": "d9b58d95",
   "metadata": {},
   "outputs": [
    {
     "name": "stdout",
     "output_type": "stream",
     "text": [
      "Run Time : 3.6875\n"
     ]
    }
   ],
   "source": [
    "endbest = time.process_time()\n",
    "timebest = endbest - startbest\n",
    "print('Run Time :', timebest)"
   ]
  },
  {
   "cell_type": "code",
   "execution_count": 122,
   "id": "d7505201",
   "metadata": {},
   "outputs": [
    {
     "data": {
      "text/plain": [
       "0.07682426205702476"
      ]
     },
     "execution_count": 122,
     "metadata": {},
     "output_type": "execute_result"
    }
   ],
   "source": [
    "best_model.score(X,y)"
   ]
  },
  {
   "cell_type": "code",
   "execution_count": 123,
   "id": "9ad39e2a",
   "metadata": {},
   "outputs": [
    {
     "data": {
      "text/plain": [
       "array([[-1.2093815 , -1.21154628, -1.23664925, ..., -1.17377626,\n",
       "        -1.2418049 , -1.34827764],\n",
       "       [-1.31612034, -1.17482826, -1.28238113, ..., -1.16425969,\n",
       "        -1.15397032, -1.22166079],\n",
       "       [-1.32222016, -1.20977507, -1.18373869, ..., -1.2063258 ,\n",
       "        -1.31281915, -1.46396078],\n",
       "       ...,\n",
       "       [-1.32028164, -1.23615263, -1.22145302, ..., -1.17480929,\n",
       "        -1.3001923 , -1.12793875],\n",
       "       [-1.12041398, -1.16953886, -1.19961526, ..., -1.19741267,\n",
       "        -1.25296636, -1.41242769],\n",
       "       [-1.29801602, -1.21349384, -1.2510308 , ..., -1.2064911 ,\n",
       "        -1.12668485, -1.07487685]])"
      ]
     },
     "execution_count": 123,
     "metadata": {},
     "output_type": "execute_result"
    }
   ],
   "source": [
    "best_model.decision_function(X)"
   ]
  },
  {
   "cell_type": "code",
   "execution_count": 142,
   "id": "c7bada9f",
   "metadata": {},
   "outputs": [
    {
     "data": {
      "text/html": [
       "<style  type=\"text/css\" >\n",
       "#T_20854_row0_col0,#T_20854_row0_col1,#T_20854_row0_col2,#T_20854_row0_col3,#T_20854_row0_col4,#T_20854_row0_col5{\n",
       "            background-color:  lemonchiffon;\n",
       "            color:  green;\n",
       "        }</style><table id=\"T_20854_\" ><thead>    <tr>        <th class=\"blank level0\" ></th>        <th class=\"col_heading level0 col0\" >Accuracy</th>        <th class=\"col_heading level0 col1\" >F1</th>        <th class=\"col_heading level0 col2\" >Jaccard</th>        <th class=\"col_heading level0 col3\" >Recall</th>        <th class=\"col_heading level0 col4\" >Precision</th>        <th class=\"col_heading level0 col5\" >Run Time</th>    </tr></thead><tbody>\n",
       "                <tr>\n",
       "                        <th id=\"T_20854_level0_row0\" class=\"row_heading level0 row0\" >LinearSVC_1VsRestClass_opt</th>\n",
       "                        <td id=\"T_20854_row0_col0\" class=\"data row0 col0\" >0.039281</td>\n",
       "                        <td id=\"T_20854_row0_col1\" class=\"data row0 col1\" >0.554768</td>\n",
       "                        <td id=\"T_20854_row0_col2\" class=\"data row0 col2\" >0.198556</td>\n",
       "                        <td id=\"T_20854_row0_col3\" class=\"data row0 col3\" >0.221187</td>\n",
       "                        <td id=\"T_20854_row0_col4\" class=\"data row0 col4\" >0.447989</td>\n",
       "                        <td id=\"T_20854_row0_col5\" class=\"data row0 col5\" >3.687500</td>\n",
       "            </tr>\n",
       "    </tbody></table>"
      ],
      "text/plain": [
       "<pandas.io.formats.style.Styler at 0x1ded1c58a90>"
      ]
     },
     "execution_count": 142,
     "metadata": {},
     "output_type": "execute_result"
    }
   ],
   "source": [
    "metrics_svc_bestmodel = metric_model('LinearSVC_1VsRestClass_opt', y_test, y_pred_svc_bestmodel, timebest)\n",
    "metrics_svc_bestmodel.style.set_properties(**{'background-color': 'lemonchiffon','color': 'green'})"
   ]
  },
  {
   "cell_type": "code",
   "execution_count": null,
   "id": "15084236",
   "metadata": {},
   "outputs": [],
   "source": [
    "#param_grid1 = {'estimator__C':[1,2,4,8], 'estimator__max_iter':[500, 1000]}"
   ]
  },
  {
   "cell_type": "code",
   "execution_count": 28,
   "id": "34bff480",
   "metadata": {},
   "outputs": [],
   "source": [
    "param_grid1 = {'estimator__C':[1,2], 'estimator__max_iter':[100, 500]}"
   ]
  },
  {
   "cell_type": "code",
   "execution_count": 29,
   "id": "4f13e06e",
   "metadata": {},
   "outputs": [],
   "source": [
    "svc = OneVsRestClassifier(LinearSVC())\n",
    "CV_svc1 = model_selection.GridSearchCV(estimator=svc, param_grid=param_grid1, cv= 3, verbose=10,\n",
    "                                      scoring=metrics.precision_score)"
   ]
  },
  {
   "cell_type": "code",
   "execution_count": 30,
   "id": "2a310def",
   "metadata": {},
   "outputs": [
    {
     "name": "stdout",
     "output_type": "stream",
     "text": [
      "Fitting 3 folds for each of 4 candidates, totalling 12 fits\n",
      "[CV 1/3; 1/4] START estimator__C=1, estimator__max_iter=100.....................\n",
      "[CV 1/3; 1/4] END estimator__C=1, estimator__max_iter=100;, score=nan total time= 1.7min\n",
      "[CV 2/3; 1/4] START estimator__C=1, estimator__max_iter=100.....................\n",
      "[CV 2/3; 1/4] END estimator__C=1, estimator__max_iter=100;, score=nan total time= 1.8min\n",
      "[CV 3/3; 1/4] START estimator__C=1, estimator__max_iter=100.....................\n",
      "[CV 3/3; 1/4] END estimator__C=1, estimator__max_iter=100;, score=nan total time= 1.9min\n",
      "[CV 1/3; 2/4] START estimator__C=1, estimator__max_iter=500.....................\n",
      "[CV 1/3; 2/4] END estimator__C=1, estimator__max_iter=500;, score=nan total time= 1.8min\n",
      "[CV 2/3; 2/4] START estimator__C=1, estimator__max_iter=500.....................\n",
      "[CV 2/3; 2/4] END estimator__C=1, estimator__max_iter=500;, score=nan total time= 1.9min\n",
      "[CV 3/3; 2/4] START estimator__C=1, estimator__max_iter=500.....................\n",
      "[CV 3/3; 2/4] END estimator__C=1, estimator__max_iter=500;, score=nan total time= 1.8min\n",
      "[CV 1/3; 3/4] START estimator__C=2, estimator__max_iter=100.....................\n",
      "[CV 1/3; 3/4] END estimator__C=2, estimator__max_iter=100;, score=nan total time= 2.1min\n",
      "[CV 2/3; 3/4] START estimator__C=2, estimator__max_iter=100.....................\n",
      "[CV 2/3; 3/4] END estimator__C=2, estimator__max_iter=100;, score=nan total time= 2.0min\n",
      "[CV 3/3; 3/4] START estimator__C=2, estimator__max_iter=100.....................\n",
      "[CV 3/3; 3/4] END estimator__C=2, estimator__max_iter=100;, score=nan total time= 1.9min\n",
      "[CV 1/3; 4/4] START estimator__C=2, estimator__max_iter=500.....................\n",
      "[CV 1/3; 4/4] END estimator__C=2, estimator__max_iter=500;, score=nan total time= 1.9min\n",
      "[CV 2/3; 4/4] START estimator__C=2, estimator__max_iter=500.....................\n",
      "[CV 2/3; 4/4] END estimator__C=2, estimator__max_iter=500;, score=nan total time= 1.9min\n",
      "[CV 3/3; 4/4] START estimator__C=2, estimator__max_iter=500.....................\n",
      "[CV 3/3; 4/4] END estimator__C=2, estimator__max_iter=500;, score=nan total time= 1.9min\n"
     ]
    },
    {
     "data": {
      "text/plain": [
       "GridSearchCV(cv=3, estimator=OneVsRestClassifier(estimator=LinearSVC()),\n",
       "             param_grid={'estimator__C': [1, 2],\n",
       "                         'estimator__max_iter': [100, 500]},\n",
       "             scoring=<function precision_score at 0x000001F56B376820>,\n",
       "             verbose=10)"
      ]
     },
     "execution_count": 30,
     "metadata": {},
     "output_type": "execute_result"
    }
   ],
   "source": [
    "CV_svc1.fit(X_train, y_train)"
   ]
  },
  {
   "cell_type": "code",
   "execution_count": 31,
   "id": "da07bd08",
   "metadata": {},
   "outputs": [
    {
     "data": {
      "text/plain": [
       "{'estimator__C': 1, 'estimator__max_iter': 100}"
      ]
     },
     "execution_count": 31,
     "metadata": {},
     "output_type": "execute_result"
    }
   ],
   "source": [
    "CV_svc1.best_params_"
   ]
  },
  {
   "cell_type": "code",
   "execution_count": 32,
   "id": "ed2e1151",
   "metadata": {},
   "outputs": [],
   "source": [
    "best_model1 = CV_svc1.best_estimator_"
   ]
  },
  {
   "cell_type": "code",
   "execution_count": 33,
   "id": "4d764863",
   "metadata": {},
   "outputs": [],
   "source": [
    "startbest1 = time.process_time()"
   ]
  },
  {
   "cell_type": "code",
   "execution_count": 34,
   "id": "ca7e674d",
   "metadata": {},
   "outputs": [],
   "source": [
    "y_pred_svc_bestmodel1 = best_model1.predict(X_test)"
   ]
  },
  {
   "cell_type": "code",
   "execution_count": 35,
   "id": "444cffb4",
   "metadata": {},
   "outputs": [
    {
     "name": "stdout",
     "output_type": "stream",
     "text": [
      "Run Time : 3.8125\n"
     ]
    }
   ],
   "source": [
    "endbest1 = time.process_time()\n",
    "timebest1 = endbest1 - startbest1\n",
    "print('Run Time :', timebest1)"
   ]
  },
  {
   "cell_type": "code",
   "execution_count": 36,
   "id": "fe5445d6",
   "metadata": {},
   "outputs": [
    {
     "data": {
      "text/plain": [
       "0.07682426205702476"
      ]
     },
     "execution_count": 36,
     "metadata": {},
     "output_type": "execute_result"
    }
   ],
   "source": [
    "best_model1.score(X,y)"
   ]
  },
  {
   "cell_type": "code",
   "execution_count": 37,
   "id": "b9cc3e0f",
   "metadata": {},
   "outputs": [
    {
     "data": {
      "text/plain": [
       "array([[-1.20938754, -1.21155055, -1.23665018, ..., -1.17375996,\n",
       "        -1.24180688, -1.34828132],\n",
       "       [-1.31612488, -1.17483333, -1.2823828 , ..., -1.16424308,\n",
       "        -1.15397642, -1.22166388],\n",
       "       [-1.32222661, -1.20977696, -1.18374115, ..., -1.20630973,\n",
       "        -1.31282227, -1.46396201],\n",
       "       ...,\n",
       "       [-1.32028534, -1.23615612, -1.22145889, ..., -1.17479254,\n",
       "        -1.30019592, -1.12794274],\n",
       "       [-1.12042272, -1.169542  , -1.19961595, ..., -1.19739678,\n",
       "        -1.25296938, -1.41243265],\n",
       "       [-1.29801943, -1.21349877, -1.25103369, ..., -1.20647633,\n",
       "        -1.12668675, -1.07487875]])"
      ]
     },
     "execution_count": 37,
     "metadata": {},
     "output_type": "execute_result"
    }
   ],
   "source": [
    "best_model1.decision_function(X)"
   ]
  },
  {
   "cell_type": "code",
   "execution_count": 135,
   "id": "a058d111",
   "metadata": {},
   "outputs": [
    {
     "data": {
      "text/html": [
       "<style  type=\"text/css\" >\n",
       "#T_a96c6_row0_col0,#T_a96c6_row0_col1,#T_a96c6_row0_col2,#T_a96c6_row0_col3,#T_a96c6_row0_col4,#T_a96c6_row0_col5{\n",
       "            background-color:  lemonchiffon;\n",
       "            color:  green;\n",
       "        }</style><table id=\"T_a96c6_\" ><thead>    <tr>        <th class=\"blank level0\" ></th>        <th class=\"col_heading level0 col0\" >Accuracy</th>        <th class=\"col_heading level0 col1\" >F1</th>        <th class=\"col_heading level0 col2\" >Jaccard</th>        <th class=\"col_heading level0 col3\" >Recall</th>        <th class=\"col_heading level0 col4\" >Precision</th>        <th class=\"col_heading level0 col5\" >Run Time</th>    </tr></thead><tbody>\n",
       "                <tr>\n",
       "                        <th id=\"T_a96c6_level0_row0\" class=\"row_heading level0 row0\" >LinearSVC_1VsRestClass</th>\n",
       "                        <td id=\"T_a96c6_row0_col0\" class=\"data row0 col0\" >0.039281</td>\n",
       "                        <td id=\"T_a96c6_row0_col1\" class=\"data row0 col1\" >0.554768</td>\n",
       "                        <td id=\"T_a96c6_row0_col2\" class=\"data row0 col2\" >0.198556</td>\n",
       "                        <td id=\"T_a96c6_row0_col3\" class=\"data row0 col3\" >0.221187</td>\n",
       "                        <td id=\"T_a96c6_row0_col4\" class=\"data row0 col4\" >0.447989</td>\n",
       "                        <td id=\"T_a96c6_row0_col5\" class=\"data row0 col5\" >3.765625</td>\n",
       "            </tr>\n",
       "    </tbody></table>"
      ],
      "text/plain": [
       "<pandas.io.formats.style.Styler at 0x1ded1d73820>"
      ]
     },
     "execution_count": 135,
     "metadata": {},
     "output_type": "execute_result"
    }
   ],
   "source": [
    "metrics_svc_bestmodel1 = metric_model('LinearSVC_1VsRestClass', y_test, y_pred_svc_bestmodel1, timebest1)\n",
    "metrics_svc_bestmodel1.style.set_properties(**{'background-color': 'lemonchiffon','color': 'green'})"
   ]
  },
  {
   "cell_type": "markdown",
   "id": "69141c3c",
   "metadata": {},
   "source": [
    "#### Export du meilleur modèle optimisé et des préprocessings :"
   ]
  },
  {
   "cell_type": "code",
   "execution_count": 136,
   "id": "ef8e0013",
   "metadata": {},
   "outputs": [
    {
     "data": {
      "text/plain": [
       "['best_model.pkl']"
      ]
     },
     "execution_count": 136,
     "metadata": {},
     "output_type": "execute_result"
    }
   ],
   "source": [
    "joblib.dump(best_model,'best_model.pkl')  "
   ]
  },
  {
   "cell_type": "code",
   "execution_count": 137,
   "id": "c0a62f69",
   "metadata": {},
   "outputs": [
    {
     "data": {
      "text/plain": [
       "['tfidf_vectorizer.pkl']"
      ]
     },
     "execution_count": 137,
     "metadata": {},
     "output_type": "execute_result"
    }
   ],
   "source": [
    "joblib.dump(vectorizer,'tfidf_vectorizer.pkl')"
   ]
  },
  {
   "cell_type": "code",
   "execution_count": 138,
   "id": "fb9365fa",
   "metadata": {},
   "outputs": [
    {
     "data": {
      "text/plain": [
       "['multilabel_binarizer.pkl']"
      ]
     },
     "execution_count": 138,
     "metadata": {},
     "output_type": "execute_result"
    }
   ],
   "source": [
    "joblib.dump(mlb,'multilabel_binarizer.pkl')"
   ]
  },
  {
   "cell_type": "markdown",
   "id": "a2d2f259",
   "metadata": {},
   "source": [
    "#### Méthode Classifier Chain:"
   ]
  },
  {
   "cell_type": "markdown",
   "id": "89663999",
   "metadata": {},
   "source": [
    "##### Modèle  Multinomial NB avec la méthode Classifier Chain :"
   ]
  },
  {
   "cell_type": "code",
   "execution_count": 89,
   "id": "e32430ab",
   "metadata": {},
   "outputs": [
    {
     "data": {
      "text/plain": [
       "\"\\nchnmn = ClassifierChain(mn, order='random', random_state=0, cv = 100)\\nchnmn.fit(X_train, y_train)\\ny_pred_chnmn = chnmn.predict(X_test)\\n\""
      ]
     },
     "execution_count": 89,
     "metadata": {},
     "output_type": "execute_result"
    }
   ],
   "source": [
    "\"\"\"\n",
    "chnmn = ClassifierChain(mn, order='random', random_state=0, cv = 100)\n",
    "chnmn.fit(X_train, y_train)\n",
    "y_pred_chnmn = chnmn.predict(X_test)\n",
    "\"\"\""
   ]
  },
  {
   "cell_type": "code",
   "execution_count": 120,
   "id": "79a9e42d",
   "metadata": {},
   "outputs": [
    {
     "data": {
      "text/plain": [
       "\"\\nmn_chn_accuracy = metrics.accuracy_score(y_test, y_pred_chnmn)\\nmn_chn_f1_score = metrics.f1_score(y_pred_chnmn, y_test, average='weighted')\\nmn_chn_jaccards = metrics.jaccard_score(y_test, y_pred_chnmn, average='weighted')\\nmn_chn_recallsc = metrics.recall_score(y_test, y_pred_chnmn, average='weighted')\\nmn_chn_precison = metrics.precision_score(y_test, y_pred_chnmn, average='weighted')\\nmetrics_mn_chn = metric_model('MultinomialNB_ClassChain', y_test, y_pred_chnmn)\\nmetrics_mn_chn.style.set_properties(**{'background-color': 'lemonchiffon','color': 'green'})\\n\""
      ]
     },
     "execution_count": 120,
     "metadata": {},
     "output_type": "execute_result"
    }
   ],
   "source": [
    "\"\"\"\n",
    "mn_chn_accuracy = metrics.accuracy_score(y_test, y_pred_chnmn)\n",
    "mn_chn_f1_score = metrics.f1_score(y_pred_chnmn, y_test, average='weighted')\n",
    "mn_chn_jaccards = metrics.jaccard_score(y_test, y_pred_chnmn, average='weighted')\n",
    "mn_chn_recallsc = metrics.recall_score(y_test, y_pred_chnmn, average='weighted')\n",
    "mn_chn_precison = metrics.precision_score(y_test, y_pred_chnmn, average='weighted')\n",
    "metrics_mn_chn = metric_model('MultinomialNB_ClassChain', y_test, y_pred_chnmn)\n",
    "metrics_mn_chn.style.set_properties(**{'background-color': 'lemonchiffon','color': 'green'})\n",
    "\"\"\""
   ]
  },
  {
   "cell_type": "markdown",
   "id": "792b863a",
   "metadata": {},
   "source": [
    "##### Modèle  Complement NB avec la méthode Classifier Chain :"
   ]
  },
  {
   "cell_type": "code",
   "execution_count": 121,
   "id": "3f2c619d",
   "metadata": {},
   "outputs": [
    {
     "data": {
      "text/plain": [
       "\"\\nchncmp = ClassifierChain(cmp, order='random', random_state=0)\\nchncmp.fit(X_train, y_train)\\ny_pred_chncmp = chncmp.predict(X_test)\\n\""
      ]
     },
     "execution_count": 121,
     "metadata": {},
     "output_type": "execute_result"
    }
   ],
   "source": [
    "\"\"\"\n",
    "chncmp = ClassifierChain(cmp, order='random', random_state=0)\n",
    "chncmp.fit(X_train, y_train)\n",
    "y_pred_chncmp = chncmp.predict(X_test)\n",
    "\"\"\""
   ]
  },
  {
   "cell_type": "code",
   "execution_count": 122,
   "id": "8e070603",
   "metadata": {},
   "outputs": [
    {
     "data": {
      "text/plain": [
       "\"\\ncmp_chn_accuracy = metrics.accuracy_score(y_test, y_pred_chncmp)\\ncmp_chn_f1_score = metrics.f1_score(y_pred_chncmp, y_test, average='weighted')\\ncmp_chn_jaccards = metrics.jaccard_score(y_test, y_pred_chncmp, average='weighted')\\ncmp_chn_recallsc = metrics.recall_score(y_test, y_pred_chncmp, average='weighted')\\ncmp_chn_precison = metrics.precision_score(y_test, y_pred_chncmp, average='weighted')\\nmetrics_cmp_chn = metric_model('ComplementNB_ClassChain', y_test, y_pred_chncmp)\\nmetrics_cmp_chn.style.set_properties(**{'background-color': 'lemonchiffon','color': 'green'})\\n\""
      ]
     },
     "execution_count": 122,
     "metadata": {},
     "output_type": "execute_result"
    }
   ],
   "source": [
    "\"\"\"\n",
    "cmp_chn_accuracy = metrics.accuracy_score(y_test, y_pred_chncmp)\n",
    "cmp_chn_f1_score = metrics.f1_score(y_pred_chncmp, y_test, average='weighted')\n",
    "cmp_chn_jaccards = metrics.jaccard_score(y_test, y_pred_chncmp, average='weighted')\n",
    "cmp_chn_recallsc = metrics.recall_score(y_test, y_pred_chncmp, average='weighted')\n",
    "cmp_chn_precison = metrics.precision_score(y_test, y_pred_chncmp, average='weighted')\n",
    "metrics_cmp_chn = metric_model('ComplementNB_ClassChain', y_test, y_pred_chncmp)\n",
    "metrics_cmp_chn.style.set_properties(**{'background-color': 'lemonchiffon','color': 'green'})\n",
    "\"\"\""
   ]
  },
  {
   "cell_type": "markdown",
   "id": "b58c4e84",
   "metadata": {},
   "source": [
    "##### Modèle  Random Forest Classifier avec la méthode Classifier Chain :"
   ]
  },
  {
   "cell_type": "code",
   "execution_count": 123,
   "id": "36775b32",
   "metadata": {},
   "outputs": [
    {
     "data": {
      "text/plain": [
       "\"\\nchnrfc = ClassifierChain(rfc, order='random', random_state=0)\\nchnrfc.fit(X_train, y_train)\\ny_pred_chnrfc = chnrfc.predict(X_test)\\n\""
      ]
     },
     "execution_count": 123,
     "metadata": {},
     "output_type": "execute_result"
    }
   ],
   "source": [
    "\"\"\"\n",
    "chnrfc = ClassifierChain(rfc, order='random', random_state=0)\n",
    "chnrfc.fit(X_train, y_train)\n",
    "y_pred_chnrfc = chnrfc.predict(X_test)\n",
    "\"\"\""
   ]
  },
  {
   "cell_type": "code",
   "execution_count": 124,
   "id": "76ad57ea",
   "metadata": {},
   "outputs": [
    {
     "data": {
      "text/plain": [
       "\"\\nrfc_chn_accuracy = metrics.accuracy_score(y_test, y_pred_chnrfc)\\nrfc_chn_f1_score = metrics.f1_score(y_pred_chnrfc, y_test, average='weighted')\\nrfc_chn_jaccards = metrics.jaccard_score(y_test, y_pred_chnrfc, average='weighted')\\nrfc_chn_recallsc = metrics.recall_score(y_test, y_pred_chnrfc, average='weighted')\\nrfc_chn_precison = metrics.precision_score(y_test, y_pred_chnrfc, average='weighted')\\nmetrics_rfc_chn = metric_model('RandomForest_ClassChain', y_test, y_pred_chnrfc)\\nmetrics_rfc_chn.style.set_properties(**{'background-color': 'lemonchiffon','color': 'green'})\\n\""
      ]
     },
     "execution_count": 124,
     "metadata": {},
     "output_type": "execute_result"
    }
   ],
   "source": [
    "\"\"\"\n",
    "rfc_chn_accuracy = metrics.accuracy_score(y_test, y_pred_chnrfc)\n",
    "rfc_chn_f1_score = metrics.f1_score(y_pred_chnrfc, y_test, average='weighted')\n",
    "rfc_chn_jaccards = metrics.jaccard_score(y_test, y_pred_chnrfc, average='weighted')\n",
    "rfc_chn_recallsc = metrics.recall_score(y_test, y_pred_chnrfc, average='weighted')\n",
    "rfc_chn_precison = metrics.precision_score(y_test, y_pred_chnrfc, average='weighted')\n",
    "metrics_rfc_chn = metric_model('RandomForest_ClassChain', y_test, y_pred_chnrfc)\n",
    "metrics_rfc_chn.style.set_properties(**{'background-color': 'lemonchiffon','color': 'green'})\n",
    "\"\"\""
   ]
  },
  {
   "cell_type": "code",
   "execution_count": 125,
   "id": "25005248",
   "metadata": {},
   "outputs": [
    {
     "name": "stdout",
     "output_type": "stream",
     "text": [
      "Run Time : 9761.515625\n"
     ]
    }
   ],
   "source": [
    "end_dr1 = time.process_time()\n",
    "time_dr1 = end_dr1 - start_dr1\n",
    "print('Run Time :', time_dr1)"
   ]
  }
 ],
 "metadata": {
  "kernelspec": {
   "display_name": "Python 3 (ipykernel)",
   "language": "python",
   "name": "python3"
  },
  "language_info": {
   "codemirror_mode": {
    "name": "ipython",
    "version": 3
   },
   "file_extension": ".py",
   "mimetype": "text/x-python",
   "name": "python",
   "nbconvert_exporter": "python",
   "pygments_lexer": "ipython3",
   "version": "3.8.12"
  }
 },
 "nbformat": 4,
 "nbformat_minor": 5
}
